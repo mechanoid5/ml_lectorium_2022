{
 "cells": [
  {
   "cell_type": "markdown",
   "metadata": {},
   "source": [
    "**непараметрическая регрессия**\n",
    "\n",
    "_задача_: построить регрессию на данных климатических наблюдений"
   ]
  },
  {
   "cell_type": "markdown",
   "metadata": {},
   "source": [
    "## качаем данные"
   ]
  },
  {
   "cell_type": "code",
   "execution_count": 1,
   "metadata": {},
   "outputs": [],
   "source": [
    "# !wget -c https://s3.amazonaws.com/keras-datasets/jena_climate_2009_2016.csv.zip\n",
    "# !unzip -d jena_climate jena_climate_2009_2016.csv.zip "
   ]
  },
  {
   "cell_type": "markdown",
   "metadata": {},
   "source": [
    "## конвертируем данные"
   ]
  },
  {
   "cell_type": "code",
   "execution_count": 2,
   "metadata": {},
   "outputs": [
    {
     "name": "stdout",
     "output_type": "stream",
     "text": [
      "420451\n"
     ]
    }
   ],
   "source": [
    "import pandas as pd\n",
    "df = pd.read_csv('jena_climate/jena_climate_2009_2016.csv')\n",
    "print(len(df))"
   ]
  },
  {
   "cell_type": "code",
   "execution_count": 3,
   "metadata": {},
   "outputs": [
    {
     "name": "stdout",
     "output_type": "stream",
     "text": [
      "<class 'pandas.core.frame.DataFrame'>\n",
      "RangeIndex: 420451 entries, 0 to 420450\n",
      "Data columns (total 15 columns):\n",
      " #   Column           Non-Null Count   Dtype  \n",
      "---  ------           --------------   -----  \n",
      " 0   Date Time        420451 non-null  object \n",
      " 1   p (mbar)         420451 non-null  float64\n",
      " 2   T (degC)         420451 non-null  float64\n",
      " 3   Tpot (K)         420451 non-null  float64\n",
      " 4   Tdew (degC)      420451 non-null  float64\n",
      " 5   rh (%)           420451 non-null  float64\n",
      " 6   VPmax (mbar)     420451 non-null  float64\n",
      " 7   VPact (mbar)     420451 non-null  float64\n",
      " 8   VPdef (mbar)     420451 non-null  float64\n",
      " 9   sh (g/kg)        420451 non-null  float64\n",
      " 10  H2OC (mmol/mol)  420451 non-null  float64\n",
      " 11  rho (g/m**3)     420451 non-null  float64\n",
      " 12  wv (m/s)         420451 non-null  float64\n",
      " 13  max. wv (m/s)    420451 non-null  float64\n",
      " 14  wd (deg)         420451 non-null  float64\n",
      "dtypes: float64(14), object(1)\n",
      "memory usage: 48.1+ MB\n"
     ]
    }
   ],
   "source": [
    "df.info()"
   ]
  },
  {
   "cell_type": "code",
   "execution_count": 4,
   "metadata": {},
   "outputs": [],
   "source": [
    "# %%time\n",
    "\n",
    "# df['Date Time'] = pd.to_datetime(df['Date Time']) # конвертируем дату и время"
   ]
  },
  {
   "cell_type": "code",
   "execution_count": 5,
   "metadata": {},
   "outputs": [
    {
     "data": {
      "application/vnd.jupyter.widget-view+json": {
       "model_id": "c8f5f05ad3cd4e76a64972a7e904fc48",
       "version_major": 2,
       "version_minor": 0
      },
      "text/plain": [
       "  0%|          | 0/420451 [00:00<?, ?it/s]"
      ]
     },
     "metadata": {},
     "output_type": "display_data"
    }
   ],
   "source": [
    "from tqdm.notebook import tqdm\n",
    "tqdm.pandas()\n",
    "\n",
    "df['Date Time'] = df['Date Time'].progress_apply(pd.to_datetime) # конвертируем дату и время"
   ]
  },
  {
   "cell_type": "code",
   "execution_count": 6,
   "metadata": {},
   "outputs": [
    {
     "data": {
      "text/html": [
       "<div>\n",
       "<style scoped>\n",
       "    .dataframe tbody tr th:only-of-type {\n",
       "        vertical-align: middle;\n",
       "    }\n",
       "\n",
       "    .dataframe tbody tr th {\n",
       "        vertical-align: top;\n",
       "    }\n",
       "\n",
       "    .dataframe thead th {\n",
       "        text-align: right;\n",
       "    }\n",
       "</style>\n",
       "<table border=\"1\" class=\"dataframe\">\n",
       "  <thead>\n",
       "    <tr style=\"text-align: right;\">\n",
       "      <th></th>\n",
       "      <th>Date Time</th>\n",
       "      <th>p (mbar)</th>\n",
       "      <th>T (degC)</th>\n",
       "      <th>Tpot (K)</th>\n",
       "      <th>Tdew (degC)</th>\n",
       "      <th>rh (%)</th>\n",
       "      <th>VPmax (mbar)</th>\n",
       "      <th>VPact (mbar)</th>\n",
       "      <th>VPdef (mbar)</th>\n",
       "      <th>sh (g/kg)</th>\n",
       "      <th>H2OC (mmol/mol)</th>\n",
       "      <th>rho (g/m**3)</th>\n",
       "      <th>wv (m/s)</th>\n",
       "      <th>max. wv (m/s)</th>\n",
       "      <th>wd (deg)</th>\n",
       "    </tr>\n",
       "  </thead>\n",
       "  <tbody>\n",
       "    <tr>\n",
       "      <th>213586</th>\n",
       "      <td>2013-01-22 06:10:00</td>\n",
       "      <td>977.86</td>\n",
       "      <td>-7.65</td>\n",
       "      <td>267.22</td>\n",
       "      <td>-9.15</td>\n",
       "      <td>88.9</td>\n",
       "      <td>3.43</td>\n",
       "      <td>3.05</td>\n",
       "      <td>0.38</td>\n",
       "      <td>1.94</td>\n",
       "      <td>3.12</td>\n",
       "      <td>1281.48</td>\n",
       "      <td>2.07</td>\n",
       "      <td>2.96</td>\n",
       "      <td>41.02</td>\n",
       "    </tr>\n",
       "    <tr>\n",
       "      <th>187203</th>\n",
       "      <td>2012-07-23 01:00:00</td>\n",
       "      <td>1003.13</td>\n",
       "      <td>10.06</td>\n",
       "      <td>282.97</td>\n",
       "      <td>7.54</td>\n",
       "      <td>84.3</td>\n",
       "      <td>12.34</td>\n",
       "      <td>10.41</td>\n",
       "      <td>1.94</td>\n",
       "      <td>6.48</td>\n",
       "      <td>10.37</td>\n",
       "      <td>1229.01</td>\n",
       "      <td>0.16</td>\n",
       "      <td>0.36</td>\n",
       "      <td>339.50</td>\n",
       "    </tr>\n",
       "  </tbody>\n",
       "</table>\n",
       "</div>"
      ],
      "text/plain": [
       "                 Date Time  p (mbar)  T (degC)  Tpot (K)  Tdew (degC)  rh (%)  \\\n",
       "213586 2013-01-22 06:10:00    977.86     -7.65    267.22        -9.15    88.9   \n",
       "187203 2012-07-23 01:00:00   1003.13     10.06    282.97         7.54    84.3   \n",
       "\n",
       "        VPmax (mbar)  VPact (mbar)  VPdef (mbar)  sh (g/kg)  H2OC (mmol/mol)  \\\n",
       "213586          3.43          3.05          0.38       1.94             3.12   \n",
       "187203         12.34         10.41          1.94       6.48            10.37   \n",
       "\n",
       "        rho (g/m**3)  wv (m/s)  max. wv (m/s)  wd (deg)  \n",
       "213586       1281.48      2.07           2.96     41.02  \n",
       "187203       1229.01      0.16           0.36    339.50  "
      ]
     },
     "execution_count": 6,
     "metadata": {},
     "output_type": "execute_result"
    }
   ],
   "source": [
    "df.sample(2)"
   ]
  },
  {
   "cell_type": "code",
   "execution_count": 7,
   "metadata": {},
   "outputs": [
    {
     "data": {
      "text/html": [
       "<div>\n",
       "<style scoped>\n",
       "    .dataframe tbody tr th:only-of-type {\n",
       "        vertical-align: middle;\n",
       "    }\n",
       "\n",
       "    .dataframe tbody tr th {\n",
       "        vertical-align: top;\n",
       "    }\n",
       "\n",
       "    .dataframe thead th {\n",
       "        text-align: right;\n",
       "    }\n",
       "</style>\n",
       "<table border=\"1\" class=\"dataframe\">\n",
       "  <thead>\n",
       "    <tr style=\"text-align: right;\">\n",
       "      <th></th>\n",
       "      <th>mean</th>\n",
       "      <th>std</th>\n",
       "      <th>min</th>\n",
       "      <th>1%</th>\n",
       "      <th>10%</th>\n",
       "      <th>25%</th>\n",
       "      <th>50%</th>\n",
       "      <th>75%</th>\n",
       "      <th>95%</th>\n",
       "      <th>max</th>\n",
       "    </tr>\n",
       "  </thead>\n",
       "  <tbody>\n",
       "    <tr>\n",
       "      <th>p (mbar)</th>\n",
       "      <td>989.212508</td>\n",
       "      <td>8.359454</td>\n",
       "      <td>913.60</td>\n",
       "      <td>966.890</td>\n",
       "      <td>978.58</td>\n",
       "      <td>984.20</td>\n",
       "      <td>989.57</td>\n",
       "      <td>994.72</td>\n",
       "      <td>1002.49</td>\n",
       "      <td>1015.35</td>\n",
       "    </tr>\n",
       "    <tr>\n",
       "      <th>T (degC)</th>\n",
       "      <td>9.448567</td>\n",
       "      <td>8.423685</td>\n",
       "      <td>-23.01</td>\n",
       "      <td>-10.090</td>\n",
       "      <td>-1.27</td>\n",
       "      <td>3.36</td>\n",
       "      <td>9.41</td>\n",
       "      <td>15.47</td>\n",
       "      <td>23.15</td>\n",
       "      <td>37.28</td>\n",
       "    </tr>\n",
       "    <tr>\n",
       "      <th>Tpot (K)</th>\n",
       "      <td>283.491182</td>\n",
       "      <td>8.504820</td>\n",
       "      <td>250.60</td>\n",
       "      <td>263.520</td>\n",
       "      <td>272.67</td>\n",
       "      <td>277.43</td>\n",
       "      <td>283.46</td>\n",
       "      <td>289.53</td>\n",
       "      <td>297.26</td>\n",
       "      <td>311.34</td>\n",
       "    </tr>\n",
       "    <tr>\n",
       "      <th>Tdew (degC)</th>\n",
       "      <td>4.954011</td>\n",
       "      <td>6.730411</td>\n",
       "      <td>-25.01</td>\n",
       "      <td>-12.725</td>\n",
       "      <td>-3.58</td>\n",
       "      <td>0.24</td>\n",
       "      <td>5.21</td>\n",
       "      <td>10.07</td>\n",
       "      <td>15.14</td>\n",
       "      <td>23.11</td>\n",
       "    </tr>\n",
       "    <tr>\n",
       "      <th>rh (%)</th>\n",
       "      <td>76.007045</td>\n",
       "      <td>16.477126</td>\n",
       "      <td>12.95</td>\n",
       "      <td>35.130</td>\n",
       "      <td>50.99</td>\n",
       "      <td>65.21</td>\n",
       "      <td>79.30</td>\n",
       "      <td>89.40</td>\n",
       "      <td>97.20</td>\n",
       "      <td>100.00</td>\n",
       "    </tr>\n",
       "    <tr>\n",
       "      <th>VPmax (mbar)</th>\n",
       "      <td>13.575089</td>\n",
       "      <td>7.739481</td>\n",
       "      <td>0.95</td>\n",
       "      <td>2.830</td>\n",
       "      <td>5.57</td>\n",
       "      <td>7.78</td>\n",
       "      <td>11.82</td>\n",
       "      <td>17.60</td>\n",
       "      <td>28.40</td>\n",
       "      <td>63.77</td>\n",
       "    </tr>\n",
       "    <tr>\n",
       "      <th>VPact (mbar)</th>\n",
       "      <td>9.532524</td>\n",
       "      <td>4.183895</td>\n",
       "      <td>0.79</td>\n",
       "      <td>2.290</td>\n",
       "      <td>4.69</td>\n",
       "      <td>6.21</td>\n",
       "      <td>8.86</td>\n",
       "      <td>12.35</td>\n",
       "      <td>17.23</td>\n",
       "      <td>28.32</td>\n",
       "    </tr>\n",
       "    <tr>\n",
       "      <th>VPdef (mbar)</th>\n",
       "      <td>4.042483</td>\n",
       "      <td>4.897270</td>\n",
       "      <td>0.00</td>\n",
       "      <td>0.040</td>\n",
       "      <td>0.36</td>\n",
       "      <td>0.87</td>\n",
       "      <td>2.19</td>\n",
       "      <td>5.30</td>\n",
       "      <td>14.32</td>\n",
       "      <td>46.01</td>\n",
       "    </tr>\n",
       "    <tr>\n",
       "      <th>sh (g/kg)</th>\n",
       "      <td>6.021630</td>\n",
       "      <td>2.655973</td>\n",
       "      <td>0.50</td>\n",
       "      <td>1.430</td>\n",
       "      <td>2.95</td>\n",
       "      <td>3.92</td>\n",
       "      <td>5.59</td>\n",
       "      <td>7.80</td>\n",
       "      <td>10.92</td>\n",
       "      <td>18.13</td>\n",
       "    </tr>\n",
       "    <tr>\n",
       "      <th>H2OC (mmol/mol)</th>\n",
       "      <td>9.638982</td>\n",
       "      <td>4.235130</td>\n",
       "      <td>0.80</td>\n",
       "      <td>2.290</td>\n",
       "      <td>4.74</td>\n",
       "      <td>6.29</td>\n",
       "      <td>8.96</td>\n",
       "      <td>12.48</td>\n",
       "      <td>17.44</td>\n",
       "      <td>28.82</td>\n",
       "    </tr>\n",
       "    <tr>\n",
       "      <th>rho (g/m**3)</th>\n",
       "      <td>1216.069883</td>\n",
       "      <td>39.977065</td>\n",
       "      <td>1059.45</td>\n",
       "      <td>1132.210</td>\n",
       "      <td>1166.30</td>\n",
       "      <td>1187.49</td>\n",
       "      <td>1213.80</td>\n",
       "      <td>1242.77</td>\n",
       "      <td>1282.34</td>\n",
       "      <td>1393.54</td>\n",
       "    </tr>\n",
       "    <tr>\n",
       "      <th>wv (m/s)</th>\n",
       "      <td>2.130309</td>\n",
       "      <td>1.541830</td>\n",
       "      <td>0.00</td>\n",
       "      <td>0.220</td>\n",
       "      <td>0.57</td>\n",
       "      <td>0.99</td>\n",
       "      <td>1.76</td>\n",
       "      <td>2.86</td>\n",
       "      <td>5.18</td>\n",
       "      <td>14.63</td>\n",
       "    </tr>\n",
       "    <tr>\n",
       "      <th>max. wv (m/s)</th>\n",
       "      <td>3.532381</td>\n",
       "      <td>2.340482</td>\n",
       "      <td>0.00</td>\n",
       "      <td>0.520</td>\n",
       "      <td>1.12</td>\n",
       "      <td>1.76</td>\n",
       "      <td>2.96</td>\n",
       "      <td>4.74</td>\n",
       "      <td>8.09</td>\n",
       "      <td>23.50</td>\n",
       "    </tr>\n",
       "    <tr>\n",
       "      <th>wd (deg)</th>\n",
       "      <td>174.726164</td>\n",
       "      <td>86.675965</td>\n",
       "      <td>0.00</td>\n",
       "      <td>5.630</td>\n",
       "      <td>30.72</td>\n",
       "      <td>124.80</td>\n",
       "      <td>198.10</td>\n",
       "      <td>234.10</td>\n",
       "      <td>289.80</td>\n",
       "      <td>360.00</td>\n",
       "    </tr>\n",
       "  </tbody>\n",
       "</table>\n",
       "</div>"
      ],
      "text/plain": [
       "                        mean        std      min        1%      10%      25%  \\\n",
       "p (mbar)          989.212508   8.359454   913.60   966.890   978.58   984.20   \n",
       "T (degC)            9.448567   8.423685   -23.01   -10.090    -1.27     3.36   \n",
       "Tpot (K)          283.491182   8.504820   250.60   263.520   272.67   277.43   \n",
       "Tdew (degC)         4.954011   6.730411   -25.01   -12.725    -3.58     0.24   \n",
       "rh (%)             76.007045  16.477126    12.95    35.130    50.99    65.21   \n",
       "VPmax (mbar)       13.575089   7.739481     0.95     2.830     5.57     7.78   \n",
       "VPact (mbar)        9.532524   4.183895     0.79     2.290     4.69     6.21   \n",
       "VPdef (mbar)        4.042483   4.897270     0.00     0.040     0.36     0.87   \n",
       "sh (g/kg)           6.021630   2.655973     0.50     1.430     2.95     3.92   \n",
       "H2OC (mmol/mol)     9.638982   4.235130     0.80     2.290     4.74     6.29   \n",
       "rho (g/m**3)     1216.069883  39.977065  1059.45  1132.210  1166.30  1187.49   \n",
       "wv (m/s)            2.130309   1.541830     0.00     0.220     0.57     0.99   \n",
       "max. wv (m/s)       3.532381   2.340482     0.00     0.520     1.12     1.76   \n",
       "wd (deg)          174.726164  86.675965     0.00     5.630    30.72   124.80   \n",
       "\n",
       "                     50%      75%      95%      max  \n",
       "p (mbar)          989.57   994.72  1002.49  1015.35  \n",
       "T (degC)            9.41    15.47    23.15    37.28  \n",
       "Tpot (K)          283.46   289.53   297.26   311.34  \n",
       "Tdew (degC)         5.21    10.07    15.14    23.11  \n",
       "rh (%)             79.30    89.40    97.20   100.00  \n",
       "VPmax (mbar)       11.82    17.60    28.40    63.77  \n",
       "VPact (mbar)        8.86    12.35    17.23    28.32  \n",
       "VPdef (mbar)        2.19     5.30    14.32    46.01  \n",
       "sh (g/kg)           5.59     7.80    10.92    18.13  \n",
       "H2OC (mmol/mol)     8.96    12.48    17.44    28.82  \n",
       "rho (g/m**3)     1213.80  1242.77  1282.34  1393.54  \n",
       "wv (m/s)            1.76     2.86     5.18    14.63  \n",
       "max. wv (m/s)       2.96     4.74     8.09    23.50  \n",
       "wd (deg)          198.10   234.10   289.80   360.00  "
      ]
     },
     "execution_count": 7,
     "metadata": {},
     "output_type": "execute_result"
    }
   ],
   "source": [
    "df.describe([.01,.1,.25,.5,.75,.95]).T.drop(columns=['count']) # описание данных"
   ]
  },
  {
   "cell_type": "markdown",
   "metadata": {},
   "source": [
    "## выбираем параметр для регрессии"
   ]
  },
  {
   "cell_type": "code",
   "execution_count": 8,
   "metadata": {},
   "outputs": [],
   "source": [
    "feature = 'T (degC)'\n",
    "interval = {'left':'2016-09-01 00:00:00','right':'2016-09-07 00:00:00',}"
   ]
  },
  {
   "cell_type": "code",
   "execution_count": 9,
   "metadata": {},
   "outputs": [
    {
     "data": {
      "text/plain": [
       "Date Time\n",
       "2016-09-01 00:00:00    -0.41\n",
       "2016-09-01 00:10:00    -0.65\n",
       "2016-09-01 00:20:00    -1.42\n",
       "2016-09-01 00:30:00    -2.13\n",
       "2016-09-01 00:40:00    -2.14\n",
       "                       ...  \n",
       "2016-09-06 23:20:00    14.14\n",
       "2016-09-06 23:30:00    14.14\n",
       "2016-09-06 23:40:00    14.01\n",
       "2016-09-06 23:50:00    13.85\n",
       "2016-09-07 00:00:00    17.16\n",
       "Name: T (degC), Length: 865, dtype: float64"
      ]
     },
     "execution_count": 9,
     "metadata": {},
     "output_type": "execute_result"
    }
   ],
   "source": [
    "data = df[ df['Date Time'].between(**interval) ].set_index('Date Time')[feature]\n",
    "data"
   ]
  },
  {
   "cell_type": "code",
   "execution_count": 10,
   "metadata": {},
   "outputs": [
    {
     "data": {
      "text/plain": [
       "<AxesSubplot:xlabel='Date Time'>"
      ]
     },
     "execution_count": 10,
     "metadata": {},
     "output_type": "execute_result"
    },
    {
     "data": {
      "image/png": "[encoded data removed]",
      "text/plain": [
       "<Figure size 1152x288 with 1 Axes>"
      ]
     },
     "metadata": {
      "needs_background": "light"
     },
     "output_type": "display_data"
    }
   ],
   "source": [
    "data.plot(figsize=(16,4),grid=True,style='.')"
   ]
  },
  {
   "cell_type": "code",
   "execution_count": 11,
   "metadata": {},
   "outputs": [
    {
     "data": {
      "text/plain": [
       "(865,)"
      ]
     },
     "execution_count": 11,
     "metadata": {},
     "output_type": "execute_result"
    }
   ],
   "source": [
    "# преобразование pandas-таблицы в numpy-матрицу\n",
    "X = data.values\n",
    "X.shape"
   ]
  },
  {
   "cell_type": "code",
   "execution_count": null,
   "metadata": {},
   "outputs": [],
   "source": []
  }
 ],
 "metadata": {
  "kernelspec": {
   "display_name": "Python 3 (ipykernel)",
   "language": "python",
   "name": "python3"
  },
  "language_info": {
   "codemirror_mode": {
    "name": "ipython",
    "version": 3
   },
   "file_extension": ".py",
   "mimetype": "text/x-python",
   "name": "python",
   "nbconvert_exporter": "python",
   "pygments_lexer": "ipython3",
   "version": "3.8.9"
  },
  "toc": {
   "base_numbering": 1,
   "nav_menu": {},
   "number_sections": true,
   "sideBar": true,
   "skip_h1_title": false,
   "title_cell": "Table of Contents",
   "title_sidebar": "Contents",
   "toc_cell": false,
   "toc_position": {},
   "toc_section_display": "block",
   "toc_window_display": false
  }
 },
 "nbformat": 4,
 "nbformat_minor": 2
}
