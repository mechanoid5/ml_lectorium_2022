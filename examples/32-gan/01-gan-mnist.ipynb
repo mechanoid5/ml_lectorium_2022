{
 "cells": [
  {
   "cell_type": "markdown",
   "metadata": {},
   "source": [
    "**генеративно-состязательные модели (GAN)** \n",
    "\n",
    "Евгений Борисов esborisov@sevsu.ru"
   ]
  },
  {
   "cell_type": "markdown",
   "metadata": {},
   "source": [
    "---"
   ]
  },
  {
   "cell_type": "markdown",
   "metadata": {},
   "source": [
    "Generative Adversarial Nets  \n",
    "Ian J. Goodfellow, Yoshua Bengio ....  \n",
    "2014  \n",
    "\n",
    "https://arxiv.org/pdf/1406.2661.pdf"
   ]
  },
  {
   "cell_type": "markdown",
   "metadata": {},
   "source": [
    "Generative adversarial networks  \n",
    "Max Strakhov \n",
    "2018\n",
    "\n",
    "https://habr.com/ru/post/352794/"
   ]
  },
  {
   "cell_type": "markdown",
   "metadata": {},
   "source": [
    "Gulli Antonio, Pal Sujit. Deep Learning with Keras -- Packt Publishing, 2017"
   ]
  },
  {
   "cell_type": "markdown",
   "metadata": {},
   "source": [
    "пара нейросетей генератор (создаёт \"подделку\") и дискриминатор (распознаёт подделку)\n",
    "\n",
    "одна эпоха обучения состоит из следующих шагов\n",
    "\n",
    "1. генератор создаёт пакет \"подделок\" из случайного шума\n",
    "\n",
    "2. дискриминатор имеет пакет \"настоящих\" образцов \n",
    "   и обучается распознавать фальшивки на наборе фальшивые/настоящие\n",
    "\n",
    "3. собираем конвейер генератор-дискриминатор\n",
    "   фиксируем веса дискриминатора (т.е. дискриминатор в конвейере не обучаем)\n",
    "   и обучаем генератор \"обманывать\" дискриминатор"
   ]
  },
  {
   "cell_type": "markdown",
   "metadata": {},
   "source": [
    "---"
   ]
  },
  {
   "cell_type": "code",
   "execution_count": 1,
   "metadata": {},
   "outputs": [],
   "source": [
    "import numpy as np\n",
    "from numpy import random as rng\n",
    "\n",
    "import matplotlib.pyplot as plt"
   ]
  },
  {
   "cell_type": "code",
   "execution_count": 3,
   "metadata": {},
   "outputs": [
    {
     "data": {
      "text/plain": [
       "(60000, 28, 28)"
      ]
     },
     "execution_count": 3,
     "metadata": {},
     "output_type": "execute_result"
    }
   ],
   "source": [
    "from tensorflow.keras.datasets import mnist\n",
    "(images, _),(_, _) = mnist.load_data()\n",
    "images.shape"
   ]
  },
  {
   "cell_type": "code",
   "execution_count": 4,
   "metadata": {},
   "outputs": [
    {
     "data": {
      "image/png": "[encoded data removed]",
      "text/plain": [
       "<Figure size 1152x288 with 9 Axes>"
      ]
     },
     "metadata": {
      "needs_background": "light"
     },
     "output_type": "display_data"
    }
   ],
   "source": [
    "n_show = 9 \n",
    "plt.figure(figsize=(16,4))\n",
    "for n,i in enumerate(rng.permutation(len(images))[:n_show], start=1):\n",
    "    plt.subplot(1,n_show,n)\n",
    "    plt.axis(False)\n",
    "    plt.imshow(images[i],cmap='gray_r')"
   ]
  },
  {
   "cell_type": "markdown",
   "metadata": {},
   "source": [
    "---"
   ]
  },
  {
   "cell_type": "code",
   "execution_count": 5,
   "metadata": {},
   "outputs": [],
   "source": [
    "import tensorflow as tf\n",
    "\n",
    "from tensorflow.keras.models import Sequential\n",
    "from tensorflow.keras.layers import Dense\n",
    "from tensorflow.keras.layers import Conv2D \n",
    "from tensorflow.keras.layers import MaxPooling2D\n",
    "from tensorflow.keras.layers import UpSampling2D\n",
    "from tensorflow.keras.layers import Activation\n",
    "from tensorflow.keras.layers import BatchNormalization\n",
    "from tensorflow.keras.layers import Flatten\n",
    "from tensorflow.keras.layers import Reshape\n",
    "\n",
    "from tensorflow.keras.optimizers import SGD\n",
    "\n",
    "from tensorflow.keras import backend as K\n",
    "from tensorflow.keras.utils import plot_model"
   ]
  },
  {
   "cell_type": "code",
   "execution_count": 6,
   "metadata": {},
   "outputs": [
    {
     "data": {
      "text/plain": [
       "('2.8.0', '2.8.0')"
      ]
     },
     "execution_count": 6,
     "metadata": {},
     "output_type": "execute_result"
    }
   ],
   "source": [
    "# tf.logging.set_verbosity(tf.logging.ERROR)\n",
    "tf.__version__, tf.keras.__version__"
   ]
  },
  {
   "cell_type": "code",
   "execution_count": 2,
   "metadata": {},
   "outputs": [],
   "source": [
    "# !mkdir tmp"
   ]
  },
  {
   "cell_type": "code",
   "execution_count": null,
   "metadata": {},
   "outputs": [],
   "source": [
    "# img_rows, img_cols = X_train.shape[1], X_train.shape[2]\n",
    "# img_rows, img_cols"
   ]
  },
  {
   "cell_type": "code",
   "execution_count": null,
   "metadata": {},
   "outputs": [],
   "source": [
    "# X_train = (X_train - 127.5) / 127.5"
   ]
  },
  {
   "cell_type": "code",
   "execution_count": null,
   "metadata": {},
   "outputs": [],
   "source": [
    "# # X_train = X_train[:,np.newaxis,:,:].astype('float32')\n",
    "# X_train = X_train[:,:,:,np.newaxis].astype('float32')\n",
    "# X_train.shape"
   ]
  },
  {
   "cell_type": "markdown",
   "metadata": {
    "collapsed": true
   },
   "source": [
    "---"
   ]
  },
  {
   "cell_type": "code",
   "execution_count": null,
   "metadata": {},
   "outputs": [],
   "source": [
    "generator = Sequential(name='generator')\n",
    "generator.add(Dense(1024, input_shape=(100, ), activation='tanh'))\n",
    "generator.add(Dense(128 * 7 * 7))\n",
    "generator.add(BatchNormalization())\n",
    "generator.add(Activation('tanh'))\n",
    "generator.add(Reshape((7, 7, 128), input_shape=(7 * 7 * 128,)))\n",
    "generator.add(UpSampling2D(size=(2, 2)))\n",
    "generator.add(Conv2D(64,(5,5),padding='same',activation='tanh',data_format='channels_last'))\n",
    "generator.add(UpSampling2D(size=(2, 2)))\n",
    "generator.add(Conv2D(1,(5,5),padding='same',activation='tanh',data_format='channels_last'))"
   ]
  },
  {
   "cell_type": "code",
   "execution_count": null,
   "metadata": {},
   "outputs": [],
   "source": [
    "plot_model(generator,to_file='result/model-generator.png', show_layer_names=False, show_shapes=True )\n",
    "# IPython.display.Image('result/model-generator.png')"
   ]
  },
  {
   "cell_type": "markdown",
   "metadata": {
    "collapsed": true
   },
   "source": [
    "----"
   ]
  },
  {
   "cell_type": "code",
   "execution_count": null,
   "metadata": {},
   "outputs": [],
   "source": [
    "discriminator = Sequential(name='discriminator')\n",
    "discriminator.add(Conv2D(64, (5, 5),\n",
    "                padding='same',\n",
    "                input_shape=(28, 28, 1),\n",
    "                activation='tanh',\n",
    "                data_format='channels_last'\n",
    "   ))\n",
    "discriminator.add(MaxPooling2D(pool_size=(2, 2)))\n",
    "discriminator.add(Conv2D(128,(5,5),activation='tanh',data_format='channels_last'))\n",
    "discriminator.add(MaxPooling2D(pool_size=(2, 2)))\n",
    "discriminator.add(Flatten())\n",
    "discriminator.add(Dense(1024, activation='tanh'))\n",
    "discriminator.add(Dense(1, activation='sigmoid'))"
   ]
  },
  {
   "cell_type": "code",
   "execution_count": null,
   "metadata": {},
   "outputs": [],
   "source": [
    "plot_model(discriminator,to_file='result/model-discriminator.png',show_layer_names=False, show_shapes=True )\n",
    "# IPython.display.Image('result/model-discriminator.png')"
   ]
  },
  {
   "cell_type": "markdown",
   "metadata": {
    "collapsed": true
   },
   "source": [
    "---"
   ]
  },
  {
   "cell_type": "code",
   "execution_count": null,
   "metadata": {},
   "outputs": [],
   "source": [
    "discriminator_on_generator = Sequential()\n",
    "discriminator_on_generator.add(generator)\n",
    "discriminator.trainable = False\n",
    "discriminator_on_generator.add(discriminator)\n",
    "\n",
    "plot_model( discriminator_on_generator, \n",
    "            to_file='result/model-discriminator_on_generator.png', \n",
    "            show_shapes=True, \n",
    "            show_layer_names=True )\n",
    "\n",
    "# IPython.display.Image('result/model-discriminator_on_generator.png')"
   ]
  },
  {
   "cell_type": "markdown",
   "metadata": {
    "collapsed": true
   },
   "source": [
    "---"
   ]
  },
  {
   "cell_type": "code",
   "execution_count": null,
   "metadata": {},
   "outputs": [],
   "source": [
    "generator.compile(loss='binary_crossentropy', optimizer=\"SGD\")\n",
    "\n",
    "discriminator_on_generator.compile(\n",
    "    loss='binary_crossentropy', \n",
    "    optimizer=SGD(learning_rate=0.0005, momentum=0.9, nesterov=True)\n",
    "  )\n",
    "\n",
    "discriminator.trainable = True\n",
    "discriminator.compile(\n",
    "    loss='binary_crossentropy', \n",
    "    optimizer=SGD(learning_rate=0.0005, momentum=0.9, nesterov=True)\n",
    "  )"
   ]
  },
  {
   "cell_type": "markdown",
   "metadata": {},
   "source": [
    "\n",
    "---"
   ]
  },
  {
   "cell_type": "code",
   "execution_count": null,
   "metadata": {},
   "outputs": [],
   "source": [
    "from PIL import Image\n",
    "\n",
    "def save_images(X,e,b,mc=10):\n",
    "    # mc = 14 # количество картинок в одной строке \n",
    "    n,r,c,m = X.shape # примеры, высота, ширина, каналы\n",
    "    mr = int(np.ceil(n/mc)) # количество строк \n",
    "    \n",
    "    # print(n,c,r,m)\n",
    "    \n",
    "    im = []\n",
    "    for k in range(m):\n",
    "        xk = X[:,:,:,k] # канал k\n",
    "        # дополняем строку до полного размера пустыми картинками\n",
    "        xk = np.vstack([xk,-np.ones([(mc*mr-n),r,c])]) \n",
    "        # укладываем картинки, [mr x mc] картинок размера [r x c]\n",
    "        xk = xk.reshape(mr,mc,r,c).swapaxes(1,2).reshape(mr*r,mc*c) \n",
    "        im.append(xk*127.5+127.5) # масштабируем в [0,255]\n",
    "\n",
    "    im = np.stack(im,axis=2) if m>1 else im[0]\n",
    "   \n",
    "    Image.fromarray(im.astype(np.uint8)).save('result/%02d_%d.png'%(e,b) )\n"
   ]
  },
  {
   "cell_type": "code",
   "execution_count": null,
   "metadata": {},
   "outputs": [],
   "source": [
    "# xx = np.random.rand(128,100,3)*255.\n",
    "# Image.fromarray(xx.astype(np.uint8)).save('result/test.png')"
   ]
  },
  {
   "cell_type": "markdown",
   "metadata": {},
   "source": [
    "---"
   ]
  },
  {
   "cell_type": "code",
   "execution_count": null,
   "metadata": {},
   "outputs": [],
   "source": [
    "BATCH_SIZE = 250\n",
    "N_EPOCH = 50\n",
    "\n",
    "N_EX = X_train.shape[0]\n",
    "N_BATCH = int( np.floor(N_EX/BATCH_SIZE) )\n",
    "\n",
    "mc=int(np.ceil(np.sqrt(BATCH_SIZE))) \n",
    "\n",
    "N_EX, N_BATCH"
   ]
  },
  {
   "cell_type": "code",
   "execution_count": null,
   "metadata": {},
   "outputs": [],
   "source": [
    "def chunks(X, batch_size=BATCH_SIZE): \n",
    "    for i in range(0, len(X), batch_size): \n",
    "        yield X[i:i+batch_size]"
   ]
  },
  {
   "cell_type": "code",
   "execution_count": null,
   "metadata": {},
   "outputs": [],
   "source": [
    "%%time\n",
    "\n",
    "for e in range(N_EPOCH):\n",
    "    print('epoch: ', e+1,'/',N_EPOCH)\n",
    "    \n",
    "    for b,Xb in enumerate(chunks(X_train)):\n",
    "        print('\\tbatch %d/%d, loss '%(b+1,N_BATCH))\n",
    "\n",
    "        # генератор создаёт пакет \"подделок\" из случайного шума\n",
    "        noise = np.random.uniform(-1, 1, (BATCH_SIZE,100))\n",
    "        Xg = generator.predict(noise, verbose=0)\n",
    "        \n",
    "        # рисуем результат после каждого 200-го батча\n",
    "        if b % 200 == 0: save_images(Xg,e,b,mc=mc)\n",
    "        \n",
    "        # собираем учебный набор для дискриминатора\n",
    "        # из \"фальшивых\" и \"настоящик\" картинок\n",
    "        X = np.concatenate((Xb, Xg))\n",
    "        y = [1] * Xb.shape[0] + [0] * Xg.shape[0]\n",
    "\n",
    "        # обучаем дискриминатор выявлять \"фальшивые\"\n",
    "        discriminator.trainable = True\n",
    "        d_loss = discriminator.train_on_batch(X, y)\n",
    "        print('\\t\\t%f : discriminator'%(d_loss))\n",
    "        \n",
    "        # обучаем генератор \"обманывать\" дискриминатор\n",
    "        noise = np.random.uniform(-1,1,(BATCH_SIZE,100))\n",
    "        discriminator.trainable = False\n",
    "        g_loss = discriminator_on_generator.train_on_batch( noise, [1]*BATCH_SIZE)\n",
    "        \n",
    "        print('\\t\\t%f : generator'%(g_loss))\n"
   ]
  },
  {
   "cell_type": "code",
   "execution_count": null,
   "metadata": {},
   "outputs": [],
   "source": [
    "# generator.save_weights('result/generator', True)\n",
    "# discriminator.save_weights('result/discriminator', True)"
   ]
  },
  {
   "cell_type": "code",
   "execution_count": null,
   "metadata": {},
   "outputs": [],
   "source": [
    "#  730 - 3h 25min 26s\n",
    "# 1060 -    18min 24s"
   ]
  },
  {
   "cell_type": "code",
   "execution_count": null,
   "metadata": {},
   "outputs": [],
   "source": [
    "# ((60*3+25)*60+26)/ ((18)*60+24)"
   ]
  },
  {
   "cell_type": "markdown",
   "metadata": {},
   "source": [
    "---"
   ]
  },
  {
   "cell_type": "code",
   "execution_count": null,
   "metadata": {},
   "outputs": [],
   "source": [
    "# начальное состояние\n",
    "IPython.display.Image('result/00_0.png')"
   ]
  },
  {
   "cell_type": "code",
   "execution_count": null,
   "metadata": {},
   "outputs": [],
   "source": [
    "# после 1 эпохи обучения\n",
    "IPython.display.Image('result/02_0.png')"
   ]
  },
  {
   "cell_type": "code",
   "execution_count": null,
   "metadata": {},
   "outputs": [],
   "source": [
    "# после 9 эпохи обучения\n",
    "IPython.display.Image('result/09_0.png')"
   ]
  },
  {
   "cell_type": "code",
   "execution_count": null,
   "metadata": {},
   "outputs": [],
   "source": [
    "# конечный результат (50 эпох обучения)\n",
    "IPython.display.Image('result/49_200.png')"
   ]
  }
 ],
 "metadata": {
  "kernelspec": {
   "display_name": "Python 3 (ipykernel)",
   "language": "python",
   "name": "python3"
  },
  "language_info": {
   "codemirror_mode": {
    "name": "ipython",
    "version": 3
   },
   "file_extension": ".py",
   "mimetype": "text/x-python",
   "name": "python",
   "nbconvert_exporter": "python",
   "pygments_lexer": "ipython3",
   "version": "3.8.9"
  },
  "toc": {
   "base_numbering": 1,
   "nav_menu": {},
   "number_sections": true,
   "sideBar": true,
   "skip_h1_title": false,
   "title_cell": "Table of Contents",
   "title_sidebar": "Contents",
   "toc_cell": false,
   "toc_position": {},
   "toc_section_display": true,
   "toc_window_display": false
  }
 },
 "nbformat": 4,
 "nbformat_minor": 1
}
