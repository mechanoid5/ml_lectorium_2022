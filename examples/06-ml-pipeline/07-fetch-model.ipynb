{
 "cells": [
  {
   "cell_type": "markdown",
   "metadata": {},
   "source": [
    "**выбор модели**\n",
    "\n",
    "\n",
    "Евгений Борисов esborisov@sevsu.ru"
   ]
  },
  {
   "cell_type": "markdown",
   "metadata": {},
   "source": [
    "---"
   ]
  },
  {
   "cell_type": "markdown",
   "metadata": {},
   "source": [
    "https://scikit-learn.org/stable/modules/generated/sklearn.model_selection.GridSearchCV.html#sklearn.model_selection.GridSearchCV"
   ]
  },
  {
   "cell_type": "code",
   "execution_count": 1,
   "metadata": {},
   "outputs": [
    {
     "data": {
      "text/plain": [
       "dict_keys(['data', 'target', 'frame', 'target_names', 'DESCR', 'feature_names', 'filename'])"
      ]
     },
     "execution_count": 1,
     "metadata": {},
     "output_type": "execute_result"
    }
   ],
   "source": [
    "from sklearn import datasets\n",
    "\n",
    "iris = datasets.load_iris()\n",
    "iris.keys()"
   ]
  },
  {
   "cell_type": "code",
   "execution_count": 2,
   "metadata": {},
   "outputs": [],
   "source": [
    "from sklearn.neighbors import KNeighborsClassifier\n",
    "\n",
    "# KNeighborsClassifier?\n",
    "\n",
    "# KNeighborsClassifier(\n",
    "#     n_neighbors=5,\n",
    "#     *,\n",
    "#     weights='uniform',\n",
    "#     algorithm='auto',\n",
    "#     leaf_size=30,\n",
    "#     p=2,\n",
    "#     metric='minkowski',\n",
    "#     metric_params=None,\n",
    "#     n_jobs=None,\n",
    "#     **kwargs,\n",
    "# )"
   ]
  },
  {
   "cell_type": "code",
   "execution_count": 3,
   "metadata": {},
   "outputs": [],
   "source": [
    "from sklearn.model_selection import GridSearchCV"
   ]
  },
  {
   "cell_type": "code",
   "execution_count": 4,
   "metadata": {},
   "outputs": [
    {
     "data": {
      "text/plain": [
       "GridSearchCV(estimator=KNeighborsClassifier(),\n",
       "             param_grid={'metric': ('minkowski', 'euclidean'),\n",
       "                         'n_neighbors': [3, 4, 5]})"
      ]
     },
     "execution_count": 4,
     "metadata": {},
     "output_type": "execute_result"
    }
   ],
   "source": [
    "# https://scikit-learn.org/stable/modules/generated/sklearn.neighbors.DistanceMetric.html\n",
    "parameters = {'metric':('minkowski', 'euclidean'), \n",
    "              'n_neighbors':[3,4,5]}\n",
    "knc = KNeighborsClassifier()\n",
    "grid = GridSearchCV(knc, parameters)\n",
    "grid.fit(iris.data, iris.target)"
   ]
  },
  {
   "cell_type": "code",
   "execution_count": 5,
   "metadata": {},
   "outputs": [
    {
     "data": {
      "text/html": [
       "<div>\n",
       "<style scoped>\n",
       "    .dataframe tbody tr th:only-of-type {\n",
       "        vertical-align: middle;\n",
       "    }\n",
       "\n",
       "    .dataframe tbody tr th {\n",
       "        vertical-align: top;\n",
       "    }\n",
       "\n",
       "    .dataframe thead th {\n",
       "        text-align: right;\n",
       "    }\n",
       "</style>\n",
       "<table border=\"1\" class=\"dataframe\">\n",
       "  <thead>\n",
       "    <tr style=\"text-align: right;\">\n",
       "      <th></th>\n",
       "      <th>mean_fit_time</th>\n",
       "      <th>std_fit_time</th>\n",
       "      <th>mean_score_time</th>\n",
       "      <th>std_score_time</th>\n",
       "      <th>param_metric</th>\n",
       "      <th>param_n_neighbors</th>\n",
       "      <th>params</th>\n",
       "      <th>split0_test_score</th>\n",
       "      <th>split1_test_score</th>\n",
       "      <th>split2_test_score</th>\n",
       "      <th>split3_test_score</th>\n",
       "      <th>split4_test_score</th>\n",
       "      <th>mean_test_score</th>\n",
       "      <th>std_test_score</th>\n",
       "      <th>rank_test_score</th>\n",
       "    </tr>\n",
       "  </thead>\n",
       "  <tbody>\n",
       "    <tr>\n",
       "      <th>0</th>\n",
       "      <td>0.001296</td>\n",
       "      <td>0.000305</td>\n",
       "      <td>0.004797</td>\n",
       "      <td>0.000739</td>\n",
       "      <td>minkowski</td>\n",
       "      <td>3</td>\n",
       "      <td>{'metric': 'minkowski', 'n_neighbors': 3}</td>\n",
       "      <td>0.966667</td>\n",
       "      <td>0.966667</td>\n",
       "      <td>0.933333</td>\n",
       "      <td>0.966667</td>\n",
       "      <td>1.0</td>\n",
       "      <td>0.966667</td>\n",
       "      <td>0.021082</td>\n",
       "      <td>5</td>\n",
       "    </tr>\n",
       "    <tr>\n",
       "      <th>1</th>\n",
       "      <td>0.001254</td>\n",
       "      <td>0.000156</td>\n",
       "      <td>0.004615</td>\n",
       "      <td>0.000181</td>\n",
       "      <td>minkowski</td>\n",
       "      <td>4</td>\n",
       "      <td>{'metric': 'minkowski', 'n_neighbors': 4}</td>\n",
       "      <td>0.966667</td>\n",
       "      <td>0.966667</td>\n",
       "      <td>0.966667</td>\n",
       "      <td>0.966667</td>\n",
       "      <td>1.0</td>\n",
       "      <td>0.973333</td>\n",
       "      <td>0.013333</td>\n",
       "      <td>1</td>\n",
       "    </tr>\n",
       "    <tr>\n",
       "      <th>2</th>\n",
       "      <td>0.001194</td>\n",
       "      <td>0.000125</td>\n",
       "      <td>0.004847</td>\n",
       "      <td>0.000452</td>\n",
       "      <td>minkowski</td>\n",
       "      <td>5</td>\n",
       "      <td>{'metric': 'minkowski', 'n_neighbors': 5}</td>\n",
       "      <td>0.966667</td>\n",
       "      <td>1.000000</td>\n",
       "      <td>0.933333</td>\n",
       "      <td>0.966667</td>\n",
       "      <td>1.0</td>\n",
       "      <td>0.973333</td>\n",
       "      <td>0.024944</td>\n",
       "      <td>1</td>\n",
       "    </tr>\n",
       "    <tr>\n",
       "      <th>3</th>\n",
       "      <td>0.001051</td>\n",
       "      <td>0.000022</td>\n",
       "      <td>0.004193</td>\n",
       "      <td>0.000009</td>\n",
       "      <td>euclidean</td>\n",
       "      <td>3</td>\n",
       "      <td>{'metric': 'euclidean', 'n_neighbors': 3}</td>\n",
       "      <td>0.966667</td>\n",
       "      <td>0.966667</td>\n",
       "      <td>0.933333</td>\n",
       "      <td>0.966667</td>\n",
       "      <td>1.0</td>\n",
       "      <td>0.966667</td>\n",
       "      <td>0.021082</td>\n",
       "      <td>5</td>\n",
       "    </tr>\n",
       "    <tr>\n",
       "      <th>4</th>\n",
       "      <td>0.001073</td>\n",
       "      <td>0.000040</td>\n",
       "      <td>0.004518</td>\n",
       "      <td>0.000476</td>\n",
       "      <td>euclidean</td>\n",
       "      <td>4</td>\n",
       "      <td>{'metric': 'euclidean', 'n_neighbors': 4}</td>\n",
       "      <td>0.966667</td>\n",
       "      <td>0.966667</td>\n",
       "      <td>0.966667</td>\n",
       "      <td>0.966667</td>\n",
       "      <td>1.0</td>\n",
       "      <td>0.973333</td>\n",
       "      <td>0.013333</td>\n",
       "      <td>1</td>\n",
       "    </tr>\n",
       "    <tr>\n",
       "      <th>5</th>\n",
       "      <td>0.001139</td>\n",
       "      <td>0.000115</td>\n",
       "      <td>0.004627</td>\n",
       "      <td>0.000340</td>\n",
       "      <td>euclidean</td>\n",
       "      <td>5</td>\n",
       "      <td>{'metric': 'euclidean', 'n_neighbors': 5}</td>\n",
       "      <td>0.966667</td>\n",
       "      <td>1.000000</td>\n",
       "      <td>0.933333</td>\n",
       "      <td>0.966667</td>\n",
       "      <td>1.0</td>\n",
       "      <td>0.973333</td>\n",
       "      <td>0.024944</td>\n",
       "      <td>1</td>\n",
       "    </tr>\n",
       "  </tbody>\n",
       "</table>\n",
       "</div>"
      ],
      "text/plain": [
       "   mean_fit_time  std_fit_time  mean_score_time  std_score_time param_metric  \\\n",
       "0       0.001296      0.000305         0.004797        0.000739    minkowski   \n",
       "1       0.001254      0.000156         0.004615        0.000181    minkowski   \n",
       "2       0.001194      0.000125         0.004847        0.000452    minkowski   \n",
       "3       0.001051      0.000022         0.004193        0.000009    euclidean   \n",
       "4       0.001073      0.000040         0.004518        0.000476    euclidean   \n",
       "5       0.001139      0.000115         0.004627        0.000340    euclidean   \n",
       "\n",
       "  param_n_neighbors                                     params  \\\n",
       "0                 3  {'metric': 'minkowski', 'n_neighbors': 3}   \n",
       "1                 4  {'metric': 'minkowski', 'n_neighbors': 4}   \n",
       "2                 5  {'metric': 'minkowski', 'n_neighbors': 5}   \n",
       "3                 3  {'metric': 'euclidean', 'n_neighbors': 3}   \n",
       "4                 4  {'metric': 'euclidean', 'n_neighbors': 4}   \n",
       "5                 5  {'metric': 'euclidean', 'n_neighbors': 5}   \n",
       "\n",
       "   split0_test_score  split1_test_score  split2_test_score  split3_test_score  \\\n",
       "0           0.966667           0.966667           0.933333           0.966667   \n",
       "1           0.966667           0.966667           0.966667           0.966667   \n",
       "2           0.966667           1.000000           0.933333           0.966667   \n",
       "3           0.966667           0.966667           0.933333           0.966667   \n",
       "4           0.966667           0.966667           0.966667           0.966667   \n",
       "5           0.966667           1.000000           0.933333           0.966667   \n",
       "\n",
       "   split4_test_score  mean_test_score  std_test_score  rank_test_score  \n",
       "0                1.0         0.966667        0.021082                5  \n",
       "1                1.0         0.973333        0.013333                1  \n",
       "2                1.0         0.973333        0.024944                1  \n",
       "3                1.0         0.966667        0.021082                5  \n",
       "4                1.0         0.973333        0.013333                1  \n",
       "5                1.0         0.973333        0.024944                1  "
      ]
     },
     "execution_count": 5,
     "metadata": {},
     "output_type": "execute_result"
    }
   ],
   "source": [
    "import pandas as pd\n",
    "pd.DataFrame(grid.cv_results_)"
   ]
  },
  {
   "cell_type": "code",
   "execution_count": 6,
   "metadata": {},
   "outputs": [
    {
     "data": {
      "text/plain": [
       "{'metric': 'minkowski', 'n_neighbors': 4}"
      ]
     },
     "execution_count": 6,
     "metadata": {},
     "output_type": "execute_result"
    }
   ],
   "source": [
    "grid.best_params_"
   ]
  },
  {
   "cell_type": "code",
   "execution_count": 7,
   "metadata": {},
   "outputs": [
    {
     "data": {
      "text/plain": [
       "0.9733333333333334"
      ]
     },
     "execution_count": 7,
     "metadata": {},
     "output_type": "execute_result"
    }
   ],
   "source": [
    "grid.best_score_ # by default uses accuracy"
   ]
  },
  {
   "cell_type": "code",
   "execution_count": 8,
   "metadata": {},
   "outputs": [
    {
     "data": {
      "text/plain": [
       "KNeighborsClassifier(n_neighbors=4)"
      ]
     },
     "execution_count": 8,
     "metadata": {},
     "output_type": "execute_result"
    }
   ],
   "source": [
    "grid.best_estimator_"
   ]
  },
  {
   "cell_type": "code",
   "execution_count": null,
   "metadata": {},
   "outputs": [],
   "source": []
  }
 ],
 "metadata": {
  "kernelspec": {
   "display_name": "Python 3",
   "language": "python",
   "name": "python3"
  },
  "language_info": {
   "codemirror_mode": {
    "name": "ipython",
    "version": 3
   },
   "file_extension": ".py",
   "mimetype": "text/x-python",
   "name": "python",
   "nbconvert_exporter": "python",
   "pygments_lexer": "ipython3",
   "version": "3.8.9"
  },
  "toc": {
   "base_numbering": 1,
   "nav_menu": {},
   "number_sections": true,
   "sideBar": true,
   "skip_h1_title": false,
   "title_cell": "Table of Contents",
   "title_sidebar": "Contents",
   "toc_cell": false,
   "toc_position": {},
   "toc_section_display": "block",
   "toc_window_display": false
  }
 },
 "nbformat": 4,
 "nbformat_minor": 2
}
