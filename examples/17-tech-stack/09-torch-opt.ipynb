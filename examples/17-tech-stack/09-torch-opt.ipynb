{
 "cells": [
  {
   "cell_type": "markdown",
   "id": "f9ac1589",
   "metadata": {},
   "source": [
    "__реализация полиномиальной регрессии с помощью PyTorch__\n",
    "\n",
    "Евгений Борисов esborisov@sevsu.ru"
   ]
  },
  {
   "cell_type": "code",
   "execution_count": 1,
   "id": "9c5ffeca",
   "metadata": {},
   "outputs": [],
   "source": [
    "# https://pytorch.org/tutorials/beginner/pytorch_with_examples.html"
   ]
  },
  {
   "cell_type": "code",
   "execution_count": 2,
   "id": "fac237d6",
   "metadata": {},
   "outputs": [],
   "source": [
    "import numpy as np\n",
    "from numpy import random as rng\n",
    "import math\n",
    "\n",
    "from matplotlib import pyplot as plt \n",
    "\n",
    "import torch"
   ]
  },
  {
   "cell_type": "code",
   "execution_count": 3,
   "id": "95a1a2af",
   "metadata": {},
   "outputs": [],
   "source": [
    "# генерируем данные, пакуем их в тензоры Torch\n",
    "x = torch.linspace(-math.pi, math.pi, 2000)\n",
    "y = torch.sin(x)"
   ]
  },
  {
   "cell_type": "code",
   "execution_count": 4,
   "id": "91f5f8c0",
   "metadata": {},
   "outputs": [
    {
     "data": {
      "text/plain": [
       "[<matplotlib.lines.Line2D at 0x7f9151bf38b0>]"
      ]
     },
     "execution_count": 4,
     "metadata": {},
     "output_type": "execute_result"
    },
    {
     "data": {
      "image/png": "[encoded data removed]",
      "text/plain": [
       "<Figure size 432x288 with 1 Axes>"
      ]
     },
     "metadata": {
      "needs_background": "light"
     },
     "output_type": "display_data"
    }
   ],
   "source": [
    "plt.plot(x,y)"
   ]
  },
  {
   "cell_type": "markdown",
   "id": "e6c9dd7b",
   "metadata": {},
   "source": [
    "---"
   ]
  },
  {
   "cell_type": "markdown",
   "id": "85bd7bce",
   "metadata": {},
   "source": [
    "$ y = a + b x + c x^2 + d x^3 $"
   ]
  },
  {
   "cell_type": "code",
   "execution_count": 5,
   "id": "dccc1d12",
   "metadata": {},
   "outputs": [
    {
     "data": {
      "text/plain": [
       "torch.Size([2000, 3])"
      ]
     },
     "execution_count": 5,
     "metadata": {},
     "output_type": "execute_result"
    }
   ],
   "source": [
    "# выполняем преобразование данных polynomial features\n",
    "# (добавляем столбцы в матрицу датасета)\n",
    "xx = x.unsqueeze(-1).pow( torch.tensor([1, 2, 3]) )\n",
    "\n",
    "xx.shape"
   ]
  },
  {
   "cell_type": "code",
   "execution_count": 6,
   "id": "ca0f1f88",
   "metadata": {},
   "outputs": [
    {
     "data": {
      "text/plain": [
       "torch.Size([2000, 1])"
      ]
     },
     "execution_count": 6,
     "metadata": {},
     "output_type": "execute_result"
    }
   ],
   "source": [
    "yy = y.unsqueeze(-1)\n",
    "yy.shape"
   ]
  },
  {
   "cell_type": "markdown",
   "id": "4bea6cb3",
   "metadata": {},
   "source": [
    "----"
   ]
  },
  {
   "cell_type": "markdown",
   "id": "c5d0af9e",
   "metadata": {},
   "source": [
    "$$\n",
    "y = \n",
    "a + b x + c x^2 + d x^3 =\n",
    "\\begin{bmatrix} 1 & x & x^2 & x^3 \\end{bmatrix} \\cdot \n",
    "\\begin{bmatrix} a \\cr b \\cr c \\cr d \\end{bmatrix} \n",
    "$$"
   ]
  },
  {
   "cell_type": "code",
   "execution_count": 7,
   "id": "465ee22a",
   "metadata": {},
   "outputs": [],
   "source": [
    "# модель регресии\n",
    "model = torch.nn.Linear(xx.shape[1], 1)"
   ]
  },
  {
   "cell_type": "markdown",
   "id": "7d1a4e9e",
   "metadata": {},
   "source": [
    "----"
   ]
  },
  {
   "cell_type": "code",
   "execution_count": 8,
   "id": "8833f6e7",
   "metadata": {},
   "outputs": [],
   "source": [
    "# функция потери\n",
    "loss_fn = torch.nn.MSELoss(reduction='sum')\n",
    "\n",
    "# метод оптимизации\n",
    "optimizer = torch.optim.RMSprop(model.parameters(), lr=1e-3)"
   ]
  },
  {
   "cell_type": "code",
   "execution_count": 9,
   "id": "38f6d1eb",
   "metadata": {},
   "outputs": [
    {
     "name": "stdout",
     "output_type": "stream",
     "text": [
      "CPU times: user 2.27 s, sys: 46.9 ms, total: 2.32 s\n",
      "Wall time: 1.12 s\n"
     ]
    }
   ],
   "source": [
    "%%time\n",
    "\n",
    "err_hist = [] # история изменения значений ф-ции потери\n",
    "\n",
    "for t in range(2000):\n",
    "    # вычисляем выход модели\n",
    "    y_pred = model(xx)\n",
    "    # считаем потерю\n",
    "    loss = loss_fn(y_pred, yy)\n",
    "    err_hist.append(loss.item())  \n",
    "    # очищаем предыдущее значение градиента\n",
    "    optimizer.zero_grad()\n",
    "    # вычисляем текущее значение градиента ф-ции потери\n",
    "    loss.backward()\n",
    "    # изменение параметров\n",
    "    optimizer.step()"
   ]
  },
  {
   "cell_type": "code",
   "execution_count": 10,
   "id": "5cc8a692",
   "metadata": {},
   "outputs": [],
   "source": [
    "# linear_layer = model[0]\n",
    "# a = linear_layer.bias.item()\n",
    "# b,c,d = linear_layer.weight[0,:]\n",
    "# print(f'y = %.4f + %.4f x + %.4f x^2 + %.4f x^3'%( a,b,c,d ))"
   ]
  },
  {
   "cell_type": "code",
   "execution_count": 11,
   "id": "66874bf4",
   "metadata": {},
   "outputs": [
    {
     "data": {
      "text/plain": [
       "[<matplotlib.lines.Line2D at 0x7f91482121c0>]"
      ]
     },
     "execution_count": 11,
     "metadata": {},
     "output_type": "execute_result"
    },
    {
     "data": {
      "image/png": "[encoded data removed]",
      "text/plain": [
       "<Figure size 432x288 with 1 Axes>"
      ]
     },
     "metadata": {
      "needs_background": "light"
     },
     "output_type": "display_data"
    }
   ],
   "source": [
    "plt.plot(err_hist[100:])"
   ]
  },
  {
   "cell_type": "markdown",
   "id": "7754c7ff",
   "metadata": {},
   "source": [
    "----"
   ]
  },
  {
   "cell_type": "code",
   "execution_count": 12,
   "id": "b1438f4e",
   "metadata": {},
   "outputs": [
    {
     "data": {
      "text/plain": [
       "<matplotlib.legend.Legend at 0x7f9148168460>"
      ]
     },
     "execution_count": 12,
     "metadata": {},
     "output_type": "execute_result"
    },
    {
     "data": {
      "image/png": "[encoded data removed]",
      "text/plain": [
       "<Figure size 432x288 with 1 Axes>"
      ]
     },
     "metadata": {
      "needs_background": "light"
     },
     "output_type": "display_data"
    }
   ],
   "source": [
    "# проверяем результат\n",
    "\n",
    "# выключаем расчёт градиентов\n",
    "with torch.set_grad_enabled(False):\n",
    "    y_pred = model(xx) # вычисляем значения регресии\n",
    "\n",
    "# рисуем результат    \n",
    "plt.plot(x,y,label='data')\n",
    "plt.plot(x,y_pred,label='predict')\n",
    "plt.legend()"
   ]
  },
  {
   "cell_type": "code",
   "execution_count": null,
   "id": "425c782e",
   "metadata": {},
   "outputs": [],
   "source": []
  }
 ],
 "metadata": {
  "kernelspec": {
   "display_name": "Python 3",
   "language": "python",
   "name": "python3"
  },
  "language_info": {
   "codemirror_mode": {
    "name": "ipython",
    "version": 3
   },
   "file_extension": ".py",
   "mimetype": "text/x-python",
   "name": "python",
   "nbconvert_exporter": "python",
   "pygments_lexer": "ipython3",
   "version": "3.8.9"
  },
  "toc": {
   "base_numbering": 1,
   "nav_menu": {},
   "number_sections": true,
   "sideBar": true,
   "skip_h1_title": false,
   "title_cell": "Table of Contents",
   "title_sidebar": "Contents",
   "toc_cell": false,
   "toc_position": {},
   "toc_section_display": true,
   "toc_window_display": false
  }
 },
 "nbformat": 4,
 "nbformat_minor": 5
}
