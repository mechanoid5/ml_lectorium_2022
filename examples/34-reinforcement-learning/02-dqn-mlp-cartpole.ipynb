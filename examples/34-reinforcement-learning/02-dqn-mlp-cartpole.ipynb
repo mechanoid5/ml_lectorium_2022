{
 "cells": [
  {
   "cell_type": "markdown",
   "metadata": {},
   "source": [
    "**Oбучение с подкреплением**\n",
    "\n",
    "Евгений Борисов <esborisov@sevsu.ru>"
   ]
  },
  {
   "cell_type": "markdown",
   "metadata": {},
   "source": [
    "---"
   ]
  },
  {
   "cell_type": "code",
   "execution_count": 1,
   "metadata": {},
   "outputs": [],
   "source": [
    "import numpy as np"
   ]
  },
  {
   "cell_type": "code",
   "execution_count": 2,
   "metadata": {},
   "outputs": [],
   "source": [
    "# !pip3 install gym\n",
    "# !pip3 install gym[atari]\n",
    "# !pip3 install gym[accept-rom-license]\n",
    "# !pip3 install pygame\n",
    "\n",
    "# https://pypi.org/project/gym-notebook-wrapper/\n",
    "\n",
    "# !pacman -S xorg-server-xvfb\n",
    "# !pip3 install pyvirtualdisplay\n",
    "# !pip3 install xvfbwrapper\n",
    "\n",
    "\n",
    "# !pip3 install box2d\n",
    "\n",
    "# !pip3 install mujoco_py  # env_name = 'Ant-v3'\n",
    "# !pip3 install ale-py     # !ale-import-roms roms/\n"
   ]
  },
  {
   "cell_type": "code",
   "execution_count": 3,
   "metadata": {},
   "outputs": [
    {
     "data": {
      "image/png": "[encoded data removed]",
      "text/plain": [
       "<Figure size 432x288 with 1 Axes>"
      ]
     },
     "metadata": {
      "needs_background": "light"
     },
     "output_type": "display_data"
    }
   ],
   "source": [
    "# блокируем всплывающее окно gym env\n",
    "from pyvirtualdisplay import Display\n",
    "display = Display(visible=0, size=(800,600))\n",
    "display.start()\n",
    "\n",
    "import matplotlib.pyplot as plt\n",
    "from IPython import display\n",
    "import gym \n",
    "\n",
    "env_name = 'CartPole-v1'\n",
    "# env_name = 'Pendulum-v1' \n",
    "\n",
    "env = gym.make(env_name)\n",
    "obs = env.reset()\n",
    "\n",
    "img = plt.imshow(env.render(mode='rgb_array'))\n",
    "plt.grid(False)\n",
    "plt.axis(False)\n",
    "\n",
    "for i in range(100):\n",
    "    action = env.action_space.sample()\n",
    "    obs, reward, done, info = env.step(action)\n",
    "\n",
    "    plt.title(f'step: {i}')\n",
    "    img.set_data(env.render(mode='rgb_array')) \n",
    "    display.display(plt.gcf())\n",
    "    display.clear_output(wait=True)\n",
    "    \n",
    "    # if done: break\n",
    "        \n",
    "env.close()"
   ]
  },
  {
   "cell_type": "code",
   "execution_count": 4,
   "metadata": {},
   "outputs": [],
   "source": [
    "# obs, reward, done"
   ]
  },
  {
   "cell_type": "markdown",
   "metadata": {},
   "source": [
    "---"
   ]
  },
  {
   "cell_type": "code",
   "execution_count": 5,
   "metadata": {},
   "outputs": [],
   "source": [
    "import tensorflow as tf\n",
    "from tensorflow.keras.models import Sequential\n",
    "from tensorflow.keras.layers import Dense\n",
    "# from tensorflow.keras.optimizers import Adam\n",
    "# from keras.layers import Dropout\n",
    "# from keras.optimizers import SGD\n",
    "\n",
    "def create_model(env):\n",
    "    md = Sequential()\n",
    "    md.add(Dense(32, activation='relu',input_shape=env.observation_space.shape))\n",
    "    md.add(Dense(32, activation='relu'))\n",
    "    md.add(Dense(env.action_space.n))\n",
    "    md.compile(loss='mean_squared_error', optimizer='SGD')\n",
    "    #md.add(Dense(env.action_space.n, activation='softmax'))\n",
    "    #md.compile(loss='categorical_crossentropy', optimizer=Adam(lr=1e-4))\n",
    "    return md"
   ]
  },
  {
   "cell_type": "code",
   "execution_count": 6,
   "metadata": {},
   "outputs": [
    {
     "name": "stderr",
     "output_type": "stream",
     "text": [
      "2022-05-29 19:56:01.079903: I tensorflow/stream_executor/cuda/cuda_gpu_executor.cc:936] successful NUMA node read from SysFS had negative value (-1), but there must be at least one NUMA node, so returning NUMA node zero\n",
      "2022-05-29 19:56:01.105263: I tensorflow/stream_executor/cuda/cuda_gpu_executor.cc:936] successful NUMA node read from SysFS had negative value (-1), but there must be at least one NUMA node, so returning NUMA node zero\n",
      "2022-05-29 19:56:01.105556: I tensorflow/stream_executor/cuda/cuda_gpu_executor.cc:936] successful NUMA node read from SysFS had negative value (-1), but there must be at least one NUMA node, so returning NUMA node zero\n",
      "2022-05-29 19:56:01.106561: I tensorflow/core/platform/cpu_feature_guard.cc:151] This TensorFlow binary is optimized with oneAPI Deep Neural Network Library (oneDNN) to use the following CPU instructions in performance-critical operations:  AVX2 FMA\n",
      "To enable them in other operations, rebuild TensorFlow with the appropriate compiler flags.\n",
      "2022-05-29 19:56:01.106818: I tensorflow/stream_executor/cuda/cuda_gpu_executor.cc:936] successful NUMA node read from SysFS had negative value (-1), but there must be at least one NUMA node, so returning NUMA node zero\n",
      "2022-05-29 19:56:01.107071: I tensorflow/stream_executor/cuda/cuda_gpu_executor.cc:936] successful NUMA node read from SysFS had negative value (-1), but there must be at least one NUMA node, so returning NUMA node zero\n",
      "2022-05-29 19:56:01.107200: I tensorflow/stream_executor/cuda/cuda_gpu_executor.cc:936] successful NUMA node read from SysFS had negative value (-1), but there must be at least one NUMA node, so returning NUMA node zero\n",
      "2022-05-29 19:56:01.441225: I tensorflow/stream_executor/cuda/cuda_gpu_executor.cc:936] successful NUMA node read from SysFS had negative value (-1), but there must be at least one NUMA node, so returning NUMA node zero\n",
      "2022-05-29 19:56:01.441414: I tensorflow/stream_executor/cuda/cuda_gpu_executor.cc:936] successful NUMA node read from SysFS had negative value (-1), but there must be at least one NUMA node, so returning NUMA node zero\n",
      "2022-05-29 19:56:01.441527: I tensorflow/stream_executor/cuda/cuda_gpu_executor.cc:936] successful NUMA node read from SysFS had negative value (-1), but there must be at least one NUMA node, so returning NUMA node zero\n",
      "2022-05-29 19:56:01.441620: I tensorflow/core/common_runtime/gpu/gpu_device.cc:1525] Created device /job:localhost/replica:0/task:0/device:GPU:0 with 5369 MB memory:  -> device: 0, name: NVIDIA GeForce GTX 1060 6GB, pci bus id: 0000:01:00.0, compute capability: 6.1\n",
      "2022-05-29 19:56:01.666538: W tensorflow/python/util/util.cc:368] Sets are not currently considered sequences, but this may change in the future, so consider avoiding using them.\n"
     ]
    },
    {
     "name": "stdout",
     "output_type": "stream",
     "text": [
      "INFO:tensorflow:Assets written to: ram://c50345fe-68f3-4667-a3e2-b0a4a8046a9f/assets\n"
     ]
    }
   ],
   "source": [
    "import copy\n",
    "\n",
    "model = create_model(env)\n",
    "# model_target = create_model(env)\n",
    "model_target = copy.deepcopy(model)"
   ]
  },
  {
   "cell_type": "code",
   "execution_count": 7,
   "metadata": {},
   "outputs": [],
   "source": [
    "HISTORY_DEEP = 2000 # глубина истории переходов\n",
    "BATCH_SIZE = 32 # размер батча для обучения модели\n",
    "\n",
    "GAMMA = 0.85 # коэффициент для расчёта оценки reward\n",
    "TAU = 0.125 # определяет различие весов основной и таргет моделей\n",
    "\n",
    "# вероятность использования случайного действия при обучении\n",
    "EPSILON_MAX = 1.0 # в начальном состоянии используем случайный выбор действия\n",
    "EPSILON_MIN = 0.05 # когда модель начала обучаться позволяем ей оценивать действия\n",
    "EPSILON_DECAY = 0.995 # шаг изменения вероятности\n",
    "\n",
    "MAX_EPOCH = 100 # максимальное количество эпох обучения\n",
    "MAX_STEP = 200 # максимальное количество шагов в эпохе (длительность одной игры)\n",
    "\n",
    "MIN_STEP = 120\n",
    "\n",
    "MIN_STEP = MIN_STEP if (MIN_STEP<MAX_STEP) else MAX_STEP-1"
   ]
  },
  {
   "cell_type": "code",
   "execution_count": 8,
   "metadata": {},
   "outputs": [],
   "source": [
    "def reshape_state(s): return s[np.newaxis,:]"
   ]
  },
  {
   "cell_type": "code",
   "execution_count": 9,
   "metadata": {},
   "outputs": [],
   "source": [
    "# выбор действия\n",
    "def get_action(model,state,eps=EPSILON_MAX): # с вероятностью eps выбираем случайное действие\n",
    "    if np.random.rand()<eps: return env.action_space.sample(), 1\n",
    "    return np.argmax( model.predict( state )[0] ), 0"
   ]
  },
  {
   "cell_type": "code",
   "execution_count": 10,
   "metadata": {},
   "outputs": [],
   "source": [
    "def replay(model, model_target, history, batch_size=BATCH_SIZE,gamma=GAMMA):\n",
    "\n",
    "    if len(history) < batch_size: return\n",
    "    \n",
    "    samples = [ history[i] for i in np.random.permutation(len(history))[:batch_size] ] \n",
    "\n",
    "    for s in samples:\n",
    "        target = model_target.predict( s['state0'] )\n",
    "        \n",
    "        target[0][ s['act'] ] = s['reward'] \n",
    "        \n",
    "        if s['isdone']:\n",
    "            target[0][ s['act'] ] = s['reward']\n",
    "        else:\n",
    "            target[0][ s['act'] ] = s['reward'] + gamma*max(model_target.predict(s['state1'])[0])\n",
    "            \n",
    "        # model.fit( s['state0'], target, epochs=1, verbose=0)\n",
    "        model.train_on_batch(s['state0'], target)"
   ]
  },
  {
   "cell_type": "code",
   "execution_count": 11,
   "metadata": {},
   "outputs": [],
   "source": [
    "def target_train(model, model_target,tau=TAU):\n",
    "    weights = model.get_weights()\n",
    "    target_weights = model_target.get_weights()\n",
    "    for i in range(len(target_weights)):\n",
    "        target_weights[i] = weights[i] * tau + target_weights[i] * (1. - tau)\n",
    "    model_target.set_weights(target_weights)"
   ]
  },
  {
   "cell_type": "code",
   "execution_count": 12,
   "metadata": {},
   "outputs": [
    {
     "name": "stdout",
     "output_type": "stream",
     "text": [
      "1/100 : 14 steps\n",
      "2/100 : 21 steps\n",
      "3/100 : 15 steps\n",
      "4/100 : 50 steps\n",
      "5/100 : 31 steps\n",
      "6/100 : 53 steps\n",
      "7/100 : 30 steps\n",
      "8/100 : 60 steps\n",
      "9/100 : 61 steps\n",
      "10/100 : 25 steps\n",
      "11/100 : 200 steps\n",
      "STEP BOUND!\n",
      "CPU times: user 18min 46s, sys: 32.1 s, total: 19min 18s\n",
      "Wall time: 17min 59s\n"
     ]
    }
   ],
   "source": [
    "%%time\n",
    "\n",
    "history = []\n",
    "\n",
    "epsilon = EPSILON_MAX # вероятность использования случайного действия при обучении\n",
    "\n",
    "for e in range(MAX_EPOCH):\n",
    "    # инициализируем среду\n",
    "    state0 = env.reset() \n",
    "    state0 = reshape_state(state0)\n",
    "    for st in range(MAX_STEP):\n",
    "        \n",
    "        # выбираем действие\n",
    "        act, is_act_rand = get_action(model,state0,epsilon)\n",
    "        # применяем действие\n",
    "        state1, reward, done, _ = env.step(act)\n",
    "        state1 = reshape_state(state1)\n",
    "    \n",
    "        # сохраняем историю\n",
    "        history.append({'state0':state0,'state1':state1,'act':act,'reward':reward,'isdone':done})\n",
    "        history = history[-HISTORY_DEEP:] # ограничиваем историю\n",
    "\n",
    "        # коррекция основной модели\n",
    "        replay(model, model_target, history)\n",
    "        \n",
    "        # коррекция таргет модели\n",
    "        target_train(model, model_target)\n",
    "                \n",
    "        if done: break\n",
    "        state0 = state1\n",
    "        epsilon = max(EPSILON_MIN, epsilon*EPSILON_DECAY)\n",
    "                \n",
    "    print('%d/%d : %d steps'%(e+1,MAX_EPOCH,st+1))  \n",
    "    \n",
    "    if st>MIN_STEP: \n",
    "        print('STEP BOUND!')\n",
    "        break"
   ]
  },
  {
   "cell_type": "code",
   "execution_count": 13,
   "metadata": {},
   "outputs": [
    {
     "name": "stdout",
     "output_type": "stream",
     "text": [
      "INFO:tensorflow:Assets written to: CartPole-199.model/assets\n"
     ]
    }
   ],
   "source": [
    "model_name = f'CartPole-{st}.model'\n",
    "model.save(model_name)"
   ]
  },
  {
   "cell_type": "markdown",
   "metadata": {},
   "source": [
    "---"
   ]
  },
  {
   "cell_type": "code",
   "execution_count": 14,
   "metadata": {},
   "outputs": [],
   "source": [
    "# model_name = 'CartPole-170.model'"
   ]
  },
  {
   "cell_type": "code",
   "execution_count": 15,
   "metadata": {},
   "outputs": [],
   "source": [
    "from keras.models import load_model\n",
    "model_ = load_model(model_name)"
   ]
  },
  {
   "cell_type": "code",
   "execution_count": 19,
   "metadata": {},
   "outputs": [
    {
     "data": {
      "image/png": "[encoded data removed]",
      "text/plain": [
       "<Figure size 432x288 with 1 Axes>"
      ]
     },
     "metadata": {
      "needs_background": "light"
     },
     "output_type": "display_data"
    }
   ],
   "source": [
    "# блокируем всплывающее окно gym env\n",
    "from pyvirtualdisplay import Display\n",
    "display = Display(visible=0, size=(800,600))\n",
    "display.start()\n",
    "\n",
    "import matplotlib.pyplot as plt\n",
    "from IPython import display\n",
    "import gym \n",
    "\n",
    "# env_name = 'CartPole-v1'\n",
    "# env_name = 'Pendulum-v1' \n",
    "\n",
    "env = gym.make(env_name)\n",
    "obs = env.reset()\n",
    "\n",
    "img = plt.imshow(env.render(mode='rgb_array'))\n",
    "plt.grid(False)\n",
    "plt.axis(False)\n",
    "\n",
    "for i in range(100):\n",
    "    # action = env.action_space.sample()\n",
    "    action = np.argmax( model_.predict(obs[np.newaxis,:])[0] )   \n",
    "    obs, reward, done, info = env.step(action)\n",
    "\n",
    "    plt.title(f'step: {i}')\n",
    "    img.set_data(env.render(mode='rgb_array')) \n",
    "    display.display(plt.gcf())\n",
    "    display.clear_output(wait=True)\n",
    "    \n",
    "    if done: break\n",
    "        \n",
    "env.close()"
   ]
  },
  {
   "cell_type": "markdown",
   "metadata": {},
   "source": [
    "---"
   ]
  },
  {
   "cell_type": "code",
   "execution_count": 17,
   "metadata": {},
   "outputs": [],
   "source": [
    "# # блокируем всплывающее окно gym env\n",
    "# from pyvirtualdisplay import Display\n",
    "# display = Display(visible=0, size=(800,600))\n",
    "# display.start()\n",
    "\n",
    "# import matplotlib.pyplot as plt\n",
    "# from IPython import display\n",
    "# import gym \n",
    "\n",
    "# # env_name = 'Pendulum-v1' \n",
    "# # env_name = 'BreakoutNoFrameskip-v4'\n",
    "# env_name = 'SpaceInvaders-v0'\n",
    "\n",
    "# env = gym.make(env_name)\n",
    "# obs = env.reset()\n",
    "\n",
    "# img = plt.imshow(env.render(mode='rgb_array'))\n",
    "# plt.grid(False)\n",
    "# plt.axis(False)\n",
    "\n",
    "# for i in range(100):\n",
    "#     action = env.action_space.sample()\n",
    "#     obs, reward, done, info = env.step(action)\n",
    "\n",
    "#     plt.title(f'step: {i}')\n",
    "#     img.set_data(env.render(mode='rgb_array')) \n",
    "#     display.display(plt.gcf())\n",
    "#     display.clear_output(wait=True)\n",
    "    \n",
    "#     if done: break\n",
    "        \n",
    "# env.close()"
   ]
  },
  {
   "cell_type": "markdown",
   "metadata": {},
   "source": [
    "---"
   ]
  },
  {
   "cell_type": "code",
   "execution_count": 18,
   "metadata": {},
   "outputs": [
    {
     "name": "stdout",
     "output_type": "stream",
     "text": [
      "Python implementation: CPython\n",
      "Python version       : 3.8.9\n",
      "IPython version      : 8.0.1\n",
      "\n",
      "tensorflow: 2.8.0\n",
      "numpy     : 1.22.2\n",
      "gym       : 0.23.1\n",
      "IPython   : 8.0.1\n",
      "matplotlib: 3.5.1\n",
      "\n"
     ]
    }
   ],
   "source": [
    "# !pip3 install watermark\n",
    "# Python package versions used\n",
    "%load_ext watermark\n",
    "%watermark --python\n",
    "%watermark --iversions\n",
    "#"
   ]
  },
  {
   "cell_type": "code",
   "execution_count": null,
   "metadata": {},
   "outputs": [],
   "source": []
  }
 ],
 "metadata": {
  "kernelspec": {
   "display_name": "Python 3 (ipykernel)",
   "language": "python",
   "name": "python3"
  },
  "language_info": {
   "codemirror_mode": {
    "name": "ipython",
    "version": 3
   },
   "file_extension": ".py",
   "mimetype": "text/x-python",
   "name": "python",
   "nbconvert_exporter": "python",
   "pygments_lexer": "ipython3",
   "version": "3.8.9"
  },
  "toc": {
   "base_numbering": 1,
   "nav_menu": {},
   "number_sections": true,
   "sideBar": true,
   "skip_h1_title": false,
   "title_cell": "Table of Contents",
   "title_sidebar": "Contents",
   "toc_cell": false,
   "toc_position": {},
   "toc_section_display": true,
   "toc_window_display": false
  }
 },
 "nbformat": 4,
 "nbformat_minor": 2
}
