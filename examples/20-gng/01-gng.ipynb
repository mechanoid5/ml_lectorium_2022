{
 "cells": [
  {
   "cell_type": "markdown",
   "metadata": {},
   "source": [
    "**Growing Neural Gas**\n",
    "\n",
    "\n",
    "Евгений Борисов <esborisov@sevsu.ru>"
   ]
  },
  {
   "cell_type": "markdown",
   "metadata": {},
   "source": [
    "---"
   ]
  },
  {
   "cell_type": "markdown",
   "metadata": {},
   "source": [
    "Thomas Martinetz, Klaus Schulten A \"neural gas\" network learns topologies., Artificial Neural Networks. Elsevier. 1991, pp. 397–402.   \n",
    "http://www.ks.uiuc.edu/Publications/Papers/PDF/MART91B/MART91B.pdf\n",
    "\n",
    "Bernd Fritzke  A Growing Neural Gas Network Learns Topologies.    \n",
    "https://proceedings.neurips.cc/paper/1994/file/d56b9fc4b0f1be8871f5e1c40c0067e7-Paper.pdf\n",
    "\n",
    "\n",
    "Нестандартная кластеризация 5: Growing Neural Gas.\n",
    "https://habr.com/ru/post/340360/\n",
    "    \n",
    "    \n",
    "Расширяющийся нейронный газ.\n",
    "https://habr.com/ru/post/544094/    "
   ]
  },
  {
   "cell_type": "markdown",
   "metadata": {},
   "source": [
    "https://github.com/Siarshai/MicroGrowingNeuralGas"
   ]
  },
  {
   "cell_type": "markdown",
   "metadata": {},
   "source": [
    "https://demogng.de/js/demogng.html?model=NG&showAutoRestart"
   ]
  },
  {
   "cell_type": "markdown",
   "metadata": {},
   "source": [
    "---"
   ]
  },
  {
   "cell_type": "code",
   "execution_count": 1,
   "metadata": {},
   "outputs": [],
   "source": [
    "import numpy as np\n",
    "from numpy import random as rng \n",
    "import matplotlib.pyplot as plt"
   ]
  },
  {
   "cell_type": "code",
   "execution_count": 2,
   "metadata": {},
   "outputs": [
    {
     "data": {
      "text/plain": [
       "(500, 2)"
      ]
     },
     "execution_count": 2,
     "metadata": {},
     "output_type": "execute_result"
    }
   ],
   "source": [
    "from sklearn.datasets import make_moons\n",
    "\n",
    "n_samples = 500\n",
    "X, _ = make_moons(n_samples=n_samples, noise=.09)\n",
    "X.shape"
   ]
  },
  {
   "cell_type": "code",
   "execution_count": 5,
   "metadata": {},
   "outputs": [
    {
     "data": {
      "text/plain": [
       "(500, 2)"
      ]
     },
     "execution_count": 5,
     "metadata": {},
     "output_type": "execute_result"
    }
   ],
   "source": [
    "# from sklearn.preprocessing import StandardScaler\n",
    "\n",
    "# X_train = StandardScaler().fit_transform(X)\n",
    "X_train = X.copy()\n",
    "del X\n",
    "\n",
    "X_train.shape"
   ]
  },
  {
   "cell_type": "code",
   "execution_count": 6,
   "metadata": {},
   "outputs": [
    {
     "data": {
      "text/plain": [
       "<matplotlib.collections.PathCollection at 0x7fd3902aa910>"
      ]
     },
     "execution_count": 6,
     "metadata": {},
     "output_type": "execute_result"
    },
    {
     "data": {
      "image/png": "[encoded data removed]",
      "text/plain": [
       "<Figure size 720x504 with 1 Axes>"
      ]
     },
     "metadata": {
      "needs_background": "light"
     },
     "output_type": "display_data"
    }
   ],
   "source": [
    "plt.figure(figsize=(10,7))\n",
    "plt.scatter( x=X_train[:,0], y=X_train[:,1], s=10, marker='.' )"
   ]
  },
  {
   "cell_type": "markdown",
   "metadata": {},
   "source": [
    "---"
   ]
  },
  {
   "cell_type": "code",
   "execution_count": 18,
   "metadata": {},
   "outputs": [],
   "source": [
    "from sklearn.metrics.pairwise import euclidean_distances\n",
    "\n",
    "n_samples, n_features = X_train.shape\n",
    "\n",
    "# инициализируем вершины графа (матрицу весов сети)\n",
    "v = rng.normal( size=(2,n_features), scale=.1 )\n",
    "\n",
    "error = np.zeros(2,) # погрешность вершин относительно данных\n",
    "\n",
    "edge = np.zeros(shape=(2,2)) # матрица смежности/ \"возраст\" рёбер\n",
    "edge[0,1] = 1 \n",
    "edge[1,0] = 1 \n",
    "\n",
    "# список рёбер графа (пары номеров вершин)\n",
    "# edge = [ set([0,1]), ]\n",
    "# age = np.zeros(1,dtype=int) # \"возраст\" рёбер"
   ]
  },
  {
   "cell_type": "code",
   "execution_count": 19,
   "metadata": {},
   "outputs": [],
   "source": [
    "# выбираем точку\n",
    "i = rng.permutation(n_samples)[0]\n",
    "x = X_train[i][np.newaxis,:]"
   ]
  },
  {
   "cell_type": "code",
   "execution_count": 20,
   "metadata": {},
   "outputs": [],
   "source": [
    "# матрица расстояний от точки до всех вершин\n",
    "d = euclidean_distances(x,v).flatten() \n",
    "\n",
    "# найти две вершины, ближайших к x\n",
    "winner,second = np.argsort(d)[:2]"
   ]
  },
  {
   "cell_type": "markdown",
   "metadata": {},
   "source": [
    "Накопить в массиве ошибок расстояние от ноды до сгенерированного образца данных:\n",
    "\n",
    "$error_s \\leftarrow error_s + \\left\\|\\vec{w_s} - \\vec{x}\\right\\|$"
   ]
  },
  {
   "cell_type": "code",
   "execution_count": 21,
   "metadata": {},
   "outputs": [],
   "source": [
    "error[winner] = error[winner]+d[winner]"
   ]
  },
  {
   "cell_type": "code",
   "execution_count": 27,
   "metadata": {},
   "outputs": [],
   "source": [
    "# список вершин соединённых с winner\n",
    "neighbor = np.where(edge[winner]>0)[0]"
   ]
  },
  {
   "cell_type": "markdown",
   "metadata": {},
   "source": [
    "Обновить местоположение s \n",
    "\n",
    "\n",
    "$\\vec{w_s} \\leftarrow \\vec{w_s} + \\eta_{winner}(\\vec{x} - \\vec{w_s})$\n",
    "\n",
    "и всех нейронов, соединённых с ним рёбрами. \n",
    "\n",
    "$\\vec{w_n} \\leftarrow \\vec{w_n} + \\eta_{neighbour}(\\vec{x} - \\vec{w_n}), \\forall w_n$\n",
    "\n",
    "используются разные скорости обучения\n",
    "\n"
   ]
  },
  {
   "cell_type": "code",
   "execution_count": 29,
   "metadata": {},
   "outputs": [],
   "source": [
    "lr_winner = .9\n",
    "lr_neighbor = .4"
   ]
  },
  {
   "cell_type": "code",
   "execution_count": 30,
   "metadata": {},
   "outputs": [],
   "source": [
    "lr = np.zeros(shape=(len(v),1))\n",
    "lr[winner] = lr_winner\n",
    "lr[neighbor] = lr_neighbor"
   ]
  },
  {
   "cell_type": "code",
   "execution_count": 31,
   "metadata": {},
   "outputs": [],
   "source": [
    "v += lr*(x-v)"
   ]
  },
  {
   "cell_type": "markdown",
   "metadata": {},
   "source": [
    "Увеличить возраст всех дуг, исходящих из нейрона winner"
   ]
  },
  {
   "cell_type": "code",
   "execution_count": null,
   "metadata": {},
   "outputs": [],
   "source": [
    "\n",
    "# winner_edges = [ i for i,e in enumerate(edge) if winner in e  ]\n",
    "# age[winner_edges]+=1"
   ]
  },
  {
   "cell_type": "markdown",
   "metadata": {},
   "source": [
    "Если $winner$ и $second$ уже соединены дугой,   \n",
    "то обнулить возраст этой дуги,   \n",
    "иначе создать дугу с возрастом 0 между ними"
   ]
  },
  {
   "cell_type": "code",
   "execution_count": null,
   "metadata": {},
   "outputs": [],
   "source": [
    "# e_winner = set([winner,second])\n",
    "# if e_winner in edge:\n",
    "#     age[edge.index(e_winner)]=0\n",
    "# else:\n",
    "#     edge.append(e_winner)\n",
    "#     age.append(0)"
   ]
  },
  {
   "cell_type": "markdown",
   "metadata": {},
   "source": [
    "удалить все ноды, из которых не исходит ни одной дуги"
   ]
  },
  {
   "cell_type": "code",
   "execution_count": null,
   "metadata": {},
   "outputs": [],
   "source": [
    "# set.union(*edge)"
   ]
  },
  {
   "cell_type": "markdown",
   "metadata": {},
   "source": [
    "---"
   ]
  },
  {
   "cell_type": "code",
   "execution_count": 16,
   "metadata": {},
   "outputs": [],
   "source": [
    "# fig = plt.figure()\n",
    "# plt.scatter(*data.T, alpha=0.02)\n",
    "# plt.xticks([], [])\n",
    "# plt.yticks([], [])\n",
    "\n",
    "# def animate(i):\n",
    "#     for line in animate.prev_lines:\n",
    "#         line.remove()\n",
    "        \n",
    "#     # Training will slow down overtime and we increase number\n",
    "#     # of data samples for training\n",
    "#     n = int(0.5 * gng.n_iter_before_neuron_added * (1 + i // 100))\n",
    "    \n",
    "#     sampled_data_ids = np.random.choice(len(data), n)\n",
    "#     sampled_data = data[sampled_data_ids, :]\n",
    "#     gng.train(sampled_data, epochs=1)\n",
    "    \n",
    "#     lines = []\n",
    "#     for node_1, node_2 in gng.graph.edges:\n",
    "#         weights = np.concatenate([node_1.weight, node_2.weight])\n",
    "#         line, = plt.plot(*weights.T, color='black')\n",
    "\n",
    "#         plt.setp(line, linewidth=1, color='black')\n",
    "        \n",
    "#         lines.append(line)\n",
    "#         lines.append(plt.scatter(*weights.T, color='black', s=10))\n",
    "    \n",
    "#     animate.prev_lines = lines\n",
    "#     return lines\n",
    "\n",
    "# animate.prev_lines = []\n",
    "# anim = animation.FuncAnimation(fig, animate, tqdm(np.arange(220)), interval=30, blit=True)\n",
    "# HTML(anim.to_html5_video())"
   ]
  },
  {
   "cell_type": "code",
   "execution_count": null,
   "metadata": {},
   "outputs": [],
   "source": []
  }
 ],
 "metadata": {
  "kernelspec": {
   "display_name": "Python 3",
   "language": "python",
   "name": "python3"
  },
  "language_info": {
   "codemirror_mode": {
    "name": "ipython",
    "version": 3
   },
   "file_extension": ".py",
   "mimetype": "text/x-python",
   "name": "python",
   "nbconvert_exporter": "python",
   "pygments_lexer": "ipython3",
   "version": "3.8.9"
  },
  "toc": {
   "base_numbering": 1,
   "nav_menu": {},
   "number_sections": true,
   "sideBar": true,
   "skip_h1_title": false,
   "title_cell": "Table of Contents",
   "title_sidebar": "Contents",
   "toc_cell": false,
   "toc_position": {},
   "toc_section_display": "block",
   "toc_window_display": false
  }
 },
 "nbformat": 4,
 "nbformat_minor": 2
}
