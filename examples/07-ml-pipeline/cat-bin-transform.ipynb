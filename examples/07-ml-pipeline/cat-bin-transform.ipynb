{
 "cells": [
  {
   "cell_type": "markdown",
   "id": "07193418",
   "metadata": {},
   "source": [
    "**категоризация и бинаризация признаков**\n",
    "\n",
    "Евгений Борисов esborisov@sevsu.ru"
   ]
  },
  {
   "cell_type": "code",
   "execution_count": 1,
   "id": "c1656483",
   "metadata": {},
   "outputs": [],
   "source": [
    "import numpy as np\n",
    "from numpy import random as rng\n",
    "from matplotlib import pyplot as plt\n",
    "import pandas as pd"
   ]
  },
  {
   "cell_type": "code",
   "execution_count": 2,
   "id": "9e228dcb",
   "metadata": {},
   "outputs": [],
   "source": [
    "np.set_printoptions(precision=3)\n",
    "pd.options.display.float_format = '{:,.3f}'.format"
   ]
  },
  {
   "cell_type": "code",
   "execution_count": 3,
   "id": "985fcf0e",
   "metadata": {},
   "outputs": [],
   "source": [
    "class Categorizer:\n",
    "    \n",
    "    def __init__(self,percentiles=[],scale=None):\n",
    "        self._percentiles = percentiles if len(percentiles)>0 else [10,25,50,75,95]\n",
    "        if scale is None:\n",
    "            self._scale = np.array([])\n",
    "            self._pos = np.array([])\n",
    "        else:\n",
    "            assert type( scale) is np.ndarray, 'scale is not numpy array'\n",
    "            assert len(scale.shape)==1, 'scale is not 1d numpy array'\n",
    "            self._scale = scale\n",
    "            self._pos = np.array([range(len(self._scale))])+1\n",
    "        \n",
    "    @property    \n",
    "    def scale(self): \n",
    "        return self._scale\n",
    "    \n",
    "    @property    \n",
    "    def percentiles(self): \n",
    "        return self._percentiles\n",
    "        \n",
    "    def fit(self,x):\n",
    "        assert type(x) is np.ndarray, 'x is not numpy array'\n",
    "        assert len(x.shape)==2,'column vector needed'\n",
    "        assert x.shape[1]==1,'column vector needed'\n",
    "        self._scale = np.percentile(x,self._percentiles,axis=0).flatten() \n",
    "        self._pos = np.array([range(len(self._scale))])+1\n",
    "        return self\n",
    "\n",
    "    def transform(self,x):\n",
    "        assert len(x.shape)==2,'column vector needed'\n",
    "        assert x.shape[1]==1,'column vector needed'\n",
    "        r = (x > self._scale)*self._pos\n",
    "        return np.where( r.sum(axis=1)>0, np.max(r,axis=1), 0 )[:,np.newaxis]"
   ]
  },
  {
   "cell_type": "code",
   "execution_count": 4,
   "id": "735b3611",
   "metadata": {},
   "outputs": [],
   "source": [
    "class Binarizer:\n",
    "    \n",
    "    @staticmethod\n",
    "    def transform(cat):  \n",
    "        assert type(cat) is np.ndarray, 'cat is not numpy array'\n",
    "        assert cat.dtype == int, 'values is not int type'\n",
    "        return np.eye(cat.max()+1,dtype=np.int8)[cat]"
   ]
  },
  {
   "cell_type": "markdown",
   "id": "88cc25a1",
   "metadata": {},
   "source": [
    "---"
   ]
  },
  {
   "cell_type": "code",
   "execution_count": 5,
   "id": "f6475d94",
   "metadata": {},
   "outputs": [],
   "source": [
    "x = rng.uniform(size=(100,1)) # генерируем случайный набор значений "
   ]
  },
  {
   "cell_type": "code",
   "execution_count": 6,
   "id": "ee3d1155",
   "metadata": {},
   "outputs": [],
   "source": [
    "cat = Categorizer().fit(x) # выполняем категоризацию\n",
    "\n",
    "# собираем всё в таблицу\n",
    "df = pd.DataFrame(np.hstack([x,cat.transform(x)]),columns=['x','cat']).convert_dtypes()\n",
    "\n",
    "# выполняем бинаризацию категорий\n",
    "df['bin'] = Binarizer.transform( df['cat'].to_numpy(dtype=int) ).tolist()"
   ]
  },
  {
   "cell_type": "code",
   "execution_count": 7,
   "id": "68352437",
   "metadata": {},
   "outputs": [
    {
     "data": {
      "text/html": [
       "<div>\n",
       "<style scoped>\n",
       "    .dataframe tbody tr th:only-of-type {\n",
       "        vertical-align: middle;\n",
       "    }\n",
       "\n",
       "    .dataframe tbody tr th {\n",
       "        vertical-align: top;\n",
       "    }\n",
       "\n",
       "    .dataframe thead th {\n",
       "        text-align: right;\n",
       "    }\n",
       "</style>\n",
       "<table border=\"1\" class=\"dataframe\">\n",
       "  <thead>\n",
       "    <tr style=\"text-align: right;\">\n",
       "      <th>percentiles</th>\n",
       "      <th>10</th>\n",
       "      <th>25</th>\n",
       "      <th>50</th>\n",
       "      <th>75</th>\n",
       "      <th>95</th>\n",
       "    </tr>\n",
       "  </thead>\n",
       "  <tbody>\n",
       "    <tr>\n",
       "      <th>scale</th>\n",
       "      <td>0.075</td>\n",
       "      <td>0.288</td>\n",
       "      <td>0.550</td>\n",
       "      <td>0.813</td>\n",
       "      <td>0.966</td>\n",
       "    </tr>\n",
       "  </tbody>\n",
       "</table>\n",
       "</div>"
      ],
      "text/plain": [
       "percentiles    10    25    50    75    95\n",
       "scale       0.075 0.288 0.550 0.813 0.966"
      ]
     },
     "execution_count": 7,
     "metadata": {},
     "output_type": "execute_result"
    }
   ],
   "source": [
    "pd.DataFrame({ # шкала категоризации\n",
    "'percentiles':cat.percentiles,\n",
    "'scale':cat.scale,\n",
    "}).set_index('percentiles').T\n"
   ]
  },
  {
   "cell_type": "code",
   "execution_count": 8,
   "id": "ea772c8e",
   "metadata": {},
   "outputs": [
    {
     "data": {
      "text/html": [
       "<div>\n",
       "<style scoped>\n",
       "    .dataframe tbody tr th:only-of-type {\n",
       "        vertical-align: middle;\n",
       "    }\n",
       "\n",
       "    .dataframe tbody tr th {\n",
       "        vertical-align: top;\n",
       "    }\n",
       "\n",
       "    .dataframe thead th {\n",
       "        text-align: right;\n",
       "    }\n",
       "</style>\n",
       "<table border=\"1\" class=\"dataframe\">\n",
       "  <thead>\n",
       "    <tr style=\"text-align: right;\">\n",
       "      <th></th>\n",
       "      <th>x</th>\n",
       "      <th>cat</th>\n",
       "      <th>bin</th>\n",
       "    </tr>\n",
       "  </thead>\n",
       "  <tbody>\n",
       "    <tr>\n",
       "      <th>75</th>\n",
       "      <td>0.534</td>\n",
       "      <td>2</td>\n",
       "      <td>[0, 0, 1, 0, 0, 0]</td>\n",
       "    </tr>\n",
       "    <tr>\n",
       "      <th>60</th>\n",
       "      <td>0.004</td>\n",
       "      <td>0</td>\n",
       "      <td>[1, 0, 0, 0, 0, 0]</td>\n",
       "    </tr>\n",
       "    <tr>\n",
       "      <th>55</th>\n",
       "      <td>0.736</td>\n",
       "      <td>3</td>\n",
       "      <td>[0, 0, 0, 1, 0, 0]</td>\n",
       "    </tr>\n",
       "    <tr>\n",
       "      <th>81</th>\n",
       "      <td>0.291</td>\n",
       "      <td>2</td>\n",
       "      <td>[0, 0, 1, 0, 0, 0]</td>\n",
       "    </tr>\n",
       "    <tr>\n",
       "      <th>8</th>\n",
       "      <td>0.649</td>\n",
       "      <td>3</td>\n",
       "      <td>[0, 0, 0, 1, 0, 0]</td>\n",
       "    </tr>\n",
       "    <tr>\n",
       "      <th>58</th>\n",
       "      <td>0.848</td>\n",
       "      <td>4</td>\n",
       "      <td>[0, 0, 0, 0, 1, 0]</td>\n",
       "    </tr>\n",
       "    <tr>\n",
       "      <th>90</th>\n",
       "      <td>0.010</td>\n",
       "      <td>0</td>\n",
       "      <td>[1, 0, 0, 0, 0, 0]</td>\n",
       "    </tr>\n",
       "    <tr>\n",
       "      <th>36</th>\n",
       "      <td>0.613</td>\n",
       "      <td>3</td>\n",
       "      <td>[0, 0, 0, 1, 0, 0]</td>\n",
       "    </tr>\n",
       "    <tr>\n",
       "      <th>77</th>\n",
       "      <td>0.452</td>\n",
       "      <td>2</td>\n",
       "      <td>[0, 0, 1, 0, 0, 0]</td>\n",
       "    </tr>\n",
       "    <tr>\n",
       "      <th>76</th>\n",
       "      <td>0.239</td>\n",
       "      <td>1</td>\n",
       "      <td>[0, 1, 0, 0, 0, 0]</td>\n",
       "    </tr>\n",
       "    <tr>\n",
       "      <th>13</th>\n",
       "      <td>0.953</td>\n",
       "      <td>4</td>\n",
       "      <td>[0, 0, 0, 0, 1, 0]</td>\n",
       "    </tr>\n",
       "    <tr>\n",
       "      <th>9</th>\n",
       "      <td>0.378</td>\n",
       "      <td>2</td>\n",
       "      <td>[0, 0, 1, 0, 0, 0]</td>\n",
       "    </tr>\n",
       "  </tbody>\n",
       "</table>\n",
       "</div>"
      ],
      "text/plain": [
       "       x  cat                 bin\n",
       "75 0.534    2  [0, 0, 1, 0, 0, 0]\n",
       "60 0.004    0  [1, 0, 0, 0, 0, 0]\n",
       "55 0.736    3  [0, 0, 0, 1, 0, 0]\n",
       "81 0.291    2  [0, 0, 1, 0, 0, 0]\n",
       "8  0.649    3  [0, 0, 0, 1, 0, 0]\n",
       "58 0.848    4  [0, 0, 0, 0, 1, 0]\n",
       "90 0.010    0  [1, 0, 0, 0, 0, 0]\n",
       "36 0.613    3  [0, 0, 0, 1, 0, 0]\n",
       "77 0.452    2  [0, 0, 1, 0, 0, 0]\n",
       "76 0.239    1  [0, 1, 0, 0, 0, 0]\n",
       "13 0.953    4  [0, 0, 0, 0, 1, 0]\n",
       "9  0.378    2  [0, 0, 1, 0, 0, 0]"
      ]
     },
     "execution_count": 8,
     "metadata": {},
     "output_type": "execute_result"
    }
   ],
   "source": [
    "df.sample(12)"
   ]
  },
  {
   "cell_type": "code",
   "execution_count": null,
   "id": "f99ff628",
   "metadata": {},
   "outputs": [],
   "source": []
  }
 ],
 "metadata": {
  "kernelspec": {
   "display_name": "Python 3 (ipykernel)",
   "language": "python",
   "name": "python3"
  },
  "language_info": {
   "codemirror_mode": {
    "name": "ipython",
    "version": 3
   },
   "file_extension": ".py",
   "mimetype": "text/x-python",
   "name": "python",
   "nbconvert_exporter": "python",
   "pygments_lexer": "ipython3",
   "version": "3.8.9"
  },
  "toc": {
   "base_numbering": 1,
   "nav_menu": {},
   "number_sections": true,
   "sideBar": true,
   "skip_h1_title": false,
   "title_cell": "Table of Contents",
   "title_sidebar": "Contents",
   "toc_cell": false,
   "toc_position": {},
   "toc_section_display": true,
   "toc_window_display": false
  }
 },
 "nbformat": 4,
 "nbformat_minor": 5
}
