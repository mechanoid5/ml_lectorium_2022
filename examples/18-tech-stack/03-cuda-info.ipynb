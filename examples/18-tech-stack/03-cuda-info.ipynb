{
 "cells": [
  {
   "cell_type": "markdown",
   "metadata": {},
   "source": [
    "**CUDA**\n",
    "\n",
    "Евгений Борисов <esborisov@sevsu.ru>"
   ]
  },
  {
   "cell_type": "code",
   "execution_count": 1,
   "metadata": {},
   "outputs": [],
   "source": [
    "import pycuda.autoinit\n",
    "import pycuda.driver as cuda"
   ]
  },
  {
   "cell_type": "code",
   "execution_count": 2,
   "metadata": {},
   "outputs": [
    {
     "name": "stdout",
     "output_type": "stream",
     "text": [
      "total 6075MB\n",
      "free 5628MB - 92.65% \n"
     ]
    }
   ],
   "source": [
    "(free,total)=cuda.mem_get_info()\n",
    "print('total %iMB'%(total//1024**2))\n",
    "print('free %iMB - %.02f%% '%(free//1024**2,free*100/total))"
   ]
  },
  {
   "cell_type": "code",
   "execution_count": 3,
   "metadata": {},
   "outputs": [
    {
     "data": {
      "text/plain": [
       "1"
      ]
     },
     "execution_count": 3,
     "metadata": {},
     "output_type": "execute_result"
    }
   ],
   "source": [
    "cuda.Device.count()"
   ]
  },
  {
   "cell_type": "code",
   "execution_count": 4,
   "metadata": {},
   "outputs": [],
   "source": [
    "device = cuda.Device(0)"
   ]
  },
  {
   "cell_type": "code",
   "execution_count": 5,
   "metadata": {},
   "outputs": [
    {
     "data": {
      "text/plain": [
       "'GeForce GTX 1060 6GB'"
      ]
     },
     "execution_count": 5,
     "metadata": {},
     "output_type": "execute_result"
    }
   ],
   "source": [
    "device.name()"
   ]
  },
  {
   "cell_type": "code",
   "execution_count": 6,
   "metadata": {},
   "outputs": [],
   "source": [
    "attrs = device.get_attributes()"
   ]
  },
  {
   "cell_type": "code",
   "execution_count": 7,
   "metadata": {},
   "outputs": [
    {
     "data": {
      "text/plain": [
       "(6, 1)"
      ]
     },
     "execution_count": 7,
     "metadata": {},
     "output_type": "execute_result"
    }
   ],
   "source": [
    "(\n",
    "attrs[pycuda._driver.device_attribute.COMPUTE_CAPABILITY_MAJOR],\n",
    "attrs[pycuda._driver.device_attribute.COMPUTE_CAPABILITY_MINOR]\n",
    ")"
   ]
  },
  {
   "cell_type": "code",
   "execution_count": 8,
   "metadata": {},
   "outputs": [],
   "source": [
    "# attrs.keys()"
   ]
  },
  {
   "cell_type": "code",
   "execution_count": 9,
   "metadata": {},
   "outputs": [
    {
     "name": "stdout",
     "output_type": "stream",
     "text": [
      "ASYNC_ENGINE_COUNT:2\n",
      "CAN_MAP_HOST_MEMORY:1\n",
      "CLOCK_RATE:1847500\n",
      "COMPUTE_CAPABILITY_MAJOR:6\n",
      "COMPUTE_CAPABILITY_MINOR:1\n",
      "COMPUTE_MODE:DEFAULT\n",
      "CONCURRENT_KERNELS:1\n",
      "ECC_ENABLED:0\n",
      "GLOBAL_L1_CACHE_SUPPORTED:1\n",
      "GLOBAL_MEMORY_BUS_WIDTH:192\n",
      "GPU_OVERLAP:1\n",
      "INTEGRATED:0\n",
      "KERNEL_EXEC_TIMEOUT:1\n",
      "L2_CACHE_SIZE:1572864\n",
      "LOCAL_L1_CACHE_SUPPORTED:1\n",
      "MANAGED_MEMORY:1\n",
      "MAXIMUM_SURFACE1D_LAYERED_LAYERS:2048\n",
      "MAXIMUM_SURFACE1D_LAYERED_WIDTH:32768\n",
      "MAXIMUM_SURFACE1D_WIDTH:32768\n",
      "MAXIMUM_SURFACE2D_HEIGHT:65536\n",
      "MAXIMUM_SURFACE2D_LAYERED_HEIGHT:32768\n",
      "MAXIMUM_SURFACE2D_LAYERED_LAYERS:2048\n",
      "MAXIMUM_SURFACE2D_LAYERED_WIDTH:32768\n",
      "MAXIMUM_SURFACE2D_WIDTH:131072\n",
      "MAXIMUM_SURFACE3D_DEPTH:16384\n",
      "MAXIMUM_SURFACE3D_HEIGHT:16384\n",
      "MAXIMUM_SURFACE3D_WIDTH:16384\n",
      "MAXIMUM_SURFACECUBEMAP_LAYERED_LAYERS:2046\n",
      "MAXIMUM_SURFACECUBEMAP_LAYERED_WIDTH:32768\n",
      "MAXIMUM_SURFACECUBEMAP_WIDTH:32768\n",
      "MAXIMUM_TEXTURE1D_LAYERED_LAYERS:2048\n",
      "MAXIMUM_TEXTURE1D_LAYERED_WIDTH:32768\n",
      "MAXIMUM_TEXTURE1D_LINEAR_WIDTH:268435456\n",
      "MAXIMUM_TEXTURE1D_MIPMAPPED_WIDTH:16384\n",
      "MAXIMUM_TEXTURE1D_WIDTH:131072\n",
      "MAXIMUM_TEXTURE2D_ARRAY_HEIGHT:32768\n",
      "MAXIMUM_TEXTURE2D_ARRAY_NUMSLICES:2048\n",
      "MAXIMUM_TEXTURE2D_ARRAY_WIDTH:32768\n",
      "MAXIMUM_TEXTURE2D_GATHER_HEIGHT:32768\n",
      "MAXIMUM_TEXTURE2D_GATHER_WIDTH:32768\n",
      "MAXIMUM_TEXTURE2D_HEIGHT:65536\n",
      "MAXIMUM_TEXTURE2D_LINEAR_HEIGHT:65000\n",
      "MAXIMUM_TEXTURE2D_LINEAR_PITCH:2097120\n",
      "MAXIMUM_TEXTURE2D_LINEAR_WIDTH:131072\n",
      "MAXIMUM_TEXTURE2D_MIPMAPPED_HEIGHT:32768\n",
      "MAXIMUM_TEXTURE2D_MIPMAPPED_WIDTH:32768\n",
      "MAXIMUM_TEXTURE2D_WIDTH:131072\n",
      "MAXIMUM_TEXTURE3D_DEPTH:16384\n",
      "MAXIMUM_TEXTURE3D_DEPTH_ALTERNATE:32768\n",
      "MAXIMUM_TEXTURE3D_HEIGHT:16384\n",
      "MAXIMUM_TEXTURE3D_HEIGHT_ALTERNATE:8192\n",
      "MAXIMUM_TEXTURE3D_WIDTH:16384\n",
      "MAXIMUM_TEXTURE3D_WIDTH_ALTERNATE:8192\n",
      "MAXIMUM_TEXTURECUBEMAP_LAYERED_LAYERS:2046\n",
      "MAXIMUM_TEXTURECUBEMAP_LAYERED_WIDTH:32768\n",
      "MAXIMUM_TEXTURECUBEMAP_WIDTH:32768\n",
      "MAX_BLOCK_DIM_X:1024\n",
      "MAX_BLOCK_DIM_Y:1024\n",
      "MAX_BLOCK_DIM_Z:64\n",
      "MAX_GRID_DIM_X:2147483647\n",
      "MAX_GRID_DIM_Y:65535\n",
      "MAX_GRID_DIM_Z:65535\n",
      "MAX_PITCH:2147483647\n",
      "MAX_REGISTERS_PER_BLOCK:65536\n",
      "MAX_REGISTERS_PER_MULTIPROCESSOR:65536\n",
      "MAX_SHARED_MEMORY_PER_BLOCK:49152\n",
      "MAX_SHARED_MEMORY_PER_MULTIPROCESSOR:98304\n",
      "MAX_THREADS_PER_BLOCK:1024\n",
      "MAX_THREADS_PER_MULTIPROCESSOR:2048\n",
      "MEMORY_CLOCK_RATE:4004000\n",
      "MULTIPROCESSOR_COUNT:10\n",
      "MULTI_GPU_BOARD:0\n",
      "MULTI_GPU_BOARD_GROUP_ID:0\n",
      "PCI_BUS_ID:1\n",
      "PCI_DEVICE_ID:0\n",
      "PCI_DOMAIN_ID:0\n",
      "STREAM_PRIORITIES_SUPPORTED:1\n",
      "SURFACE_ALIGNMENT:512\n",
      "TCC_DRIVER:0\n",
      "TEXTURE_ALIGNMENT:512\n",
      "TEXTURE_PITCH_ALIGNMENT:32\n",
      "TOTAL_CONSTANT_MEMORY:65536\n",
      "UNIFIED_ADDRESSING:1\n",
      "WARP_SIZE:32\n"
     ]
    }
   ],
   "source": [
    "for k in attrs:  print(\"%s:%s\"%(str(k),str(attrs[k])))"
   ]
  },
  {
   "cell_type": "code",
   "execution_count": null,
   "metadata": {},
   "outputs": [],
   "source": []
  }
 ],
 "metadata": {
  "kernelspec": {
   "display_name": "Python 3",
   "language": "python",
   "name": "python3"
  },
  "language_info": {
   "codemirror_mode": {
    "name": "ipython",
    "version": 3
   },
   "file_extension": ".py",
   "mimetype": "text/x-python",
   "name": "python",
   "nbconvert_exporter": "python",
   "pygments_lexer": "ipython3",
   "version": "3.8.9"
  },
  "toc": {
   "base_numbering": 1,
   "nav_menu": {},
   "number_sections": true,
   "sideBar": true,
   "skip_h1_title": false,
   "title_cell": "Table of Contents",
   "title_sidebar": "Contents",
   "toc_cell": false,
   "toc_position": {},
   "toc_section_display": "block",
   "toc_window_display": false
  },
  "varInspector": {
   "cols": {
    "lenName": 16,
    "lenType": 16,
    "lenVar": 40
   },
   "kernels_config": {
    "python": {
     "delete_cmd_postfix": "",
     "delete_cmd_prefix": "del ",
     "library": "var_list.py",
     "varRefreshCmd": "print(var_dic_list())"
    },
    "r": {
     "delete_cmd_postfix": ") ",
     "delete_cmd_prefix": "rm(",
     "library": "var_list.r",
     "varRefreshCmd": "cat(var_dic_list()) "
    }
   },
   "types_to_exclude": [
    "module",
    "function",
    "builtin_function_or_method",
    "instance",
    "_Feature"
   ],
   "window_display": false
  }
 },
 "nbformat": 4,
 "nbformat_minor": 2
}
