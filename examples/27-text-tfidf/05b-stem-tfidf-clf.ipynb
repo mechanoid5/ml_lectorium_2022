{
 "cells": [
  {
   "cell_type": "markdown",
   "metadata": {},
   "source": [
    "**извлечение признаков из текста на естественном языке**\n",
    "\n",
    "классификатор текстов TfidfVectorizer, вместо удаления стоп-слов используем обратную частоту IDF\n",
    "\n",
    "_Евгений Борисов <esborisov@sevsu.ru>_"
   ]
  },
  {
   "cell_type": "markdown",
   "metadata": {},
   "source": [
    "## библиотеки"
   ]
  },
  {
   "cell_type": "code",
   "execution_count": 1,
   "metadata": {},
   "outputs": [],
   "source": [
    "import numpy as np\n",
    "import numpy.random as rng\n",
    "\n",
    "from tqdm.notebook import tqdm\n",
    "\n",
    "import pandas as pd\n",
    "\n",
    "np.set_printoptions(precision=2) # вывод на печать чисел до 2 знака\n",
    "pd.options.display.max_colwidth = 200 \n",
    "\n",
    "tqdm.pandas()"
   ]
  },
  {
   "cell_type": "code",
   "execution_count": 2,
   "metadata": {},
   "outputs": [
    {
     "data": {
      "text/plain": [
       "'1.0.2'"
      ]
     },
     "execution_count": 2,
     "metadata": {},
     "output_type": "execute_result"
    }
   ],
   "source": [
    "from sklearn import __version__ as SKLEARN_VERSION\n",
    "\n",
    "SKLEARN_VERSION"
   ]
  },
  {
   "cell_type": "markdown",
   "metadata": {},
   "source": [
    "## тексты"
   ]
  },
  {
   "cell_type": "code",
   "execution_count": 4,
   "metadata": {},
   "outputs": [
    {
     "name": "stdout",
     "output_type": "stream",
     "text": [
      "записей: 3196\n"
     ]
    },
    {
     "data": {
      "text/html": [
       "<div>\n",
       "<style scoped>\n",
       "    .dataframe tbody tr th:only-of-type {\n",
       "        vertical-align: middle;\n",
       "    }\n",
       "\n",
       "    .dataframe tbody tr th {\n",
       "        vertical-align: top;\n",
       "    }\n",
       "\n",
       "    .dataframe thead th {\n",
       "        text-align: right;\n",
       "    }\n",
       "</style>\n",
       "<table border=\"1\" class=\"dataframe\">\n",
       "  <thead>\n",
       "    <tr style=\"text-align: right;\">\n",
       "      <th></th>\n",
       "      <th>text</th>\n",
       "      <th>tag</th>\n",
       "    </tr>\n",
       "  </thead>\n",
       "  <tbody>\n",
       "    <tr>\n",
       "      <th>3053</th>\n",
       "      <td>Компания Красноярскэнерго предупреждает об опасности самовольного подключения к электрическим сетям. С начала 2010 года зарегистрировано три смертельных случая поражения током посторонних лиц на с...</td>\n",
       "      <td>incident</td>\n",
       "    </tr>\n",
       "    <tr>\n",
       "      <th>2173</th>\n",
       "      <td>Лига определила лучших по итогам минувших семи дней.\\n\\nПервой звездой недели стал форвард Филадельфии Якуб Ворачек, который в четырех матчах набрал девять (3+6) очков.\\n\\nПри этом в двух встречах...</td>\n",
       "      <td>sport</td>\n",
       "    </tr>\n",
       "  </tbody>\n",
       "</table>\n",
       "</div>"
      ],
      "text/plain": [
       "                                                                                                                                                                                                         text  \\\n",
       "3053  Компания Красноярскэнерго предупреждает об опасности самовольного подключения к электрическим сетям. С начала 2010 года зарегистрировано три смертельных случая поражения током посторонних лиц на с...   \n",
       "2173  Лига определила лучших по итогам минувших семи дней.\\n\\nПервой звездой недели стал форвард Филадельфии Якуб Ворачек, который в четырех матчах набрал девять (3+6) очков.\\n\\nПри этом в двух встречах...   \n",
       "\n",
       "           tag  \n",
       "3053  incident  \n",
       "2173     sport  "
      ]
     },
     "execution_count": 4,
     "metadata": {},
     "output_type": "execute_result"
    }
   ],
   "source": [
    "# загружаем тексты\n",
    "data = pd.read_pickle('../data/text/news.pkl.gz')\n",
    "print('записей:',len(data))\n",
    "data.sample(2)"
   ]
  },
  {
   "cell_type": "markdown",
   "metadata": {},
   "source": [
    "## токенизация и очистка"
   ]
  },
  {
   "cell_type": "code",
   "execution_count": 5,
   "metadata": {},
   "outputs": [],
   "source": [
    "import re\n",
    "\n",
    "# применяет список замен pat к строке s\n",
    "def replace_patterns(s,pat):\n",
    "    if len(pat)<1: return s\n",
    "    return  replace_patterns( re.sub(pat[0][0],pat[0][1],s), pat[1:] )\n",
    "\n",
    "# нормализация текста\n",
    "def string_normalizer(s):\n",
    "    pat = [\n",
    "       [r'ё','е'] # замена ё для унификации\n",
    "       ,[r'</?[a-z]+>',' '] # удаляем xml\n",
    "       ,[r'[^a-zа-я\\- ]+',' '] # оставляем только буквы, пробел и -\n",
    "       ,[r' -\\w+',' '] # удаляем '-й','-тый' и т.п.\n",
    "       ,[r'\\w+- ',' ']\n",
    "       ,[r' +',' '] # удаляем повторы пробелов\n",
    "    ]\n",
    "    return replace_patterns(s.lower(),pat).strip()"
   ]
  },
  {
   "cell_type": "code",
   "execution_count": 6,
   "metadata": {},
   "outputs": [
    {
     "data": {
      "application/vnd.jupyter.widget-view+json": {
       "model_id": "21c00b8aefdd4471bba445c71d8bb868",
       "version_major": 2,
       "version_minor": 0
      },
      "text/plain": [
       "  0%|          | 0/3196 [00:00<?, ?it/s]"
      ]
     },
     "metadata": {},
     "output_type": "display_data"
    }
   ],
   "source": [
    "data['ctext'] = data['text'].progress_apply(string_normalizer)"
   ]
  },
  {
   "cell_type": "markdown",
   "metadata": {},
   "source": [
    "##  Vectorizer"
   ]
  },
  {
   "cell_type": "code",
   "execution_count": 12,
   "metadata": {},
   "outputs": [],
   "source": [
    "from nltk.stem.snowball import SnowballStemmer\n",
    "# from nltk.corpus import stopwords as nltk_stopwords\n",
    "\n",
    "# stopwords = set(nltk_stopwords.words('russian'))\n",
    "stemmer = SnowballStemmer('russian')\n",
    "\n",
    "# разрезаем стоки на слова, выкидываем stopwords, выполняем стеминг\n",
    "def tokenizer_stemmer(s,stemmer=stemmer):  #,stopwords=stopwords): \n",
    "    for w in s.split(' '):\n",
    "        o = stemmer.stem(w).replace('^','')\n",
    "        if len(o)<2: continue\n",
    "        # if o in stopwords: continue\n",
    "        yield o        \n",
    "    return ''"
   ]
  },
  {
   "cell_type": "code",
   "execution_count": 13,
   "metadata": {},
   "outputs": [
    {
     "name": "stdout",
     "output_type": "stream",
     "text": [
      "36424\n",
      "CPU times: user 1min 16s, sys: 41.4 ms, total: 1min 16s\n",
      "Wall time: 1min 17s\n"
     ]
    }
   ],
   "source": [
    "%%time\n",
    "\n",
    "from sklearn.feature_extraction.text import TfidfVectorizer\n",
    "\n",
    "tf = TfidfVectorizer(\n",
    "        use_idf=True, \n",
    "        norm='l2', \n",
    "        tokenizer=tokenizer_stemmer, \n",
    "        token_pattern=None\n",
    "    ).fit( data['ctext'] )\n",
    "\n",
    "vcb1 = sorted(tf.vocabulary_)\n",
    "print(len(vcb1))"
   ]
  },
  {
   "cell_type": "code",
   "execution_count": 14,
   "metadata": {},
   "outputs": [
    {
     "data": {
      "text/plain": [
       "32274               тролл\n",
       "20174           нордическ\n",
       "11540               завел\n",
       "27166               раскр\n",
       "10772                дошл\n",
       "23064              пикник\n",
       "14690             колпачк\n",
       "35639              ыоутуб\n",
       "3464                zefir\n",
       "8617         географическ\n",
       "34048              фэллон\n",
       "867          dynamo-brest\n",
       "21664             отдален\n",
       "8798          глиобластом\n",
       "26546               пулюс\n",
       "25438              придач\n",
       "33808          фолк-групп\n",
       "17944             младенц\n",
       "35919    электроустановок\n",
       "35768           экс-майор\n",
       "33183              усмиря\n",
       "20017         никифоровск\n",
       "225              autostat\n",
       "23549          подбадрива\n",
       "3907        аккомпанемент\n",
       "15747            кузьмицк\n",
       "35431            шовковск\n",
       "33174            усложнен\n",
       "35413                шмел\n",
       "12113              заразн\n",
       "dtype: object"
      ]
     },
     "execution_count": 14,
     "metadata": {},
     "output_type": "execute_result"
    }
   ],
   "source": [
    "# pd.DataFrame( vcb1 ).to_csv('voc1.txt',index=False,header=False)\n",
    "\n",
    "pd.Series(vcb1).sample(30)"
   ]
  },
  {
   "cell_type": "markdown",
   "metadata": {},
   "source": [
    "## формируем датасеты"
   ]
  },
  {
   "cell_type": "code",
   "execution_count": 15,
   "metadata": {},
   "outputs": [
    {
     "name": "stdout",
     "output_type": "stream",
     "text": [
      "CPU times: user 1min 15s, sys: 29.5 ms, total: 1min 15s\n",
      "Wall time: 1min 15s\n"
     ]
    },
    {
     "data": {
      "text/plain": [
       "(3196, 36424)"
      ]
     },
     "execution_count": 15,
     "metadata": {},
     "output_type": "execute_result"
    }
   ],
   "source": [
    "%%time \n",
    "\n",
    "X = tf.transform( data['ctext'] )\n",
    "X.shape"
   ]
  },
  {
   "cell_type": "code",
   "execution_count": 16,
   "metadata": {},
   "outputs": [
    {
     "data": {
      "text/plain": [
       "{'auto': 0,\n",
       " 'culture': 1,\n",
       " 'economics': 2,\n",
       " 'health': 3,\n",
       " 'incident': 4,\n",
       " 'politics': 5,\n",
       " 'realty': 6,\n",
       " 'reclama': 7,\n",
       " 'science': 8,\n",
       " 'social': 9,\n",
       " 'sport': 10,\n",
       " 'tech': 11,\n",
       " 'woman': 12}"
      ]
     },
     "execution_count": 16,
     "metadata": {},
     "output_type": "execute_result"
    }
   ],
   "source": [
    "labels = { t:i for i,t in enumerate(sorted(set(data['tag']))) }\n",
    "labels"
   ]
  },
  {
   "cell_type": "code",
   "execution_count": 17,
   "metadata": {},
   "outputs": [
    {
     "data": {
      "text/plain": [
       "array([5, 1, 1, ..., 8, 5, 9])"
      ]
     },
     "execution_count": 17,
     "metadata": {},
     "output_type": "execute_result"
    }
   ],
   "source": [
    "y = data['tag'].map(labels).values\n",
    "y"
   ]
  },
  {
   "cell_type": "code",
   "execution_count": 18,
   "metadata": {},
   "outputs": [
    {
     "data": {
      "text/plain": [
       "((2237, 36424), (2237,), (959, 36424), (959,))"
      ]
     },
     "execution_count": 18,
     "metadata": {},
     "output_type": "execute_result"
    }
   ],
   "source": [
    "from sklearn.model_selection import train_test_split\n",
    "\n",
    "X_train, X_test, y_train, y_test = train_test_split( X, y, test_size=0.3, random_state=326 )\n",
    "X_train.shape, y_train.shape, X_test.shape, y_test.shape"
   ]
  },
  {
   "cell_type": "markdown",
   "metadata": {},
   "source": [
    "## обучаем классификатор"
   ]
  },
  {
   "cell_type": "code",
   "execution_count": 19,
   "metadata": {},
   "outputs": [
    {
     "data": {
      "text/plain": [
       "SGDClassifier(tol=0.19)"
      ]
     },
     "execution_count": 19,
     "metadata": {},
     "output_type": "execute_result"
    }
   ],
   "source": [
    "from sklearn.linear_model import SGDClassifier\n",
    "\n",
    "clf = SGDClassifier(loss='hinge',max_iter=1000, tol=0.19)\n",
    "clf.fit(X_train,y_train)"
   ]
  },
  {
   "cell_type": "markdown",
   "metadata": {},
   "source": [
    "## тестируем"
   ]
  },
  {
   "cell_type": "code",
   "execution_count": 20,
   "metadata": {},
   "outputs": [],
   "source": [
    "from sklearn.metrics import confusion_matrix\n",
    "from sklearn.metrics import classification_report\n",
    "from sklearn.metrics import accuracy_score"
   ]
  },
  {
   "cell_type": "code",
   "execution_count": 21,
   "metadata": {},
   "outputs": [
    {
     "data": {
      "text/plain": [
       "0.9995529727313366"
      ]
     },
     "execution_count": 21,
     "metadata": {},
     "output_type": "execute_result"
    }
   ],
   "source": [
    "# доля правильных ответов на учебном наборе\n",
    "o = clf.predict(X_train)\n",
    "accuracy_score(y_train,o)"
   ]
  },
  {
   "cell_type": "code",
   "execution_count": 22,
   "metadata": {},
   "outputs": [
    {
     "data": {
      "text/plain": [
       "0.8748696558915537"
      ]
     },
     "execution_count": 22,
     "metadata": {},
     "output_type": "execute_result"
    }
   ],
   "source": [
    "# доля правильных ответов на тестовом наборе\n",
    "o = clf.predict(X_test)\n",
    "accuracy_score(y_test,o)"
   ]
  },
  {
   "cell_type": "code",
   "execution_count": 23,
   "metadata": {},
   "outputs": [
    {
     "name": "stdout",
     "output_type": "stream",
     "text": [
      "              precision    recall  f1-score   support\n",
      "\n",
      "           0       0.90      0.90      0.90        87\n",
      "           1       0.81      0.94      0.87       101\n",
      "           2       0.87      0.79      0.83        76\n",
      "           3       0.85      0.74      0.79        31\n",
      "           4       0.87      0.94      0.91       123\n",
      "           5       0.89      0.95      0.92       177\n",
      "           6       0.83      0.71      0.77        21\n",
      "           7       1.00      0.41      0.58        17\n",
      "           8       0.88      1.00      0.94        68\n",
      "           9       0.60      0.34      0.43        44\n",
      "          10       0.97      1.00      0.98       118\n",
      "          11       0.86      0.79      0.82        89\n",
      "          12       0.83      0.71      0.77         7\n",
      "\n",
      "    accuracy                           0.87       959\n",
      "   macro avg       0.86      0.79      0.81       959\n",
      "weighted avg       0.87      0.87      0.87       959\n",
      "\n"
     ]
    }
   ],
   "source": [
    "print( classification_report(y_test,o) )"
   ]
  },
  {
   "cell_type": "markdown",
   "metadata": {},
   "source": [
    "---"
   ]
  },
  {
   "cell_type": "code",
   "execution_count": 24,
   "metadata": {},
   "outputs": [
    {
     "data": {
      "image/png": "[encoded data removed]",
      "text/plain": [
       "<Figure size 720x648 with 2 Axes>"
      ]
     },
     "metadata": {
      "needs_background": "light"
     },
     "output_type": "display_data"
    }
   ],
   "source": [
    "from matplotlib import pyplot as plt\n",
    "import itertools\n",
    "\n",
    "classes = sorted(labels.keys())\n",
    "cm = confusion_matrix(y_test,o)\n",
    "tick_marks = np.arange(len(classes))\n",
    "\n",
    "plt.figure(figsize=(10,9))\n",
    "\n",
    "plt.xticks(tick_marks, classes, rotation=45)\n",
    "plt.yticks(tick_marks, classes)\n",
    "\n",
    "thresh = cm.max() / 2.\n",
    "for i, j in itertools.product(range(cm.shape[0]), range(cm.shape[1])):\n",
    "    plt.text(j, i, format(cm[i, j], 'd'),\n",
    "             horizontalalignment=\"center\",\n",
    "             color=\"white\" if cm[i, j] > thresh else \"black\")\n",
    "\n",
    "plt.title('Confusion matrix')\n",
    "plt.tight_layout()\n",
    "plt.ylabel('True label')\n",
    "plt.xlabel('Predicted label')\n",
    "plt.imshow(cm, interpolation='nearest', cmap=plt.cm.Blues)\n",
    "plt.colorbar()\n",
    "\n",
    "plt.show()"
   ]
  },
  {
   "cell_type": "markdown",
   "metadata": {},
   "source": [
    "---"
   ]
  },
  {
   "cell_type": "code",
   "execution_count": 25,
   "metadata": {},
   "outputs": [],
   "source": [
    "o = clf.predict(X)"
   ]
  },
  {
   "cell_type": "code",
   "execution_count": 26,
   "metadata": {},
   "outputs": [],
   "source": [
    "labels_inv = { labels[k]:k for k in labels }\n",
    "# labels_inv"
   ]
  },
  {
   "cell_type": "code",
   "execution_count": 27,
   "metadata": {},
   "outputs": [
    {
     "name": "stdout",
     "output_type": "stream",
     "text": [
      "tag: tech\n",
      "predict: tech\n",
      "Новые Android-смартфоны Nokia появятся в начале 2017 года 1 декабря 2016 в 15:56 42.TUT.BY Компания Nokia объявила о завершении сделки с HMD Global, которая получает права на производство мобильных...\n",
      "- - - - - - - - - - - - - - - - - -\n",
      "tag: politics\n",
      "predict: politics\n",
      "Карелия (Петрозаводск) Братья по группе В составе делегации из Эстонии\n",
      "представители государственных структур, общественных организаций.  -\n",
      "Тере, - приветствовали гостей из Эстонии в Центре национальн...\n",
      "- - - - - - - - - - - - - - - - - -\n",
      "tag: incident\n",
      "predict: incident\n",
      "Сотрудница отдела полиции подмосковного Серпухова, которая на личном автомобиле в неслужебное время сбила насмерть двух человек, уволена из органов внутренних дел по отрицательным мотивам. Об этом в п...\n",
      "- - - - - - - - - - - - - - - - - -\n",
      "tag: realty\n",
      "predict: realty\n",
      "В гостях у дизайнера. В доме с черно-белым фасадом и плоской крышей 4 декабря 2016 в 9:00 Карина Комиссарчик, Realt.by За последние несколько лет мы много материалов посвятили дизайну интерьера. Те...\n",
      "- - - - - - - - - - - - - - - - - -\n",
      "tag: social\n",
      "predict: social\n",
      "Дождь, мороз и солнце. Погода в Могилеве в выходные 9 декабря 2016 в 8:15 TUT.BY В выходные погода в Могилеве погода будет переменчивой. Оттепель сменится легким морозом. По прогнозам, выглянет и с...\n",
      "- - - - - - - - - - - - - - - - - -\n",
      "tag: incident\n",
      "predict: incident\n",
      "На трассе \"Дон\" в Ростовской области произошло столкновение двух фур. В результате аварии пострадали оба водителя. Как сообщает РИА \"Новости\" со ссылкой на региональное управление МВД, оба водителя б...\n",
      "- - - - - - - - - - - - - - - - - -\n",
      "tag: tech\n",
      "predict: tech\n",
      "Android-вирус взломал миллион Google-аккаунтов 1 декабря 2016 в 10:11 42.TUT.BY Специалисты Check Point обнаружили вредоносное программное обеспечение (ПО) для Android-устройств, которое взломало б...\n",
      "- - - - - - - - - - - - - - - - - -\n",
      "tag: sport\n",
      "predict: sport\n",
      "«Лос-Анджелес Лейкерс» в матче регулярного чемпионата НБА на выезде уступил «Сакраменто Кингз» со счётом 92:116.Гости лидировали после первой половины встречи, но провалили третью четверть, уступив в ...\n",
      "- - - - - - - - - - - - - - - - - -\n",
      "tag: sport\n",
      "predict: sport\n",
      "Белорусские гандболистки разгромом команды Косова завершили минскую квалификацию к ЧМ-2017 4 декабря 2016 в 15:44 SPORT.TUT.BY Женская сборная Беларуси по гандболу, досрочно обеспечившая себе пропу...\n",
      "- - - - - - - - - - - - - - - - - -\n",
      "tag: sport\n",
      "predict: sport\n",
      "«Вильярреал» смог дома одолеет «Атлетико». Победили жёлтые в родных стенах с разгромным счётом, 3:0. Голы забили: Тригерос, 28, дос Сантос, 38, Роберто Сориано, 90+3. Евгения Штоль Последний матч 15...\n",
      "- - - - - - - - - - - - - - - - - -\n"
     ]
    }
   ],
   "source": [
    "for n in range(10):\n",
    "    i = rng.randint(len(data))\n",
    "    print('tag:',data.iloc[i,1])\n",
    "    print('predict:',labels_inv[o[i]])\n",
    "    print(re.sub(r'\\n\\s*\\n',' ',data.iloc[i,0][:200])+'...')\n",
    "    print('- - - - - - - - - - - - - - - - - -')\n",
    "    "
   ]
  },
  {
   "cell_type": "code",
   "execution_count": 28,
   "metadata": {},
   "outputs": [],
   "source": [
    "# https://habr.com/ru/post/205360/"
   ]
  }
 ],
 "metadata": {
  "kernelspec": {
   "display_name": "Python 3 (ipykernel)",
   "language": "python",
   "name": "python3"
  },
  "language_info": {
   "codemirror_mode": {
    "name": "ipython",
    "version": 3
   },
   "file_extension": ".py",
   "mimetype": "text/x-python",
   "name": "python",
   "nbconvert_exporter": "python",
   "pygments_lexer": "ipython3",
   "version": "3.8.9"
  },
  "toc": {
   "base_numbering": 1,
   "nav_menu": {},
   "number_sections": true,
   "sideBar": true,
   "skip_h1_title": false,
   "title_cell": "Table of Contents",
   "title_sidebar": "Contents",
   "toc_cell": false,
   "toc_position": {},
   "toc_section_display": true,
   "toc_window_display": false
  }
 },
 "nbformat": 4,
 "nbformat_minor": 2
}
