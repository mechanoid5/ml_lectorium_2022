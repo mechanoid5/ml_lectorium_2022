{
 "cells": [
  {
   "cell_type": "markdown",
   "metadata": {},
   "source": [
    "**извлечение признаков из текста на естественном языке**\n",
    "\n",
    "кластеризатор текстов   \n",
    "  CountVectorizer + KMeans\n",
    "\n",
    "_Евгений Борисов <esborisov@sevsu.ru>_"
   ]
  },
  {
   "cell_type": "markdown",
   "metadata": {},
   "source": [
    "## библиотеки"
   ]
  },
  {
   "cell_type": "code",
   "execution_count": 1,
   "metadata": {},
   "outputs": [],
   "source": [
    "import re\n",
    "# import gzip\n",
    "import numpy as np\n",
    "import numpy.random as rng\n",
    "import pandas as pd\n",
    "from tqdm.notebook import tqdm\n",
    "\n",
    "np.set_printoptions(precision=2) # вывод на печать чисел до 2 знака\n",
    "pd.options.display.max_colwidth = 200 \n",
    "\n",
    "tqdm.pandas()"
   ]
  },
  {
   "cell_type": "code",
   "execution_count": 2,
   "metadata": {},
   "outputs": [
    {
     "data": {
      "text/plain": [
       "'1.0.2'"
      ]
     },
     "execution_count": 2,
     "metadata": {},
     "output_type": "execute_result"
    }
   ],
   "source": [
    "from sklearn import __version__ as SKLEARN_VERSION\n",
    "\n",
    "from sklearn.feature_extraction.text import CountVectorizer\n",
    "from sklearn.cluster import KMeans\n",
    "from matplotlib import pyplot as plt\n",
    "\n",
    "SKLEARN_VERSION"
   ]
  },
  {
   "cell_type": "markdown",
   "metadata": {},
   "source": [
    "## тексты"
   ]
  },
  {
   "cell_type": "code",
   "execution_count": 3,
   "metadata": {},
   "outputs": [
    {
     "name": "stdout",
     "output_type": "stream",
     "text": [
      "записей: 3196\n"
     ]
    }
   ],
   "source": [
    "# загружаем тексты\n",
    "data = pd.read_pickle('../data/text/news.pkl.gz')\n",
    "print('записей:',len(data))"
   ]
  },
  {
   "cell_type": "code",
   "execution_count": 4,
   "metadata": {},
   "outputs": [
    {
     "data": {
      "text/html": [
       "<div>\n",
       "<style scoped>\n",
       "    .dataframe tbody tr th:only-of-type {\n",
       "        vertical-align: middle;\n",
       "    }\n",
       "\n",
       "    .dataframe tbody tr th {\n",
       "        vertical-align: top;\n",
       "    }\n",
       "\n",
       "    .dataframe thead th {\n",
       "        text-align: right;\n",
       "    }\n",
       "</style>\n",
       "<table border=\"1\" class=\"dataframe\">\n",
       "  <thead>\n",
       "    <tr style=\"text-align: right;\">\n",
       "      <th></th>\n",
       "      <th>text</th>\n",
       "      <th>tag</th>\n",
       "    </tr>\n",
       "  </thead>\n",
       "  <tbody>\n",
       "    <tr>\n",
       "      <th>2670</th>\n",
       "      <td>Американские нейробиологи из Висконсинского университета в Мэдисоне решили узнать, что происходит с мозгом в режиме многозадачности. Увиденное их поразило.\\r\\n\\r\\nОказалось, он в буквальном смысле...</td>\n",
       "      <td>science</td>\n",
       "    </tr>\n",
       "    <tr>\n",
       "      <th>1194</th>\n",
       "      <td>Минчане пожаловались в прокуратуру на администрацию Советского района\\n\\n28 ноября 2016 в 14:29\\n\\nЕлена Толкачева / REALTY.TUT.BY\\n\\nИнициативная группа жителей Советского района направила в райо...</td>\n",
       "      <td>realty</td>\n",
       "    </tr>\n",
       "  </tbody>\n",
       "</table>\n",
       "</div>"
      ],
      "text/plain": [
       "                                                                                                                                                                                                         text  \\\n",
       "2670  Американские нейробиологи из Висконсинского университета в Мэдисоне решили узнать, что происходит с мозгом в режиме многозадачности. Увиденное их поразило.\\r\\n\\r\\nОказалось, он в буквальном смысле...   \n",
       "1194  Минчане пожаловались в прокуратуру на администрацию Советского района\\n\\n28 ноября 2016 в 14:29\\n\\nЕлена Толкачева / REALTY.TUT.BY\\n\\nИнициативная группа жителей Советского района направила в райо...   \n",
       "\n",
       "          tag  \n",
       "2670  science  \n",
       "1194   realty  "
      ]
     },
     "execution_count": 4,
     "metadata": {},
     "output_type": "execute_result"
    }
   ],
   "source": [
    "data.sample(2)"
   ]
  },
  {
   "cell_type": "markdown",
   "metadata": {},
   "source": [
    "## токенизация и очистка"
   ]
  },
  {
   "cell_type": "code",
   "execution_count": 5,
   "metadata": {},
   "outputs": [],
   "source": [
    "from nltk.stem.snowball import SnowballStemmer\n",
    "from nltk.corpus import stopwords as nltk_stopwords\n",
    "\n",
    "# применяет список замен pat к строке s\n",
    "def replace_patterns(s,pat):\n",
    "    if len(pat)<1: return s\n",
    "    return  replace_patterns( re.sub(pat[0][0],pat[0][1],s), pat[1:] )\n",
    "\n",
    "# нормализация текста\n",
    "def string_normalizer(s):\n",
    "    pat = [\n",
    "       [r'ё','е'] # замена ё для унификации\n",
    "       ,[r'</?[a-z]+>',' '] # удаляем xml\n",
    "       ,[r'[^a-zа-я\\- ]+',' '] # оставляем только буквы, пробел и -\n",
    "       ,[r' -\\w+',' '] # удаляем '-й','-тый' и т.п.\n",
    "       ,[r'\\w+- ',' ']\n",
    "       ,[r' +',' '] # удаляем повторы пробелов\n",
    "    ]\n",
    "    return replace_patterns(s.lower(),pat).strip()"
   ]
  },
  {
   "cell_type": "code",
   "execution_count": 6,
   "metadata": {},
   "outputs": [
    {
     "data": {
      "application/vnd.jupyter.widget-view+json": {
       "model_id": "014a91a9e6ba4568b3182a050baa082f",
       "version_major": 2,
       "version_minor": 0
      },
      "text/plain": [
       "  0%|          | 0/3196 [00:00<?, ?it/s]"
      ]
     },
     "metadata": {},
     "output_type": "display_data"
    }
   ],
   "source": [
    "data['ctext'] = data['text'].progress_apply(string_normalizer)"
   ]
  },
  {
   "cell_type": "markdown",
   "metadata": {},
   "source": [
    "##  Vectorizer"
   ]
  },
  {
   "cell_type": "code",
   "execution_count": 7,
   "metadata": {},
   "outputs": [],
   "source": [
    "from nltk.stem.snowball import SnowballStemmer\n",
    "from nltk.corpus        import stopwords        as nltk_stopwords\n",
    "\n",
    "stopwords = set(nltk_stopwords.words('russian'))\n",
    "stemmer = SnowballStemmer('russian')\n",
    "\n",
    "# разрезаем стоки на слова, выкидываем stopwords, выполняем стеминг\n",
    "def tokenizer_stemmer(s,stemmer=stemmer,stopwords=stopwords): \n",
    "    for w in s.split(' '):\n",
    "        o = stemmer.stem(w).replace('^','')\n",
    "        if len(o)<2: continue\n",
    "        if o in stopwords: continue\n",
    "        yield o \n",
    "\n",
    "\n",
    "# def tokenizer(s): \n",
    "#     for w in s.split(' '):\n",
    "#         if (len(w)>1): \n",
    "#             yield w        "
   ]
  },
  {
   "cell_type": "code",
   "execution_count": 8,
   "metadata": {},
   "outputs": [
    {
     "name": "stdout",
     "output_type": "stream",
     "text": [
      "CPU times: user 1min 18s, sys: 80.1 ms, total: 1min 18s\n",
      "Wall time: 1min 19s\n"
     ]
    }
   ],
   "source": [
    "%%time \n",
    "\n",
    "X = CountVectorizer(tokenizer=tokenizer_stemmer, token_pattern=None).fit_transform(data['ctext'])"
   ]
  },
  {
   "cell_type": "markdown",
   "metadata": {},
   "source": [
    "## кластеризируем"
   ]
  },
  {
   "cell_type": "code",
   "execution_count": 19,
   "metadata": {},
   "outputs": [
    {
     "name": "stdout",
     "output_type": "stream",
     "text": [
      "CPU times: user 31.7 s, sys: 418 ms, total: 32.1 s\n",
      "Wall time: 28.9 s\n"
     ]
    },
    {
     "data": {
      "text/plain": [
       "55"
      ]
     },
     "execution_count": 19,
     "metadata": {},
     "output_type": "execute_result"
    }
   ],
   "source": [
    "%%time \n",
    "\n",
    "n_clusters=55\n",
    "\n",
    "data['cluster'] = KMeans(n_clusters=n_clusters).fit(X).labels_\n",
    "data['cluster'].drop_duplicates().count()"
   ]
  },
  {
   "cell_type": "markdown",
   "metadata": {},
   "source": [
    "## тестируем"
   ]
  },
  {
   "cell_type": "code",
   "execution_count": null,
   "metadata": {},
   "outputs": [],
   "source": [
    "# номер кластера, количество объектов, метки объектов\n",
    "# (cluster=-1 - некластеризованные DBSCAN объекты)\n",
    "cluster_descr = pd.concat([\n",
    "        data[['cluster','tag']].groupby(['cluster'])['tag'].count(),\n",
    "        data[['cluster','tag']].groupby(['cluster'])['tag'].apply(lambda s: set(s)).apply(' '.join)\n",
    "    ],axis=1).reset_index()\n",
    "\n",
    "cluster_descr.columns = ['cluster','count','tags']"
   ]
  },
  {
   "cell_type": "code",
   "execution_count": 24,
   "metadata": {},
   "outputs": [
    {
     "data": {
      "text/html": [
       "<div>\n",
       "<style scoped>\n",
       "    .dataframe tbody tr th:only-of-type {\n",
       "        vertical-align: middle;\n",
       "    }\n",
       "\n",
       "    .dataframe tbody tr th {\n",
       "        vertical-align: top;\n",
       "    }\n",
       "\n",
       "    .dataframe thead th {\n",
       "        text-align: right;\n",
       "    }\n",
       "</style>\n",
       "<table border=\"1\" class=\"dataframe\">\n",
       "  <thead>\n",
       "    <tr style=\"text-align: right;\">\n",
       "      <th></th>\n",
       "      <th>cluster</th>\n",
       "      <th>count</th>\n",
       "      <th>tags</th>\n",
       "    </tr>\n",
       "  </thead>\n",
       "  <tbody>\n",
       "    <tr>\n",
       "      <th>0</th>\n",
       "      <td>0</td>\n",
       "      <td>4</td>\n",
       "      <td>tech science politics</td>\n",
       "    </tr>\n",
       "    <tr>\n",
       "      <th>1</th>\n",
       "      <td>1</td>\n",
       "      <td>30</td>\n",
       "      <td>incident auto</td>\n",
       "    </tr>\n",
       "    <tr>\n",
       "      <th>2</th>\n",
       "      <td>2</td>\n",
       "      <td>353</td>\n",
       "      <td>social culture auto science woman economics realty reclama incident politics tech sport</td>\n",
       "    </tr>\n",
       "    <tr>\n",
       "      <th>4</th>\n",
       "      <td>4</td>\n",
       "      <td>112</td>\n",
       "      <td>social culture science woman economics realty reclama tech politics auto sport</td>\n",
       "    </tr>\n",
       "    <tr>\n",
       "      <th>5</th>\n",
       "      <td>5</td>\n",
       "      <td>122</td>\n",
       "      <td>politics economics</td>\n",
       "    </tr>\n",
       "    <tr>\n",
       "      <th>16</th>\n",
       "      <td>16</td>\n",
       "      <td>2447</td>\n",
       "      <td>social culture auto science woman health economics incident reclama realty sport tech politics</td>\n",
       "    </tr>\n",
       "    <tr>\n",
       "      <th>19</th>\n",
       "      <td>19</td>\n",
       "      <td>4</td>\n",
       "      <td>reclama culture tech</td>\n",
       "    </tr>\n",
       "    <tr>\n",
       "      <th>20</th>\n",
       "      <td>20</td>\n",
       "      <td>2</td>\n",
       "      <td>culture</td>\n",
       "    </tr>\n",
       "    <tr>\n",
       "      <th>26</th>\n",
       "      <td>26</td>\n",
       "      <td>5</td>\n",
       "      <td>sport culture woman auto</td>\n",
       "    </tr>\n",
       "    <tr>\n",
       "      <th>27</th>\n",
       "      <td>27</td>\n",
       "      <td>2</td>\n",
       "      <td>woman</td>\n",
       "    </tr>\n",
       "    <tr>\n",
       "      <th>34</th>\n",
       "      <td>34</td>\n",
       "      <td>6</td>\n",
       "      <td>culture</td>\n",
       "    </tr>\n",
       "    <tr>\n",
       "      <th>37</th>\n",
       "      <td>37</td>\n",
       "      <td>2</td>\n",
       "      <td>social culture</td>\n",
       "    </tr>\n",
       "    <tr>\n",
       "      <th>43</th>\n",
       "      <td>43</td>\n",
       "      <td>2</td>\n",
       "      <td>economics realty</td>\n",
       "    </tr>\n",
       "    <tr>\n",
       "      <th>44</th>\n",
       "      <td>44</td>\n",
       "      <td>57</td>\n",
       "      <td>culture tech sport</td>\n",
       "    </tr>\n",
       "    <tr>\n",
       "      <th>45</th>\n",
       "      <td>45</td>\n",
       "      <td>8</td>\n",
       "      <td>social incident politics</td>\n",
       "    </tr>\n",
       "  </tbody>\n",
       "</table>\n",
       "</div>"
      ],
      "text/plain": [
       "    cluster  count  \\\n",
       "0         0      4   \n",
       "1         1     30   \n",
       "2         2    353   \n",
       "4         4    112   \n",
       "5         5    122   \n",
       "16       16   2447   \n",
       "19       19      4   \n",
       "20       20      2   \n",
       "26       26      5   \n",
       "27       27      2   \n",
       "34       34      6   \n",
       "37       37      2   \n",
       "43       43      2   \n",
       "44       44     57   \n",
       "45       45      8   \n",
       "\n",
       "                                                                                              tags  \n",
       "0                                                                            tech science politics  \n",
       "1                                                                                    incident auto  \n",
       "2          social culture auto science woman economics realty reclama incident politics tech sport  \n",
       "4                   social culture science woman economics realty reclama tech politics auto sport  \n",
       "5                                                                               politics economics  \n",
       "16  social culture auto science woman health economics incident reclama realty sport tech politics  \n",
       "19                                                                            reclama culture tech  \n",
       "20                                                                                         culture  \n",
       "26                                                                        sport culture woman auto  \n",
       "27                                                                                           woman  \n",
       "34                                                                                         culture  \n",
       "37                                                                                  social culture  \n",
       "43                                                                                economics realty  \n",
       "44                                                                              culture tech sport  \n",
       "45                                                                        social incident politics  "
      ]
     },
     "execution_count": 24,
     "metadata": {},
     "output_type": "execute_result"
    }
   ],
   "source": [
    "cluster_descr.query('count>1')"
   ]
  },
  {
   "cell_type": "code",
   "execution_count": 21,
   "metadata": {},
   "outputs": [
    {
     "data": {
      "text/plain": [
       "<AxesSubplot:xlabel='cluster'>"
      ]
     },
     "execution_count": 21,
     "metadata": {},
     "output_type": "execute_result"
    },
    {
     "data": {
      "image/png": "[encoded data removed]",
      "text/plain": [
       "<Figure size 1152x360 with 1 Axes>"
      ]
     },
     "metadata": {
      "needs_background": "light"
     },
     "output_type": "display_data"
    }
   ],
   "source": [
    "# размеры кластеров\n",
    "cluster_descr[['cluster','count']]\\\n",
    "    .query('cluster>-1')\\\n",
    "    .set_index('cluster')\\\n",
    "    .plot.bar(grid=True,figsize=(16,5))"
   ]
  },
  {
   "cell_type": "code",
   "execution_count": 22,
   "metadata": {},
   "outputs": [],
   "source": [
    "def print_cluster_samples(n,ns=3,nt=512):\n",
    "    count,tags = cluster_descr.query(f'cluster=={n}')[['count','tags']].values[0]#.tolist\n",
    "    df = data.query(f'cluster=={n}')\n",
    "    ns_ = min(ns,len(df))\n",
    "    top = [ t[:nt].replace('\\n',' ') for t in df['text'].sample(ns_).values ]\n",
    "    print('[ КЛАСТЕР %i, элементов: %i, метки: \"%s\" ]'%(n,count,tags))\n",
    "    for s in top: print('\\n%s ...\\n'%(s) )"
   ]
  },
  {
   "cell_type": "code",
   "execution_count": 23,
   "metadata": {},
   "outputs": [
    {
     "name": "stdout",
     "output_type": "stream",
     "text": [
      "[ КЛАСТЕР 19, элементов: 4, метки: \"reclama culture tech\" ]\n",
      "\n",
      "Объявлены обладатели \"игрового Оскара\"  2 декабря 2016 в 9:54  Александр Михно, 42.TUT.BY  В Лос-Анджелесе в третий раз прошла ежегодная церемония награждения The Game Awards 2016. На основании пользовательского голосования были выбраны самые лучшие игры уходящего года в нескольких номинациях. С победителями можно не согласиться (некоторые игры действительно находятся не на своем месте), но когда результаты голосования в интернете совпадали с вашим мнением?  Победители  В 2016 году список победителей The Ga ...\n",
      "\n",
      "\n",
      "\"Я хочу платить актерам зарплату\". Проблемы белорусского кино глазами режиссера Влады Сеньковой  29 ноября 2016 в 13:03  Анна Ефременко / Фото: Дмитрий Брушко / AFISHA.TUT.BY  «Летом в Берлине от голода у меня как-то раз даже случилась галлюцинация. Мы тогда ездили с промо Ahaha по Европе и собирали деньги на фильм». Но то было летом. Сейчас режиссер и сценарист Влада Сенькова ищет деньги на новый проект по-взрослому и по-европейски — через питчинги и встречи с продюсерами. Это ее «Граф в апельсинах» получи ...\n",
      "\n",
      "\n",
      "Выбираем премьеры декабря: 2 триллера, 2 фестивальных хита и 3 просто хороших фильма  2 декабря 2016 в 13:45  Александра Гавриченко, AFISHA.TUT.BY  Декабрь унаследовал от «Лiстапада» такое количество любопытных премьер в прокате, что времени на пятую часть «Елок» у вас не останется. И это хорошие новости. AFISHA.TUT.BY по традиции строга в выборе и скрупулезно выделяет 7 картин, на которые не жалко потратить деньги и время.  Когда: с 1 по 14 декабря. Где: «Беларусь». Режиссер: Ребекка Злотовски. О чем кино: ...\n",
      "\n",
      "\n",
      "= = = = = = = = = = = = = = = = = = = = = = = = = =\n",
      "\n",
      "[ КЛАСТЕР 34, элементов: 6, метки: \"culture\" ]\n",
      "\n",
      "ВАШИНГТОН, 12 дек – РИА Новости. Мюзикл \"Ла-ла-ленд\" (La La Land) Дэмьена Шазелла ожидаемо взял главную награду премии Critics Choice, 22-я церемония вручения награды ассоциации кинокритиков США и Канады Critics Choice прошла в Санта-Монике (Калифорния) в воскресенье, ее ведущим выступил комик Ти Джей Миллер.  Критики полюбили…  Премия крупнейшей ассоциации кинокритиков США и Канады BFCA, в которой состоят около 300 критиков, вручается ежегодно за работы на кино- и телеэкране. Награда служит своего рода бар ...\n",
      "\n",
      "\n",
      "Лучшая драма  «По соображениям совести»  «Любой ценой»  «Лев»  «Манчестер у моря»  «Лунный свет»  В главной номинации в нынешнем году намечена главная интрига. Во-первых, одним из фаворитов «Глобусов» (как и грядущего «Оскара») стала военная драма «По соображениям совести», поставленная голливудским пугалом Мелом Гибсоном. Великолепная картина может стать для режиссера настоящим камбэком в высшую лигу – если у награждающей стороны хватит смелости признать его талант.  Вторым фаворитом в свете прошлогоднего  ...\n",
      "\n",
      "\n",
      "Объявлен полный список номинантов на вторую после \"Оскара\" по значимости кинопремию \"Золотой глобус\". В этот раз не обошлось без приятных неожиданностей - целых двух. Неприличный и разудалый кинокомикс \"Дэдпул\" попал в две номинации: \"Лучшая комедия или мюзикл\" и \"Лучший актер в комедии или мюзикле\" (Райан Рейнольдс, если кто не догадался). Вторая неожиданность - Джона Хилла, который поборется с Рейнольдсом в той же номинации благодаря веселому байопику \"Парни со стволами\" про двух парней, добившихся гигант ...\n",
      "\n",
      "\n",
      "= = = = = = = = = = = = = = = = = = = = = = = = = =\n",
      "\n",
      "[ КЛАСТЕР 1, элементов: 30, метки: \"incident auto\" ]\n",
      "\n",
      "Главная  »  Новости  »  Транспорт  Врачи скорой помощи и сотрудники МЧС теперь сами нуждаются в помощи из-за наезда КАМАЗа  Бригада скорой помощи, два спасателя и двое автомобилистов госпитализированы с травмами различной степени тяжести после ДТП на трассе Ленинск-Кузнецкий – Новокузнецк, сообщает «Интерфакс» со ссылкой на ГУ МВД по Кемеровской области.    Врачи скорой помощи и спасатели работали на ликвидации последствий ДТП, ранее произошедшего на трассе, где столкнулись восемь автомобилей. В это время в ...\n",
      "\n",
      "\n",
      "Специалист о пробках на площади Богушевича: Пока мы строим метро, ситуация не изменится  9 декабря 2016 в 13:05  Тамара Савич / AUTO.TUT.BY  Автомобилист Сергей из Минска пожаловался, что ежедневно застревает в пробке на площади Богушевича. AUTO.TUT.BY выяснил у специалистов «Минскинжпроекта», когда же исправится ситуация на проблемном перекрестке. Прогноз водителей не обрадует.  Небольшой участок дороги на площади Богушевича в Минске, где ежедневно происходят заторы  — Светофор работает просто в отвратител ...\n",
      "\n",
      "\n",
      "В ГАИ рассказали, где в этом месяце будут работать мобильные камеры фотофиксации  1 декабря 2016 в 12:07  AUTO.TUT.BY  С целью неукоснительного соблюдения скоростных ограничений в местах концентрации ДТП столичная ГАИ обнародовала график работы мобильных датчиков автоматической фиксации нарушений скоростного режима движения в декабре.  Работать камеры скорости будут на каждом участке с 21.00 до 03.00.  Дата Контролируемое направление Скоростные ограничения (км/ч) 01.12 Улица Брыля, д. 21 Проспект Независимо ...\n",
      "\n",
      "\n",
      "= = = = = = = = = = = = = = = = = = = = = = = = = =\n",
      "\n"
     ]
    }
   ],
   "source": [
    "for n in rng.permutation(cluster_descr.query('count>1')['cluster'].values)[:3] :\n",
    "    print_cluster_samples(n)\n",
    "    print('\\n= = = = = = = = = = = = = = = = = = = = = = = = = =\\n')"
   ]
  },
  {
   "cell_type": "code",
   "execution_count": null,
   "metadata": {},
   "outputs": [],
   "source": []
  },
  {
   "cell_type": "code",
   "execution_count": null,
   "metadata": {},
   "outputs": [],
   "source": []
  }
 ],
 "metadata": {
  "kernelspec": {
   "display_name": "Python 3 (ipykernel)",
   "language": "python",
   "name": "python3"
  },
  "language_info": {
   "codemirror_mode": {
    "name": "ipython",
    "version": 3
   },
   "file_extension": ".py",
   "mimetype": "text/x-python",
   "name": "python",
   "nbconvert_exporter": "python",
   "pygments_lexer": "ipython3",
   "version": "3.8.9"
  },
  "toc": {
   "base_numbering": 1,
   "nav_menu": {},
   "number_sections": true,
   "sideBar": true,
   "skip_h1_title": false,
   "title_cell": "Table of Contents",
   "title_sidebar": "Contents",
   "toc_cell": false,
   "toc_position": {},
   "toc_section_display": true,
   "toc_window_display": false
  }
 },
 "nbformat": 4,
 "nbformat_minor": 2
}
