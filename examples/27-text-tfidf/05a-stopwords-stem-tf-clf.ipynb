{
 "cells": [
  {
   "cell_type": "markdown",
   "metadata": {},
   "source": [
    "**извлечение признаков из текста на естественном языке**\n",
    "\n",
    "классификатор текстов SnowballStemmer+TfidfVectorizer\n",
    "\n",
    "_Евгений Борисов <esborisov@sevsu.ru>_"
   ]
  },
  {
   "cell_type": "markdown",
   "metadata": {},
   "source": [
    "## библиотеки"
   ]
  },
  {
   "cell_type": "code",
   "execution_count": 1,
   "metadata": {},
   "outputs": [],
   "source": [
    "import numpy as np\n",
    "import numpy.random as rng\n",
    "\n",
    "from tqdm.notebook import tqdm\n",
    "\n",
    "import pandas as pd\n",
    "\n",
    "np.set_printoptions(precision=2) # вывод на печать чисел до 2 знака\n",
    "pd.options.display.max_colwidth = 200 \n",
    "tqdm.pandas()"
   ]
  },
  {
   "cell_type": "code",
   "execution_count": 3,
   "metadata": {},
   "outputs": [
    {
     "data": {
      "text/plain": [
       "'1.0.2'"
      ]
     },
     "execution_count": 3,
     "metadata": {},
     "output_type": "execute_result"
    }
   ],
   "source": [
    "from sklearn import __version__ as SKLEARN_VERSION\n",
    "\n",
    "SKLEARN_VERSION"
   ]
  },
  {
   "cell_type": "markdown",
   "metadata": {},
   "source": [
    "## тексты"
   ]
  },
  {
   "cell_type": "code",
   "execution_count": 6,
   "metadata": {},
   "outputs": [
    {
     "name": "stdout",
     "output_type": "stream",
     "text": [
      "записей: 3196\n"
     ]
    },
    {
     "data": {
      "text/html": [
       "<div>\n",
       "<style scoped>\n",
       "    .dataframe tbody tr th:only-of-type {\n",
       "        vertical-align: middle;\n",
       "    }\n",
       "\n",
       "    .dataframe tbody tr th {\n",
       "        vertical-align: top;\n",
       "    }\n",
       "\n",
       "    .dataframe thead th {\n",
       "        text-align: right;\n",
       "    }\n",
       "</style>\n",
       "<table border=\"1\" class=\"dataframe\">\n",
       "  <thead>\n",
       "    <tr style=\"text-align: right;\">\n",
       "      <th></th>\n",
       "      <th>text</th>\n",
       "      <th>tag</th>\n",
       "    </tr>\n",
       "  </thead>\n",
       "  <tbody>\n",
       "    <tr>\n",
       "      <th>2882</th>\n",
       "      <td>Источник фото: autoshcool.ru\\n\\nВ Министерстве транспорта Южной Кореи появилась информация об отзыве 2,4 тысяч автомобилей брендов Audi, Mercedes-Benz и Volvo. Причиной отзывной кампании автопроиз...</td>\n",
       "      <td>auto</td>\n",
       "    </tr>\n",
       "    <tr>\n",
       "      <th>670</th>\n",
       "      <td>Клубные карты в фитнес-клуб World Class уже в продаже - скидка 40%\\n\\n29 ноября 2016 в 9:00\\n\\n*На правах рекламы\\n\\nПолноформатный семейный клуб World Class LITE Малиновка откроется в феврале 201...</td>\n",
       "      <td>reclama</td>\n",
       "    </tr>\n",
       "  </tbody>\n",
       "</table>\n",
       "</div>"
      ],
      "text/plain": [
       "                                                                                                                                                                                                         text  \\\n",
       "2882  Источник фото: autoshcool.ru\\n\\nВ Министерстве транспорта Южной Кореи появилась информация об отзыве 2,4 тысяч автомобилей брендов Audi, Mercedes-Benz и Volvo. Причиной отзывной кампании автопроиз...   \n",
       "670   Клубные карты в фитнес-клуб World Class уже в продаже - скидка 40%\\n\\n29 ноября 2016 в 9:00\\n\\n*На правах рекламы\\n\\nПолноформатный семейный клуб World Class LITE Малиновка откроется в феврале 201...   \n",
       "\n",
       "          tag  \n",
       "2882     auto  \n",
       "670   reclama  "
      ]
     },
     "execution_count": 6,
     "metadata": {},
     "output_type": "execute_result"
    }
   ],
   "source": [
    "# загружаем тексты\n",
    "data = pd.read_pickle('../data/text/news.pkl.gz')\n",
    "print('записей:',len(data))\n",
    "data.sample(2)"
   ]
  },
  {
   "cell_type": "markdown",
   "metadata": {},
   "source": [
    "## токенизация и очистка"
   ]
  },
  {
   "cell_type": "code",
   "execution_count": 8,
   "metadata": {},
   "outputs": [],
   "source": [
    "import re\n",
    "\n",
    "# применяет список замен pat к строке s\n",
    "def replace_patterns(s,pat):\n",
    "    if len(pat)<1: return s\n",
    "    return  replace_patterns( re.sub(pat[0][0],pat[0][1],s), pat[1:] )\n",
    "\n",
    "# нормализация текста\n",
    "def string_normalizer(s):\n",
    "    pat = [\n",
    "       [r'ё','е'] # замена ё для унификации\n",
    "       ,[r'</?[a-z]+>',' '] # удаляем xml\n",
    "       ,[r'[^a-zа-я\\- ]+',' '] # оставляем только буквы, пробел и -\n",
    "       ,[r' -\\w+',' '] # удаляем '-й','-тый' и т.п.\n",
    "       ,[r'\\w+- ',' ']\n",
    "       ,[r' +',' '] # удаляем повторы пробелов\n",
    "    ]\n",
    "    return replace_patterns(s.lower(),pat).strip()"
   ]
  },
  {
   "cell_type": "code",
   "execution_count": 9,
   "metadata": {},
   "outputs": [
    {
     "data": {
      "application/vnd.jupyter.widget-view+json": {
       "model_id": "572a238a840c4a2e9e39cb393b1ddcd0",
       "version_major": 2,
       "version_minor": 0
      },
      "text/plain": [
       "  0%|          | 0/3196 [00:00<?, ?it/s]"
      ]
     },
     "metadata": {},
     "output_type": "display_data"
    }
   ],
   "source": [
    "data['ctext'] = data['text'].progress_apply(string_normalizer)"
   ]
  },
  {
   "cell_type": "markdown",
   "metadata": {},
   "source": [
    "##  Vectorizer"
   ]
  },
  {
   "cell_type": "code",
   "execution_count": 10,
   "metadata": {},
   "outputs": [],
   "source": [
    "from nltk.stem.snowball import SnowballStemmer\n",
    "from nltk.corpus import stopwords as nltk_stopwords\n",
    "\n",
    "stopwords = set(nltk_stopwords.words('russian'))\n",
    "stemmer = SnowballStemmer('russian')\n",
    "\n",
    "# разрезаем стоки на слова, выкидываем stopwords, выполняем стеминг\n",
    "def tokenizer_stemmer(s,stemmer=stemmer,stopwords=stopwords): \n",
    "    for w in s.split(' '):\n",
    "        o = stemmer.stem(w).replace('^','')\n",
    "        if len(o)<2: continue\n",
    "        if o in stopwords: continue\n",
    "        yield o        "
   ]
  },
  {
   "cell_type": "code",
   "execution_count": 11,
   "metadata": {},
   "outputs": [
    {
     "name": "stdout",
     "output_type": "stream",
     "text": [
      "CPU times: user 1min 15s, sys: 53.6 ms, total: 1min 15s\n",
      "Wall time: 1min 16s\n"
     ]
    }
   ],
   "source": [
    "%%time\n",
    "\n",
    "from sklearn.feature_extraction.text import TfidfVectorizer\n",
    "\n",
    "# вариант использования токенайзера вместе с векторайзером\n",
    "tf = TfidfVectorizer(\n",
    "        use_idf=False, \n",
    "        norm='l2', \n",
    "        tokenizer=tokenizer_stemmer, \n",
    "        token_pattern=None\n",
    "    ).fit( data['ctext'] )"
   ]
  },
  {
   "cell_type": "code",
   "execution_count": 12,
   "metadata": {},
   "outputs": [
    {
     "name": "stdout",
     "output_type": "stream",
     "text": [
      "36354\n"
     ]
    },
    {
     "data": {
      "text/plain": [
       "16711             люс\n",
       "22992            пиар\n",
       "23177        платформ\n",
       "12649           иголк\n",
       "8346         гаврилов\n",
       "11893           замер\n",
       "34980            чувв\n",
       "27139       распиарен\n",
       "10427      договарива\n",
       "24818             пош\n",
       "7206           вобраз\n",
       "7880          выведен\n",
       "18836       нанимател\n",
       "16966         ман-сок\n",
       "1586             junk\n",
       "10775            драк\n",
       "15562           кроос\n",
       "569           classic\n",
       "34349             хот\n",
       "4043            аллюз\n",
       "9179             град\n",
       "27203         рассеян\n",
       "7981            вызов\n",
       "1876        manupubby\n",
       "24377          попада\n",
       "29436      следовател\n",
       "9890            деонт\n",
       "31363         таракан\n",
       "8593     генподрядчик\n",
       "6642          верещат\n",
       "dtype: object"
      ]
     },
     "execution_count": 12,
     "metadata": {},
     "output_type": "execute_result"
    }
   ],
   "source": [
    "vcb1 = sorted(tf.vocabulary_)\n",
    "print(len(vcb1))\n",
    "pd.Series(vcb1).sample(30)"
   ]
  },
  {
   "cell_type": "code",
   "execution_count": 13,
   "metadata": {},
   "outputs": [],
   "source": [
    "# pd.Series(vcb1).sample(30)"
   ]
  },
  {
   "cell_type": "markdown",
   "metadata": {},
   "source": [
    "## формируем датасеты"
   ]
  },
  {
   "cell_type": "code",
   "execution_count": 14,
   "metadata": {},
   "outputs": [
    {
     "name": "stdout",
     "output_type": "stream",
     "text": [
      "CPU times: user 1min 17s, sys: 33.2 ms, total: 1min 17s\n",
      "Wall time: 1min 18s\n"
     ]
    },
    {
     "data": {
      "text/plain": [
       "(3196, 36354)"
      ]
     },
     "execution_count": 14,
     "metadata": {},
     "output_type": "execute_result"
    }
   ],
   "source": [
    "%%time \n",
    "\n",
    "X = tf.transform( data['ctext'])\n",
    "X.shape"
   ]
  },
  {
   "cell_type": "code",
   "execution_count": 15,
   "metadata": {},
   "outputs": [
    {
     "data": {
      "text/plain": [
       "{'auto': 0,\n",
       " 'culture': 1,\n",
       " 'economics': 2,\n",
       " 'health': 3,\n",
       " 'incident': 4,\n",
       " 'politics': 5,\n",
       " 'realty': 6,\n",
       " 'reclama': 7,\n",
       " 'science': 8,\n",
       " 'social': 9,\n",
       " 'sport': 10,\n",
       " 'tech': 11,\n",
       " 'woman': 12}"
      ]
     },
     "execution_count": 15,
     "metadata": {},
     "output_type": "execute_result"
    }
   ],
   "source": [
    "labels = { t:i for i,t in enumerate(sorted(set(data['tag']))) }\n",
    "labels"
   ]
  },
  {
   "cell_type": "code",
   "execution_count": 16,
   "metadata": {},
   "outputs": [
    {
     "data": {
      "text/plain": [
       "array([5, 1, 1, ..., 8, 5, 9])"
      ]
     },
     "execution_count": 16,
     "metadata": {},
     "output_type": "execute_result"
    }
   ],
   "source": [
    "y = data['tag'].map(labels).values\n",
    "y"
   ]
  },
  {
   "cell_type": "code",
   "execution_count": 17,
   "metadata": {},
   "outputs": [
    {
     "data": {
      "text/plain": [
       "((2237, 36354), (2237,), (959, 36354), (959,))"
      ]
     },
     "execution_count": 17,
     "metadata": {},
     "output_type": "execute_result"
    }
   ],
   "source": [
    "from sklearn.model_selection import train_test_split\n",
    "\n",
    "X_train, X_test, y_train, y_test = train_test_split( X, y, test_size=0.3, random_state=326 )\n",
    "X_train.shape, y_train.shape, X_test.shape, y_test.shape"
   ]
  },
  {
   "cell_type": "markdown",
   "metadata": {},
   "source": [
    "## обучаем классификатор"
   ]
  },
  {
   "cell_type": "code",
   "execution_count": 18,
   "metadata": {},
   "outputs": [
    {
     "data": {
      "text/plain": [
       "SGDClassifier(tol=0.19)"
      ]
     },
     "execution_count": 18,
     "metadata": {},
     "output_type": "execute_result"
    }
   ],
   "source": [
    "from sklearn.linear_model import SGDClassifier\n",
    "\n",
    "clf = SGDClassifier(loss='hinge',max_iter=1000, tol=0.19)\n",
    "clf.fit(X_train,y_train)"
   ]
  },
  {
   "cell_type": "markdown",
   "metadata": {},
   "source": [
    "## тестируем"
   ]
  },
  {
   "cell_type": "code",
   "execution_count": null,
   "metadata": {},
   "outputs": [],
   "source": [
    "from sklearn.metrics import classification_report\n",
    "from sklearn.metrics import confusion_matrix\n",
    "from sklearn.metrics import accuracy_score"
   ]
  },
  {
   "cell_type": "code",
   "execution_count": 19,
   "metadata": {},
   "outputs": [
    {
     "data": {
      "text/plain": [
       "0.9995529727313366"
      ]
     },
     "execution_count": 19,
     "metadata": {},
     "output_type": "execute_result"
    }
   ],
   "source": [
    "# для правильный ответов на учебном наборе\n",
    "o = clf.predict(X_train)\n",
    "accuracy_score(y_train,o)"
   ]
  },
  {
   "cell_type": "code",
   "execution_count": 20,
   "metadata": {},
   "outputs": [
    {
     "data": {
      "text/plain": [
       "0.8686131386861314"
      ]
     },
     "execution_count": 20,
     "metadata": {},
     "output_type": "execute_result"
    }
   ],
   "source": [
    "# для правильный ответов на тестовом наборе\n",
    "o = clf.predict(X_test)\n",
    "accuracy_score(y_test,o)"
   ]
  },
  {
   "cell_type": "code",
   "execution_count": 21,
   "metadata": {},
   "outputs": [
    {
     "name": "stdout",
     "output_type": "stream",
     "text": [
      "              precision    recall  f1-score   support\n",
      "\n",
      "           0       0.96      0.84      0.90        87\n",
      "           1       0.80      0.93      0.86       101\n",
      "           2       0.83      0.78      0.80        76\n",
      "           3       0.85      0.74      0.79        31\n",
      "           4       0.86      0.93      0.89       123\n",
      "           5       0.88      0.95      0.91       177\n",
      "           6       0.80      0.76      0.78        21\n",
      "           7       0.82      0.53      0.64        17\n",
      "           8       0.86      1.00      0.93        68\n",
      "           9       0.71      0.34      0.46        44\n",
      "          10       0.96      1.00      0.98       118\n",
      "          11       0.88      0.76      0.82        89\n",
      "          12       0.64      1.00      0.78         7\n",
      "\n",
      "    accuracy                           0.87       959\n",
      "   macro avg       0.83      0.81      0.81       959\n",
      "weighted avg       0.87      0.87      0.86       959\n",
      "\n"
     ]
    }
   ],
   "source": [
    "print( classification_report(y_test,o) )"
   ]
  },
  {
   "cell_type": "markdown",
   "metadata": {},
   "source": [
    "---"
   ]
  },
  {
   "cell_type": "code",
   "execution_count": 22,
   "metadata": {},
   "outputs": [
    {
     "data": {
      "image/png": "[encoded data removed]",
      "text/plain": [
       "<Figure size 720x648 with 2 Axes>"
      ]
     },
     "metadata": {
      "needs_background": "light"
     },
     "output_type": "display_data"
    }
   ],
   "source": [
    "from matplotlib import pyplot as plt\n",
    "import itertools\n",
    "\n",
    "classes = sorted(labels.keys())\n",
    "cm = confusion_matrix(y_test,o)\n",
    "tick_marks = np.arange(len(classes))\n",
    "\n",
    "plt.figure(figsize=(10,9))\n",
    "\n",
    "plt.xticks(tick_marks, classes, rotation=45)\n",
    "plt.yticks(tick_marks, classes)\n",
    "\n",
    "thresh = cm.max() / 2.\n",
    "for i, j in itertools.product(range(cm.shape[0]), range(cm.shape[1])):\n",
    "    plt.text(j, i, format(cm[i, j], 'd'),\n",
    "             horizontalalignment=\"center\",\n",
    "             color=\"white\" if cm[i, j] > thresh else \"black\")\n",
    "\n",
    "plt.title('Confusion matrix')\n",
    "plt.tight_layout()\n",
    "plt.ylabel('True label')\n",
    "plt.xlabel('Predicted label')\n",
    "plt.imshow(cm, interpolation='nearest', cmap=plt.cm.Blues)\n",
    "plt.colorbar()\n",
    "\n",
    "plt.show()"
   ]
  },
  {
   "cell_type": "markdown",
   "metadata": {},
   "source": [
    "---"
   ]
  },
  {
   "cell_type": "code",
   "execution_count": 23,
   "metadata": {},
   "outputs": [],
   "source": [
    "o = clf.predict(X)"
   ]
  },
  {
   "cell_type": "code",
   "execution_count": 24,
   "metadata": {},
   "outputs": [],
   "source": [
    "labels_inv = { labels[k]:k for k in labels }\n",
    "# labels_inv"
   ]
  },
  {
   "cell_type": "code",
   "execution_count": 25,
   "metadata": {},
   "outputs": [
    {
     "name": "stdout",
     "output_type": "stream",
     "text": [
      "tag: tech\n",
      "predict: tech\n",
      "В таблице Менделеева официально появился Московий 30 ноября 2016 в 14:08 42.TUT.BY 28 ноября в таблице Менделеева официально закреплены четыре новых названия — нихоний, московий, теннессин и оганес...\n",
      "- - - - - - - - - - - - - - - - - -\n",
      "tag: tech\n",
      "predict: tech\n",
      "На всех столичных вокзалах появились QR-коды для обратной связи 13 декабря. Mossovetinfo.ru — На всех вокзалах Москвы установили специальные брендированные таблички с QR-кодами для обратной связи, со...\n",
      "- - - - - - - - - - - - - - - - - -\n",
      "tag: incident\n",
      "predict: incident\n",
      "Не менее 14 человек погибли в результате наводнения в Таиланде 6 декабря 2016 в 12:47 Русская служба Би-би-си Фото: Reuters По меньшей мере 14 человек погибли и трое пропали без вести в результате...\n",
      "- - - - - - - - - - - - - - - - - -\n",
      "tag: tech\n",
      "predict: tech\n",
      "Компания Apple добавит второй слот для SIM-карты в новом iPhone, который представят в конце 2017 года, сообщает Gizmochina. В начале 2016 года Apple подала две патентные заявки, одна из которых описыв...\n",
      "- - - - - - - - - - - - - - - - - -\n",
      "tag: incident\n",
      "predict: incident\n",
      "По факту смерти малолетнего воспитанника Высотинской средняя общеобразовательная школа завершена прокурорская проверка. Об этом ИА REGNUM Новости 22 июля сообщили в пресс-службе прокуратуры Красноярск...\n",
      "- - - - - - - - - - - - - - - - - -\n",
      "tag: politics\n",
      "predict: politics\n",
      "Коалиция США нанесла удары по госпиталю в Мосуле 8 декабря 2016 в 9:01 Lenta.ru Возглавляемая США коалиция нанесла удары по госпиталю в Мосуле, который использовали боевики «Исламского государства»...\n",
      "- - - - - - - - - - - - - - - - - -\n",
      "tag: health\n",
      "predict: health\n",
      "Ожирение у подростков ведет к заболеваниям печени Специалисты Британского\n",
      "национального форума по проблемам ожирения, отмечают значительное\n",
      "увеличение частоты случаев цирроза печени и особенно неалког...\n",
      "- - - - - - - - - - - - - - - - - -\n",
      "tag: sport\n",
      "predict: sport\n",
      "12 декабря 2016 в 22.45 (МСК) начнется матч 15 тура чемпионата Испании, в котором Вильярреал на своем поле будет принимать мадридский Атлетико. Эксперт биржи ставок Betfair Джек Ланг делится с нами св...\n",
      "- - - - - - - - - - - - - - - - - -\n",
      "tag: auto\n",
      "predict: auto\n",
      "Как рассказал британскому изданию AutoExpress глава американского подразделения Volkswagen Генрих Вебкен, компания всерьез подумывает зайти на территорию, на которой сейчас правят модели Ford F-150 и ...\n",
      "- - - - - - - - - - - - - - - - - -\n",
      "tag: social\n",
      "predict: social\n",
      "Маяк (34374.ru) Социальные пенсии подросли В связи с принятием постановления\n",
      "Правительства Российской Федерации от 21 июня 2010 г. N457 ?Об утверждении\n",
      "коэффициента дополнительной индексации с 1 июля ...\n",
      "- - - - - - - - - - - - - - - - - -\n"
     ]
    }
   ],
   "source": [
    "for n in range(10):\n",
    "    i = rng.randint(len(data))\n",
    "    print('tag:',data.iloc[i,1])\n",
    "    print('predict:',labels_inv[o[i]])\n",
    "    print(re.sub(r'\\n\\s*\\n',' ',data.iloc[i,0][:200])+'...')\n",
    "    print('- - - - - - - - - - - - - - - - - -')\n",
    "    "
   ]
  },
  {
   "cell_type": "code",
   "execution_count": null,
   "metadata": {},
   "outputs": [],
   "source": [
    "# https://habr.com/ru/post/205360/"
   ]
  }
 ],
 "metadata": {
  "kernelspec": {
   "display_name": "Python 3 (ipykernel)",
   "language": "python",
   "name": "python3"
  },
  "language_info": {
   "codemirror_mode": {
    "name": "ipython",
    "version": 3
   },
   "file_extension": ".py",
   "mimetype": "text/x-python",
   "name": "python",
   "nbconvert_exporter": "python",
   "pygments_lexer": "ipython3",
   "version": "3.8.9"
  },
  "toc": {
   "base_numbering": 1,
   "nav_menu": {},
   "number_sections": true,
   "sideBar": true,
   "skip_h1_title": false,
   "title_cell": "Table of Contents",
   "title_sidebar": "Contents",
   "toc_cell": false,
   "toc_position": {},
   "toc_section_display": true,
   "toc_window_display": false
  }
 },
 "nbformat": 4,
 "nbformat_minor": 2
}
