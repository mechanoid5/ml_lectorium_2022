{
 "cells": [
  {
   "cell_type": "markdown",
   "metadata": {},
   "source": [
    "**извлечение признаков из текста на естественном языке**\n",
    "\n",
    "классификатор текстов HashingVectorizer\n",
    "\n",
    "_Евгений Борисов <esborisov@sevsu.ru>_"
   ]
  },
  {
   "cell_type": "markdown",
   "metadata": {},
   "source": [
    "## библиотеки"
   ]
  },
  {
   "cell_type": "code",
   "execution_count": 1,
   "metadata": {},
   "outputs": [],
   "source": [
    "import re\n",
    "# import gzip\n",
    "import numpy as np\n",
    "import numpy.random as rng\n",
    "import pandas as pd\n",
    "from tqdm.notebook import tqdm\n",
    "\n",
    "np.set_printoptions(precision=2) # вывод на печать чисел до 2 знака\n",
    "pd.options.display.max_colwidth = 200 \n",
    "\n",
    "tqdm.pandas()"
   ]
  },
  {
   "cell_type": "code",
   "execution_count": 2,
   "metadata": {},
   "outputs": [],
   "source": [
    "# import numpy as np\n",
    "# import pandas as pd\n",
    "# import re"
   ]
  },
  {
   "cell_type": "code",
   "execution_count": 3,
   "metadata": {},
   "outputs": [
    {
     "data": {
      "text/plain": [
       "'1.0.2'"
      ]
     },
     "execution_count": 3,
     "metadata": {},
     "output_type": "execute_result"
    }
   ],
   "source": [
    "from sklearn import __version__ as SKLEARN_VERSION\n",
    "\n",
    "from sklearn.feature_extraction.text import HashingVectorizer\n",
    "\n",
    "from sklearn.model_selection import train_test_split\n",
    "from sklearn.metrics import confusion_matrix\n",
    "from sklearn.metrics import classification_report\n",
    "from sklearn.metrics import accuracy_score\n",
    "\n",
    "SKLEARN_VERSION"
   ]
  },
  {
   "cell_type": "markdown",
   "metadata": {},
   "source": [
    "## тексты"
   ]
  },
  {
   "cell_type": "code",
   "execution_count": 4,
   "metadata": {},
   "outputs": [
    {
     "name": "stdout",
     "output_type": "stream",
     "text": [
      "записей: 3196\n"
     ]
    },
    {
     "data": {
      "text/html": [
       "<div>\n",
       "<style scoped>\n",
       "    .dataframe tbody tr th:only-of-type {\n",
       "        vertical-align: middle;\n",
       "    }\n",
       "\n",
       "    .dataframe tbody tr th {\n",
       "        vertical-align: top;\n",
       "    }\n",
       "\n",
       "    .dataframe thead th {\n",
       "        text-align: right;\n",
       "    }\n",
       "</style>\n",
       "<table border=\"1\" class=\"dataframe\">\n",
       "  <thead>\n",
       "    <tr style=\"text-align: right;\">\n",
       "      <th></th>\n",
       "      <th>text</th>\n",
       "      <th>tag</th>\n",
       "    </tr>\n",
       "  </thead>\n",
       "  <tbody>\n",
       "    <tr>\n",
       "      <th>217</th>\n",
       "      <td>Во Львове покажут картину Микеланджело\\nдекабря во Львове будет показана единственная на Украине графическая\\nработа Микеланджело \"Ангел\", передает корреспондент \"Нового Региона\"...</td>\n",
       "      <td>culture</td>\n",
       "    </tr>\n",
       "    <tr>\n",
       "      <th>1545</th>\n",
       "      <td>Хищение 44 миллионов рублей выявили полицейские, проверяя законность траты бюджетных средств, выделенных на реконструкцию Государственного научного центра социальной и судебной психиатрии им. В.П....</td>\n",
       "      <td>incident</td>\n",
       "    </tr>\n",
       "    <tr>\n",
       "      <th>2311</th>\n",
       "      <td>09:02 - 13.12.2016\\n\\nВ краевой больнице Хабаровска умерла женщина, получившая серьезные ожоги при взрыве газа в жилом доме, расположенном в городе Советская Гавань.\\n\\nДве другие женщины, которые...</td>\n",
       "      <td>incident</td>\n",
       "    </tr>\n",
       "    <tr>\n",
       "      <th>1868</th>\n",
       "      <td>Дональд Трамп, избранный президент США, заявил, что оставит свой бизнес в срок до 20 января 2017 года, то есть до даты инаугурации, после чего сосредоточится на президентской работе.\\n\\nТакое реше...</td>\n",
       "      <td>politics</td>\n",
       "    </tr>\n",
       "    <tr>\n",
       "      <th>806</th>\n",
       "      <td>\"Вежливые люди\" 1939 года. История глазами стариков, переживших шесть властей\\n\\n5 декабря 2016 в 14:52\\n\\nTUT.BY\\n\\nЖурналист и писатель Василий Сарычев уже пятнадцать лет записывает воспоминания...</td>\n",
       "      <td>politics</td>\n",
       "    </tr>\n",
       "  </tbody>\n",
       "</table>\n",
       "</div>"
      ],
      "text/plain": [
       "                                                                                                                                                                                                         text  \\\n",
       "217                     Во Львове покажут картину Микеланджело\\nдекабря во Львове будет показана единственная на Украине графическая\\nработа Микеланджело \"Ангел\", передает корреспондент \"Нового Региона\"...   \n",
       "1545  Хищение 44 миллионов рублей выявили полицейские, проверяя законность траты бюджетных средств, выделенных на реконструкцию Государственного научного центра социальной и судебной психиатрии им. В.П....   \n",
       "2311  09:02 - 13.12.2016\\n\\nВ краевой больнице Хабаровска умерла женщина, получившая серьезные ожоги при взрыве газа в жилом доме, расположенном в городе Советская Гавань.\\n\\nДве другие женщины, которые...   \n",
       "1868  Дональд Трамп, избранный президент США, заявил, что оставит свой бизнес в срок до 20 января 2017 года, то есть до даты инаугурации, после чего сосредоточится на президентской работе.\\n\\nТакое реше...   \n",
       "806   \"Вежливые люди\" 1939 года. История глазами стариков, переживших шесть властей\\n\\n5 декабря 2016 в 14:52\\n\\nTUT.BY\\n\\nЖурналист и писатель Василий Сарычев уже пятнадцать лет записывает воспоминания...   \n",
       "\n",
       "           tag  \n",
       "217    culture  \n",
       "1545  incident  \n",
       "2311  incident  \n",
       "1868  politics  \n",
       "806   politics  "
      ]
     },
     "execution_count": 4,
     "metadata": {},
     "output_type": "execute_result"
    }
   ],
   "source": [
    "# загружаем тексты\n",
    "data = pd.read_pickle('../data/text/news.pkl.gz')\n",
    "print('записей:',len(data))\n",
    "data.sample(5)"
   ]
  },
  {
   "cell_type": "markdown",
   "metadata": {},
   "source": [
    "## токенизация"
   ]
  },
  {
   "cell_type": "code",
   "execution_count": 5,
   "metadata": {},
   "outputs": [],
   "source": [
    "from nltk.tokenize import sent_tokenize as nltk_sentence_split\n",
    "from nltk.tokenize import word_tokenize as nltk_tokenize_word"
   ]
  },
  {
   "cell_type": "code",
   "execution_count": 6,
   "metadata": {},
   "outputs": [
    {
     "data": {
      "application/vnd.jupyter.widget-view+json": {
       "model_id": "98ea543e7988494fba645d1d002e52d9",
       "version_major": 2,
       "version_minor": 0
      },
      "text/plain": [
       "  0%|          | 0/10 [00:00<?, ?it/s]"
      ]
     },
     "metadata": {},
     "output_type": "display_data"
    },
    {
     "data": {
      "text/html": [
       "<div>\n",
       "<style scoped>\n",
       "    .dataframe tbody tr th:only-of-type {\n",
       "        vertical-align: middle;\n",
       "    }\n",
       "\n",
       "    .dataframe tbody tr th {\n",
       "        vertical-align: top;\n",
       "    }\n",
       "\n",
       "    .dataframe thead th {\n",
       "        text-align: right;\n",
       "    }\n",
       "</style>\n",
       "<table border=\"1\" class=\"dataframe\">\n",
       "  <thead>\n",
       "    <tr style=\"text-align: right;\">\n",
       "      <th></th>\n",
       "      <th>text</th>\n",
       "    </tr>\n",
       "  </thead>\n",
       "  <tbody>\n",
       "    <tr>\n",
       "      <th>3020</th>\n",
       "      <td>[москва, ,, 13, декабря, ., опубликован, список, пяти, седанов, ,, которые, не, станут, продаваться, в, россии, ., сообщается, ,, что, причинами, ,, по, которым, автомобили, выведены, с, российско...</td>\n",
       "    </tr>\n",
       "    <tr>\n",
       "      <th>1037</th>\n",
       "      <td>[``, как, дальше, жить, '', ., в, бресте, рабочая, спела, песню, о, жизни, без, зарплаты, 5, декабря, 2016, в, 15:54, tut.by, 29, ноября, в, интернете, появился, ролик, ,, на, котором, женщина, ,,...</td>\n",
       "    </tr>\n",
       "    <tr>\n",
       "      <th>862</th>\n",
       "      <td>[розы, —, баскову, ,, хризантемы, —, киркорову, ., кому, везли, цветы, зрители, самого, дорогого, концерта, года, 6, декабря, 2016, в, 14:39, софия, суденкова, /, фото, :, дмитрий, кожуро, ,, afis...</td>\n",
       "    </tr>\n",
       "    <tr>\n",
       "      <th>1529</th>\n",
       "      <td>[в, италии, сформировано, новое, правительство, москва, ., 12, декабря, ., interfax.ru, -, паоло, джентилони, объявил, в, понедельник, состав, нового, правительства, италии, ,, которое, ему, предс...</td>\n",
       "    </tr>\n",
       "    <tr>\n",
       "      <th>895</th>\n",
       "      <td>[квартира, для, мамы, ., как, в, ``, однушке, '', разместить, много, шкафов, 27, ноября, 2016, в, 9:32, houzze.ru, ,, екатерина, перминова, дизайнер, наталья, сытенкова, не, раз, сталкивалась, с, ...</td>\n",
       "    </tr>\n",
       "    <tr>\n",
       "      <th>2826</th>\n",
       "      <td>[роскомнадзор, разъяснил, на, своем, сайте, некоторые, положения, федерального, закона, «, о, новостных, агрегаторах, », ., как, заявили, в, ведомстве, ,, они, не, будут, принимать, меры, в, отнош...</td>\n",
       "    </tr>\n",
       "    <tr>\n",
       "      <th>436</th>\n",
       "      <td>[саакашвили, пообещал, уволить, половину, чиновников, в, случае, прихода, к, власти, в, украине, 8, декабря, 2016, в, 7:19, тасс, экс-глава, одесской, области, михаил, саакашвили, заявил, ,, что, ...</td>\n",
       "    </tr>\n",
       "    <tr>\n",
       "      <th>2832</th>\n",
       "      <td>[на, сайте, роскомнадзора, опубликованы, разъяснения, по, вопросу, ответственности, новостных, агрегаторов, в, случае, распространения, ими, недостоверной, информации, ., в, документе, сказано, ,,...</td>\n",
       "    </tr>\n",
       "    <tr>\n",
       "      <th>1558</th>\n",
       "      <td>[в, течение, суток, сирийская, армия, достигла, новых, успехов, в, алеппо, —, от, боевиков, освобождено, ещё, пять, районов, города, ., таким, образом, ,, на, 96, процентов, территория, алеппо, на...</td>\n",
       "    </tr>\n",
       "    <tr>\n",
       "      <th>2853</th>\n",
       "      <td>[телеканал, «, пятница, », (, входит, в, холдинг, «, газпром-медиа, », ), сообщил, ,, что, подал, иск, о, защите, репутации, к, «, десяткам, », пользователей, социальной, сети, facebook, ., претен...</td>\n",
       "    </tr>\n",
       "  </tbody>\n",
       "</table>\n",
       "</div>"
      ],
      "text/plain": [
       "                                                                                                                                                                                                         text\n",
       "3020  [москва, ,, 13, декабря, ., опубликован, список, пяти, седанов, ,, которые, не, станут, продаваться, в, россии, ., сообщается, ,, что, причинами, ,, по, которым, автомобили, выведены, с, российско...\n",
       "1037  [``, как, дальше, жить, '', ., в, бресте, рабочая, спела, песню, о, жизни, без, зарплаты, 5, декабря, 2016, в, 15:54, tut.by, 29, ноября, в, интернете, появился, ролик, ,, на, котором, женщина, ,,...\n",
       "862   [розы, —, баскову, ,, хризантемы, —, киркорову, ., кому, везли, цветы, зрители, самого, дорогого, концерта, года, 6, декабря, 2016, в, 14:39, софия, суденкова, /, фото, :, дмитрий, кожуро, ,, afis...\n",
       "1529  [в, италии, сформировано, новое, правительство, москва, ., 12, декабря, ., interfax.ru, -, паоло, джентилони, объявил, в, понедельник, состав, нового, правительства, италии, ,, которое, ему, предс...\n",
       "895   [квартира, для, мамы, ., как, в, ``, однушке, '', разместить, много, шкафов, 27, ноября, 2016, в, 9:32, houzze.ru, ,, екатерина, перминова, дизайнер, наталья, сытенкова, не, раз, сталкивалась, с, ...\n",
       "2826  [роскомнадзор, разъяснил, на, своем, сайте, некоторые, положения, федерального, закона, «, о, новостных, агрегаторах, », ., как, заявили, в, ведомстве, ,, они, не, будут, принимать, меры, в, отнош...\n",
       "436   [саакашвили, пообещал, уволить, половину, чиновников, в, случае, прихода, к, власти, в, украине, 8, декабря, 2016, в, 7:19, тасс, экс-глава, одесской, области, михаил, саакашвили, заявил, ,, что, ...\n",
       "2832  [на, сайте, роскомнадзора, опубликованы, разъяснения, по, вопросу, ответственности, новостных, агрегаторов, в, случае, распространения, ими, недостоверной, информации, ., в, документе, сказано, ,,...\n",
       "1558  [в, течение, суток, сирийская, армия, достигла, новых, успехов, в, алеппо, —, от, боевиков, освобождено, ещё, пять, районов, города, ., таким, образом, ,, на, 96, процентов, территория, алеппо, на...\n",
       "2853  [телеканал, «, пятница, », (, входит, в, холдинг, «, газпром-медиа, », ), сообщил, ,, что, подал, иск, о, защите, репутации, к, «, десяткам, », пользователей, социальной, сети, facebook, ., претен..."
      ]
     },
     "execution_count": 6,
     "metadata": {},
     "output_type": "execute_result"
    }
   ],
   "source": [
    "def tokenize(text):\n",
    "    return [ \n",
    "        t.lower()\n",
    "        for s in nltk_sentence_split(text) # режем текст на отдельные предложения\n",
    "        for t in nltk_tokenize_word(s) # разбиваем предложения на слова\n",
    "    ]\n",
    "\n",
    "data['text'].sample(10).progress_apply(tokenize).to_frame()"
   ]
  },
  {
   "cell_type": "markdown",
   "metadata": {},
   "source": [
    "## Vectorizer"
   ]
  },
  {
   "cell_type": "code",
   "execution_count": 7,
   "metadata": {},
   "outputs": [],
   "source": [
    "tf = HashingVectorizer( n_features=4096, norm='l2', tokenizer=tokenize,token_pattern=None).fit( data['text'] )"
   ]
  },
  {
   "cell_type": "markdown",
   "metadata": {},
   "source": [
    "## формируем датасеты"
   ]
  },
  {
   "cell_type": "code",
   "execution_count": 8,
   "metadata": {},
   "outputs": [
    {
     "name": "stdout",
     "output_type": "stream",
     "text": [
      "CPU times: user 24.4 s, sys: 19.9 ms, total: 24.4 s\n",
      "Wall time: 24.8 s\n"
     ]
    },
    {
     "data": {
      "text/plain": [
       "(3196, 4096)"
      ]
     },
     "execution_count": 8,
     "metadata": {},
     "output_type": "execute_result"
    }
   ],
   "source": [
    "%%time \n",
    "\n",
    "X = tf.transform( data['text'] )\n",
    "X.shape"
   ]
  },
  {
   "cell_type": "code",
   "execution_count": 9,
   "metadata": {},
   "outputs": [
    {
     "data": {
      "text/plain": [
       "{'auto': 0,\n",
       " 'culture': 1,\n",
       " 'economics': 2,\n",
       " 'health': 3,\n",
       " 'incident': 4,\n",
       " 'politics': 5,\n",
       " 'realty': 6,\n",
       " 'reclama': 7,\n",
       " 'science': 8,\n",
       " 'social': 9,\n",
       " 'sport': 10,\n",
       " 'tech': 11,\n",
       " 'woman': 12}"
      ]
     },
     "execution_count": 9,
     "metadata": {},
     "output_type": "execute_result"
    }
   ],
   "source": [
    "labels = { t:i for i,t in enumerate(sorted(set(data['tag']))) }\n",
    "labels"
   ]
  },
  {
   "cell_type": "code",
   "execution_count": 10,
   "metadata": {},
   "outputs": [
    {
     "data": {
      "text/plain": [
       "array([5, 1, 1, ..., 8, 5, 9])"
      ]
     },
     "execution_count": 10,
     "metadata": {},
     "output_type": "execute_result"
    }
   ],
   "source": [
    "y = data['tag'].map(labels).values\n",
    "y"
   ]
  },
  {
   "cell_type": "code",
   "execution_count": 11,
   "metadata": {},
   "outputs": [
    {
     "data": {
      "text/plain": [
       "((2237, 4096), (2237,), (959, 4096), (959,))"
      ]
     },
     "execution_count": 11,
     "metadata": {},
     "output_type": "execute_result"
    }
   ],
   "source": [
    "X_train, X_test, y_train, y_test = train_test_split( X, y, test_size=0.3, random_state=326 )\n",
    "X_train.shape, y_train.shape, X_test.shape, y_test.shape"
   ]
  },
  {
   "cell_type": "markdown",
   "metadata": {},
   "source": [
    "## обучаем классификатор"
   ]
  },
  {
   "cell_type": "code",
   "execution_count": 12,
   "metadata": {},
   "outputs": [
    {
     "data": {
      "text/plain": [
       "SGDClassifier(tol=0.19)"
      ]
     },
     "execution_count": 12,
     "metadata": {},
     "output_type": "execute_result"
    }
   ],
   "source": [
    "from sklearn.linear_model import SGDClassifier\n",
    "\n",
    "clf = SGDClassifier(loss='hinge',max_iter=1000, tol=0.19)\n",
    "clf.fit(X_train,y_train)"
   ]
  },
  {
   "cell_type": "markdown",
   "metadata": {},
   "source": [
    "## тестируем"
   ]
  },
  {
   "cell_type": "code",
   "execution_count": 13,
   "metadata": {},
   "outputs": [
    {
     "data": {
      "text/plain": [
       "0.9557443004023245"
      ]
     },
     "execution_count": 13,
     "metadata": {},
     "output_type": "execute_result"
    }
   ],
   "source": [
    "o = clf.predict(X_train)\n",
    "accuracy_score(y_train,o)"
   ]
  },
  {
   "cell_type": "code",
   "execution_count": 14,
   "metadata": {},
   "outputs": [
    {
     "data": {
      "text/plain": [
       "0.794577685088634"
      ]
     },
     "execution_count": 14,
     "metadata": {},
     "output_type": "execute_result"
    }
   ],
   "source": [
    "o = clf.predict(X_test)\n",
    "accuracy_score(y_test,o)"
   ]
  },
  {
   "cell_type": "code",
   "execution_count": 15,
   "metadata": {},
   "outputs": [
    {
     "name": "stdout",
     "output_type": "stream",
     "text": [
      "              precision    recall  f1-score   support\n",
      "\n",
      "           0       1.00      0.70      0.82        87\n",
      "           1       0.78      0.64      0.71       101\n",
      "           2       0.89      0.67      0.77        76\n",
      "           3       0.88      0.48      0.62        31\n",
      "           4       0.72      0.96      0.82       123\n",
      "           5       0.83      0.92      0.87       177\n",
      "           6       0.77      0.48      0.59        21\n",
      "           7       0.70      0.82      0.76        17\n",
      "           8       0.82      1.00      0.90        68\n",
      "           9       0.85      0.25      0.39        44\n",
      "          10       0.89      0.94      0.91       118\n",
      "          11       0.58      0.79      0.67        89\n",
      "          12       0.86      0.86      0.86         7\n",
      "\n",
      "    accuracy                           0.79       959\n",
      "   macro avg       0.81      0.73      0.75       959\n",
      "weighted avg       0.81      0.79      0.78       959\n",
      "\n"
     ]
    }
   ],
   "source": [
    "print( classification_report(y_test,o) )"
   ]
  },
  {
   "cell_type": "code",
   "execution_count": 16,
   "metadata": {},
   "outputs": [
    {
     "data": {
      "image/png": "[encoded data removed]",
      "text/plain": [
       "<Figure size 720x648 with 2 Axes>"
      ]
     },
     "metadata": {
      "needs_background": "light"
     },
     "output_type": "display_data"
    }
   ],
   "source": [
    "from matplotlib import pyplot as plt\n",
    "import itertools\n",
    "\n",
    "classes = sorted(labels.keys())\n",
    "cm = confusion_matrix(y_test,o)\n",
    "tick_marks = np.arange(len(classes))\n",
    "\n",
    "plt.figure(figsize=(10,9))\n",
    "\n",
    "plt.xticks(tick_marks, classes, rotation=45)\n",
    "plt.yticks(tick_marks, classes)\n",
    "\n",
    "thresh = cm.max() / 2.\n",
    "for i, j in itertools.product(range(cm.shape[0]), range(cm.shape[1])):\n",
    "    plt.text(j, i, format(cm[i, j], 'd'),\n",
    "             horizontalalignment=\"center\",\n",
    "             color=\"white\" if cm[i, j] > thresh else \"black\")\n",
    "\n",
    "plt.title('Confusion matrix')\n",
    "plt.tight_layout()\n",
    "plt.ylabel('True label')\n",
    "plt.xlabel('Predicted label')\n",
    "plt.imshow(cm, interpolation='nearest', cmap=plt.cm.Blues)\n",
    "plt.colorbar()\n",
    "\n",
    "plt.show()"
   ]
  },
  {
   "cell_type": "markdown",
   "metadata": {},
   "source": [
    "---"
   ]
  },
  {
   "cell_type": "code",
   "execution_count": 17,
   "metadata": {},
   "outputs": [
    {
     "name": "stdout",
     "output_type": "stream",
     "text": [
      "tag: incident\n",
      "predict: incident\n",
      "Фото: администрация Приморского края Тайфун Лайонрок, который обрушился на Приморье осенью 2016 года, причинил субъекту ущерб, превышающий сумму в 7 миллиардов рублей. Об этом сегодня, 13 декабря, в ...\n",
      "- - - - - - - - - - - - - - - - - -\n",
      "tag: sport\n",
      "predict: sport\n",
      "одержала победу надв рамках домашнего матча 16-го тура чемпионата Италии. Встреча, состоявшаяся в Риме на «Стадио Олимпико», завершилась в пользу команды Лучано Спаллетти со счетом 1:0. Автором един...\n",
      "- - - - - - - - - - - - - - - - - -\n",
      "tag: tech\n",
      "predict: tech\n",
      "Установлена причина поломки американского суперэсминца Zumwalt 2 декабря 2016 в 14:49 Денис Алдохин / 42.TUT.BY Эсминец USS Zumwalt (DDG-1000) завершил ремонтные работы на военно-морской станции СШ...\n",
      "- - - - - - - - - - - - - - - - - -\n",
      "tag: economics\n",
      "predict: economics\n",
      "Из-за Brexit пудинг к Рождеству 2016 года подорожал на 20% 29 ноября 2016 в 8:37 РБК Падение курса британского фунта стерлингов, последовавшее за победой на прошедшем в Британии референдуме сторонн...\n",
      "- - - - - - - - - - - - - - - - - -\n",
      "tag: politics\n",
      "predict: incident\n",
      "\"Вежливые люди\" 1939 года. История глазами стариков, переживших шесть властей 5 декабря 2016 в 14:52 TUT.BY Журналист и писатель Василий Сарычев уже пятнадцать лет записывает воспоминания старожило...\n",
      "- - - - - - - - - - - - - - - - - -\n",
      "tag: culture\n",
      "predict: tech\n",
      "Вышел первый белорусско-английский словарь в рисунках 6 декабря 2016 в 17:33 Денис Мартинович / TUT.BY Книга «Наш дом / Our Home. Беларуска-англійскі слоўнік у малюнках» включает 2 тысячи слов, кот...\n",
      "- - - - - - - - - - - - - - - - - -\n",
      "tag: culture\n",
      "predict: tech\n",
      "Вышел первый белорусско-английский словарь в рисунках 6 декабря 2016 в 17:33 Денис Мартинович / TUT.BY Книга «Наш дом / Our Home. Беларуска-англійскі слоўнік у малюнках» включает 2 тысячи слов, кот...\n",
      "- - - - - - - - - - - - - - - - - -\n",
      "tag: auto\n",
      "predict: incident\n",
      "Судимость в 74 года. Пенсионер из Гомеля полтора года пытается доказать, что невиновен в ДТП 8 декабря 2016 в 7:58 Иван Яриванович / TUT.BY «Машина старая, ей красная цена — долларов 300. На ней то...\n",
      "- - - - - - - - - - - - - - - - - -\n",
      "tag: incident\n",
      "predict: incident\n",
      "Массовое дорожно-транспортное происшествие произошло в Кемеровской области. Полицейские устанавливают обстоятельства аварии с 9 машинами, в которой пострадали 7 человек, в том числе медики и два сотру...\n",
      "- - - - - - - - - - - - - - - - - -\n",
      "tag: politics\n",
      "predict: politics\n",
      "Итальянцы отвергли конституционную реформу премьера Ренци 5 декабря 2016 в 6:28 Артем Филипенок, РБК Жители Италии отвергли проект конституционной реформы, предложенной премьер-министром Маттео Рен...\n",
      "- - - - - - - - - - - - - - - - - -\n"
     ]
    }
   ],
   "source": [
    "o = clf.predict(X)\n",
    "\n",
    "labels_inv = { labels[k]:k for k in labels }\n",
    "\n",
    "for n in range(10):\n",
    "    i = rng.randint(len(data))\n",
    "    print('tag:',data.iloc[i,1])\n",
    "    print('predict:',labels_inv[o[i]])\n",
    "    print(re.sub(r'\\n\\s*\\n',' ',data.iloc[i,0][:200])+'...')\n",
    "    print('- - - - - - - - - - - - - - - - - -')\n",
    "    "
   ]
  },
  {
   "cell_type": "code",
   "execution_count": null,
   "metadata": {},
   "outputs": [],
   "source": []
  },
  {
   "cell_type": "code",
   "execution_count": null,
   "metadata": {},
   "outputs": [],
   "source": []
  }
 ],
 "metadata": {
  "kernelspec": {
   "display_name": "Python 3 (ipykernel)",
   "language": "python",
   "name": "python3"
  },
  "language_info": {
   "codemirror_mode": {
    "name": "ipython",
    "version": 3
   },
   "file_extension": ".py",
   "mimetype": "text/x-python",
   "name": "python",
   "nbconvert_exporter": "python",
   "pygments_lexer": "ipython3",
   "version": "3.8.9"
  },
  "toc": {
   "base_numbering": 1,
   "nav_menu": {},
   "number_sections": true,
   "sideBar": true,
   "skip_h1_title": false,
   "title_cell": "Table of Contents",
   "title_sidebar": "Contents",
   "toc_cell": false,
   "toc_position": {},
   "toc_section_display": true,
   "toc_window_display": false
  }
 },
 "nbformat": 4,
 "nbformat_minor": 2
}
