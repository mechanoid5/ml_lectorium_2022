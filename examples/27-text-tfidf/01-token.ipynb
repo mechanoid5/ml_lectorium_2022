{
 "cells": [
  {
   "cell_type": "markdown",
   "metadata": {},
   "source": [
    "**извлечение признаков из текста на естественном языке**\n",
    "\n",
    "очистка текста и токенизация\n",
    "\n",
    "_Евгений Борисов <esborisov@sevsu.ru>_"
   ]
  },
  {
   "cell_type": "markdown",
   "metadata": {},
   "source": [
    "## библиотеки"
   ]
  },
  {
   "cell_type": "code",
   "execution_count": 1,
   "metadata": {},
   "outputs": [],
   "source": [
    "import re\n",
    "# import numpy as np\n",
    "# import numpy.random as rng\n",
    "import pandas as pd\n",
    "# from tqdm import tqdm\n",
    "from tqdm.notebook import tqdm\n",
    "\n",
    "# np.set_printoptions(precision=2) # вывод на печать чисел до 2 знака\n",
    "pd.options.display.max_colwidth = 200 \n",
    "\n",
    "tqdm.pandas()"
   ]
  },
  {
   "cell_type": "markdown",
   "metadata": {},
   "source": [
    "---"
   ]
  },
  {
   "cell_type": "code",
   "execution_count": 2,
   "metadata": {},
   "outputs": [],
   "source": [
    "# https://habr.com/ru/post/516098/\n",
    "# Corus — коллекция русскоязычных NLP-датасетов\n",
    "# https://github.com/yutkin/Lenta.Ru-News-Dataset/"
   ]
  },
  {
   "cell_type": "markdown",
   "metadata": {},
   "source": [
    "## тексты"
   ]
  },
  {
   "cell_type": "code",
   "execution_count": 4,
   "metadata": {},
   "outputs": [
    {
     "name": "stdout",
     "output_type": "stream",
     "text": [
      "записей: 3196\n"
     ]
    },
    {
     "data": {
      "text/html": [
       "<div>\n",
       "<style scoped>\n",
       "    .dataframe tbody tr th:only-of-type {\n",
       "        vertical-align: middle;\n",
       "    }\n",
       "\n",
       "    .dataframe tbody tr th {\n",
       "        vertical-align: top;\n",
       "    }\n",
       "\n",
       "    .dataframe thead th {\n",
       "        text-align: right;\n",
       "    }\n",
       "</style>\n",
       "<table border=\"1\" class=\"dataframe\">\n",
       "  <thead>\n",
       "    <tr style=\"text-align: right;\">\n",
       "      <th></th>\n",
       "      <th>text</th>\n",
       "      <th>tag</th>\n",
       "    </tr>\n",
       "  </thead>\n",
       "  <tbody>\n",
       "    <tr>\n",
       "      <th>2056</th>\n",
       "      <td>Хавбек Челси Сеск Фабрегас отказался от финансово очень заманчивого предложения из Китая и желает остаться в Англии.\\n\\nХавбек Челси Сеск Фабрегас отказался от финансово очень заманчивого предложе...</td>\n",
       "      <td>sport</td>\n",
       "    </tr>\n",
       "    <tr>\n",
       "      <th>539</th>\n",
       "      <td>Под Петриковом водитель не заметил припаркованный на обочине Opel: пострадали три человека\\n\\n5 декабря 2016 в 17:19\\n\\nAUTO.TUT.BY\\n\\nДТП произошло 4 декабря в Петриковском районе на трассе Птичь...</td>\n",
       "      <td>incident</td>\n",
       "    </tr>\n",
       "    <tr>\n",
       "      <th>385</th>\n",
       "      <td>Highway Михаила Спирита на радио \"Мегаполис FM\" Эфирная сетка радиостанции\\n\"Мегаполис FM\" обогатилась на еще одно шоу. 28 ноября вслед за программой\\nDj Паши Крейца \"Танцпол\" из приемников зазвуч...</td>\n",
       "      <td>culture</td>\n",
       "    </tr>\n",
       "    <tr>\n",
       "      <th>2671</th>\n",
       "      <td>Вашингтон, 11 декабря. Американские ученые выяснили, что происходит с мозгом при попытке решить сразу несколько задач одновременно. Оказалось, что он попросту начинает «раскалываться»: одна часть ...</td>\n",
       "      <td>science</td>\n",
       "    </tr>\n",
       "    <tr>\n",
       "      <th>967</th>\n",
       "      <td>Лукашенко: падение товарооборота в ЕАЭС негативно сказывается на имидже интеграционного объединения\\n\\n6 декабря 2016 в 11:26\\n\\nTUT.BY\\n\\nПадение товарооборота в ЕАЭС негативно сказывается на ими...</td>\n",
       "      <td>economics</td>\n",
       "    </tr>\n",
       "  </tbody>\n",
       "</table>\n",
       "</div>"
      ],
      "text/plain": [
       "                                                                                                                                                                                                         text  \\\n",
       "2056  Хавбек Челси Сеск Фабрегас отказался от финансово очень заманчивого предложения из Китая и желает остаться в Англии.\\n\\nХавбек Челси Сеск Фабрегас отказался от финансово очень заманчивого предложе...   \n",
       "539   Под Петриковом водитель не заметил припаркованный на обочине Opel: пострадали три человека\\n\\n5 декабря 2016 в 17:19\\n\\nAUTO.TUT.BY\\n\\nДТП произошло 4 декабря в Петриковском районе на трассе Птичь...   \n",
       "385   Highway Михаила Спирита на радио \"Мегаполис FM\" Эфирная сетка радиостанции\\n\"Мегаполис FM\" обогатилась на еще одно шоу. 28 ноября вслед за программой\\nDj Паши Крейца \"Танцпол\" из приемников зазвуч...   \n",
       "2671  Вашингтон, 11 декабря. Американские ученые выяснили, что происходит с мозгом при попытке решить сразу несколько задач одновременно. Оказалось, что он попросту начинает «раскалываться»: одна часть ...   \n",
       "967   Лукашенко: падение товарооборота в ЕАЭС негативно сказывается на имидже интеграционного объединения\\n\\n6 декабря 2016 в 11:26\\n\\nTUT.BY\\n\\nПадение товарооборота в ЕАЭС негативно сказывается на ими...   \n",
       "\n",
       "            tag  \n",
       "2056      sport  \n",
       "539    incident  \n",
       "385     culture  \n",
       "2671    science  \n",
       "967   economics  "
      ]
     },
     "execution_count": 4,
     "metadata": {},
     "output_type": "execute_result"
    }
   ],
   "source": [
    "# загружаем тексты\n",
    "data = pd.read_pickle('../data/text/news.pkl.gz')\n",
    "print('записей:',len(data))\n",
    "data.sample(5)"
   ]
  },
  {
   "cell_type": "code",
   "execution_count": 5,
   "metadata": {},
   "outputs": [
    {
     "data": {
      "text/html": [
       "<div>\n",
       "<style scoped>\n",
       "    .dataframe tbody tr th:only-of-type {\n",
       "        vertical-align: middle;\n",
       "    }\n",
       "\n",
       "    .dataframe tbody tr th {\n",
       "        vertical-align: top;\n",
       "    }\n",
       "\n",
       "    .dataframe thead th {\n",
       "        text-align: right;\n",
       "    }\n",
       "</style>\n",
       "<table border=\"1\" class=\"dataframe\">\n",
       "  <thead>\n",
       "    <tr style=\"text-align: right;\">\n",
       "      <th></th>\n",
       "      <th>count</th>\n",
       "      <th>mean</th>\n",
       "      <th>std</th>\n",
       "      <th>min</th>\n",
       "      <th>10%</th>\n",
       "      <th>25%</th>\n",
       "      <th>50%</th>\n",
       "      <th>75%</th>\n",
       "      <th>95%</th>\n",
       "      <th>max</th>\n",
       "    </tr>\n",
       "  </thead>\n",
       "  <tbody>\n",
       "    <tr>\n",
       "      <th>text</th>\n",
       "      <td>3196</td>\n",
       "      <td>1720</td>\n",
       "      <td>2177</td>\n",
       "      <td>25</td>\n",
       "      <td>370</td>\n",
       "      <td>675</td>\n",
       "      <td>1070</td>\n",
       "      <td>1813</td>\n",
       "      <td>5761</td>\n",
       "      <td>30710</td>\n",
       "    </tr>\n",
       "  </tbody>\n",
       "</table>\n",
       "</div>"
      ],
      "text/plain": [
       "      count  mean   std  min  10%  25%   50%   75%   95%    max\n",
       "text   3196  1720  2177   25  370  675  1070  1813  5761  30710"
      ]
     },
     "execution_count": 5,
     "metadata": {},
     "output_type": "execute_result"
    }
   ],
   "source": [
    "# длина строк\n",
    "pd.DataFrame(data['text'].str.len()).describe([.1,.25,.5,.75,.95]).astype(int).T"
   ]
  },
  {
   "cell_type": "code",
   "execution_count": 6,
   "metadata": {},
   "outputs": [
    {
     "data": {
      "text/plain": [
       "13"
      ]
     },
     "execution_count": 6,
     "metadata": {},
     "output_type": "execute_result"
    }
   ],
   "source": [
    "# количество категорий\n",
    "data['tag'].drop_duplicates().count()"
   ]
  },
  {
   "cell_type": "code",
   "execution_count": 7,
   "metadata": {},
   "outputs": [],
   "source": [
    "# собираем словарь из текстов\n",
    "def get_vocabulary(ds):\n",
    "    vcb = [ set(s) for s in ds.tolist() ]\n",
    "    return sorted(set.union(*vcb))"
   ]
  },
  {
   "cell_type": "markdown",
   "metadata": {},
   "source": [
    "## очистка и токенизация "
   ]
  },
  {
   "cell_type": "code",
   "execution_count": 8,
   "metadata": {},
   "outputs": [
    {
     "data": {
      "application/vnd.jupyter.widget-view+json": {
       "model_id": "1f1afcd66bd840f3b473e4ce6799f165",
       "version_major": 2,
       "version_minor": 0
      },
      "text/plain": [
       "  0%|          | 0/3196 [00:00<?, ?it/s]"
      ]
     },
     "metadata": {},
     "output_type": "display_data"
    }
   ],
   "source": [
    "# применяет список замен pat к строке s\n",
    "def replace_patterns(s,pat):\n",
    "    if len(pat)<1: return s\n",
    "    return  replace_patterns( re.sub(pat[0][0],pat[0][1],s), pat[1:] )\n",
    "\n",
    "# нормализация текста\n",
    "def string_normalizer(s):\n",
    "    pat = [\n",
    "       [r'ё','е'] # замена ё для унификации\n",
    "       ,[r'</?[a-z]+>',' '] # удаляем xml\n",
    "       ,[r'[^a-zа-я\\- ]+',' '] # оставляем только буквы, пробел и -\n",
    "       ,[r' -\\w+',' '] # удаляем '-й','-тый' и т.п.\n",
    "       ,[r'\\w+- ',' ']\n",
    "       ,[r' +',' '] # удаляем повторы пробелов\n",
    "    ]\n",
    "    return replace_patterns(s.lower(),pat).strip()\n",
    "\n",
    "data['ctext'] = data['text'].progress_apply(string_normalizer)"
   ]
  },
  {
   "cell_type": "code",
   "execution_count": 9,
   "metadata": {},
   "outputs": [
    {
     "data": {
      "application/vnd.jupyter.widget-view+json": {
       "model_id": "0e7bb38dcb6547c997337e1b60c1de95",
       "version_major": 2,
       "version_minor": 0
      },
      "text/plain": [
       "  0%|          | 0/3196 [00:00<?, ?it/s]"
      ]
     },
     "metadata": {},
     "output_type": "display_data"
    }
   ],
   "source": [
    "# разрезаем стоки на слова\n",
    "def tokenize(s): \n",
    "    return [ w for w in s.split(' ') if (len(w)>1) ]\n",
    "\n",
    "data['ctext'] = data['ctext'].progress_apply( tokenize )"
   ]
  },
  {
   "cell_type": "code",
   "execution_count": 10,
   "metadata": {},
   "outputs": [
    {
     "name": "stdout",
     "output_type": "stream",
     "text": [
      "словарь 83094 слов\n"
     ]
    }
   ],
   "source": [
    "vcb =  get_vocabulary( data['ctext'] )\n",
    "print('словарь %i слов'%(len(vcb)))\n",
    "# pd.DataFrame( vcb ).to_csv('voc0.txt',index=False,header=False)"
   ]
  },
  {
   "cell_type": "code",
   "execution_count": 11,
   "metadata": {},
   "outputs": [
    {
     "data": {
      "text/html": [
       "<div>\n",
       "<style scoped>\n",
       "    .dataframe tbody tr th:only-of-type {\n",
       "        vertical-align: middle;\n",
       "    }\n",
       "\n",
       "    .dataframe tbody tr th {\n",
       "        vertical-align: top;\n",
       "    }\n",
       "\n",
       "    .dataframe thead th {\n",
       "        text-align: right;\n",
       "    }\n",
       "</style>\n",
       "<table border=\"1\" class=\"dataframe\">\n",
       "  <thead>\n",
       "    <tr style=\"text-align: right;\">\n",
       "      <th></th>\n",
       "      <th>text</th>\n",
       "      <th>tag</th>\n",
       "      <th>ctext</th>\n",
       "    </tr>\n",
       "  </thead>\n",
       "  <tbody>\n",
       "    <tr>\n",
       "      <th>2869</th>\n",
       "      <td>Новый кроссовер приедет в Россию в двух кузовных модификациях: стандартной и длиннобазной XLV, которая будет длиннее на 230мм. Для обех версий в России предусмотрен только один 1,6-литровый бензин...</td>\n",
       "      <td>auto</td>\n",
       "      <td>[новый, кроссовер, приедет, россию, двух, кузовных, модификациях, стандартной, длиннобазной, xlv, которая, будет, длиннее, на, мм, для, обех, версий, россии, предусмотрен, только, один, бензиновый...</td>\n",
       "    </tr>\n",
       "    <tr>\n",
       "      <th>3101</th>\n",
       "      <td>Мурманские оленеводы отдыхают в санатории В санаторно-гостиничный комплекс\\n\"Изовела\" прибыла группа работников оленеводческих хозяйств из числа\\nпредставителей коренных малочисленных народов Севе...</td>\n",
       "      <td>social</td>\n",
       "      <td>[мурманские, оленеводы, отдыхают, санатории, санаторно-гостиничный, комплекс, изовела, прибыла, группа, работников, оленеводческих, хозяйств, из, числа, представителей, коренных, малочисленных, на...</td>\n",
       "    </tr>\n",
       "    <tr>\n",
       "      <th>983</th>\n",
       "      <td>Лукашенко примет польского сенатора, которого 4 года назад не пустили в Беларусь\\n\\n3 декабря 2016 в 17:13\\n\\nTUT.BY\\n\\nПредседатель польского сената Станислав Карчевски во главе делегации посетит...</td>\n",
       "      <td>politics</td>\n",
       "      <td>[лукашенко, примет, польского, сенатора, которого, года, назад, не, пустили, беларусь, декабря, tut, by, председатель, польского, сената, станислав, карчевски, во, главе, делегации, посетит, декаб...</td>\n",
       "    </tr>\n",
       "  </tbody>\n",
       "</table>\n",
       "</div>"
      ],
      "text/plain": [
       "                                                                                                                                                                                                         text  \\\n",
       "2869  Новый кроссовер приедет в Россию в двух кузовных модификациях: стандартной и длиннобазной XLV, которая будет длиннее на 230мм. Для обех версий в России предусмотрен только один 1,6-литровый бензин...   \n",
       "3101  Мурманские оленеводы отдыхают в санатории В санаторно-гостиничный комплекс\\n\"Изовела\" прибыла группа работников оленеводческих хозяйств из числа\\nпредставителей коренных малочисленных народов Севе...   \n",
       "983   Лукашенко примет польского сенатора, которого 4 года назад не пустили в Беларусь\\n\\n3 декабря 2016 в 17:13\\n\\nTUT.BY\\n\\nПредседатель польского сената Станислав Карчевски во главе делегации посетит...   \n",
       "\n",
       "           tag  \\\n",
       "2869      auto   \n",
       "3101    social   \n",
       "983   politics   \n",
       "\n",
       "                                                                                                                                                                                                        ctext  \n",
       "2869  [новый, кроссовер, приедет, россию, двух, кузовных, модификациях, стандартной, длиннобазной, xlv, которая, будет, длиннее, на, мм, для, обех, версий, россии, предусмотрен, только, один, бензиновый...  \n",
       "3101  [мурманские, оленеводы, отдыхают, санатории, санаторно-гостиничный, комплекс, изовела, прибыла, группа, работников, оленеводческих, хозяйств, из, числа, представителей, коренных, малочисленных, на...  \n",
       "983   [лукашенко, примет, польского, сенатора, которого, года, назад, не, пустили, беларусь, декабря, tut, by, председатель, польского, сената, станислав, карчевски, во, главе, делегации, посетит, декаб...  "
      ]
     },
     "execution_count": 11,
     "metadata": {},
     "output_type": "execute_result"
    }
   ],
   "source": [
    "data.sample(3)"
   ]
  },
  {
   "cell_type": "markdown",
   "metadata": {},
   "source": [
    "## стеминг"
   ]
  },
  {
   "cell_type": "code",
   "execution_count": 12,
   "metadata": {},
   "outputs": [],
   "source": [
    "from nltk.stem.snowball import SnowballStemmer\n",
    "from nltk.corpus import stopwords as nltk_stopwords\n",
    "# from nltk import download as nltk_download\n",
    "# nltk_download('stopwords')\n",
    "\n",
    "stopwords = set(nltk_stopwords.words('russian'))\n",
    "stemmer = SnowballStemmer('russian')\n",
    "\n",
    "# выкидываем stopwords, выполняем стеминг\n",
    "def stem(s): \n",
    "    return [ stemmer.stem(w) for w in s if w not in stopwords ]"
   ]
  },
  {
   "cell_type": "code",
   "execution_count": 13,
   "metadata": {},
   "outputs": [
    {
     "data": {
      "application/vnd.jupyter.widget-view+json": {
       "model_id": "2ae77e2d68324644980acb29a649f78e",
       "version_major": 2,
       "version_minor": 0
      },
      "text/plain": [
       "  0%|          | 0/3196 [00:00<?, ?it/s]"
      ]
     },
     "metadata": {},
     "output_type": "display_data"
    }
   ],
   "source": [
    "data['ctext'] = data['ctext'].progress_apply( stem )"
   ]
  },
  {
   "cell_type": "code",
   "execution_count": 14,
   "metadata": {},
   "outputs": [
    {
     "name": "stdout",
     "output_type": "stream",
     "text": [
      "словарь 36381 слов\n"
     ]
    }
   ],
   "source": [
    "vcb =  get_vocabulary( data['ctext'] )\n",
    "print('словарь %i слов'%(len(vcb)))\n",
    "# pd.DataFrame( vcb ).to_csv('voc1.txt',index=False,header=False)"
   ]
  },
  {
   "cell_type": "code",
   "execution_count": 15,
   "metadata": {},
   "outputs": [
    {
     "data": {
      "text/html": [
       "<div>\n",
       "<style scoped>\n",
       "    .dataframe tbody tr th:only-of-type {\n",
       "        vertical-align: middle;\n",
       "    }\n",
       "\n",
       "    .dataframe tbody tr th {\n",
       "        vertical-align: top;\n",
       "    }\n",
       "\n",
       "    .dataframe thead th {\n",
       "        text-align: right;\n",
       "    }\n",
       "</style>\n",
       "<table border=\"1\" class=\"dataframe\">\n",
       "  <thead>\n",
       "    <tr style=\"text-align: right;\">\n",
       "      <th></th>\n",
       "      <th>text</th>\n",
       "      <th>tag</th>\n",
       "      <th>ctext</th>\n",
       "    </tr>\n",
       "  </thead>\n",
       "  <tbody>\n",
       "    <tr>\n",
       "      <th>1368</th>\n",
       "      <td>Ученые нашли различие в зрении мужчин и женщин\\n\\n30 ноября 2016 в 10:32\\n\\n42.TUT.BY\\n\\nЖенщины и мужчины смотрят на лица и интерпретируют визуальную информацию по-разному, что может приводить к ...</td>\n",
       "      <td>tech</td>\n",
       "      <td>[учен, нашл, различ, зрен, мужчин, женщин, ноябр, tut, by, женщин, мужчин, смотр, лиц, интерпретир, визуальн, информац, по-разн, привод, гендерн, различ, пониман, визуальн, информац, научн, работ,...</td>\n",
       "    </tr>\n",
       "    <tr>\n",
       "      <th>3182</th>\n",
       "      <td>Маяк (34374.ru) Социальные пенсии подросли В связи с принятием постановления\\nПравительства Российской Федерации от 21 июня 2010 г. N457 ?Об утверждении\\nкоэффициента дополнительной индексации с 1...</td>\n",
       "      <td>social</td>\n",
       "      <td>[маяк, ru, социальн, пенс, подросл, связ, принят, постановлен, правительств, российск, федерац, июн, утвержден, коэффициент, дополнительн, индексац, июл, социальн, пенс, июл, год, социальн, пенс, ...</td>\n",
       "    </tr>\n",
       "    <tr>\n",
       "      <th>3127</th>\n",
       "      <td>Восток-Медиа (vostokmedia.com) Дальневосточный фестиваль художественных\\nремесел \"Живая нить времен\" пройдет в Хабаровске. В нем примут участие\\nмастера художественных промыслов и декоративно-прик...</td>\n",
       "      <td>culture</td>\n",
       "      <td>[восток-мед, vostokmedia, com, дальневосточн, фестивал, художествен, ремесел, жив, нит, врем, пройдет, хабаровск, нем, примут, участ, мастер, художествен, промысл, декоративно-прикладн, искусств, ...</td>\n",
       "    </tr>\n",
       "  </tbody>\n",
       "</table>\n",
       "</div>"
      ],
      "text/plain": [
       "                                                                                                                                                                                                         text  \\\n",
       "1368  Ученые нашли различие в зрении мужчин и женщин\\n\\n30 ноября 2016 в 10:32\\n\\n42.TUT.BY\\n\\nЖенщины и мужчины смотрят на лица и интерпретируют визуальную информацию по-разному, что может приводить к ...   \n",
       "3182  Маяк (34374.ru) Социальные пенсии подросли В связи с принятием постановления\\nПравительства Российской Федерации от 21 июня 2010 г. N457 ?Об утверждении\\nкоэффициента дополнительной индексации с 1...   \n",
       "3127  Восток-Медиа (vostokmedia.com) Дальневосточный фестиваль художественных\\nремесел \"Живая нить времен\" пройдет в Хабаровске. В нем примут участие\\nмастера художественных промыслов и декоративно-прик...   \n",
       "\n",
       "          tag  \\\n",
       "1368     tech   \n",
       "3182   social   \n",
       "3127  culture   \n",
       "\n",
       "                                                                                                                                                                                                        ctext  \n",
       "1368  [учен, нашл, различ, зрен, мужчин, женщин, ноябр, tut, by, женщин, мужчин, смотр, лиц, интерпретир, визуальн, информац, по-разн, привод, гендерн, различ, пониман, визуальн, информац, научн, работ,...  \n",
       "3182  [маяк, ru, социальн, пенс, подросл, связ, принят, постановлен, правительств, российск, федерац, июн, утвержден, коэффициент, дополнительн, индексац, июл, социальн, пенс, июл, год, социальн, пенс, ...  \n",
       "3127  [восток-мед, vostokmedia, com, дальневосточн, фестивал, художествен, ремесел, жив, нит, врем, пройдет, хабаровск, нем, примут, участ, мастер, художествен, промысл, декоративно-прикладн, искусств, ...  "
      ]
     },
     "execution_count": 15,
     "metadata": {},
     "output_type": "execute_result"
    }
   ],
   "source": [
    "data.sample(3)"
   ]
  },
  {
   "cell_type": "markdown",
   "metadata": {},
   "source": [
    "## токенайзеры nltk"
   ]
  },
  {
   "cell_type": "code",
   "execution_count": 21,
   "metadata": {},
   "outputs": [
    {
     "name": "stdout",
     "output_type": "stream",
     "text": [
      "символов:465490\n",
      "\n",
      "Теперь, когда уже все прошло, и я пишу хронику, мы уже знаем в чем дело; но тогда мы еще ничего не знали, и естественно, что нам представлялись странными разные вещи. По крайней мере мы со Степаном Трофимовичем в первое время заперлись и с испугом наблюдали издали. Я-то кой-куда еще выходил и по-прежнему приносил ему разные вести, без чего он и пробыть не мог.\n"
     ]
    }
   ],
   "source": [
    "import re\n",
    "import gzip\n",
    "\n",
    "# загружаем текст ...\n",
    "with gzip.open('../data/text/dostoevsky-besy-p2.txt.gz','rt') as f:  \n",
    "    text = f.read()[105:] # ...и выкидываем заголовок\n",
    "\n",
    "print('символов:%i\\n'%(len(text)))\n",
    "print(text[:364].strip())"
   ]
  },
  {
   "cell_type": "code",
   "execution_count": 22,
   "metadata": {},
   "outputs": [
    {
     "data": {
      "application/vnd.jupyter.widget-view+json": {
       "model_id": "5e42e60d1c684f84b534c8ef1f7ff7bb",
       "version_major": 2,
       "version_minor": 0
      },
      "text/plain": [
       "  0%|          | 0/5556 [00:00<?, ?it/s]"
      ]
     },
     "metadata": {},
     "output_type": "display_data"
    },
    {
     "name": "stdout",
     "output_type": "stream",
     "text": [
      "предложений: 5556\n",
      "\n"
     ]
    },
    {
     "data": {
      "text/plain": [
       "[['-',\n",
       "  'нетерпеливо',\n",
       "  'окликнул',\n",
       "  'он',\n",
       "  'Кириллова',\n",
       "  'уже',\n",
       "  'неподалеку',\n",
       "  'от',\n",
       "  'дому',\n",
       "  '.'],\n",
       " ['``', 'Да', 'что', 'же', 'лошади', '?', \"''\"],\n",
       " ['-', 'Да', 'вы', 'это', 'нарочно', ',', 'что', 'ли', '?'],\n",
       " ['-', 'Да-с', ',', 'ясно', ',', 'но', 'кого', 'же', 'он', 'просит', '?'],\n",
       " ['Я',\n",
       "  'не',\n",
       "  'аллегорию',\n",
       "  ',',\n",
       "  'я',\n",
       "  'просто',\n",
       "  'лист',\n",
       "  ',',\n",
       "  'один',\n",
       "  'лист',\n",
       "  '.']]"
      ]
     },
     "execution_count": 22,
     "metadata": {},
     "output_type": "execute_result"
    }
   ],
   "source": [
    "from random import sample\n",
    "\n",
    "from nltk.tokenize import sent_tokenize as nltk_sentence_split\n",
    "from nltk.tokenize import word_tokenize as nltk_tokenize_word\n",
    "\n",
    "text = [ \n",
    "    nltk_tokenize_word(s) # разбиваем предложения на слова\n",
    "    for s in tqdm( nltk_sentence_split(text) ) # режем текст на отдельные предложения\n",
    "]\n",
    "\n",
    "print('предложений: %i\\n'%(len(text)))\n",
    "\n",
    "sample(text,5)"
   ]
  },
  {
   "cell_type": "code",
   "execution_count": null,
   "metadata": {},
   "outputs": [],
   "source": []
  }
 ],
 "metadata": {
  "kernelspec": {
   "display_name": "Python 3 (ipykernel)",
   "language": "python",
   "name": "python3"
  },
  "language_info": {
   "codemirror_mode": {
    "name": "ipython",
    "version": 3
   },
   "file_extension": ".py",
   "mimetype": "text/x-python",
   "name": "python",
   "nbconvert_exporter": "python",
   "pygments_lexer": "ipython3",
   "version": "3.8.9"
  },
  "toc": {
   "base_numbering": 1,
   "nav_menu": {},
   "number_sections": true,
   "sideBar": true,
   "skip_h1_title": false,
   "title_cell": "Table of Contents",
   "title_sidebar": "Contents",
   "toc_cell": false,
   "toc_position": {},
   "toc_section_display": true,
   "toc_window_display": false
  }
 },
 "nbformat": 4,
 "nbformat_minor": 2
}
