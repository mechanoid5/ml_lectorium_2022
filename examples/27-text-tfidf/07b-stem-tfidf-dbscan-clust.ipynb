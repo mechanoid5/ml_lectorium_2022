{
 "cells": [
  {
   "cell_type": "markdown",
   "metadata": {},
   "source": [
    "**извлечение признаков из текста на естественном языке**\n",
    "\n",
    "кластеризатор текстов   \n",
    "SnowballStemmer + TFIDF + DBSCAN\n",
    "\n",
    "_Евгений Борисов <esborisov@sevsu.ru>_"
   ]
  },
  {
   "cell_type": "markdown",
   "metadata": {},
   "source": [
    "## библиотеки"
   ]
  },
  {
   "cell_type": "code",
   "execution_count": 1,
   "metadata": {},
   "outputs": [],
   "source": [
    "import re\n",
    "# import gzip\n",
    "import numpy as np\n",
    "import numpy.random as rng\n",
    "import pandas as pd\n",
    "from tqdm.notebook import tqdm\n",
    "\n",
    "np.set_printoptions(precision=2) # вывод на печать чисел до 2 знака\n",
    "pd.options.display.max_colwidth = 200 \n",
    "\n",
    "tqdm.pandas()"
   ]
  },
  {
   "cell_type": "code",
   "execution_count": 2,
   "metadata": {},
   "outputs": [
    {
     "data": {
      "text/plain": [
       "'1.0.2'"
      ]
     },
     "execution_count": 2,
     "metadata": {},
     "output_type": "execute_result"
    }
   ],
   "source": [
    "from sklearn import __version__ as SKLEARN_VERSION\n",
    "\n",
    "from sklearn.feature_extraction.text import TfidfVectorizer\n",
    "from sklearn.cluster import DBSCAN\n",
    "\n",
    "from matplotlib import pyplot as plt\n",
    "\n",
    "SKLEARN_VERSION"
   ]
  },
  {
   "cell_type": "code",
   "execution_count": 3,
   "metadata": {},
   "outputs": [],
   "source": [
    "# from nltk.stem.snowball import SnowballStemmer\n",
    "# from nltk.corpus import stopwords as nltk_stopwords\n",
    "# from nltk import download as nltk_download\n",
    "# nltk_download('stopwords')"
   ]
  },
  {
   "cell_type": "markdown",
   "metadata": {},
   "source": [
    "## тексты"
   ]
  },
  {
   "cell_type": "code",
   "execution_count": 4,
   "metadata": {},
   "outputs": [
    {
     "name": "stdout",
     "output_type": "stream",
     "text": [
      "записей: 3196\n"
     ]
    }
   ],
   "source": [
    "# загружаем тексты\n",
    "data = pd.read_pickle('../data/text/news.pkl.gz')\n",
    "print('записей:',len(data))"
   ]
  },
  {
   "cell_type": "code",
   "execution_count": 5,
   "metadata": {},
   "outputs": [
    {
     "data": {
      "text/html": [
       "<div>\n",
       "<style scoped>\n",
       "    .dataframe tbody tr th:only-of-type {\n",
       "        vertical-align: middle;\n",
       "    }\n",
       "\n",
       "    .dataframe tbody tr th {\n",
       "        vertical-align: top;\n",
       "    }\n",
       "\n",
       "    .dataframe thead th {\n",
       "        text-align: right;\n",
       "    }\n",
       "</style>\n",
       "<table border=\"1\" class=\"dataframe\">\n",
       "  <thead>\n",
       "    <tr style=\"text-align: right;\">\n",
       "      <th></th>\n",
       "      <th>text</th>\n",
       "      <th>tag</th>\n",
       "    </tr>\n",
       "  </thead>\n",
       "  <tbody>\n",
       "    <tr>\n",
       "      <th>1441</th>\n",
       "      <td>Арестованный за взятку экс-губернатор Сахалина Александр Хорошавин обжаловал конфискацию своего имущества в Конституционном суде на 1,1 млрд рублей.\\n\\nГазета \"Коммерсантъ\" пишет, что Хорошавины п...</td>\n",
       "      <td>politics</td>\n",
       "    </tr>\n",
       "    <tr>\n",
       "      <th>1642</th>\n",
       "      <td>Сильное извержение вулкана Безымянный может произойти в ближайшее время на Камчатке. Об этом заявила руководитель Камчатской группы реагирования на вулканические извержения (KVERT) Института вулка...</td>\n",
       "      <td>science</td>\n",
       "    </tr>\n",
       "  </tbody>\n",
       "</table>\n",
       "</div>"
      ],
      "text/plain": [
       "                                                                                                                                                                                                         text  \\\n",
       "1441  Арестованный за взятку экс-губернатор Сахалина Александр Хорошавин обжаловал конфискацию своего имущества в Конституционном суде на 1,1 млрд рублей.\\n\\nГазета \"Коммерсантъ\" пишет, что Хорошавины п...   \n",
       "1642  Сильное извержение вулкана Безымянный может произойти в ближайшее время на Камчатке. Об этом заявила руководитель Камчатской группы реагирования на вулканические извержения (KVERT) Института вулка...   \n",
       "\n",
       "           tag  \n",
       "1441  politics  \n",
       "1642   science  "
      ]
     },
     "execution_count": 5,
     "metadata": {},
     "output_type": "execute_result"
    }
   ],
   "source": [
    "data.sample(2)"
   ]
  },
  {
   "cell_type": "markdown",
   "metadata": {},
   "source": [
    "## токенизация и очистка"
   ]
  },
  {
   "cell_type": "code",
   "execution_count": 6,
   "metadata": {},
   "outputs": [],
   "source": [
    "# применяет список замен pat к строке s\n",
    "def replace_patterns(s,pat):\n",
    "    if len(pat)<1: return s\n",
    "    return  replace_patterns( re.sub(pat[0][0],pat[0][1],s), pat[1:] )\n",
    "\n",
    "# нормализация текста\n",
    "def string_normalizer(s):\n",
    "    pat = [\n",
    "       [r'ё','е'] # замена ё для унификации\n",
    "       ,[r'</?[a-z]+>',' '] # удаляем xml\n",
    "       ,[r'[^a-zа-я\\- ]+',' '] # оставляем только буквы, пробел и -\n",
    "       ,[r' -\\w+',' '] # удаляем '-й','-тый' и т.п.\n",
    "       ,[r'\\w+- ',' ']\n",
    "       ,[r' +',' '] # удаляем повторы пробелов\n",
    "    ]\n",
    "    return replace_patterns(s.lower(),pat).strip()"
   ]
  },
  {
   "cell_type": "code",
   "execution_count": 7,
   "metadata": {},
   "outputs": [
    {
     "data": {
      "application/vnd.jupyter.widget-view+json": {
       "model_id": "759a11c7e98a4d62b8b49d87bfc65c06",
       "version_major": 2,
       "version_minor": 0
      },
      "text/plain": [
       "  0%|          | 0/3196 [00:00<?, ?it/s]"
      ]
     },
     "metadata": {},
     "output_type": "display_data"
    }
   ],
   "source": [
    "data['ctext'] = data['text'].progress_apply(string_normalizer)"
   ]
  },
  {
   "cell_type": "markdown",
   "metadata": {},
   "source": [
    "##  Vectorizer"
   ]
  },
  {
   "cell_type": "code",
   "execution_count": 8,
   "metadata": {},
   "outputs": [],
   "source": [
    "from nltk.stem.snowball import SnowballStemmer\n",
    "from nltk.corpus import stopwords as nltk_stopwords\n",
    "\n",
    "stopwords = set(nltk_stopwords.words('russian'))\n",
    "stemmer = SnowballStemmer('russian')\n",
    "\n",
    "# разрезаем стоки на слова, выкидываем stopwords, выполняем стеминг\n",
    "def tokenizer_stemmer(s,stemmer=stemmer,stopwords=stopwords): \n",
    "    for w in s.split(' '):\n",
    "        o = stemmer.stem(w).replace('^','')\n",
    "        if len(o)<2: continue\n",
    "        if o in stopwords: continue\n",
    "        yield o        "
   ]
  },
  {
   "cell_type": "code",
   "execution_count": 9,
   "metadata": {},
   "outputs": [
    {
     "name": "stdout",
     "output_type": "stream",
     "text": [
      "CPU times: user 1min 18s, sys: 98.1 ms, total: 1min 18s\n",
      "Wall time: 1min 21s\n"
     ]
    }
   ],
   "source": [
    "%%time\n",
    "\n",
    "X = TfidfVectorizer(\n",
    "        use_idf=True,\n",
    "        norm='l2',\n",
    "        tokenizer=tokenizer_stemmer,\n",
    "        token_pattern=None,\n",
    "    ).fit_transform( data['ctext'] )"
   ]
  },
  {
   "cell_type": "code",
   "execution_count": 10,
   "metadata": {},
   "outputs": [
    {
     "data": {
      "text/plain": [
       "(3196, 36354)"
      ]
     },
     "execution_count": 10,
     "metadata": {},
     "output_type": "execute_result"
    }
   ],
   "source": [
    "X.shape"
   ]
  },
  {
   "cell_type": "markdown",
   "metadata": {},
   "source": [
    "## кластеризируем"
   ]
  },
  {
   "cell_type": "code",
   "execution_count": 48,
   "metadata": {},
   "outputs": [
    {
     "name": "stdout",
     "output_type": "stream",
     "text": [
      "CPU times: user 972 ms, sys: 136 ms, total: 1.11 s\n",
      "Wall time: 1.14 s\n"
     ]
    },
    {
     "data": {
      "text/plain": [
       "53"
      ]
     },
     "execution_count": 48,
     "metadata": {},
     "output_type": "execute_result"
    }
   ],
   "source": [
    "%%time \n",
    "\n",
    "data['cluster'] = DBSCAN(eps=1.05,min_samples=11).fit(X).labels_\n",
    "data['cluster'].drop_duplicates().count()"
   ]
  },
  {
   "cell_type": "markdown",
   "metadata": {},
   "source": [
    "## тестируем"
   ]
  },
  {
   "cell_type": "code",
   "execution_count": 49,
   "metadata": {},
   "outputs": [
    {
     "data": {
      "text/html": [
       "<div>\n",
       "<style scoped>\n",
       "    .dataframe tbody tr th:only-of-type {\n",
       "        vertical-align: middle;\n",
       "    }\n",
       "\n",
       "    .dataframe tbody tr th {\n",
       "        vertical-align: top;\n",
       "    }\n",
       "\n",
       "    .dataframe thead th {\n",
       "        text-align: right;\n",
       "    }\n",
       "</style>\n",
       "<table border=\"1\" class=\"dataframe\">\n",
       "  <thead>\n",
       "    <tr style=\"text-align: right;\">\n",
       "      <th></th>\n",
       "      <th>cluster</th>\n",
       "      <th>count</th>\n",
       "      <th>tags</th>\n",
       "    </tr>\n",
       "  </thead>\n",
       "  <tbody>\n",
       "    <tr>\n",
       "      <th>0</th>\n",
       "      <td>-1</td>\n",
       "      <td>2372</td>\n",
       "      <td>reclama social tech auto incident realty sport science politics health culture woman economics</td>\n",
       "    </tr>\n",
       "    <tr>\n",
       "      <th>1</th>\n",
       "      <td>0</td>\n",
       "      <td>32</td>\n",
       "      <td>politics</td>\n",
       "    </tr>\n",
       "    <tr>\n",
       "      <th>2</th>\n",
       "      <td>1</td>\n",
       "      <td>17</td>\n",
       "      <td>politics</td>\n",
       "    </tr>\n",
       "    <tr>\n",
       "      <th>3</th>\n",
       "      <td>2</td>\n",
       "      <td>21</td>\n",
       "      <td>politics</td>\n",
       "    </tr>\n",
       "    <tr>\n",
       "      <th>4</th>\n",
       "      <td>3</td>\n",
       "      <td>19</td>\n",
       "      <td>politics</td>\n",
       "    </tr>\n",
       "    <tr>\n",
       "      <th>5</th>\n",
       "      <td>4</td>\n",
       "      <td>37</td>\n",
       "      <td>politics</td>\n",
       "    </tr>\n",
       "    <tr>\n",
       "      <th>6</th>\n",
       "      <td>5</td>\n",
       "      <td>28</td>\n",
       "      <td>politics</td>\n",
       "    </tr>\n",
       "    <tr>\n",
       "      <th>7</th>\n",
       "      <td>6</td>\n",
       "      <td>11</td>\n",
       "      <td>politics</td>\n",
       "    </tr>\n",
       "    <tr>\n",
       "      <th>8</th>\n",
       "      <td>7</td>\n",
       "      <td>14</td>\n",
       "      <td>politics</td>\n",
       "    </tr>\n",
       "    <tr>\n",
       "      <th>9</th>\n",
       "      <td>8</td>\n",
       "      <td>43</td>\n",
       "      <td>politics</td>\n",
       "    </tr>\n",
       "    <tr>\n",
       "      <th>10</th>\n",
       "      <td>9</td>\n",
       "      <td>13</td>\n",
       "      <td>politics</td>\n",
       "    </tr>\n",
       "    <tr>\n",
       "      <th>11</th>\n",
       "      <td>10</td>\n",
       "      <td>13</td>\n",
       "      <td>incident</td>\n",
       "    </tr>\n",
       "    <tr>\n",
       "      <th>12</th>\n",
       "      <td>11</td>\n",
       "      <td>19</td>\n",
       "      <td>culture</td>\n",
       "    </tr>\n",
       "    <tr>\n",
       "      <th>13</th>\n",
       "      <td>12</td>\n",
       "      <td>12</td>\n",
       "      <td>sport</td>\n",
       "    </tr>\n",
       "    <tr>\n",
       "      <th>14</th>\n",
       "      <td>13</td>\n",
       "      <td>13</td>\n",
       "      <td>science</td>\n",
       "    </tr>\n",
       "    <tr>\n",
       "      <th>15</th>\n",
       "      <td>14</td>\n",
       "      <td>12</td>\n",
       "      <td>politics</td>\n",
       "    </tr>\n",
       "    <tr>\n",
       "      <th>16</th>\n",
       "      <td>15</td>\n",
       "      <td>18</td>\n",
       "      <td>politics</td>\n",
       "    </tr>\n",
       "    <tr>\n",
       "      <th>17</th>\n",
       "      <td>16</td>\n",
       "      <td>16</td>\n",
       "      <td>incident</td>\n",
       "    </tr>\n",
       "    <tr>\n",
       "      <th>18</th>\n",
       "      <td>17</td>\n",
       "      <td>17</td>\n",
       "      <td>economics</td>\n",
       "    </tr>\n",
       "    <tr>\n",
       "      <th>19</th>\n",
       "      <td>18</td>\n",
       "      <td>12</td>\n",
       "      <td>economics</td>\n",
       "    </tr>\n",
       "    <tr>\n",
       "      <th>20</th>\n",
       "      <td>19</td>\n",
       "      <td>17</td>\n",
       "      <td>politics economics</td>\n",
       "    </tr>\n",
       "    <tr>\n",
       "      <th>21</th>\n",
       "      <td>20</td>\n",
       "      <td>14</td>\n",
       "      <td>economics</td>\n",
       "    </tr>\n",
       "    <tr>\n",
       "      <th>22</th>\n",
       "      <td>21</td>\n",
       "      <td>12</td>\n",
       "      <td>auto</td>\n",
       "    </tr>\n",
       "    <tr>\n",
       "      <th>23</th>\n",
       "      <td>22</td>\n",
       "      <td>14</td>\n",
       "      <td>incident</td>\n",
       "    </tr>\n",
       "    <tr>\n",
       "      <th>24</th>\n",
       "      <td>23</td>\n",
       "      <td>17</td>\n",
       "      <td>culture</td>\n",
       "    </tr>\n",
       "    <tr>\n",
       "      <th>25</th>\n",
       "      <td>24</td>\n",
       "      <td>15</td>\n",
       "      <td>science</td>\n",
       "    </tr>\n",
       "    <tr>\n",
       "      <th>26</th>\n",
       "      <td>25</td>\n",
       "      <td>16</td>\n",
       "      <td>politics</td>\n",
       "    </tr>\n",
       "    <tr>\n",
       "      <th>27</th>\n",
       "      <td>26</td>\n",
       "      <td>15</td>\n",
       "      <td>politics</td>\n",
       "    </tr>\n",
       "    <tr>\n",
       "      <th>28</th>\n",
       "      <td>27</td>\n",
       "      <td>11</td>\n",
       "      <td>politics</td>\n",
       "    </tr>\n",
       "    <tr>\n",
       "      <th>29</th>\n",
       "      <td>28</td>\n",
       "      <td>11</td>\n",
       "      <td>sport</td>\n",
       "    </tr>\n",
       "    <tr>\n",
       "      <th>30</th>\n",
       "      <td>29</td>\n",
       "      <td>13</td>\n",
       "      <td>sport</td>\n",
       "    </tr>\n",
       "    <tr>\n",
       "      <th>31</th>\n",
       "      <td>30</td>\n",
       "      <td>14</td>\n",
       "      <td>sport</td>\n",
       "    </tr>\n",
       "    <tr>\n",
       "      <th>32</th>\n",
       "      <td>31</td>\n",
       "      <td>13</td>\n",
       "      <td>incident</td>\n",
       "    </tr>\n",
       "    <tr>\n",
       "      <th>33</th>\n",
       "      <td>32</td>\n",
       "      <td>15</td>\n",
       "      <td>incident</td>\n",
       "    </tr>\n",
       "    <tr>\n",
       "      <th>34</th>\n",
       "      <td>33</td>\n",
       "      <td>12</td>\n",
       "      <td>incident</td>\n",
       "    </tr>\n",
       "    <tr>\n",
       "      <th>35</th>\n",
       "      <td>34</td>\n",
       "      <td>12</td>\n",
       "      <td>incident</td>\n",
       "    </tr>\n",
       "    <tr>\n",
       "      <th>36</th>\n",
       "      <td>35</td>\n",
       "      <td>13</td>\n",
       "      <td>incident</td>\n",
       "    </tr>\n",
       "    <tr>\n",
       "      <th>37</th>\n",
       "      <td>36</td>\n",
       "      <td>16</td>\n",
       "      <td>incident</td>\n",
       "    </tr>\n",
       "    <tr>\n",
       "      <th>38</th>\n",
       "      <td>37</td>\n",
       "      <td>12</td>\n",
       "      <td>incident</td>\n",
       "    </tr>\n",
       "    <tr>\n",
       "      <th>39</th>\n",
       "      <td>38</td>\n",
       "      <td>13</td>\n",
       "      <td>incident</td>\n",
       "    </tr>\n",
       "    <tr>\n",
       "      <th>40</th>\n",
       "      <td>39</td>\n",
       "      <td>21</td>\n",
       "      <td>culture</td>\n",
       "    </tr>\n",
       "    <tr>\n",
       "      <th>41</th>\n",
       "      <td>40</td>\n",
       "      <td>13</td>\n",
       "      <td>culture</td>\n",
       "    </tr>\n",
       "    <tr>\n",
       "      <th>42</th>\n",
       "      <td>41</td>\n",
       "      <td>13</td>\n",
       "      <td>culture</td>\n",
       "    </tr>\n",
       "    <tr>\n",
       "      <th>43</th>\n",
       "      <td>42</td>\n",
       "      <td>16</td>\n",
       "      <td>science</td>\n",
       "    </tr>\n",
       "    <tr>\n",
       "      <th>44</th>\n",
       "      <td>43</td>\n",
       "      <td>13</td>\n",
       "      <td>science</td>\n",
       "    </tr>\n",
       "    <tr>\n",
       "      <th>45</th>\n",
       "      <td>44</td>\n",
       "      <td>12</td>\n",
       "      <td>science</td>\n",
       "    </tr>\n",
       "    <tr>\n",
       "      <th>46</th>\n",
       "      <td>45</td>\n",
       "      <td>14</td>\n",
       "      <td>science</td>\n",
       "    </tr>\n",
       "    <tr>\n",
       "      <th>47</th>\n",
       "      <td>46</td>\n",
       "      <td>11</td>\n",
       "      <td>science</td>\n",
       "    </tr>\n",
       "    <tr>\n",
       "      <th>48</th>\n",
       "      <td>47</td>\n",
       "      <td>11</td>\n",
       "      <td>science</td>\n",
       "    </tr>\n",
       "    <tr>\n",
       "      <th>49</th>\n",
       "      <td>48</td>\n",
       "      <td>15</td>\n",
       "      <td>tech</td>\n",
       "    </tr>\n",
       "    <tr>\n",
       "      <th>50</th>\n",
       "      <td>49</td>\n",
       "      <td>12</td>\n",
       "      <td>tech</td>\n",
       "    </tr>\n",
       "    <tr>\n",
       "      <th>51</th>\n",
       "      <td>50</td>\n",
       "      <td>16</td>\n",
       "      <td>tech</td>\n",
       "    </tr>\n",
       "    <tr>\n",
       "      <th>52</th>\n",
       "      <td>51</td>\n",
       "      <td>15</td>\n",
       "      <td>tech</td>\n",
       "    </tr>\n",
       "  </tbody>\n",
       "</table>\n",
       "</div>"
      ],
      "text/plain": [
       "    cluster  count  \\\n",
       "0        -1   2372   \n",
       "1         0     32   \n",
       "2         1     17   \n",
       "3         2     21   \n",
       "4         3     19   \n",
       "5         4     37   \n",
       "6         5     28   \n",
       "7         6     11   \n",
       "8         7     14   \n",
       "9         8     43   \n",
       "10        9     13   \n",
       "11       10     13   \n",
       "12       11     19   \n",
       "13       12     12   \n",
       "14       13     13   \n",
       "15       14     12   \n",
       "16       15     18   \n",
       "17       16     16   \n",
       "18       17     17   \n",
       "19       18     12   \n",
       "20       19     17   \n",
       "21       20     14   \n",
       "22       21     12   \n",
       "23       22     14   \n",
       "24       23     17   \n",
       "25       24     15   \n",
       "26       25     16   \n",
       "27       26     15   \n",
       "28       27     11   \n",
       "29       28     11   \n",
       "30       29     13   \n",
       "31       30     14   \n",
       "32       31     13   \n",
       "33       32     15   \n",
       "34       33     12   \n",
       "35       34     12   \n",
       "36       35     13   \n",
       "37       36     16   \n",
       "38       37     12   \n",
       "39       38     13   \n",
       "40       39     21   \n",
       "41       40     13   \n",
       "42       41     13   \n",
       "43       42     16   \n",
       "44       43     13   \n",
       "45       44     12   \n",
       "46       45     14   \n",
       "47       46     11   \n",
       "48       47     11   \n",
       "49       48     15   \n",
       "50       49     12   \n",
       "51       50     16   \n",
       "52       51     15   \n",
       "\n",
       "                                                                                              tags  \n",
       "0   reclama social tech auto incident realty sport science politics health culture woman economics  \n",
       "1                                                                                         politics  \n",
       "2                                                                                         politics  \n",
       "3                                                                                         politics  \n",
       "4                                                                                         politics  \n",
       "5                                                                                         politics  \n",
       "6                                                                                         politics  \n",
       "7                                                                                         politics  \n",
       "8                                                                                         politics  \n",
       "9                                                                                         politics  \n",
       "10                                                                                        politics  \n",
       "11                                                                                        incident  \n",
       "12                                                                                         culture  \n",
       "13                                                                                           sport  \n",
       "14                                                                                         science  \n",
       "15                                                                                        politics  \n",
       "16                                                                                        politics  \n",
       "17                                                                                        incident  \n",
       "18                                                                                       economics  \n",
       "19                                                                                       economics  \n",
       "20                                                                              politics economics  \n",
       "21                                                                                       economics  \n",
       "22                                                                                            auto  \n",
       "23                                                                                        incident  \n",
       "24                                                                                         culture  \n",
       "25                                                                                         science  \n",
       "26                                                                                        politics  \n",
       "27                                                                                        politics  \n",
       "28                                                                                        politics  \n",
       "29                                                                                           sport  \n",
       "30                                                                                           sport  \n",
       "31                                                                                           sport  \n",
       "32                                                                                        incident  \n",
       "33                                                                                        incident  \n",
       "34                                                                                        incident  \n",
       "35                                                                                        incident  \n",
       "36                                                                                        incident  \n",
       "37                                                                                        incident  \n",
       "38                                                                                        incident  \n",
       "39                                                                                        incident  \n",
       "40                                                                                         culture  \n",
       "41                                                                                         culture  \n",
       "42                                                                                         culture  \n",
       "43                                                                                         science  \n",
       "44                                                                                         science  \n",
       "45                                                                                         science  \n",
       "46                                                                                         science  \n",
       "47                                                                                         science  \n",
       "48                                                                                         science  \n",
       "49                                                                                            tech  \n",
       "50                                                                                            tech  \n",
       "51                                                                                            tech  \n",
       "52                                                                                            tech  "
      ]
     },
     "execution_count": 49,
     "metadata": {},
     "output_type": "execute_result"
    }
   ],
   "source": [
    "# номер кластера, количество объектов, метки объектов\n",
    "# (cluster=-1 - некластеризованные DBSCAN объекты)\n",
    "cluster_descr = pd.concat([\n",
    "        data[['cluster','tag']].groupby(['cluster'])['tag'].count(),\n",
    "        data[['cluster','tag']].groupby(['cluster'])['tag'].apply(lambda s: set(s)).apply(' '.join)\n",
    "    ],axis=1).reset_index()\n",
    "\n",
    "cluster_descr.columns = ['cluster','count','tags']\n",
    "\n",
    "cluster_descr"
   ]
  },
  {
   "cell_type": "code",
   "execution_count": 50,
   "metadata": {},
   "outputs": [
    {
     "data": {
      "text/plain": [
       "<AxesSubplot:xlabel='cluster'>"
      ]
     },
     "execution_count": 50,
     "metadata": {},
     "output_type": "execute_result"
    },
    {
     "data": {
      "image/png": "[encoded data removed]",
      "text/plain": [
       "<Figure size 1152x360 with 1 Axes>"
      ]
     },
     "metadata": {
      "needs_background": "light"
     },
     "output_type": "display_data"
    }
   ],
   "source": [
    "# размеры кластеров\n",
    "cluster_descr[['cluster','count']]\\\n",
    "    .query('cluster>-1')\\\n",
    "    .set_index('cluster')\\\n",
    "    .plot.bar(grid=True,figsize=(16,5))"
   ]
  },
  {
   "cell_type": "code",
   "execution_count": 51,
   "metadata": {},
   "outputs": [],
   "source": [
    "def print_cluster_samples(n,ns=3,nt=300):\n",
    "    count,tags = cluster_descr.query(f'cluster=={n}')[['count','tags']].values[0]#.tolist\n",
    "    df = data.query(f'cluster=={n}')\n",
    "    ns_ = min(ns,len(df))\n",
    "    top = [ t[:nt].replace('\\n',' ') for t in df['text'].sample(ns_).values ]\n",
    "    print('[ КЛАСТЕР %i, элементов: %i, метки: \"%s\" ]'%(n,count,tags))\n",
    "    for s in top: print('\\n%s ...\\n'%(s) )"
   ]
  },
  {
   "cell_type": "code",
   "execution_count": 52,
   "metadata": {},
   "outputs": [
    {
     "name": "stdout",
     "output_type": "stream",
     "text": [
      "[ КЛАСТЕР 7, элементов: 14, метки: \"politics\" ]\n",
      "\n",
      "Президент Венесуэлы Николас Мадуро объявил, что в рамках денежной реформы по выводу из обращения банкнот достоинством 100 боливаров на трое суток закрывается граница страны с соседней Колумбией.  Мадуро обвинил мафиозные кланы в том, что они организовали на границе с Колумбией бизнес по обмену валют ...\n",
      "\n",
      "\n",
      "Венесуэла закрыла границу с Колумбией на 72 часа для борьбы с мафией, которая занималась экономическими преступлениями. Об этом сообщает РИА \"Новости\".  Отмечается, что президент Венесуэлы Николас Мадуро распорядился закрыть границу, так как озабочен происходящим на границе.  По некоторым данным, за ...\n",
      "\n",
      "\n",
      "Венесуэла на 72 часа закрыла границу с Колумбией  МЕХИКО, 13 дек – РИА Новости. Президент Венесуэлы Николас Мадуро распорядился закрыть границу с Колумбией на 72 часа для борьбы с финансовой мафией.  В сообщении правительства Венесуэлы отмечается озабоченность происходящим на границе. \"Мы выражаем с ...\n",
      "\n",
      "\n",
      "= = = = = = = = = = = = = = = = = = = = = = = = = =\n",
      "\n",
      "[ КЛАСТЕР 27, элементов: 11, метки: \"politics\" ]\n",
      "\n",
      "Избранный президент США Дональд Трамп официально объявил о том, что он назначает президента Goldman Sachs Гари Кона главой национального экономического совета.  Пресс-релиз опубликован на сайте переходной команды Трампа.  Трамп отметил, что Гари Кон «направит свои таланты очень успешного бизнесмена  ...\n",
      "\n",
      "\n",
      "Президенту Goldman Sachs предложили стать экономическим советником Трампа  Москва. 13 декабря. INTERFAX.RU - Избранный президент США Дональд Трамп предложил президенту Goldman Sachs Гэри Коэну стать советником по экономике и главой Национального экономического совета.  \"Дональд Трамп объявил о намер ...\n",
      "\n",
      "\n",
      "Дональд Трамп предложил президенту крупнейшего американского инвестиционного банка Goldman Sachs Гэри Коэну стать советником президента США по экономической политике и возглавить Национальный экономический совет.  Будущий хозяин Белого дома, до инаугурации которого осталось чуть больше месяца, увере ...\n",
      "\n",
      "\n",
      "= = = = = = = = = = = = = = = = = = = = = = = = = =\n",
      "\n",
      "[ КЛАСТЕР 15, элементов: 18, метки: \"politics\" ]\n",
      "\n",
      "Международная деловая газета Financial Times признала Дональда Трампа человеком года  13.12.2016 03:35    Международная деловая газета Financial Times назвала новоизбранного американского президента Дональда Трампа человеком года, передает «Газета.Ру» сообщение, опубликованное на сайте издания.  В м ...\n",
      "\n",
      "\n",
      "ЛОНДОН, 13 декабря. /Корр. ТАСС Максим Рыжков/. Избранный президент США Дональд Трамп признан \"человеком года\" по версии британской деловой газеты Financial Times. Об этом говорится в вышедшем во вторник выпуске данного издания. По его словам, миллиардер переписал правила политики своей страны. Тепе ...\n",
      "\n",
      "\n",
      "Избранный президент США Дональд Трамп Фото: AP Photo/John Locher  Избранный президент США Дональд Трамп стал человеком года по версии газеты Financial Times. Ему удалось переписать правила ведения политики США, считает издание  В материале, опубликованном на сайте издания, подчеркивается, что «многи ...\n",
      "\n",
      "\n",
      "= = = = = = = = = = = = = = = = = = = = = = = = = =\n",
      "\n"
     ]
    }
   ],
   "source": [
    "for n in rng.permutation(cluster_descr['cluster'].max())[:3] :\n",
    "    print_cluster_samples(n)\n",
    "    print('\\n= = = = = = = = = = = = = = = = = = = = = = = = = =\\n')"
   ]
  },
  {
   "cell_type": "code",
   "execution_count": null,
   "metadata": {},
   "outputs": [],
   "source": []
  },
  {
   "cell_type": "code",
   "execution_count": null,
   "metadata": {},
   "outputs": [],
   "source": []
  }
 ],
 "metadata": {
  "kernelspec": {
   "display_name": "Python 3 (ipykernel)",
   "language": "python",
   "name": "python3"
  },
  "language_info": {
   "codemirror_mode": {
    "name": "ipython",
    "version": 3
   },
   "file_extension": ".py",
   "mimetype": "text/x-python",
   "name": "python",
   "nbconvert_exporter": "python",
   "pygments_lexer": "ipython3",
   "version": "3.8.9"
  },
  "toc": {
   "base_numbering": 1,
   "nav_menu": {},
   "number_sections": true,
   "sideBar": true,
   "skip_h1_title": false,
   "title_cell": "Table of Contents",
   "title_sidebar": "Contents",
   "toc_cell": false,
   "toc_position": {},
   "toc_section_display": true,
   "toc_window_display": false
  }
 },
 "nbformat": 4,
 "nbformat_minor": 2
}
