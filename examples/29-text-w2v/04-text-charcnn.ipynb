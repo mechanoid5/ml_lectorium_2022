{
 "cells": [
  {
   "cell_type": "markdown",
   "metadata": {},
   "source": [
    "**классификатор текстов CharCNN**\n",
    "\n",
    "Евгений Борисов <esborisov@sevsu.ru>"
   ]
  },
  {
   "cell_type": "markdown",
   "metadata": {},
   "source": [
    "## Данные"
   ]
  },
  {
   "cell_type": "raw",
   "metadata": {},
   "source": [
    "Ю. В. Рубцова. Построение корпуса текстов для настройки тонового классификатора // Программные продукты и системы, 2015, №1(109), –С.72-78\n",
    "\n",
    "http://study.mokoron.com\n",
    "\n",
    "– id: уникальный номер сообщения в системе twitter;\n",
    "– tdate: дата публикации сообщения (твита);\n",
    "– tmane: имя пользователя, опубликовавшего сообщение;\n",
    "– ttext:  текст сообщения (твита);\n",
    "– ttype: поле в котором в дальнейшем будет указано к кому классу относится твит (положительный, отрицательный, нейтральный);\n",
    "– trep: количество реплаев к данному сообщению. В настоящий момент API твиттера не отдает эту информацию;\n",
    "– tfav: число сколько раз данное сообщение было добавлено в избранное другими пользователями;\n",
    "– tstcount: число всех сообщений пользователя в сети twitter;\n",
    "– tfol: количество фоловеров пользователя (тех людей, которые читают пользователя);\n",
    "– tfrien: количество друзей пользователя (те люди, которых читает пользователь);\n",
    "– listcount: количество листов-подписок в которые добавлен твиттер-пользователь."
   ]
  },
  {
   "cell_type": "code",
   "execution_count": 1,
   "metadata": {},
   "outputs": [],
   "source": [
    "import pandas as pd\n",
    "import numpy as np\n",
    "import numpy.random as rng\n",
    "from tqdm.notebook import tqdm\n",
    "tqdm.pandas()        \n",
    "pd.options.display.max_colwidth = 200 "
   ]
  },
  {
   "cell_type": "code",
   "execution_count": 2,
   "metadata": {},
   "outputs": [
    {
     "name": "stdout",
     "output_type": "stream",
     "text": [
      "negative: 111923 \n",
      "positive: 114911\n"
     ]
    },
    {
     "data": {
      "text/html": [
       "<div>\n",
       "<style scoped>\n",
       "    .dataframe tbody tr th:only-of-type {\n",
       "        vertical-align: middle;\n",
       "    }\n",
       "\n",
       "    .dataframe tbody tr th {\n",
       "        vertical-align: top;\n",
       "    }\n",
       "\n",
       "    .dataframe thead th {\n",
       "        text-align: right;\n",
       "    }\n",
       "</style>\n",
       "<table border=\"1\" class=\"dataframe\">\n",
       "  <thead>\n",
       "    <tr style=\"text-align: right;\">\n",
       "      <th></th>\n",
       "      <th>id</th>\n",
       "      <th>ttext</th>\n",
       "      <th>ttype</th>\n",
       "    </tr>\n",
       "  </thead>\n",
       "  <tbody>\n",
       "    <tr>\n",
       "      <th>2754</th>\n",
       "      <td>409041988160614400</td>\n",
       "      <td>“@valeraa_valera: @Mileno4ka_Mimi  и ты тоже из этой шоблыы))))))))”\\n\\nМилена не шобла. Она профура недоёбаная .</td>\n",
       "      <td>1</td>\n",
       "    </tr>\n",
       "    <tr>\n",
       "      <th>78871</th>\n",
       "      <td>410725407680643072</td>\n",
       "      <td>@Sailorvmina мне стало похуй сейчас, когда оно уже было сделано)</td>\n",
       "      <td>1</td>\n",
       "    </tr>\n",
       "    <tr>\n",
       "      <th>14487</th>\n",
       "      <td>411010170891038720</td>\n",
       "      <td>Проспала:( сижу думаю че делать. Не понимаю ничего после сна</td>\n",
       "      <td>-1</td>\n",
       "    </tr>\n",
       "    <tr>\n",
       "      <th>40618</th>\n",
       "      <td>413961416753025024</td>\n",
       "      <td>RT @AnQmic: Сидит тут и ломает мне детскую веру в сказки =(( http://t.co/zZrv4KTwXa</td>\n",
       "      <td>-1</td>\n",
       "    </tr>\n",
       "    <tr>\n",
       "      <th>10343</th>\n",
       "      <td>409285633379938304</td>\n",
       "      <td>Короче, до 23 надо будет в душ сходить, а потом уже решу. Вы чего хотите вообще от этой жизни? :D</td>\n",
       "      <td>1</td>\n",
       "    </tr>\n",
       "    <tr>\n",
       "      <th>105761</th>\n",
       "      <td>411133147724521472</td>\n",
       "      <td>@AndreySmet Ох, парни. Жду следующий эпизод всегда с нетерпением)</td>\n",
       "      <td>1</td>\n",
       "    </tr>\n",
       "    <tr>\n",
       "      <th>9339</th>\n",
       "      <td>410304265866215424</td>\n",
       "      <td>RT @by_lili: Я почему-то расстроилась от новости про РИА:(</td>\n",
       "      <td>-1</td>\n",
       "    </tr>\n",
       "    <tr>\n",
       "      <th>32266</th>\n",
       "      <td>413161346197225473</td>\n",
       "      <td>Бессонница, ты не права, три часа сна - это мало;(</td>\n",
       "      <td>-1</td>\n",
       "    </tr>\n",
       "    <tr>\n",
       "      <th>81051</th>\n",
       "      <td>419724758079774720</td>\n",
       "      <td>Смотрю фильм об отношениях, у которых нет будущего :((</td>\n",
       "      <td>-1</td>\n",
       "    </tr>\n",
       "    <tr>\n",
       "      <th>47761</th>\n",
       "      <td>410010516825075712</td>\n",
       "      <td>@Sabinchik98 \\nШкола мне вообще ничего не дает.\\nВ основном учу по песням, статьям, сериалам.\\nА, и еще по этим скринам с разных фильмов)</td>\n",
       "      <td>1</td>\n",
       "    </tr>\n",
       "  </tbody>\n",
       "</table>\n",
       "</div>"
      ],
      "text/plain": [
       "                        id  \\\n",
       "2754    409041988160614400   \n",
       "78871   410725407680643072   \n",
       "14487   411010170891038720   \n",
       "40618   413961416753025024   \n",
       "10343   409285633379938304   \n",
       "105761  411133147724521472   \n",
       "9339    410304265866215424   \n",
       "32266   413161346197225473   \n",
       "81051   419724758079774720   \n",
       "47761   410010516825075712   \n",
       "\n",
       "                                                                                                                                            ttext  \\\n",
       "2754                            “@valeraa_valera: @Mileno4ka_Mimi  и ты тоже из этой шоблыы))))))))”\\n\\nМилена не шобла. Она профура недоёбаная .   \n",
       "78871                                                                            @Sailorvmina мне стало похуй сейчас, когда оно уже было сделано)   \n",
       "14487                                                                               Проспала:( сижу думаю че делать. Не понимаю ничего после сна    \n",
       "40618                                                         RT @AnQmic: Сидит тут и ломает мне детскую веру в сказки =(( http://t.co/zZrv4KTwXa   \n",
       "10343                                           Короче, до 23 надо будет в душ сходить, а потом уже решу. Вы чего хотите вообще от этой жизни? :D   \n",
       "105761                                                                          @AndreySmet Ох, парни. Жду следующий эпизод всегда с нетерпением)   \n",
       "9339                                                                                   RT @by_lili: Я почему-то расстроилась от новости про РИА:(   \n",
       "32266                                                                                          Бессонница, ты не права, три часа сна - это мало;(   \n",
       "81051                                                                                      Смотрю фильм об отношениях, у которых нет будущего :((   \n",
       "47761   @Sabinchik98 \\nШкола мне вообще ничего не дает.\\nВ основном учу по песням, статьям, сериалам.\\nА, и еще по этим скринам с разных фильмов)   \n",
       "\n",
       "        ttype  \n",
       "2754        1  \n",
       "78871       1  \n",
       "14487      -1  \n",
       "40618      -1  \n",
       "10343       1  \n",
       "105761      1  \n",
       "9339       -1  \n",
       "32266      -1  \n",
       "81051      -1  \n",
       "47761       1  "
      ]
     },
     "execution_count": 2,
     "metadata": {},
     "output_type": "execute_result"
    }
   ],
   "source": [
    "ff = ['id', 'tdate', 'tmane', 'ttext', 'ttype', 'trep', 'tfav', 'tstcount', 'tfol', 'tfrien', 'listcount','unk']\n",
    "\n",
    "data = pd.concat([\n",
    "    pd.read_csv('data/positive.csv.gz',sep=';',header=None),\n",
    "    pd.read_csv('data/negative.csv.gz',sep=';',header=None),\n",
    "])\n",
    "\n",
    "data.columns = ff\n",
    "\n",
    "data = data[['id','ttext', 'ttype']]\n",
    "\n",
    "print( 'negative:', len(data.query('ttype==-1')), '\\npositive:',len(data.query('ttype==1')) )\n",
    "\n",
    "data.sample(10)"
   ]
  },
  {
   "cell_type": "markdown",
   "metadata": {},
   "source": [
    "### очистка данных"
   ]
  },
  {
   "cell_type": "code",
   "execution_count": 3,
   "metadata": {},
   "outputs": [],
   "source": [
    "import re"
   ]
  },
  {
   "cell_type": "code",
   "execution_count": 4,
   "metadata": {},
   "outputs": [],
   "source": [
    "# применяет список замен pat к строке s\n",
    "def replace_patterns(s,pat):\n",
    "    if len(pat)<1: return s\n",
    "    return  replace_patterns( re.sub(pat[0][0],pat[0][1],s), pat[1:] )\n",
    "\n",
    "# нормализация текста\n",
    "def string_normalizer(s):\n",
    "    pat = [\n",
    "      [r'[ёЁ]','е'] # замена ё для унификации\n",
    "      #,[r'</?[a-z]+>',' '] # удаляем xml\n",
    "      ,[r'[:;]-*[)D]',' радость ']\n",
    "      ,[r'\\)\\)\\)*',' радость ']\n",
    "      ,[r'[:;]\\*',' поцелуй ']\n",
    "      ,[r':\\(',' печаль ']\n",
    "      ,[r'\\(\\(\\(*',' печаль ']\n",
    "      #,[r'\\d+',' digit ']\n",
    "    ]\n",
    "    return replace_patterns(s,pat).strip()"
   ]
  },
  {
   "cell_type": "code",
   "execution_count": 5,
   "metadata": {},
   "outputs": [
    {
     "data": {
      "application/vnd.jupyter.widget-view+json": {
       "model_id": "b938dad579974a318f1e11a453200ee0",
       "version_major": 2,
       "version_minor": 0
      },
      "text/plain": [
       "  0%|          | 0/226834 [00:00<?, ?it/s]"
      ]
     },
     "metadata": {},
     "output_type": "display_data"
    }
   ],
   "source": [
    "data['ttext_'] = data['ttext'].progress_apply(string_normalizer)"
   ]
  },
  {
   "cell_type": "code",
   "execution_count": 6,
   "metadata": {},
   "outputs": [],
   "source": [
    "import re\n",
    "from nltk.tokenize import word_tokenize as nltk_tokenize_word"
   ]
  },
  {
   "cell_type": "code",
   "execution_count": 7,
   "metadata": {},
   "outputs": [],
   "source": [
    "def tokenize(line): # разбиваем предложения на слова\n",
    "    return    [ \n",
    "        t.lower() \n",
    "        for t in nltk_tokenize_word(line) \n",
    "        if re.match(r'[a-zа-я]+',t.lower()) # выкинуть слова не содержащие букв\n",
    "        # if re.match(r'[а-я -]+',t.lower()) and len(t)>1 \n",
    "        # if not( (t.lower() in stopwords) or (len(t)<3) ) \n",
    "    ] "
   ]
  },
  {
   "cell_type": "code",
   "execution_count": 8,
   "metadata": {},
   "outputs": [
    {
     "data": {
      "application/vnd.jupyter.widget-view+json": {
       "model_id": "61fc60304d6f4558bd673f9fb24fa45a",
       "version_major": 2,
       "version_minor": 0
      },
      "text/plain": [
       "  0%|          | 0/226834 [00:00<?, ?it/s]"
      ]
     },
     "metadata": {},
     "output_type": "display_data"
    }
   ],
   "source": [
    "data['ttext_'] = data['ttext_'].progress_apply(tokenize)"
   ]
  },
  {
   "cell_type": "code",
   "execution_count": 9,
   "metadata": {},
   "outputs": [
    {
     "data": {
      "text/html": [
       "<div>\n",
       "<style scoped>\n",
       "    .dataframe tbody tr th:only-of-type {\n",
       "        vertical-align: middle;\n",
       "    }\n",
       "\n",
       "    .dataframe tbody tr th {\n",
       "        vertical-align: top;\n",
       "    }\n",
       "\n",
       "    .dataframe thead th {\n",
       "        text-align: right;\n",
       "    }\n",
       "</style>\n",
       "<table border=\"1\" class=\"dataframe\">\n",
       "  <thead>\n",
       "    <tr style=\"text-align: right;\">\n",
       "      <th></th>\n",
       "      <th>id</th>\n",
       "      <th>ttext</th>\n",
       "      <th>ttype</th>\n",
       "      <th>ttext_</th>\n",
       "    </tr>\n",
       "  </thead>\n",
       "  <tbody>\n",
       "    <tr>\n",
       "      <th>1292</th>\n",
       "      <td>408920620370362368</td>\n",
       "      <td>@GroupIB отпускает каждого третьего киберпреступника :) https://t.co/dASTAoLYyF</td>\n",
       "      <td>1</td>\n",
       "      <td>[groupib, отпускает, каждого, третьего, киберпреступника, радость, https]</td>\n",
       "    </tr>\n",
       "    <tr>\n",
       "      <th>105832</th>\n",
       "      <td>424134045484584960</td>\n",
       "      <td>RT @Leydennn: @_marsianishka_ ВОТ А ДЕЙСТВИТЕЛЬНО..:(\\nя и не подумал..:(\\nвсе, ты меня прям как просветила\\nТЕПЕРЬ НЕ КУРЮ ИЗ-ЗА ДОЧЕРИ</td>\n",
       "      <td>-1</td>\n",
       "      <td>[rt, leydennn, вот, а, действительно, печаль, я, и, не, подумал, печаль, все, ты, меня, прям, как, просветила, теперь, не, курю, из-за, дочери]</td>\n",
       "    </tr>\n",
       "    <tr>\n",
       "      <th>106758</th>\n",
       "      <td>411150117350436864</td>\n",
       "      <td>@Dasha_juk в автобусе? да) но это далеко не главное, ахахах.</td>\n",
       "      <td>1</td>\n",
       "      <td>[dasha_juk, в, автобусе, да, но, это, далеко, не, главное, ахахах]</td>\n",
       "    </tr>\n",
       "    <tr>\n",
       "      <th>17377</th>\n",
       "      <td>411215123941179392</td>\n",
       "      <td>пора бы спать...не сплю уже вторые сутки((</td>\n",
       "      <td>-1</td>\n",
       "      <td>[пора, бы, спать, не, сплю, уже, вторые, сутки, печаль]</td>\n",
       "    </tr>\n",
       "    <tr>\n",
       "      <th>34504</th>\n",
       "      <td>409767222887063552</td>\n",
       "      <td>зашел на сайт через профиль человека в твиттере и оппа   . Я сцуко СТАНДАРТНЫЙ! :)</td>\n",
       "      <td>1</td>\n",
       "      <td>[зашел, на, сайт, через, профиль, человека, в, твиттере, и, оппа, я, сцуко, стандартный, радость]</td>\n",
       "    </tr>\n",
       "    <tr>\n",
       "      <th>78521</th>\n",
       "      <td>410721816382930944</td>\n",
       "      <td>@I_hate_clowns_ я скажу что это кот виноват его посадят)</td>\n",
       "      <td>1</td>\n",
       "      <td>[i_hate_clowns_, я, скажу, что, это, кот, виноват, его, посадят]</td>\n",
       "    </tr>\n",
       "    <tr>\n",
       "      <th>4302</th>\n",
       "      <td>409627628170391552</td>\n",
       "      <td>очень рада была тебя слышать....я очень скучаю(((</td>\n",
       "      <td>-1</td>\n",
       "      <td>[очень, рада, была, тебя, слышать, я, очень, скучаю, печаль]</td>\n",
       "    </tr>\n",
       "    <tr>\n",
       "      <th>103846</th>\n",
       "      <td>411115800334852096</td>\n",
       "      <td>@FromYesterday33 ну, смотря с какой стороны стороны:D ты в Украине да? Хочу на украинууу</td>\n",
       "      <td>1</td>\n",
       "      <td>[fromyesterday33, ну, смотря, с, какой, стороны, стороны, радость, ты, в, украине, да, хочу, на, украинууу]</td>\n",
       "    </tr>\n",
       "    <tr>\n",
       "      <th>105172</th>\n",
       "      <td>424091183174778880</td>\n",
       "      <td>по брызгался я папиным одеколоном значит,никто мне не соизволил нормально ответить,пахнет от меня.когда я мимо прохожу или нет:(</td>\n",
       "      <td>-1</td>\n",
       "      <td>[по, брызгался, я, папиным, одеколоном, значит, никто, мне, не, соизволил, нормально, ответить, пахнет, от, меня.когда, я, мимо, прохожу, или, нет, печаль]</td>\n",
       "    </tr>\n",
       "    <tr>\n",
       "      <th>11159</th>\n",
       "      <td>410631989356937216</td>\n",
       "      <td>в борьбе моей фобии и зубной боли постепенно побеждает зубная боль :( Скоро она таки вынудит меня пойти к стоматологу. Пе</td>\n",
       "      <td>-1</td>\n",
       "      <td>[в, борьбе, моей, фобии, и, зубной, боли, постепенно, побеждает, зубная, боль, печаль, скоро, она, таки, вынудит, меня, пойти, к, стоматологу, пе]</td>\n",
       "    </tr>\n",
       "  </tbody>\n",
       "</table>\n",
       "</div>"
      ],
      "text/plain": [
       "                        id  \\\n",
       "1292    408920620370362368   \n",
       "105832  424134045484584960   \n",
       "106758  411150117350436864   \n",
       "17377   411215123941179392   \n",
       "34504   409767222887063552   \n",
       "78521   410721816382930944   \n",
       "4302    409627628170391552   \n",
       "103846  411115800334852096   \n",
       "105172  424091183174778880   \n",
       "11159   410631989356937216   \n",
       "\n",
       "                                                                                                                                           ttext  \\\n",
       "1292                                                             @GroupIB отпускает каждого третьего киберпреступника :) https://t.co/dASTAoLYyF   \n",
       "105832  RT @Leydennn: @_marsianishka_ ВОТ А ДЕЙСТВИТЕЛЬНО..:(\\nя и не подумал..:(\\nвсе, ты меня прям как просветила\\nТЕПЕРЬ НЕ КУРЮ ИЗ-ЗА ДОЧЕРИ   \n",
       "106758                                                                              @Dasha_juk в автобусе? да) но это далеко не главное, ахахах.   \n",
       "17377                                                                                                 пора бы спать...не сплю уже вторые сутки((   \n",
       "34504                                                         зашел на сайт через профиль человека в твиттере и оппа   . Я сцуко СТАНДАРТНЫЙ! :)   \n",
       "78521                                                                                   @I_hate_clowns_ я скажу что это кот виноват его посадят)   \n",
       "4302                                                                                           очень рада была тебя слышать....я очень скучаю(((   \n",
       "103846                                                  @FromYesterday33 ну, смотря с какой стороны стороны:D ты в Украине да? Хочу на украинууу   \n",
       "105172          по брызгался я папиным одеколоном значит,никто мне не соизволил нормально ответить,пахнет от меня.когда я мимо прохожу или нет:(   \n",
       "11159                  в борьбе моей фобии и зубной боли постепенно побеждает зубная боль :( Скоро она таки вынудит меня пойти к стоматологу. Пе   \n",
       "\n",
       "        ttype  \\\n",
       "1292        1   \n",
       "105832     -1   \n",
       "106758      1   \n",
       "17377      -1   \n",
       "34504       1   \n",
       "78521       1   \n",
       "4302       -1   \n",
       "103846      1   \n",
       "105172     -1   \n",
       "11159      -1   \n",
       "\n",
       "                                                                                                                                                             ttext_  \n",
       "1292                                                                                      [groupib, отпускает, каждого, третьего, киберпреступника, радость, https]  \n",
       "105832              [rt, leydennn, вот, а, действительно, печаль, я, и, не, подумал, печаль, все, ты, меня, прям, как, просветила, теперь, не, курю, из-за, дочери]  \n",
       "106758                                                                                           [dasha_juk, в, автобусе, да, но, это, далеко, не, главное, ахахах]  \n",
       "17377                                                                                                       [пора, бы, спать, не, сплю, уже, вторые, сутки, печаль]  \n",
       "34504                                                             [зашел, на, сайт, через, профиль, человека, в, твиттере, и, оппа, я, сцуко, стандартный, радость]  \n",
       "78521                                                                                              [i_hate_clowns_, я, скажу, что, это, кот, виноват, его, посадят]  \n",
       "4302                                                                                                   [очень, рада, была, тебя, слышать, я, очень, скучаю, печаль]  \n",
       "103846                                                  [fromyesterday33, ну, смотря, с, какой, стороны, стороны, радость, ты, в, украине, да, хочу, на, украинууу]  \n",
       "105172  [по, брызгался, я, папиным, одеколоном, значит, никто, мне, не, соизволил, нормально, ответить, пахнет, от, меня.когда, я, мимо, прохожу, или, нет, печаль]  \n",
       "11159            [в, борьбе, моей, фобии, и, зубной, боли, постепенно, побеждает, зубная, боль, печаль, скоро, она, таки, вынудит, меня, пойти, к, стоматологу, пе]  "
      ]
     },
     "execution_count": 9,
     "metadata": {},
     "output_type": "execute_result"
    }
   ],
   "source": [
    "data.sample(10)"
   ]
  },
  {
   "cell_type": "code",
   "execution_count": 10,
   "metadata": {},
   "outputs": [
    {
     "data": {
      "text/plain": [
       "36"
      ]
     },
     "execution_count": 10,
     "metadata": {},
     "output_type": "execute_result"
    }
   ],
   "source": [
    "# максимальная длинна последовательности\n",
    "seq_max_len = data['ttext_'].str.len().max() \n",
    "seq_max_len"
   ]
  },
  {
   "cell_type": "code",
   "execution_count": 11,
   "metadata": {},
   "outputs": [
    {
     "data": {
      "application/vnd.jupyter.widget-view+json": {
       "model_id": "0b73eaa2fd8a4c61913103e57f1c9bd6",
       "version_major": 2,
       "version_minor": 0
      },
      "text/plain": [
       "  0%|          | 0/226834 [00:00<?, ?it/s]"
      ]
     },
     "metadata": {},
     "output_type": "display_data"
    },
    {
     "data": {
      "text/plain": [
       "136"
      ]
     },
     "execution_count": 11,
     "metadata": {},
     "output_type": "execute_result"
    }
   ],
   "source": [
    "# максимальная длинна слова\n",
    "word_max_len = data['ttext_'].progress_apply(lambda s: max([ len(w) for w in s])).max()\n",
    "word_max_len"
   ]
  },
  {
   "cell_type": "code",
   "execution_count": 12,
   "metadata": {},
   "outputs": [],
   "source": [
    "# data[ data['ttext_'].str.len()<1 ] # пустые последовательности"
   ]
  },
  {
   "cell_type": "code",
   "execution_count": 13,
   "metadata": {},
   "outputs": [
    {
     "name": "stdout",
     "output_type": "stream",
     "text": [
      "negative: 111923 \n",
      "positive: 114911\n"
     ]
    }
   ],
   "source": [
    "print( 'negative:', len(data.query('ttype==-1')), '\\npositive:',len(data.query('ttype==1')) )"
   ]
  },
  {
   "cell_type": "code",
   "execution_count": 14,
   "metadata": {},
   "outputs": [
    {
     "name": "stdout",
     "output_type": "stream",
     "text": [
      "negative: 111923 \n",
      "positive: 114911\n"
     ]
    }
   ],
   "source": [
    "data = data[ data['ttext_'].str.len()>0 ].reset_index(drop=True)\n",
    "print( 'negative:', len(data.query('ttype==-1')), '\\npositive:',len(data.query('ttype==1')) )"
   ]
  },
  {
   "cell_type": "markdown",
   "metadata": {},
   "source": [
    "------"
   ]
  },
  {
   "cell_type": "code",
   "execution_count": 15,
   "metadata": {},
   "outputs": [
    {
     "data": {
      "text/plain": [
       "197"
      ]
     },
     "execution_count": 15,
     "metadata": {},
     "output_type": "execute_result"
    }
   ],
   "source": [
    "abc = set.union(*[ set(' '.join(s)) for s in data['ttext_'].apply(set) ])\n",
    "abc = { w:n+1 for n,w in enumerate(sorted(abc)) }\n",
    "# abc_len = len(abc)\n",
    "# abc_len\n",
    "len(abc)"
   ]
  },
  {
   "cell_type": "code",
   "execution_count": 16,
   "metadata": {},
   "outputs": [],
   "source": [
    "# дополняем до максимальной длины\n",
    "def pad_seq(s,max_len,pad_code=0):\n",
    "    return [pad_code]*(max_len-len(s))+s\n",
    "\n",
    "# заменяем символы слова на последовательность номеров символов в алфавите \n",
    "def encode_abc(w,abc=abc ): \n",
    "    return list(map(abc.get,w))\n",
    "\n",
    "def encode_abc_bin(codes,abc_len=len(abc)):\n",
    "    return [ np.eye(abc_len,dtype=np.uint8)[c] for c in codes ]\n",
    "\n",
    "def encode_seq(s, abc=abc, seq_max_len=seq_max_len, word_max_len=word_max_len, ):\n",
    "    abc_len = len(abc)+1\n",
    "    zero_word = np.zeros(abc_len,dtype=np.uint8) \n",
    "    zero_seq = np.zeros([1,word_max_len,abc_len],dtype=np.uint8) \n",
    "    return np.vstack(\n",
    "        pad_seq( # дополняем последовательности до единого размера\n",
    "            [ \n",
    "                np.vstack(\n",
    "                    pad_seq( # дополняем код слова до единого размера\n",
    "                        encode_abc_bin( encode_abc(w,abc=abc), abc_len=abc_len, ) # кодируем слово\n",
    "                        ,word_max_len # максимальный размер слова\n",
    "                        ,pad_code=zero_word # дополняем нулями\n",
    "                    )\n",
    "                )[np.newaxis,:]\n",
    "                for w in s # для каждого слова последовательности\n",
    "            ]\n",
    "            ,seq_max_len # максимальный размер последовательности\n",
    "            ,pad_code=zero_seq # дополняем нулями\n",
    "        )\n",
    "    )[np.newaxis,:]\n",
    "\n",
    "# [ номер примера, позиция слова в предложении, позиция символа в слове, номер символа ]"
   ]
  },
  {
   "cell_type": "code",
   "execution_count": 17,
   "metadata": {},
   "outputs": [],
   "source": [
    "def get_batch(df,batch_size=10_000,shuffle=True,):\n",
    "    ii = rng.permutation(len(df)) if shuffle else np.array(range(len(df)))\n",
    "    for i in range(0,len(ii),batch_size):\n",
    "        yield (\n",
    "            np.vstack( df.iloc[ii[i:i+batch_size]]['ttext_'].apply(encode_seq).values ), \n",
    "            # строим выход нейросети (из 2 нейронов)\n",
    "            np.eye(2,dtype=np.float32)[(df.iloc[ii[i:i+batch_size]]['ttype'].values+1)//2],\n",
    "        )\n",
    "\n",
    "# x,target = next( get_batch(data,batch_size=1_000) )\n",
    "# x.shape, target.shape"
   ]
  },
  {
   "cell_type": "markdown",
   "metadata": {},
   "source": [
    "----"
   ]
  },
  {
   "cell_type": "code",
   "execution_count": 18,
   "metadata": {},
   "outputs": [],
   "source": [
    "ii = rng.permutation(len(data))\n",
    "n = len(data)//10\n",
    "data_train  = data.iloc[ii[:n]].reset_index(drop=True)\n",
    "data_test  = data.iloc[ii[n:]].reset_index(drop=True)"
   ]
  },
  {
   "cell_type": "code",
   "execution_count": 19,
   "metadata": {},
   "outputs": [
    {
     "name": "stdout",
     "output_type": "stream",
     "text": [
      "train:\n",
      "\n",
      "\tnegative: 11358 \n",
      "\tpositive: 11325\n",
      "test:\n",
      "\n",
      "\tnegative: 100565 \n",
      "\tpositive: 103586\n"
     ]
    }
   ],
   "source": [
    "print('train:\\n')\n",
    "print('\\tnegative:', len(data_train.query('ttype==-1')), '\\n\\tpositive:',len(data_train.query('ttype==1')) )\n",
    "\n",
    "print('test:\\n')\n",
    "print('\\tnegative:', len(data_test.query('ttype==-1')), '\\n\\tpositive:',len(data_test.query('ttype==1')) )"
   ]
  },
  {
   "cell_type": "markdown",
   "metadata": {},
   "source": [
    "## модель"
   ]
  },
  {
   "cell_type": "code",
   "execution_count": 20,
   "metadata": {},
   "outputs": [],
   "source": [
    "# del model\n",
    "# del y"
   ]
  },
  {
   "cell_type": "code",
   "execution_count": 21,
   "metadata": {},
   "outputs": [],
   "source": [
    "import torch\n",
    "import torch.nn as nn\n",
    "import torch.nn.functional as F"
   ]
  },
  {
   "cell_type": "code",
   "execution_count": 22,
   "metadata": {},
   "outputs": [
    {
     "data": {
      "text/plain": [
       "'1.10.2+cu102'"
      ]
     },
     "execution_count": 22,
     "metadata": {},
     "output_type": "execute_result"
    }
   ],
   "source": [
    "torch.__version__"
   ]
  },
  {
   "cell_type": "code",
   "execution_count": 23,
   "metadata": {},
   "outputs": [],
   "source": [
    "n_classes = 2\n",
    "\n",
    "class Model(nn.Module):\n",
    "    def __init__(self, \n",
    "                 output_dim=n_classes, # размер выхода\n",
    "                ):\n",
    "        super().__init__()\n",
    "        \n",
    "        self._conv1= nn.Conv2d(\n",
    "                in_channels=seq_max_len,\n",
    "                out_channels=32,\n",
    "                kernel_size=(15,15)\n",
    "            )\n",
    "        self._linear = nn.Linear(3072, output_dim) # выходной (линейный) слой\n",
    "\n",
    "    def forward(self,x):\n",
    "        o = self._conv1(x)\n",
    "        o = F.relu(o)\n",
    "        # o = torch.tanh(o)\n",
    "        o = F.max_pool2d(o,kernel_size=15)\n",
    "        o = torch.flatten(o, start_dim=1)\n",
    "        o = self._linear(o) # считаем выход сети\n",
    "        o = F.softmax(o,dim=1)\n",
    "        \n",
    "        return o "
   ]
  },
  {
   "cell_type": "code",
   "execution_count": 24,
   "metadata": {},
   "outputs": [
    {
     "data": {
      "text/plain": [
       "Model(\n",
       "  (_conv1): Conv2d(36, 32, kernel_size=(15, 15), stride=(1, 1))\n",
       "  (_linear): Linear(in_features=3072, out_features=2, bias=True)\n",
       ")"
      ]
     },
     "execution_count": 24,
     "metadata": {},
     "output_type": "execute_result"
    }
   ],
   "source": [
    "model = Model()\n",
    "model"
   ]
  },
  {
   "cell_type": "code",
   "execution_count": 25,
   "metadata": {},
   "outputs": [],
   "source": [
    "# x,y = next( get_batch(data,batch_size=100) )\n",
    "# model( torch.tensor( x, dtype=torch.float32 ) ).shape\n",
    "# del x\n",
    "# del y"
   ]
  },
  {
   "cell_type": "markdown",
   "metadata": {},
   "source": [
    "### обучаем модель"
   ]
  },
  {
   "cell_type": "code",
   "execution_count": 26,
   "metadata": {},
   "outputs": [
    {
     "data": {
      "text/plain": [
       "device(type='cuda', index=0)"
      ]
     },
     "execution_count": 26,
     "metadata": {},
     "output_type": "execute_result"
    }
   ],
   "source": [
    "# проверяем GPU\n",
    "device = torch.device('cuda:0' if torch.cuda.is_available() else 'cpu')\n",
    "device"
   ]
  },
  {
   "cell_type": "code",
   "execution_count": 27,
   "metadata": {},
   "outputs": [],
   "source": [
    "model = model.to(device)"
   ]
  },
  {
   "cell_type": "code",
   "execution_count": 28,
   "metadata": {},
   "outputs": [],
   "source": [
    "criterion =  nn.CrossEntropyLoss() # ф-ция потери\n",
    "optimizer = torch.optim.Adam(model.parameters(), lr=.005) # метод оптимизации"
   ]
  },
  {
   "cell_type": "code",
   "execution_count": 29,
   "metadata": {},
   "outputs": [
    {
     "name": "stdout",
     "output_type": "stream",
     "text": [
      "epoch: 1\n"
     ]
    },
    {
     "data": {
      "application/vnd.jupyter.widget-view+json": {
       "model_id": "36d8e6c14a224f448379b19f0cde6272",
       "version_major": 2,
       "version_minor": 0
      },
      "text/plain": [
       "  0%|          | 0/177 [00:00<?, ?it/s]"
      ]
     },
     "metadata": {},
     "output_type": "display_data"
    },
    {
     "name": "stdout",
     "output_type": "stream",
     "text": [
      "epoch: 2\n"
     ]
    },
    {
     "data": {
      "application/vnd.jupyter.widget-view+json": {
       "model_id": "7a88d64781554348a914843c30014588",
       "version_major": 2,
       "version_minor": 0
      },
      "text/plain": [
       "  0%|          | 0/177 [00:00<?, ?it/s]"
      ]
     },
     "metadata": {},
     "output_type": "display_data"
    },
    {
     "name": "stdout",
     "output_type": "stream",
     "text": [
      "epoch: 3\n"
     ]
    },
    {
     "data": {
      "application/vnd.jupyter.widget-view+json": {
       "model_id": "8d39754e35374731ab8d36c5d51da752",
       "version_major": 2,
       "version_minor": 0
      },
      "text/plain": [
       "  0%|          | 0/177 [00:00<?, ?it/s]"
      ]
     },
     "metadata": {},
     "output_type": "display_data"
    },
    {
     "name": "stdout",
     "output_type": "stream",
     "text": [
      "epoch: 4\n"
     ]
    },
    {
     "data": {
      "application/vnd.jupyter.widget-view+json": {
       "model_id": "f54833b320db4534844d99c5e4a55e31",
       "version_major": 2,
       "version_minor": 0
      },
      "text/plain": [
       "  0%|          | 0/177 [00:00<?, ?it/s]"
      ]
     },
     "metadata": {},
     "output_type": "display_data"
    },
    {
     "name": "stdout",
     "output_type": "stream",
     "text": [
      "epoch: 5\n"
     ]
    },
    {
     "data": {
      "application/vnd.jupyter.widget-view+json": {
       "model_id": "2adfb90b757d4fc4a6bade1f07c40658",
       "version_major": 2,
       "version_minor": 0
      },
      "text/plain": [
       "  0%|          | 0/177 [00:00<?, ?it/s]"
      ]
     },
     "metadata": {},
     "output_type": "display_data"
    },
    {
     "name": "stdout",
     "output_type": "stream",
     "text": [
      "epoch: 6\n"
     ]
    },
    {
     "data": {
      "application/vnd.jupyter.widget-view+json": {
       "model_id": "cdd747ea1fa94e6e8a06ff434dfac194",
       "version_major": 2,
       "version_minor": 0
      },
      "text/plain": [
       "  0%|          | 0/177 [00:00<?, ?it/s]"
      ]
     },
     "metadata": {},
     "output_type": "display_data"
    },
    {
     "name": "stdout",
     "output_type": "stream",
     "text": [
      "epoch: 7\n"
     ]
    },
    {
     "data": {
      "application/vnd.jupyter.widget-view+json": {
       "model_id": "013e35c11e594a688d5789df7121bb60",
       "version_major": 2,
       "version_minor": 0
      },
      "text/plain": [
       "  0%|          | 0/177 [00:00<?, ?it/s]"
      ]
     },
     "metadata": {},
     "output_type": "display_data"
    },
    {
     "name": "stdout",
     "output_type": "stream",
     "text": [
      "epoch: 8\n"
     ]
    },
    {
     "data": {
      "application/vnd.jupyter.widget-view+json": {
       "model_id": "8873068e673c4e478597c4b45132acfc",
       "version_major": 2,
       "version_minor": 0
      },
      "text/plain": [
       "  0%|          | 0/177 [00:00<?, ?it/s]"
      ]
     },
     "metadata": {},
     "output_type": "display_data"
    },
    {
     "name": "stdout",
     "output_type": "stream",
     "text": [
      "epoch: 9\n"
     ]
    },
    {
     "data": {
      "application/vnd.jupyter.widget-view+json": {
       "model_id": "1d2144c81f604fed80bac8ee1864ea51",
       "version_major": 2,
       "version_minor": 0
      },
      "text/plain": [
       "  0%|          | 0/177 [00:00<?, ?it/s]"
      ]
     },
     "metadata": {},
     "output_type": "display_data"
    },
    {
     "name": "stdout",
     "output_type": "stream",
     "text": [
      "epoch: 10\n"
     ]
    },
    {
     "data": {
      "application/vnd.jupyter.widget-view+json": {
       "model_id": "631dd06dc4974e66af81ff0a962fb961",
       "version_major": 2,
       "version_minor": 0
      },
      "text/plain": [
       "  0%|          | 0/177 [00:00<?, ?it/s]"
      ]
     },
     "metadata": {},
     "output_type": "display_data"
    },
    {
     "name": "stdout",
     "output_type": "stream",
     "text": [
      "CPU times: user 23min 21s, sys: 4min 44s, total: 28min 5s\n",
      "Wall time: 22min 35s\n"
     ]
    }
   ],
   "source": [
    "%%time\n",
    "\n",
    "batch_size=128\n",
    "loss_history = [] # значения ф-ции потери\n",
    "n_epoch = 8 # количество эпох обучения\n",
    "\n",
    "for i in range(n_epoch): \n",
    "    print('epoch:',i+1)\n",
    "    for x,y in tqdm(\n",
    "            get_batch(data_train,batch_size=batch_size)\n",
    "            ,total=len(data_train)//batch_size\n",
    "        ): # получаем батч учебных примеров\n",
    "        x_ = torch.tensor(x,dtype=torch.float32).to(device)\n",
    "        y_ = torch.tensor(y,dtype=torch.float32).to(device)\n",
    "        out = model.forward(x_) # считаем выход модели\n",
    "        loss = criterion(y_,out ) # вычисляем значение ф-ции потери\n",
    "        loss_history.append(loss.item()) # дополняем историю изменения значений ф-ции потери\n",
    "        optimizer.zero_grad() # очищаем предыдущее значение градиента\n",
    "        loss.backward()  # вычисляем текущее значение градиента ф-ции потери\n",
    "        optimizer.step() # корректируем параметры модели\n",
    "        del x_\n",
    "        del y_\n",
    "    torch.cuda.empty_cache()\n",
    "    #acc_history.append( accuracy(data_train) ) #значение погрешности"
   ]
  },
  {
   "cell_type": "code",
   "execution_count": 30,
   "metadata": {},
   "outputs": [
    {
     "data": {
      "text/plain": [
       "<matplotlib.legend.Legend at 0x7f6ef5f773d0>"
      ]
     },
     "execution_count": 30,
     "metadata": {},
     "output_type": "execute_result"
    },
    {
     "data": {
      "image/png": "[encoded data removed]",
      "text/plain": [
       "<Figure size 432x288 with 1 Axes>"
      ]
     },
     "metadata": {
      "needs_background": "light"
     },
     "output_type": "display_data"
    }
   ],
   "source": [
    "from matplotlib import pyplot as plt\n",
    "# история изменения значений ф-ции потери\n",
    "plt.plot(loss_history,label='min loss=%.3f'%(min(loss_history)))\n",
    "plt.grid()\n",
    "plt.legend()"
   ]
  },
  {
   "cell_type": "markdown",
   "metadata": {},
   "source": [
    "## проверяем результат"
   ]
  },
  {
   "cell_type": "code",
   "execution_count": 31,
   "metadata": {},
   "outputs": [
    {
     "data": {
      "application/vnd.jupyter.widget-view+json": {
       "model_id": "1fc17fd267d24389856990a612f8296b",
       "version_major": 2,
       "version_minor": 0
      },
      "text/plain": [
       "  0%|          | 0/1594 [00:00<?, ?it/s]"
      ]
     },
     "metadata": {},
     "output_type": "display_data"
    },
    {
     "name": "stdout",
     "output_type": "stream",
     "text": [
      "              precision    recall  f1-score   support\n",
      "\n",
      "           0       0.83      0.82      0.82    100565\n",
      "           1       0.82      0.84      0.83    103586\n",
      "\n",
      "    accuracy                           0.83    204151\n",
      "   macro avg       0.83      0.83      0.83    204151\n",
      "weighted avg       0.83      0.83      0.83    204151\n",
      "\n"
     ]
    }
   ],
   "source": [
    "# batch_size = 128\n",
    "\n",
    "with torch.set_grad_enabled(False):\n",
    "    o_test = np.hstack([\n",
    "            np.argmax( model(torch.tensor(x,dtype=torch.float32).to(device)).cpu().numpy(),axis=1 )\n",
    "            for x,_ in tqdm(\n",
    "                    get_batch( data_test, batch_size=batch_size, shuffle=False)\n",
    "                    ,total=len(data_test)//batch_size\n",
    "                )\n",
    "        ])\n",
    "    \n",
    "target_test = (data_test['ttype']+1)//2  \n",
    "\n",
    "from sklearn.metrics import classification_report\n",
    "print(classification_report( target_test,o_test))"
   ]
  },
  {
   "cell_type": "markdown",
   "metadata": {},
   "source": [
    "----"
   ]
  },
  {
   "cell_type": "code",
   "execution_count": 32,
   "metadata": {},
   "outputs": [],
   "source": [
    "# from sklearn.metrics import accuracy_score\n",
    "\n",
    "# def accuracy(dataset,batch_size=128):\n",
    "#     with torch.set_grad_enabled(False):\n",
    "#         return np.mean([\n",
    "#             accuracy_score(\n",
    "#                 y[:,1],\n",
    "#                 np.argmax( model(torch.tensor(x,dtype=torch.float32).to(device)).cpu().numpy(),axis=1 )\n",
    "#             )\n",
    "#             for x,y in tqdm(\n",
    "#                     get_batch( dataset, batch_size=batch_size, shuffle=False)\n",
    "#                     ,total=len(dataset)//batch_size\n",
    "#                 )\n",
    "#         ])\n",
    "        \n",
    "# # acc_history = [ accuracy(data_train) ] # начальное значение погрешности"
   ]
  },
  {
   "cell_type": "code",
   "execution_count": 33,
   "metadata": {},
   "outputs": [],
   "source": [
    "# acc_history"
   ]
  },
  {
   "cell_type": "code",
   "execution_count": 34,
   "metadata": {},
   "outputs": [],
   "source": [
    "# acc_history"
   ]
  },
  {
   "cell_type": "code",
   "execution_count": 35,
   "metadata": {},
   "outputs": [],
   "source": [
    "# # история изменения значений погрешности модели\n",
    "# plt.plot(acc_history,label='max acc=%.3f'%(max(acc_history)),c='r')\n",
    "# plt.grid()\n",
    "# plt.legend()"
   ]
  },
  {
   "cell_type": "code",
   "execution_count": 36,
   "metadata": {},
   "outputs": [],
   "source": [
    "# x,y = next( get_batch(data,batch_size=100) )\n",
    "# x.shape, y.shape"
   ]
  },
  {
   "cell_type": "code",
   "execution_count": 37,
   "metadata": {},
   "outputs": [],
   "source": [
    "# o = nn.Conv2d(\n",
    "#         in_channels=seq_max_len,\n",
    "#         out_channels=128,\n",
    "#         kernel_size=(7,7)\n",
    "#     )(torch.tensor(x,dtype=torch.float32))\n",
    "\n",
    "# o = F.max_pool2d(o,kernel_size=5)\n",
    "\n",
    "# o = nn.Conv2d(\n",
    "#         in_channels=128,\n",
    "#         out_channels=32,\n",
    "#         kernel_size=(9,9)\n",
    "#     )(o)\n",
    "\n",
    "# o = F.max_pool2d(o,kernel_size=3)\n",
    "\n",
    "# print(o.shape)\n",
    "\n",
    "# o = torch.flatten(o, start_dim=1)\n",
    "\n",
    "# o.shape"
   ]
  },
  {
   "cell_type": "code",
   "execution_count": 38,
   "metadata": {},
   "outputs": [],
   "source": [
    "# max_pool2d(input, kernel_size, stride=None, padding=0, dilation=1,"
   ]
  },
  {
   "cell_type": "code",
   "execution_count": 39,
   "metadata": {},
   "outputs": [],
   "source": [
    "# x,y = next( get_batch(data,batch_size=100) )\n",
    "# # x.shape, y.shape\n",
    "#\n",
    "# o = nn.Conv2d(\n",
    "#         in_channels=seq_max_len,\n",
    "#         out_channels=32,\n",
    "#         kernel_size=(15,15)\n",
    "#     )(torch.tensor(x,dtype=torch.float32))\n",
    "#\n",
    "# o = F.max_pool2d(o,kernel_size=15)\n",
    "#\n",
    "# # o = nn.Conv2d(\n",
    "# #         in_channels=128,\n",
    "# #         out_channels=32,\n",
    "# #         kernel_size=(9,9)\n",
    "# #     )(o)\n",
    "#\n",
    "# # o = F.max_pool2d(o,kernel_size=3)\n",
    "#\n",
    "# print(o.shape)\n",
    "#\n",
    "# o = torch.flatten(o, start_dim=1)\n",
    "#\n",
    "# o.shape"
   ]
  }
 ],
 "metadata": {
  "kernelspec": {
   "display_name": "Python 3 (ipykernel)",
   "language": "python",
   "name": "python3"
  },
  "language_info": {
   "codemirror_mode": {
    "name": "ipython",
    "version": 3
   },
   "file_extension": ".py",
   "mimetype": "text/x-python",
   "name": "python",
   "nbconvert_exporter": "python",
   "pygments_lexer": "ipython3",
   "version": "3.8.9"
  },
  "toc": {
   "base_numbering": 1,
   "nav_menu": {},
   "number_sections": true,
   "sideBar": true,
   "skip_h1_title": false,
   "title_cell": "Table of Contents",
   "title_sidebar": "Contents",
   "toc_cell": false,
   "toc_position": {},
   "toc_section_display": "block",
   "toc_window_display": false
  }
 },
 "nbformat": 4,
 "nbformat_minor": 4
}
