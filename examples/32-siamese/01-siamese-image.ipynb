{
 "cells": [
  {
   "cell_type": "markdown",
   "metadata": {},
   "source": [
    "__оценка схожести изображений с помощью сиамской нейросети__\n",
    "\n",
    "Евгений Борисов <esborisov@sevsu.ru>"
   ]
  },
  {
   "cell_type": "markdown",
   "metadata": {},
   "source": [
    "---"
   ]
  },
  {
   "cell_type": "markdown",
   "metadata": {},
   "source": [
    "Jane Bromley, Isabelle Guyon, Yann LeCun, Eduard Sickinger and Roopak Shah     \n",
    "Signature Verification using a \"Siamese\" Time Delay Neural Network.    1994       \n",
    "AT&T Bell Laboratories  \n",
    "https://papers.nips.cc/paper/1993/file/288cc0ff022877bd3df94bc9360b9c5d-Paper.pdf"
   ]
  },
  {
   "cell_type": "markdown",
   "metadata": {},
   "source": [
    "Gregory Koch  Siamese Neural Networks for One-Shot Image Recognition.  2015    \n",
    "http://www.cs.utoronto.ca/~gkoch/files/msc-thesis.pdf    "
   ]
  },
  {
   "cell_type": "markdown",
   "metadata": {},
   "source": [
    "Николай Князев  Распознавание лиц с помощью сиамских сетей. 2019    \n",
    "https://habr.com/ru/company/jetinfosystems/blog/465279/"
   ]
  },
  {
   "cell_type": "markdown",
   "metadata": {},
   "source": [
    "Владислав Виноградов  Как построить свою систему поиска похожих изображений.  2021  \n",
    "https://habr.com/ru/post/550604/"
   ]
  },
  {
   "cell_type": "code",
   "execution_count": 1,
   "metadata": {},
   "outputs": [],
   "source": [
    "# from os.path import join as pjoin\n",
    "# from os import listdir\n",
    "from itertools import combinations\n",
    "import numpy as np\n",
    "import numpy.random as rng\n",
    "# import gzip\n",
    "# import idx2numpy\n",
    "from matplotlib import pyplot as plt"
   ]
  },
  {
   "cell_type": "markdown",
   "metadata": {},
   "source": [
    "## загружаем учебный набор"
   ]
  },
  {
   "cell_type": "code",
   "execution_count": 2,
   "metadata": {},
   "outputs": [
    {
     "data": {
      "text/plain": [
       "((60000, 28, 28), (10000, 28, 28))"
      ]
     },
     "execution_count": 2,
     "metadata": {},
     "output_type": "execute_result"
    }
   ],
   "source": [
    "from tensorflow.keras.datasets import fashion_mnist\n",
    "(image_train, target_train),(image_test, target_test) = fashion_mnist.load_data()\n",
    "image_train.shape, image_test.shape"
   ]
  },
  {
   "cell_type": "code",
   "execution_count": 3,
   "metadata": {},
   "outputs": [
    {
     "data": {
      "image/png": "[encoded data removed]",
      "text/plain": [
       "<Figure size 1152x288 with 9 Axes>"
      ]
     },
     "metadata": {
      "needs_background": "light"
     },
     "output_type": "display_data"
    }
   ],
   "source": [
    "n_show = 9\n",
    "\n",
    "plt.figure(figsize=(16,4))\n",
    "for n,i in enumerate(rng.permutation(len(image_train))[:n_show], start=1):\n",
    "    img = image_train[i]\n",
    "    plt.subplot(1,n_show,n)\n",
    "    plt.axis(False)\n",
    "    plt.imshow(img,cmap='gray_r')"
   ]
  },
  {
   "cell_type": "markdown",
   "metadata": {},
   "source": [
    "## строим учебный датасет"
   ]
  },
  {
   "cell_type": "markdown",
   "metadata": {},
   "source": [
    "соберём два набора пар - похожие и непохожие картинки;\n",
    "\n",
    "похожие пары собираем из одного класса, непохожие из разных классов"
   ]
  },
  {
   "cell_type": "code",
   "execution_count": 4,
   "metadata": {},
   "outputs": [],
   "source": [
    "# позитивные примеры - пары одного класса\n",
    "def sample_pos_class(x,y,c):\n",
    "    xc = x[y==c] # выбираем примеры класса с\n",
    "    ii = rng.permutation(xc.shape[0]) # индексы примеров в случайном порядке\n",
    "    return xc[ii],xc \n",
    "\n",
    "def sample_pos(x,y):\n",
    "    x_left,x_right = [],[]\n",
    "    for c in set(y):\n",
    "        xl,xr = sample_pos_class(x,y,c)\n",
    "        x_left.append(xl)\n",
    "        x_right.append(xr)\n",
    "    return np.vstack(x_left),np.vstack(x_right)"
   ]
  },
  {
   "cell_type": "code",
   "execution_count": 5,
   "metadata": {},
   "outputs": [],
   "source": [
    "# негативные примеры - пары разных классов\n",
    "\n",
    "# размножить примеры класса\n",
    "def reproduce_samples(x,dn):\n",
    "    n = x.shape[0] \n",
    "    i = rng.permutation(n)[:dn]\n",
    "    return np.vstack([x,x[i,:]])\n",
    "\n",
    "def sample_neg_class(x,y,c0,c1):\n",
    "    assert c0!=c1\n",
    "    xc0 = x[y==c0] # выбираем примеры класса с0\n",
    "    xc1 = x[y==c1] # выбираем примеры класса с1\n",
    "    \n",
    "    n0 = xc0.shape[0] # количество примеров класса с0\n",
    "    n1 = xc1.shape[0] # количество примеров класса с1\n",
    "    \n",
    "    # выравниваем количества примеров в классах\n",
    "    if n0>n1: # в классе с1 меньше примеров\n",
    "        xc1 = reproduce_samples(xc1,n0-n1)\n",
    "        n1=xc1.shape[0]\n",
    "        \n",
    "    if n0<n1: # в классе с0 меньше примеров\n",
    "        xc0 = reproduce_samples(xc0,n1-n0)\n",
    "        n0=xc0.shape[0]\n",
    "\n",
    "    # индексы примеров в случайном порядке\n",
    "    i0 = rng.permutation(n0) \n",
    "    i1 = rng.permutation(n1) \n",
    "\n",
    "    return xc0[i0,:],xc1[i1,:] \n",
    "    \n",
    "# xl,xr = sample_neg_class(x_train,y_train,2,3)\n",
    "\n",
    "\n",
    "def sample_neg(x,y,p=-1):\n",
    "    cc = set(y) # список классов\n",
    "    \n",
    "    # все комбинации разных классов\n",
    "    cc = list(combinations(cc,2))\n",
    "    \n",
    "    \n",
    "    # ограничиваем количество пар\n",
    "    if p>0: cc = rng.permutation(cc)[:p]\n",
    "\n",
    "    x_left,x_right = [],[]\n",
    "    for c0,c1 in cc:\n",
    "        xl,xr = sample_neg_class(x,y,c0,c1)\n",
    "        x_left.append(xl)\n",
    "        x_right.append(xr) \n",
    "        \n",
    "    return np.vstack(x_left),np.vstack(x_right)    "
   ]
  },
  {
   "cell_type": "code",
   "execution_count": 6,
   "metadata": {},
   "outputs": [
    {
     "data": {
      "text/plain": [
       "((60000, 28, 28), (60000, 28, 28), (60000, 1))"
      ]
     },
     "execution_count": 6,
     "metadata": {},
     "output_type": "execute_result"
    }
   ],
   "source": [
    "# картинки похожие, позитивные примеры\n",
    "x_left_p, x_right_p = sample_pos(image_train,target_train)\n",
    "target_p = np.ones((x_left_p.shape[0],1),dtype=np.float32)\n",
    "\n",
    "x_left_p.shape, x_right_p.shape, target_p.shape  "
   ]
  },
  {
   "cell_type": "code",
   "execution_count": 7,
   "metadata": {},
   "outputs": [
    {
     "data": {
      "text/plain": [
       "((270000, 28, 28), (270000, 28, 28), (270000, 1))"
      ]
     },
     "execution_count": 7,
     "metadata": {},
     "output_type": "execute_result"
    }
   ],
   "source": [
    "# картинки не похожие негативные примеры\n",
    "x_left_n,x_right_n = sample_neg(image_train,target_train)\n",
    "target_n = np.zeros((x_left_n.shape[0],1),dtype=np.float32)\n",
    "\n",
    "x_left_n.shape, x_right_n.shape, target_n.shape     "
   ]
  },
  {
   "cell_type": "code",
   "execution_count": 8,
   "metadata": {},
   "outputs": [
    {
     "data": {
      "text/plain": [
       "((330000, 28, 28), (330000, 28, 28), (330000, 1))"
      ]
     },
     "execution_count": 8,
     "metadata": {},
     "output_type": "execute_result"
    }
   ],
   "source": [
    "x_left_train  = np.vstack([x_left_n,  x_left_p])\n",
    "x_right_train = np.vstack([x_right_n, x_right_p])\n",
    "target_train  = np.vstack([target_n, target_p])\n",
    "\n",
    "x_left_train.shape, x_right_train.shape, target_train.shape"
   ]
  },
  {
   "cell_type": "code",
   "execution_count": 9,
   "metadata": {},
   "outputs": [],
   "source": [
    "def shuffle_dataset(x_left, x_right, target):\n",
    "    ii = rng.permutation(x_left.shape[0])\n",
    "    return x_left[ii,:],x_right[ii,:],target[ii,:]"
   ]
  },
  {
   "cell_type": "code",
   "execution_count": 10,
   "metadata": {},
   "outputs": [
    {
     "data": {
      "text/plain": [
       "array([[0.],\n",
       "       [0.],\n",
       "       [0.],\n",
       "       ...,\n",
       "       [1.],\n",
       "       [1.],\n",
       "       [1.]], dtype=float32)"
      ]
     },
     "execution_count": 10,
     "metadata": {},
     "output_type": "execute_result"
    }
   ],
   "source": [
    "target_train"
   ]
  },
  {
   "cell_type": "markdown",
   "metadata": {},
   "source": [
    "## строим модель"
   ]
  },
  {
   "cell_type": "code",
   "execution_count": null,
   "metadata": {},
   "outputs": [],
   "source": [
    "import tensorflow as tf\n",
    "\n",
    "from tensorflow.keras.models import Model\n",
    "from tensorflow.keras.models import Sequential\n",
    "\n",
    "from tensorflow.keras.layers import Input\n",
    "from tensorflow.keras.layers import Conv2D \n",
    "from tensorflow.keras.layers import MaxPooling2D\n",
    "from tensorflow.keras.layers import Dense\n",
    "from tensorflow.keras.layers import Flatten\n",
    "\n",
    "from tensorflow.keras.layers import Lambda\n",
    "\n",
    "# from tensorflow.keras.regularizers import l2\n",
    "from tensorflow.keras import backend as K\n",
    "from tensorflow.keras.optimizers import Adam\n",
    "\n",
    "# from tensorflow_addons.losses import contrastive_loss\n",
    "# from tensorflow.keras.callbacks import TensorBoard\n",
    "\n",
    "from tensorflow.keras.utils import plot_model"
   ]
  },
  {
   "cell_type": "code",
   "execution_count": null,
   "metadata": {},
   "outputs": [],
   "source": [
    "print('tensorflow',tf.__version__)\n",
    "print('keras',tf.keras.__version__)"
   ]
  },
  {
   "cell_type": "code",
   "execution_count": null,
   "metadata": {},
   "outputs": [],
   "source": [
    "# два входа модели\n",
    "input_shape = image_train.shape[1:] + (1,)\n",
    "# regularizer_rate = 2e-4\n",
    "left_input, right_input = Input(input_shape), Input(input_shape)"
   ]
  },
  {
   "cell_type": "code",
   "execution_count": null,
   "metadata": {},
   "outputs": [],
   "source": [
    "# модель (свёрточная сеть) извлекающая признаки из картинок\n",
    "encoder = Sequential(name='encoder')\n",
    "encoder.add(Conv2D(64,(3,3),activation='relu',input_shape=input_shape)) \n",
    "encoder.add(MaxPooling2D(pool_size=(2,2), strides=(2,2)))    \n",
    "encoder.add(Conv2D(128,(3,3),activation='relu')) \n",
    "encoder.add(Flatten())\n",
    "encoder.add(Dense(512, activation='sigmoid'))"
   ]
  },
  {
   "cell_type": "code",
   "execution_count": null,
   "metadata": {},
   "outputs": [],
   "source": [
    "encoded_l = encoder(left_input) # левая ветка\n",
    "encoded_r = encoder(right_input) # правая ветка\n",
    "\n",
    "# считаем расстояние L1\n",
    "L1_distance = Lambda(lambda t:K.abs(t[0]-t[1]),name='L1_distance')([encoded_l,encoded_r])\n",
    "prediction = Dense(1,activation='sigmoid',)(L1_distance)\n",
    "\n",
    "# собираем части в одну модель\n",
    "model = Model(inputs=[left_input,right_input],outputs=prediction)"
   ]
  },
  {
   "cell_type": "code",
   "execution_count": null,
   "metadata": {},
   "outputs": [],
   "source": [
    "# model.summary()\n",
    "plot_model(model, show_layer_names=True, show_shapes=True )"
   ]
  },
  {
   "cell_type": "markdown",
   "metadata": {},
   "source": [
    "## обучаем модель"
   ]
  },
  {
   "cell_type": "markdown",
   "metadata": {},
   "source": [
    "функция потери\n",
    "$$\n",
    "contrastive\\_loss(y,p) = y \\cdot p^2 + (1 - y) \\cdot \\max(0, m - p ) ^2\n",
    "$$\n",
    "\n",
    "y - метка (1-похоже,0-непохоже);   \n",
    "p - оценка модели;    \n",
    "m - margin, минимально допустимое растояние между непохожими"
   ]
  },
  {
   "cell_type": "code",
   "execution_count": null,
   "metadata": {},
   "outputs": [],
   "source": [
    "# from tensorflow_addons.losses import contrastive_loss\n",
    "\n",
    "def contrastive_loss(y, preds, margin=1):\n",
    "    y = tf.cast(y, preds.dtype)\n",
    "    squaredMargin = K.square(K.maximum(margin - preds, 0))\n",
    "    return K.mean( y * K.square(preds) + (1-y)*squaredMargin)"
   ]
  },
  {
   "cell_type": "code",
   "execution_count": null,
   "metadata": {},
   "outputs": [],
   "source": [
    "x_left_train.shape, x_right_train.shape, target_train.shape"
   ]
  },
  {
   "cell_type": "code",
   "execution_count": null,
   "metadata": {},
   "outputs": [],
   "source": [
    "# дополнительно перемешиваем датасет\n",
    "x_left_train,x_right_train,target_train = shuffle_dataset(x_left_train,x_right_train,target_train)"
   ]
  },
  {
   "cell_type": "code",
   "execution_count": null,
   "metadata": {},
   "outputs": [],
   "source": [
    "%%time\n",
    "\n",
    "# обучаем модель\n",
    "\n",
    "model.compile(loss=contrastive_loss,optimizer=Adam(learning_rate=1e-5) )\n",
    "\n",
    "history = model.fit( \n",
    "    [x_left_train, x_right_train], \n",
    "    target_train,\n",
    "    epochs=5,\n",
    "    batch_size=512,\n",
    ")\n"
   ]
  },
  {
   "cell_type": "code",
   "execution_count": null,
   "metadata": {},
   "outputs": [],
   "source": [
    "plt.plot(history.history['loss'],label='train loss')\n",
    "# plt.plot(history.history['val_loss'],label='val loss')\n",
    "plt.legend()\n",
    "plt.grid()"
   ]
  },
  {
   "cell_type": "markdown",
   "metadata": {},
   "source": [
    "## тестируем"
   ]
  },
  {
   "cell_type": "code",
   "execution_count": null,
   "metadata": {},
   "outputs": [],
   "source": [
    "# формируем похожие и непохожие пары картинок\n",
    "\n",
    "x_left_p, x_right_p = sample_pos(image_test,target_test)\n",
    "x_left_n,x_right_n = sample_neg(image_test,target_test)\n",
    "\n",
    "x_left_test  = np.vstack([x_left_n,  x_left_p])\n",
    "x_right_test = np.vstack([x_right_n, x_right_p])\n",
    "\n",
    "x_left_test.shape, x_right_test.shape, # target_test.shape"
   ]
  },
  {
   "cell_type": "markdown",
   "metadata": {},
   "source": [
    "---"
   ]
  },
  {
   "cell_type": "code",
   "execution_count": null,
   "metadata": {},
   "outputs": [],
   "source": [
    "# меряем расстояния на тестовых парах\n",
    "p = model.predict([x_left_test,x_right_test])\n",
    "p.shape"
   ]
  },
  {
   "cell_type": "code",
   "execution_count": null,
   "metadata": {},
   "outputs": [],
   "source": [
    "n_show = 10\n",
    "cmap='gray_r'\n",
    "\n",
    "# близкие картинки\n",
    "ii = np.where(p.flatten()<.25)[0]\n",
    "ii = rng.permutation(ii[:n_show])\n",
    "fig,ax = plt.subplots(2,n_show,figsize=(16,4))\n",
    "for n,i in enumerate(ii):\n",
    "    imgL = x_left_test[i,:]\n",
    "    imgR = x_right_test[i,:]\n",
    "    \n",
    "    ax[0][n].axis(False)\n",
    "    ax[0][n].imshow(imgL,cmap=cmap)\n",
    "    ax[0][n].set_title('%.2f'%p[i])\n",
    "    \n",
    "    ax[1][n].axis(False)\n",
    "    ax[1][n].imshow(imgR,cmap=cmap)\n",
    "    \n",
    "\n",
    "# p[ii]    "
   ]
  },
  {
   "cell_type": "code",
   "execution_count": null,
   "metadata": {},
   "outputs": [],
   "source": [
    "# далёкие картинки\n",
    "\n",
    "ii = np.where(p.flatten()>.2)[0]\n",
    "ii = rng.permutation(ii[:n_show])\n",
    "fig,ax = plt.subplots(2,n_show,figsize=(16,4))\n",
    "for n,i in enumerate(ii):\n",
    "    imgL = x_left_test[i,:]\n",
    "    imgR = x_right_test[i,:]\n",
    "    \n",
    "    ax[0][n].axis(False)\n",
    "    ax[0][n].imshow(imgL,cmap=cmap)\n",
    "    ax[0][n].set_title('%.2f'%p[i])\n",
    "    \n",
    "    ax[1][n].axis(False)\n",
    "    ax[1][n].imshow(imgR,cmap=cmap)\n",
    "    "
   ]
  },
  {
   "cell_type": "code",
   "execution_count": null,
   "metadata": {},
   "outputs": [],
   "source": []
  }
 ],
 "metadata": {
  "kernelspec": {
   "display_name": "Python 3 (ipykernel)",
   "language": "python",
   "name": "python3"
  },
  "language_info": {
   "codemirror_mode": {
    "name": "ipython",
    "version": 3
   },
   "file_extension": ".py",
   "mimetype": "text/x-python",
   "name": "python",
   "nbconvert_exporter": "python",
   "pygments_lexer": "ipython3",
   "version": "3.8.9"
  },
  "toc": {
   "base_numbering": 1,
   "nav_menu": {},
   "number_sections": true,
   "sideBar": true,
   "skip_h1_title": false,
   "title_cell": "Table of Contents",
   "title_sidebar": "Contents",
   "toc_cell": false,
   "toc_position": {
    "height": "calc(100% - 180px)",
    "left": "10px",
    "top": "150px",
    "width": "258.594px"
   },
   "toc_section_display": true,
   "toc_window_display": true
  }
 },
 "nbformat": 4,
 "nbformat_minor": 4
}
