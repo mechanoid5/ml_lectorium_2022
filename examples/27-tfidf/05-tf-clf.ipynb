{
 "cells": [
  {
   "cell_type": "markdown",
   "metadata": {},
   "source": [
    "**классификатор текстов**\n",
    "\n",
    "SnowballStemmer+TfidfVectorizer\n",
    "\n",
    "_Евгений Борисов <esborisov@sevsu.ru>_"
   ]
  },
  {
   "cell_type": "markdown",
   "metadata": {},
   "source": [
    "## тексты"
   ]
  },
  {
   "cell_type": "code",
   "execution_count": 1,
   "metadata": {},
   "outputs": [],
   "source": [
    "import pandas as pd\n",
    "pd.options.display.precision = 2 \n",
    "pd.options.display.max_colwidth = 200 \n",
    "\n",
    "from tqdm.notebook import tqdm\n",
    "tqdm.pandas()"
   ]
  },
  {
   "cell_type": "code",
   "execution_count": 2,
   "metadata": {},
   "outputs": [
    {
     "name": "stdout",
     "output_type": "stream",
     "text": [
      "записей: 3196\n"
     ]
    },
    {
     "data": {
      "text/html": [
       "<div>\n",
       "<style scoped>\n",
       "    .dataframe tbody tr th:only-of-type {\n",
       "        vertical-align: middle;\n",
       "    }\n",
       "\n",
       "    .dataframe tbody tr th {\n",
       "        vertical-align: top;\n",
       "    }\n",
       "\n",
       "    .dataframe thead th {\n",
       "        text-align: right;\n",
       "    }\n",
       "</style>\n",
       "<table border=\"1\" class=\"dataframe\">\n",
       "  <thead>\n",
       "    <tr style=\"text-align: right;\">\n",
       "      <th></th>\n",
       "      <th>text</th>\n",
       "      <th>tag</th>\n",
       "    </tr>\n",
       "  </thead>\n",
       "  <tbody>\n",
       "    <tr>\n",
       "      <th>2917</th>\n",
       "      <td>Beijing BJ80 Sport: первые фото.\\n\\nВ интернет просочились изображения китайского кроссовера, который по своему внешнему виду напоминает Mercedes G-Class. Автомобиль будет предлагаться на внутренн...</td>\n",
       "      <td>auto</td>\n",
       "    </tr>\n",
       "    <tr>\n",
       "      <th>1070</th>\n",
       "      <td>Беларусь присоединилась к дополнительному протоколу к Конвенции Совета Европы против допинга\\n\\n10 декабря 2016 в 10:30\\n\\nДмитрий Власов, БелаПАН\\n\\nБеларусь присоединилась к дополнительному прот...</td>\n",
       "      <td>sport</td>\n",
       "    </tr>\n",
       "  </tbody>\n",
       "</table>\n",
       "</div>"
      ],
      "text/plain": [
       "                                                                                                                                                                                                         text  \\\n",
       "2917  Beijing BJ80 Sport: первые фото.\\n\\nВ интернет просочились изображения китайского кроссовера, который по своему внешнему виду напоминает Mercedes G-Class. Автомобиль будет предлагаться на внутренн...   \n",
       "1070  Беларусь присоединилась к дополнительному протоколу к Конвенции Совета Европы против допинга\\n\\n10 декабря 2016 в 10:30\\n\\nДмитрий Власов, БелаПАН\\n\\nБеларусь присоединилась к дополнительному прот...   \n",
       "\n",
       "        tag  \n",
       "2917   auto  \n",
       "1070  sport  "
      ]
     },
     "execution_count": 2,
     "metadata": {},
     "output_type": "execute_result"
    }
   ],
   "source": [
    "# загружаем тексты\n",
    "data = pd.read_pickle('../data/news.pkl.gz')\n",
    "print('записей:',len(data))\n",
    "data.sample(2)"
   ]
  },
  {
   "cell_type": "markdown",
   "metadata": {},
   "source": [
    "## токенайзер со стемингом и очисткой"
   ]
  },
  {
   "cell_type": "code",
   "execution_count": 7,
   "metadata": {},
   "outputs": [],
   "source": [
    "# from nltk.tokenize import sent_tokenize as nltk_sentence_split\n",
    "from nltk.tokenize import word_tokenize as nltk_tokenize_word\n",
    "from nltk.stem.snowball import SnowballStemmer\n",
    "from nltk.corpus import stopwords as nltk_stopwords\n",
    "import re\n",
    "\n",
    "stemmer = SnowballStemmer('russian')\n",
    "stopwords = set(nltk_stopwords.words('russian'))\n",
    "\n",
    "\n",
    "\n",
    "def tokenizer(text,stemmer=stemmer,stopwords=stopwords):\n",
    "    return [\n",
    "            stemmer.stem(t) # выполняем стеминг\n",
    "            for t in nltk_tokenize_word( # разбиваем текст на слова\n",
    "                re.sub(r'</?[a-z]+>',' ',text), # удаляем xml tag \n",
    "                language='russian'\n",
    "            ) \n",
    "            if not (\n",
    "               (len(t)<3) # выкидываем очень короткие слова\n",
    "               or re.match(r'^[^a-zA-ZЁёА-я]+$', t) # выкидываем токены не содержащие букв\n",
    "               or re.match(r'^(\\w)\\1+$', t)  # выкидываем токены из одного повторяющегося символа\n",
    "               or re.match(r'^[^a-zA-ZЁёА-я].*$', t)  # выкидываем токены начинающиеся не с буквы\n",
    "               or (t in stopwords) # выкидываем предлоги, союзы и т.п.    \n",
    "            )\n",
    "        ] \n",
    "    \n",
    "# data['text'].progress_apply(tokenizer)"
   ]
  },
  {
   "cell_type": "markdown",
   "metadata": {},
   "source": [
    "## выполняем частотный анализ"
   ]
  },
  {
   "cell_type": "code",
   "execution_count": 8,
   "metadata": {},
   "outputs": [
    {
     "name": "stdout",
     "output_type": "stream",
     "text": [
      "CPU times: user 21.1 s, sys: 9.9 ms, total: 21.1 s\n",
      "Wall time: 21.1 s\n"
     ]
    }
   ],
   "source": [
    "%%time\n",
    "\n",
    "from sklearn.feature_extraction.text import TfidfVectorizer\n",
    "\n",
    "# использования токенайзера вместе с векторайзером\n",
    "tf_model = TfidfVectorizer(\n",
    "        use_idf=False, # не используем обратную частоту\n",
    "        norm='l2', # нормируем TF\n",
    "        tokenizer=tokenizer, # ф-ция токенайзер\n",
    "        token_pattern=None, # отключаем дефолтный токенайзер\n",
    "    )\n",
    "\n",
    "\n",
    "data_tf = tf_model.fit_transform( data['text'] )"
   ]
  },
  {
   "cell_type": "code",
   "execution_count": 11,
   "metadata": {},
   "outputs": [
    {
     "data": {
      "text/plain": [
       "(3196, 37571)"
      ]
     },
     "execution_count": 11,
     "metadata": {},
     "output_type": "execute_result"
    }
   ],
   "source": [
    "data_tf.shape"
   ]
  },
  {
   "cell_type": "code",
   "execution_count": 10,
   "metadata": {},
   "outputs": [
    {
     "name": "stdout",
     "output_type": "stream",
     "text": [
      "37571\n"
     ]
    },
    {
     "data": {
      "text/plain": [
       "27952            раскалыва\n",
       "2930               tamaris\n",
       "15513                коньк\n",
       "13246                икард\n",
       "30802             сожалеют\n",
       "28174            расчехлен\n",
       "30288               сконча\n",
       "4629                  асад\n",
       "30140                  сип\n",
       "3138                  v-ec\n",
       "2054                   nbc\n",
       "31015           сосредоточ\n",
       "24430             подопытн\n",
       "24316                подел\n",
       "1225              goals.by\n",
       "28494             ремонтир\n",
       "8983                 глазн\n",
       "3828               агресії\n",
       "3594              абульфаз\n",
       "28152             растянут\n",
       "9795                 данис\n",
       "1122           freebsddoug\n",
       "19723             нафтогаз\n",
       "6021                  брав\n",
       "14559                   ки\n",
       "14079              кальсон\n",
       "14414           кафедральн\n",
       "17055             лохотрон\n",
       "34594            федеральн\n",
       "18705    монографии-альбом\n",
       "dtype: object"
      ]
     },
     "execution_count": 10,
     "metadata": {},
     "output_type": "execute_result"
    }
   ],
   "source": [
    "vcb1 = sorted(tf_model.vocabulary_)\n",
    "print(len(vcb1))\n",
    "pd.Series(vcb1).sample(30)"
   ]
  },
  {
   "cell_type": "markdown",
   "metadata": {},
   "source": [
    "## формируем датасеты"
   ]
  },
  {
   "cell_type": "code",
   "execution_count": 12,
   "metadata": {},
   "outputs": [
    {
     "data": {
      "text/plain": [
       "{'auto': 0,\n",
       " 'culture': 1,\n",
       " 'economics': 2,\n",
       " 'health': 3,\n",
       " 'incident': 4,\n",
       " 'politics': 5,\n",
       " 'realty': 6,\n",
       " 'reclama': 7,\n",
       " 'science': 8,\n",
       " 'social': 9,\n",
       " 'sport': 10,\n",
       " 'tech': 11,\n",
       " 'woman': 12}"
      ]
     },
     "execution_count": 12,
     "metadata": {},
     "output_type": "execute_result"
    }
   ],
   "source": [
    "labels = { t:i for i,t in enumerate(sorted(set(data['tag']))) }\n",
    "labels"
   ]
  },
  {
   "cell_type": "code",
   "execution_count": 13,
   "metadata": {},
   "outputs": [
    {
     "data": {
      "text/plain": [
       "array([5, 1, 1, ..., 8, 5, 9])"
      ]
     },
     "execution_count": 13,
     "metadata": {},
     "output_type": "execute_result"
    }
   ],
   "source": [
    "y = data['tag'].map(labels).values\n",
    "y"
   ]
  },
  {
   "cell_type": "code",
   "execution_count": 15,
   "metadata": {},
   "outputs": [
    {
     "data": {
      "text/plain": [
       "((2237, 37571), (2237,), (959, 37571), (959,))"
      ]
     },
     "execution_count": 15,
     "metadata": {},
     "output_type": "execute_result"
    }
   ],
   "source": [
    "from sklearn.model_selection import train_test_split\n",
    "\n",
    "X_train, X_test, y_train, y_test = train_test_split( data_tf, y, test_size=0.3, random_state=326 )\n",
    "X_train.shape, y_train.shape, X_test.shape, y_test.shape"
   ]
  },
  {
   "cell_type": "markdown",
   "metadata": {},
   "source": [
    "## обучаем классификатор"
   ]
  },
  {
   "cell_type": "code",
   "execution_count": 16,
   "metadata": {},
   "outputs": [
    {
     "data": {
      "text/html": [
       "<style>#sk-container-id-1 {color: black;background-color: white;}#sk-container-id-1 pre{padding: 0;}#sk-container-id-1 div.sk-toggleable {background-color: white;}#sk-container-id-1 label.sk-toggleable__label {cursor: pointer;display: block;width: 100%;margin-bottom: 0;padding: 0.3em;box-sizing: border-box;text-align: center;}#sk-container-id-1 label.sk-toggleable__label-arrow:before {content: \"▸\";float: left;margin-right: 0.25em;color: #696969;}#sk-container-id-1 label.sk-toggleable__label-arrow:hover:before {color: black;}#sk-container-id-1 div.sk-estimator:hover label.sk-toggleable__label-arrow:before {color: black;}#sk-container-id-1 div.sk-toggleable__content {max-height: 0;max-width: 0;overflow: hidden;text-align: left;background-color: #f0f8ff;}#sk-container-id-1 div.sk-toggleable__content pre {margin: 0.2em;color: black;border-radius: 0.25em;background-color: #f0f8ff;}#sk-container-id-1 input.sk-toggleable__control:checked~div.sk-toggleable__content {max-height: 200px;max-width: 100%;overflow: auto;}#sk-container-id-1 input.sk-toggleable__control:checked~label.sk-toggleable__label-arrow:before {content: \"▾\";}#sk-container-id-1 div.sk-estimator input.sk-toggleable__control:checked~label.sk-toggleable__label {background-color: #d4ebff;}#sk-container-id-1 div.sk-label input.sk-toggleable__control:checked~label.sk-toggleable__label {background-color: #d4ebff;}#sk-container-id-1 input.sk-hidden--visually {border: 0;clip: rect(1px 1px 1px 1px);clip: rect(1px, 1px, 1px, 1px);height: 1px;margin: -1px;overflow: hidden;padding: 0;position: absolute;width: 1px;}#sk-container-id-1 div.sk-estimator {font-family: monospace;background-color: #f0f8ff;border: 1px dotted black;border-radius: 0.25em;box-sizing: border-box;margin-bottom: 0.5em;}#sk-container-id-1 div.sk-estimator:hover {background-color: #d4ebff;}#sk-container-id-1 div.sk-parallel-item::after {content: \"\";width: 100%;border-bottom: 1px solid gray;flex-grow: 1;}#sk-container-id-1 div.sk-label:hover label.sk-toggleable__label {background-color: #d4ebff;}#sk-container-id-1 div.sk-serial::before {content: \"\";position: absolute;border-left: 1px solid gray;box-sizing: border-box;top: 0;bottom: 0;left: 50%;z-index: 0;}#sk-container-id-1 div.sk-serial {display: flex;flex-direction: column;align-items: center;background-color: white;padding-right: 0.2em;padding-left: 0.2em;position: relative;}#sk-container-id-1 div.sk-item {position: relative;z-index: 1;}#sk-container-id-1 div.sk-parallel {display: flex;align-items: stretch;justify-content: center;background-color: white;position: relative;}#sk-container-id-1 div.sk-item::before, #sk-container-id-1 div.sk-parallel-item::before {content: \"\";position: absolute;border-left: 1px solid gray;box-sizing: border-box;top: 0;bottom: 0;left: 50%;z-index: -1;}#sk-container-id-1 div.sk-parallel-item {display: flex;flex-direction: column;z-index: 1;position: relative;background-color: white;}#sk-container-id-1 div.sk-parallel-item:first-child::after {align-self: flex-end;width: 50%;}#sk-container-id-1 div.sk-parallel-item:last-child::after {align-self: flex-start;width: 50%;}#sk-container-id-1 div.sk-parallel-item:only-child::after {width: 0;}#sk-container-id-1 div.sk-dashed-wrapped {border: 1px dashed gray;margin: 0 0.4em 0.5em 0.4em;box-sizing: border-box;padding-bottom: 0.4em;background-color: white;}#sk-container-id-1 div.sk-label label {font-family: monospace;font-weight: bold;display: inline-block;line-height: 1.2em;}#sk-container-id-1 div.sk-label-container {text-align: center;}#sk-container-id-1 div.sk-container {/* jupyter's `normalize.less` sets `[hidden] { display: none; }` but bootstrap.min.css set `[hidden] { display: none !important; }` so we also need the `!important` here to be able to override the default hidden behavior on the sphinx rendered scikit-learn.org. See: https://github.com/scikit-learn/scikit-learn/issues/21755 */display: inline-block !important;position: relative;}#sk-container-id-1 div.sk-text-repr-fallback {display: none;}</style><div id=\"sk-container-id-1\" class=\"sk-top-container\"><div class=\"sk-text-repr-fallback\"><pre>SGDClassifier(tol=0.19)</pre><b>In a Jupyter environment, please rerun this cell to show the HTML representation or trust the notebook. <br />On GitHub, the HTML representation is unable to render, please try loading this page with nbviewer.org.</b></div><div class=\"sk-container\" hidden><div class=\"sk-item\"><div class=\"sk-estimator sk-toggleable\"><input class=\"sk-toggleable__control sk-hidden--visually\" id=\"sk-estimator-id-1\" type=\"checkbox\" checked><label for=\"sk-estimator-id-1\" class=\"sk-toggleable__label sk-toggleable__label-arrow\">SGDClassifier</label><div class=\"sk-toggleable__content\"><pre>SGDClassifier(tol=0.19)</pre></div></div></div></div></div>"
      ],
      "text/plain": [
       "SGDClassifier(tol=0.19)"
      ]
     },
     "execution_count": 16,
     "metadata": {},
     "output_type": "execute_result"
    }
   ],
   "source": [
    "from sklearn.linear_model import SGDClassifier\n",
    "\n",
    "clf = SGDClassifier(loss='hinge',max_iter=1000, tol=0.19)\n",
    "clf.fit(X_train,y_train)"
   ]
  },
  {
   "cell_type": "markdown",
   "metadata": {},
   "source": [
    "## тестируем"
   ]
  },
  {
   "cell_type": "code",
   "execution_count": 18,
   "metadata": {},
   "outputs": [],
   "source": [
    "from sklearn.metrics import confusion_matrix\n",
    "from sklearn.metrics import classification_report\n",
    "from sklearn.metrics import accuracy_score"
   ]
  },
  {
   "cell_type": "code",
   "execution_count": 19,
   "metadata": {},
   "outputs": [
    {
     "data": {
      "text/plain": [
       "0.9995529727313366"
      ]
     },
     "execution_count": 19,
     "metadata": {},
     "output_type": "execute_result"
    }
   ],
   "source": [
    "# для правильный ответов на учебном наборе\n",
    "o = clf.predict(X_train)\n",
    "accuracy_score(y_train,o)"
   ]
  },
  {
   "cell_type": "code",
   "execution_count": 20,
   "metadata": {},
   "outputs": [
    {
     "data": {
      "text/plain": [
       "0.8706986444212722"
      ]
     },
     "execution_count": 20,
     "metadata": {},
     "output_type": "execute_result"
    }
   ],
   "source": [
    "# для правильный ответов на тестовом наборе\n",
    "o = clf.predict(X_test)\n",
    "accuracy_score(y_test,o)"
   ]
  },
  {
   "cell_type": "code",
   "execution_count": 21,
   "metadata": {},
   "outputs": [
    {
     "name": "stdout",
     "output_type": "stream",
     "text": [
      "              precision    recall  f1-score   support\n",
      "\n",
      "           0       0.95      0.84      0.89        87\n",
      "           1       0.83      0.95      0.88       101\n",
      "           2       0.82      0.84      0.83        76\n",
      "           3       0.83      0.77      0.80        31\n",
      "           4       0.90      0.92      0.91       123\n",
      "           5       0.87      0.94      0.91       177\n",
      "           6       0.93      0.67      0.78        21\n",
      "           7       0.79      0.65      0.71        17\n",
      "           8       0.86      1.00      0.93        68\n",
      "           9       0.50      0.34      0.41        44\n",
      "          10       0.98      0.99      0.99       118\n",
      "          11       0.86      0.76      0.81        89\n",
      "          12       1.00      0.71      0.83         7\n",
      "\n",
      "    accuracy                           0.87       959\n",
      "   macro avg       0.85      0.80      0.82       959\n",
      "weighted avg       0.87      0.87      0.87       959\n",
      "\n"
     ]
    }
   ],
   "source": [
    "print( classification_report(y_test,o) )"
   ]
  },
  {
   "cell_type": "markdown",
   "metadata": {},
   "source": [
    "---"
   ]
  },
  {
   "cell_type": "code",
   "execution_count": 23,
   "metadata": {},
   "outputs": [
    {
     "data": {
      "image/png": "[encoded data removed]",
      "text/plain": [
       "<Figure size 1000x900 with 2 Axes>"
      ]
     },
     "metadata": {},
     "output_type": "display_data"
    }
   ],
   "source": [
    "import numpy as np\n",
    "from matplotlib import pyplot as plt\n",
    "import itertools\n",
    "\n",
    "classes = sorted(labels.keys())\n",
    "cm = confusion_matrix(y_test,o)\n",
    "tick_marks = np.arange(len(classes))\n",
    "\n",
    "plt.figure(figsize=(10,9))\n",
    "\n",
    "plt.xticks(tick_marks, classes, rotation=45)\n",
    "plt.yticks(tick_marks, classes)\n",
    "\n",
    "thresh = cm.max() / 2.\n",
    "for i, j in itertools.product(range(cm.shape[0]), range(cm.shape[1])):\n",
    "    plt.text(j, i, format(cm[i, j], 'd'),\n",
    "             horizontalalignment=\"center\",\n",
    "             color=\"white\" if cm[i, j] > thresh else \"black\")\n",
    "\n",
    "plt.title('Confusion matrix')\n",
    "plt.tight_layout()\n",
    "plt.ylabel('True label')\n",
    "plt.xlabel('Predicted label')\n",
    "plt.imshow(cm, interpolation='nearest', cmap=plt.cm.Blues)\n",
    "plt.colorbar()\n",
    "\n",
    "plt.show()"
   ]
  },
  {
   "cell_type": "code",
   "execution_count": 40,
   "metadata": {},
   "outputs": [],
   "source": [
    "data['predict'] = pd.Series( clf.predict(data_tf) ).map( { labels[k]:k for k in labels } )"
   ]
  },
  {
   "cell_type": "code",
   "execution_count": 75,
   "metadata": {},
   "outputs": [
    {
     "data": {
      "text/html": [
       "<div>\n",
       "<style scoped>\n",
       "    .dataframe tbody tr th:only-of-type {\n",
       "        vertical-align: middle;\n",
       "    }\n",
       "\n",
       "    .dataframe tbody tr th {\n",
       "        vertical-align: top;\n",
       "    }\n",
       "\n",
       "    .dataframe thead th {\n",
       "        text-align: right;\n",
       "    }\n",
       "</style>\n",
       "<table border=\"1\" class=\"dataframe\">\n",
       "  <thead>\n",
       "    <tr style=\"text-align: right;\">\n",
       "      <th></th>\n",
       "      <th>text</th>\n",
       "      <th>tag</th>\n",
       "      <th>predict</th>\n",
       "    </tr>\n",
       "  </thead>\n",
       "  <tbody>\n",
       "    <tr>\n",
       "      <th>0</th>\n",
       "      <td>В Саудовской Аравии сняли первый антитеррористический мультфильм -\\nтрехминутную ленту \"Внимание!\". \"Внимание!\" отражает точку зрения мирового\\nсообщества на войну, развязанную терроризмом, и поэт...</td>\n",
       "      <td>politics</td>\n",
       "      <td>culture</td>\n",
       "    </tr>\n",
       "    <tr>\n",
       "      <th>1</th>\n",
       "      <td>Вчера вечером в Японии состоялась премьера голливудского фильма о гейшах,\\nвызвавшая негодование в связи с тем, что эти девушки представлены\\nпроститутками, а играющие их актрисы - китаянки. Мало ...</td>\n",
       "      <td>culture</td>\n",
       "      <td>culture</td>\n",
       "    </tr>\n",
       "    <tr>\n",
       "      <th>2</th>\n",
       "      <td>Российский кинорежиссер и генеральный директор киноконцерна \"Мосфильм\"\\nКарен Шахназаров награжден \"Золотой пирамидой\" на XXIX Каирском кинофестивале\\nза выдающийся вклад в мировое киноискусство. ...</td>\n",
       "      <td>culture</td>\n",
       "      <td>culture</td>\n",
       "    </tr>\n",
       "    <tr>\n",
       "      <th>3</th>\n",
       "      <td>30 ноября выдающейся российской балерине Майе Плисецкой будет вручена\\nмедаль имени княгини Барборы Радвилайте. Церемония награждения состоится\\nв Вильнюсе в Литовском национальном театре оперы и ...</td>\n",
       "      <td>culture</td>\n",
       "      <td>culture</td>\n",
       "    </tr>\n",
       "    <tr>\n",
       "      <th>4</th>\n",
       "      <td>Гарольд Пинтер не приедет за Нобелевской премией из-за болезниАнглийский\\nдраматург Гарольд Пинтер, получивший Нобелевскую премию по литературе в\\n2005 году, отправит в Стокгольм видеозапись своей...</td>\n",
       "      <td>culture</td>\n",
       "      <td>culture</td>\n",
       "    </tr>\n",
       "    <tr>\n",
       "      <th>...</th>\n",
       "      <td>...</td>\n",
       "      <td>...</td>\n",
       "      <td>...</td>\n",
       "    </tr>\n",
       "    <tr>\n",
       "      <th>3191</th>\n",
       "      <td>Православие.Ру В сентябре 2010 года Святейший Патриарх Кирилл посетит Камчатку\\nВопросы подготовки к поездке Предстоятеля Русской Православной Церкви на\\nКамчатку обсуждались на встрече Святейшего...</td>\n",
       "      <td>social</td>\n",
       "      <td>social</td>\n",
       "    </tr>\n",
       "    <tr>\n",
       "      <th>3192</th>\n",
       "      <td>Интерфакс Религия (interfax-religion.ru) В Минрегионразвития призывают\\nроссиян не бояться своего духовного наследия подобно Европе В министерстве\\nрегионального развития РФ считают крайне важным ...</td>\n",
       "      <td>social</td>\n",
       "      <td>culture</td>\n",
       "    </tr>\n",
       "    <tr>\n",
       "      <th>3193</th>\n",
       "      <td>Окно возможностей В Эвенкинском муниципальном районе приступили к\\nисследованию традиционного уклада жизни. В Эвенкию прибыла экспедиция под\\nруководством профессора, заведующего кафедрой менеджме...</td>\n",
       "      <td>science</td>\n",
       "      <td>science</td>\n",
       "    </tr>\n",
       "    <tr>\n",
       "      <th>3194</th>\n",
       "      <td>ИТАР-ТАСС. Новости из властных структур.  Совет Федерации предлагает определить\\nособенности традиционной охоты коренных народов Севера, Сибири и Дальнего\\nВостока Совет Федерации внес на рассмотр...</td>\n",
       "      <td>politics</td>\n",
       "      <td>politics</td>\n",
       "    </tr>\n",
       "    <tr>\n",
       "      <th>3195</th>\n",
       "      <td>Вечерний Магадан (Магадан) Охотское территориальное управление по адресу город\\nМагадан, улица Марчеканская, 1, производит выдачу решений о предоставлении\\nводных биологических ресурсов для гражда...</td>\n",
       "      <td>social</td>\n",
       "      <td>social</td>\n",
       "    </tr>\n",
       "  </tbody>\n",
       "</table>\n",
       "<p>3196 rows × 3 columns</p>\n",
       "</div>"
      ],
      "text/plain": [
       "                                                                                                                                                                                                         text  \\\n",
       "0     В Саудовской Аравии сняли первый антитеррористический мультфильм -\\nтрехминутную ленту \"Внимание!\". \"Внимание!\" отражает точку зрения мирового\\nсообщества на войну, развязанную терроризмом, и поэт...   \n",
       "1     Вчера вечером в Японии состоялась премьера голливудского фильма о гейшах,\\nвызвавшая негодование в связи с тем, что эти девушки представлены\\nпроститутками, а играющие их актрисы - китаянки. Мало ...   \n",
       "2     Российский кинорежиссер и генеральный директор киноконцерна \"Мосфильм\"\\nКарен Шахназаров награжден \"Золотой пирамидой\" на XXIX Каирском кинофестивале\\nза выдающийся вклад в мировое киноискусство. ...   \n",
       "3     30 ноября выдающейся российской балерине Майе Плисецкой будет вручена\\nмедаль имени княгини Барборы Радвилайте. Церемония награждения состоится\\nв Вильнюсе в Литовском национальном театре оперы и ...   \n",
       "4     Гарольд Пинтер не приедет за Нобелевской премией из-за болезниАнглийский\\nдраматург Гарольд Пинтер, получивший Нобелевскую премию по литературе в\\n2005 году, отправит в Стокгольм видеозапись своей...   \n",
       "...                                                                                                                                                                                                       ...   \n",
       "3191  Православие.Ру В сентябре 2010 года Святейший Патриарх Кирилл посетит Камчатку\\nВопросы подготовки к поездке Предстоятеля Русской Православной Церкви на\\nКамчатку обсуждались на встрече Святейшего...   \n",
       "3192  Интерфакс Религия (interfax-religion.ru) В Минрегионразвития призывают\\nроссиян не бояться своего духовного наследия подобно Европе В министерстве\\nрегионального развития РФ считают крайне важным ...   \n",
       "3193  Окно возможностей В Эвенкинском муниципальном районе приступили к\\nисследованию традиционного уклада жизни. В Эвенкию прибыла экспедиция под\\nруководством профессора, заведующего кафедрой менеджме...   \n",
       "3194  ИТАР-ТАСС. Новости из властных структур.  Совет Федерации предлагает определить\\nособенности традиционной охоты коренных народов Севера, Сибири и Дальнего\\nВостока Совет Федерации внес на рассмотр...   \n",
       "3195  Вечерний Магадан (Магадан) Охотское территориальное управление по адресу город\\nМагадан, улица Марчеканская, 1, производит выдачу решений о предоставлении\\nводных биологических ресурсов для гражда...   \n",
       "\n",
       "           tag   predict  \n",
       "0     politics   culture  \n",
       "1      culture   culture  \n",
       "2      culture   culture  \n",
       "3      culture   culture  \n",
       "4      culture   culture  \n",
       "...        ...       ...  \n",
       "3191    social    social  \n",
       "3192    social   culture  \n",
       "3193   science   science  \n",
       "3194  politics  politics  \n",
       "3195    social    social  \n",
       "\n",
       "[3196 rows x 3 columns]"
      ]
     },
     "execution_count": 75,
     "metadata": {},
     "output_type": "execute_result"
    }
   ],
   "source": [
    "data"
   ]
  },
  {
   "cell_type": "code",
   "execution_count": null,
   "metadata": {},
   "outputs": [],
   "source": [
    "# Введение в анализ текстовой информации с помощью Python и методов машинного обучения\n",
    "# https://habr.com/ru/post/205360/"
   ]
  }
 ],
 "metadata": {
  "kernelspec": {
   "display_name": "Python 3 (ipykernel)",
   "language": "python",
   "name": "python3"
  },
  "language_info": {
   "codemirror_mode": {
    "name": "ipython",
    "version": 3
   },
   "file_extension": ".py",
   "mimetype": "text/x-python",
   "name": "python",
   "nbconvert_exporter": "python",
   "pygments_lexer": "ipython3",
   "version": "3.10.8"
  },
  "toc": {
   "base_numbering": 1,
   "nav_menu": {},
   "number_sections": true,
   "sideBar": true,
   "skip_h1_title": false,
   "title_cell": "Table of Contents",
   "title_sidebar": "Contents",
   "toc_cell": false,
   "toc_position": {},
   "toc_section_display": true,
   "toc_window_display": false
  }
 },
 "nbformat": 4,
 "nbformat_minor": 2
}
