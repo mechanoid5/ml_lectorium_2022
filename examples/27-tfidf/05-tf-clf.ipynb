{
 "cells": [
  {
   "cell_type": "markdown",
   "metadata": {},
   "source": [
    "**классификатор текстов**\n",
    "\n",
    "SnowballStemmer+TfidfVectorizer\n",
    "\n",
    "_Евгений Борисов <esborisov@sevsu.ru>_"
   ]
  },
  {
   "cell_type": "markdown",
   "metadata": {},
   "source": [
    "## тексты"
   ]
  },
  {
   "cell_type": "code",
   "execution_count": 1,
   "metadata": {},
   "outputs": [],
   "source": [
    "import pandas as pd\n",
    "pd.options.display.precision = 2 \n",
    "pd.options.display.max_colwidth = 200 \n",
    "\n",
    "from tqdm.notebook import tqdm\n",
    "tqdm.pandas()"
   ]
  },
  {
   "cell_type": "code",
   "execution_count": 2,
   "metadata": {},
   "outputs": [
    {
     "name": "stdout",
     "output_type": "stream",
     "text": [
      "записей: 3196\n"
     ]
    },
    {
     "data": {
      "text/html": [
       "<div>\n",
       "<style scoped>\n",
       "    .dataframe tbody tr th:only-of-type {\n",
       "        vertical-align: middle;\n",
       "    }\n",
       "\n",
       "    .dataframe tbody tr th {\n",
       "        vertical-align: top;\n",
       "    }\n",
       "\n",
       "    .dataframe thead th {\n",
       "        text-align: right;\n",
       "    }\n",
       "</style>\n",
       "<table border=\"1\" class=\"dataframe\">\n",
       "  <thead>\n",
       "    <tr style=\"text-align: right;\">\n",
       "      <th></th>\n",
       "      <th>text</th>\n",
       "      <th>tag</th>\n",
       "    </tr>\n",
       "  </thead>\n",
       "  <tbody>\n",
       "    <tr>\n",
       "      <th>2777</th>\n",
       "      <td>Специалисты Apple планируют начать широкомасштабную кампанию по борьбе со спамом в стандартном для «яблочных» гаджетов приложении «Календарь» из macOS и iOS. В последнее время пользователи активно...</td>\n",
       "      <td>tech</td>\n",
       "    </tr>\n",
       "    <tr>\n",
       "      <th>1891</th>\n",
       "      <td>В Париже найдена неизвестная работа Леонардо да Винчи. Стоимость работы оценивается в €15 млн, передает издание Telegraph.\\n\\nСообщается, что в марте текущего года французский доктор на пенсии, по...</td>\n",
       "      <td>culture</td>\n",
       "    </tr>\n",
       "  </tbody>\n",
       "</table>\n",
       "</div>"
      ],
      "text/plain": [
       "                                                                                                                                                                                                         text  \\\n",
       "2777  Специалисты Apple планируют начать широкомасштабную кампанию по борьбе со спамом в стандартном для «яблочных» гаджетов приложении «Календарь» из macOS и iOS. В последнее время пользователи активно...   \n",
       "1891  В Париже найдена неизвестная работа Леонардо да Винчи. Стоимость работы оценивается в €15 млн, передает издание Telegraph.\\n\\nСообщается, что в марте текущего года французский доктор на пенсии, по...   \n",
       "\n",
       "          tag  \n",
       "2777     tech  \n",
       "1891  culture  "
      ]
     },
     "execution_count": 2,
     "metadata": {},
     "output_type": "execute_result"
    }
   ],
   "source": [
    "# загружаем тексты\n",
    "data = pd.read_pickle('../data/news.pkl.gz')\n",
    "print('записей:',len(data))\n",
    "data.sample(2)"
   ]
  },
  {
   "cell_type": "markdown",
   "metadata": {},
   "source": [
    "## токенайзер со стемингом и очисткой"
   ]
  },
  {
   "cell_type": "code",
   "execution_count": 3,
   "metadata": {},
   "outputs": [],
   "source": [
    "# from nltk.tokenize import sent_tokenize as nltk_sentence_split\n",
    "from nltk.tokenize import word_tokenize as nltk_tokenize_word\n",
    "from nltk.stem.snowball import SnowballStemmer\n",
    "from nltk.corpus import stopwords as nltk_stopwords\n",
    "import re\n",
    "\n",
    "stemmer = SnowballStemmer('russian')\n",
    "stopwords = set(nltk_stopwords.words('russian'))\n",
    "\n",
    "\n",
    "\n",
    "def tokenizer(text,stemmer=stemmer,stopwords=stopwords):\n",
    "    return [\n",
    "            stemmer.stem(t) # выполняем стеминг\n",
    "            for t in nltk_tokenize_word( # разбиваем текст на слова\n",
    "                re.sub(r'</?[a-z]+>',' ',text), # удаляем xml tag \n",
    "                language='russian'\n",
    "            ) \n",
    "            if not (\n",
    "               (len(t)<3) # выкидываем очень короткие слова\n",
    "               or re.match(r'^[^a-zA-ZЁёА-я]+$', t) # выкидываем токены не содержащие букв\n",
    "               or re.match(r'^(\\w)\\1+$', t)  # выкидываем токены из одного повторяющегося символа\n",
    "               or re.match(r'^[^a-zA-ZЁёА-я].*$', t)  # выкидываем токены начинающиеся не с буквы\n",
    "               or (t in stopwords) # выкидываем предлоги, союзы и т.п.    \n",
    "            )\n",
    "        ] \n",
    "    \n",
    "# data['text'].progress_apply(tokenizer)"
   ]
  },
  {
   "cell_type": "markdown",
   "metadata": {},
   "source": [
    "## выполняем частотный анализ"
   ]
  },
  {
   "cell_type": "code",
   "execution_count": 4,
   "metadata": {},
   "outputs": [
    {
     "name": "stdout",
     "output_type": "stream",
     "text": [
      "CPU times: user 20.2 s, sys: 12.6 ms, total: 20.2 s\n",
      "Wall time: 20.2 s\n"
     ]
    }
   ],
   "source": [
    "%%time\n",
    "\n",
    "from sklearn.feature_extraction.text import TfidfVectorizer\n",
    "\n",
    "# использования токенайзера вместе с векторайзером\n",
    "tf_model = TfidfVectorizer(\n",
    "        use_idf=False, # не используем обратную частоту\n",
    "        norm='l2', # нормируем TF\n",
    "        tokenizer=tokenizer, # ф-ция токенайзер\n",
    "        token_pattern=None, # отключаем дефолтный токенайзер\n",
    "    )\n",
    "\n",
    "\n",
    "data_tf = tf_model.fit_transform( data['text'] )"
   ]
  },
  {
   "cell_type": "code",
   "execution_count": 5,
   "metadata": {},
   "outputs": [
    {
     "data": {
      "text/plain": [
       "(3196, 37571)"
      ]
     },
     "execution_count": 5,
     "metadata": {},
     "output_type": "execute_result"
    }
   ],
   "source": [
    "data_tf.shape"
   ]
  },
  {
   "cell_type": "code",
   "execution_count": 6,
   "metadata": {},
   "outputs": [
    {
     "name": "stdout",
     "output_type": "stream",
     "text": [
      "37571\n"
     ]
    },
    {
     "data": {
      "text/plain": [
       "30251        ски-пасс\n",
       "8163      выздоровлен\n",
       "7399             водн\n",
       "11157             дтп\n",
       "10062         декольт\n",
       "24019          по-ком\n",
       "4107          алогичн\n",
       "7422     водохранилищ\n",
       "9349            госсм\n",
       "16172    кузбассэнерг\n",
       "21303     общегородск\n",
       "6821         вертолет\n",
       "14685      кинохроник\n",
       "16248          кунг-ф\n",
       "36487      шкерманков\n",
       "34347          уточек\n",
       "36582         шоу-кар\n",
       "26774        произошл\n",
       "14454         квантов\n",
       "7162          виталик\n",
       "32210            сырн\n",
       "11521             еэк\n",
       "2991            tiggo\n",
       "31269          спирит\n",
       "14290       каролинск\n",
       "34173         уродств\n",
       "2867     stradivarius\n",
       "36984      электричек\n",
       "17808             мая\n",
       "27528         радикал\n",
       "dtype: object"
      ]
     },
     "execution_count": 6,
     "metadata": {},
     "output_type": "execute_result"
    }
   ],
   "source": [
    "vcb1 = sorted(tf_model.vocabulary_)\n",
    "print(len(vcb1))\n",
    "pd.Series(vcb1).sample(30)"
   ]
  },
  {
   "cell_type": "markdown",
   "metadata": {},
   "source": [
    "## формируем датасеты"
   ]
  },
  {
   "cell_type": "code",
   "execution_count": 7,
   "metadata": {},
   "outputs": [
    {
     "data": {
      "text/plain": [
       "{'auto': 0,\n",
       " 'culture': 1,\n",
       " 'economics': 2,\n",
       " 'health': 3,\n",
       " 'incident': 4,\n",
       " 'politics': 5,\n",
       " 'realty': 6,\n",
       " 'reclama': 7,\n",
       " 'science': 8,\n",
       " 'social': 9,\n",
       " 'sport': 10,\n",
       " 'tech': 11,\n",
       " 'woman': 12}"
      ]
     },
     "execution_count": 7,
     "metadata": {},
     "output_type": "execute_result"
    }
   ],
   "source": [
    "labels = { t:i for i,t in enumerate(sorted(set(data['tag']))) }\n",
    "labels"
   ]
  },
  {
   "cell_type": "code",
   "execution_count": 8,
   "metadata": {},
   "outputs": [
    {
     "data": {
      "text/plain": [
       "array([5, 1, 1, ..., 8, 5, 9])"
      ]
     },
     "execution_count": 8,
     "metadata": {},
     "output_type": "execute_result"
    }
   ],
   "source": [
    "y = data['tag'].map(labels).values\n",
    "y"
   ]
  },
  {
   "cell_type": "code",
   "execution_count": 9,
   "metadata": {},
   "outputs": [
    {
     "data": {
      "text/plain": [
       "((2237, 37571), (2237,), (959, 37571), (959,))"
      ]
     },
     "execution_count": 9,
     "metadata": {},
     "output_type": "execute_result"
    }
   ],
   "source": [
    "from sklearn.model_selection import train_test_split\n",
    "\n",
    "X_train, X_test, y_train, y_test = train_test_split( data_tf, y, test_size=0.3, random_state=326 )\n",
    "X_train.shape, y_train.shape, X_test.shape, y_test.shape"
   ]
  },
  {
   "cell_type": "markdown",
   "metadata": {},
   "source": [
    "## обучаем классификатор"
   ]
  },
  {
   "cell_type": "code",
   "execution_count": 10,
   "metadata": {},
   "outputs": [
    {
     "data": {
      "text/html": [
       "<style>#sk-container-id-1 {color: black;background-color: white;}#sk-container-id-1 pre{padding: 0;}#sk-container-id-1 div.sk-toggleable {background-color: white;}#sk-container-id-1 label.sk-toggleable__label {cursor: pointer;display: block;width: 100%;margin-bottom: 0;padding: 0.3em;box-sizing: border-box;text-align: center;}#sk-container-id-1 label.sk-toggleable__label-arrow:before {content: \"▸\";float: left;margin-right: 0.25em;color: #696969;}#sk-container-id-1 label.sk-toggleable__label-arrow:hover:before {color: black;}#sk-container-id-1 div.sk-estimator:hover label.sk-toggleable__label-arrow:before {color: black;}#sk-container-id-1 div.sk-toggleable__content {max-height: 0;max-width: 0;overflow: hidden;text-align: left;background-color: #f0f8ff;}#sk-container-id-1 div.sk-toggleable__content pre {margin: 0.2em;color: black;border-radius: 0.25em;background-color: #f0f8ff;}#sk-container-id-1 input.sk-toggleable__control:checked~div.sk-toggleable__content {max-height: 200px;max-width: 100%;overflow: auto;}#sk-container-id-1 input.sk-toggleable__control:checked~label.sk-toggleable__label-arrow:before {content: \"▾\";}#sk-container-id-1 div.sk-estimator input.sk-toggleable__control:checked~label.sk-toggleable__label {background-color: #d4ebff;}#sk-container-id-1 div.sk-label input.sk-toggleable__control:checked~label.sk-toggleable__label {background-color: #d4ebff;}#sk-container-id-1 input.sk-hidden--visually {border: 0;clip: rect(1px 1px 1px 1px);clip: rect(1px, 1px, 1px, 1px);height: 1px;margin: -1px;overflow: hidden;padding: 0;position: absolute;width: 1px;}#sk-container-id-1 div.sk-estimator {font-family: monospace;background-color: #f0f8ff;border: 1px dotted black;border-radius: 0.25em;box-sizing: border-box;margin-bottom: 0.5em;}#sk-container-id-1 div.sk-estimator:hover {background-color: #d4ebff;}#sk-container-id-1 div.sk-parallel-item::after {content: \"\";width: 100%;border-bottom: 1px solid gray;flex-grow: 1;}#sk-container-id-1 div.sk-label:hover label.sk-toggleable__label {background-color: #d4ebff;}#sk-container-id-1 div.sk-serial::before {content: \"\";position: absolute;border-left: 1px solid gray;box-sizing: border-box;top: 0;bottom: 0;left: 50%;z-index: 0;}#sk-container-id-1 div.sk-serial {display: flex;flex-direction: column;align-items: center;background-color: white;padding-right: 0.2em;padding-left: 0.2em;position: relative;}#sk-container-id-1 div.sk-item {position: relative;z-index: 1;}#sk-container-id-1 div.sk-parallel {display: flex;align-items: stretch;justify-content: center;background-color: white;position: relative;}#sk-container-id-1 div.sk-item::before, #sk-container-id-1 div.sk-parallel-item::before {content: \"\";position: absolute;border-left: 1px solid gray;box-sizing: border-box;top: 0;bottom: 0;left: 50%;z-index: -1;}#sk-container-id-1 div.sk-parallel-item {display: flex;flex-direction: column;z-index: 1;position: relative;background-color: white;}#sk-container-id-1 div.sk-parallel-item:first-child::after {align-self: flex-end;width: 50%;}#sk-container-id-1 div.sk-parallel-item:last-child::after {align-self: flex-start;width: 50%;}#sk-container-id-1 div.sk-parallel-item:only-child::after {width: 0;}#sk-container-id-1 div.sk-dashed-wrapped {border: 1px dashed gray;margin: 0 0.4em 0.5em 0.4em;box-sizing: border-box;padding-bottom: 0.4em;background-color: white;}#sk-container-id-1 div.sk-label label {font-family: monospace;font-weight: bold;display: inline-block;line-height: 1.2em;}#sk-container-id-1 div.sk-label-container {text-align: center;}#sk-container-id-1 div.sk-container {/* jupyter's `normalize.less` sets `[hidden] { display: none; }` but bootstrap.min.css set `[hidden] { display: none !important; }` so we also need the `!important` here to be able to override the default hidden behavior on the sphinx rendered scikit-learn.org. See: https://github.com/scikit-learn/scikit-learn/issues/21755 */display: inline-block !important;position: relative;}#sk-container-id-1 div.sk-text-repr-fallback {display: none;}</style><div id=\"sk-container-id-1\" class=\"sk-top-container\"><div class=\"sk-text-repr-fallback\"><pre>SGDClassifier(tol=0.19)</pre><b>In a Jupyter environment, please rerun this cell to show the HTML representation or trust the notebook. <br />On GitHub, the HTML representation is unable to render, please try loading this page with nbviewer.org.</b></div><div class=\"sk-container\" hidden><div class=\"sk-item\"><div class=\"sk-estimator sk-toggleable\"><input class=\"sk-toggleable__control sk-hidden--visually\" id=\"sk-estimator-id-1\" type=\"checkbox\" checked><label for=\"sk-estimator-id-1\" class=\"sk-toggleable__label sk-toggleable__label-arrow\">SGDClassifier</label><div class=\"sk-toggleable__content\"><pre>SGDClassifier(tol=0.19)</pre></div></div></div></div></div>"
      ],
      "text/plain": [
       "SGDClassifier(tol=0.19)"
      ]
     },
     "execution_count": 10,
     "metadata": {},
     "output_type": "execute_result"
    }
   ],
   "source": [
    "from sklearn.linear_model import SGDClassifier\n",
    "\n",
    "clf = SGDClassifier(loss='hinge',max_iter=1000, tol=0.19)\n",
    "clf.fit(X_train,y_train)"
   ]
  },
  {
   "cell_type": "markdown",
   "metadata": {},
   "source": [
    "## тестируем"
   ]
  },
  {
   "cell_type": "code",
   "execution_count": 11,
   "metadata": {},
   "outputs": [],
   "source": [
    "from sklearn.metrics import confusion_matrix\n",
    "from sklearn.metrics import classification_report\n",
    "from sklearn.metrics import accuracy_score"
   ]
  },
  {
   "cell_type": "code",
   "execution_count": 12,
   "metadata": {},
   "outputs": [
    {
     "data": {
      "text/plain": [
       "0.9995529727313366"
      ]
     },
     "execution_count": 12,
     "metadata": {},
     "output_type": "execute_result"
    }
   ],
   "source": [
    "# для правильный ответов на учебном наборе\n",
    "o = clf.predict(X_train)\n",
    "accuracy_score(y_train,o)"
   ]
  },
  {
   "cell_type": "code",
   "execution_count": 13,
   "metadata": {},
   "outputs": [
    {
     "data": {
      "text/plain": [
       "0.8706986444212722"
      ]
     },
     "execution_count": 13,
     "metadata": {},
     "output_type": "execute_result"
    }
   ],
   "source": [
    "# для правильный ответов на тестовом наборе\n",
    "o = clf.predict(X_test)\n",
    "accuracy_score(y_test,o)"
   ]
  },
  {
   "cell_type": "code",
   "execution_count": 14,
   "metadata": {},
   "outputs": [
    {
     "name": "stdout",
     "output_type": "stream",
     "text": [
      "              precision    recall  f1-score   support\n",
      "\n",
      "           0       0.95      0.84      0.89        87\n",
      "           1       0.81      0.94      0.87       101\n",
      "           2       0.83      0.83      0.83        76\n",
      "           3       0.81      0.71      0.76        31\n",
      "           4       0.88      0.91      0.90       123\n",
      "           5       0.87      0.94      0.90       177\n",
      "           6       0.94      0.76      0.84        21\n",
      "           7       0.90      0.53      0.67        17\n",
      "           8       0.88      1.00      0.94        68\n",
      "           9       0.59      0.36      0.45        44\n",
      "          10       0.97      0.99      0.98       118\n",
      "          11       0.82      0.81      0.81        89\n",
      "          12       1.00      0.86      0.92         7\n",
      "\n",
      "    accuracy                           0.87       959\n",
      "   macro avg       0.87      0.81      0.83       959\n",
      "weighted avg       0.87      0.87      0.87       959\n",
      "\n"
     ]
    }
   ],
   "source": [
    "print( classification_report(y_test,o) )"
   ]
  },
  {
   "cell_type": "markdown",
   "metadata": {},
   "source": [
    "---"
   ]
  },
  {
   "cell_type": "code",
   "execution_count": 26,
   "metadata": {},
   "outputs": [
    {
     "data": {
      "text/html": [
       "<style type=\"text/css\">\n",
       "#T_9c26b_row0_col0, #T_9c26b_row1_col1, #T_9c26b_row2_col2, #T_9c26b_row3_col3, #T_9c26b_row4_col4, #T_9c26b_row5_col5, #T_9c26b_row6_col6, #T_9c26b_row7_col7, #T_9c26b_row8_col8, #T_9c26b_row9_col9, #T_9c26b_row10_col10, #T_9c26b_row11_col11, #T_9c26b_row12_col12 {\n",
       "  background-color: #08306b;\n",
       "  color: #f1f1f1;\n",
       "}\n",
       "#T_9c26b_row0_col1, #T_9c26b_row0_col3, #T_9c26b_row0_col6, #T_9c26b_row0_col7, #T_9c26b_row0_col8, #T_9c26b_row0_col9, #T_9c26b_row0_col10, #T_9c26b_row0_col12, #T_9c26b_row1_col0, #T_9c26b_row1_col2, #T_9c26b_row1_col3, #T_9c26b_row1_col4, #T_9c26b_row1_col6, #T_9c26b_row1_col7, #T_9c26b_row1_col10, #T_9c26b_row1_col12, #T_9c26b_row2_col0, #T_9c26b_row2_col3, #T_9c26b_row2_col4, #T_9c26b_row2_col6, #T_9c26b_row2_col7, #T_9c26b_row2_col8, #T_9c26b_row2_col10, #T_9c26b_row2_col12, #T_9c26b_row3_col0, #T_9c26b_row3_col2, #T_9c26b_row3_col6, #T_9c26b_row3_col7, #T_9c26b_row3_col10, #T_9c26b_row3_col11, #T_9c26b_row3_col12, #T_9c26b_row4_col3, #T_9c26b_row4_col6, #T_9c26b_row4_col7, #T_9c26b_row4_col8, #T_9c26b_row4_col10, #T_9c26b_row4_col12, #T_9c26b_row5_col0, #T_9c26b_row5_col3, #T_9c26b_row5_col4, #T_9c26b_row5_col6, #T_9c26b_row5_col7, #T_9c26b_row5_col8, #T_9c26b_row5_col12, #T_9c26b_row6_col0, #T_9c26b_row6_col4, #T_9c26b_row6_col5, #T_9c26b_row6_col8, #T_9c26b_row6_col10, #T_9c26b_row6_col11, #T_9c26b_row6_col12, #T_9c26b_row7_col0, #T_9c26b_row7_col3, #T_9c26b_row7_col4, #T_9c26b_row7_col5, #T_9c26b_row7_col6, #T_9c26b_row7_col8, #T_9c26b_row7_col12, #T_9c26b_row8_col0, #T_9c26b_row8_col1, #T_9c26b_row8_col2, #T_9c26b_row8_col3, #T_9c26b_row8_col4, #T_9c26b_row8_col5, #T_9c26b_row8_col6, #T_9c26b_row8_col7, #T_9c26b_row8_col9, #T_9c26b_row8_col10, #T_9c26b_row8_col11, #T_9c26b_row8_col12, #T_9c26b_row9_col7, #T_9c26b_row9_col10, #T_9c26b_row9_col12, #T_9c26b_row10_col0, #T_9c26b_row10_col1, #T_9c26b_row10_col3, #T_9c26b_row10_col4, #T_9c26b_row10_col5, #T_9c26b_row10_col6, #T_9c26b_row10_col7, #T_9c26b_row10_col8, #T_9c26b_row10_col9, #T_9c26b_row10_col11, #T_9c26b_row10_col12, #T_9c26b_row11_col6, #T_9c26b_row11_col7, #T_9c26b_row11_col9, #T_9c26b_row11_col10, #T_9c26b_row11_col12, #T_9c26b_row12_col0, #T_9c26b_row12_col1, #T_9c26b_row12_col2, #T_9c26b_row12_col3, #T_9c26b_row12_col4, #T_9c26b_row12_col5, #T_9c26b_row12_col6, #T_9c26b_row12_col7, #T_9c26b_row12_col8, #T_9c26b_row12_col10, #T_9c26b_row12_col11 {\n",
       "  background-color: #f7fbff;\n",
       "  color: #000000;\n",
       "}\n",
       "#T_9c26b_row0_col2, #T_9c26b_row1_col5, #T_9c26b_row4_col2, #T_9c26b_row4_col5, #T_9c26b_row6_col2, #T_9c26b_row7_col2, #T_9c26b_row7_col10, #T_9c26b_row9_col4, #T_9c26b_row10_col2, #T_9c26b_row11_col4, #T_9c26b_row11_col5 {\n",
       "  background-color: #f4f9fe;\n",
       "  color: #000000;\n",
       "}\n",
       "#T_9c26b_row0_col4 {\n",
       "  background-color: #e6f0f9;\n",
       "  color: #000000;\n",
       "}\n",
       "#T_9c26b_row0_col5, #T_9c26b_row3_col5 {\n",
       "  background-color: #f6faff;\n",
       "  color: #000000;\n",
       "}\n",
       "#T_9c26b_row0_col11, #T_9c26b_row4_col0, #T_9c26b_row7_col11, #T_9c26b_row9_col5, #T_9c26b_row9_col8 {\n",
       "  background-color: #f2f7fd;\n",
       "  color: #000000;\n",
       "}\n",
       "#T_9c26b_row1_col8, #T_9c26b_row1_col11, #T_9c26b_row2_col11, #T_9c26b_row3_col8, #T_9c26b_row9_col0, #T_9c26b_row11_col0 {\n",
       "  background-color: #f5f9fe;\n",
       "  color: #000000;\n",
       "}\n",
       "#T_9c26b_row1_col9, #T_9c26b_row3_col9, #T_9c26b_row4_col9, #T_9c26b_row6_col9, #T_9c26b_row7_col9, #T_9c26b_row9_col6, #T_9c26b_row12_col9 {\n",
       "  background-color: #eaf3fb;\n",
       "  color: #000000;\n",
       "}\n",
       "#T_9c26b_row2_col1, #T_9c26b_row3_col4, #T_9c26b_row4_col1, #T_9c26b_row5_col10, #T_9c26b_row6_col1 {\n",
       "  background-color: #f5fafe;\n",
       "  color: #000000;\n",
       "}\n",
       "#T_9c26b_row2_col5, #T_9c26b_row5_col2, #T_9c26b_row6_col3, #T_9c26b_row9_col2 {\n",
       "  background-color: #eef5fc;\n",
       "  color: #000000;\n",
       "}\n",
       "#T_9c26b_row2_col9 {\n",
       "  background-color: #d2e3f3;\n",
       "  color: #000000;\n",
       "}\n",
       "#T_9c26b_row3_col1 {\n",
       "  background-color: #edf4fc;\n",
       "  color: #000000;\n",
       "}\n",
       "#T_9c26b_row4_col11, #T_9c26b_row5_col11 {\n",
       "  background-color: #eff6fc;\n",
       "  color: #000000;\n",
       "}\n",
       "#T_9c26b_row5_col1, #T_9c26b_row7_col1, #T_9c26b_row11_col1 {\n",
       "  background-color: #f3f8fe;\n",
       "  color: #000000;\n",
       "}\n",
       "#T_9c26b_row5_col9 {\n",
       "  background-color: #deebf7;\n",
       "  color: #000000;\n",
       "}\n",
       "#T_9c26b_row6_col7 {\n",
       "  background-color: #e1edf8;\n",
       "  color: #000000;\n",
       "}\n",
       "#T_9c26b_row9_col1 {\n",
       "  background-color: #e7f0fa;\n",
       "  color: #000000;\n",
       "}\n",
       "#T_9c26b_row9_col3, #T_9c26b_row11_col3 {\n",
       "  background-color: #e5eff9;\n",
       "  color: #000000;\n",
       "}\n",
       "#T_9c26b_row9_col11 {\n",
       "  background-color: #ecf4fb;\n",
       "  color: #000000;\n",
       "}\n",
       "#T_9c26b_row11_col2 {\n",
       "  background-color: #f1f7fd;\n",
       "  color: #000000;\n",
       "}\n",
       "#T_9c26b_row11_col8 {\n",
       "  background-color: #e9f2fa;\n",
       "  color: #000000;\n",
       "}\n",
       "</style>\n",
       "<table id=\"T_9c26b\">\n",
       "  <thead>\n",
       "    <tr>\n",
       "      <th class=\"blank level0\" >&nbsp;</th>\n",
       "      <th id=\"T_9c26b_level0_col0\" class=\"col_heading level0 col0\" >auto</th>\n",
       "      <th id=\"T_9c26b_level0_col1\" class=\"col_heading level0 col1\" >culture</th>\n",
       "      <th id=\"T_9c26b_level0_col2\" class=\"col_heading level0 col2\" >economics</th>\n",
       "      <th id=\"T_9c26b_level0_col3\" class=\"col_heading level0 col3\" >health</th>\n",
       "      <th id=\"T_9c26b_level0_col4\" class=\"col_heading level0 col4\" >incident</th>\n",
       "      <th id=\"T_9c26b_level0_col5\" class=\"col_heading level0 col5\" >politics</th>\n",
       "      <th id=\"T_9c26b_level0_col6\" class=\"col_heading level0 col6\" >realty</th>\n",
       "      <th id=\"T_9c26b_level0_col7\" class=\"col_heading level0 col7\" >reclama</th>\n",
       "      <th id=\"T_9c26b_level0_col8\" class=\"col_heading level0 col8\" >science</th>\n",
       "      <th id=\"T_9c26b_level0_col9\" class=\"col_heading level0 col9\" >social</th>\n",
       "      <th id=\"T_9c26b_level0_col10\" class=\"col_heading level0 col10\" >sport</th>\n",
       "      <th id=\"T_9c26b_level0_col11\" class=\"col_heading level0 col11\" >tech</th>\n",
       "      <th id=\"T_9c26b_level0_col12\" class=\"col_heading level0 col12\" >woman</th>\n",
       "    </tr>\n",
       "  </thead>\n",
       "  <tbody>\n",
       "    <tr>\n",
       "      <th id=\"T_9c26b_level0_row0\" class=\"row_heading level0 row0\" >auto</th>\n",
       "      <td id=\"T_9c26b_row0_col0\" class=\"data row0 col0\" >73</td>\n",
       "      <td id=\"T_9c26b_row0_col1\" class=\"data row0 col1\" >0</td>\n",
       "      <td id=\"T_9c26b_row0_col2\" class=\"data row0 col2\" >1</td>\n",
       "      <td id=\"T_9c26b_row0_col3\" class=\"data row0 col3\" >0</td>\n",
       "      <td id=\"T_9c26b_row0_col4\" class=\"data row0 col4\" >10</td>\n",
       "      <td id=\"T_9c26b_row0_col5\" class=\"data row0 col5\" >1</td>\n",
       "      <td id=\"T_9c26b_row0_col6\" class=\"data row0 col6\" >0</td>\n",
       "      <td id=\"T_9c26b_row0_col7\" class=\"data row0 col7\" >0</td>\n",
       "      <td id=\"T_9c26b_row0_col8\" class=\"data row0 col8\" >0</td>\n",
       "      <td id=\"T_9c26b_row0_col9\" class=\"data row0 col9\" >0</td>\n",
       "      <td id=\"T_9c26b_row0_col10\" class=\"data row0 col10\" >0</td>\n",
       "      <td id=\"T_9c26b_row0_col11\" class=\"data row0 col11\" >2</td>\n",
       "      <td id=\"T_9c26b_row0_col12\" class=\"data row0 col12\" >0</td>\n",
       "    </tr>\n",
       "    <tr>\n",
       "      <th id=\"T_9c26b_level0_row1\" class=\"row_heading level0 row1\" >culture</th>\n",
       "      <td id=\"T_9c26b_row1_col0\" class=\"data row1 col0\" >0</td>\n",
       "      <td id=\"T_9c26b_row1_col1\" class=\"data row1 col1\" >95</td>\n",
       "      <td id=\"T_9c26b_row1_col2\" class=\"data row1 col2\" >0</td>\n",
       "      <td id=\"T_9c26b_row1_col3\" class=\"data row1 col3\" >0</td>\n",
       "      <td id=\"T_9c26b_row1_col4\" class=\"data row1 col4\" >0</td>\n",
       "      <td id=\"T_9c26b_row1_col5\" class=\"data row1 col5\" >3</td>\n",
       "      <td id=\"T_9c26b_row1_col6\" class=\"data row1 col6\" >0</td>\n",
       "      <td id=\"T_9c26b_row1_col7\" class=\"data row1 col7\" >0</td>\n",
       "      <td id=\"T_9c26b_row1_col8\" class=\"data row1 col8\" >1</td>\n",
       "      <td id=\"T_9c26b_row1_col9\" class=\"data row1 col9\" >1</td>\n",
       "      <td id=\"T_9c26b_row1_col10\" class=\"data row1 col10\" >0</td>\n",
       "      <td id=\"T_9c26b_row1_col11\" class=\"data row1 col11\" >1</td>\n",
       "      <td id=\"T_9c26b_row1_col12\" class=\"data row1 col12\" >0</td>\n",
       "    </tr>\n",
       "    <tr>\n",
       "      <th id=\"T_9c26b_level0_row2\" class=\"row_heading level0 row2\" >economics</th>\n",
       "      <td id=\"T_9c26b_row2_col0\" class=\"data row2 col0\" >0</td>\n",
       "      <td id=\"T_9c26b_row2_col1\" class=\"data row2 col1\" >1</td>\n",
       "      <td id=\"T_9c26b_row2_col2\" class=\"data row2 col2\" >63</td>\n",
       "      <td id=\"T_9c26b_row2_col3\" class=\"data row2 col3\" >0</td>\n",
       "      <td id=\"T_9c26b_row2_col4\" class=\"data row2 col4\" >0</td>\n",
       "      <td id=\"T_9c26b_row2_col5\" class=\"data row2 col5\" >8</td>\n",
       "      <td id=\"T_9c26b_row2_col6\" class=\"data row2 col6\" >0</td>\n",
       "      <td id=\"T_9c26b_row2_col7\" class=\"data row2 col7\" >0</td>\n",
       "      <td id=\"T_9c26b_row2_col8\" class=\"data row2 col8\" >0</td>\n",
       "      <td id=\"T_9c26b_row2_col9\" class=\"data row2 col9\" >3</td>\n",
       "      <td id=\"T_9c26b_row2_col10\" class=\"data row2 col10\" >0</td>\n",
       "      <td id=\"T_9c26b_row2_col11\" class=\"data row2 col11\" >1</td>\n",
       "      <td id=\"T_9c26b_row2_col12\" class=\"data row2 col12\" >0</td>\n",
       "    </tr>\n",
       "    <tr>\n",
       "      <th id=\"T_9c26b_level0_row3\" class=\"row_heading level0 row3\" >health</th>\n",
       "      <td id=\"T_9c26b_row3_col0\" class=\"data row3 col0\" >0</td>\n",
       "      <td id=\"T_9c26b_row3_col1\" class=\"data row3 col1\" >5</td>\n",
       "      <td id=\"T_9c26b_row3_col2\" class=\"data row3 col2\" >0</td>\n",
       "      <td id=\"T_9c26b_row3_col3\" class=\"data row3 col3\" >22</td>\n",
       "      <td id=\"T_9c26b_row3_col4\" class=\"data row3 col4\" >1</td>\n",
       "      <td id=\"T_9c26b_row3_col5\" class=\"data row3 col5\" >1</td>\n",
       "      <td id=\"T_9c26b_row3_col6\" class=\"data row3 col6\" >0</td>\n",
       "      <td id=\"T_9c26b_row3_col7\" class=\"data row3 col7\" >0</td>\n",
       "      <td id=\"T_9c26b_row3_col8\" class=\"data row3 col8\" >1</td>\n",
       "      <td id=\"T_9c26b_row3_col9\" class=\"data row3 col9\" >1</td>\n",
       "      <td id=\"T_9c26b_row3_col10\" class=\"data row3 col10\" >0</td>\n",
       "      <td id=\"T_9c26b_row3_col11\" class=\"data row3 col11\" >0</td>\n",
       "      <td id=\"T_9c26b_row3_col12\" class=\"data row3 col12\" >0</td>\n",
       "    </tr>\n",
       "    <tr>\n",
       "      <th id=\"T_9c26b_level0_row4\" class=\"row_heading level0 row4\" >incident</th>\n",
       "      <td id=\"T_9c26b_row4_col0\" class=\"data row4 col0\" >2</td>\n",
       "      <td id=\"T_9c26b_row4_col1\" class=\"data row4 col1\" >1</td>\n",
       "      <td id=\"T_9c26b_row4_col2\" class=\"data row4 col2\" >1</td>\n",
       "      <td id=\"T_9c26b_row4_col3\" class=\"data row4 col3\" >0</td>\n",
       "      <td id=\"T_9c26b_row4_col4\" class=\"data row4 col4\" >112</td>\n",
       "      <td id=\"T_9c26b_row4_col5\" class=\"data row4 col5\" >3</td>\n",
       "      <td id=\"T_9c26b_row4_col6\" class=\"data row4 col6\" >0</td>\n",
       "      <td id=\"T_9c26b_row4_col7\" class=\"data row4 col7\" >0</td>\n",
       "      <td id=\"T_9c26b_row4_col8\" class=\"data row4 col8\" >0</td>\n",
       "      <td id=\"T_9c26b_row4_col9\" class=\"data row4 col9\" >1</td>\n",
       "      <td id=\"T_9c26b_row4_col10\" class=\"data row4 col10\" >0</td>\n",
       "      <td id=\"T_9c26b_row4_col11\" class=\"data row4 col11\" >3</td>\n",
       "      <td id=\"T_9c26b_row4_col12\" class=\"data row4 col12\" >0</td>\n",
       "    </tr>\n",
       "    <tr>\n",
       "      <th id=\"T_9c26b_level0_row5\" class=\"row_heading level0 row5\" >politics</th>\n",
       "      <td id=\"T_9c26b_row5_col0\" class=\"data row5 col0\" >0</td>\n",
       "      <td id=\"T_9c26b_row5_col1\" class=\"data row5 col1\" >2</td>\n",
       "      <td id=\"T_9c26b_row5_col2\" class=\"data row5 col2\" >3</td>\n",
       "      <td id=\"T_9c26b_row5_col3\" class=\"data row5 col3\" >0</td>\n",
       "      <td id=\"T_9c26b_row5_col4\" class=\"data row5 col4\" >0</td>\n",
       "      <td id=\"T_9c26b_row5_col5\" class=\"data row5 col5\" >166</td>\n",
       "      <td id=\"T_9c26b_row5_col6\" class=\"data row5 col6\" >0</td>\n",
       "      <td id=\"T_9c26b_row5_col7\" class=\"data row5 col7\" >0</td>\n",
       "      <td id=\"T_9c26b_row5_col8\" class=\"data row5 col8\" >0</td>\n",
       "      <td id=\"T_9c26b_row5_col9\" class=\"data row5 col9\" >2</td>\n",
       "      <td id=\"T_9c26b_row5_col10\" class=\"data row5 col10\" >1</td>\n",
       "      <td id=\"T_9c26b_row5_col11\" class=\"data row5 col11\" >3</td>\n",
       "      <td id=\"T_9c26b_row5_col12\" class=\"data row5 col12\" >0</td>\n",
       "    </tr>\n",
       "    <tr>\n",
       "      <th id=\"T_9c26b_level0_row6\" class=\"row_heading level0 row6\" >realty</th>\n",
       "      <td id=\"T_9c26b_row6_col0\" class=\"data row6 col0\" >0</td>\n",
       "      <td id=\"T_9c26b_row6_col1\" class=\"data row6 col1\" >1</td>\n",
       "      <td id=\"T_9c26b_row6_col2\" class=\"data row6 col2\" >1</td>\n",
       "      <td id=\"T_9c26b_row6_col3\" class=\"data row6 col3\" >1</td>\n",
       "      <td id=\"T_9c26b_row6_col4\" class=\"data row6 col4\" >0</td>\n",
       "      <td id=\"T_9c26b_row6_col5\" class=\"data row6 col5\" >0</td>\n",
       "      <td id=\"T_9c26b_row6_col6\" class=\"data row6 col6\" >16</td>\n",
       "      <td id=\"T_9c26b_row6_col7\" class=\"data row6 col7\" >1</td>\n",
       "      <td id=\"T_9c26b_row6_col8\" class=\"data row6 col8\" >0</td>\n",
       "      <td id=\"T_9c26b_row6_col9\" class=\"data row6 col9\" >1</td>\n",
       "      <td id=\"T_9c26b_row6_col10\" class=\"data row6 col10\" >0</td>\n",
       "      <td id=\"T_9c26b_row6_col11\" class=\"data row6 col11\" >0</td>\n",
       "      <td id=\"T_9c26b_row6_col12\" class=\"data row6 col12\" >0</td>\n",
       "    </tr>\n",
       "    <tr>\n",
       "      <th id=\"T_9c26b_level0_row7\" class=\"row_heading level0 row7\" >reclama</th>\n",
       "      <td id=\"T_9c26b_row7_col0\" class=\"data row7 col0\" >0</td>\n",
       "      <td id=\"T_9c26b_row7_col1\" class=\"data row7 col1\" >2</td>\n",
       "      <td id=\"T_9c26b_row7_col2\" class=\"data row7 col2\" >1</td>\n",
       "      <td id=\"T_9c26b_row7_col3\" class=\"data row7 col3\" >0</td>\n",
       "      <td id=\"T_9c26b_row7_col4\" class=\"data row7 col4\" >0</td>\n",
       "      <td id=\"T_9c26b_row7_col5\" class=\"data row7 col5\" >0</td>\n",
       "      <td id=\"T_9c26b_row7_col6\" class=\"data row7 col6\" >0</td>\n",
       "      <td id=\"T_9c26b_row7_col7\" class=\"data row7 col7\" >9</td>\n",
       "      <td id=\"T_9c26b_row7_col8\" class=\"data row7 col8\" >0</td>\n",
       "      <td id=\"T_9c26b_row7_col9\" class=\"data row7 col9\" >1</td>\n",
       "      <td id=\"T_9c26b_row7_col10\" class=\"data row7 col10\" >2</td>\n",
       "      <td id=\"T_9c26b_row7_col11\" class=\"data row7 col11\" >2</td>\n",
       "      <td id=\"T_9c26b_row7_col12\" class=\"data row7 col12\" >0</td>\n",
       "    </tr>\n",
       "    <tr>\n",
       "      <th id=\"T_9c26b_level0_row8\" class=\"row_heading level0 row8\" >science</th>\n",
       "      <td id=\"T_9c26b_row8_col0\" class=\"data row8 col0\" >0</td>\n",
       "      <td id=\"T_9c26b_row8_col1\" class=\"data row8 col1\" >0</td>\n",
       "      <td id=\"T_9c26b_row8_col2\" class=\"data row8 col2\" >0</td>\n",
       "      <td id=\"T_9c26b_row8_col3\" class=\"data row8 col3\" >0</td>\n",
       "      <td id=\"T_9c26b_row8_col4\" class=\"data row8 col4\" >0</td>\n",
       "      <td id=\"T_9c26b_row8_col5\" class=\"data row8 col5\" >0</td>\n",
       "      <td id=\"T_9c26b_row8_col6\" class=\"data row8 col6\" >0</td>\n",
       "      <td id=\"T_9c26b_row8_col7\" class=\"data row8 col7\" >0</td>\n",
       "      <td id=\"T_9c26b_row8_col8\" class=\"data row8 col8\" >68</td>\n",
       "      <td id=\"T_9c26b_row8_col9\" class=\"data row8 col9\" >0</td>\n",
       "      <td id=\"T_9c26b_row8_col10\" class=\"data row8 col10\" >0</td>\n",
       "      <td id=\"T_9c26b_row8_col11\" class=\"data row8 col11\" >0</td>\n",
       "      <td id=\"T_9c26b_row8_col12\" class=\"data row8 col12\" >0</td>\n",
       "    </tr>\n",
       "    <tr>\n",
       "      <th id=\"T_9c26b_level0_row9\" class=\"row_heading level0 row9\" >social</th>\n",
       "      <td id=\"T_9c26b_row9_col0\" class=\"data row9 col0\" >1</td>\n",
       "      <td id=\"T_9c26b_row9_col1\" class=\"data row9 col1\" >8</td>\n",
       "      <td id=\"T_9c26b_row9_col2\" class=\"data row9 col2\" >3</td>\n",
       "      <td id=\"T_9c26b_row9_col3\" class=\"data row9 col3\" >2</td>\n",
       "      <td id=\"T_9c26b_row9_col4\" class=\"data row9 col4\" >2</td>\n",
       "      <td id=\"T_9c26b_row9_col5\" class=\"data row9 col5\" >5</td>\n",
       "      <td id=\"T_9c26b_row9_col6\" class=\"data row9 col6\" >1</td>\n",
       "      <td id=\"T_9c26b_row9_col7\" class=\"data row9 col7\" >0</td>\n",
       "      <td id=\"T_9c26b_row9_col8\" class=\"data row9 col8\" >2</td>\n",
       "      <td id=\"T_9c26b_row9_col9\" class=\"data row9 col9\" >16</td>\n",
       "      <td id=\"T_9c26b_row9_col10\" class=\"data row9 col10\" >0</td>\n",
       "      <td id=\"T_9c26b_row9_col11\" class=\"data row9 col11\" >4</td>\n",
       "      <td id=\"T_9c26b_row9_col12\" class=\"data row9 col12\" >0</td>\n",
       "    </tr>\n",
       "    <tr>\n",
       "      <th id=\"T_9c26b_level0_row10\" class=\"row_heading level0 row10\" >sport</th>\n",
       "      <td id=\"T_9c26b_row10_col0\" class=\"data row10 col0\" >0</td>\n",
       "      <td id=\"T_9c26b_row10_col1\" class=\"data row10 col1\" >0</td>\n",
       "      <td id=\"T_9c26b_row10_col2\" class=\"data row10 col2\" >1</td>\n",
       "      <td id=\"T_9c26b_row10_col3\" class=\"data row10 col3\" >0</td>\n",
       "      <td id=\"T_9c26b_row10_col4\" class=\"data row10 col4\" >0</td>\n",
       "      <td id=\"T_9c26b_row10_col5\" class=\"data row10 col5\" >0</td>\n",
       "      <td id=\"T_9c26b_row10_col6\" class=\"data row10 col6\" >0</td>\n",
       "      <td id=\"T_9c26b_row10_col7\" class=\"data row10 col7\" >0</td>\n",
       "      <td id=\"T_9c26b_row10_col8\" class=\"data row10 col8\" >0</td>\n",
       "      <td id=\"T_9c26b_row10_col9\" class=\"data row10 col9\" >0</td>\n",
       "      <td id=\"T_9c26b_row10_col10\" class=\"data row10 col10\" >117</td>\n",
       "      <td id=\"T_9c26b_row10_col11\" class=\"data row10 col11\" >0</td>\n",
       "      <td id=\"T_9c26b_row10_col12\" class=\"data row10 col12\" >0</td>\n",
       "    </tr>\n",
       "    <tr>\n",
       "      <th id=\"T_9c26b_level0_row11\" class=\"row_heading level0 row11\" >tech</th>\n",
       "      <td id=\"T_9c26b_row11_col0\" class=\"data row11 col0\" >1</td>\n",
       "      <td id=\"T_9c26b_row11_col1\" class=\"data row11 col1\" >2</td>\n",
       "      <td id=\"T_9c26b_row11_col2\" class=\"data row11 col2\" >2</td>\n",
       "      <td id=\"T_9c26b_row11_col3\" class=\"data row11 col3\" >2</td>\n",
       "      <td id=\"T_9c26b_row11_col4\" class=\"data row11 col4\" >2</td>\n",
       "      <td id=\"T_9c26b_row11_col5\" class=\"data row11 col5\" >3</td>\n",
       "      <td id=\"T_9c26b_row11_col6\" class=\"data row11 col6\" >0</td>\n",
       "      <td id=\"T_9c26b_row11_col7\" class=\"data row11 col7\" >0</td>\n",
       "      <td id=\"T_9c26b_row11_col8\" class=\"data row11 col8\" >5</td>\n",
       "      <td id=\"T_9c26b_row11_col9\" class=\"data row11 col9\" >0</td>\n",
       "      <td id=\"T_9c26b_row11_col10\" class=\"data row11 col10\" >0</td>\n",
       "      <td id=\"T_9c26b_row11_col11\" class=\"data row11 col11\" >72</td>\n",
       "      <td id=\"T_9c26b_row11_col12\" class=\"data row11 col12\" >0</td>\n",
       "    </tr>\n",
       "    <tr>\n",
       "      <th id=\"T_9c26b_level0_row12\" class=\"row_heading level0 row12\" >woman</th>\n",
       "      <td id=\"T_9c26b_row12_col0\" class=\"data row12 col0\" >0</td>\n",
       "      <td id=\"T_9c26b_row12_col1\" class=\"data row12 col1\" >0</td>\n",
       "      <td id=\"T_9c26b_row12_col2\" class=\"data row12 col2\" >0</td>\n",
       "      <td id=\"T_9c26b_row12_col3\" class=\"data row12 col3\" >0</td>\n",
       "      <td id=\"T_9c26b_row12_col4\" class=\"data row12 col4\" >0</td>\n",
       "      <td id=\"T_9c26b_row12_col5\" class=\"data row12 col5\" >0</td>\n",
       "      <td id=\"T_9c26b_row12_col6\" class=\"data row12 col6\" >0</td>\n",
       "      <td id=\"T_9c26b_row12_col7\" class=\"data row12 col7\" >0</td>\n",
       "      <td id=\"T_9c26b_row12_col8\" class=\"data row12 col8\" >0</td>\n",
       "      <td id=\"T_9c26b_row12_col9\" class=\"data row12 col9\" >1</td>\n",
       "      <td id=\"T_9c26b_row12_col10\" class=\"data row12 col10\" >0</td>\n",
       "      <td id=\"T_9c26b_row12_col11\" class=\"data row12 col11\" >0</td>\n",
       "      <td id=\"T_9c26b_row12_col12\" class=\"data row12 col12\" >6</td>\n",
       "    </tr>\n",
       "  </tbody>\n",
       "</table>\n"
      ],
      "text/plain": [
       "<pandas.io.formats.style.Styler at 0x7fa3d9354070>"
      ]
     },
     "execution_count": 26,
     "metadata": {},
     "output_type": "execute_result"
    }
   ],
   "source": [
    "pd.DataFrame( \n",
    "        confusion_matrix(y_test,o), \n",
    "        columns=sorted(labels.keys()), \n",
    "        index=sorted(labels.keys()),\n",
    "    ).style.background_gradient(cmap='Blues')"
   ]
  },
  {
   "cell_type": "markdown",
   "metadata": {},
   "source": [
    "---"
   ]
  },
  {
   "cell_type": "code",
   "execution_count": 27,
   "metadata": {},
   "outputs": [],
   "source": [
    "data['predict'] = pd.Series( clf.predict(data_tf) ).map( { labels[k]:k for k in labels } )"
   ]
  },
  {
   "cell_type": "code",
   "execution_count": 28,
   "metadata": {},
   "outputs": [
    {
     "data": {
      "text/html": [
       "<div>\n",
       "<style scoped>\n",
       "    .dataframe tbody tr th:only-of-type {\n",
       "        vertical-align: middle;\n",
       "    }\n",
       "\n",
       "    .dataframe tbody tr th {\n",
       "        vertical-align: top;\n",
       "    }\n",
       "\n",
       "    .dataframe thead th {\n",
       "        text-align: right;\n",
       "    }\n",
       "</style>\n",
       "<table border=\"1\" class=\"dataframe\">\n",
       "  <thead>\n",
       "    <tr style=\"text-align: right;\">\n",
       "      <th></th>\n",
       "      <th>text</th>\n",
       "      <th>tag</th>\n",
       "      <th>predict</th>\n",
       "    </tr>\n",
       "  </thead>\n",
       "  <tbody>\n",
       "    <tr>\n",
       "      <th>0</th>\n",
       "      <td>В Саудовской Аравии сняли первый антитеррористический мультфильм -\\nтрехминутную ленту \"Внимание!\". \"Внимание!\" отражает точку зрения мирового\\nсообщества на войну, развязанную терроризмом, и поэт...</td>\n",
       "      <td>politics</td>\n",
       "      <td>culture</td>\n",
       "    </tr>\n",
       "    <tr>\n",
       "      <th>1</th>\n",
       "      <td>Вчера вечером в Японии состоялась премьера голливудского фильма о гейшах,\\nвызвавшая негодование в связи с тем, что эти девушки представлены\\nпроститутками, а играющие их актрисы - китаянки. Мало ...</td>\n",
       "      <td>culture</td>\n",
       "      <td>culture</td>\n",
       "    </tr>\n",
       "    <tr>\n",
       "      <th>2</th>\n",
       "      <td>Российский кинорежиссер и генеральный директор киноконцерна \"Мосфильм\"\\nКарен Шахназаров награжден \"Золотой пирамидой\" на XXIX Каирском кинофестивале\\nза выдающийся вклад в мировое киноискусство. ...</td>\n",
       "      <td>culture</td>\n",
       "      <td>culture</td>\n",
       "    </tr>\n",
       "    <tr>\n",
       "      <th>3</th>\n",
       "      <td>30 ноября выдающейся российской балерине Майе Плисецкой будет вручена\\nмедаль имени княгини Барборы Радвилайте. Церемония награждения состоится\\nв Вильнюсе в Литовском национальном театре оперы и ...</td>\n",
       "      <td>culture</td>\n",
       "      <td>culture</td>\n",
       "    </tr>\n",
       "    <tr>\n",
       "      <th>4</th>\n",
       "      <td>Гарольд Пинтер не приедет за Нобелевской премией из-за болезниАнглийский\\nдраматург Гарольд Пинтер, получивший Нобелевскую премию по литературе в\\n2005 году, отправит в Стокгольм видеозапись своей...</td>\n",
       "      <td>culture</td>\n",
       "      <td>culture</td>\n",
       "    </tr>\n",
       "    <tr>\n",
       "      <th>...</th>\n",
       "      <td>...</td>\n",
       "      <td>...</td>\n",
       "      <td>...</td>\n",
       "    </tr>\n",
       "    <tr>\n",
       "      <th>3191</th>\n",
       "      <td>Православие.Ру В сентябре 2010 года Святейший Патриарх Кирилл посетит Камчатку\\nВопросы подготовки к поездке Предстоятеля Русской Православной Церкви на\\nКамчатку обсуждались на встрече Святейшего...</td>\n",
       "      <td>social</td>\n",
       "      <td>social</td>\n",
       "    </tr>\n",
       "    <tr>\n",
       "      <th>3192</th>\n",
       "      <td>Интерфакс Религия (interfax-religion.ru) В Минрегионразвития призывают\\nроссиян не бояться своего духовного наследия подобно Европе В министерстве\\nрегионального развития РФ считают крайне важным ...</td>\n",
       "      <td>social</td>\n",
       "      <td>culture</td>\n",
       "    </tr>\n",
       "    <tr>\n",
       "      <th>3193</th>\n",
       "      <td>Окно возможностей В Эвенкинском муниципальном районе приступили к\\nисследованию традиционного уклада жизни. В Эвенкию прибыла экспедиция под\\nруководством профессора, заведующего кафедрой менеджме...</td>\n",
       "      <td>science</td>\n",
       "      <td>science</td>\n",
       "    </tr>\n",
       "    <tr>\n",
       "      <th>3194</th>\n",
       "      <td>ИТАР-ТАСС. Новости из властных структур.  Совет Федерации предлагает определить\\nособенности традиционной охоты коренных народов Севера, Сибири и Дальнего\\nВостока Совет Федерации внес на рассмотр...</td>\n",
       "      <td>politics</td>\n",
       "      <td>politics</td>\n",
       "    </tr>\n",
       "    <tr>\n",
       "      <th>3195</th>\n",
       "      <td>Вечерний Магадан (Магадан) Охотское территориальное управление по адресу город\\nМагадан, улица Марчеканская, 1, производит выдачу решений о предоставлении\\nводных биологических ресурсов для гражда...</td>\n",
       "      <td>social</td>\n",
       "      <td>social</td>\n",
       "    </tr>\n",
       "  </tbody>\n",
       "</table>\n",
       "<p>3196 rows × 3 columns</p>\n",
       "</div>"
      ],
      "text/plain": [
       "                                                                                                                                                                                                         text  \\\n",
       "0     В Саудовской Аравии сняли первый антитеррористический мультфильм -\\nтрехминутную ленту \"Внимание!\". \"Внимание!\" отражает точку зрения мирового\\nсообщества на войну, развязанную терроризмом, и поэт...   \n",
       "1     Вчера вечером в Японии состоялась премьера голливудского фильма о гейшах,\\nвызвавшая негодование в связи с тем, что эти девушки представлены\\nпроститутками, а играющие их актрисы - китаянки. Мало ...   \n",
       "2     Российский кинорежиссер и генеральный директор киноконцерна \"Мосфильм\"\\nКарен Шахназаров награжден \"Золотой пирамидой\" на XXIX Каирском кинофестивале\\nза выдающийся вклад в мировое киноискусство. ...   \n",
       "3     30 ноября выдающейся российской балерине Майе Плисецкой будет вручена\\nмедаль имени княгини Барборы Радвилайте. Церемония награждения состоится\\nв Вильнюсе в Литовском национальном театре оперы и ...   \n",
       "4     Гарольд Пинтер не приедет за Нобелевской премией из-за болезниАнглийский\\nдраматург Гарольд Пинтер, получивший Нобелевскую премию по литературе в\\n2005 году, отправит в Стокгольм видеозапись своей...   \n",
       "...                                                                                                                                                                                                       ...   \n",
       "3191  Православие.Ру В сентябре 2010 года Святейший Патриарх Кирилл посетит Камчатку\\nВопросы подготовки к поездке Предстоятеля Русской Православной Церкви на\\nКамчатку обсуждались на встрече Святейшего...   \n",
       "3192  Интерфакс Религия (interfax-religion.ru) В Минрегионразвития призывают\\nроссиян не бояться своего духовного наследия подобно Европе В министерстве\\nрегионального развития РФ считают крайне важным ...   \n",
       "3193  Окно возможностей В Эвенкинском муниципальном районе приступили к\\nисследованию традиционного уклада жизни. В Эвенкию прибыла экспедиция под\\nруководством профессора, заведующего кафедрой менеджме...   \n",
       "3194  ИТАР-ТАСС. Новости из властных структур.  Совет Федерации предлагает определить\\nособенности традиционной охоты коренных народов Севера, Сибири и Дальнего\\nВостока Совет Федерации внес на рассмотр...   \n",
       "3195  Вечерний Магадан (Магадан) Охотское территориальное управление по адресу город\\nМагадан, улица Марчеканская, 1, производит выдачу решений о предоставлении\\nводных биологических ресурсов для гражда...   \n",
       "\n",
       "           tag   predict  \n",
       "0     politics   culture  \n",
       "1      culture   culture  \n",
       "2      culture   culture  \n",
       "3      culture   culture  \n",
       "4      culture   culture  \n",
       "...        ...       ...  \n",
       "3191    social    social  \n",
       "3192    social   culture  \n",
       "3193   science   science  \n",
       "3194  politics  politics  \n",
       "3195    social    social  \n",
       "\n",
       "[3196 rows x 3 columns]"
      ]
     },
     "execution_count": 28,
     "metadata": {},
     "output_type": "execute_result"
    }
   ],
   "source": [
    "data"
   ]
  },
  {
   "cell_type": "code",
   "execution_count": 33,
   "metadata": {},
   "outputs": [],
   "source": [
    "# idx = pd.IndexSlice\n",
    "# data_ = data.sample(50)\n",
    "# slice_ = idx[idx[ data_['tag']!=data_['predict'] ], :]\n",
    "# data_.style.set_properties(**{'background-color': '#ffffb3'}, subset=slice_)"
   ]
  },
  {
   "cell_type": "code",
   "execution_count": null,
   "metadata": {},
   "outputs": [],
   "source": [
    "# Введение в анализ текстовой информации с помощью Python и методов машинного обучения\n",
    "# https://habr.com/ru/post/205360/"
   ]
  }
 ],
 "metadata": {
  "kernelspec": {
   "display_name": "Python 3 (ipykernel)",
   "language": "python",
   "name": "python3"
  },
  "language_info": {
   "codemirror_mode": {
    "name": "ipython",
    "version": 3
   },
   "file_extension": ".py",
   "mimetype": "text/x-python",
   "name": "python",
   "nbconvert_exporter": "python",
   "pygments_lexer": "ipython3",
   "version": "3.10.8"
  },
  "toc": {
   "base_numbering": 1,
   "nav_menu": {},
   "number_sections": true,
   "sideBar": true,
   "skip_h1_title": false,
   "title_cell": "Table of Contents",
   "title_sidebar": "Contents",
   "toc_cell": false,
   "toc_position": {},
   "toc_section_display": true,
   "toc_window_display": false
  }
 },
 "nbformat": 4,
 "nbformat_minor": 2
}
