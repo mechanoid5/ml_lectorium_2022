{
 "cells": [
  {
   "cell_type": "markdown",
   "metadata": {},
   "source": [
    "**классификатор текстов LSTM + W2V**\n",
    "\n",
    "Евгений Борисов <esborisov@sevsu.ru>"
   ]
  },
  {
   "cell_type": "markdown",
   "metadata": {},
   "source": [
    "## Данные"
   ]
  },
  {
   "cell_type": "raw",
   "metadata": {},
   "source": [
    "Ю. В. Рубцова. Построение корпуса текстов для настройки тонового классификатора // Программные продукты и системы, 2015, №1(109), –С.72-78\n",
    "\n",
    "http://study.mokoron.com\n",
    "\n",
    "– id: уникальный номер сообщения в системе twitter;\n",
    "– tdate: дата публикации сообщения (твита);\n",
    "– tmane: имя пользователя, опубликовавшего сообщение;\n",
    "– ttext:  текст сообщения (твита);\n",
    "– ttype: поле в котором в дальнейшем будет указано к кому классу относится твит (положительный, отрицательный, нейтральный);\n",
    "– trep: количество реплаев к данному сообщению. В настоящий момент API твиттера не отдает эту информацию;\n",
    "– tfav: число сколько раз данное сообщение было добавлено в избранное другими пользователями;\n",
    "– tstcount: число всех сообщений пользователя в сети twitter;\n",
    "– tfol: количество фоловеров пользователя (тех людей, которые читают пользователя);\n",
    "– tfrien: количество друзей пользователя (те люди, которых читает пользователь);\n",
    "– listcount: количество листов-подписок в которые добавлен твиттер-пользователь."
   ]
  },
  {
   "cell_type": "code",
   "execution_count": 1,
   "metadata": {},
   "outputs": [],
   "source": [
    "import pandas as pd\n",
    "from tqdm.notebook import tqdm\n",
    "tqdm.pandas()        \n",
    "pd.options.display.max_colwidth = 200 "
   ]
  },
  {
   "cell_type": "code",
   "execution_count": 2,
   "metadata": {},
   "outputs": [
    {
     "name": "stdout",
     "output_type": "stream",
     "text": [
      "negative: 111923 \n",
      "positive: 114911\n"
     ]
    },
    {
     "data": {
      "text/html": [
       "<div>\n",
       "<style scoped>\n",
       "    .dataframe tbody tr th:only-of-type {\n",
       "        vertical-align: middle;\n",
       "    }\n",
       "\n",
       "    .dataframe tbody tr th {\n",
       "        vertical-align: top;\n",
       "    }\n",
       "\n",
       "    .dataframe thead th {\n",
       "        text-align: right;\n",
       "    }\n",
       "</style>\n",
       "<table border=\"1\" class=\"dataframe\">\n",
       "  <thead>\n",
       "    <tr style=\"text-align: right;\">\n",
       "      <th></th>\n",
       "      <th>id</th>\n",
       "      <th>ttext</th>\n",
       "      <th>ttype</th>\n",
       "    </tr>\n",
       "  </thead>\n",
       "  <tbody>\n",
       "    <tr>\n",
       "      <th>65826</th>\n",
       "      <td>410372699798511616</td>\n",
       "      <td>@alekc49 @Serge_63 @valentinov_v Легко? Но если в месяц по два раза..то не очень-то легко.))</td>\n",
       "      <td>1</td>\n",
       "    </tr>\n",
       "    <tr>\n",
       "      <th>8268</th>\n",
       "      <td>409106401168871424</td>\n",
       "      <td>не гоже дамам личики кривить,но я же кривляжка:)\\nмне можно,но немножко:) http://t.co/YMDdnSRXL1</td>\n",
       "      <td>1</td>\n",
       "    </tr>\n",
       "    <tr>\n",
       "      <th>91990</th>\n",
       "      <td>422031029189107714</td>\n",
       "      <td>@Aleksandroov котики мои,мне вас жаль.\\nтолько я не могу помочь ((</td>\n",
       "      <td>-1</td>\n",
       "    </tr>\n",
       "    <tr>\n",
       "      <th>27748</th>\n",
       "      <td>412577378767241217</td>\n",
       "      <td>Антон Логвинов проник на наши склады и исписал, сука, все коробки :(</td>\n",
       "      <td>-1</td>\n",
       "    </tr>\n",
       "    <tr>\n",
       "      <th>67505</th>\n",
       "      <td>417312629045334016</td>\n",
       "      <td>@_tvoy_kosmos_ в точку,и у меня поганое настроение(</td>\n",
       "      <td>-1</td>\n",
       "    </tr>\n",
       "    <tr>\n",
       "      <th>110144</th>\n",
       "      <td>411192292519985152</td>\n",
       "      <td>Немного любви в холодном городе :) http://t.co/jqjTkiEmi2</td>\n",
       "      <td>1</td>\n",
       "    </tr>\n",
       "    <tr>\n",
       "      <th>79488</th>\n",
       "      <td>419464924281458688</td>\n",
       "      <td>Каникулы быстро проходят :( http://t.co/HUKKifgPJ9</td>\n",
       "      <td>-1</td>\n",
       "    </tr>\n",
       "    <tr>\n",
       "      <th>96830</th>\n",
       "      <td>411034551352565760</td>\n",
       "      <td>Вот многие о политике, а у нас \"пшеничка из яичка\" взошла :)</td>\n",
       "      <td>1</td>\n",
       "    </tr>\n",
       "    <tr>\n",
       "      <th>41526</th>\n",
       "      <td>409932447648731136</td>\n",
       "      <td>@lyana4 Доброе утро, Ляна!))) Отличного дня и настроения!)))</td>\n",
       "      <td>1</td>\n",
       "    </tr>\n",
       "    <tr>\n",
       "      <th>106711</th>\n",
       "      <td>424197632362565632</td>\n",
       "      <td>RT @SVeloso4: @PolyaMoore он должин быть нашииим ;(</td>\n",
       "      <td>-1</td>\n",
       "    </tr>\n",
       "  </tbody>\n",
       "</table>\n",
       "</div>"
      ],
      "text/plain": [
       "                        id  \\\n",
       "65826   410372699798511616   \n",
       "8268    409106401168871424   \n",
       "91990   422031029189107714   \n",
       "27748   412577378767241217   \n",
       "67505   417312629045334016   \n",
       "110144  411192292519985152   \n",
       "79488   419464924281458688   \n",
       "96830   411034551352565760   \n",
       "41526   409932447648731136   \n",
       "106711  424197632362565632   \n",
       "\n",
       "                                                                                                   ttext  \\\n",
       "65826       @alekc49 @Serge_63 @valentinov_v Легко? Но если в месяц по два раза..то не очень-то легко.))   \n",
       "8268    не гоже дамам личики кривить,но я же кривляжка:)\\nмне можно,но немножко:) http://t.co/YMDdnSRXL1   \n",
       "91990                                 @Aleksandroov котики мои,мне вас жаль.\\nтолько я не могу помочь ((   \n",
       "27748                               Антон Логвинов проник на наши склады и исписал, сука, все коробки :(   \n",
       "67505                                                @_tvoy_kosmos_ в точку,и у меня поганое настроение(   \n",
       "110144                                         Немного любви в холодном городе :) http://t.co/jqjTkiEmi2   \n",
       "79488                                                 Каникулы быстро проходят :( http://t.co/HUKKifgPJ9   \n",
       "96830                                       Вот многие о политике, а у нас \"пшеничка из яичка\" взошла :)   \n",
       "41526                                       @lyana4 Доброе утро, Ляна!))) Отличного дня и настроения!)))   \n",
       "106711                                               RT @SVeloso4: @PolyaMoore он должин быть нашииим ;(   \n",
       "\n",
       "        ttype  \n",
       "65826       1  \n",
       "8268        1  \n",
       "91990      -1  \n",
       "27748      -1  \n",
       "67505      -1  \n",
       "110144      1  \n",
       "79488      -1  \n",
       "96830       1  \n",
       "41526       1  \n",
       "106711     -1  "
      ]
     },
     "execution_count": 2,
     "metadata": {},
     "output_type": "execute_result"
    }
   ],
   "source": [
    "ff = ['id', 'tdate', 'tmane', 'ttext', 'ttype', 'trep', 'tfav', 'tstcount', 'tfol', 'tfrien', 'listcount','unk']\n",
    "\n",
    "data = pd.concat([\n",
    "    pd.read_csv('data/positive.csv.gz',sep=';',header=None),\n",
    "    pd.read_csv('data/negative.csv.gz',sep=';',header=None),\n",
    "])\n",
    "\n",
    "data.columns = ff\n",
    "\n",
    "data = data[['id','ttext', 'ttype']]\n",
    "\n",
    "print( 'negative:', len(data.query('ttype==-1')), '\\npositive:',len(data.query('ttype==1')) )\n",
    "\n",
    "data.sample(10)"
   ]
  },
  {
   "cell_type": "markdown",
   "metadata": {},
   "source": [
    "### очистка данных"
   ]
  },
  {
   "cell_type": "code",
   "execution_count": 3,
   "metadata": {},
   "outputs": [],
   "source": [
    "import re"
   ]
  },
  {
   "cell_type": "code",
   "execution_count": 4,
   "metadata": {},
   "outputs": [],
   "source": [
    "# применяет список замен pat к строке s\n",
    "def replace_patterns(s,pat):\n",
    "    if len(pat)<1: return s\n",
    "    return  replace_patterns( re.sub(pat[0][0],pat[0][1],s), pat[1:] )\n",
    "\n",
    "# нормализация текста\n",
    "def string_normalizer(s):\n",
    "    pat = [\n",
    "      #[r'ё','е'] # замена ё для унификации\n",
    "      #,[r'</?[a-z]+>',' '] # удаляем xml\n",
    "      [r'[:;]-*[)D]',' радость ']\n",
    "      ,[r'\\)\\)\\)*',' радость ']\n",
    "      ,[r'[:;]\\*',' поцелуй ']\n",
    "      ,[r':\\(',' печаль ']\n",
    "      ,[r'\\(\\(\\(*',' печаль ']\n",
    "    ]\n",
    "    return replace_patterns(s,pat).strip()"
   ]
  },
  {
   "cell_type": "code",
   "execution_count": 5,
   "metadata": {},
   "outputs": [
    {
     "data": {
      "application/vnd.jupyter.widget-view+json": {
       "model_id": "f45f70612f814991b4e7ef6328c2fe4f",
       "version_major": 2,
       "version_minor": 0
      },
      "text/plain": [
       "  0%|          | 0/226834 [00:00<?, ?it/s]"
      ]
     },
     "metadata": {},
     "output_type": "display_data"
    }
   ],
   "source": [
    "data['ttext_'] = data['ttext'].progress_apply(string_normalizer)"
   ]
  },
  {
   "cell_type": "code",
   "execution_count": 6,
   "metadata": {},
   "outputs": [],
   "source": [
    "# data"
   ]
  },
  {
   "cell_type": "code",
   "execution_count": 7,
   "metadata": {},
   "outputs": [],
   "source": [
    "from nltk.tokenize import word_tokenize as nltk_tokenize_word"
   ]
  },
  {
   "cell_type": "code",
   "execution_count": 8,
   "metadata": {},
   "outputs": [],
   "source": [
    "def tokenize(line): # разбиваем предложения на слова\n",
    "    return    [ \n",
    "        t.lower() \n",
    "        for t in nltk_tokenize_word(line) \n",
    "        if re.match(r'[а-я -]+',t.lower()) and len(t)>1 \n",
    "        #      if not( (t.lower() in stopwords) or (len(t)<3) ) \n",
    "    ] "
   ]
  },
  {
   "cell_type": "code",
   "execution_count": 9,
   "metadata": {},
   "outputs": [
    {
     "data": {
      "application/vnd.jupyter.widget-view+json": {
       "model_id": "2562c56de8ea43abbbe069268a90f906",
       "version_major": 2,
       "version_minor": 0
      },
      "text/plain": [
       "  0%|          | 0/226834 [00:00<?, ?it/s]"
      ]
     },
     "metadata": {},
     "output_type": "display_data"
    }
   ],
   "source": [
    "data['ttext_'] = data['ttext_'].progress_apply(tokenize)"
   ]
  },
  {
   "cell_type": "code",
   "execution_count": 10,
   "metadata": {},
   "outputs": [
    {
     "data": {
      "text/html": [
       "<div>\n",
       "<style scoped>\n",
       "    .dataframe tbody tr th:only-of-type {\n",
       "        vertical-align: middle;\n",
       "    }\n",
       "\n",
       "    .dataframe tbody tr th {\n",
       "        vertical-align: top;\n",
       "    }\n",
       "\n",
       "    .dataframe thead th {\n",
       "        text-align: right;\n",
       "    }\n",
       "</style>\n",
       "<table border=\"1\" class=\"dataframe\">\n",
       "  <thead>\n",
       "    <tr style=\"text-align: right;\">\n",
       "      <th></th>\n",
       "      <th>id</th>\n",
       "      <th>ttext</th>\n",
       "      <th>ttype</th>\n",
       "      <th>ttext_</th>\n",
       "    </tr>\n",
       "  </thead>\n",
       "  <tbody>\n",
       "    <tr>\n",
       "      <th>108365</th>\n",
       "      <td>411164474947940352</td>\n",
       "      <td>Q: если нравится парень ты будешь ему намекать или прямым текстом скажешь?))  A: http://t.co/IqgcQn4QfE</td>\n",
       "      <td>1</td>\n",
       "      <td>[если, нравится, парень, ты, будешь, ему, намекать, или, прямым, текстом, скажешь, радость]</td>\n",
       "    </tr>\n",
       "    <tr>\n",
       "      <th>29706</th>\n",
       "      <td>409630116617011200</td>\n",
       "      <td>@KseniaKozchenko #последнийкруг\\nя бы ей отдала последний круг! предательство не прощается!хотя к черту её))) пусть потом не удивляется;)</td>\n",
       "      <td>1</td>\n",
       "      <td>[последнийкруг, бы, ей, отдала, последний, круг, предательство, не, прощается, хотя, черту, её, радость, пусть, потом, не, удивляется, радость]</td>\n",
       "    </tr>\n",
       "    <tr>\n",
       "      <th>26829</th>\n",
       "      <td>412524326467170304</td>\n",
       "      <td>Ты любишь высокие каблуки? — люблю, но насить не могу к сожалению((( http://t.co/83k3rwTBHN</td>\n",
       "      <td>-1</td>\n",
       "      <td>[ты, любишь, высокие, каблуки, люблю, но, насить, не, могу, сожалению, печаль]</td>\n",
       "    </tr>\n",
       "    <tr>\n",
       "      <th>83849</th>\n",
       "      <td>410779071971606528</td>\n",
       "      <td>В Астане презентован бургер с кониной. Вот это я понимаю! Оч хочу попробовать!)</td>\n",
       "      <td>1</td>\n",
       "      <td>[астане, презентован, бургер, кониной, вот, это, понимаю, оч, хочу, попробовать]</td>\n",
       "    </tr>\n",
       "    <tr>\n",
       "      <th>44373</th>\n",
       "      <td>409975398802669568</td>\n",
       "      <td>Alanya)\\nХочу обратно в Турцию:) http://t.co/QIN04DOd3u</td>\n",
       "      <td>1</td>\n",
       "      <td>[хочу, обратно, турцию, радость]</td>\n",
       "    </tr>\n",
       "    <tr>\n",
       "      <th>58441</th>\n",
       "      <td>410131481110257664</td>\n",
       "      <td>@alkoltsov а самолеты у них какие?Мне сказали хороший парк:)</td>\n",
       "      <td>1</td>\n",
       "      <td>[самолеты, них, какие, мне, сказали, хороший, парк, радость]</td>\n",
       "    </tr>\n",
       "    <tr>\n",
       "      <th>7258</th>\n",
       "      <td>409094091171827712</td>\n",
       "      <td>согласна, надо было так и поступать))) http://t.co/j7eWiX3G2k</td>\n",
       "      <td>1</td>\n",
       "      <td>[согласна, надо, было, так, поступать, радость]</td>\n",
       "    </tr>\n",
       "    <tr>\n",
       "      <th>61372</th>\n",
       "      <td>410291463881097216</td>\n",
       "      <td>Сижу на первой парте с тел. А учительница не видит...)мудак</td>\n",
       "      <td>1</td>\n",
       "      <td>[сижу, на, первой, парте, тел, учительница, не, видит, мудак]</td>\n",
       "    </tr>\n",
       "    <tr>\n",
       "      <th>41953</th>\n",
       "      <td>414054169960804352</td>\n",
       "      <td>У тебя есть друзья, с которыми ты познакомился ещё в детском садике? — нет( http://t.co/QEYI1K6mO5</td>\n",
       "      <td>-1</td>\n",
       "      <td>[тебя, есть, друзья, которыми, ты, познакомился, ещё, детском, садике, нет]</td>\n",
       "    </tr>\n",
       "    <tr>\n",
       "      <th>87883</th>\n",
       "      <td>410818017493532672</td>\n",
       "      <td>@1Hello_Die_ а утром они покажутся тебе просто отвратительными. та же история с фанфиками :D</td>\n",
       "      <td>1</td>\n",
       "      <td>[утром, они, покажутся, тебе, просто, отвратительными, та, же, история, фанфиками, радость]</td>\n",
       "    </tr>\n",
       "  </tbody>\n",
       "</table>\n",
       "</div>"
      ],
      "text/plain": [
       "                        id  \\\n",
       "108365  411164474947940352   \n",
       "29706   409630116617011200   \n",
       "26829   412524326467170304   \n",
       "83849   410779071971606528   \n",
       "44373   409975398802669568   \n",
       "58441   410131481110257664   \n",
       "7258    409094091171827712   \n",
       "61372   410291463881097216   \n",
       "41953   414054169960804352   \n",
       "87883   410818017493532672   \n",
       "\n",
       "                                                                                                                                            ttext  \\\n",
       "108365                                    Q: если нравится парень ты будешь ему намекать или прямым текстом скажешь?))  A: http://t.co/IqgcQn4QfE   \n",
       "29706   @KseniaKozchenko #последнийкруг\\nя бы ей отдала последний круг! предательство не прощается!хотя к черту её))) пусть потом не удивляется;)   \n",
       "26829                                                 Ты любишь высокие каблуки? — люблю, но насить не могу к сожалению((( http://t.co/83k3rwTBHN   \n",
       "83849                                                             В Астане презентован бургер с кониной. Вот это я понимаю! Оч хочу попробовать!)   \n",
       "44373                                                                                     Alanya)\\nХочу обратно в Турцию:) http://t.co/QIN04DOd3u   \n",
       "58441                                                                                @alkoltsov а самолеты у них какие?Мне сказали хороший парк:)   \n",
       "7258                                                                                согласна, надо было так и поступать))) http://t.co/j7eWiX3G2k   \n",
       "61372                                                                                 Сижу на первой парте с тел. А учительница не видит...)мудак   \n",
       "41953                                          У тебя есть друзья, с которыми ты познакомился ещё в детском садике? — нет( http://t.co/QEYI1K6mO5   \n",
       "87883                                                @1Hello_Die_ а утром они покажутся тебе просто отвратительными. та же история с фанфиками :D   \n",
       "\n",
       "        ttype  \\\n",
       "108365      1   \n",
       "29706       1   \n",
       "26829      -1   \n",
       "83849       1   \n",
       "44373       1   \n",
       "58441       1   \n",
       "7258        1   \n",
       "61372       1   \n",
       "41953      -1   \n",
       "87883       1   \n",
       "\n",
       "                                                                                                                                                 ttext_  \n",
       "108365                                                      [если, нравится, парень, ты, будешь, ему, намекать, или, прямым, текстом, скажешь, радость]  \n",
       "29706   [последнийкруг, бы, ей, отдала, последний, круг, предательство, не, прощается, хотя, черту, её, радость, пусть, потом, не, удивляется, радость]  \n",
       "26829                                                                    [ты, любишь, высокие, каблуки, люблю, но, насить, не, могу, сожалению, печаль]  \n",
       "83849                                                                  [астане, презентован, бургер, кониной, вот, это, понимаю, оч, хочу, попробовать]  \n",
       "44373                                                                                                                  [хочу, обратно, турцию, радость]  \n",
       "58441                                                                                      [самолеты, них, какие, мне, сказали, хороший, парк, радость]  \n",
       "7258                                                                                                    [согласна, надо, было, так, поступать, радость]  \n",
       "61372                                                                                     [сижу, на, первой, парте, тел, учительница, не, видит, мудак]  \n",
       "41953                                                                       [тебя, есть, друзья, которыми, ты, познакомился, ещё, детском, садике, нет]  \n",
       "87883                                                       [утром, они, покажутся, тебе, просто, отвратительными, та, же, история, фанфиками, радость]  "
      ]
     },
     "execution_count": 10,
     "metadata": {},
     "output_type": "execute_result"
    }
   ],
   "source": [
    "data.sample(10)"
   ]
  },
  {
   "cell_type": "code",
   "execution_count": 11,
   "metadata": {},
   "outputs": [
    {
     "data": {
      "text/plain": [
       "35"
      ]
     },
     "execution_count": 11,
     "metadata": {},
     "output_type": "execute_result"
    }
   ],
   "source": [
    "# data[ data['ttext_'].str.len()<1 ]\n",
    "max_len = data['ttext_'].str.len().max() # максимальная длинна последовательности\n",
    "max_len"
   ]
  },
  {
   "cell_type": "code",
   "execution_count": 12,
   "metadata": {},
   "outputs": [
    {
     "data": {
      "text/html": [
       "<div>\n",
       "<style scoped>\n",
       "    .dataframe tbody tr th:only-of-type {\n",
       "        vertical-align: middle;\n",
       "    }\n",
       "\n",
       "    .dataframe tbody tr th {\n",
       "        vertical-align: top;\n",
       "    }\n",
       "\n",
       "    .dataframe thead th {\n",
       "        text-align: right;\n",
       "    }\n",
       "</style>\n",
       "<table border=\"1\" class=\"dataframe\">\n",
       "  <thead>\n",
       "    <tr style=\"text-align: right;\">\n",
       "      <th></th>\n",
       "      <th>id</th>\n",
       "      <th>ttext</th>\n",
       "      <th>ttype</th>\n",
       "      <th>ttext_</th>\n",
       "    </tr>\n",
       "  </thead>\n",
       "  <tbody>\n",
       "    <tr>\n",
       "      <th>66829</th>\n",
       "      <td>410387338087632896</td>\n",
       "      <td>RT @olesyaglee: @ktyekmrf30 http://t.co/fBbOR9RPLn х)</td>\n",
       "      <td>1</td>\n",
       "      <td>[]</td>\n",
       "    </tr>\n",
       "    <tr>\n",
       "      <th>70030</th>\n",
       "      <td>410465659223810048</td>\n",
       "      <td>RT @MilanaRepina: @LenocPlotnikova ❤спасиииибо) http://t.co/aO0vwsolYd</td>\n",
       "      <td>1</td>\n",
       "      <td>[]</td>\n",
       "    </tr>\n",
       "    <tr>\n",
       "      <th>77139</th>\n",
       "      <td>410705991714738176</td>\n",
       "      <td>RT @Mariya_Mila: С @ErmachonokAnton ) http://t.co/LmCxpsSoQG</td>\n",
       "      <td>1</td>\n",
       "      <td>[]</td>\n",
       "    </tr>\n",
       "    <tr>\n",
       "      <th>101718</th>\n",
       "      <td>411095547144306688</td>\n",
       "      <td>RT @Dasha_Jenner: @poolyasha П О Л Я \\nТ Ы \\nХ О Р О Ш А Я : )</td>\n",
       "      <td>1</td>\n",
       "      <td>[]</td>\n",
       "    </tr>\n",
       "    <tr>\n",
       "      <th>114606</th>\n",
       "      <td>411364795800354816</td>\n",
       "      <td>RT @sergey0495: http://t.co/dsvJIQP5Tgпробки 10баллов)</td>\n",
       "      <td>1</td>\n",
       "      <td>[]</td>\n",
       "    </tr>\n",
       "    <tr>\n",
       "      <th>9374</th>\n",
       "      <td>410306860089364480</td>\n",
       "      <td>RT @_Batonchik_: @cekc_tyt @aabdullaeva1 @chemicalechelon @frank_james45 @herlocked @misty_marcie @mywhisper @to_over_kill @whoresdiefirst …</td>\n",
       "      <td>-1</td>\n",
       "      <td>[]</td>\n",
       "    </tr>\n",
       "    <tr>\n",
       "      <th>12183</th>\n",
       "      <td>410753661065625600</td>\n",
       "      <td>@Katyaaa_fly @Vituska1998 @daria_hey и я(</td>\n",
       "      <td>-1</td>\n",
       "      <td>[]</td>\n",
       "    </tr>\n",
       "    <tr>\n",
       "      <th>21396</th>\n",
       "      <td>411751245129744385</td>\n",
       "      <td>RT @SolarEclipse57: @girl_turner666 @SCOOB_JOE @Geronimo_woohoo @drinkthecyani @SolarEclipse57 @greennwood @BrianMolko_off @bananacookiee @…</td>\n",
       "      <td>-1</td>\n",
       "      <td>[]</td>\n",
       "    </tr>\n",
       "    <tr>\n",
       "      <th>28025</th>\n",
       "      <td>412591386681409536</td>\n",
       "      <td>@hasio_original и @whitebro_ http://t.co/dupuQSnm6D</td>\n",
       "      <td>-1</td>\n",
       "      <td>[]</td>\n",
       "    </tr>\n",
       "    <tr>\n",
       "      <th>29153</th>\n",
       "      <td>412648375071158272</td>\n",
       "      <td>@VasylevaMasha и я( http://t.co/GilYbA6TzZ</td>\n",
       "      <td>-1</td>\n",
       "      <td>[]</td>\n",
       "    </tr>\n",
       "    <tr>\n",
       "      <th>47515</th>\n",
       "      <td>414807981432508416</td>\n",
       "      <td>RT @unixOS_ctts: @Mo_OnMery @SimplyShot @_Shavka_ @arbyziik @_tentazione_ @robert_dakota @el_ectro_nick @ligi_chan_ @ser___gay @_humiliatio…</td>\n",
       "      <td>-1</td>\n",
       "      <td>[]</td>\n",
       "    </tr>\n",
       "    <tr>\n",
       "      <th>53567</th>\n",
       "      <td>415552314469253123</td>\n",
       "      <td>RT @prisonero_O: О Р У http://t.co/6AiQCDayuO</td>\n",
       "      <td>-1</td>\n",
       "      <td>[]</td>\n",
       "    </tr>\n",
       "    <tr>\n",
       "      <th>53605</th>\n",
       "      <td>415554116765904896</td>\n",
       "      <td>RT @prisonero_O: О Р У http://t.co/6AiQCDayuO</td>\n",
       "      <td>-1</td>\n",
       "      <td>[]</td>\n",
       "    </tr>\n",
       "    <tr>\n",
       "      <th>60236</th>\n",
       "      <td>416461338831880192</td>\n",
       "      <td>@Mikky_Acorn @DNO_OKEANA_A3A3 @korelina1999 @chashhixinNic м</td>\n",
       "      <td>-1</td>\n",
       "      <td>[]</td>\n",
       "    </tr>\n",
       "    <tr>\n",
       "      <th>64224</th>\n",
       "      <td>416956575543078912</td>\n",
       "      <td>@miroshka_n @AmericanPando @_EGOIST_FUCK_ @Do_Or_Die_xxx @18_marina_g @Nastia_GD :З</td>\n",
       "      <td>-1</td>\n",
       "      <td>[]</td>\n",
       "    </tr>\n",
       "    <tr>\n",
       "      <th>81037</th>\n",
       "      <td>419724193400631296</td>\n",
       "      <td>@Juletta163 @SlavaTogliatti @harakiri_killss :о(</td>\n",
       "      <td>-1</td>\n",
       "      <td>[]</td>\n",
       "    </tr>\n",
       "    <tr>\n",
       "      <th>86274</th>\n",
       "      <td>420933408051580929</td>\n",
       "      <td>д у е ш ь ? \\nн е т , с у к а . д о л б а н у т ы й а с к (</td>\n",
       "      <td>-1</td>\n",
       "      <td>[]</td>\n",
       "    </tr>\n",
       "    <tr>\n",
       "      <th>94601</th>\n",
       "      <td>422426335504769024</td>\n",
       "      <td>RT @o_OalinkO_o: .бывает . http://t.co/Ul93T0EMiZ</td>\n",
       "      <td>-1</td>\n",
       "      <td>[]</td>\n",
       "    </tr>\n",
       "    <tr>\n",
       "      <th>95037</th>\n",
       "      <td>422603839511220224</td>\n",
       "      <td>RT @Panda_s_Marsa: 6к \\n@AleksandraEbert \\n@Shanny_Iero_xo \\n@to_over_kill\\n@LP_Kesha \\n@musicinemalover \\n@amarant_win @miss_androgyny_ \\n@Bloody…</td>\n",
       "      <td>-1</td>\n",
       "      <td>[]</td>\n",
       "    </tr>\n",
       "  </tbody>\n",
       "</table>\n",
       "</div>"
      ],
      "text/plain": [
       "                        id  \\\n",
       "66829   410387338087632896   \n",
       "70030   410465659223810048   \n",
       "77139   410705991714738176   \n",
       "101718  411095547144306688   \n",
       "114606  411364795800354816   \n",
       "9374    410306860089364480   \n",
       "12183   410753661065625600   \n",
       "21396   411751245129744385   \n",
       "28025   412591386681409536   \n",
       "29153   412648375071158272   \n",
       "47515   414807981432508416   \n",
       "53567   415552314469253123   \n",
       "53605   415554116765904896   \n",
       "60236   416461338831880192   \n",
       "64224   416956575543078912   \n",
       "81037   419724193400631296   \n",
       "86274   420933408051580929   \n",
       "94601   422426335504769024   \n",
       "95037   422603839511220224   \n",
       "\n",
       "                                                                                                                                                      ttext  \\\n",
       "66829                                                                                                 RT @olesyaglee: @ktyekmrf30 http://t.co/fBbOR9RPLn х)   \n",
       "70030                                                                                RT @MilanaRepina: @LenocPlotnikova ❤спасиииибо) http://t.co/aO0vwsolYd   \n",
       "77139                                                                                          RT @Mariya_Mila: С @ErmachonokAnton ) http://t.co/LmCxpsSoQG   \n",
       "101718                                                                                       RT @Dasha_Jenner: @poolyasha П О Л Я \\nТ Ы \\nХ О Р О Ш А Я : )   \n",
       "114606                                                                                               RT @sergey0495: http://t.co/dsvJIQP5Tgпробки 10баллов)   \n",
       "9374           RT @_Batonchik_: @cekc_tyt @aabdullaeva1 @chemicalechelon @frank_james45 @herlocked @misty_marcie @mywhisper @to_over_kill @whoresdiefirst …   \n",
       "12183                                                                                                             @Katyaaa_fly @Vituska1998 @daria_hey и я(   \n",
       "21396          RT @SolarEclipse57: @girl_turner666 @SCOOB_JOE @Geronimo_woohoo @drinkthecyani @SolarEclipse57 @greennwood @BrianMolko_off @bananacookiee @…   \n",
       "28025                                                                                                   @hasio_original и @whitebro_ http://t.co/dupuQSnm6D   \n",
       "29153                                                                                                            @VasylevaMasha и я( http://t.co/GilYbA6TzZ   \n",
       "47515          RT @unixOS_ctts: @Mo_OnMery @SimplyShot @_Shavka_ @arbyziik @_tentazione_ @robert_dakota @el_ectro_nick @ligi_chan_ @ser___gay @_humiliatio…   \n",
       "53567                                                                                                         RT @prisonero_O: О Р У http://t.co/6AiQCDayuO   \n",
       "53605                                                                                                         RT @prisonero_O: О Р У http://t.co/6AiQCDayuO   \n",
       "60236                                                                                          @Mikky_Acorn @DNO_OKEANA_A3A3 @korelina1999 @chashhixinNic м   \n",
       "64224                                                                   @miroshka_n @AmericanPando @_EGOIST_FUCK_ @Do_Or_Die_xxx @18_marina_g @Nastia_GD :З   \n",
       "81037                                                                                                      @Juletta163 @SlavaTogliatti @harakiri_killss :о(   \n",
       "86274                                                                                           д у е ш ь ? \\nн е т , с у к а . д о л б а н у т ы й а с к (   \n",
       "94601                                                                                                     RT @o_OalinkO_o: .бывает . http://t.co/Ul93T0EMiZ   \n",
       "95037   RT @Panda_s_Marsa: 6к \\n@AleksandraEbert \\n@Shanny_Iero_xo \\n@to_over_kill\\n@LP_Kesha \\n@musicinemalover \\n@amarant_win @miss_androgyny_ \\n@Bloody…   \n",
       "\n",
       "        ttype ttext_  \n",
       "66829       1     []  \n",
       "70030       1     []  \n",
       "77139       1     []  \n",
       "101718      1     []  \n",
       "114606      1     []  \n",
       "9374       -1     []  \n",
       "12183      -1     []  \n",
       "21396      -1     []  \n",
       "28025      -1     []  \n",
       "29153      -1     []  \n",
       "47515      -1     []  \n",
       "53567      -1     []  \n",
       "53605      -1     []  \n",
       "60236      -1     []  \n",
       "64224      -1     []  \n",
       "81037      -1     []  \n",
       "86274      -1     []  \n",
       "94601      -1     []  \n",
       "95037      -1     []  "
      ]
     },
     "execution_count": 12,
     "metadata": {},
     "output_type": "execute_result"
    }
   ],
   "source": [
    "data[ data['ttext_'].str.len()<1 ] # пустые последовательности"
   ]
  },
  {
   "cell_type": "code",
   "execution_count": 13,
   "metadata": {},
   "outputs": [
    {
     "name": "stdout",
     "output_type": "stream",
     "text": [
      "negative: 111923 \n",
      "positive: 114911\n"
     ]
    }
   ],
   "source": [
    "print( 'negative:', len(data.query('ttype==-1')), '\\npositive:',len(data.query('ttype==1')) )"
   ]
  },
  {
   "cell_type": "code",
   "execution_count": 14,
   "metadata": {},
   "outputs": [
    {
     "name": "stdout",
     "output_type": "stream",
     "text": [
      "negative: 111909 \n",
      "positive: 114906\n"
     ]
    }
   ],
   "source": [
    "data = data[ data['ttext_'].str.len()>0 ].reset_index(drop=True)\n",
    "print( 'negative:', len(data.query('ttype==-1')), '\\npositive:',len(data.query('ttype==1')) )"
   ]
  },
  {
   "cell_type": "markdown",
   "metadata": {},
   "source": [
    "### кодируем слова W2V"
   ]
  },
  {
   "cell_type": "markdown",
   "metadata": {},
   "source": [
    "https://ruscorpora.ru/new/\n",
    "\n",
    "https://nlpub.ru/Russian_Distributional_Thesaurus    "
   ]
  },
  {
   "cell_type": "code",
   "execution_count": 15,
   "metadata": {},
   "outputs": [],
   "source": [
    "import numpy as np\n",
    "from gensim.models.word2vec import KeyedVectors\n",
    "# загружаем матрицу word2vec\n",
    "w2v = KeyedVectors.load_word2vec_format('w2v/all.norm-sz100-w10-cb0-it1-min100.w2v',binary=True,limit=100000)"
   ]
  },
  {
   "cell_type": "code",
   "execution_count": 16,
   "metadata": {},
   "outputs": [],
   "source": [
    "# 'радость' in w2v # True\n",
    "# w2v.get_vector('радость').shape"
   ]
  },
  {
   "cell_type": "code",
   "execution_count": 17,
   "metadata": {},
   "outputs": [],
   "source": [
    "# слова нет в словаре\n",
    "# 'школота' in w2v # False\n",
    "# w2v.get_vector('школота') # Error!"
   ]
  },
  {
   "cell_type": "code",
   "execution_count": 18,
   "metadata": {},
   "outputs": [
    {
     "data": {
      "application/vnd.jupyter.widget-view+json": {
       "model_id": "d2cf6d5d4e074b6485d22ee67ec4845e",
       "version_major": 2,
       "version_minor": 0
      },
      "text/plain": [
       "  0%|          | 0/226815 [00:00<?, ?it/s]"
      ]
     },
     "metadata": {},
     "output_type": "display_data"
    }
   ],
   "source": [
    "X = [ \n",
    " [ w2v.get_vector(w) for w in l if w in w2v ]\n",
    " for l in tqdm( data['ttext_'] ) \n",
    "]\n",
    "\n",
    "target = data['ttype']"
   ]
  },
  {
   "cell_type": "code",
   "execution_count": 19,
   "metadata": {},
   "outputs": [
    {
     "data": {
      "text/plain": [
       "100"
      ]
     },
     "execution_count": 19,
     "metadata": {},
     "output_type": "execute_result"
    }
   ],
   "source": [
    "w2v_len = len(X[0][0]) # размер представления W2V\n",
    "w2v_len"
   ]
  },
  {
   "cell_type": "code",
   "execution_count": 20,
   "metadata": {},
   "outputs": [
    {
     "data": {
      "text/plain": [
       "((226122, 35, 100), (226122,))"
      ]
     },
     "execution_count": 20,
     "metadata": {},
     "output_type": "execute_result"
    }
   ],
   "source": [
    "# дополняем последовательности нулями до единого формата,\n",
    "# выкидываем те, что не нашли соответствия в словаре W2V\n",
    "z = np.zeros(w2v_len) \n",
    "target = np.array([ target[i] for i,xi in enumerate(X) if len(xi)>0 ])\n",
    "X = np.array([ [z]*(max_len-len(xi)) + xi for xi in X if len(xi)>0  ],dtype=np.float32)\n",
    "X.shape, target.shape"
   ]
  },
  {
   "cell_type": "code",
   "execution_count": 21,
   "metadata": {},
   "outputs": [],
   "source": [
    "del w2v"
   ]
  },
  {
   "cell_type": "code",
   "execution_count": 22,
   "metadata": {},
   "outputs": [],
   "source": [
    "target = (target+1)//2\n",
    "y = np.eye(max(target)+1,dtype=np.float32)[target] # строим выход нейросети (из 2 нейронов)"
   ]
  },
  {
   "cell_type": "code",
   "execution_count": 23,
   "metadata": {},
   "outputs": [
    {
     "data": {
      "text/plain": [
       "((135673, 35, 100), (135673, 2), (90449, 35, 100), (90449, 2))"
      ]
     },
     "execution_count": 23,
     "metadata": {},
     "output_type": "execute_result"
    }
   ],
   "source": [
    "from sklearn.model_selection import train_test_split\n",
    "\n",
    "# делим данные для оценки\n",
    "x_train, x_test, y_train, y_test = train_test_split( X, y, test_size=.4 )\n",
    "x_train.shape, y_train.shape, x_test.shape, y_test.shape"
   ]
  },
  {
   "cell_type": "code",
   "execution_count": 24,
   "metadata": {},
   "outputs": [],
   "source": [
    "del X\n",
    "del target\n",
    "del y"
   ]
  },
  {
   "cell_type": "markdown",
   "metadata": {},
   "source": [
    "## модель"
   ]
  },
  {
   "cell_type": "code",
   "execution_count": 25,
   "metadata": {},
   "outputs": [],
   "source": [
    "import torch\n",
    "import torch.nn as nn\n",
    "import torch.nn.functional as F"
   ]
  },
  {
   "cell_type": "code",
   "execution_count": 26,
   "metadata": {},
   "outputs": [
    {
     "data": {
      "text/plain": [
       "'1.10.2+cu102'"
      ]
     },
     "execution_count": 26,
     "metadata": {},
     "output_type": "execute_result"
    }
   ],
   "source": [
    "torch.__version__"
   ]
  },
  {
   "cell_type": "code",
   "execution_count": 27,
   "metadata": {},
   "outputs": [],
   "source": [
    "input_dim = w2v_len\n",
    "hidden_dim = 128\n",
    "n_classes = 2\n",
    "\n",
    "class Model(nn.Module):\n",
    "    def __init__(self, \n",
    "                 input_dim=input_dim,  # размер входа\n",
    "                 hid_dim=hidden_dim,   # размер рекуррентного слоя\n",
    "                 output_dim=n_classes, # размер выхода\n",
    "                ):\n",
    "        super().__init__()\n",
    "        self._rnn = nn.LSTM( input_dim, hid_dim, batch_first=True) # рекуррентный слой\n",
    "        self._linear = nn.Linear(hid_dim, output_dim) # выходной (линейный) слой\n",
    "\n",
    "    def forward(self,x):\n",
    "        _, (hidden, _) = self._rnn(x) # обрабатываем входную последовательность\n",
    "        # print(hidden.shape,out.shape)\n",
    "        hidden = hidden.squeeze(0) # прекомпоновка тензора, сокращаем размерность\n",
    "        out = self._linear(hidden) # считаем выход сети\n",
    "        out = F.softmax(out,dim=1)\n",
    "        return out "
   ]
  },
  {
   "cell_type": "code",
   "execution_count": 28,
   "metadata": {},
   "outputs": [
    {
     "data": {
      "text/plain": [
       "Model(\n",
       "  (_rnn): LSTM(100, 128, batch_first=True)\n",
       "  (_linear): Linear(in_features=128, out_features=2, bias=True)\n",
       ")"
      ]
     },
     "execution_count": 28,
     "metadata": {},
     "output_type": "execute_result"
    }
   ],
   "source": [
    "model = Model()\n",
    "model"
   ]
  },
  {
   "cell_type": "code",
   "execution_count": 29,
   "metadata": {},
   "outputs": [],
   "source": [
    "# o =  model.forward( torch.Tensor(x_train[:256]) ) # .to(device) )\n",
    "# o.shape"
   ]
  },
  {
   "cell_type": "markdown",
   "metadata": {},
   "source": [
    "### обучаем модель"
   ]
  },
  {
   "cell_type": "code",
   "execution_count": 30,
   "metadata": {},
   "outputs": [
    {
     "data": {
      "text/plain": [
       "device(type='cuda', index=0)"
      ]
     },
     "execution_count": 30,
     "metadata": {},
     "output_type": "execute_result"
    }
   ],
   "source": [
    "# проверяем GPU\n",
    "device = torch.device('cuda:0' if torch.cuda.is_available() else 'cpu')\n",
    "device"
   ]
  },
  {
   "cell_type": "code",
   "execution_count": 31,
   "metadata": {},
   "outputs": [],
   "source": [
    "model = model.to(device)"
   ]
  },
  {
   "cell_type": "code",
   "execution_count": 32,
   "metadata": {},
   "outputs": [],
   "source": [
    "criterion =  nn.CrossEntropyLoss() # ф-ция потери\n",
    "optimizer = torch.optim.Adam(model.parameters(), lr=.005) # метод оптимизации"
   ]
  },
  {
   "cell_type": "code",
   "execution_count": 33,
   "metadata": {},
   "outputs": [],
   "source": [
    "from torch.utils.data import TensorDataset\n",
    "from torch.utils.data import DataLoader # генератор батчей\n",
    "\n",
    "# пакуем данные в формат Torch\n",
    "dataset_train = TensorDataset(torch.tensor(x_train), torch.tensor(y_train) )"
   ]
  },
  {
   "cell_type": "code",
   "execution_count": 34,
   "metadata": {},
   "outputs": [],
   "source": [
    "from sklearn.metrics import accuracy_score\n",
    "\n",
    "def accuracy(dataset):\n",
    "    with torch.set_grad_enabled(False):\n",
    "        return np.mean([\n",
    "            accuracy_score(\n",
    "                y[:,1],\n",
    "                np.argmax( model(x.to(device)).cpu().numpy(),axis=1 )\n",
    "            )\n",
    "            for x,y in DataLoader(dataset, batch_size=len(dataset)//100, shuffle=False)\n",
    "        ])\n",
    "        \n",
    "acc_history = [ accuracy(dataset_train) ] # начальное значение погрешности"
   ]
  },
  {
   "cell_type": "code",
   "execution_count": 35,
   "metadata": {},
   "outputs": [
    {
     "data": {
      "application/vnd.jupyter.widget-view+json": {
       "model_id": "20eee94fb3b048c0b211e7e06a929bdd",
       "version_major": 2,
       "version_minor": 0
      },
      "text/plain": [
       "  0%|          | 0/7 [00:00<?, ?it/s]"
      ]
     },
     "metadata": {},
     "output_type": "display_data"
    },
    {
     "name": "stdout",
     "output_type": "stream",
     "text": [
      "CPU times: user 27.9 s, sys: 170 ms, total: 28 s\n",
      "Wall time: 27.7 s\n"
     ]
    }
   ],
   "source": [
    "%%time\n",
    "\n",
    "from torch.utils.data import DataLoader # генератор батчей\n",
    "\n",
    "loss_history = [ ] # значения ф-ции потери\n",
    "n_epoch = 7 # количество эпох обучения\n",
    "\n",
    "for i in tqdm(range(n_epoch)): \n",
    "    \n",
    "    # получаем батч учебных примеров\n",
    "    for x,y in DataLoader(dataset_train, batch_size=len(y_train)//100, shuffle=True): \n",
    "        out = model.forward(x.to(device)) # считаем выход модели\n",
    "        loss = criterion( y.to(device),out ) # вычисляем значение ф-ции потери\n",
    "        loss_history.append(loss.item()) # дополняем историю изменения значений ф-ции потери\n",
    "        optimizer.zero_grad() # очищаем предыдущее значение градиента\n",
    "        loss.backward()  # вычисляем текущее значение градиента ф-ции потери\n",
    "        optimizer.step() # корректируем параметры модели\n",
    "        \n",
    "    acc_history.append( accuracy(dataset_train) ) #значение погрешности"
   ]
  },
  {
   "cell_type": "code",
   "execution_count": 36,
   "metadata": {},
   "outputs": [
    {
     "data": {
      "text/plain": [
       "<matplotlib.legend.Legend at 0x7f5932f75910>"
      ]
     },
     "execution_count": 36,
     "metadata": {},
     "output_type": "execute_result"
    },
    {
     "data": {
      "image/png": "[encoded data removed]",
      "text/plain": [
       "<Figure size 432x288 with 1 Axes>"
      ]
     },
     "metadata": {
      "needs_background": "light"
     },
     "output_type": "display_data"
    }
   ],
   "source": [
    "from matplotlib import pyplot as plt\n",
    "# история изменения значений ф-ции потери\n",
    "plt.plot(loss_history,label='min loss=%.3f'%(min(loss_history)))\n",
    "plt.grid()\n",
    "plt.legend()"
   ]
  },
  {
   "cell_type": "code",
   "execution_count": 37,
   "metadata": {},
   "outputs": [
    {
     "data": {
      "text/plain": [
       "<matplotlib.legend.Legend at 0x7f595d2f94c0>"
      ]
     },
     "execution_count": 37,
     "metadata": {},
     "output_type": "execute_result"
    },
    {
     "data": {
      "image/png": "[encoded data removed]",
      "text/plain": [
       "<Figure size 432x288 with 1 Axes>"
      ]
     },
     "metadata": {
      "needs_background": "light"
     },
     "output_type": "display_data"
    }
   ],
   "source": [
    "# история изменения значений погрешности модели\n",
    "plt.plot(acc_history,label='max acc=%.3f'%(max(acc_history)),c='r')\n",
    "plt.grid()\n",
    "plt.legend()"
   ]
  },
  {
   "cell_type": "markdown",
   "metadata": {},
   "source": [
    "## проверяем результат"
   ]
  },
  {
   "cell_type": "code",
   "execution_count": 38,
   "metadata": {},
   "outputs": [
    {
     "name": "stdout",
     "output_type": "stream",
     "text": [
      "              precision    recall  f1-score   support\n",
      "\n",
      "           0       0.88      0.88      0.88     44518\n",
      "           1       0.88      0.89      0.88     45931\n",
      "\n",
      "    accuracy                           0.88     90449\n",
      "   macro avg       0.88      0.88      0.88     90449\n",
      "weighted avg       0.88      0.88      0.88     90449\n",
      "\n"
     ]
    }
   ],
   "source": [
    "dataset_test = TensorDataset(torch.tensor(x_test), torch.tensor(y_test) )\n",
    "\n",
    "with torch.set_grad_enabled(False):\n",
    "    o_test = np.hstack([\n",
    "            np.argmax( model(x.to(device)).cpu().numpy(),axis=1 )\n",
    "            for x,_ in DataLoader(dataset_test, batch_size=len(dataset_test)//100, shuffle=False)\n",
    "        ])\n",
    "    \n",
    "from sklearn.metrics import classification_report\n",
    "print(classification_report( np.argmax(y_test,axis=1),o_test))"
   ]
  },
  {
   "cell_type": "code",
   "execution_count": null,
   "metadata": {},
   "outputs": [],
   "source": []
  }
 ],
 "metadata": {
  "kernelspec": {
   "display_name": "Python 3 (ipykernel)",
   "language": "python",
   "name": "python3"
  },
  "language_info": {
   "codemirror_mode": {
    "name": "ipython",
    "version": 3
   },
   "file_extension": ".py",
   "mimetype": "text/x-python",
   "name": "python",
   "nbconvert_exporter": "python",
   "pygments_lexer": "ipython3",
   "version": "3.8.9"
  },
  "toc": {
   "base_numbering": 1,
   "nav_menu": {},
   "number_sections": true,
   "sideBar": true,
   "skip_h1_title": false,
   "title_cell": "Table of Contents",
   "title_sidebar": "Contents",
   "toc_cell": false,
   "toc_position": {},
   "toc_section_display": "block",
   "toc_window_display": false
  }
 },
 "nbformat": 4,
 "nbformat_minor": 4
}
