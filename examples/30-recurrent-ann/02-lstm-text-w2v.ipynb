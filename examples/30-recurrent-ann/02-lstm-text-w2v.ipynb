{
 "cells": [
  {
   "cell_type": "markdown",
   "metadata": {},
   "source": [
    "**классификатор текстов LSTM + W2V**\n",
    "\n",
    "Евгений Борисов <esborisov@sevsu.ru>"
   ]
  },
  {
   "cell_type": "markdown",
   "metadata": {},
   "source": [
    "## Данные"
   ]
  },
  {
   "cell_type": "raw",
   "metadata": {},
   "source": [
    "Ю. В. Рубцова. Построение корпуса текстов для настройки тонового классификатора // Программные продукты и системы, 2015, №1(109), –С.72-78\n",
    "\n",
    "http://study.mokoron.com\n",
    "\n",
    "– id: уникальный номер сообщения в системе twitter;\n",
    "– tdate: дата публикации сообщения (твита);\n",
    "– tmane: имя пользователя, опубликовавшего сообщение;\n",
    "– ttext:  текст сообщения (твита);\n",
    "– ttype: поле в котором в дальнейшем будет указано к кому классу относится твит (положительный, отрицательный, нейтральный);\n",
    "– trep: количество реплаев к данному сообщению. В настоящий момент API твиттера не отдает эту информацию;\n",
    "– tfav: число сколько раз данное сообщение было добавлено в избранное другими пользователями;\n",
    "– tstcount: число всех сообщений пользователя в сети twitter;\n",
    "– tfol: количество фоловеров пользователя (тех людей, которые читают пользователя);\n",
    "– tfrien: количество друзей пользователя (те люди, которых читает пользователь);\n",
    "– listcount: количество листов-подписок в которые добавлен твиттер-пользователь."
   ]
  },
  {
   "cell_type": "code",
   "execution_count": 1,
   "metadata": {},
   "outputs": [],
   "source": [
    "import pandas as pd\n",
    "from tqdm.notebook import tqdm\n",
    "tqdm.pandas()        \n",
    "pd.options.display.max_colwidth = 200 "
   ]
  },
  {
   "cell_type": "code",
   "execution_count": 2,
   "metadata": {},
   "outputs": [
    {
     "name": "stdout",
     "output_type": "stream",
     "text": [
      "negative: 111923 \n",
      "positive: 114911\n"
     ]
    },
    {
     "data": {
      "text/html": [
       "<div>\n",
       "<style scoped>\n",
       "    .dataframe tbody tr th:only-of-type {\n",
       "        vertical-align: middle;\n",
       "    }\n",
       "\n",
       "    .dataframe tbody tr th {\n",
       "        vertical-align: top;\n",
       "    }\n",
       "\n",
       "    .dataframe thead th {\n",
       "        text-align: right;\n",
       "    }\n",
       "</style>\n",
       "<table border=\"1\" class=\"dataframe\">\n",
       "  <thead>\n",
       "    <tr style=\"text-align: right;\">\n",
       "      <th></th>\n",
       "      <th>id</th>\n",
       "      <th>ttext</th>\n",
       "      <th>ttype</th>\n",
       "    </tr>\n",
       "  </thead>\n",
       "  <tbody>\n",
       "    <tr>\n",
       "      <th>1250</th>\n",
       "      <td>409190447953608704</td>\n",
       "      <td>@kitsune__2 да :\"C за мгимо вообще обидно(</td>\n",
       "      <td>-1</td>\n",
       "    </tr>\n",
       "    <tr>\n",
       "      <th>107037</th>\n",
       "      <td>424218057662160896</td>\n",
       "      <td>Продолжаем серию обзоров мобильных приложений @habrahabr_ru. Сегодня анализируем приложение #Android “ЖД билеты” (</td>\n",
       "      <td>-1</td>\n",
       "    </tr>\n",
       "    <tr>\n",
       "      <th>47835</th>\n",
       "      <td>414972176337747968</td>\n",
       "      <td>Доброе утро всем!\\nа у меня война миров в домашн.х условиях(</td>\n",
       "      <td>-1</td>\n",
       "    </tr>\n",
       "    <tr>\n",
       "      <th>47766</th>\n",
       "      <td>410010558314729473</td>\n",
       "      <td>@_jumbie да ради Бога )) двери моего дома всегда открыты ))) заодно Эппл повидаете ))</td>\n",
       "      <td>1</td>\n",
       "    </tr>\n",
       "    <tr>\n",
       "      <th>1173</th>\n",
       "      <td>408919513472958464</td>\n",
       "      <td>Блиин ну я не могу)))вы бы видели как он пропархал)))шёл и так миленько ручками размахивал:D мне это реально даже не описать факчертвозьми</td>\n",
       "      <td>1</td>\n",
       "    </tr>\n",
       "    <tr>\n",
       "      <th>12897</th>\n",
       "      <td>409318461626933249</td>\n",
       "      <td>Слепили с бабушкой пельмени)) http://t.co/Bvsm6CgwVN</td>\n",
       "      <td>1</td>\n",
       "    </tr>\n",
       "    <tr>\n",
       "      <th>70536</th>\n",
       "      <td>417744070283640832</td>\n",
       "      <td>Отпусти и забудь что прошло уже не вернуть((((</td>\n",
       "      <td>-1</td>\n",
       "    </tr>\n",
       "    <tr>\n",
       "      <th>36919</th>\n",
       "      <td>413698466481967104</td>\n",
       "      <td>А я всегда считала его собакой( \"@afishavozduh: парад лучших драконов в мировом кинематографе http://t.co/cjg8aqP2Gh http://t.co/GlH2Ny9NYN\"</td>\n",
       "      <td>-1</td>\n",
       "    </tr>\n",
       "    <tr>\n",
       "      <th>74146</th>\n",
       "      <td>418624699149852672</td>\n",
       "      <td>@liyaholmatovaaa @kamila_maf @Karinabobr в 13:30,но мне в 2 надо дома быыыть((</td>\n",
       "      <td>-1</td>\n",
       "    </tr>\n",
       "    <tr>\n",
       "      <th>78987</th>\n",
       "      <td>410726736406396929</td>\n",
       "      <td>@MashaCet22 напиши моё имя с большой буквы, аахах)))))</td>\n",
       "      <td>1</td>\n",
       "    </tr>\n",
       "  </tbody>\n",
       "</table>\n",
       "</div>"
      ],
      "text/plain": [
       "                        id  \\\n",
       "1250    409190447953608704   \n",
       "107037  424218057662160896   \n",
       "47835   414972176337747968   \n",
       "47766   410010558314729473   \n",
       "1173    408919513472958464   \n",
       "12897   409318461626933249   \n",
       "70536   417744070283640832   \n",
       "36919   413698466481967104   \n",
       "74146   418624699149852672   \n",
       "78987   410726736406396929   \n",
       "\n",
       "                                                                                                                                               ttext  \\\n",
       "1250                                                                                                      @kitsune__2 да :\"C за мгимо вообще обидно(   \n",
       "107037                            Продолжаем серию обзоров мобильных приложений @habrahabr_ru. Сегодня анализируем приложение #Android “ЖД билеты” (   \n",
       "47835                                                                                   Доброе утро всем!\\nа у меня война миров в домашн.х условиях(   \n",
       "47766                                                          @_jumbie да ради Бога )) двери моего дома всегда открыты ))) заодно Эппл повидаете ))   \n",
       "1173     Блиин ну я не могу)))вы бы видели как он пропархал)))шёл и так миленько ручками размахивал:D мне это реально даже не описать факчертвозьми    \n",
       "12897                                                                                           Слепили с бабушкой пельмени)) http://t.co/Bvsm6CgwVN   \n",
       "70536                                                                                                 Отпусти и забудь что прошло уже не вернуть((((   \n",
       "36919   А я всегда считала его собакой( \"@afishavozduh: парад лучших драконов в мировом кинематографе http://t.co/cjg8aqP2Gh http://t.co/GlH2Ny9NYN\"   \n",
       "74146                                                                 @liyaholmatovaaa @kamila_maf @Karinabobr в 13:30,но мне в 2 надо дома быыыть((   \n",
       "78987                                                                                         @MashaCet22 напиши моё имя с большой буквы, аахах)))))   \n",
       "\n",
       "        ttype  \n",
       "1250       -1  \n",
       "107037     -1  \n",
       "47835      -1  \n",
       "47766       1  \n",
       "1173        1  \n",
       "12897       1  \n",
       "70536      -1  \n",
       "36919      -1  \n",
       "74146      -1  \n",
       "78987       1  "
      ]
     },
     "execution_count": 2,
     "metadata": {},
     "output_type": "execute_result"
    }
   ],
   "source": [
    "ff = ['id', 'tdate', 'tmane', 'ttext', 'ttype', 'trep', 'tfav', 'tstcount', 'tfol', 'tfrien', 'listcount','unk']\n",
    "\n",
    "data = pd.concat([\n",
    "    pd.read_csv('data/positive.csv.gz',sep=';',header=None),\n",
    "    pd.read_csv('data/negative.csv.gz',sep=';',header=None),\n",
    "])\n",
    "\n",
    "data.columns = ff\n",
    "\n",
    "data = data[['id','ttext', 'ttype']]\n",
    "\n",
    "print( 'negative:', len(data.query('ttype==-1')), '\\npositive:',len(data.query('ttype==1')) )\n",
    "\n",
    "data.sample(10)"
   ]
  },
  {
   "cell_type": "code",
   "execution_count": 3,
   "metadata": {},
   "outputs": [],
   "source": [
    "import re"
   ]
  },
  {
   "cell_type": "code",
   "execution_count": 4,
   "metadata": {},
   "outputs": [],
   "source": [
    "# применяет список замен pat к строке s\n",
    "def replace_patterns(s,pat):\n",
    "    if len(pat)<1: return s\n",
    "    return  replace_patterns( re.sub(pat[0][0],pat[0][1],s), pat[1:] )\n",
    "\n",
    "# нормализация текста\n",
    "def string_normalizer(s):\n",
    "    pat = [\n",
    "      #[r'ё','е'] # замена ё для унификации\n",
    "      #,[r'</?[a-z]+>',' '] # удаляем xml\n",
    "      [r'[:;]-*[)D]',' радость ']\n",
    "      ,[r'\\)\\)\\)*',' радость ']\n",
    "      ,[r'[:;]\\*',' поцелуй ']\n",
    "      ,[r':\\(',' печаль ']\n",
    "      ,[r'\\(\\(\\(*',' печаль ']\n",
    "    ]\n",
    "    return replace_patterns(s,pat).strip()"
   ]
  },
  {
   "cell_type": "code",
   "execution_count": 5,
   "metadata": {},
   "outputs": [
    {
     "data": {
      "application/vnd.jupyter.widget-view+json": {
       "model_id": "1a8012e50f8c4623ba322c93d901a51f",
       "version_major": 2,
       "version_minor": 0
      },
      "text/plain": [
       "  0%|          | 0/226834 [00:00<?, ?it/s]"
      ]
     },
     "metadata": {},
     "output_type": "display_data"
    }
   ],
   "source": [
    "data['ttext_'] = data['ttext'].progress_apply(string_normalizer)"
   ]
  },
  {
   "cell_type": "code",
   "execution_count": 6,
   "metadata": {},
   "outputs": [],
   "source": [
    "# data"
   ]
  },
  {
   "cell_type": "code",
   "execution_count": 7,
   "metadata": {},
   "outputs": [],
   "source": [
    "from nltk.tokenize import word_tokenize as nltk_tokenize_word"
   ]
  },
  {
   "cell_type": "code",
   "execution_count": 8,
   "metadata": {},
   "outputs": [],
   "source": [
    "def tokenize(line): # разбиваем предложения на слова\n",
    "    return    [ \n",
    "        t.lower() \n",
    "        for t in nltk_tokenize_word(line) \n",
    "        if re.match(r'[а-я -]+',t.lower()) and len(t)>1 \n",
    "        #      if not( (t.lower() in stopwords) or (len(t)<3) ) \n",
    "    ] "
   ]
  },
  {
   "cell_type": "code",
   "execution_count": 9,
   "metadata": {},
   "outputs": [
    {
     "data": {
      "application/vnd.jupyter.widget-view+json": {
       "model_id": "7011f84a168844eaac4da97f88544a50",
       "version_major": 2,
       "version_minor": 0
      },
      "text/plain": [
       "  0%|          | 0/226834 [00:00<?, ?it/s]"
      ]
     },
     "metadata": {},
     "output_type": "display_data"
    }
   ],
   "source": [
    "data['ttext_'] = data['ttext_'].progress_apply(tokenize)"
   ]
  },
  {
   "cell_type": "code",
   "execution_count": 10,
   "metadata": {},
   "outputs": [
    {
     "data": {
      "text/html": [
       "<div>\n",
       "<style scoped>\n",
       "    .dataframe tbody tr th:only-of-type {\n",
       "        vertical-align: middle;\n",
       "    }\n",
       "\n",
       "    .dataframe tbody tr th {\n",
       "        vertical-align: top;\n",
       "    }\n",
       "\n",
       "    .dataframe thead th {\n",
       "        text-align: right;\n",
       "    }\n",
       "</style>\n",
       "<table border=\"1\" class=\"dataframe\">\n",
       "  <thead>\n",
       "    <tr style=\"text-align: right;\">\n",
       "      <th></th>\n",
       "      <th>id</th>\n",
       "      <th>ttext</th>\n",
       "      <th>ttype</th>\n",
       "      <th>ttext_</th>\n",
       "    </tr>\n",
       "  </thead>\n",
       "  <tbody>\n",
       "    <tr>\n",
       "      <th>93364</th>\n",
       "      <td>422351126676398080</td>\n",
       "      <td>НЕ.МОГУ.ПОВЕРИТЬ.ЧТО.ЗАВТРА.В.ШКОЛУ!!!:(((((((((</td>\n",
       "      <td>-1</td>\n",
       "      <td>[не.могу.поверить.что.завтра.в.школу, печаль, печаль]</td>\n",
       "    </tr>\n",
       "    <tr>\n",
       "      <th>90952</th>\n",
       "      <td>410849647352373249</td>\n",
       "      <td>@Alena40477060 Всё ещё должно быть в снежинках- красиво переливаются)))))Аленка- слаааадко спать)))))</td>\n",
       "      <td>1</td>\n",
       "      <td>[всё, ещё, должно, быть, снежинках-, красиво, переливаются, радость, аленка-, слаааадко, спать, радость]</td>\n",
       "    </tr>\n",
       "    <tr>\n",
       "      <th>112838</th>\n",
       "      <td>411211923578187776</td>\n",
       "      <td>@din_thomas_ Не знаю, я всегда ленту читаю. Просто в откликах странно сидеть.\\nНу и понятно почему я сразу во все переписки влезаю)</td>\n",
       "      <td>1</td>\n",
       "      <td>[не, знаю, всегда, ленту, читаю, просто, откликах, странно, сидеть, ну, понятно, почему, сразу, во, все, переписки, влезаю]</td>\n",
       "    </tr>\n",
       "    <tr>\n",
       "      <th>60001</th>\n",
       "      <td>416436849142272001</td>\n",
       "      <td>@craazyyymofo сочувствую((\\nя на них тоже не ходила, из-за музыкалки...\\nи всем, по-моему, тоже было пофиг</td>\n",
       "      <td>-1</td>\n",
       "      <td>[сочувствую, печаль, на, них, тоже, не, ходила, из-за, музыкалки, всем, по-моему, тоже, было, пофиг]</td>\n",
       "    </tr>\n",
       "    <tr>\n",
       "      <th>70817</th>\n",
       "      <td>410471617253605376</td>\n",
       "      <td>Моя знакомая бывшая трахалась в 13 лет с мужиком, которому 24:-)  у него семья, дети,  она еще его засадила, обвинила его в изнасиловании</td>\n",
       "      <td>1</td>\n",
       "      <td>[моя, знакомая, бывшая, трахалась, лет, мужиком, которому, радость, него, семья, дети, она, еще, его, засадила, обвинила, его, изнасиловании]</td>\n",
       "    </tr>\n",
       "    <tr>\n",
       "      <th>26298</th>\n",
       "      <td>409574678269685760</td>\n",
       "      <td>Готовила вечером мороженое:) http://t.co/JpzgVaZKhH</td>\n",
       "      <td>1</td>\n",
       "      <td>[готовила, вечером, мороженое, радость]</td>\n",
       "    </tr>\n",
       "    <tr>\n",
       "      <th>39395</th>\n",
       "      <td>413834919400706048</td>\n",
       "      <td>Одна пара и то общество, о госпади зачем мы едем :(</td>\n",
       "      <td>-1</td>\n",
       "      <td>[одна, пара, то, общество, госпади, зачем, мы, едем, печаль]</td>\n",
       "    </tr>\n",
       "    <tr>\n",
       "      <th>83545</th>\n",
       "      <td>419907153055719424</td>\n",
       "      <td>RT @naran_official: Современные отношения((( http://t.co/NNWR0Kk8vX</td>\n",
       "      <td>-1</td>\n",
       "      <td>[современные, отношения, печаль]</td>\n",
       "    </tr>\n",
       "    <tr>\n",
       "      <th>96500</th>\n",
       "      <td>422743469673566209</td>\n",
       "      <td>@ponyashka_ Мне мама тоже самое вчера сказала :(</td>\n",
       "      <td>-1</td>\n",
       "      <td>[мне, мама, тоже, самое, вчера, сказала, печаль]</td>\n",
       "    </tr>\n",
       "    <tr>\n",
       "      <th>26595</th>\n",
       "      <td>412397817786007553</td>\n",
       "      <td>Сижу в аэроэкспрессе на белорусской. Отправление через пять минут. Кажется, я опаздываю на самолёт. :(</td>\n",
       "      <td>-1</td>\n",
       "      <td>[сижу, аэроэкспрессе, на, белорусской, отправление, через, пять, минут, кажется, опаздываю, на, самолёт, печаль]</td>\n",
       "    </tr>\n",
       "  </tbody>\n",
       "</table>\n",
       "</div>"
      ],
      "text/plain": [
       "                        id  \\\n",
       "93364   422351126676398080   \n",
       "90952   410849647352373249   \n",
       "112838  411211923578187776   \n",
       "60001   416436849142272001   \n",
       "70817   410471617253605376   \n",
       "26298   409574678269685760   \n",
       "39395   413834919400706048   \n",
       "83545   419907153055719424   \n",
       "96500   422743469673566209   \n",
       "26595   412397817786007553   \n",
       "\n",
       "                                                                                                                                            ttext  \\\n",
       "93364                                                                                            НЕ.МОГУ.ПОВЕРИТЬ.ЧТО.ЗАВТРА.В.ШКОЛУ!!!:(((((((((   \n",
       "90952                                       @Alena40477060 Всё ещё должно быть в снежинках- красиво переливаются)))))Аленка- слаааадко спать)))))   \n",
       "112838        @din_thomas_ Не знаю, я всегда ленту читаю. Просто в откликах странно сидеть.\\nНу и понятно почему я сразу во все переписки влезаю)   \n",
       "60001                                  @craazyyymofo сочувствую((\\nя на них тоже не ходила, из-за музыкалки...\\nи всем, по-моему, тоже было пофиг   \n",
       "70817   Моя знакомая бывшая трахалась в 13 лет с мужиком, которому 24:-)  у него семья, дети,  она еще его засадила, обвинила его в изнасиловании   \n",
       "26298                                                                                         Готовила вечером мороженое:) http://t.co/JpzgVaZKhH   \n",
       "39395                                                                                         Одна пара и то общество, о госпади зачем мы едем :(   \n",
       "83545                                                                         RT @naran_official: Современные отношения((( http://t.co/NNWR0Kk8vX   \n",
       "96500                                                                                            @ponyashka_ Мне мама тоже самое вчера сказала :(   \n",
       "26595                                      Сижу в аэроэкспрессе на белорусской. Отправление через пять минут. Кажется, я опаздываю на самолёт. :(   \n",
       "\n",
       "        ttype  \\\n",
       "93364      -1   \n",
       "90952       1   \n",
       "112838      1   \n",
       "60001      -1   \n",
       "70817       1   \n",
       "26298       1   \n",
       "39395      -1   \n",
       "83545      -1   \n",
       "96500      -1   \n",
       "26595      -1   \n",
       "\n",
       "                                                                                                                                               ttext_  \n",
       "93364                                                                                           [не.могу.поверить.что.завтра.в.школу, печаль, печаль]  \n",
       "90952                                        [всё, ещё, должно, быть, снежинках-, красиво, переливаются, радость, аленка-, слаааадко, спать, радость]  \n",
       "112838                    [не, знаю, всегда, ленту, читаю, просто, откликах, странно, сидеть, ну, понятно, почему, сразу, во, все, переписки, влезаю]  \n",
       "60001                                            [сочувствую, печаль, на, них, тоже, не, ходила, из-за, музыкалки, всем, по-моему, тоже, было, пофиг]  \n",
       "70817   [моя, знакомая, бывшая, трахалась, лет, мужиком, которому, радость, него, семья, дети, она, еще, его, засадила, обвинила, его, изнасиловании]  \n",
       "26298                                                                                                         [готовила, вечером, мороженое, радость]  \n",
       "39395                                                                                    [одна, пара, то, общество, госпади, зачем, мы, едем, печаль]  \n",
       "83545                                                                                                                [современные, отношения, печаль]  \n",
       "96500                                                                                                [мне, мама, тоже, самое, вчера, сказала, печаль]  \n",
       "26595                                [сижу, аэроэкспрессе, на, белорусской, отправление, через, пять, минут, кажется, опаздываю, на, самолёт, печаль]  "
      ]
     },
     "execution_count": 10,
     "metadata": {},
     "output_type": "execute_result"
    }
   ],
   "source": [
    "data.sample(10)"
   ]
  },
  {
   "cell_type": "code",
   "execution_count": 11,
   "metadata": {},
   "outputs": [
    {
     "data": {
      "text/plain": [
       "35"
      ]
     },
     "execution_count": 11,
     "metadata": {},
     "output_type": "execute_result"
    }
   ],
   "source": [
    "# data[ data['ttext_'].str.len()<1 ]\n",
    "max_len = data['ttext_'].str.len().max()\n",
    "max_len"
   ]
  },
  {
   "cell_type": "code",
   "execution_count": 12,
   "metadata": {},
   "outputs": [
    {
     "data": {
      "text/html": [
       "<div>\n",
       "<style scoped>\n",
       "    .dataframe tbody tr th:only-of-type {\n",
       "        vertical-align: middle;\n",
       "    }\n",
       "\n",
       "    .dataframe tbody tr th {\n",
       "        vertical-align: top;\n",
       "    }\n",
       "\n",
       "    .dataframe thead th {\n",
       "        text-align: right;\n",
       "    }\n",
       "</style>\n",
       "<table border=\"1\" class=\"dataframe\">\n",
       "  <thead>\n",
       "    <tr style=\"text-align: right;\">\n",
       "      <th></th>\n",
       "      <th>id</th>\n",
       "      <th>ttext</th>\n",
       "      <th>ttype</th>\n",
       "      <th>ttext_</th>\n",
       "    </tr>\n",
       "  </thead>\n",
       "  <tbody>\n",
       "    <tr>\n",
       "      <th>66829</th>\n",
       "      <td>410387338087632896</td>\n",
       "      <td>RT @olesyaglee: @ktyekmrf30 http://t.co/fBbOR9RPLn х)</td>\n",
       "      <td>1</td>\n",
       "      <td>[]</td>\n",
       "    </tr>\n",
       "    <tr>\n",
       "      <th>70030</th>\n",
       "      <td>410465659223810048</td>\n",
       "      <td>RT @MilanaRepina: @LenocPlotnikova ❤спасиииибо) http://t.co/aO0vwsolYd</td>\n",
       "      <td>1</td>\n",
       "      <td>[]</td>\n",
       "    </tr>\n",
       "    <tr>\n",
       "      <th>77139</th>\n",
       "      <td>410705991714738176</td>\n",
       "      <td>RT @Mariya_Mila: С @ErmachonokAnton ) http://t.co/LmCxpsSoQG</td>\n",
       "      <td>1</td>\n",
       "      <td>[]</td>\n",
       "    </tr>\n",
       "    <tr>\n",
       "      <th>101718</th>\n",
       "      <td>411095547144306688</td>\n",
       "      <td>RT @Dasha_Jenner: @poolyasha П О Л Я \\nТ Ы \\nХ О Р О Ш А Я : )</td>\n",
       "      <td>1</td>\n",
       "      <td>[]</td>\n",
       "    </tr>\n",
       "    <tr>\n",
       "      <th>114606</th>\n",
       "      <td>411364795800354816</td>\n",
       "      <td>RT @sergey0495: http://t.co/dsvJIQP5Tgпробки 10баллов)</td>\n",
       "      <td>1</td>\n",
       "      <td>[]</td>\n",
       "    </tr>\n",
       "    <tr>\n",
       "      <th>9374</th>\n",
       "      <td>410306860089364480</td>\n",
       "      <td>RT @_Batonchik_: @cekc_tyt @aabdullaeva1 @chemicalechelon @frank_james45 @herlocked @misty_marcie @mywhisper @to_over_kill @whoresdiefirst …</td>\n",
       "      <td>-1</td>\n",
       "      <td>[]</td>\n",
       "    </tr>\n",
       "    <tr>\n",
       "      <th>12183</th>\n",
       "      <td>410753661065625600</td>\n",
       "      <td>@Katyaaa_fly @Vituska1998 @daria_hey и я(</td>\n",
       "      <td>-1</td>\n",
       "      <td>[]</td>\n",
       "    </tr>\n",
       "    <tr>\n",
       "      <th>21396</th>\n",
       "      <td>411751245129744385</td>\n",
       "      <td>RT @SolarEclipse57: @girl_turner666 @SCOOB_JOE @Geronimo_woohoo @drinkthecyani @SolarEclipse57 @greennwood @BrianMolko_off @bananacookiee @…</td>\n",
       "      <td>-1</td>\n",
       "      <td>[]</td>\n",
       "    </tr>\n",
       "    <tr>\n",
       "      <th>28025</th>\n",
       "      <td>412591386681409536</td>\n",
       "      <td>@hasio_original и @whitebro_ http://t.co/dupuQSnm6D</td>\n",
       "      <td>-1</td>\n",
       "      <td>[]</td>\n",
       "    </tr>\n",
       "    <tr>\n",
       "      <th>29153</th>\n",
       "      <td>412648375071158272</td>\n",
       "      <td>@VasylevaMasha и я( http://t.co/GilYbA6TzZ</td>\n",
       "      <td>-1</td>\n",
       "      <td>[]</td>\n",
       "    </tr>\n",
       "    <tr>\n",
       "      <th>47515</th>\n",
       "      <td>414807981432508416</td>\n",
       "      <td>RT @unixOS_ctts: @Mo_OnMery @SimplyShot @_Shavka_ @arbyziik @_tentazione_ @robert_dakota @el_ectro_nick @ligi_chan_ @ser___gay @_humiliatio…</td>\n",
       "      <td>-1</td>\n",
       "      <td>[]</td>\n",
       "    </tr>\n",
       "    <tr>\n",
       "      <th>53567</th>\n",
       "      <td>415552314469253123</td>\n",
       "      <td>RT @prisonero_O: О Р У http://t.co/6AiQCDayuO</td>\n",
       "      <td>-1</td>\n",
       "      <td>[]</td>\n",
       "    </tr>\n",
       "    <tr>\n",
       "      <th>53605</th>\n",
       "      <td>415554116765904896</td>\n",
       "      <td>RT @prisonero_O: О Р У http://t.co/6AiQCDayuO</td>\n",
       "      <td>-1</td>\n",
       "      <td>[]</td>\n",
       "    </tr>\n",
       "    <tr>\n",
       "      <th>60236</th>\n",
       "      <td>416461338831880192</td>\n",
       "      <td>@Mikky_Acorn @DNO_OKEANA_A3A3 @korelina1999 @chashhixinNic м</td>\n",
       "      <td>-1</td>\n",
       "      <td>[]</td>\n",
       "    </tr>\n",
       "    <tr>\n",
       "      <th>64224</th>\n",
       "      <td>416956575543078912</td>\n",
       "      <td>@miroshka_n @AmericanPando @_EGOIST_FUCK_ @Do_Or_Die_xxx @18_marina_g @Nastia_GD :З</td>\n",
       "      <td>-1</td>\n",
       "      <td>[]</td>\n",
       "    </tr>\n",
       "    <tr>\n",
       "      <th>81037</th>\n",
       "      <td>419724193400631296</td>\n",
       "      <td>@Juletta163 @SlavaTogliatti @harakiri_killss :о(</td>\n",
       "      <td>-1</td>\n",
       "      <td>[]</td>\n",
       "    </tr>\n",
       "    <tr>\n",
       "      <th>86274</th>\n",
       "      <td>420933408051580929</td>\n",
       "      <td>д у е ш ь ? \\nн е т , с у к а . д о л б а н у т ы й а с к (</td>\n",
       "      <td>-1</td>\n",
       "      <td>[]</td>\n",
       "    </tr>\n",
       "    <tr>\n",
       "      <th>94601</th>\n",
       "      <td>422426335504769024</td>\n",
       "      <td>RT @o_OalinkO_o: .бывает . http://t.co/Ul93T0EMiZ</td>\n",
       "      <td>-1</td>\n",
       "      <td>[]</td>\n",
       "    </tr>\n",
       "    <tr>\n",
       "      <th>95037</th>\n",
       "      <td>422603839511220224</td>\n",
       "      <td>RT @Panda_s_Marsa: 6к \\n@AleksandraEbert \\n@Shanny_Iero_xo \\n@to_over_kill\\n@LP_Kesha \\n@musicinemalover \\n@amarant_win @miss_androgyny_ \\n@Bloody…</td>\n",
       "      <td>-1</td>\n",
       "      <td>[]</td>\n",
       "    </tr>\n",
       "  </tbody>\n",
       "</table>\n",
       "</div>"
      ],
      "text/plain": [
       "                        id  \\\n",
       "66829   410387338087632896   \n",
       "70030   410465659223810048   \n",
       "77139   410705991714738176   \n",
       "101718  411095547144306688   \n",
       "114606  411364795800354816   \n",
       "9374    410306860089364480   \n",
       "12183   410753661065625600   \n",
       "21396   411751245129744385   \n",
       "28025   412591386681409536   \n",
       "29153   412648375071158272   \n",
       "47515   414807981432508416   \n",
       "53567   415552314469253123   \n",
       "53605   415554116765904896   \n",
       "60236   416461338831880192   \n",
       "64224   416956575543078912   \n",
       "81037   419724193400631296   \n",
       "86274   420933408051580929   \n",
       "94601   422426335504769024   \n",
       "95037   422603839511220224   \n",
       "\n",
       "                                                                                                                                                      ttext  \\\n",
       "66829                                                                                                 RT @olesyaglee: @ktyekmrf30 http://t.co/fBbOR9RPLn х)   \n",
       "70030                                                                                RT @MilanaRepina: @LenocPlotnikova ❤спасиииибо) http://t.co/aO0vwsolYd   \n",
       "77139                                                                                          RT @Mariya_Mila: С @ErmachonokAnton ) http://t.co/LmCxpsSoQG   \n",
       "101718                                                                                       RT @Dasha_Jenner: @poolyasha П О Л Я \\nТ Ы \\nХ О Р О Ш А Я : )   \n",
       "114606                                                                                               RT @sergey0495: http://t.co/dsvJIQP5Tgпробки 10баллов)   \n",
       "9374           RT @_Batonchik_: @cekc_tyt @aabdullaeva1 @chemicalechelon @frank_james45 @herlocked @misty_marcie @mywhisper @to_over_kill @whoresdiefirst …   \n",
       "12183                                                                                                             @Katyaaa_fly @Vituska1998 @daria_hey и я(   \n",
       "21396          RT @SolarEclipse57: @girl_turner666 @SCOOB_JOE @Geronimo_woohoo @drinkthecyani @SolarEclipse57 @greennwood @BrianMolko_off @bananacookiee @…   \n",
       "28025                                                                                                   @hasio_original и @whitebro_ http://t.co/dupuQSnm6D   \n",
       "29153                                                                                                            @VasylevaMasha и я( http://t.co/GilYbA6TzZ   \n",
       "47515          RT @unixOS_ctts: @Mo_OnMery @SimplyShot @_Shavka_ @arbyziik @_tentazione_ @robert_dakota @el_ectro_nick @ligi_chan_ @ser___gay @_humiliatio…   \n",
       "53567                                                                                                         RT @prisonero_O: О Р У http://t.co/6AiQCDayuO   \n",
       "53605                                                                                                         RT @prisonero_O: О Р У http://t.co/6AiQCDayuO   \n",
       "60236                                                                                          @Mikky_Acorn @DNO_OKEANA_A3A3 @korelina1999 @chashhixinNic м   \n",
       "64224                                                                   @miroshka_n @AmericanPando @_EGOIST_FUCK_ @Do_Or_Die_xxx @18_marina_g @Nastia_GD :З   \n",
       "81037                                                                                                      @Juletta163 @SlavaTogliatti @harakiri_killss :о(   \n",
       "86274                                                                                           д у е ш ь ? \\nн е т , с у к а . д о л б а н у т ы й а с к (   \n",
       "94601                                                                                                     RT @o_OalinkO_o: .бывает . http://t.co/Ul93T0EMiZ   \n",
       "95037   RT @Panda_s_Marsa: 6к \\n@AleksandraEbert \\n@Shanny_Iero_xo \\n@to_over_kill\\n@LP_Kesha \\n@musicinemalover \\n@amarant_win @miss_androgyny_ \\n@Bloody…   \n",
       "\n",
       "        ttype ttext_  \n",
       "66829       1     []  \n",
       "70030       1     []  \n",
       "77139       1     []  \n",
       "101718      1     []  \n",
       "114606      1     []  \n",
       "9374       -1     []  \n",
       "12183      -1     []  \n",
       "21396      -1     []  \n",
       "28025      -1     []  \n",
       "29153      -1     []  \n",
       "47515      -1     []  \n",
       "53567      -1     []  \n",
       "53605      -1     []  \n",
       "60236      -1     []  \n",
       "64224      -1     []  \n",
       "81037      -1     []  \n",
       "86274      -1     []  \n",
       "94601      -1     []  \n",
       "95037      -1     []  "
      ]
     },
     "execution_count": 12,
     "metadata": {},
     "output_type": "execute_result"
    }
   ],
   "source": [
    "data[ data['ttext_'].str.len()<1 ]"
   ]
  },
  {
   "cell_type": "code",
   "execution_count": 13,
   "metadata": {},
   "outputs": [
    {
     "name": "stdout",
     "output_type": "stream",
     "text": [
      "negative: 111923 \n",
      "positive: 114911\n"
     ]
    }
   ],
   "source": [
    "print( 'negative:', len(data.query('ttype==-1')), '\\npositive:',len(data.query('ttype==1')) )"
   ]
  },
  {
   "cell_type": "code",
   "execution_count": 14,
   "metadata": {},
   "outputs": [
    {
     "name": "stdout",
     "output_type": "stream",
     "text": [
      "negative: 111909 \n",
      "positive: 114906\n"
     ]
    }
   ],
   "source": [
    "data = data[ data['ttext_'].str.len()>0 ].reset_index(drop=True)\n",
    "print( 'negative:', len(data.query('ttype==-1')), '\\npositive:',len(data.query('ttype==1')) )"
   ]
  },
  {
   "cell_type": "markdown",
   "metadata": {},
   "source": [
    "https://ruscorpora.ru/new/\n",
    "\n",
    "https://nlpub.ru/Russian_Distributional_Thesaurus    "
   ]
  },
  {
   "cell_type": "code",
   "execution_count": 15,
   "metadata": {},
   "outputs": [],
   "source": [
    "import numpy as np\n",
    "from gensim.models.word2vec import KeyedVectors\n",
    "\n",
    "w2v = KeyedVectors.load_word2vec_format('w2v/all.norm-sz100-w10-cb0-it1-min100.w2v',binary=True,limit=100000)"
   ]
  },
  {
   "cell_type": "code",
   "execution_count": 16,
   "metadata": {},
   "outputs": [],
   "source": [
    "# w2v.get_vector('радость').shape"
   ]
  },
  {
   "cell_type": "code",
   "execution_count": 17,
   "metadata": {},
   "outputs": [],
   "source": [
    "# w2v.get_vector('школота') # Error!"
   ]
  },
  {
   "cell_type": "code",
   "execution_count": 18,
   "metadata": {},
   "outputs": [],
   "source": [
    "# 'школота' in w2v\n",
    "# 'радость' in w2v"
   ]
  },
  {
   "cell_type": "code",
   "execution_count": 19,
   "metadata": {},
   "outputs": [
    {
     "data": {
      "application/vnd.jupyter.widget-view+json": {
       "model_id": "ecffeab6cbf141ef8b73a09385b4cb1c",
       "version_major": 2,
       "version_minor": 0
      },
      "text/plain": [
       "  0%|          | 0/226815 [00:00<?, ?it/s]"
      ]
     },
     "metadata": {},
     "output_type": "display_data"
    }
   ],
   "source": [
    "X = [ \n",
    " [ w2v.get_vector(w) for w in l if w in w2v ]\n",
    " for l in tqdm( data['ttext_'] ) \n",
    "]\n",
    "\n",
    "target = data['ttype']"
   ]
  },
  {
   "cell_type": "code",
   "execution_count": 20,
   "metadata": {},
   "outputs": [
    {
     "data": {
      "text/plain": [
       "100"
      ]
     },
     "execution_count": 20,
     "metadata": {},
     "output_type": "execute_result"
    }
   ],
   "source": [
    "w2v_len = len(X[0][0])\n",
    "w2v_len"
   ]
  },
  {
   "cell_type": "code",
   "execution_count": 21,
   "metadata": {},
   "outputs": [
    {
     "data": {
      "text/plain": [
       "((226122, 35, 100), (226122,))"
      ]
     },
     "execution_count": 21,
     "metadata": {},
     "output_type": "execute_result"
    }
   ],
   "source": [
    "z = np.zeros(w2v_len)\n",
    "target = np.array([ target[i] for i,xi in enumerate(X) if len(xi)>0 ])\n",
    "X = np.array([ [z]*(max_len-len(xi)) + xi for xi in X if len(xi)>0  ])\n",
    "X.shape, target.shape"
   ]
  },
  {
   "cell_type": "code",
   "execution_count": 24,
   "metadata": {},
   "outputs": [],
   "source": [
    "target = (target+1)//2"
   ]
  },
  {
   "cell_type": "code",
   "execution_count": null,
   "metadata": {},
   "outputs": [],
   "source": [
    "del w2v"
   ]
  },
  {
   "cell_type": "code",
   "execution_count": 25,
   "metadata": {},
   "outputs": [
    {
     "data": {
      "text/plain": [
       "((135673, 35, 100), (135673,), (90449, 35, 100), (90449,))"
      ]
     },
     "execution_count": 25,
     "metadata": {},
     "output_type": "execute_result"
    }
   ],
   "source": [
    "from sklearn.model_selection import train_test_split\n",
    "\n",
    "x_train, x_test, y_train, y_test = train_test_split( X, target, test_size=.4 )\n",
    "x_train.shape, y_train.shape, x_test.shape, y_test.shape"
   ]
  },
  {
   "cell_type": "markdown",
   "metadata": {},
   "source": [
    "---"
   ]
  },
  {
   "cell_type": "markdown",
   "metadata": {},
   "source": [
    "---"
   ]
  },
  {
   "cell_type": "markdown",
   "metadata": {},
   "source": [
    "## Библиотеки"
   ]
  },
  {
   "cell_type": "code",
   "execution_count": null,
   "metadata": {},
   "outputs": [],
   "source": [
    "# import numpy as np\n",
    "# import pandas as pd\n",
    "# pd.options.display.max_colwidth = 200  \n",
    "# import re\n",
    "# import gc\n",
    "# # import gzip\n",
    "# from tqdm import tqdm\n",
    "# tqdm.pandas()"
   ]
  },
  {
   "cell_type": "markdown",
   "metadata": {},
   "source": [
    "## очистка данных"
   ]
  },
  {
   "cell_type": "code",
   "execution_count": null,
   "metadata": {},
   "outputs": [],
   "source": [
    "data['ttext_clean'] = data['ttext']\\\n",
    "    .progress_apply(lambda t:[ w.strip() for w in t.split() if w.strip() ] )\\\n",
    "    .progress_apply(lambda t:[ re.sub(r'^http.*',' url ', w.strip() ) for w in t ] )\\\n",
    "    .progress_apply(lambda t:[ re.sub(r'^@.*',' twit ', w.strip() ) for w in t ] )\\\n",
    "    .progress_apply(lambda t:[ re.sub(r'[:;]-*[)D]',' happysmile ', w.strip() )for w in t ])\\\n",
    "    .progress_apply(lambda t:[ re.sub(r'\\)\\)\\)*',' happysmile ', w.strip() ) for w in t ])\\\n",
    "    .progress_apply(lambda t:[ re.sub(r'[:;]\\*',' kisssmile ', w.strip() ) for w in t ])\\\n",
    "    .progress_apply(lambda t:[ re.sub(r':\\(',' sadsmile ', w.strip() ) for w in t ])\\\n",
    "    .progress_apply(lambda t:[ re.sub(r'\\(\\(\\(*',' sadsmile ', w.strip() ) for w in t ])"
   ]
  },
  {
   "cell_type": "code",
   "execution_count": null,
   "metadata": {},
   "outputs": [],
   "source": [
    "data['ttext_clean'] = [ ' '.join(s) for s in data['ttext_clean'] ]"
   ]
  },
  {
   "cell_type": "code",
   "execution_count": null,
   "metadata": {},
   "outputs": [],
   "source": [
    "data['ttext_clean'] = data['ttext_clean'].str.lower()\\\n",
    "    .progress_apply(lambda s: re.sub( r'\\W', ' ', s))\\\n",
    "    .progress_apply(lambda s: re.sub( r'_', ' ', s))\\\n",
    "    .progress_apply(lambda s: re.sub( r'\\b\\d+\\b', ' digit ', s))\\\n",
    "    .progress_apply(lambda t:[ w.strip() for w in t.split() if w.strip() ] )\\\n",
    "    .progress_apply(lambda t: [w for w in t if not re.match( r'\\b.*\\d+.*\\b', w) ])"
   ]
  },
  {
   "cell_type": "code",
   "execution_count": null,
   "metadata": {},
   "outputs": [],
   "source": [
    "data.sample(3)"
   ]
  },
  {
   "cell_type": "code",
   "execution_count": null,
   "metadata": {},
   "outputs": [],
   "source": [
    "# удаление коротких слов\n",
    "data['ttext_clean'] = data['ttext_clean'].progress_apply(lambda t:[w for w in t if len(w)>2])"
   ]
  },
  {
   "cell_type": "code",
   "execution_count": null,
   "metadata": {},
   "outputs": [],
   "source": [
    "ppr(data)\n",
    "data = data[ data['ttext_clean'].str.len()>0 ].reset_index(drop=True) \n",
    "ppr(data)"
   ]
  },
  {
   "cell_type": "code",
   "execution_count": null,
   "metadata": {},
   "outputs": [],
   "source": [
    "data.sample(3)"
   ]
  },
  {
   "cell_type": "code",
   "execution_count": null,
   "metadata": {},
   "outputs": [],
   "source": [
    "# voc = sorted(set.union(*[ set(s) for s in data['ttext_clean'].values.tolist() ]))\n",
    "# voc = { w:i+1 for i,w in enumerate(voc) }\n",
    "# voc['<pad>']= 0\n",
    "# ppr(voc)"
   ]
  },
  {
   "cell_type": "markdown",
   "metadata": {},
   "source": [
    "## строим датасет"
   ]
  },
  {
   "cell_type": "markdown",
   "metadata": {},
   "source": [
    "### кодируем word2vec"
   ]
  },
  {
   "cell_type": "code",
   "execution_count": null,
   "metadata": {},
   "outputs": [],
   "source": [
    "# %%time\n",
    "\n",
    "\n",
    "# https://nlpub.ru/Russian_Distributional_Thesaurus\n",
    "    \n",
    "# from gensim.models import KeyedVectors \n",
    "# w2v_file = 'tenth.norm-sz500-w7-cb0-it5-min5.w2v'\n",
    "# w2v = KeyedVectors.load_word2vec_format(w2v_file, binary=True, unicode_errors='ignore')\n",
    "# w2v.init_sims(replace=True)"
   ]
  },
  {
   "cell_type": "code",
   "execution_count": null,
   "metadata": {},
   "outputs": [],
   "source": [
    "%%time\n",
    "\n",
    "from gensim.models.word2vec import Word2Vec\n",
    "\n",
    "w2v_size = 128\n",
    "\n",
    "w2v = Word2Vec( data['ttext_clean'].values, min_count=1, size=w2v_size, window=4, workers=4)\n",
    "\n",
    "# with open('result/Word2Vec.pkl', 'wb') as f: pickle.dump(w2v, f)"
   ]
  },
  {
   "cell_type": "code",
   "execution_count": null,
   "metadata": {},
   "outputs": [],
   "source": [
    "w2v_vocab = sorted([w for w in w2v.wv.vocab])\n",
    "ppr(w2v_vocab)"
   ]
  },
  {
   "cell_type": "code",
   "execution_count": null,
   "metadata": {},
   "outputs": [],
   "source": [
    "ii = np.random.permutation(len(w2v_vocab))[:30]\n",
    "for i in ii:\n",
    "    w = w2v_vocab[i]\n",
    "    ww = [ v[0] for v in w2v.wv.most_similar(w, topn=5) ]\n",
    "    print( w,':',ww )"
   ]
  },
  {
   "cell_type": "code",
   "execution_count": null,
   "metadata": {},
   "outputs": [],
   "source": [
    "data['code'] = data['ttext_clean'].progress_apply(lambda t: [ w2v.wv.get_vector(w) for w in t ] )"
   ]
  },
  {
   "cell_type": "code",
   "execution_count": null,
   "metadata": {},
   "outputs": [],
   "source": [
    "%xdel w2v\n",
    "%xdel w2v_vocab"
   ]
  },
  {
   "cell_type": "code",
   "execution_count": null,
   "metadata": {},
   "outputs": [],
   "source": [
    "code_max_len = data['code'].str.len().max()\n",
    "code_max_len"
   ]
  },
  {
   "cell_type": "code",
   "execution_count": null,
   "metadata": {},
   "outputs": [],
   "source": [
    "data['code'].str.len().describe().astype(int)"
   ]
  },
  {
   "cell_type": "code",
   "execution_count": null,
   "metadata": {},
   "outputs": [],
   "source": [
    "z = [[0.]*w2v_size]*code_max_len\n",
    "data['code'] = data['code'].progress_apply(lambda c: c+z[:(code_max_len-len(c))]  )"
   ]
  },
  {
   "cell_type": "code",
   "execution_count": null,
   "metadata": {},
   "outputs": [],
   "source": [
    "data['code'].str.len().describe().astype(int)"
   ]
  },
  {
   "cell_type": "code",
   "execution_count": null,
   "metadata": {},
   "outputs": [],
   "source": [
    "data['code'] = data['code'].progress_apply(np.array)"
   ]
  },
  {
   "cell_type": "code",
   "execution_count": null,
   "metadata": {},
   "outputs": [],
   "source": [
    "x = np.stack( data['code'].values )\n",
    "x.shape"
   ]
  },
  {
   "cell_type": "code",
   "execution_count": null,
   "metadata": {},
   "outputs": [],
   "source": [
    "x = np.flip(x,axis=1)"
   ]
  },
  {
   "cell_type": "code",
   "execution_count": null,
   "metadata": {},
   "outputs": [],
   "source": [
    "n_classes=2\n",
    "target = data['ttype'].values\n",
    "target = (target+1)//2\n",
    "y = np.eye(n_classes)[target]\n",
    "\n",
    "y.shape"
   ]
  },
  {
   "cell_type": "code",
   "execution_count": null,
   "metadata": {},
   "outputs": [],
   "source": [
    "%xdel data"
   ]
  },
  {
   "cell_type": "code",
   "execution_count": null,
   "metadata": {},
   "outputs": [],
   "source": [
    "gc.collect()"
   ]
  },
  {
   "cell_type": "code",
   "execution_count": null,
   "metadata": {},
   "outputs": [],
   "source": [
    "from sklearn.model_selection import train_test_split\n",
    "\n",
    "x_train, x_test, y_train, y_test = train_test_split( x, y, test_size=.4 )\n",
    "x_train.shape, y_train.shape, x_test.shape, y_test.shape"
   ]
  },
  {
   "cell_type": "code",
   "execution_count": null,
   "metadata": {},
   "outputs": [],
   "source": [
    "y_train.sum(axis=0),y_test.sum(axis=0),"
   ]
  },
  {
   "cell_type": "code",
   "execution_count": null,
   "metadata": {},
   "outputs": [],
   "source": [
    "%xdel x\n",
    "%xdel y"
   ]
  },
  {
   "cell_type": "code",
   "execution_count": null,
   "metadata": {},
   "outputs": [],
   "source": [
    "gc.collect()"
   ]
  },
  {
   "cell_type": "markdown",
   "metadata": {},
   "source": [
    "## строим нейросеть "
   ]
  },
  {
   "cell_type": "code",
   "execution_count": null,
   "metadata": {},
   "outputs": [],
   "source": [
    "seq_len = x_train.shape[1]\n",
    "x_train.shape , y_train.shape, seq_len, w2v_size"
   ]
  },
  {
   "cell_type": "code",
   "execution_count": null,
   "metadata": {},
   "outputs": [],
   "source": [
    "from tensorflow.keras.models import Sequential\n",
    "from tensorflow.keras.layers import LSTM\n",
    "from tensorflow.keras.layers import Dense"
   ]
  },
  {
   "cell_type": "code",
   "execution_count": null,
   "metadata": {},
   "outputs": [],
   "source": [
    "model = Sequential()\n",
    "model.add(LSTM(64, input_shape=(seq_len, w2v_size)))  \n",
    "model.add(Dense(n_classes, activation='softmax'))"
   ]
  },
  {
   "cell_type": "code",
   "execution_count": null,
   "metadata": {},
   "outputs": [],
   "source": [
    "model.compile(loss='categorical_crossentropy',\n",
    "              optimizer='adam',\n",
    "              metrics=['accuracy'])"
   ]
  },
  {
   "cell_type": "code",
   "execution_count": null,
   "metadata": {},
   "outputs": [],
   "source": [
    "from tensorflow.keras.utils import plot_model\n",
    "plot_model(model, show_layer_names=True, show_shapes=True )"
   ]
  },
  {
   "cell_type": "code",
   "execution_count": null,
   "metadata": {},
   "outputs": [],
   "source": [
    "%%time\n",
    "\n",
    "hist = model.fit(x_train,y_train, batch_size=1024, epochs=15, validation_split=.3)"
   ]
  },
  {
   "cell_type": "code",
   "execution_count": null,
   "metadata": {},
   "outputs": [],
   "source": [
    "model.evaluate(x_test ,y_test )"
   ]
  },
  {
   "cell_type": "code",
   "execution_count": null,
   "metadata": {},
   "outputs": [],
   "source": [
    "from matplotlib import pyplot as plt\n",
    "\n",
    "k = hist.history.keys()\n",
    "\n",
    "w,h = 6,4\n",
    "\n",
    "fig,ax = plt.subplots(1,len(k),figsize=(w*len(k),h))\n",
    "for i,n in enumerate(k):\n",
    "    ax[i].plot(hist.history[n],label=n)\n",
    "    ax[i].grid(True)\n",
    "    ax[i].legend()\n",
    "    ax[i].set_ylim([-.1,1.1])"
   ]
  },
  {
   "cell_type": "code",
   "execution_count": null,
   "metadata": {},
   "outputs": [],
   "source": []
  }
 ],
 "metadata": {
  "kernelspec": {
   "display_name": "Python 3 (ipykernel)",
   "language": "python",
   "name": "python3"
  },
  "language_info": {
   "codemirror_mode": {
    "name": "ipython",
    "version": 3
   },
   "file_extension": ".py",
   "mimetype": "text/x-python",
   "name": "python",
   "nbconvert_exporter": "python",
   "pygments_lexer": "ipython3",
   "version": "3.8.9"
  },
  "toc": {
   "base_numbering": 1,
   "nav_menu": {},
   "number_sections": true,
   "sideBar": true,
   "skip_h1_title": false,
   "title_cell": "Table of Contents",
   "title_sidebar": "Contents",
   "toc_cell": false,
   "toc_position": {},
   "toc_section_display": "block",
   "toc_window_display": false
  }
 },
 "nbformat": 4,
 "nbformat_minor": 4
}
