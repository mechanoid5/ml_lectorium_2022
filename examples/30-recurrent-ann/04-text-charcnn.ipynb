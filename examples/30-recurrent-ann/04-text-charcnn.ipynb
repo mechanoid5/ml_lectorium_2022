{
 "cells": [
  {
   "cell_type": "markdown",
   "metadata": {},
   "source": [
    "**классификатор текстов CharCNN**\n",
    "\n",
    "Евгений Борисов <esborisov@sevsu.ru>"
   ]
  },
  {
   "cell_type": "markdown",
   "metadata": {},
   "source": [
    "## Данные"
   ]
  },
  {
   "cell_type": "raw",
   "metadata": {},
   "source": [
    "Ю. В. Рубцова. Построение корпуса текстов для настройки тонового классификатора // Программные продукты и системы, 2015, №1(109), –С.72-78\n",
    "\n",
    "http://study.mokoron.com\n",
    "\n",
    "– id: уникальный номер сообщения в системе twitter;\n",
    "– tdate: дата публикации сообщения (твита);\n",
    "– tmane: имя пользователя, опубликовавшего сообщение;\n",
    "– ttext:  текст сообщения (твита);\n",
    "– ttype: поле в котором в дальнейшем будет указано к кому классу относится твит (положительный, отрицательный, нейтральный);\n",
    "– trep: количество реплаев к данному сообщению. В настоящий момент API твиттера не отдает эту информацию;\n",
    "– tfav: число сколько раз данное сообщение было добавлено в избранное другими пользователями;\n",
    "– tstcount: число всех сообщений пользователя в сети twitter;\n",
    "– tfol: количество фоловеров пользователя (тех людей, которые читают пользователя);\n",
    "– tfrien: количество друзей пользователя (те люди, которых читает пользователь);\n",
    "– listcount: количество листов-подписок в которые добавлен твиттер-пользователь."
   ]
  },
  {
   "cell_type": "code",
   "execution_count": 1,
   "metadata": {},
   "outputs": [],
   "source": [
    "import pandas as pd\n",
    "import numpy as np\n",
    "import numpy.random as rng\n",
    "from tqdm.notebook import tqdm\n",
    "tqdm.pandas()        \n",
    "pd.options.display.max_colwidth = 200 "
   ]
  },
  {
   "cell_type": "code",
   "execution_count": 2,
   "metadata": {},
   "outputs": [
    {
     "name": "stdout",
     "output_type": "stream",
     "text": [
      "negative: 111923 \n",
      "positive: 114911\n"
     ]
    },
    {
     "data": {
      "text/html": [
       "<div>\n",
       "<style scoped>\n",
       "    .dataframe tbody tr th:only-of-type {\n",
       "        vertical-align: middle;\n",
       "    }\n",
       "\n",
       "    .dataframe tbody tr th {\n",
       "        vertical-align: top;\n",
       "    }\n",
       "\n",
       "    .dataframe thead th {\n",
       "        text-align: right;\n",
       "    }\n",
       "</style>\n",
       "<table border=\"1\" class=\"dataframe\">\n",
       "  <thead>\n",
       "    <tr style=\"text-align: right;\">\n",
       "      <th></th>\n",
       "      <th>id</th>\n",
       "      <th>ttext</th>\n",
       "      <th>ttype</th>\n",
       "    </tr>\n",
       "  </thead>\n",
       "  <tbody>\n",
       "    <tr>\n",
       "      <th>107314</th>\n",
       "      <td>424235476334436353</td>\n",
       "      <td>@Mo_OnMery крч, день прошёл самый обычный.</td>\n",
       "      <td>-1</td>\n",
       "    </tr>\n",
       "    <tr>\n",
       "      <th>70907</th>\n",
       "      <td>417889328317341696</td>\n",
       "      <td>RT @sofibars: сегодня до вечера готовлю все сама,первый раз в жизни,так грустно(</td>\n",
       "      <td>-1</td>\n",
       "    </tr>\n",
       "    <tr>\n",
       "      <th>32321</th>\n",
       "      <td>409747818866151426</td>\n",
       "      <td>@filius_satan а я то как:ооо как что у тебя?:з как учеба, жизнь, всё?:)</td>\n",
       "      <td>1</td>\n",
       "    </tr>\n",
       "    <tr>\n",
       "      <th>73820</th>\n",
       "      <td>410626239322656768</td>\n",
       "      <td>RT @pucirulifac: Знающие люди, подскажите как самостоятельно русифицировать Nokia 6350. Привезли из оттуда )) уже разлоченный от At&amp;amp;amp;T.</td>\n",
       "      <td>1</td>\n",
       "    </tr>\n",
       "    <tr>\n",
       "      <th>26102</th>\n",
       "      <td>409571918145404928</td>\n",
       "      <td>Бля чуваки \\nЯ проснулся и зашел  в тс,а там пиздец \\nГрядет новая борода)))))))))000\\nЭльки нет давно уже \\nЭто странно</td>\n",
       "      <td>1</td>\n",
       "    </tr>\n",
       "    <tr>\n",
       "      <th>44132</th>\n",
       "      <td>414330062318469121</td>\n",
       "      <td>обидно, когда человек не понимает, что от него хотят((( а еще обиднее когда это непонимание растягивается в несколько месяцев 3-(</td>\n",
       "      <td>-1</td>\n",
       "    </tr>\n",
       "    <tr>\n",
       "      <th>23801</th>\n",
       "      <td>411940216090664960</td>\n",
       "      <td>Ребята простите что засрала ленту, ну просто эт мой любимый фильм :(\\nСорики  &amp;lt;3</td>\n",
       "      <td>-1</td>\n",
       "    </tr>\n",
       "    <tr>\n",
       "      <th>5133</th>\n",
       "      <td>409775550077894656</td>\n",
       "      <td>@nastasya_i @nastmilash Я снова чувствую как рушится мой гениальный план..((( Рахманинааа, визы лишней нет?:В мне срочно!!!</td>\n",
       "      <td>-1</td>\n",
       "    </tr>\n",
       "    <tr>\n",
       "      <th>19081</th>\n",
       "      <td>411480293326209024</td>\n",
       "      <td>За гол все кардинально поменялось. В лучшую сторону (</td>\n",
       "      <td>-1</td>\n",
       "    </tr>\n",
       "    <tr>\n",
       "      <th>70691</th>\n",
       "      <td>410470693688848384</td>\n",
       "      <td>@erised_h оу и как? О чем вы там написали? Поля еаписала свою статью?)</td>\n",
       "      <td>1</td>\n",
       "    </tr>\n",
       "  </tbody>\n",
       "</table>\n",
       "</div>"
      ],
      "text/plain": [
       "                        id  \\\n",
       "107314  424235476334436353   \n",
       "70907   417889328317341696   \n",
       "32321   409747818866151426   \n",
       "73820   410626239322656768   \n",
       "26102   409571918145404928   \n",
       "44132   414330062318469121   \n",
       "23801   411940216090664960   \n",
       "5133    409775550077894656   \n",
       "19081   411480293326209024   \n",
       "70691   410470693688848384   \n",
       "\n",
       "                                                                                                                                                 ttext  \\\n",
       "107314                                                                                                      @Mo_OnMery крч, день прошёл самый обычный.   \n",
       "70907                                                                 RT @sofibars: сегодня до вечера готовлю все сама,первый раз в жизни,так грустно(   \n",
       "32321                                                                          @filius_satan а я то как:ооо как что у тебя?:з как учеба, жизнь, всё?:)   \n",
       "73820   RT @pucirulifac: Знающие люди, подскажите как самостоятельно русифицировать Nokia 6350. Привезли из оттуда )) уже разлоченный от At&amp;amp;T.   \n",
       "26102                         Бля чуваки \\nЯ проснулся и зашел  в тс,а там пиздец \\nГрядет новая борода)))))))))000\\nЭльки нет давно уже \\nЭто странно   \n",
       "44132                обидно, когда человек не понимает, что от него хотят((( а еще обиднее когда это непонимание растягивается в несколько месяцев 3-(   \n",
       "23801                                                              Ребята простите что засрала ленту, ну просто эт мой любимый фильм :(\\nСорики  &lt;3   \n",
       "5133                       @nastasya_i @nastmilash Я снова чувствую как рушится мой гениальный план..((( Рахманинааа, визы лишней нет?:В мне срочно!!!   \n",
       "19081                                                                                            За гол все кардинально поменялось. В лучшую сторону (   \n",
       "70691                                                                           @erised_h оу и как? О чем вы там написали? Поля еаписала свою статью?)   \n",
       "\n",
       "        ttype  \n",
       "107314     -1  \n",
       "70907      -1  \n",
       "32321       1  \n",
       "73820       1  \n",
       "26102       1  \n",
       "44132      -1  \n",
       "23801      -1  \n",
       "5133       -1  \n",
       "19081      -1  \n",
       "70691       1  "
      ]
     },
     "execution_count": 2,
     "metadata": {},
     "output_type": "execute_result"
    }
   ],
   "source": [
    "ff = ['id', 'tdate', 'tmane', 'ttext', 'ttype', 'trep', 'tfav', 'tstcount', 'tfol', 'tfrien', 'listcount','unk']\n",
    "\n",
    "data = pd.concat([\n",
    "    pd.read_csv('data/positive.csv.gz',sep=';',header=None),\n",
    "    pd.read_csv('data/negative.csv.gz',sep=';',header=None),\n",
    "])\n",
    "\n",
    "data.columns = ff\n",
    "\n",
    "data = data[['id','ttext', 'ttype']]\n",
    "\n",
    "print( 'negative:', len(data.query('ttype==-1')), '\\npositive:',len(data.query('ttype==1')) )\n",
    "\n",
    "data.sample(10)"
   ]
  },
  {
   "cell_type": "markdown",
   "metadata": {},
   "source": [
    "### очистка данных"
   ]
  },
  {
   "cell_type": "code",
   "execution_count": 3,
   "metadata": {},
   "outputs": [],
   "source": [
    "import re"
   ]
  },
  {
   "cell_type": "code",
   "execution_count": 4,
   "metadata": {},
   "outputs": [],
   "source": [
    "# применяет список замен pat к строке s\n",
    "def replace_patterns(s,pat):\n",
    "    if len(pat)<1: return s\n",
    "    return  replace_patterns( re.sub(pat[0][0],pat[0][1],s), pat[1:] )\n",
    "\n",
    "# нормализация текста\n",
    "def string_normalizer(s):\n",
    "    pat = [\n",
    "      [r'[ёЁ]','е'] # замена ё для унификации\n",
    "      #,[r'</?[a-z]+>',' '] # удаляем xml\n",
    "      ,[r'[:;]-*[)D]',' радость ']\n",
    "      ,[r'\\)\\)\\)*',' радость ']\n",
    "      ,[r'[:;]\\*',' поцелуй ']\n",
    "      ,[r':\\(',' печаль ']\n",
    "      ,[r'\\(\\(\\(*',' печаль ']\n",
    "      #,[r'\\d+',' digit ']\n",
    "    ]\n",
    "    return replace_patterns(s,pat).strip()"
   ]
  },
  {
   "cell_type": "code",
   "execution_count": 5,
   "metadata": {},
   "outputs": [
    {
     "data": {
      "application/vnd.jupyter.widget-view+json": {
       "model_id": "32d50719f8534971940e58d72c818ff0",
       "version_major": 2,
       "version_minor": 0
      },
      "text/plain": [
       "  0%|          | 0/226834 [00:00<?, ?it/s]"
      ]
     },
     "metadata": {},
     "output_type": "display_data"
    }
   ],
   "source": [
    "data['ttext_'] = data['ttext'].progress_apply(string_normalizer)"
   ]
  },
  {
   "cell_type": "code",
   "execution_count": 6,
   "metadata": {},
   "outputs": [],
   "source": [
    "import re\n",
    "from nltk.tokenize import word_tokenize as nltk_tokenize_word"
   ]
  },
  {
   "cell_type": "code",
   "execution_count": 7,
   "metadata": {},
   "outputs": [],
   "source": [
    "def tokenize(line): # разбиваем предложения на слова\n",
    "    return    [ \n",
    "        t.lower() \n",
    "        for t in nltk_tokenize_word(line) \n",
    "        if re.match(r'[a-zа-я]+',t.lower()) # выкинуть слова не содержащие букв\n",
    "        # if re.match(r'[а-я -]+',t.lower()) and len(t)>1 \n",
    "        # if not( (t.lower() in stopwords) or (len(t)<3) ) \n",
    "    ] "
   ]
  },
  {
   "cell_type": "code",
   "execution_count": 8,
   "metadata": {},
   "outputs": [
    {
     "data": {
      "application/vnd.jupyter.widget-view+json": {
       "model_id": "20d52511ebdb4da892aadcc3c6a8bcd2",
       "version_major": 2,
       "version_minor": 0
      },
      "text/plain": [
       "  0%|          | 0/226834 [00:00<?, ?it/s]"
      ]
     },
     "metadata": {},
     "output_type": "display_data"
    }
   ],
   "source": [
    "data['ttext_'] = data['ttext_'].progress_apply(tokenize)"
   ]
  },
  {
   "cell_type": "code",
   "execution_count": 9,
   "metadata": {},
   "outputs": [
    {
     "data": {
      "text/html": [
       "<div>\n",
       "<style scoped>\n",
       "    .dataframe tbody tr th:only-of-type {\n",
       "        vertical-align: middle;\n",
       "    }\n",
       "\n",
       "    .dataframe tbody tr th {\n",
       "        vertical-align: top;\n",
       "    }\n",
       "\n",
       "    .dataframe thead th {\n",
       "        text-align: right;\n",
       "    }\n",
       "</style>\n",
       "<table border=\"1\" class=\"dataframe\">\n",
       "  <thead>\n",
       "    <tr style=\"text-align: right;\">\n",
       "      <th></th>\n",
       "      <th>id</th>\n",
       "      <th>ttext</th>\n",
       "      <th>ttype</th>\n",
       "      <th>ttext_</th>\n",
       "    </tr>\n",
       "  </thead>\n",
       "  <tbody>\n",
       "    <tr>\n",
       "      <th>76247</th>\n",
       "      <td>410696469750894592</td>\n",
       "      <td>Немного утреннего позитива ! ))) http://t.co/ETzwg3ynAU</td>\n",
       "      <td>1</td>\n",
       "      <td>[немного, утреннего, позитива, радость, http]</td>\n",
       "    </tr>\n",
       "    <tr>\n",
       "      <th>63788</th>\n",
       "      <td>410352523229540352</td>\n",
       "      <td>@podobedovakatya спасибо) вот этим и займусь. Пошла пить таблеткиии. Как они меня достали уже...</td>\n",
       "      <td>1</td>\n",
       "      <td>[podobedovakatya, спасибо, вот, этим, и, займусь, пошла, пить, таблеткиии, как, они, меня, достали, уже]</td>\n",
       "    </tr>\n",
       "    <tr>\n",
       "      <th>76930</th>\n",
       "      <td>410703427375595520</td>\n",
       "      <td>И ваще политика была не по плану! Должен был быть футбол! У него все строго по регламенту: 1) музыка, 2) кино, 3) футбол и 4) политика!</td>\n",
       "      <td>1</td>\n",
       "      <td>[и, ваще, политика, была, не, по, плану, должен, был, быть, футбол, у, него, все, строго, по, регламенту, музыка, кино, футбол, и, политика]</td>\n",
       "    </tr>\n",
       "    <tr>\n",
       "      <th>91956</th>\n",
       "      <td>422028547905974272</td>\n",
       "      <td>Если бы мир был другим, я бы давно ушел путешествовать и следовал бы к какой-нибудь огромной мечте :|</td>\n",
       "      <td>-1</td>\n",
       "      <td>[если, бы, мир, был, другим, я, бы, давно, ушел, путешествовать, и, следовал, бы, к, какой-нибудь, огромной, мечте]</td>\n",
       "    </tr>\n",
       "    <tr>\n",
       "      <th>96179</th>\n",
       "      <td>411023001485058048</td>\n",
       "      <td>@i_zemler я знаю, но для вашего бестселлера это только эпизод ))) ф</td>\n",
       "      <td>1</td>\n",
       "      <td>[i_zemler, я, знаю, но, для, вашего, бестселлера, это, только, эпизод, радость, ф]</td>\n",
       "    </tr>\n",
       "    <tr>\n",
       "      <th>11135</th>\n",
       "      <td>410630871700742144</td>\n",
       "      <td>#ХочуПровестиНовогоднююНочьВместеС @Ekaterinaa33 @ElenaSolov_98 @edwardlololo @ALU_DiReCtIoNeR @Dashulya6969 @Do_or_die_azaz @luda_1D</td>\n",
       "      <td>-1</td>\n",
       "      <td>[хочупровестиновогоднююночьвместес, ekaterinaa33, elenasolov_98, edwardlololo, alu_directioner, dashulya6969, do_or_die_azaz, luda_1d]</td>\n",
       "    </tr>\n",
       "    <tr>\n",
       "      <th>20413</th>\n",
       "      <td>411580350134226944</td>\n",
       "      <td>Белякова испортила легендарную песню((( Градский не подумал прежде чем ей песню выбирать #голос</td>\n",
       "      <td>-1</td>\n",
       "      <td>[белякова, испортила, легендарную, песню, печаль, градский, не, подумал, прежде, чем, ей, песню, выбирать, голос]</td>\n",
       "    </tr>\n",
       "    <tr>\n",
       "      <th>80919</th>\n",
       "      <td>410750788584374272</td>\n",
       "      <td>@Podlesetskaya думаю это и не есть проблемой, просто никак определиться не можешь, что именно тебе нужно)</td>\n",
       "      <td>1</td>\n",
       "      <td>[podlesetskaya, думаю, это, и, не, есть, проблемой, просто, никак, определиться, не, можешь, что, именно, тебе, нужно]</td>\n",
       "    </tr>\n",
       "    <tr>\n",
       "      <th>15248</th>\n",
       "      <td>409346799183613952</td>\n",
       "      <td>RT @wigekydidika: Формат улыбки зависит не только от настроения, но и от форм зубов))</td>\n",
       "      <td>1</td>\n",
       "      <td>[rt, wigekydidika, формат, улыбки, зависит, не, только, от, настроения, но, и, от, форм, зубов, радость]</td>\n",
       "    </tr>\n",
       "    <tr>\n",
       "      <th>109637</th>\n",
       "      <td>424585597853106177</td>\n",
       "      <td>Он так плакал когда я уезжал (( http://t.co/CzlSTZZLgQ</td>\n",
       "      <td>-1</td>\n",
       "      <td>[он, так, плакал, когда, я, уезжал, печаль, http]</td>\n",
       "    </tr>\n",
       "  </tbody>\n",
       "</table>\n",
       "</div>"
      ],
      "text/plain": [
       "                        id  \\\n",
       "76247   410696469750894592   \n",
       "63788   410352523229540352   \n",
       "76930   410703427375595520   \n",
       "91956   422028547905974272   \n",
       "96179   411023001485058048   \n",
       "11135   410630871700742144   \n",
       "20413   411580350134226944   \n",
       "80919   410750788584374272   \n",
       "15248   409346799183613952   \n",
       "109637  424585597853106177   \n",
       "\n",
       "                                                                                                                                          ttext  \\\n",
       "76247                                                                                   Немного утреннего позитива ! ))) http://t.co/ETzwg3ynAU   \n",
       "63788                                          @podobedovakatya спасибо) вот этим и займусь. Пошла пить таблеткиии. Как они меня достали уже...   \n",
       "76930   И ваще политика была не по плану! Должен был быть футбол! У него все строго по регламенту: 1) музыка, 2) кино, 3) футбол и 4) политика!   \n",
       "91956                                     Если бы мир был другим, я бы давно ушел путешествовать и следовал бы к какой-нибудь огромной мечте :|   \n",
       "96179                                                                       @i_zemler я знаю, но для вашего бестселлера это только эпизод ))) ф   \n",
       "11135     #ХочуПровестиНовогоднююНочьВместеС @Ekaterinaa33 @ElenaSolov_98 @edwardlololo @ALU_DiReCtIoNeR @Dashulya6969 @Do_or_die_azaz @luda_1D   \n",
       "20413                                           Белякова испортила легендарную песню((( Градский не подумал прежде чем ей песню выбирать #голос   \n",
       "80919                                 @Podlesetskaya думаю это и не есть проблемой, просто никак определиться не можешь, что именно тебе нужно)   \n",
       "15248                                                     RT @wigekydidika: Формат улыбки зависит не только от настроения, но и от форм зубов))   \n",
       "109637                                                                                   Он так плакал когда я уезжал (( http://t.co/CzlSTZZLgQ   \n",
       "\n",
       "        ttype  \\\n",
       "76247       1   \n",
       "63788       1   \n",
       "76930       1   \n",
       "91956      -1   \n",
       "96179       1   \n",
       "11135      -1   \n",
       "20413      -1   \n",
       "80919       1   \n",
       "15248       1   \n",
       "109637     -1   \n",
       "\n",
       "                                                                                                                                              ttext_  \n",
       "76247                                                                                                  [немного, утреннего, позитива, радость, http]  \n",
       "63788                                       [podobedovakatya, спасибо, вот, этим, и, займусь, пошла, пить, таблеткиии, как, они, меня, достали, уже]  \n",
       "76930   [и, ваще, политика, была, не, по, плану, должен, был, быть, футбол, у, него, все, строго, по, регламенту, музыка, кино, футбол, и, политика]  \n",
       "91956                            [если, бы, мир, был, другим, я, бы, давно, ушел, путешествовать, и, следовал, бы, к, какой-нибудь, огромной, мечте]  \n",
       "96179                                                             [i_zemler, я, знаю, но, для, вашего, бестселлера, это, только, эпизод, радость, ф]  \n",
       "11135         [хочупровестиновогоднююночьвместес, ekaterinaa33, elenasolov_98, edwardlololo, alu_directioner, dashulya6969, do_or_die_azaz, luda_1d]  \n",
       "20413                              [белякова, испортила, легендарную, песню, печаль, градский, не, подумал, прежде, чем, ей, песню, выбирать, голос]  \n",
       "80919                         [podlesetskaya, думаю, это, и, не, есть, проблемой, просто, никак, определиться, не, можешь, что, именно, тебе, нужно]  \n",
       "15248                                       [rt, wigekydidika, формат, улыбки, зависит, не, только, от, настроения, но, и, от, форм, зубов, радость]  \n",
       "109637                                                                                             [он, так, плакал, когда, я, уезжал, печаль, http]  "
      ]
     },
     "execution_count": 9,
     "metadata": {},
     "output_type": "execute_result"
    }
   ],
   "source": [
    "data.sample(10)"
   ]
  },
  {
   "cell_type": "code",
   "execution_count": 10,
   "metadata": {},
   "outputs": [
    {
     "data": {
      "text/plain": [
       "36"
      ]
     },
     "execution_count": 10,
     "metadata": {},
     "output_type": "execute_result"
    }
   ],
   "source": [
    "# максимальная длинна последовательности\n",
    "seq_max_len = data['ttext_'].str.len().max() \n",
    "seq_max_len"
   ]
  },
  {
   "cell_type": "code",
   "execution_count": 11,
   "metadata": {},
   "outputs": [
    {
     "data": {
      "application/vnd.jupyter.widget-view+json": {
       "model_id": "908e6a21fc134c27b15cb13510a65f1e",
       "version_major": 2,
       "version_minor": 0
      },
      "text/plain": [
       "  0%|          | 0/226834 [00:00<?, ?it/s]"
      ]
     },
     "metadata": {},
     "output_type": "display_data"
    },
    {
     "data": {
      "text/plain": [
       "136"
      ]
     },
     "execution_count": 11,
     "metadata": {},
     "output_type": "execute_result"
    }
   ],
   "source": [
    "# максимальная длинна слова\n",
    "word_max_len = data['ttext_'].progress_apply(lambda s: max([ len(w) for w in s])).max()\n",
    "word_max_len"
   ]
  },
  {
   "cell_type": "code",
   "execution_count": 12,
   "metadata": {},
   "outputs": [],
   "source": [
    "# data[ data['ttext_'].str.len()<1 ] # пустые последовательности"
   ]
  },
  {
   "cell_type": "code",
   "execution_count": 13,
   "metadata": {},
   "outputs": [
    {
     "name": "stdout",
     "output_type": "stream",
     "text": [
      "negative: 111923 \n",
      "positive: 114911\n"
     ]
    }
   ],
   "source": [
    "print( 'negative:', len(data.query('ttype==-1')), '\\npositive:',len(data.query('ttype==1')) )"
   ]
  },
  {
   "cell_type": "code",
   "execution_count": 14,
   "metadata": {},
   "outputs": [
    {
     "name": "stdout",
     "output_type": "stream",
     "text": [
      "negative: 111923 \n",
      "positive: 114911\n"
     ]
    }
   ],
   "source": [
    "data = data[ data['ttext_'].str.len()>0 ].reset_index(drop=True)\n",
    "print( 'negative:', len(data.query('ttype==-1')), '\\npositive:',len(data.query('ttype==1')) )"
   ]
  },
  {
   "cell_type": "markdown",
   "metadata": {},
   "source": [
    "------"
   ]
  },
  {
   "cell_type": "code",
   "execution_count": 15,
   "metadata": {},
   "outputs": [
    {
     "data": {
      "text/plain": [
       "197"
      ]
     },
     "execution_count": 15,
     "metadata": {},
     "output_type": "execute_result"
    }
   ],
   "source": [
    "abc = set.union(*[ set(' '.join(s)) for s in data['ttext_'].apply(set) ])\n",
    "abc = { w:n+1 for n,w in enumerate(sorted(abc)) }\n",
    "# abc_len = len(abc)\n",
    "# abc_len\n",
    "len(abc)"
   ]
  },
  {
   "cell_type": "code",
   "execution_count": 16,
   "metadata": {},
   "outputs": [],
   "source": [
    "# дополняем до максимальной длины\n",
    "def pad_seq(s,max_len,pad_code=0):\n",
    "    return [pad_code]*(max_len-len(s))+s\n",
    "\n",
    "# заменяем символы слова на последовательность номеров символов в алфавите \n",
    "def encode_abc(w,abc=abc ): \n",
    "    return list(map(abc.get,w))\n",
    "\n",
    "def encode_abc_bin(codes,abc_len=len(abc)):\n",
    "    return [ np.eye(abc_len,dtype=np.uint8)[c] for c in codes ]\n",
    "\n",
    "def encode_seq(s, abc=abc, seq_max_len=seq_max_len, word_max_len=word_max_len, ):\n",
    "    abc_len = len(abc)+1\n",
    "    zero_word = np.zeros(abc_len,dtype=np.uint8) \n",
    "    zero_seq = np.zeros([1,word_max_len,abc_len],dtype=np.uint8) \n",
    "    return np.vstack(\n",
    "        pad_seq( # дополняем последовательности до единого размера\n",
    "            [ \n",
    "                np.vstack(\n",
    "                    pad_seq( # дополняем код слова до единого размера\n",
    "                        encode_abc_bin( encode_abc(w,abc=abc), abc_len=abc_len, ) # кодируем слово\n",
    "                        ,word_max_len # максимальный размер слова\n",
    "                        ,pad_code=zero_word # дополняем нулями\n",
    "                    )\n",
    "                )[np.newaxis,:]\n",
    "                for w in s # для каждого слова последовательности\n",
    "            ]\n",
    "            ,seq_max_len # максимальный размер последовательности\n",
    "            ,pad_code=zero_seq # дополняем нулями\n",
    "        )\n",
    "    )[np.newaxis,:]\n",
    "\n",
    "# [ номер примера, позиция слова в предложении, позиция символа в слове, номер символа ]"
   ]
  },
  {
   "cell_type": "code",
   "execution_count": 17,
   "metadata": {},
   "outputs": [],
   "source": [
    "def get_batch(df,batch_size=10_000,shuffle=True,):\n",
    "    ii = rng.permutation(len(df)) if shuffle else np.array(range(len(df)))\n",
    "    for i in range(0,len(ii),batch_size):\n",
    "        yield (\n",
    "            np.vstack( df.iloc[ii[i:i+batch_size]]['ttext_'].apply(encode_seq).values ), \n",
    "            # строим выход нейросети (из 2 нейронов)\n",
    "            np.eye(2,dtype=np.float32)[(df.iloc[ii[i:i+batch_size]]['ttype'].values+1)//2],\n",
    "        )\n",
    "\n",
    "# x,target = next( get_batch(data,batch_size=1_000) )\n",
    "# x.shape, target.shape"
   ]
  },
  {
   "cell_type": "markdown",
   "metadata": {},
   "source": [
    "----"
   ]
  },
  {
   "cell_type": "code",
   "execution_count": 18,
   "metadata": {},
   "outputs": [],
   "source": [
    "ii = rng.permutation(len(data))\n",
    "n = len(data)//10\n",
    "data_train  = data.iloc[ii[:n]].reset_index(drop=True)\n",
    "data_test  = data.iloc[ii[n:]].reset_index(drop=True)"
   ]
  },
  {
   "cell_type": "code",
   "execution_count": 19,
   "metadata": {},
   "outputs": [
    {
     "name": "stdout",
     "output_type": "stream",
     "text": [
      "train:\n",
      "\n",
      "\tnegative: 11152 \n",
      "\tpositive: 11531\n",
      "test:\n",
      "\n",
      "\tnegative: 100771 \n",
      "\tpositive: 103380\n"
     ]
    }
   ],
   "source": [
    "print('train:\\n')\n",
    "print('\\tnegative:', len(data_train.query('ttype==-1')), '\\n\\tpositive:',len(data_train.query('ttype==1')) )\n",
    "\n",
    "print('test:\\n')\n",
    "print('\\tnegative:', len(data_test.query('ttype==-1')), '\\n\\tpositive:',len(data_test.query('ttype==1')) )"
   ]
  },
  {
   "cell_type": "markdown",
   "metadata": {},
   "source": [
    "## модель"
   ]
  },
  {
   "cell_type": "code",
   "execution_count": 20,
   "metadata": {},
   "outputs": [],
   "source": [
    "# del model\n",
    "# del y"
   ]
  },
  {
   "cell_type": "code",
   "execution_count": 21,
   "metadata": {},
   "outputs": [],
   "source": [
    "import torch\n",
    "import torch.nn as nn\n",
    "import torch.nn.functional as F"
   ]
  },
  {
   "cell_type": "code",
   "execution_count": 22,
   "metadata": {},
   "outputs": [
    {
     "data": {
      "text/plain": [
       "'1.10.2+cu102'"
      ]
     },
     "execution_count": 22,
     "metadata": {},
     "output_type": "execute_result"
    }
   ],
   "source": [
    "torch.__version__"
   ]
  },
  {
   "cell_type": "code",
   "execution_count": 24,
   "metadata": {},
   "outputs": [],
   "source": [
    "n_classes = 2\n",
    "\n",
    "class Model(nn.Module):\n",
    "    def __init__(self, \n",
    "                 output_dim=n_classes, # размер выхода\n",
    "                ):\n",
    "        super().__init__()\n",
    "        \n",
    "        self._conv1= nn.Conv2d(\n",
    "                in_channels=seq_max_len,\n",
    "                out_channels=32,\n",
    "                kernel_size=(15,15)\n",
    "            )\n",
    "        self._linear = nn.Linear(3072, output_dim) # выходной (линейный) слой\n",
    "\n",
    "    def forward(self,x):\n",
    "        o = self._conv1(x)\n",
    "        # o = F.relu(o)\n",
    "        o = F.tanh(o)\n",
    "        o = F.max_pool2d(o,kernel_size=15)\n",
    "        o = torch.flatten(o, start_dim=1)\n",
    "        o = self._linear(o) # считаем выход сети\n",
    "        o = F.softmax(o,dim=1)\n",
    "        \n",
    "        return o "
   ]
  },
  {
   "cell_type": "code",
   "execution_count": 25,
   "metadata": {},
   "outputs": [
    {
     "data": {
      "text/plain": [
       "Model(\n",
       "  (_conv1): Conv2d(36, 32, kernel_size=(15, 15), stride=(1, 1))\n",
       "  (_linear): Linear(in_features=3072, out_features=2, bias=True)\n",
       ")"
      ]
     },
     "execution_count": 25,
     "metadata": {},
     "output_type": "execute_result"
    }
   ],
   "source": [
    "model = Model()\n",
    "model"
   ]
  },
  {
   "cell_type": "code",
   "execution_count": 27,
   "metadata": {},
   "outputs": [
    {
     "data": {
      "text/plain": [
       "torch.Size([100, 2])"
      ]
     },
     "execution_count": 27,
     "metadata": {},
     "output_type": "execute_result"
    }
   ],
   "source": [
    "# x,y = next( get_batch(data,batch_size=100) )\n",
    "# model( torch.tensor( x, dtype=torch.float32 ) ).shape\n",
    "# del x\n",
    "# del y"
   ]
  },
  {
   "cell_type": "markdown",
   "metadata": {},
   "source": [
    "### обучаем модель"
   ]
  },
  {
   "cell_type": "code",
   "execution_count": 29,
   "metadata": {},
   "outputs": [
    {
     "data": {
      "text/plain": [
       "device(type='cuda', index=0)"
      ]
     },
     "execution_count": 29,
     "metadata": {},
     "output_type": "execute_result"
    }
   ],
   "source": [
    "# проверяем GPU\n",
    "device = torch.device('cuda:0' if torch.cuda.is_available() else 'cpu')\n",
    "device"
   ]
  },
  {
   "cell_type": "code",
   "execution_count": 30,
   "metadata": {},
   "outputs": [],
   "source": [
    "model = model.to(device)"
   ]
  },
  {
   "cell_type": "code",
   "execution_count": 31,
   "metadata": {},
   "outputs": [],
   "source": [
    "criterion =  nn.CrossEntropyLoss() # ф-ция потери\n",
    "optimizer = torch.optim.Adam(model.parameters(), lr=.005) # метод оптимизации"
   ]
  },
  {
   "cell_type": "code",
   "execution_count": 36,
   "metadata": {},
   "outputs": [
    {
     "name": "stdout",
     "output_type": "stream",
     "text": [
      "epoch: 1\n"
     ]
    },
    {
     "data": {
      "application/vnd.jupyter.widget-view+json": {
       "model_id": "44198ead4aba41499569037f5c76270c",
       "version_major": 2,
       "version_minor": 0
      },
      "text/plain": [
       "  0%|          | 0/177 [00:00<?, ?it/s]"
      ]
     },
     "metadata": {},
     "output_type": "display_data"
    },
    {
     "name": "stdout",
     "output_type": "stream",
     "text": [
      "epoch: 2\n"
     ]
    },
    {
     "data": {
      "application/vnd.jupyter.widget-view+json": {
       "model_id": "db4c5bfab6bc49c1887a63799df484ee",
       "version_major": 2,
       "version_minor": 0
      },
      "text/plain": [
       "  0%|          | 0/177 [00:00<?, ?it/s]"
      ]
     },
     "metadata": {},
     "output_type": "display_data"
    },
    {
     "name": "stdout",
     "output_type": "stream",
     "text": [
      "epoch: 3\n"
     ]
    },
    {
     "data": {
      "application/vnd.jupyter.widget-view+json": {
       "model_id": "9c2471d1dd9c4e8faf1f108f46c8f419",
       "version_major": 2,
       "version_minor": 0
      },
      "text/plain": [
       "  0%|          | 0/177 [00:00<?, ?it/s]"
      ]
     },
     "metadata": {},
     "output_type": "display_data"
    },
    {
     "name": "stdout",
     "output_type": "stream",
     "text": [
      "epoch: 4\n"
     ]
    },
    {
     "data": {
      "application/vnd.jupyter.widget-view+json": {
       "model_id": "d99c0ed8afe54c239b5fbd114f3d4878",
       "version_major": 2,
       "version_minor": 0
      },
      "text/plain": [
       "  0%|          | 0/177 [00:00<?, ?it/s]"
      ]
     },
     "metadata": {},
     "output_type": "display_data"
    },
    {
     "name": "stdout",
     "output_type": "stream",
     "text": [
      "epoch: 5\n"
     ]
    },
    {
     "data": {
      "application/vnd.jupyter.widget-view+json": {
       "model_id": "fb3d59a570a84ce3947c2527a9e24090",
       "version_major": 2,
       "version_minor": 0
      },
      "text/plain": [
       "  0%|          | 0/177 [00:00<?, ?it/s]"
      ]
     },
     "metadata": {},
     "output_type": "display_data"
    },
    {
     "name": "stdout",
     "output_type": "stream",
     "text": [
      "CPU times: user 11min 37s, sys: 2min 24s, total: 14min 2s\n",
      "Wall time: 11min 17s\n"
     ]
    }
   ],
   "source": [
    "%%time\n",
    "\n",
    "batch_size=128\n",
    "loss_history = [] # значения ф-ции потери\n",
    "n_epoch = 10 # количество эпох обучения\n",
    "\n",
    "for i in range(n_epoch): \n",
    "    print('epoch:',i+1)\n",
    "    for x,y in tqdm(\n",
    "            get_batch(data_train,batch_size=batch_size)\n",
    "            ,total=len(data_train)//batch_size\n",
    "        ): # получаем батч учебных примеров\n",
    "        x_ = torch.tensor(x,dtype=torch.float32).to(device)\n",
    "        y_ = torch.tensor(y,dtype=torch.float32).to(device)\n",
    "        out = model.forward(x_) # считаем выход модели\n",
    "        loss = criterion(y_,out ) # вычисляем значение ф-ции потери\n",
    "        loss_history.append(loss.item()) # дополняем историю изменения значений ф-ции потери\n",
    "        optimizer.zero_grad() # очищаем предыдущее значение градиента\n",
    "        loss.backward()  # вычисляем текущее значение градиента ф-ции потери\n",
    "        optimizer.step() # корректируем параметры модели\n",
    "        del x_\n",
    "        del y_\n",
    "    torch.cuda.empty_cache()\n",
    "    #acc_history.append( accuracy(data_train) ) #значение погрешности"
   ]
  },
  {
   "cell_type": "code",
   "execution_count": 37,
   "metadata": {},
   "outputs": [
    {
     "data": {
      "text/plain": [
       "<matplotlib.legend.Legend at 0x7fc59ad19610>"
      ]
     },
     "execution_count": 37,
     "metadata": {},
     "output_type": "execute_result"
    },
    {
     "data": {
      "image/png": "[encoded data removed]",
      "text/plain": [
       "<Figure size 432x288 with 1 Axes>"
      ]
     },
     "metadata": {
      "needs_background": "light"
     },
     "output_type": "display_data"
    }
   ],
   "source": [
    "from matplotlib import pyplot as plt\n",
    "# история изменения значений ф-ции потери\n",
    "plt.plot(loss_history,label='min loss=%.3f'%(min(loss_history)))\n",
    "plt.grid()\n",
    "plt.legend()"
   ]
  },
  {
   "cell_type": "markdown",
   "metadata": {},
   "source": [
    "## проверяем результат"
   ]
  },
  {
   "cell_type": "code",
   "execution_count": 43,
   "metadata": {},
   "outputs": [
    {
     "name": "stdout",
     "output_type": "stream",
     "text": [
      "              precision    recall  f1-score   support\n",
      "\n",
      "           0       0.84      0.82      0.83    100771\n",
      "           1       0.83      0.84      0.84    103380\n",
      "\n",
      "    accuracy                           0.83    204151\n",
      "   macro avg       0.83      0.83      0.83    204151\n",
      "weighted avg       0.83      0.83      0.83    204151\n",
      "\n"
     ]
    }
   ],
   "source": [
    "# batch_size = 128\n",
    "\n",
    "with torch.set_grad_enabled(False):\n",
    "    o_test = np.hstack([\n",
    "            np.argmax( model(torch.tensor(x,dtype=torch.float32).to(device)).cpu().numpy(),axis=1 )\n",
    "            for x,_ in tqdm(\n",
    "                    get_batch( data_test, batch_size=batch_size, shuffle=False)\n",
    "                    ,total=len(data_test)//batch_size\n",
    "                )\n",
    "        ])\n",
    "    \n",
    "target_test = (data_test['ttype']+1)//2  \n",
    "\n",
    "from sklearn.metrics import classification_report\n",
    "print(classification_report( target_test,o_test))"
   ]
  },
  {
   "cell_type": "markdown",
   "metadata": {},
   "source": [
    "----"
   ]
  },
  {
   "cell_type": "code",
   "execution_count": 32,
   "metadata": {},
   "outputs": [],
   "source": [
    "# from sklearn.metrics import accuracy_score\n",
    "\n",
    "# def accuracy(dataset,batch_size=128):\n",
    "#     with torch.set_grad_enabled(False):\n",
    "#         return np.mean([\n",
    "#             accuracy_score(\n",
    "#                 y[:,1],\n",
    "#                 np.argmax( model(torch.tensor(x,dtype=torch.float32).to(device)).cpu().numpy(),axis=1 )\n",
    "#             )\n",
    "#             for x,y in tqdm(\n",
    "#                     get_batch( dataset, batch_size=batch_size, shuffle=False)\n",
    "#                     ,total=len(dataset)//batch_size\n",
    "#                 )\n",
    "#         ])\n",
    "        \n",
    "# # acc_history = [ accuracy(data_train) ] # начальное значение погрешности"
   ]
  },
  {
   "cell_type": "code",
   "execution_count": 33,
   "metadata": {},
   "outputs": [],
   "source": [
    "# acc_history"
   ]
  },
  {
   "cell_type": "code",
   "execution_count": null,
   "metadata": {},
   "outputs": [],
   "source": [
    "# acc_history"
   ]
  },
  {
   "cell_type": "code",
   "execution_count": null,
   "metadata": {},
   "outputs": [],
   "source": [
    "# # история изменения значений погрешности модели\n",
    "# plt.plot(acc_history,label='max acc=%.3f'%(max(acc_history)),c='r')\n",
    "# plt.grid()\n",
    "# plt.legend()"
   ]
  },
  {
   "cell_type": "code",
   "execution_count": null,
   "metadata": {},
   "outputs": [],
   "source": [
    "# x,y = next( get_batch(data,batch_size=100) )\n",
    "# x.shape, y.shape"
   ]
  },
  {
   "cell_type": "code",
   "execution_count": null,
   "metadata": {},
   "outputs": [],
   "source": [
    "# o = nn.Conv2d(\n",
    "#         in_channels=seq_max_len,\n",
    "#         out_channels=128,\n",
    "#         kernel_size=(7,7)\n",
    "#     )(torch.tensor(x,dtype=torch.float32))\n",
    "\n",
    "# o = F.max_pool2d(o,kernel_size=5)\n",
    "\n",
    "# o = nn.Conv2d(\n",
    "#         in_channels=128,\n",
    "#         out_channels=32,\n",
    "#         kernel_size=(9,9)\n",
    "#     )(o)\n",
    "\n",
    "# o = F.max_pool2d(o,kernel_size=3)\n",
    "\n",
    "# print(o.shape)\n",
    "\n",
    "# o = torch.flatten(o, start_dim=1)\n",
    "\n",
    "# o.shape"
   ]
  },
  {
   "cell_type": "code",
   "execution_count": null,
   "metadata": {},
   "outputs": [],
   "source": [
    "# max_pool2d(input, kernel_size, stride=None, padding=0, dilation=1,"
   ]
  },
  {
   "cell_type": "code",
   "execution_count": 23,
   "metadata": {},
   "outputs": [],
   "source": [
    "# x,y = next( get_batch(data,batch_size=100) )\n",
    "# # x.shape, y.shape\n",
    "#\n",
    "# o = nn.Conv2d(\n",
    "#         in_channels=seq_max_len,\n",
    "#         out_channels=32,\n",
    "#         kernel_size=(15,15)\n",
    "#     )(torch.tensor(x,dtype=torch.float32))\n",
    "#\n",
    "# o = F.max_pool2d(o,kernel_size=15)\n",
    "#\n",
    "# # o = nn.Conv2d(\n",
    "# #         in_channels=128,\n",
    "# #         out_channels=32,\n",
    "# #         kernel_size=(9,9)\n",
    "# #     )(o)\n",
    "#\n",
    "# # o = F.max_pool2d(o,kernel_size=3)\n",
    "#\n",
    "# print(o.shape)\n",
    "#\n",
    "# o = torch.flatten(o, start_dim=1)\n",
    "#\n",
    "# o.shape"
   ]
  }
 ],
 "metadata": {
  "kernelspec": {
   "display_name": "Python 3 (ipykernel)",
   "language": "python",
   "name": "python3"
  },
  "language_info": {
   "codemirror_mode": {
    "name": "ipython",
    "version": 3
   },
   "file_extension": ".py",
   "mimetype": "text/x-python",
   "name": "python",
   "nbconvert_exporter": "python",
   "pygments_lexer": "ipython3",
   "version": "3.8.9"
  },
  "toc": {
   "base_numbering": 1,
   "nav_menu": {},
   "number_sections": true,
   "sideBar": true,
   "skip_h1_title": false,
   "title_cell": "Table of Contents",
   "title_sidebar": "Contents",
   "toc_cell": false,
   "toc_position": {},
   "toc_section_display": "block",
   "toc_window_display": false
  }
 },
 "nbformat": 4,
 "nbformat_minor": 4
}
