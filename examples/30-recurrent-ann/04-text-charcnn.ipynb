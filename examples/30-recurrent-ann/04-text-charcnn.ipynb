{
 "cells": [
  {
   "cell_type": "markdown",
   "metadata": {},
   "source": [
    "**классификатор текстов CharCNN**\n",
    "\n",
    "Евгений Борисов <esborisov@sevsu.ru>"
   ]
  },
  {
   "cell_type": "markdown",
   "metadata": {},
   "source": [
    "## Данные"
   ]
  },
  {
   "cell_type": "raw",
   "metadata": {},
   "source": [
    "Ю. В. Рубцова. Построение корпуса текстов для настройки тонового классификатора // Программные продукты и системы, 2015, №1(109), –С.72-78\n",
    "\n",
    "http://study.mokoron.com\n",
    "\n",
    "– id: уникальный номер сообщения в системе twitter;\n",
    "– tdate: дата публикации сообщения (твита);\n",
    "– tmane: имя пользователя, опубликовавшего сообщение;\n",
    "– ttext:  текст сообщения (твита);\n",
    "– ttype: поле в котором в дальнейшем будет указано к кому классу относится твит (положительный, отрицательный, нейтральный);\n",
    "– trep: количество реплаев к данному сообщению. В настоящий момент API твиттера не отдает эту информацию;\n",
    "– tfav: число сколько раз данное сообщение было добавлено в избранное другими пользователями;\n",
    "– tstcount: число всех сообщений пользователя в сети twitter;\n",
    "– tfol: количество фоловеров пользователя (тех людей, которые читают пользователя);\n",
    "– tfrien: количество друзей пользователя (те люди, которых читает пользователь);\n",
    "– listcount: количество листов-подписок в которые добавлен твиттер-пользователь."
   ]
  },
  {
   "cell_type": "code",
   "execution_count": 1,
   "metadata": {},
   "outputs": [],
   "source": [
    "import pandas as pd\n",
    "import numpy as np\n",
    "import numpy.random as rng\n",
    "from tqdm.notebook import tqdm\n",
    "tqdm.pandas()        \n",
    "pd.options.display.max_colwidth = 200 "
   ]
  },
  {
   "cell_type": "code",
   "execution_count": 2,
   "metadata": {},
   "outputs": [
    {
     "name": "stdout",
     "output_type": "stream",
     "text": [
      "negative: 111923 \n",
      "positive: 114911\n"
     ]
    },
    {
     "data": {
      "text/html": [
       "<div>\n",
       "<style scoped>\n",
       "    .dataframe tbody tr th:only-of-type {\n",
       "        vertical-align: middle;\n",
       "    }\n",
       "\n",
       "    .dataframe tbody tr th {\n",
       "        vertical-align: top;\n",
       "    }\n",
       "\n",
       "    .dataframe thead th {\n",
       "        text-align: right;\n",
       "    }\n",
       "</style>\n",
       "<table border=\"1\" class=\"dataframe\">\n",
       "  <thead>\n",
       "    <tr style=\"text-align: right;\">\n",
       "      <th></th>\n",
       "      <th>id</th>\n",
       "      <th>ttext</th>\n",
       "      <th>ttype</th>\n",
       "    </tr>\n",
       "  </thead>\n",
       "  <tbody>\n",
       "    <tr>\n",
       "      <th>29142</th>\n",
       "      <td>412648004894457856</td>\n",
       "      <td>@NatalyPoloz @rouuusi Надо хоть начать делать третий модуль...(((</td>\n",
       "      <td>-1</td>\n",
       "    </tr>\n",
       "    <tr>\n",
       "      <th>105185</th>\n",
       "      <td>424091998002221056</td>\n",
       "      <td>@HE_HOOORM ясн у тебя кто-то другой есть (((</td>\n",
       "      <td>-1</td>\n",
       "    </tr>\n",
       "    <tr>\n",
       "      <th>107694</th>\n",
       "      <td>411158740146995202</td>\n",
       "      <td>@den__1980 @okpochepa Идеальный характер?)Характер он есть или его нет.</td>\n",
       "      <td>1</td>\n",
       "    </tr>\n",
       "    <tr>\n",
       "      <th>72554</th>\n",
       "      <td>410484992704147456</td>\n",
       "      <td>@galyonkin @blessmepadre @karin_karin_b Да нормально всё, если что в EA вас примут)</td>\n",
       "      <td>1</td>\n",
       "    </tr>\n",
       "    <tr>\n",
       "      <th>88644</th>\n",
       "      <td>421507059171856384</td>\n",
       "      <td>@Ahlurglgr Вообще не хорошо Оо\\nУ меня вот в ухе вчера стреляло((</td>\n",
       "      <td>-1</td>\n",
       "    </tr>\n",
       "    <tr>\n",
       "      <th>91317</th>\n",
       "      <td>421973328606535680</td>\n",
       "      <td>Смотрела фотки @KryvenchukL с Германии и сразу вспоминаю нашу поездку, все те эмоции, Берлин,Дрезден,Львов. Эх:( http://t.co/cQHw46ahHq</td>\n",
       "      <td>-1</td>\n",
       "    </tr>\n",
       "    <tr>\n",
       "      <th>5308</th>\n",
       "      <td>409062871667326976</td>\n",
       "      <td>Когда-то этот парень снес крышу мне и @PolinaX_X\\n)) http://t.co/EhHXTeW5Vk</td>\n",
       "      <td>1</td>\n",
       "    </tr>\n",
       "    <tr>\n",
       "      <th>38978</th>\n",
       "      <td>413805806296264705</td>\n",
       "      <td>любить не сложно,сложно забыть..сложно забыть того,кто о тебе уже и не помнит=( http://t.co/jcIXXqTfaW</td>\n",
       "      <td>-1</td>\n",
       "    </tr>\n",
       "    <tr>\n",
       "      <th>52885</th>\n",
       "      <td>410060826759151616</td>\n",
       "      <td>На всю квартиру отборный мат, детишки играют в приставку :D</td>\n",
       "      <td>1</td>\n",
       "    </tr>\n",
       "    <tr>\n",
       "      <th>12382</th>\n",
       "      <td>409311697732505601</td>\n",
       "      <td>@KateDvoinyh убийством Ярого и предательством Бритвы:?)</td>\n",
       "      <td>1</td>\n",
       "    </tr>\n",
       "  </tbody>\n",
       "</table>\n",
       "</div>"
      ],
      "text/plain": [
       "                        id  \\\n",
       "29142   412648004894457856   \n",
       "105185  424091998002221056   \n",
       "107694  411158740146995202   \n",
       "72554   410484992704147456   \n",
       "88644   421507059171856384   \n",
       "91317   421973328606535680   \n",
       "5308    409062871667326976   \n",
       "38978   413805806296264705   \n",
       "52885   410060826759151616   \n",
       "12382   409311697732505601   \n",
       "\n",
       "                                                                                                                                          ttext  \\\n",
       "29142                                                                         @NatalyPoloz @rouuusi Надо хоть начать делать третий модуль...(((   \n",
       "105185                                                                                             @HE_HOOORM ясн у тебя кто-то другой есть (((   \n",
       "107694                                                                  @den__1980 @okpochepa Идеальный характер?)Характер он есть или его нет.   \n",
       "72554                                                       @galyonkin @blessmepadre @karin_karin_b Да нормально всё, если что в EA вас примут)   \n",
       "88644                                                                         @Ahlurglgr Вообще не хорошо Оо\\nУ меня вот в ухе вчера стреляло((   \n",
       "91317   Смотрела фотки @KryvenchukL с Германии и сразу вспоминаю нашу поездку, все те эмоции, Берлин,Дрезден,Львов. Эх:( http://t.co/cQHw46ahHq   \n",
       "5308                                                                Когда-то этот парень снес крышу мне и @PolinaX_X\\n)) http://t.co/EhHXTeW5Vk   \n",
       "38978                                    любить не сложно,сложно забыть..сложно забыть того,кто о тебе уже и не помнит=( http://t.co/jcIXXqTfaW   \n",
       "52885                                                                               На всю квартиру отборный мат, детишки играют в приставку :D   \n",
       "12382                                                                                   @KateDvoinyh убийством Ярого и предательством Бритвы:?)   \n",
       "\n",
       "        ttype  \n",
       "29142      -1  \n",
       "105185     -1  \n",
       "107694      1  \n",
       "72554       1  \n",
       "88644      -1  \n",
       "91317      -1  \n",
       "5308        1  \n",
       "38978      -1  \n",
       "52885       1  \n",
       "12382       1  "
      ]
     },
     "execution_count": 2,
     "metadata": {},
     "output_type": "execute_result"
    }
   ],
   "source": [
    "ff = ['id', 'tdate', 'tmane', 'ttext', 'ttype', 'trep', 'tfav', 'tstcount', 'tfol', 'tfrien', 'listcount','unk']\n",
    "\n",
    "data = pd.concat([\n",
    "    pd.read_csv('data/positive.csv.gz',sep=';',header=None),\n",
    "    pd.read_csv('data/negative.csv.gz',sep=';',header=None),\n",
    "])\n",
    "\n",
    "data.columns = ff\n",
    "\n",
    "data = data[['id','ttext', 'ttype']]\n",
    "\n",
    "print( 'negative:', len(data.query('ttype==-1')), '\\npositive:',len(data.query('ttype==1')) )\n",
    "\n",
    "data.sample(10)"
   ]
  },
  {
   "cell_type": "markdown",
   "metadata": {},
   "source": [
    "### очистка данных"
   ]
  },
  {
   "cell_type": "code",
   "execution_count": 3,
   "metadata": {},
   "outputs": [],
   "source": [
    "import re"
   ]
  },
  {
   "cell_type": "code",
   "execution_count": 4,
   "metadata": {},
   "outputs": [],
   "source": [
    "# применяет список замен pat к строке s\n",
    "def replace_patterns(s,pat):\n",
    "    if len(pat)<1: return s\n",
    "    return  replace_patterns( re.sub(pat[0][0],pat[0][1],s), pat[1:] )\n",
    "\n",
    "# нормализация текста\n",
    "def string_normalizer(s):\n",
    "    pat = [\n",
    "      [r'[ёЁ]','е'] # замена ё для унификации\n",
    "      #,[r'</?[a-z]+>',' '] # удаляем xml\n",
    "      ,[r'[:;]-*[)D]',' радость ']\n",
    "      ,[r'\\)\\)\\)*',' радость ']\n",
    "      ,[r'[:;]\\*',' поцелуй ']\n",
    "      ,[r':\\(',' печаль ']\n",
    "      ,[r'\\(\\(\\(*',' печаль ']\n",
    "      #,[r'\\d+',' digit ']\n",
    "    ]\n",
    "    return replace_patterns(s,pat).strip()"
   ]
  },
  {
   "cell_type": "code",
   "execution_count": 5,
   "metadata": {},
   "outputs": [
    {
     "data": {
      "application/vnd.jupyter.widget-view+json": {
       "model_id": "4be0b5a2b28d4119900935c298ee2485",
       "version_major": 2,
       "version_minor": 0
      },
      "text/plain": [
       "  0%|          | 0/226834 [00:00<?, ?it/s]"
      ]
     },
     "metadata": {},
     "output_type": "display_data"
    }
   ],
   "source": [
    "data['ttext_'] = data['ttext'].progress_apply(string_normalizer)"
   ]
  },
  {
   "cell_type": "code",
   "execution_count": 6,
   "metadata": {},
   "outputs": [],
   "source": [
    "import re\n",
    "from nltk.tokenize import word_tokenize as nltk_tokenize_word"
   ]
  },
  {
   "cell_type": "code",
   "execution_count": 7,
   "metadata": {},
   "outputs": [],
   "source": [
    "def tokenize(line): # разбиваем предложения на слова\n",
    "    return    [ \n",
    "        t.lower() \n",
    "        for t in nltk_tokenize_word(line) \n",
    "        if re.match(r'[a-zа-я]+',t.lower()) # выкинуть слова не содержащие букв\n",
    "        # if re.match(r'[а-я -]+',t.lower()) and len(t)>1 \n",
    "        # if not( (t.lower() in stopwords) or (len(t)<3) ) \n",
    "    ] "
   ]
  },
  {
   "cell_type": "code",
   "execution_count": 8,
   "metadata": {},
   "outputs": [
    {
     "data": {
      "application/vnd.jupyter.widget-view+json": {
       "model_id": "61e6adf818034c338c28ce5bee13fd4c",
       "version_major": 2,
       "version_minor": 0
      },
      "text/plain": [
       "  0%|          | 0/226834 [00:00<?, ?it/s]"
      ]
     },
     "metadata": {},
     "output_type": "display_data"
    }
   ],
   "source": [
    "data['ttext_'] = data['ttext_'].progress_apply(tokenize)"
   ]
  },
  {
   "cell_type": "code",
   "execution_count": 9,
   "metadata": {},
   "outputs": [
    {
     "data": {
      "text/html": [
       "<div>\n",
       "<style scoped>\n",
       "    .dataframe tbody tr th:only-of-type {\n",
       "        vertical-align: middle;\n",
       "    }\n",
       "\n",
       "    .dataframe tbody tr th {\n",
       "        vertical-align: top;\n",
       "    }\n",
       "\n",
       "    .dataframe thead th {\n",
       "        text-align: right;\n",
       "    }\n",
       "</style>\n",
       "<table border=\"1\" class=\"dataframe\">\n",
       "  <thead>\n",
       "    <tr style=\"text-align: right;\">\n",
       "      <th></th>\n",
       "      <th>id</th>\n",
       "      <th>ttext</th>\n",
       "      <th>ttype</th>\n",
       "      <th>ttext_</th>\n",
       "    </tr>\n",
       "  </thead>\n",
       "  <tbody>\n",
       "    <tr>\n",
       "      <th>27687</th>\n",
       "      <td>409605337487257600</td>\n",
       "      <td>На 2011 году в базе imdb числится 5760 названий. :)</td>\n",
       "      <td>1</td>\n",
       "      <td>[на, году, в, базе, imdb, числится, названий, радость]</td>\n",
       "    </tr>\n",
       "    <tr>\n",
       "      <th>29068</th>\n",
       "      <td>409622147741806592</td>\n",
       "      <td>@new_angeles1 да вообще:D сериал интересный был видите ли:DD не ругала,что странно:D</td>\n",
       "      <td>1</td>\n",
       "      <td>[new_angeles1, да, вообще, радость, сериал, интересный, был, видите, ли, радость, d, не, ругала, что, странно, радость]</td>\n",
       "    </tr>\n",
       "    <tr>\n",
       "      <th>96999</th>\n",
       "      <td>422777346643333120</td>\n",
       "      <td>прям в буквальном смысле растоптал и да ещё и с девушкой поссорился из-за этого ((((</td>\n",
       "      <td>-1</td>\n",
       "      <td>[прям, в, буквальном, смысле, растоптал, и, да, еще, и, с, девушкой, поссорился, из-за, этого, печаль]</td>\n",
       "    </tr>\n",
       "    <tr>\n",
       "      <th>52706</th>\n",
       "      <td>410056303659081729</td>\n",
       "      <td>@So_So_mini лента говорит, что ходил \\nНикто ничего внятно не объяснил :)</td>\n",
       "      <td>1</td>\n",
       "      <td>[so_so_mini, лента, говорит, что, ходил, никто, ничего, внятно, не, объяснил, радость]</td>\n",
       "    </tr>\n",
       "    <tr>\n",
       "      <th>33071</th>\n",
       "      <td>413222771314139136</td>\n",
       "      <td>RT @back_to_90th: Уже не вернешь то время...( http://t.co/gVoaTtYiZZ</td>\n",
       "      <td>-1</td>\n",
       "      <td>[rt, back_to_90th, уже, не, вернешь, то, время, http]</td>\n",
       "    </tr>\n",
       "    <tr>\n",
       "      <th>371</th>\n",
       "      <td>408910785386385408</td>\n",
       "      <td>RT @nastya_kozai_: выздоравливай:* http://t.co/fnsuO52bNI</td>\n",
       "      <td>1</td>\n",
       "      <td>[rt, nastya_kozai_, выздоравливай, поцелуй, http]</td>\n",
       "    </tr>\n",
       "    <tr>\n",
       "      <th>20638</th>\n",
       "      <td>409416834841333760</td>\n",
       "      <td>@tzykina Привет??? Тань??? ... Да он вотще дружбанэ по ходу!)))</td>\n",
       "      <td>1</td>\n",
       "      <td>[tzykina, привет, тань, да, он, вотще, дружбанэ, по, ходу, радость]</td>\n",
       "    </tr>\n",
       "    <tr>\n",
       "      <th>74114</th>\n",
       "      <td>418621926274117634</td>\n",
       "      <td>кажется что всё еще впереди, но так всё хреново, что часто в голову лезут мысли покончить собой ((</td>\n",
       "      <td>-1</td>\n",
       "      <td>[кажется, что, все, еще, впереди, но, так, все, хреново, что, часто, в, голову, лезут, мысли, покончить, собой, печаль]</td>\n",
       "    </tr>\n",
       "    <tr>\n",
       "      <th>30231</th>\n",
       "      <td>412845522287075328</td>\n",
       "      <td>Вчера повесилась девушка из Молдовы. Ей было всего 16 и она была беременна а её бросил парень... Она жила с бабушкой. Это сердечко ей... (</td>\n",
       "      <td>-1</td>\n",
       "      <td>[вчера, повесилась, девушка, из, молдовы, ей, было, всего, и, она, была, беременна, а, ее, бросил, парень, она, жила, с, бабушкой, это, сердечко, ей]</td>\n",
       "    </tr>\n",
       "    <tr>\n",
       "      <th>114776</th>\n",
       "      <td>411366991040360448</td>\n",
       "      <td>RT @b_kontur: Какие важные изменения ждут бухгалтера в 2014 году? Читайте в нашей статье :) http://t.co/GPnySX3x2U</td>\n",
       "      <td>1</td>\n",
       "      <td>[rt, b_kontur, какие, важные, изменения, ждут, бухгалтера, в, году, читайте, в, нашей, статье, радость, http]</td>\n",
       "    </tr>\n",
       "  </tbody>\n",
       "</table>\n",
       "</div>"
      ],
      "text/plain": [
       "                        id  \\\n",
       "27687   409605337487257600   \n",
       "29068   409622147741806592   \n",
       "96999   422777346643333120   \n",
       "52706   410056303659081729   \n",
       "33071   413222771314139136   \n",
       "371     408910785386385408   \n",
       "20638   409416834841333760   \n",
       "74114   418621926274117634   \n",
       "30231   412845522287075328   \n",
       "114776  411366991040360448   \n",
       "\n",
       "                                                                                                                                             ttext  \\\n",
       "27687                                                                                          На 2011 году в базе imdb числится 5760 названий. :)   \n",
       "29068                                                         @new_angeles1 да вообще:D сериал интересный был видите ли:DD не ругала,что странно:D   \n",
       "96999                                                         прям в буквальном смысле растоптал и да ещё и с девушкой поссорился из-за этого ((((   \n",
       "52706                                                                    @So_So_mini лента говорит, что ходил \\nНикто ничего внятно не объяснил :)   \n",
       "33071                                                                         RT @back_to_90th: Уже не вернешь то время...( http://t.co/gVoaTtYiZZ   \n",
       "371                                                                                      RT @nastya_kozai_: выздоравливай:* http://t.co/fnsuO52bNI   \n",
       "20638                                                                              @tzykina Привет??? Тань??? ... Да он вотще дружбанэ по ходу!)))   \n",
       "74114                                           кажется что всё еще впереди, но так всё хреново, что часто в голову лезут мысли покончить собой ((   \n",
       "30231   Вчера повесилась девушка из Молдовы. Ей было всего 16 и она была беременна а её бросил парень... Она жила с бабушкой. Это сердечко ей... (   \n",
       "114776                          RT @b_kontur: Какие важные изменения ждут бухгалтера в 2014 году? Читайте в нашей статье :) http://t.co/GPnySX3x2U   \n",
       "\n",
       "        ttype  \\\n",
       "27687       1   \n",
       "29068       1   \n",
       "96999      -1   \n",
       "52706       1   \n",
       "33071      -1   \n",
       "371         1   \n",
       "20638       1   \n",
       "74114      -1   \n",
       "30231      -1   \n",
       "114776      1   \n",
       "\n",
       "                                                                                                                                                       ttext_  \n",
       "27687                                                                                                  [на, году, в, базе, imdb, числится, названий, радость]  \n",
       "29068                                 [new_angeles1, да, вообще, радость, сериал, интересный, был, видите, ли, радость, d, не, ругала, что, странно, радость]  \n",
       "96999                                                  [прям, в, буквальном, смысле, растоптал, и, да, еще, и, с, девушкой, поссорился, из-за, этого, печаль]  \n",
       "52706                                                                  [so_so_mini, лента, говорит, что, ходил, никто, ничего, внятно, не, объяснил, радость]  \n",
       "33071                                                                                                   [rt, back_to_90th, уже, не, вернешь, то, время, http]  \n",
       "371                                                                                                         [rt, nastya_kozai_, выздоравливай, поцелуй, http]  \n",
       "20638                                                                                     [tzykina, привет, тань, да, он, вотще, дружбанэ, по, ходу, радость]  \n",
       "74114                                 [кажется, что, все, еще, впереди, но, так, все, хреново, что, часто, в, голову, лезут, мысли, покончить, собой, печаль]  \n",
       "30231   [вчера, повесилась, девушка, из, молдовы, ей, было, всего, и, она, была, беременна, а, ее, бросил, парень, она, жила, с, бабушкой, это, сердечко, ей]  \n",
       "114776                                          [rt, b_kontur, какие, важные, изменения, ждут, бухгалтера, в, году, читайте, в, нашей, статье, радость, http]  "
      ]
     },
     "execution_count": 9,
     "metadata": {},
     "output_type": "execute_result"
    }
   ],
   "source": [
    "data.sample(10)"
   ]
  },
  {
   "cell_type": "code",
   "execution_count": 10,
   "metadata": {},
   "outputs": [
    {
     "data": {
      "text/plain": [
       "36"
      ]
     },
     "execution_count": 10,
     "metadata": {},
     "output_type": "execute_result"
    }
   ],
   "source": [
    "# максимальная длинна последовательности\n",
    "seq_max_len = data['ttext_'].str.len().max() \n",
    "seq_max_len"
   ]
  },
  {
   "cell_type": "code",
   "execution_count": 11,
   "metadata": {},
   "outputs": [
    {
     "data": {
      "application/vnd.jupyter.widget-view+json": {
       "model_id": "3abf07bda0e045a09bf7b60d942e5aba",
       "version_major": 2,
       "version_minor": 0
      },
      "text/plain": [
       "  0%|          | 0/226834 [00:00<?, ?it/s]"
      ]
     },
     "metadata": {},
     "output_type": "display_data"
    },
    {
     "data": {
      "text/plain": [
       "136"
      ]
     },
     "execution_count": 11,
     "metadata": {},
     "output_type": "execute_result"
    }
   ],
   "source": [
    "# максимальная длинна слова\n",
    "word_max_len = data['ttext_'].progress_apply(lambda s: max([ len(w) for w in s])).max()\n",
    "word_max_len"
   ]
  },
  {
   "cell_type": "code",
   "execution_count": 12,
   "metadata": {},
   "outputs": [],
   "source": [
    "# data[ data['ttext_'].str.len()<1 ] # пустые последовательности"
   ]
  },
  {
   "cell_type": "code",
   "execution_count": 13,
   "metadata": {},
   "outputs": [
    {
     "name": "stdout",
     "output_type": "stream",
     "text": [
      "negative: 111923 \n",
      "positive: 114911\n"
     ]
    }
   ],
   "source": [
    "print( 'negative:', len(data.query('ttype==-1')), '\\npositive:',len(data.query('ttype==1')) )"
   ]
  },
  {
   "cell_type": "code",
   "execution_count": 14,
   "metadata": {},
   "outputs": [
    {
     "name": "stdout",
     "output_type": "stream",
     "text": [
      "negative: 111923 \n",
      "positive: 114911\n"
     ]
    }
   ],
   "source": [
    "data = data[ data['ttext_'].str.len()>0 ].reset_index(drop=True)\n",
    "print( 'negative:', len(data.query('ttype==-1')), '\\npositive:',len(data.query('ttype==1')) )"
   ]
  },
  {
   "cell_type": "markdown",
   "metadata": {},
   "source": [
    "------"
   ]
  },
  {
   "cell_type": "code",
   "execution_count": 15,
   "metadata": {},
   "outputs": [
    {
     "data": {
      "text/plain": [
       "197"
      ]
     },
     "execution_count": 15,
     "metadata": {},
     "output_type": "execute_result"
    }
   ],
   "source": [
    "abc = set.union(*[ set(' '.join(s)) for s in data['ttext_'].apply(set) ])\n",
    "abc = { w:n+1 for n,w in enumerate(sorted(abc)) }\n",
    "# abc_len = len(abc)\n",
    "# abc_len\n",
    "len(abc)"
   ]
  },
  {
   "cell_type": "code",
   "execution_count": 16,
   "metadata": {},
   "outputs": [],
   "source": [
    "# дополняем до максимальной длины\n",
    "def pad_seq(s,max_len,pad_code=0):\n",
    "    return [pad_code]*(max_len-len(s))+s\n",
    "\n",
    "# заменяем символы слова на последовательность номеров символов в алфавите \n",
    "def encode_abc(w,abc=abc ): \n",
    "    return list(map(abc.get,w))\n",
    "\n",
    "def encode_abc_bin(codes,abc_len=len(abc)):\n",
    "    return [ np.eye(abc_len,dtype=np.uint8)[c] for c in codes ]\n",
    "\n",
    "def encode_seq(s, abc=abc, seq_max_len=seq_max_len, word_max_len=word_max_len, ):\n",
    "    abc_len = len(abc)+1\n",
    "    zero_word = np.zeros(abc_len,dtype=np.uint8) \n",
    "    zero_seq = np.zeros([1,word_max_len,abc_len],dtype=np.uint8) \n",
    "    return np.vstack(\n",
    "        pad_seq( # дополняем последовательности до единого размера\n",
    "            [ \n",
    "                np.vstack(\n",
    "                    pad_seq( # дополняем код слова до единого размера\n",
    "                        encode_abc_bin( encode_abc(w,abc=abc), abc_len=abc_len, ) # кодируем слово\n",
    "                        ,word_max_len # максимальный размер слова\n",
    "                        ,pad_code=zero_word # дополняем нулями\n",
    "                    )\n",
    "                )[np.newaxis,:]\n",
    "                for w in s # для каждого слова последовательности\n",
    "            ]\n",
    "            ,seq_max_len # максимальный размер последовательности\n",
    "            ,pad_code=zero_seq # дополняем нулями\n",
    "        )\n",
    "    )[np.newaxis,:]\n",
    "\n",
    "# [ номер примера, позиция слова в предложении, позиция символа в слове, номер символа ]"
   ]
  },
  {
   "cell_type": "code",
   "execution_count": 17,
   "metadata": {},
   "outputs": [],
   "source": [
    "def get_batch(df,batch_size=10_000,shuffle=True,):\n",
    "    ii = rng.permutation(len(df)) if shuffle else np.array(range(len(df)))\n",
    "    for i in range(0,len(ii),batch_size):\n",
    "        yield (\n",
    "            np.vstack( df.iloc[ii[i:i+batch_size]]['ttext_'].apply(encode_seq).values ), \n",
    "            # строим выход нейросети (из 2 нейронов)\n",
    "            np.eye(2,dtype=np.float32)[(df.iloc[ii[i:i+batch_size]]['ttype'].values+1)//2],\n",
    "        )\n",
    "\n",
    "# x,target = next( get_batch(data,batch_size=1_000) )\n",
    "# x.shape, target.shape"
   ]
  },
  {
   "cell_type": "markdown",
   "metadata": {},
   "source": [
    "----"
   ]
  },
  {
   "cell_type": "code",
   "execution_count": 18,
   "metadata": {},
   "outputs": [],
   "source": [
    "ii = rng.permutation(len(data))\n",
    "n = len(data)//10\n",
    "data_train  = data.iloc[ii[:n]].reset_index(drop=True)\n",
    "data_test  = data.iloc[ii[n:]].reset_index(drop=True)"
   ]
  },
  {
   "cell_type": "code",
   "execution_count": 19,
   "metadata": {},
   "outputs": [
    {
     "name": "stdout",
     "output_type": "stream",
     "text": [
      "train:\n",
      "\n",
      "\tnegative: 11212 \n",
      "\tpositive: 11471\n",
      "test:\n",
      "\n",
      "\tnegative: 100711 \n",
      "\tpositive: 103440\n"
     ]
    }
   ],
   "source": [
    "print('train:\\n')\n",
    "print('\\tnegative:', len(data_train.query('ttype==-1')), '\\n\\tpositive:',len(data_train.query('ttype==1')) )\n",
    "\n",
    "print('test:\\n')\n",
    "print('\\tnegative:', len(data_test.query('ttype==-1')), '\\n\\tpositive:',len(data_test.query('ttype==1')) )"
   ]
  },
  {
   "cell_type": "markdown",
   "metadata": {},
   "source": [
    "## модель"
   ]
  },
  {
   "cell_type": "code",
   "execution_count": 20,
   "metadata": {},
   "outputs": [],
   "source": [
    "# del model\n",
    "# del y"
   ]
  },
  {
   "cell_type": "code",
   "execution_count": 21,
   "metadata": {},
   "outputs": [],
   "source": [
    "import torch\n",
    "import torch.nn as nn\n",
    "import torch.nn.functional as F"
   ]
  },
  {
   "cell_type": "code",
   "execution_count": 22,
   "metadata": {},
   "outputs": [
    {
     "data": {
      "text/plain": [
       "'1.10.2+cu102'"
      ]
     },
     "execution_count": 22,
     "metadata": {},
     "output_type": "execute_result"
    }
   ],
   "source": [
    "torch.__version__"
   ]
  },
  {
   "cell_type": "code",
   "execution_count": 23,
   "metadata": {},
   "outputs": [],
   "source": [
    "n_classes = 2\n",
    "\n",
    "class Model(nn.Module):\n",
    "    def __init__(self, \n",
    "                 output_dim=n_classes, # размер выхода\n",
    "                ):\n",
    "        super().__init__()\n",
    "        \n",
    "        self._conv1= nn.Conv2d(\n",
    "                in_channels=seq_max_len,\n",
    "                out_channels=32,\n",
    "                kernel_size=(15,15)\n",
    "            )\n",
    "        self._linear = nn.Linear(3072, output_dim) # выходной (линейный) слой\n",
    "\n",
    "    def forward(self,x):\n",
    "        o = self._conv1(x)\n",
    "        o = F.relu(o)\n",
    "        # o = torch.tanh(o)\n",
    "        o = F.max_pool2d(o,kernel_size=15)\n",
    "        o = torch.flatten(o, start_dim=1)\n",
    "        o = self._linear(o) # считаем выход сети\n",
    "        o = F.softmax(o,dim=1)\n",
    "        \n",
    "        return o "
   ]
  },
  {
   "cell_type": "code",
   "execution_count": 24,
   "metadata": {},
   "outputs": [
    {
     "data": {
      "text/plain": [
       "Model(\n",
       "  (_conv1): Conv2d(36, 32, kernel_size=(15, 15), stride=(1, 1))\n",
       "  (_linear): Linear(in_features=3072, out_features=2, bias=True)\n",
       ")"
      ]
     },
     "execution_count": 24,
     "metadata": {},
     "output_type": "execute_result"
    }
   ],
   "source": [
    "model = Model()\n",
    "model"
   ]
  },
  {
   "cell_type": "code",
   "execution_count": 25,
   "metadata": {},
   "outputs": [],
   "source": [
    "# x,y = next( get_batch(data,batch_size=100) )\n",
    "# model( torch.tensor( x, dtype=torch.float32 ) ).shape\n",
    "# del x\n",
    "# del y"
   ]
  },
  {
   "cell_type": "markdown",
   "metadata": {},
   "source": [
    "### обучаем модель"
   ]
  },
  {
   "cell_type": "code",
   "execution_count": 26,
   "metadata": {},
   "outputs": [
    {
     "data": {
      "text/plain": [
       "device(type='cuda', index=0)"
      ]
     },
     "execution_count": 26,
     "metadata": {},
     "output_type": "execute_result"
    }
   ],
   "source": [
    "# проверяем GPU\n",
    "device = torch.device('cuda:0' if torch.cuda.is_available() else 'cpu')\n",
    "device"
   ]
  },
  {
   "cell_type": "code",
   "execution_count": 27,
   "metadata": {},
   "outputs": [],
   "source": [
    "model = model.to(device)"
   ]
  },
  {
   "cell_type": "code",
   "execution_count": 28,
   "metadata": {},
   "outputs": [],
   "source": [
    "criterion =  nn.CrossEntropyLoss() # ф-ция потери\n",
    "optimizer = torch.optim.Adam(model.parameters(), lr=.005) # метод оптимизации"
   ]
  },
  {
   "cell_type": "code",
   "execution_count": 29,
   "metadata": {},
   "outputs": [
    {
     "name": "stdout",
     "output_type": "stream",
     "text": [
      "epoch: 1\n"
     ]
    },
    {
     "data": {
      "application/vnd.jupyter.widget-view+json": {
       "model_id": "f520f20b0d714cf190f34a3fb4ebeed3",
       "version_major": 2,
       "version_minor": 0
      },
      "text/plain": [
       "  0%|          | 0/177 [00:00<?, ?it/s]"
      ]
     },
     "metadata": {},
     "output_type": "display_data"
    },
    {
     "name": "stderr",
     "output_type": "stream",
     "text": [
      "/opt/python3.8/lib/python3.8/site-packages/torch/nn/functional.py:1795: UserWarning: nn.functional.tanh is deprecated. Use torch.tanh instead.\n",
      "  warnings.warn(\"nn.functional.tanh is deprecated. Use torch.tanh instead.\")\n"
     ]
    },
    {
     "name": "stdout",
     "output_type": "stream",
     "text": [
      "epoch: 2\n"
     ]
    },
    {
     "data": {
      "application/vnd.jupyter.widget-view+json": {
       "model_id": "96f9e83153374dc69ca5ac67598ba044",
       "version_major": 2,
       "version_minor": 0
      },
      "text/plain": [
       "  0%|          | 0/177 [00:00<?, ?it/s]"
      ]
     },
     "metadata": {},
     "output_type": "display_data"
    },
    {
     "name": "stdout",
     "output_type": "stream",
     "text": [
      "epoch: 3\n"
     ]
    },
    {
     "data": {
      "application/vnd.jupyter.widget-view+json": {
       "model_id": "e75db31af1c743a1b1277bff66fa319f",
       "version_major": 2,
       "version_minor": 0
      },
      "text/plain": [
       "  0%|          | 0/177 [00:00<?, ?it/s]"
      ]
     },
     "metadata": {},
     "output_type": "display_data"
    },
    {
     "name": "stdout",
     "output_type": "stream",
     "text": [
      "epoch: 4\n"
     ]
    },
    {
     "data": {
      "application/vnd.jupyter.widget-view+json": {
       "model_id": "2d8eacf25bb3400090a13fd03c81e054",
       "version_major": 2,
       "version_minor": 0
      },
      "text/plain": [
       "  0%|          | 0/177 [00:00<?, ?it/s]"
      ]
     },
     "metadata": {},
     "output_type": "display_data"
    },
    {
     "name": "stdout",
     "output_type": "stream",
     "text": [
      "epoch: 5\n"
     ]
    },
    {
     "data": {
      "application/vnd.jupyter.widget-view+json": {
       "model_id": "c4d49c9141754cabbdb84efb6ea97c1b",
       "version_major": 2,
       "version_minor": 0
      },
      "text/plain": [
       "  0%|          | 0/177 [00:00<?, ?it/s]"
      ]
     },
     "metadata": {},
     "output_type": "display_data"
    },
    {
     "name": "stdout",
     "output_type": "stream",
     "text": [
      "epoch: 6\n"
     ]
    },
    {
     "data": {
      "application/vnd.jupyter.widget-view+json": {
       "model_id": "85365e070c304cda89b9e2878a5cb4e4",
       "version_major": 2,
       "version_minor": 0
      },
      "text/plain": [
       "  0%|          | 0/177 [00:00<?, ?it/s]"
      ]
     },
     "metadata": {},
     "output_type": "display_data"
    },
    {
     "name": "stdout",
     "output_type": "stream",
     "text": [
      "epoch: 7\n"
     ]
    },
    {
     "data": {
      "application/vnd.jupyter.widget-view+json": {
       "model_id": "7b75f4ff270b4da8b0a85d7b0a1da689",
       "version_major": 2,
       "version_minor": 0
      },
      "text/plain": [
       "  0%|          | 0/177 [00:00<?, ?it/s]"
      ]
     },
     "metadata": {},
     "output_type": "display_data"
    },
    {
     "name": "stdout",
     "output_type": "stream",
     "text": [
      "epoch: 8\n"
     ]
    },
    {
     "data": {
      "application/vnd.jupyter.widget-view+json": {
       "model_id": "ca51622a270e49f498444642b7b03ddc",
       "version_major": 2,
       "version_minor": 0
      },
      "text/plain": [
       "  0%|          | 0/177 [00:00<?, ?it/s]"
      ]
     },
     "metadata": {},
     "output_type": "display_data"
    },
    {
     "name": "stdout",
     "output_type": "stream",
     "text": [
      "epoch: 9\n"
     ]
    },
    {
     "data": {
      "application/vnd.jupyter.widget-view+json": {
       "model_id": "db15a7002e23474bbae5726356154b54",
       "version_major": 2,
       "version_minor": 0
      },
      "text/plain": [
       "  0%|          | 0/177 [00:00<?, ?it/s]"
      ]
     },
     "metadata": {},
     "output_type": "display_data"
    },
    {
     "name": "stdout",
     "output_type": "stream",
     "text": [
      "epoch: 10\n"
     ]
    },
    {
     "data": {
      "application/vnd.jupyter.widget-view+json": {
       "model_id": "3e555a95ad4145a8bbb37daa526fa404",
       "version_major": 2,
       "version_minor": 0
      },
      "text/plain": [
       "  0%|          | 0/177 [00:00<?, ?it/s]"
      ]
     },
     "metadata": {},
     "output_type": "display_data"
    },
    {
     "name": "stdout",
     "output_type": "stream",
     "text": [
      "CPU times: user 24min 25s, sys: 3min 52s, total: 28min 17s\n",
      "Wall time: 22min 48s\n"
     ]
    }
   ],
   "source": [
    "%%time\n",
    "\n",
    "batch_size=128\n",
    "loss_history = [] # значения ф-ции потери\n",
    "n_epoch = 10 # количество эпох обучения\n",
    "\n",
    "for i in range(n_epoch): \n",
    "    print('epoch:',i+1)\n",
    "    for x,y in tqdm(\n",
    "            get_batch(data_train,batch_size=batch_size)\n",
    "            ,total=len(data_train)//batch_size\n",
    "        ): # получаем батч учебных примеров\n",
    "        x_ = torch.tensor(x,dtype=torch.float32).to(device)\n",
    "        y_ = torch.tensor(y,dtype=torch.float32).to(device)\n",
    "        out = model.forward(x_) # считаем выход модели\n",
    "        loss = criterion(y_,out ) # вычисляем значение ф-ции потери\n",
    "        loss_history.append(loss.item()) # дополняем историю изменения значений ф-ции потери\n",
    "        optimizer.zero_grad() # очищаем предыдущее значение градиента\n",
    "        loss.backward()  # вычисляем текущее значение градиента ф-ции потери\n",
    "        optimizer.step() # корректируем параметры модели\n",
    "        del x_\n",
    "        del y_\n",
    "    torch.cuda.empty_cache()\n",
    "    #acc_history.append( accuracy(data_train) ) #значение погрешности"
   ]
  },
  {
   "cell_type": "code",
   "execution_count": 30,
   "metadata": {},
   "outputs": [
    {
     "data": {
      "text/plain": [
       "<matplotlib.legend.Legend at 0x7fc771ed1430>"
      ]
     },
     "execution_count": 30,
     "metadata": {},
     "output_type": "execute_result"
    },
    {
     "data": {
      "image/png": "[encoded data removed]",
      "text/plain": [
       "<Figure size 432x288 with 1 Axes>"
      ]
     },
     "metadata": {
      "needs_background": "light"
     },
     "output_type": "display_data"
    }
   ],
   "source": [
    "from matplotlib import pyplot as plt\n",
    "# история изменения значений ф-ции потери\n",
    "plt.plot(loss_history,label='min loss=%.3f'%(min(loss_history)))\n",
    "plt.grid()\n",
    "plt.legend()"
   ]
  },
  {
   "cell_type": "markdown",
   "metadata": {},
   "source": [
    "## проверяем результат"
   ]
  },
  {
   "cell_type": "code",
   "execution_count": 31,
   "metadata": {},
   "outputs": [
    {
     "data": {
      "application/vnd.jupyter.widget-view+json": {
       "model_id": "11630def929c4d199e32c6c7e4834f89",
       "version_major": 2,
       "version_minor": 0
      },
      "text/plain": [
       "  0%|          | 0/1594 [00:00<?, ?it/s]"
      ]
     },
     "metadata": {},
     "output_type": "display_data"
    },
    {
     "name": "stderr",
     "output_type": "stream",
     "text": [
      "/opt/python3.8/lib/python3.8/site-packages/torch/nn/functional.py:1795: UserWarning: nn.functional.tanh is deprecated. Use torch.tanh instead.\n",
      "  warnings.warn(\"nn.functional.tanh is deprecated. Use torch.tanh instead.\")\n"
     ]
    },
    {
     "name": "stdout",
     "output_type": "stream",
     "text": [
      "              precision    recall  f1-score   support\n",
      "\n",
      "           0       0.81      0.84      0.83    100711\n",
      "           1       0.84      0.81      0.82    103440\n",
      "\n",
      "    accuracy                           0.82    204151\n",
      "   macro avg       0.82      0.82      0.82    204151\n",
      "weighted avg       0.83      0.82      0.82    204151\n",
      "\n"
     ]
    }
   ],
   "source": [
    "# batch_size = 128\n",
    "\n",
    "with torch.set_grad_enabled(False):\n",
    "    o_test = np.hstack([\n",
    "            np.argmax( model(torch.tensor(x,dtype=torch.float32).to(device)).cpu().numpy(),axis=1 )\n",
    "            for x,_ in tqdm(\n",
    "                    get_batch( data_test, batch_size=batch_size, shuffle=False)\n",
    "                    ,total=len(data_test)//batch_size\n",
    "                )\n",
    "        ])\n",
    "    \n",
    "target_test = (data_test['ttype']+1)//2  \n",
    "\n",
    "from sklearn.metrics import classification_report\n",
    "print(classification_report( target_test,o_test))"
   ]
  },
  {
   "cell_type": "markdown",
   "metadata": {},
   "source": [
    "----"
   ]
  },
  {
   "cell_type": "code",
   "execution_count": 32,
   "metadata": {},
   "outputs": [],
   "source": [
    "# from sklearn.metrics import accuracy_score\n",
    "\n",
    "# def accuracy(dataset,batch_size=128):\n",
    "#     with torch.set_grad_enabled(False):\n",
    "#         return np.mean([\n",
    "#             accuracy_score(\n",
    "#                 y[:,1],\n",
    "#                 np.argmax( model(torch.tensor(x,dtype=torch.float32).to(device)).cpu().numpy(),axis=1 )\n",
    "#             )\n",
    "#             for x,y in tqdm(\n",
    "#                     get_batch( dataset, batch_size=batch_size, shuffle=False)\n",
    "#                     ,total=len(dataset)//batch_size\n",
    "#                 )\n",
    "#         ])\n",
    "        \n",
    "# # acc_history = [ accuracy(data_train) ] # начальное значение погрешности"
   ]
  },
  {
   "cell_type": "code",
   "execution_count": 33,
   "metadata": {},
   "outputs": [],
   "source": [
    "# acc_history"
   ]
  },
  {
   "cell_type": "code",
   "execution_count": 34,
   "metadata": {},
   "outputs": [],
   "source": [
    "# acc_history"
   ]
  },
  {
   "cell_type": "code",
   "execution_count": 35,
   "metadata": {},
   "outputs": [],
   "source": [
    "# # история изменения значений погрешности модели\n",
    "# plt.plot(acc_history,label='max acc=%.3f'%(max(acc_history)),c='r')\n",
    "# plt.grid()\n",
    "# plt.legend()"
   ]
  },
  {
   "cell_type": "code",
   "execution_count": 36,
   "metadata": {},
   "outputs": [],
   "source": [
    "# x,y = next( get_batch(data,batch_size=100) )\n",
    "# x.shape, y.shape"
   ]
  },
  {
   "cell_type": "code",
   "execution_count": 37,
   "metadata": {},
   "outputs": [],
   "source": [
    "# o = nn.Conv2d(\n",
    "#         in_channels=seq_max_len,\n",
    "#         out_channels=128,\n",
    "#         kernel_size=(7,7)\n",
    "#     )(torch.tensor(x,dtype=torch.float32))\n",
    "\n",
    "# o = F.max_pool2d(o,kernel_size=5)\n",
    "\n",
    "# o = nn.Conv2d(\n",
    "#         in_channels=128,\n",
    "#         out_channels=32,\n",
    "#         kernel_size=(9,9)\n",
    "#     )(o)\n",
    "\n",
    "# o = F.max_pool2d(o,kernel_size=3)\n",
    "\n",
    "# print(o.shape)\n",
    "\n",
    "# o = torch.flatten(o, start_dim=1)\n",
    "\n",
    "# o.shape"
   ]
  },
  {
   "cell_type": "code",
   "execution_count": 38,
   "metadata": {},
   "outputs": [],
   "source": [
    "# max_pool2d(input, kernel_size, stride=None, padding=0, dilation=1,"
   ]
  },
  {
   "cell_type": "code",
   "execution_count": 39,
   "metadata": {},
   "outputs": [],
   "source": [
    "# x,y = next( get_batch(data,batch_size=100) )\n",
    "# # x.shape, y.shape\n",
    "#\n",
    "# o = nn.Conv2d(\n",
    "#         in_channels=seq_max_len,\n",
    "#         out_channels=32,\n",
    "#         kernel_size=(15,15)\n",
    "#     )(torch.tensor(x,dtype=torch.float32))\n",
    "#\n",
    "# o = F.max_pool2d(o,kernel_size=15)\n",
    "#\n",
    "# # o = nn.Conv2d(\n",
    "# #         in_channels=128,\n",
    "# #         out_channels=32,\n",
    "# #         kernel_size=(9,9)\n",
    "# #     )(o)\n",
    "#\n",
    "# # o = F.max_pool2d(o,kernel_size=3)\n",
    "#\n",
    "# print(o.shape)\n",
    "#\n",
    "# o = torch.flatten(o, start_dim=1)\n",
    "#\n",
    "# o.shape"
   ]
  }
 ],
 "metadata": {
  "kernelspec": {
   "display_name": "Python 3 (ipykernel)",
   "language": "python",
   "name": "python3"
  },
  "language_info": {
   "codemirror_mode": {
    "name": "ipython",
    "version": 3
   },
   "file_extension": ".py",
   "mimetype": "text/x-python",
   "name": "python",
   "nbconvert_exporter": "python",
   "pygments_lexer": "ipython3",
   "version": "3.8.9"
  },
  "toc": {
   "base_numbering": 1,
   "nav_menu": {},
   "number_sections": true,
   "sideBar": true,
   "skip_h1_title": false,
   "title_cell": "Table of Contents",
   "title_sidebar": "Contents",
   "toc_cell": false,
   "toc_position": {},
   "toc_section_display": "block",
   "toc_window_display": false
  }
 },
 "nbformat": 4,
 "nbformat_minor": 4
}
