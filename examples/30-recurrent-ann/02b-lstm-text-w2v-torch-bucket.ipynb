{
 "cells": [
  {
   "cell_type": "markdown",
   "metadata": {},
   "source": [
    "**классификатор текстов LSTM**\n",
    "\n",
    "с сортировкой по длинне строк при формировании батчей\n",
    "\n",
    "Евгений Борисов <esborisov@sevsu.ru>"
   ]
  },
  {
   "cell_type": "markdown",
   "metadata": {},
   "source": [
    "https://habr.com/ru/company/dca/blog/274027/    \n",
    "http://help.sentiment140.com/for-students/   \n",
    "http://study.mokoron.com  "
   ]
  },
  {
   "cell_type": "markdown",
   "metadata": {},
   "source": [
    "https://rohit-agrawal.medium.com/using-fine-tuned-gensim-word2vec-embeddings-with-torchtext-and-pytorch-17eea2883cd"
   ]
  },
  {
   "cell_type": "markdown",
   "metadata": {},
   "source": [
    "## Библиотеки"
   ]
  },
  {
   "cell_type": "code",
   "execution_count": 1,
   "metadata": {},
   "outputs": [],
   "source": [
    "import numpy as np\n",
    "import numpy.random as rng\n",
    "\n",
    "import pandas as pd\n",
    "pd.options.display.max_colwidth = 200  \n",
    "import re\n",
    "# import gzip\n",
    "from tqdm import tqdm\n",
    "import matplotlib.pyplot as plt"
   ]
  },
  {
   "cell_type": "code",
   "execution_count": 2,
   "metadata": {},
   "outputs": [],
   "source": [
    "import torch\n",
    "import torch.nn as nn\n",
    "# from torchviz import make_dot"
   ]
  },
  {
   "cell_type": "code",
   "execution_count": 3,
   "metadata": {},
   "outputs": [],
   "source": [
    "tqdm.pandas()"
   ]
  },
  {
   "cell_type": "code",
   "execution_count": 4,
   "metadata": {},
   "outputs": [],
   "source": [
    "def pp(d): return \"{:,.0f}\".format(d).replace(\",\", \" \")\n",
    "def ppr(d): print('записей:', pp(len(d)) )  "
   ]
  },
  {
   "cell_type": "markdown",
   "metadata": {},
   "source": [
    "## Данные"
   ]
  },
  {
   "cell_type": "raw",
   "metadata": {},
   "source": [
    "Ю. В. Рубцова. Построение корпуса текстов для настройки тонового классификатора // Программные продукты и системы, 2015, №1(109), –С.72-78\n",
    "\n",
    "http://study.mokoron.com\n",
    "\n",
    "– id: уникальный номер сообщения в системе twitter;\n",
    "– tdate: дата публикации сообщения (твита);\n",
    "– tmane: имя пользователя, опубликовавшего сообщение;\n",
    "– ttext:  текст сообщения (твита);\n",
    "– ttype: поле в котором в дальнейшем будет указано к кому классу относится твит (положительный, отрицательный, нейтральный);\n",
    "– trep: количество реплаев к данному сообщению. В настоящий момент API твиттера не отдает эту информацию;\n",
    "– tfav: число сколько раз данное сообщение было добавлено в избранное другими пользователями;\n",
    "– tstcount: число всех сообщений пользователя в сети twitter;\n",
    "– tfol: количество фоловеров пользователя (тех людей, которые читают пользователя);\n",
    "– tfrien: количество друзей пользователя (те люди, которых читает пользователь);\n",
    "– listcount: количество листов-подписок в которые добавлен твиттер-пользователь."
   ]
  },
  {
   "cell_type": "code",
   "execution_count": 5,
   "metadata": {},
   "outputs": [
    {
     "name": "stdout",
     "output_type": "stream",
     "text": [
      "записей: 111 923\n",
      "записей: 114 910\n",
      "записей: 226 833\n"
     ]
    },
    {
     "data": {
      "text/html": [
       "<div>\n",
       "<style scoped>\n",
       "    .dataframe tbody tr th:only-of-type {\n",
       "        vertical-align: middle;\n",
       "    }\n",
       "\n",
       "    .dataframe tbody tr th {\n",
       "        vertical-align: top;\n",
       "    }\n",
       "\n",
       "    .dataframe thead th {\n",
       "        text-align: right;\n",
       "    }\n",
       "</style>\n",
       "<table border=\"1\" class=\"dataframe\">\n",
       "  <thead>\n",
       "    <tr style=\"text-align: right;\">\n",
       "      <th></th>\n",
       "      <th>id</th>\n",
       "      <th>ttext</th>\n",
       "      <th>ttype</th>\n",
       "    </tr>\n",
       "  </thead>\n",
       "  <tbody>\n",
       "    <tr>\n",
       "      <th>47456</th>\n",
       "      <td>410007779714551808</td>\n",
       "      <td>RT @nadyadorofeeva: Чтоб всем стало теплее ..)))) http://t.co/1AKYGwEUp1</td>\n",
       "      <td>1</td>\n",
       "    </tr>\n",
       "    <tr>\n",
       "      <th>43622</th>\n",
       "      <td>414301274415190016</td>\n",
       "      <td>@bonovoice пробовал, конечно. так как сейчас они отвечают в течение 2 дней, то толку от них никакого нет. придется слать через Priority (</td>\n",
       "      <td>-1</td>\n",
       "    </tr>\n",
       "    <tr>\n",
       "      <th>87742</th>\n",
       "      <td>421266293702926338</td>\n",
       "      <td>если это все продолжится и в этом году, то, простите, с меня хватит :( сохнуть - сохнуть и однажды засохнуть.</td>\n",
       "      <td>-1</td>\n",
       "    </tr>\n",
       "    <tr>\n",
       "      <th>95904</th>\n",
       "      <td>411019495000788992</td>\n",
       "      <td>RT @kloninanatali_7: @tochila_danila поправляйтесь))</td>\n",
       "      <td>1</td>\n",
       "    </tr>\n",
       "    <tr>\n",
       "      <th>8549</th>\n",
       "      <td>410122041078329344</td>\n",
       "      <td>Надо заканчивать со скайпом, контактом и бездельем в принципе. :(</td>\n",
       "      <td>-1</td>\n",
       "    </tr>\n",
       "    <tr>\n",
       "      <th>40712</th>\n",
       "      <td>409922604817211392</td>\n",
       "      <td>@MarinaTommo_ почему не разрешил? \\nПоспи :D Или побей одноклассников</td>\n",
       "      <td>1</td>\n",
       "    </tr>\n",
       "    <tr>\n",
       "      <th>75258</th>\n",
       "      <td>410644863550771200</td>\n",
       "      <td>RT @RadioRecord: Новогодняя ёлка :) #radiorecord http://t.co/rdZqNdbjYq</td>\n",
       "      <td>1</td>\n",
       "    </tr>\n",
       "    <tr>\n",
       "      <th>27064</th>\n",
       "      <td>409585275544035328</td>\n",
       "      <td>RT @nik_alll: @winteat @ljubovjung @nesezon @poruchik28 @pravodumru @sasa7844 @tat881 @viaxpro @ydubos Доброе утро добрым эмоциям! )</td>\n",
       "      <td>1</td>\n",
       "    </tr>\n",
       "    <tr>\n",
       "      <th>22994</th>\n",
       "      <td>409488217885646848</td>\n",
       "      <td>способ заткнуть рот.Заткни мне рот,а) http://t.co/4eRsfnxA0Y</td>\n",
       "      <td>1</td>\n",
       "    </tr>\n",
       "    <tr>\n",
       "      <th>31453</th>\n",
       "      <td>409655764014202880</td>\n",
       "      <td>еее,калоночки на всю!!!))слушаю свой любимый Rammstein))</td>\n",
       "      <td>1</td>\n",
       "    </tr>\n",
       "  </tbody>\n",
       "</table>\n",
       "</div>"
      ],
      "text/plain": [
       "                       id  \\\n",
       "47456  410007779714551808   \n",
       "43622  414301274415190016   \n",
       "87742  421266293702926338   \n",
       "95904  411019495000788992   \n",
       "8549   410122041078329344   \n",
       "40712  409922604817211392   \n",
       "75258  410644863550771200   \n",
       "27064  409585275544035328   \n",
       "22994  409488217885646848   \n",
       "31453  409655764014202880   \n",
       "\n",
       "                                                                                                                                           ttext  \\\n",
       "47456                                                                   RT @nadyadorofeeva: Чтоб всем стало теплее ..)))) http://t.co/1AKYGwEUp1   \n",
       "43622  @bonovoice пробовал, конечно. так как сейчас они отвечают в течение 2 дней, то толку от них никакого нет. придется слать через Priority (   \n",
       "87742                              если это все продолжится и в этом году, то, простите, с меня хватит :( сохнуть - сохнуть и однажды засохнуть.   \n",
       "95904                                                                                       RT @kloninanatali_7: @tochila_danila поправляйтесь))   \n",
       "8549                                                                           Надо заканчивать со скайпом, контактом и бездельем в принципе. :(   \n",
       "40712                                                                      @MarinaTommo_ почему не разрешил? \\nПоспи :D Или побей одноклассников   \n",
       "75258                                                                    RT @RadioRecord: Новогодняя ёлка :) #radiorecord http://t.co/rdZqNdbjYq   \n",
       "27064       RT @nik_alll: @winteat @ljubovjung @nesezon @poruchik28 @pravodumru @sasa7844 @tat881 @viaxpro @ydubos Доброе утро добрым эмоциям! )   \n",
       "22994                                                                               способ заткнуть рот.Заткни мне рот,а) http://t.co/4eRsfnxA0Y   \n",
       "31453                                                                                   еее,калоночки на всю!!!))слушаю свой любимый Rammstein))   \n",
       "\n",
       "       ttype  \n",
       "47456      1  \n",
       "43622     -1  \n",
       "87742     -1  \n",
       "95904      1  \n",
       "8549      -1  \n",
       "40712      1  \n",
       "75258      1  \n",
       "27064      1  \n",
       "22994      1  \n",
       "31453      1  "
      ]
     },
     "execution_count": 5,
     "metadata": {},
     "output_type": "execute_result"
    }
   ],
   "source": [
    "ff = ['id', 'tdate', 'tmane', 'ttext', 'ttype', 'trep', 'tfav', 'tstcount', 'tfol', 'tfrien', 'listcount','unk']\n",
    "\n",
    "neg = pd.read_csv('../data/twit/negative.csv.gz',sep=';',header=None)\n",
    "neg.columns = ff\n",
    "ppr(neg)\n",
    "\n",
    "pos = pd.read_csv('../data/twit/positive.csv.gz',sep=';')\n",
    "pos.columns = ff\n",
    "ppr(pos)\n",
    "\n",
    "data = pd.concat([pos,neg],sort=False)[['id','ttext', 'ttype']]\n",
    "ppr(data)\n",
    "\n",
    "data.sample(10)"
   ]
  },
  {
   "cell_type": "markdown",
   "metadata": {},
   "source": [
    "## очистка данных"
   ]
  },
  {
   "cell_type": "code",
   "execution_count": 6,
   "metadata": {},
   "outputs": [
    {
     "name": "stderr",
     "output_type": "stream",
     "text": [
      "100%|██████████| 226833/226833 [00:00<00:00, 282763.71it/s]\n",
      "100%|██████████| 226833/226833 [00:02<00:00, 109480.05it/s]\n",
      "100%|██████████| 226833/226833 [00:01<00:00, 114604.35it/s]\n",
      "100%|██████████| 226833/226833 [00:01<00:00, 115165.45it/s]\n",
      "100%|██████████| 226833/226833 [00:01<00:00, 119952.71it/s]\n",
      "100%|██████████| 226833/226833 [00:01<00:00, 116355.97it/s]\n",
      "100%|██████████| 226833/226833 [00:02<00:00, 113183.03it/s]\n",
      "100%|██████████| 226833/226833 [00:00<00:00, 891084.59it/s]\n",
      "100%|██████████| 226833/226833 [00:01<00:00, 193850.17it/s]\n",
      "100%|██████████| 226833/226833 [00:00<00:00, 772667.67it/s]\n",
      "100%|██████████| 226833/226833 [00:00<00:00, 332242.59it/s]\n",
      "100%|██████████| 226833/226833 [00:00<00:00, 247804.85it/s]\n",
      "100%|██████████| 226833/226833 [00:02<00:00, 96624.80it/s] \n"
     ]
    }
   ],
   "source": [
    "data['ttext_clean'] = data['ttext']\\\n",
    "    .progress_apply(lambda t:[ w.strip() for w in t.split() if w.strip() ] )\\\n",
    "    .progress_apply(lambda t:[ re.sub(r'^http.*',' url ', w.strip() ) for w in t ] )\\\n",
    "    .progress_apply(lambda t:[ re.sub(r'[:;]-*[)D]',' happysmile ', w.strip() )for w in t ])\\\n",
    "    .progress_apply(lambda t:[ re.sub(r'\\)\\)\\)*',' happysmile ', w.strip() ) for w in t ])\\\n",
    "    .progress_apply(lambda t:[ re.sub(r'[:;]\\*',' kisssmile ', w.strip() ) for w in t ])\\\n",
    "    .progress_apply(lambda t:[ re.sub(r':\\(',' sadsmile ', w.strip() ) for w in t ])\\\n",
    "    .progress_apply(lambda t:[ re.sub(r'\\(\\(\\(*',' sadsmile ', w.strip() ) for w in t ])\\\n",
    "    .progress_apply(' '.join)\\\n",
    "    .str.lower()\\\n",
    "    .progress_apply(lambda s: re.sub( r'\\W', ' ', s))\\\n",
    "    .progress_apply(lambda s: re.sub( r'_', ' ', s))\\\n",
    "    .progress_apply(lambda s: re.sub( r'\\b\\d+\\b', ' digit ', s))\\\n",
    "    .progress_apply(lambda t:[ w.strip() for w in t.split() if w.strip() ] )\\\n",
    "    .progress_apply(lambda t: [w for w in t if not re.match( r'\\b.*\\d+.*\\b', w) ])"
   ]
  },
  {
   "cell_type": "code",
   "execution_count": 7,
   "metadata": {},
   "outputs": [
    {
     "data": {
      "text/html": [
       "<div>\n",
       "<style scoped>\n",
       "    .dataframe tbody tr th:only-of-type {\n",
       "        vertical-align: middle;\n",
       "    }\n",
       "\n",
       "    .dataframe tbody tr th {\n",
       "        vertical-align: top;\n",
       "    }\n",
       "\n",
       "    .dataframe thead th {\n",
       "        text-align: right;\n",
       "    }\n",
       "</style>\n",
       "<table border=\"1\" class=\"dataframe\">\n",
       "  <thead>\n",
       "    <tr style=\"text-align: right;\">\n",
       "      <th></th>\n",
       "      <th>id</th>\n",
       "      <th>ttext</th>\n",
       "      <th>ttype</th>\n",
       "      <th>ttext_clean</th>\n",
       "    </tr>\n",
       "  </thead>\n",
       "  <tbody>\n",
       "    <tr>\n",
       "      <th>57279</th>\n",
       "      <td>416074946675081217</td>\n",
       "      <td>Я его так люблю, а он своими поступками делает мне больно! Ну почему вот так?(((</td>\n",
       "      <td>-1</td>\n",
       "      <td>[я, его, так, люблю, а, он, своими, поступками, делает, мне, больно, ну, почему, вот, так, sadsmile]</td>\n",
       "    </tr>\n",
       "    <tr>\n",
       "      <th>48911</th>\n",
       "      <td>410021828762304512</td>\n",
       "      <td>RT @xycohopilox: еще одна флешка на шею %) Теперь у меня с собой будет 3 флешки.</td>\n",
       "      <td>1</td>\n",
       "      <td>[rt, xycohopilox, еще, одна, флешка, на, шею, теперь, у, меня, с, собой, будет, digit, флешки]</td>\n",
       "    </tr>\n",
       "    <tr>\n",
       "      <th>114869</th>\n",
       "      <td>411368339249041408</td>\n",
       "      <td>RT @SashaDruz: @Dead_Parade ночкиии :з какой фильм?))</td>\n",
       "      <td>1</td>\n",
       "      <td>[rt, sashadruz, dead, parade, ночкиии, з, какой, фильм, happysmile]</td>\n",
       "    </tr>\n",
       "  </tbody>\n",
       "</table>\n",
       "</div>"
      ],
      "text/plain": [
       "                        id  \\\n",
       "57279   416074946675081217   \n",
       "48911   410021828762304512   \n",
       "114869  411368339249041408   \n",
       "\n",
       "                                                                                   ttext  \\\n",
       "57279   Я его так люблю, а он своими поступками делает мне больно! Ну почему вот так?(((   \n",
       "48911   RT @xycohopilox: еще одна флешка на шею %) Теперь у меня с собой будет 3 флешки.   \n",
       "114869                             RT @SashaDruz: @Dead_Parade ночкиии :з какой фильм?))   \n",
       "\n",
       "        ttype  \\\n",
       "57279      -1   \n",
       "48911       1   \n",
       "114869      1   \n",
       "\n",
       "                                                                                                 ttext_clean  \n",
       "57279   [я, его, так, люблю, а, он, своими, поступками, делает, мне, больно, ну, почему, вот, так, sadsmile]  \n",
       "48911         [rt, xycohopilox, еще, одна, флешка, на, шею, теперь, у, меня, с, собой, будет, digit, флешки]  \n",
       "114869                                   [rt, sashadruz, dead, parade, ночкиии, з, какой, фильм, happysmile]  "
      ]
     },
     "execution_count": 7,
     "metadata": {},
     "output_type": "execute_result"
    }
   ],
   "source": [
    "data.sample(3)"
   ]
  },
  {
   "cell_type": "code",
   "execution_count": 8,
   "metadata": {},
   "outputs": [
    {
     "name": "stdout",
     "output_type": "stream",
     "text": [
      "записей: 226 833\n",
      "записей: 226 833\n"
     ]
    },
    {
     "data": {
      "text/html": [
       "<div>\n",
       "<style scoped>\n",
       "    .dataframe tbody tr th:only-of-type {\n",
       "        vertical-align: middle;\n",
       "    }\n",
       "\n",
       "    .dataframe tbody tr th {\n",
       "        vertical-align: top;\n",
       "    }\n",
       "\n",
       "    .dataframe thead th {\n",
       "        text-align: right;\n",
       "    }\n",
       "</style>\n",
       "<table border=\"1\" class=\"dataframe\">\n",
       "  <thead>\n",
       "    <tr style=\"text-align: right;\">\n",
       "      <th></th>\n",
       "      <th>text</th>\n",
       "      <th>label</th>\n",
       "    </tr>\n",
       "  </thead>\n",
       "  <tbody>\n",
       "    <tr>\n",
       "      <th>185515</th>\n",
       "      <td>даже не осознаю что завтра уже новый год</td>\n",
       "      <td>0</td>\n",
       "    </tr>\n",
       "    <tr>\n",
       "      <th>165712</th>\n",
       "      <td>matroskyn ой я не хочу попу такую</td>\n",
       "      <td>0</td>\n",
       "    </tr>\n",
       "    <tr>\n",
       "      <th>166129</th>\n",
       "      <td>rt shaxruxmaxmudov malika mileyt я вчера написал что еду домой о конкретно по отдельности никому не сообщил извините дамблдор хотел с</td>\n",
       "      <td>0</td>\n",
       "    </tr>\n",
       "  </tbody>\n",
       "</table>\n",
       "</div>"
      ],
      "text/plain": [
       "                                                                                                                                         text  \\\n",
       "185515                                                                                               даже не осознаю что завтра уже новый год   \n",
       "165712                                                                                                      matroskyn ой я не хочу попу такую   \n",
       "166129  rt shaxruxmaxmudov malika mileyt я вчера написал что еду домой о конкретно по отдельности никому не сообщил извините дамблдор хотел с   \n",
       "\n",
       "        label  \n",
       "185515      0  \n",
       "165712      0  \n",
       "166129      0  "
      ]
     },
     "execution_count": 8,
     "metadata": {},
     "output_type": "execute_result"
    }
   ],
   "source": [
    "ppr(data)\n",
    "data = data[ data['ttext_clean'].str.len()>0 ].reset_index(drop=True) \n",
    "ppr(data)\n",
    "\n",
    "data['label'] = data['ttype'].apply(lambda y:max(0,y))\n",
    "data['text'] = data['ttext_clean'].apply(' '.join)\n",
    "\n",
    "data[['text','label']].sample(3)"
   ]
  },
  {
   "cell_type": "code",
   "execution_count": null,
   "metadata": {},
   "outputs": [],
   "source": [
    "!mkdir -p tmp"
   ]
  },
  {
   "cell_type": "code",
   "execution_count": 9,
   "metadata": {},
   "outputs": [],
   "source": [
    "data[['text','label']].to_csv('./tmp/data.tsv', index=False, sep='\\t')"
   ]
  },
  {
   "cell_type": "markdown",
   "metadata": {},
   "source": [
    "### кодируем word2vec"
   ]
  },
  {
   "cell_type": "code",
   "execution_count": 10,
   "metadata": {},
   "outputs": [],
   "source": [
    "# %%time\n",
    "\n",
    "\n",
    "# https://nlpub.ru/Russian_Distributional_Thesaurus\n",
    "    \n",
    "# from gensim.models import KeyedVectors \n",
    "# w2v_file = 'tenth.norm-sz500-w7-cb0-it5-min5.w2v'\n",
    "# w2v = KeyedVectors.load_word2vec_format(w2v_file, binary=True, unicode_errors='ignore')\n",
    "# w2v.init_sims(replace=True)"
   ]
  },
  {
   "cell_type": "code",
   "execution_count": null,
   "metadata": {},
   "outputs": [],
   "source": [
    "from gensim.models.word2vec import Word2Vec\n",
    "\n",
    "# WORD2VEC\n",
    "W2V_SIZE = 128\n",
    "W2V_WINDOW = 4\n",
    "W2V_EPOCH = 100\n",
    "W2V_MIN_COUNT = 2\n",
    "\n",
    "# Collect corpus for training word embeddings\n",
    "documents = data['ttext_clean'].values.tolist()"
   ]
  },
  {
   "cell_type": "code",
   "execution_count": null,
   "metadata": {},
   "outputs": [],
   "source": [
    "%%time\n",
    "\n",
    "# Train Word Embeddings and save\n",
    "w2v_model = Word2Vec(size=W2V_SIZE, window=W2V_WINDOW, min_count=W2V_MIN_COUNT)\n",
    "w2v_model.build_vocab(documents)\n",
    "\n",
    "words = list(w2v_model.wv.vocab.keys())\n",
    "vocab_size = len(words)\n",
    "print('Vocab size', vocab_size)"
   ]
  },
  {
   "cell_type": "code",
   "execution_count": 13,
   "metadata": {},
   "outputs": [
    {
     "name": "stdout",
     "output_type": "stream",
     "text": [
      "Vocab size 98649\n"
     ]
    }
   ],
   "source": [
    "%%time\n",
    "\n",
    "# Train Word Embeddings\n",
    "w2v_model.train(documents, total_examples=len(documents), epochs=W2V_EPOCH)\n",
    "w2v_model.save('./tmp/embeddings.txt')"
   ]
  },
  {
   "cell_type": "code",
   "execution_count": 14,
   "metadata": {},
   "outputs": [
    {
     "name": "stdout",
     "output_type": "stream",
     "text": [
      "биос : ['повестки', 'полгорода', 'нетбиос', 'браузер', 'аплоадеры']\n",
      "рабочую : ['новую', 'очередную', 'четвертую', 'актерскую', 'клонированию']\n",
      "саратове : ['черногорию', 'омске', 'костюме', 'ассортименте', 'гробу']\n",
      "tatarin : ['bank', 'ynikitenko', 'timurkaaaaaaaaa', 'intellanalytics', 'ir']\n",
      "нипеля : ['угле', 'зачищать', 'надумали', 'иероглифы', 'трудяга']\n",
      "папиного : ['отжиманий', 'гостяшек', 'tag', 'плена', 'slavikus']\n",
      "reuspect : ['rockkimockki', 'lider', 'arbyziik', 'krasovkin', 'valfredarhu']\n",
      "урфу : ['птвп', 'доберутся', 'дотянули', 'язіке', 'геш']\n",
      "скриншоты : ['qutecom', 'сукаонатупая', 'неподобающие', 'бездействие', 'викигида']\n",
      "hamza : ['yazzi', 'ifeelhappylol', 'iamsocasmund', 'красавчиком', 'vitaly']\n"
     ]
    }
   ],
   "source": [
    "for i in rng.permutation(vocab_size)[:10]:\n",
    "    w = words[i]\n",
    "    ww = [ v[0] for v in w2v_model.wv.most_similar(w,topn=5) ]\n",
    "    print( w,':',ww )"
   ]
  },
  {
   "cell_type": "markdown",
   "metadata": {},
   "source": [
    "## строим датасет"
   ]
  },
  {
   "cell_type": "code",
   "execution_count": 17,
   "metadata": {},
   "outputs": [],
   "source": [
    "# import torch\n",
    "from torchtext.data import Field\n",
    "from torchtext.data import TabularDataset"
   ]
  },
  {
   "cell_type": "code",
   "execution_count": 18,
   "metadata": {},
   "outputs": [
    {
     "name": "stderr",
     "output_type": "stream",
     "text": [
      "/usr/lib/python3.9/site-packages/torchtext/data/field.py:150: UserWarning: Field class will be retired soon and moved to torchtext.legacy. Please see the most recent release notes for further information.\n",
      "  warnings.warn('{} class will be retired soon and moved to torchtext.legacy. Please see the most recent release notes for further information.'.format(self.__class__.__name__), UserWarning)\n"
     ]
    }
   ],
   "source": [
    "def tokenizer(text): return text.split() \n",
    "\n",
    "field_text = Field( sequential=True, use_vocab=True, tokenize=tokenizer, pad_first=True, ) # batch_first=True)\n",
    "field_label = Field( sequential=False, use_vocab=False, ) # is_target=True, batch_first=True, dtype=torch.long)"
   ]
  },
  {
   "cell_type": "code",
   "execution_count": 19,
   "metadata": {},
   "outputs": [
    {
     "name": "stdout",
     "output_type": "stream",
     "text": [
      "98651\n"
     ]
    }
   ],
   "source": [
    "field_text.build_vocab( documents, min_freq=W2V_MIN_COUNT)\n",
    "print (len(field_text.vocab) )"
   ]
  },
  {
   "cell_type": "code",
   "execution_count": 20,
   "metadata": {},
   "outputs": [
    {
     "name": "stderr",
     "output_type": "stream",
     "text": [
      "  0%|          | 0/98651 [00:00<?, ?it/s]<ipython-input-20-9c45165e8f08>:5: UserWarning: The given NumPy array is not writeable, and PyTorch does not support non-writeable tensors. This means you can write to the underlying (supposedly non-writeable) NumPy array using the tensor. You may want to copy the array to protect its data or make it writeable before converting it to a tensor. This type of warning will be suppressed for the rest of this program. (Triggered internally at  ../torch/csrc/utils/tensor_numpy.cpp:137.)\n",
      "  word2vec_vectors.append(torch.FloatTensor(w2v_model.wv[token]))\n",
      "100%|██████████| 98651/98651 [00:00<00:00, 195865.29it/s]\n"
     ]
    }
   ],
   "source": [
    "word2vec_vectors = []\n",
    "\n",
    "for token, idx in tqdm(field_text.vocab.stoi.items()):\n",
    "    if token in w2v_model.wv.vocab.keys():\n",
    "        word2vec_vectors.append(torch.FloatTensor(w2v_model.wv[token]))\n",
    "    else:\n",
    "        word2vec_vectors.append(torch.zeros(W2V_SIZE))\n",
    "        \n",
    "field_text.vocab.set_vectors( field_text.vocab.stoi, word2vec_vectors, W2V_SIZE)"
   ]
  },
  {
   "cell_type": "code",
   "execution_count": 21,
   "metadata": {},
   "outputs": [
    {
     "name": "stderr",
     "output_type": "stream",
     "text": [
      "/usr/lib/python3.9/site-packages/torchtext/data/example.py:68: UserWarning: Example class will be retired soon and moved to torchtext.legacy. Please see the most recent release notes for further information.\n",
      "  warnings.warn('Example class will be retired soon and moved to torchtext.legacy. Please see the most recent release notes for further information.', UserWarning)\n",
      "/usr/lib/python3.9/site-packages/torchtext/data/example.py:78: UserWarning: Example class will be retired soon and moved to torchtext.legacy. Please see the most recent release notes for further information.\n",
      "  warnings.warn('Example class will be retired soon and moved to torchtext.legacy. Please see the most recent release notes for further information.', UserWarning)\n"
     ]
    }
   ],
   "source": [
    "# загружаем датасет в формате Torch\n",
    "ds = TabularDataset(\n",
    "            path = './tmp/data.tsv',\n",
    "            format = 'tsv', #'tsv' for tabs, 'csv' for commas\n",
    "            fields = [\n",
    "                ('text',field_text),\n",
    "                ('label',field_label),\n",
    "            ],\n",
    "            skip_header=True,\n",
    "    )"
   ]
  },
  {
   "cell_type": "markdown",
   "metadata": {},
   "source": [
    "---"
   ]
  },
  {
   "cell_type": "code",
   "execution_count": 22,
   "metadata": {},
   "outputs": [
    {
     "data": {
      "text/plain": [
       "(158783, 68050)"
      ]
     },
     "execution_count": 22,
     "metadata": {},
     "output_type": "execute_result"
    }
   ],
   "source": [
    "train_ds,test_ds = ds.split(split_ratio=0.7,)\n",
    "\n",
    "# количество примеров\n",
    "len(train_ds.examples), len(test_ds.examples)"
   ]
  },
  {
   "cell_type": "code",
   "execution_count": 23,
   "metadata": {},
   "outputs": [],
   "source": [
    "device = torch.device('cuda:0' if torch.cuda.is_available() else 'cpu')\n",
    "# device = 'cpu'"
   ]
  },
  {
   "cell_type": "code",
   "execution_count": 24,
   "metadata": {},
   "outputs": [
    {
     "name": "stderr",
     "output_type": "stream",
     "text": [
      "/usr/lib/python3.9/site-packages/torchtext/data/iterator.py:48: UserWarning: BucketIterator class will be retired soon and moved to torchtext.legacy. Please see the most recent release notes for further information.\n",
      "  warnings.warn('{} class will be retired soon and moved to torchtext.legacy. Please see the most recent release notes for further information.'.format(self.__class__.__name__), UserWarning)\n"
     ]
    }
   ],
   "source": [
    "# раскидываем данные по батчам,\n",
    "# в один батч будут помещены тексты одинаковой (или близкой) длинны\n",
    "\n",
    "from torchtext.data import BucketIterator\n",
    "\n",
    "train_iterator = BucketIterator(\n",
    "        train_ds, \n",
    "        batch_size = 4096, \n",
    "        device=device,\n",
    "        sort=False, \n",
    "        shuffle=True,\n",
    "    )"
   ]
  },
  {
   "cell_type": "code",
   "execution_count": 43,
   "metadata": {},
   "outputs": [],
   "source": [
    "# for i,batch in enumerate(train_iterator):\n",
    "#     print( batch.text.shape, batch.label.shape )\n",
    "#     if i>10: break"
   ]
  },
  {
   "cell_type": "markdown",
   "metadata": {},
   "source": [
    "## строим модель"
   ]
  },
  {
   "cell_type": "code",
   "execution_count": 44,
   "metadata": {},
   "outputs": [],
   "source": [
    "# embedding_dim = 128 # размер выхода эмбединга\n",
    "# embedding_dim = W2V_SIZE\n",
    "# embedding_input = len(field_text.vocab)\n",
    "\n",
    "hidden_dim = 64 # размер рекуррентного слоя\n",
    "\n",
    "# матрица W2V\n",
    "pre_trained_emb = torch.FloatTensor(field_text.vocab.vectors)\n",
    "\n",
    "n_classes = 2"
   ]
  },
  {
   "cell_type": "code",
   "execution_count": 46,
   "metadata": {},
   "outputs": [
    {
     "data": {
      "text/plain": [
       "torch.Size([98651, 128])"
      ]
     },
     "execution_count": 46,
     "metadata": {},
     "output_type": "execute_result"
    }
   ],
   "source": [
    "pre_trained_emb.shape"
   ]
  },
  {
   "cell_type": "code",
   "execution_count": 27,
   "metadata": {},
   "outputs": [],
   "source": [
    "class Model(nn.Module):\n",
    "    def __init__(self, \n",
    "                 #num_embeddings=embedding_input, # размер входа эмбединга (длина OHE)\n",
    "                 pre_trained_emb = pre_trained_emb,\n",
    "                 # emb_dim=embedding_dim, # размер выхода эмбединга\n",
    "                 hid_dim=hidden_dim, # размер рекуррентного слоя\n",
    "                 output_dim=n_classes # размер выхода\n",
    "                ):\n",
    "        super().__init__()\n",
    "        # self.emb = nn.Embedding(num_embeddings, embedding_dim) \n",
    "        self.emb =  nn.Embedding.from_pretrained(pre_trained_emb)\n",
    "        emb_dim = pre_trained_emb.shape[1]\n",
    "        self.rnn = nn.LSTM(emb_dim, hid_dim) # рекуррентный слой\n",
    "        # self.rnn = nn.LSTM(emb_dim, hid_dim, batch_first=True) # рекуррентный слой\n",
    "        self.linear = nn.Linear(hid_dim, output_dim) # выходной (линейный) слой\n",
    "        self.sftm = nn.Softmax(dim=1)\n",
    "\n",
    "    def forward(self,x):\n",
    "        out = self.emb(x)\n",
    "        _, (hidden, _) = self.rnn(out) # обрабатываем входную последовательность\n",
    "        hidden = hidden.squeeze(0) # прекомпоновка тензора, сокращаем размерность\n",
    "        out = self.linear(hidden) # считаем выход сети\n",
    "        out = self.sftm(out)\n",
    "        return out "
   ]
  },
  {
   "cell_type": "code",
   "execution_count": 28,
   "metadata": {},
   "outputs": [
    {
     "data": {
      "text/plain": [
       "Model(\n",
       "  (emb): Embedding(98651, 128)\n",
       "  (rnn): LSTM(128, 64)\n",
       "  (linear): Linear(in_features=64, out_features=2, bias=True)\n",
       "  (sftm): Softmax(dim=1)\n",
       ")"
      ]
     },
     "execution_count": 28,
     "metadata": {},
     "output_type": "execute_result"
    }
   ],
   "source": [
    "model = Model()\n",
    "model"
   ]
  },
  {
   "cell_type": "markdown",
   "metadata": {},
   "source": [
    "## обучаем модель"
   ]
  },
  {
   "cell_type": "code",
   "execution_count": 29,
   "metadata": {},
   "outputs": [],
   "source": [
    "model = model.to(device)"
   ]
  },
  {
   "cell_type": "code",
   "execution_count": 30,
   "metadata": {},
   "outputs": [],
   "source": [
    "loss_function =  nn.CrossEntropyLoss()\n",
    "optimizer = torch.optim.Adam(model.parameters(), lr=0.005)"
   ]
  },
  {
   "cell_type": "code",
   "execution_count": 31,
   "metadata": {},
   "outputs": [
    {
     "name": "stdout",
     "output_type": "stream",
     "text": [
      "  0 : 0.4278\n",
      "  1 : 0.4219\n",
      "  2 : 0.4000\n",
      "  3 : 0.3995\n",
      "  4 : 0.3897\n",
      "  5 : 0.3815\n",
      "  6 : 0.3799\n",
      "  7 : 0.3776\n",
      "  8 : 0.3718\n",
      "  9 : 0.3748\n",
      " 10 : 0.3684\n",
      " 11 : 0.3688\n",
      " 12 : 0.3606\n",
      " 13 : 0.3560\n",
      " 14 : 0.3571\n",
      " 15 : 0.3522\n",
      " 16 : 0.3562\n",
      " 17 : 0.3585\n",
      " 18 : 0.3552\n",
      " 19 : 0.3477\n",
      " 20 : 0.3588\n",
      " 21 : 0.3493\n",
      " 22 : 0.3487\n",
      " 23 : 0.3426\n",
      " 24 : 0.3455\n",
      " 25 : 0.3450\n",
      " 26 : 0.3470\n",
      " 27 : 0.3416\n",
      " 28 : 0.3460\n",
      " 29 : 0.3418\n",
      " 30 : 0.3436\n",
      " 31 : 0.3420\n",
      "CPU times: user 1min 25s, sys: 121 ms, total: 1min 25s\n",
      "Wall time: 1min 25s\n"
     ]
    }
   ],
   "source": [
    "%%time\n",
    "\n",
    "epochs = 32\n",
    "#epochs = 2\n",
    "\n",
    "hist = []\n",
    "for i in range(epochs):\n",
    "\n",
    "    for j,batch in enumerate( train_iterator ):\n",
    "        xb = batch.text\n",
    "        yb = batch.label\n",
    "        \n",
    "        # print(xb.shape, yb.shape )\n",
    "        \n",
    "        optimizer.zero_grad() # обнуляем значения градиента\n",
    "        out = model(xb) # вычисляем выход, прямой проход\n",
    "        loss = loss_function(out,yb) # вычисляем значение потери\n",
    "        loss.backward() # вычисляем значения градиента потери, обратный проход\n",
    "        \n",
    "        # clip the gradient\n",
    "        torch.nn.utils.clip_grad_norm_(model.parameters(), 1.)\n",
    "        \n",
    "        optimizer.step() # изменяем значения весов модели\n",
    "        hist.append( loss.item() ) # сохраняем текущее значение потери\n",
    "        \n",
    "        # if (j%20)==0: print( f'{j}\\t{loss.item()}' )\n",
    "        \n",
    "    print(f'{i:3} : {loss.item():.4f}')"
   ]
  },
  {
   "cell_type": "code",
   "execution_count": 32,
   "metadata": {},
   "outputs": [],
   "source": [
    "# import torch\n",
    "# torch.nn.utils.clip_grad_norm?"
   ]
  },
  {
   "cell_type": "code",
   "execution_count": 33,
   "metadata": {},
   "outputs": [],
   "source": [
    "torch.cuda.empty_cache()"
   ]
  },
  {
   "cell_type": "code",
   "execution_count": 34,
   "metadata": {},
   "outputs": [
    {
     "data": {
      "text/plain": [
       "[<matplotlib.lines.Line2D at 0x7f2ffa8ccb50>]"
      ]
     },
     "execution_count": 34,
     "metadata": {},
     "output_type": "execute_result"
    },
    {
     "data": {
      "image/png": "[encoded data removed]",
      "text/plain": [
       "<Figure size 432x288 with 1 Axes>"
      ]
     },
     "metadata": {
      "needs_background": "light"
     },
     "output_type": "display_data"
    }
   ],
   "source": [
    "# изменение значения потери в процессе обучения\n",
    "plt.plot(hist)"
   ]
  },
  {
   "cell_type": "code",
   "execution_count": 35,
   "metadata": {},
   "outputs": [],
   "source": [
    "# 200 % 100"
   ]
  },
  {
   "cell_type": "markdown",
   "metadata": {},
   "source": [
    "## тест"
   ]
  },
  {
   "cell_type": "code",
   "execution_count": 36,
   "metadata": {},
   "outputs": [],
   "source": [
    "from sklearn.metrics import accuracy_score\n",
    "from sklearn.metrics import classification_report"
   ]
  },
  {
   "cell_type": "code",
   "execution_count": 37,
   "metadata": {},
   "outputs": [
    {
     "name": "stderr",
     "output_type": "stream",
     "text": [
      "/usr/lib/python3.9/site-packages/torchtext/data/iterator.py:48: UserWarning: Iterator class will be retired soon and moved to torchtext.legacy. Please see the most recent release notes for further information.\n",
      "  warnings.warn('{} class will be retired soon and moved to torchtext.legacy. Please see the most recent release notes for further information.'.format(self.__class__.__name__), UserWarning)\n"
     ]
    }
   ],
   "source": [
    "from torchtext.data import Iterator\n",
    "\n",
    "test_iterator = Iterator(\n",
    "    test_ds, \n",
    "    batch_size = 4096, \n",
    "    device=device,\n",
    "    sort=False, \n",
    "    shuffle=False,\n",
    ")"
   ]
  },
  {
   "cell_type": "code",
   "execution_count": 38,
   "metadata": {},
   "outputs": [
    {
     "name": "stderr",
     "output_type": "stream",
     "text": [
      "/usr/lib/python3.9/site-packages/torchtext/data/batch.py:23: UserWarning: Batch class will be retired soon and moved to torchtext.legacy. Please see the most recent release notes for further information.\n",
      "  warnings.warn('{} class will be retired soon and moved to torchtext.legacy. Please see the most recent release notes for further information.'.format(self.__class__.__name__), UserWarning)\n"
     ]
    }
   ],
   "source": [
    "label = []\n",
    "score = []\n",
    "\n",
    "with torch.no_grad():\n",
    "    for batch in test_iterator:\n",
    "        y_pred = model(batch.text) # вычисляем значения регресии\n",
    "        y = batch.label\n",
    "        label.append( y.cpu().detach().numpy() )\n",
    "        score.append( y_pred.cpu().detach().numpy() )"
   ]
  },
  {
   "cell_type": "code",
   "execution_count": 39,
   "metadata": {},
   "outputs": [],
   "source": [
    "label = np.hstack(label)\n",
    "score = np.vstack(score)"
   ]
  },
  {
   "cell_type": "code",
   "execution_count": 40,
   "metadata": {},
   "outputs": [],
   "source": [
    "y_pred = np.argmax( score ,axis=1)"
   ]
  },
  {
   "cell_type": "code",
   "execution_count": 41,
   "metadata": {},
   "outputs": [
    {
     "data": {
      "text/plain": [
       "0.9008817046289493"
      ]
     },
     "execution_count": 41,
     "metadata": {},
     "output_type": "execute_result"
    }
   ],
   "source": [
    "accuracy_score(label, y_pred)"
   ]
  },
  {
   "cell_type": "code",
   "execution_count": 42,
   "metadata": {},
   "outputs": [
    {
     "name": "stdout",
     "output_type": "stream",
     "text": [
      "              precision    recall  f1-score   support\n",
      "\n",
      "           0       0.90      0.90      0.90     33409\n",
      "           1       0.90      0.90      0.90     34641\n",
      "\n",
      "    accuracy                           0.90     68050\n",
      "   macro avg       0.90      0.90      0.90     68050\n",
      "weighted avg       0.90      0.90      0.90     68050\n",
      "\n"
     ]
    }
   ],
   "source": [
    "print(classification_report(label, y_pred) )"
   ]
  },
  {
   "cell_type": "code",
   "execution_count": null,
   "metadata": {},
   "outputs": [],
   "source": []
  }
 ],
 "metadata": {
  "kernelspec": {
   "display_name": "Python 3",
   "language": "python",
   "name": "python3"
  },
  "language_info": {
   "codemirror_mode": {
    "name": "ipython",
    "version": 3
   },
   "file_extension": ".py",
   "mimetype": "text/x-python",
   "name": "python",
   "nbconvert_exporter": "python",
   "pygments_lexer": "ipython3",
   "version": "3.8.9"
  },
  "toc": {
   "base_numbering": 1,
   "nav_menu": {},
   "number_sections": true,
   "sideBar": true,
   "skip_h1_title": false,
   "title_cell": "Table of Contents",
   "title_sidebar": "Contents",
   "toc_cell": false,
   "toc_position": {},
   "toc_section_display": "block",
   "toc_window_display": true
  }
 },
 "nbformat": 4,
 "nbformat_minor": 4
}
