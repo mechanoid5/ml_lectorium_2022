{
 "cells": [
  {
   "cell_type": "markdown",
   "metadata": {},
   "source": [
    "**классификатор текстов LSTM + Embeddings**\n",
    "\n",
    "Евгений Борисов <esborisov@sevsu.ru>"
   ]
  },
  {
   "cell_type": "markdown",
   "metadata": {},
   "source": [
    "## Данные"
   ]
  },
  {
   "cell_type": "raw",
   "metadata": {},
   "source": [
    "Ю. В. Рубцова. Построение корпуса текстов для настройки тонового классификатора // Программные продукты и системы, 2015, №1(109), –С.72-78\n",
    "\n",
    "http://study.mokoron.com\n",
    "\n",
    "– id: уникальный номер сообщения в системе twitter;\n",
    "– tdate: дата публикации сообщения (твита);\n",
    "– tmane: имя пользователя, опубликовавшего сообщение;\n",
    "– ttext:  текст сообщения (твита);\n",
    "– ttype: поле в котором в дальнейшем будет указано к кому классу относится твит (положительный, отрицательный, нейтральный);\n",
    "– trep: количество реплаев к данному сообщению. В настоящий момент API твиттера не отдает эту информацию;\n",
    "– tfav: число сколько раз данное сообщение было добавлено в избранное другими пользователями;\n",
    "– tstcount: число всех сообщений пользователя в сети twitter;\n",
    "– tfol: количество фоловеров пользователя (тех людей, которые читают пользователя);\n",
    "– tfrien: количество друзей пользователя (те люди, которых читает пользователь);\n",
    "– listcount: количество листов-подписок в которые добавлен твиттер-пользователь."
   ]
  },
  {
   "cell_type": "code",
   "execution_count": 1,
   "metadata": {},
   "outputs": [],
   "source": [
    "import pandas as pd\n",
    "from tqdm.notebook import tqdm\n",
    "tqdm.pandas()        \n",
    "pd.options.display.max_colwidth = 200 "
   ]
  },
  {
   "cell_type": "code",
   "execution_count": 2,
   "metadata": {},
   "outputs": [
    {
     "name": "stdout",
     "output_type": "stream",
     "text": [
      "negative: 111923 \n",
      "positive: 114911\n"
     ]
    },
    {
     "data": {
      "text/html": [
       "<div>\n",
       "<style scoped>\n",
       "    .dataframe tbody tr th:only-of-type {\n",
       "        vertical-align: middle;\n",
       "    }\n",
       "\n",
       "    .dataframe tbody tr th {\n",
       "        vertical-align: top;\n",
       "    }\n",
       "\n",
       "    .dataframe thead th {\n",
       "        text-align: right;\n",
       "    }\n",
       "</style>\n",
       "<table border=\"1\" class=\"dataframe\">\n",
       "  <thead>\n",
       "    <tr style=\"text-align: right;\">\n",
       "      <th></th>\n",
       "      <th>id</th>\n",
       "      <th>ttext</th>\n",
       "      <th>ttype</th>\n",
       "    </tr>\n",
       "  </thead>\n",
       "  <tbody>\n",
       "    <tr>\n",
       "      <th>36654</th>\n",
       "      <td>413684628047020032</td>\n",
       "      <td>RT @WvvvvvVWv: Сегодня город парализован , все колом :(</td>\n",
       "      <td>-1</td>\n",
       "    </tr>\n",
       "    <tr>\n",
       "      <th>114110</th>\n",
       "      <td>411221240595357697</td>\n",
       "      <td>Ну а чего мало кому должны что ли))) @ ЦУМ \"Валентина\" http://t.co/tG7Q9xFjYS</td>\n",
       "      <td>1</td>\n",
       "    </tr>\n",
       "    <tr>\n",
       "      <th>4731</th>\n",
       "      <td>409750902942474241</td>\n",
       "      <td>В школе дали пробное ГИА, посмотрела не чего не поняла... что делать? Безысходность:(</td>\n",
       "      <td>-1</td>\n",
       "    </tr>\n",
       "    <tr>\n",
       "      <th>24243</th>\n",
       "      <td>411993311508193280</td>\n",
       "      <td>На Гарри Поттера подсела(( оторваться не могу. Каждую часть, как заново смотрю. О это прекрасное чувство\\n✨</td>\n",
       "      <td>-1</td>\n",
       "    </tr>\n",
       "    <tr>\n",
       "      <th>10582</th>\n",
       "      <td>409289016019001345</td>\n",
       "      <td>Люблю своих одноклассников , они у меня самые лучшие ! :*</td>\n",
       "      <td>1</td>\n",
       "    </tr>\n",
       "    <tr>\n",
       "      <th>60413</th>\n",
       "      <td>410279201636634624</td>\n",
       "      <td>надпись в зоопарке: \"страусов не пугать - пол бетонный...\"))))</td>\n",
       "      <td>1</td>\n",
       "    </tr>\n",
       "    <tr>\n",
       "      <th>112888</th>\n",
       "      <td>411212198002712577</td>\n",
       "      <td>Мдааа..Тупили друг друга как могли,вхаха,я думаю,потому что я так считаю,потому что я так думаю)</td>\n",
       "      <td>1</td>\n",
       "    </tr>\n",
       "    <tr>\n",
       "      <th>815</th>\n",
       "      <td>409084131730272256</td>\n",
       "      <td>да мой любимый Маршак зарелизился, хоть и с новым вокалистом (</td>\n",
       "      <td>-1</td>\n",
       "    </tr>\n",
       "    <tr>\n",
       "      <th>10958</th>\n",
       "      <td>409294304603934721</td>\n",
       "      <td>RT @ehapocah: Наверное, стоит дать им минутку побыть вдвоём, перед операцией. *^_^* #TEAMFOLLOWBACK</td>\n",
       "      <td>1</td>\n",
       "    </tr>\n",
       "    <tr>\n",
       "      <th>17902</th>\n",
       "      <td>409375562679844864</td>\n",
       "      <td>@karrimov кекс новому читателю,ведь сегодня-День кекса!!!))) http://t.co/9yG8qnfnEZ</td>\n",
       "      <td>1</td>\n",
       "    </tr>\n",
       "  </tbody>\n",
       "</table>\n",
       "</div>"
      ],
      "text/plain": [
       "                        id  \\\n",
       "36654   413684628047020032   \n",
       "114110  411221240595357697   \n",
       "4731    409750902942474241   \n",
       "24243   411993311508193280   \n",
       "10582   409289016019001345   \n",
       "60413   410279201636634624   \n",
       "112888  411212198002712577   \n",
       "815     409084131730272256   \n",
       "10958   409294304603934721   \n",
       "17902   409375562679844864   \n",
       "\n",
       "                                                                                                              ttext  \\\n",
       "36654                                                       RT @WvvvvvVWv: Сегодня город парализован , все колом :(   \n",
       "114110                                Ну а чего мало кому должны что ли))) @ ЦУМ \"Валентина\" http://t.co/tG7Q9xFjYS   \n",
       "4731                          В школе дали пробное ГИА, посмотрела не чего не поняла... что делать? Безысходность:(   \n",
       "24243   На Гарри Поттера подсела(( оторваться не могу. Каждую часть, как заново смотрю. О это прекрасное чувство\\n✨   \n",
       "10582                                                     Люблю своих одноклассников , они у меня самые лучшие ! :*   \n",
       "60413                                                надпись в зоопарке: \"страусов не пугать - пол бетонный...\"))))   \n",
       "112888             Мдааа..Тупили друг друга как могли,вхаха,я думаю,потому что я так считаю,потому что я так думаю)   \n",
       "815                                                  да мой любимый Маршак зарелизился, хоть и с новым вокалистом (   \n",
       "10958           RT @ehapocah: Наверное, стоит дать им минутку побыть вдвоём, перед операцией. *^_^* #TEAMFOLLOWBACK   \n",
       "17902                           @karrimov кекс новому читателю,ведь сегодня-День кекса!!!))) http://t.co/9yG8qnfnEZ   \n",
       "\n",
       "        ttype  \n",
       "36654      -1  \n",
       "114110      1  \n",
       "4731       -1  \n",
       "24243      -1  \n",
       "10582       1  \n",
       "60413       1  \n",
       "112888      1  \n",
       "815        -1  \n",
       "10958       1  \n",
       "17902       1  "
      ]
     },
     "execution_count": 2,
     "metadata": {},
     "output_type": "execute_result"
    }
   ],
   "source": [
    "ff = ['id', 'tdate', 'tmane', 'ttext', 'ttype', 'trep', 'tfav', 'tstcount', 'tfol', 'tfrien', 'listcount','unk']\n",
    "\n",
    "data = pd.concat([\n",
    "    pd.read_csv('data/positive.csv.gz',sep=';',header=None),\n",
    "    pd.read_csv('data/negative.csv.gz',sep=';',header=None),\n",
    "])\n",
    "\n",
    "data.columns = ff\n",
    "\n",
    "data = data[['id','ttext', 'ttype']]\n",
    "\n",
    "print( 'negative:', len(data.query('ttype==-1')), '\\npositive:',len(data.query('ttype==1')) )\n",
    "\n",
    "data.sample(10)"
   ]
  },
  {
   "cell_type": "markdown",
   "metadata": {},
   "source": [
    "### очистка данных"
   ]
  },
  {
   "cell_type": "code",
   "execution_count": 3,
   "metadata": {},
   "outputs": [],
   "source": [
    "# import re"
   ]
  },
  {
   "cell_type": "code",
   "execution_count": 4,
   "metadata": {},
   "outputs": [],
   "source": [
    "# # применяет список замен pat к строке s\n",
    "# def replace_patterns(s,pat):\n",
    "#     if len(pat)<1: return s\n",
    "#     return  replace_patterns( re.sub(pat[0][0],pat[0][1],s), pat[1:] )\n",
    "\n",
    "# # нормализация текста\n",
    "# def string_normalizer(s):\n",
    "#     pat = [\n",
    "#       #[r'ё','е'] # замена ё для унификации\n",
    "#       #,[r'</?[a-z]+>',' '] # удаляем xml\n",
    "#       [r'[:;]-*[)D]',' радость ']\n",
    "#       ,[r'\\)\\)\\)*',' радость ']\n",
    "#       ,[r'[:;]\\*',' поцелуй ']\n",
    "#       ,[r':\\(',' печаль ']\n",
    "#       ,[r'\\(\\(\\(*',' печаль ']\n",
    "#     ]\n",
    "#     return replace_patterns(s,pat).strip()"
   ]
  },
  {
   "cell_type": "code",
   "execution_count": 5,
   "metadata": {},
   "outputs": [],
   "source": [
    "# data['ttext_'] = data['ttext'].progress_apply(string_normalizer)"
   ]
  },
  {
   "cell_type": "code",
   "execution_count": 6,
   "metadata": {},
   "outputs": [],
   "source": [
    "# data"
   ]
  },
  {
   "cell_type": "code",
   "execution_count": 7,
   "metadata": {},
   "outputs": [],
   "source": [
    "import re\n",
    "from nltk.tokenize import word_tokenize as nltk_tokenize_word"
   ]
  },
  {
   "cell_type": "code",
   "execution_count": 8,
   "metadata": {},
   "outputs": [],
   "source": [
    "def tokenize(line): # разбиваем предложения на слова\n",
    "    return    [ \n",
    "        t.lower() \n",
    "        for t in nltk_tokenize_word(line) \n",
    "        # if re.match(r'[а-я -]+',t.lower()) and len(t)>1 \n",
    "        #      if not( (t.lower() in stopwords) or (len(t)<3) ) \n",
    "    ] "
   ]
  },
  {
   "cell_type": "code",
   "execution_count": 9,
   "metadata": {},
   "outputs": [
    {
     "data": {
      "application/vnd.jupyter.widget-view+json": {
       "model_id": "2868c80f3c394129a165c22cfcc4d793",
       "version_major": 2,
       "version_minor": 0
      },
      "text/plain": [
       "  0%|          | 0/226834 [00:00<?, ?it/s]"
      ]
     },
     "metadata": {},
     "output_type": "display_data"
    }
   ],
   "source": [
    "data['ttext_'] = data['ttext'].progress_apply(tokenize)"
   ]
  },
  {
   "cell_type": "code",
   "execution_count": 10,
   "metadata": {},
   "outputs": [
    {
     "data": {
      "text/html": [
       "<div>\n",
       "<style scoped>\n",
       "    .dataframe tbody tr th:only-of-type {\n",
       "        vertical-align: middle;\n",
       "    }\n",
       "\n",
       "    .dataframe tbody tr th {\n",
       "        vertical-align: top;\n",
       "    }\n",
       "\n",
       "    .dataframe thead th {\n",
       "        text-align: right;\n",
       "    }\n",
       "</style>\n",
       "<table border=\"1\" class=\"dataframe\">\n",
       "  <thead>\n",
       "    <tr style=\"text-align: right;\">\n",
       "      <th></th>\n",
       "      <th>id</th>\n",
       "      <th>ttext</th>\n",
       "      <th>ttype</th>\n",
       "      <th>ttext_</th>\n",
       "    </tr>\n",
       "  </thead>\n",
       "  <tbody>\n",
       "    <tr>\n",
       "      <th>110115</th>\n",
       "      <td>424813288472719360</td>\n",
       "      <td>сейчас со всей мочи завою с тоски..... никто не услышит... (((</td>\n",
       "      <td>-1</td>\n",
       "      <td>[сейчас, со, всей, мочи, завою, с, тоски, ....., никто, не, услышит, ..., (, (, (]</td>\n",
       "    </tr>\n",
       "    <tr>\n",
       "      <th>52868</th>\n",
       "      <td>410060677189881856</td>\n",
       "      <td>сегодня писала объяснительную почему опоздала на второй урок ._.\\nпервая моя \"объяснительная\" за всю мою учебную жизнь :D</td>\n",
       "      <td>1</td>\n",
       "      <td>[сегодня, писала, объяснительную, почему, опоздала, на, второй, урок, ._, ., первая, моя, ``, объяснительная, '', за, всю, мою, учебную, жизнь, :, d]</td>\n",
       "    </tr>\n",
       "    <tr>\n",
       "      <th>46952</th>\n",
       "      <td>414774551248392192</td>\n",
       "      <td>RT @Lud_Esh: На суздальских выборах заранее подписали протоколы http://t.co/VI32ef8oEk Химичат, гады (( #Суздаль</td>\n",
       "      <td>-1</td>\n",
       "      <td>[rt, @, lud_esh, :, на, суздальских, выборах, заранее, подписали, протоколы, http, :, //t.co/vi32ef8oek, химичат, ,, гады, (, (, #, суздаль]</td>\n",
       "    </tr>\n",
       "    <tr>\n",
       "      <th>3847</th>\n",
       "      <td>409577105631244288</td>\n",
       "      <td>10-минутный ролик в 360р грузится 20 минут :( Интересно, я когда-нибудь смогу нормально смотреть потоковое видео?</td>\n",
       "      <td>-1</td>\n",
       "      <td>[10-минутный, ролик, в, 360р, грузится, 20, минут, :, (, интересно, ,, я, когда-нибудь, смогу, нормально, смотреть, потоковое, видео, ?]</td>\n",
       "    </tr>\n",
       "    <tr>\n",
       "      <th>98434</th>\n",
       "      <td>423004458164162560</td>\n",
       "      <td>Никому не нравится наш класс, мы бичи:(\\nВсе идут к Бшкам.</td>\n",
       "      <td>-1</td>\n",
       "      <td>[никому, не, нравится, наш, класс, ,, мы, бичи, :, (, все, идут, к, бшкам, .]</td>\n",
       "    </tr>\n",
       "    <tr>\n",
       "      <th>59875</th>\n",
       "      <td>416428109252935681</td>\n",
       "      <td>@menschenfracht у тебя был 38000 твит и ты не посвятил его мне((((9</td>\n",
       "      <td>-1</td>\n",
       "      <td>[@, menschenfracht, у, тебя, был, 38000, твит, и, ты, не, посвятил, его, мне, (, (, (, (, 9]</td>\n",
       "    </tr>\n",
       "    <tr>\n",
       "      <th>81948</th>\n",
       "      <td>410761583917559809</td>\n",
       "      <td>Отучил поляка от лола, установил ему доту и вот он сидит с ботами играет, учится) красота</td>\n",
       "      <td>1</td>\n",
       "      <td>[отучил, поляка, от, лола, ,, установил, ему, доту, и, вот, он, сидит, с, ботами, играет, ,, учится, ), красота]</td>\n",
       "    </tr>\n",
       "    <tr>\n",
       "      <th>30302</th>\n",
       "      <td>412849571719434240</td>\n",
       "      <td>что-то мне не нравится мое состояние. это что же, я зря пила дорогие таблетки для профилактики всего пару дней назад?(</td>\n",
       "      <td>-1</td>\n",
       "      <td>[что-то, мне, не, нравится, мое, состояние, ., это, что, же, ,, я, зря, пила, дорогие, таблетки, для, профилактики, всего, пару, дней, назад, ?, (]</td>\n",
       "    </tr>\n",
       "    <tr>\n",
       "      <th>82707</th>\n",
       "      <td>419853780436676608</td>\n",
       "      <td>@kostarikara а главное, эти мужики даже не представляют, что ты существуешь и любишь их((</td>\n",
       "      <td>-1</td>\n",
       "      <td>[@, kostarikara, а, главное, ,, эти, мужики, даже, не, представляют, ,, что, ты, существуешь, и, любишь, их, (, (]</td>\n",
       "    </tr>\n",
       "    <tr>\n",
       "      <th>850</th>\n",
       "      <td>408916299533000704</td>\n",
       "      <td>RT @Chugunovasweta: Больше некуда писать, всё кавно в прорубь\\nПхаха) фантазии нет предела)</td>\n",
       "      <td>1</td>\n",
       "      <td>[rt, @, chugunovasweta, :, больше, некуда, писать, ,, всё, кавно, в, прорубь, пхаха, ), фантазии, нет, предела, )]</td>\n",
       "    </tr>\n",
       "  </tbody>\n",
       "</table>\n",
       "</div>"
      ],
      "text/plain": [
       "                        id  \\\n",
       "110115  424813288472719360   \n",
       "52868   410060677189881856   \n",
       "46952   414774551248392192   \n",
       "3847    409577105631244288   \n",
       "98434   423004458164162560   \n",
       "59875   416428109252935681   \n",
       "81948   410761583917559809   \n",
       "30302   412849571719434240   \n",
       "82707   419853780436676608   \n",
       "850     408916299533000704   \n",
       "\n",
       "                                                                                                                            ttext  \\\n",
       "110115                                                             сейчас со всей мочи завою с тоски..... никто не услышит... (((   \n",
       "52868   сегодня писала объяснительную почему опоздала на второй урок ._.\\nпервая моя \"объяснительная\" за всю мою учебную жизнь :D   \n",
       "46952            RT @Lud_Esh: На суздальских выборах заранее подписали протоколы http://t.co/VI32ef8oEk Химичат, гады (( #Суздаль   \n",
       "3847            10-минутный ролик в 360р грузится 20 минут :( Интересно, я когда-нибудь смогу нормально смотреть потоковое видео?   \n",
       "98434                                                                  Никому не нравится наш класс, мы бичи:(\\nВсе идут к Бшкам.   \n",
       "59875                                                         @menschenfracht у тебя был 38000 твит и ты не посвятил его мне((((9   \n",
       "81948                                   Отучил поляка от лола, установил ему доту и вот он сидит с ботами играет, учится) красота   \n",
       "30302      что-то мне не нравится мое состояние. это что же, я зря пила дорогие таблетки для профилактики всего пару дней назад?(   \n",
       "82707                                   @kostarikara а главное, эти мужики даже не представляют, что ты существуешь и любишь их((   \n",
       "850                                   RT @Chugunovasweta: Больше некуда писать, всё кавно в прорубь\\nПхаха) фантазии нет предела)   \n",
       "\n",
       "        ttype  \\\n",
       "110115     -1   \n",
       "52868       1   \n",
       "46952      -1   \n",
       "3847       -1   \n",
       "98434      -1   \n",
       "59875      -1   \n",
       "81948       1   \n",
       "30302      -1   \n",
       "82707      -1   \n",
       "850         1   \n",
       "\n",
       "                                                                                                                                                       ttext_  \n",
       "110115                                                                     [сейчас, со, всей, мочи, завою, с, тоски, ....., никто, не, услышит, ..., (, (, (]  \n",
       "52868   [сегодня, писала, объяснительную, почему, опоздала, на, второй, урок, ._, ., первая, моя, ``, объяснительная, '', за, всю, мою, учебную, жизнь, :, d]  \n",
       "46952            [rt, @, lud_esh, :, на, суздальских, выборах, заранее, подписали, протоколы, http, :, //t.co/vi32ef8oek, химичат, ,, гады, (, (, #, суздаль]  \n",
       "3847                 [10-минутный, ролик, в, 360р, грузится, 20, минут, :, (, интересно, ,, я, когда-нибудь, смогу, нормально, смотреть, потоковое, видео, ?]  \n",
       "98434                                                                           [никому, не, нравится, наш, класс, ,, мы, бичи, :, (, все, идут, к, бшкам, .]  \n",
       "59875                                                            [@, menschenfracht, у, тебя, был, 38000, твит, и, ты, не, посвятил, его, мне, (, (, (, (, 9]  \n",
       "81948                                        [отучил, поляка, от, лола, ,, установил, ему, доту, и, вот, он, сидит, с, ботами, играет, ,, учится, ), красота]  \n",
       "30302     [что-то, мне, не, нравится, мое, состояние, ., это, что, же, ,, я, зря, пила, дорогие, таблетки, для, профилактики, всего, пару, дней, назад, ?, (]  \n",
       "82707                                      [@, kostarikara, а, главное, ,, эти, мужики, даже, не, представляют, ,, что, ты, существуешь, и, любишь, их, (, (]  \n",
       "850                                        [rt, @, chugunovasweta, :, больше, некуда, писать, ,, всё, кавно, в, прорубь, пхаха, ), фантазии, нет, предела, )]  "
      ]
     },
     "execution_count": 10,
     "metadata": {},
     "output_type": "execute_result"
    }
   ],
   "source": [
    "data.sample(10)"
   ]
  },
  {
   "cell_type": "code",
   "execution_count": 11,
   "metadata": {},
   "outputs": [
    {
     "data": {
      "text/plain": [
       "131"
      ]
     },
     "execution_count": 11,
     "metadata": {},
     "output_type": "execute_result"
    }
   ],
   "source": [
    "# data[ data['ttext_'].str.len()<1 ]\n",
    "max_len = data['ttext_'].str.len().max() # максимальная длинна последовательности\n",
    "max_len"
   ]
  },
  {
   "cell_type": "code",
   "execution_count": 12,
   "metadata": {},
   "outputs": [
    {
     "data": {
      "text/html": [
       "<div>\n",
       "<style scoped>\n",
       "    .dataframe tbody tr th:only-of-type {\n",
       "        vertical-align: middle;\n",
       "    }\n",
       "\n",
       "    .dataframe tbody tr th {\n",
       "        vertical-align: top;\n",
       "    }\n",
       "\n",
       "    .dataframe thead th {\n",
       "        text-align: right;\n",
       "    }\n",
       "</style>\n",
       "<table border=\"1\" class=\"dataframe\">\n",
       "  <thead>\n",
       "    <tr style=\"text-align: right;\">\n",
       "      <th></th>\n",
       "      <th>id</th>\n",
       "      <th>ttext</th>\n",
       "      <th>ttype</th>\n",
       "      <th>ttext_</th>\n",
       "    </tr>\n",
       "  </thead>\n",
       "  <tbody>\n",
       "  </tbody>\n",
       "</table>\n",
       "</div>"
      ],
      "text/plain": [
       "Empty DataFrame\n",
       "Columns: [id, ttext, ttype, ttext_]\n",
       "Index: []"
      ]
     },
     "execution_count": 12,
     "metadata": {},
     "output_type": "execute_result"
    }
   ],
   "source": [
    "data[ data['ttext_'].str.len()<1 ] # пустые последовательности"
   ]
  },
  {
   "cell_type": "code",
   "execution_count": 13,
   "metadata": {},
   "outputs": [
    {
     "name": "stdout",
     "output_type": "stream",
     "text": [
      "negative: 111923 \n",
      "positive: 114911\n"
     ]
    }
   ],
   "source": [
    "print( 'negative:', len(data.query('ttype==-1')), '\\npositive:',len(data.query('ttype==1')) )"
   ]
  },
  {
   "cell_type": "code",
   "execution_count": 14,
   "metadata": {},
   "outputs": [
    {
     "name": "stdout",
     "output_type": "stream",
     "text": [
      "negative: 111923 \n",
      "positive: 114911\n"
     ]
    }
   ],
   "source": [
    "data = data[ data['ttext_'].str.len()>0 ].reset_index(drop=True)\n",
    "print( 'negative:', len(data.query('ttype==-1')), '\\npositive:',len(data.query('ttype==1')) )"
   ]
  },
  {
   "cell_type": "markdown",
   "metadata": {},
   "source": [
    "### кодируем слова"
   ]
  },
  {
   "cell_type": "code",
   "execution_count": 15,
   "metadata": {},
   "outputs": [
    {
     "name": "stdout",
     "output_type": "stream",
     "text": [
      "315438\n"
     ]
    }
   ],
   "source": [
    "words = set([ w for s in data['ttext_'].apply(set) for w in s ])\n",
    "vocab = { w:n for n,w in enumerate(sorted(words)) }\n",
    "print(len(vocab))"
   ]
  },
  {
   "cell_type": "code",
   "execution_count": 17,
   "metadata": {},
   "outputs": [],
   "source": [
    "# vocab"
   ]
  },
  {
   "cell_type": "code",
   "execution_count": 18,
   "metadata": {},
   "outputs": [
    {
     "data": {
      "application/vnd.jupyter.widget-view+json": {
       "model_id": "f3d9e32db19d4855918da59a52d2b31f",
       "version_major": 2,
       "version_minor": 0
      },
      "text/plain": [
       "  0%|          | 0/226834 [00:00<?, ?it/s]"
      ]
     },
     "metadata": {},
     "output_type": "display_data"
    }
   ],
   "source": [
    "X  = data['ttext_'].progress_apply(lambda s: [vocab[w] for w in s])"
   ]
  },
  {
   "cell_type": "code",
   "execution_count": 20,
   "metadata": {},
   "outputs": [
    {
     "data": {
      "text/plain": [
       "0    [38073, 64045, 302732, 313137, 179990, 309098, 119, 218585, 238289, 119, 290997, 212909, 286993, 170187, 266114, 37982, 55261, 222518, 255217, 248750, 286690, 8]\n",
       "1                                    [159297, 119, 149621, 224915, 216041, 247308, 209825, 214925, 1488, 218585, 206958, 201826, 149603, 257652, 199733, 37982, 55261]\n",
       "2                                                                    [105584, 38073, 76211, 37982, 219757, 290311, 180510, 8, 313137, 183490, 171855, 285272, 0, 0, 0]\n",
       "Name: ttext_, dtype: object"
      ]
     },
     "execution_count": 20,
     "metadata": {},
     "output_type": "execute_result"
    }
   ],
   "source": [
    "X[:3]"
   ]
  },
  {
   "cell_type": "markdown",
   "metadata": {},
   "source": [
    "---"
   ]
  },
  {
   "cell_type": "markdown",
   "metadata": {},
   "source": [
    "https://ruscorpora.ru/new/\n",
    "\n",
    "https://nlpub.ru/Russian_Distributional_Thesaurus    "
   ]
  },
  {
   "cell_type": "code",
   "execution_count": null,
   "metadata": {},
   "outputs": [],
   "source": [
    "import numpy as np\n",
    "from gensim.models.word2vec import KeyedVectors\n",
    "# загружаем матрицу word2vec\n",
    "w2v = KeyedVectors.load_word2vec_format('w2v/all.norm-sz100-w10-cb0-it1-min100.w2v',binary=True,limit=100000)"
   ]
  },
  {
   "cell_type": "code",
   "execution_count": null,
   "metadata": {},
   "outputs": [],
   "source": [
    "# 'радость' in w2v # True\n",
    "# w2v.get_vector('радость').shape"
   ]
  },
  {
   "cell_type": "code",
   "execution_count": null,
   "metadata": {},
   "outputs": [],
   "source": [
    "# слова нет в словаре\n",
    "# 'школота' in w2v # False\n",
    "# w2v.get_vector('школота') # Error!"
   ]
  },
  {
   "cell_type": "code",
   "execution_count": null,
   "metadata": {},
   "outputs": [],
   "source": [
    "X = [ \n",
    " [ w2v.get_vector(w) for w in l if w in w2v ]\n",
    " for l in tqdm( data['ttext_'] ) \n",
    "]\n",
    "\n",
    "target = data['ttype']"
   ]
  },
  {
   "cell_type": "code",
   "execution_count": null,
   "metadata": {},
   "outputs": [],
   "source": [
    "w2v_len = len(X[0][0]) # размер представления W2V\n",
    "w2v_len"
   ]
  },
  {
   "cell_type": "code",
   "execution_count": null,
   "metadata": {},
   "outputs": [],
   "source": [
    "# дополняем последовательности нулями до единого формата,\n",
    "# выкидываем те, что не нашли соответствия в словаре W2V\n",
    "z = np.zeros(w2v_len) \n",
    "target = np.array([ target[i] for i,xi in enumerate(X) if len(xi)>0 ])\n",
    "X = np.array([ [z]*(max_len-len(xi)) + xi for xi in X if len(xi)>0  ],dtype=np.float32)\n",
    "X.shape, target.shape"
   ]
  },
  {
   "cell_type": "code",
   "execution_count": null,
   "metadata": {},
   "outputs": [],
   "source": [
    "del w2v"
   ]
  },
  {
   "cell_type": "code",
   "execution_count": null,
   "metadata": {},
   "outputs": [],
   "source": [
    "target = (target+1)//2\n",
    "y = np.eye(max(target)+1,dtype=np.float32)[target] # строим выход нейросети (из 2 нейронов)"
   ]
  },
  {
   "cell_type": "code",
   "execution_count": null,
   "metadata": {},
   "outputs": [],
   "source": [
    "from sklearn.model_selection import train_test_split\n",
    "\n",
    "# делим данные для оценки\n",
    "x_train, x_test, y_train, y_test = train_test_split( X, y, test_size=.4 )\n",
    "x_train.shape, y_train.shape, x_test.shape, y_test.shape"
   ]
  },
  {
   "cell_type": "code",
   "execution_count": null,
   "metadata": {},
   "outputs": [],
   "source": [
    "del X\n",
    "del target\n",
    "del y"
   ]
  },
  {
   "cell_type": "markdown",
   "metadata": {},
   "source": [
    "## модель"
   ]
  },
  {
   "cell_type": "code",
   "execution_count": null,
   "metadata": {},
   "outputs": [],
   "source": [
    "import torch\n",
    "import torch.nn as nn\n",
    "import torch.nn.functional as F"
   ]
  },
  {
   "cell_type": "code",
   "execution_count": null,
   "metadata": {},
   "outputs": [],
   "source": [
    "torch.__version__"
   ]
  },
  {
   "cell_type": "code",
   "execution_count": null,
   "metadata": {},
   "outputs": [],
   "source": [
    "input_dim = w2v_len\n",
    "hidden_dim = 128\n",
    "n_classes = 2\n",
    "\n",
    "class Model(nn.Module):\n",
    "    def __init__(self, \n",
    "                 input_dim=input_dim,  # размер входа\n",
    "                 hid_dim=hidden_dim,   # размер рекуррентного слоя\n",
    "                 output_dim=n_classes, # размер выхода\n",
    "                ):\n",
    "        super().__init__()\n",
    "        self._rnn = nn.LSTM( input_dim, hid_dim, batch_first=True) # рекуррентный слой\n",
    "        self._linear = nn.Linear(hid_dim, output_dim) # выходной (линейный) слой\n",
    "\n",
    "    def forward(self,x):\n",
    "        _, (hidden, _) = self._rnn(x) # обрабатываем входную последовательность\n",
    "        # print(hidden.shape,out.shape)\n",
    "        hidden = hidden.squeeze(0) # прекомпоновка тензора, сокращаем размерность\n",
    "        out = self._linear(hidden) # считаем выход сети\n",
    "        out = F.softmax(out,dim=1)\n",
    "        return out "
   ]
  },
  {
   "cell_type": "code",
   "execution_count": null,
   "metadata": {},
   "outputs": [],
   "source": [
    "model = Model()\n",
    "model"
   ]
  },
  {
   "cell_type": "code",
   "execution_count": null,
   "metadata": {},
   "outputs": [],
   "source": [
    "# o =  model.forward( torch.Tensor(x_train[:256]) ) # .to(device) )\n",
    "# o.shape"
   ]
  },
  {
   "cell_type": "markdown",
   "metadata": {},
   "source": [
    "### обучаем модель"
   ]
  },
  {
   "cell_type": "code",
   "execution_count": null,
   "metadata": {},
   "outputs": [],
   "source": [
    "# проверяем GPU\n",
    "device = torch.device('cuda:0' if torch.cuda.is_available() else 'cpu')\n",
    "device"
   ]
  },
  {
   "cell_type": "code",
   "execution_count": null,
   "metadata": {},
   "outputs": [],
   "source": [
    "model = model.to(device)"
   ]
  },
  {
   "cell_type": "code",
   "execution_count": null,
   "metadata": {},
   "outputs": [],
   "source": [
    "criterion =  nn.CrossEntropyLoss() # ф-ция потери\n",
    "optimizer = torch.optim.Adam(model.parameters(), lr=.005) # метод оптимизации"
   ]
  },
  {
   "cell_type": "code",
   "execution_count": null,
   "metadata": {},
   "outputs": [],
   "source": [
    "from torch.utils.data import TensorDataset\n",
    "from torch.utils.data import DataLoader # генератор батчей\n",
    "\n",
    "# пакуем данные в формат Torch\n",
    "dataset_train = TensorDataset(torch.Tensor(x_train), torch.Tensor(y_train) )"
   ]
  },
  {
   "cell_type": "code",
   "execution_count": null,
   "metadata": {},
   "outputs": [],
   "source": [
    "from sklearn.metrics import accuracy_score\n",
    "\n",
    "def accuracy(dataset):\n",
    "    with torch.set_grad_enabled(False):\n",
    "        return np.mean([\n",
    "            accuracy_score(\n",
    "                y[:,1],\n",
    "                np.argmax( model(x.to(device)).cpu().numpy(),axis=1 )\n",
    "            )\n",
    "            for x,y in DataLoader(dataset, batch_size=len(dataset)//100, shuffle=False)\n",
    "        ])\n",
    "        \n",
    "acc_history = [ accuracy(dataset_train) ] # начальное значение погрешности"
   ]
  },
  {
   "cell_type": "code",
   "execution_count": null,
   "metadata": {},
   "outputs": [],
   "source": [
    "%%time\n",
    "\n",
    "from torch.utils.data import DataLoader # генератор батчей\n",
    "\n",
    "loss_history = [ ] # значения ф-ции потери\n",
    "n_epoch = 7 # количество эпох обучения\n",
    "\n",
    "for i in tqdm(range(n_epoch)): \n",
    "    \n",
    "    # получаем батч учебных примеров\n",
    "    for x,y in DataLoader(dataset_train, batch_size=len(y_train)//100, shuffle=True): \n",
    "        out = model.forward(x.to(device)) # считаем выход модели\n",
    "        loss = criterion( y.to(device),out ) # вычисляем значение ф-ции потери\n",
    "        loss_history.append(loss.item()) # дополняем историю изменения значений ф-ции потери\n",
    "        optimizer.zero_grad() # очищаем предыдущее значение градиента\n",
    "        loss.backward()  # вычисляем текущее значение градиента ф-ции потери\n",
    "        optimizer.step() # корректируем параметры модели\n",
    "        \n",
    "    acc_history.append( accuracy(dataset_train) ) #значение погрешности"
   ]
  },
  {
   "cell_type": "code",
   "execution_count": null,
   "metadata": {},
   "outputs": [],
   "source": [
    "from matplotlib import pyplot as plt\n",
    "# история изменения значений ф-ции потери\n",
    "plt.plot(loss_history,label='min loss=%.3f'%(min(loss_history)))\n",
    "plt.grid()\n",
    "plt.legend()"
   ]
  },
  {
   "cell_type": "code",
   "execution_count": null,
   "metadata": {},
   "outputs": [],
   "source": [
    "# история изменения значений погрешности модели\n",
    "plt.plot(acc_history,label='max acc=%.3f'%(max(acc_history)),c='r')\n",
    "plt.grid()\n",
    "plt.legend()"
   ]
  },
  {
   "cell_type": "markdown",
   "metadata": {},
   "source": [
    "## проверяем результат"
   ]
  },
  {
   "cell_type": "code",
   "execution_count": null,
   "metadata": {},
   "outputs": [],
   "source": [
    "dataset_test = TensorDataset(torch.Tensor(x_test), torch.Tensor(y_test) )\n",
    "\n",
    "with torch.set_grad_enabled(False):\n",
    "    o_test = np.hstack([\n",
    "            np.argmax( model(x.to(device)).cpu().numpy(),axis=1 )\n",
    "            for x,_ in DataLoader(dataset_test, batch_size=len(dataset_test)//100, shuffle=False)\n",
    "        ])\n",
    "    \n",
    "from sklearn.metrics import classification_report\n",
    "print(classification_report( np.argmax(y_test,axis=1),o_test))"
   ]
  },
  {
   "cell_type": "code",
   "execution_count": null,
   "metadata": {},
   "outputs": [],
   "source": []
  }
 ],
 "metadata": {
  "kernelspec": {
   "display_name": "Python 3 (ipykernel)",
   "language": "python",
   "name": "python3"
  },
  "language_info": {
   "codemirror_mode": {
    "name": "ipython",
    "version": 3
   },
   "file_extension": ".py",
   "mimetype": "text/x-python",
   "name": "python",
   "nbconvert_exporter": "python",
   "pygments_lexer": "ipython3",
   "version": "3.8.9"
  },
  "toc": {
   "base_numbering": 1,
   "nav_menu": {},
   "number_sections": true,
   "sideBar": true,
   "skip_h1_title": false,
   "title_cell": "Table of Contents",
   "title_sidebar": "Contents",
   "toc_cell": false,
   "toc_position": {},
   "toc_section_display": "block",
   "toc_window_display": false
  }
 },
 "nbformat": 4,
 "nbformat_minor": 4
}
