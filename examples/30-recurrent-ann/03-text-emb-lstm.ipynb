{
 "cells": [
  {
   "cell_type": "markdown",
   "metadata": {},
   "source": [
    "**классификатор текстов LSTM + Embeddings**\n",
    "\n",
    "Евгений Борисов <esborisov@sevsu.ru>"
   ]
  },
  {
   "cell_type": "markdown",
   "metadata": {},
   "source": [
    "## Данные"
   ]
  },
  {
   "cell_type": "raw",
   "metadata": {},
   "source": [
    "Ю. В. Рубцова. Построение корпуса текстов для настройки тонового классификатора // Программные продукты и системы, 2015, №1(109), –С.72-78\n",
    "\n",
    "http://study.mokoron.com\n",
    "\n",
    "– id: уникальный номер сообщения в системе twitter;\n",
    "– tdate: дата публикации сообщения (твита);\n",
    "– tmane: имя пользователя, опубликовавшего сообщение;\n",
    "– ttext:  текст сообщения (твита);\n",
    "– ttype: поле в котором в дальнейшем будет указано к кому классу относится твит (положительный, отрицательный, нейтральный);\n",
    "– trep: количество реплаев к данному сообщению. В настоящий момент API твиттера не отдает эту информацию;\n",
    "– tfav: число сколько раз данное сообщение было добавлено в избранное другими пользователями;\n",
    "– tstcount: число всех сообщений пользователя в сети twitter;\n",
    "– tfol: количество фоловеров пользователя (тех людей, которые читают пользователя);\n",
    "– tfrien: количество друзей пользователя (те люди, которых читает пользователь);\n",
    "– listcount: количество листов-подписок в которые добавлен твиттер-пользователь."
   ]
  },
  {
   "cell_type": "code",
   "execution_count": 29,
   "metadata": {},
   "outputs": [],
   "source": [
    "import pandas as pd\n",
    "import numpy as np\n",
    "from tqdm.notebook import tqdm\n",
    "tqdm.pandas()        \n",
    "pd.options.display.max_colwidth = 200 "
   ]
  },
  {
   "cell_type": "code",
   "execution_count": 2,
   "metadata": {},
   "outputs": [
    {
     "name": "stdout",
     "output_type": "stream",
     "text": [
      "negative: 111923 \n",
      "positive: 114911\n"
     ]
    },
    {
     "data": {
      "text/html": [
       "<div>\n",
       "<style scoped>\n",
       "    .dataframe tbody tr th:only-of-type {\n",
       "        vertical-align: middle;\n",
       "    }\n",
       "\n",
       "    .dataframe tbody tr th {\n",
       "        vertical-align: top;\n",
       "    }\n",
       "\n",
       "    .dataframe thead th {\n",
       "        text-align: right;\n",
       "    }\n",
       "</style>\n",
       "<table border=\"1\" class=\"dataframe\">\n",
       "  <thead>\n",
       "    <tr style=\"text-align: right;\">\n",
       "      <th></th>\n",
       "      <th>id</th>\n",
       "      <th>ttext</th>\n",
       "      <th>ttype</th>\n",
       "    </tr>\n",
       "  </thead>\n",
       "  <tbody>\n",
       "    <tr>\n",
       "      <th>103514</th>\n",
       "      <td>411112372883832832</td>\n",
       "      <td>@PolinkaBabarina @alina_mikii @leonardovaa @zhenechka250699 @SpaceFrolov @MLovkusha Приятности:D</td>\n",
       "      <td>1</td>\n",
       "    </tr>\n",
       "    <tr>\n",
       "      <th>6574</th>\n",
       "      <td>409086961849491456</td>\n",
       "      <td>Я наверное старею, если ложусь рано спать в пятницу) Вообщем всем сладких, я выключаюсь</td>\n",
       "      <td>1</td>\n",
       "    </tr>\n",
       "    <tr>\n",
       "      <th>26223</th>\n",
       "      <td>409573573414899712</td>\n",
       "      <td>@plotnikova_l @deniskorneevsky такой вот отвратительный театральный язык)) прогоны, репы, крайние спектакли и манты...</td>\n",
       "      <td>1</td>\n",
       "    </tr>\n",
       "    <tr>\n",
       "      <th>23356</th>\n",
       "      <td>409493737015103488</td>\n",
       "      <td>@vasily1000 я сейчас приду и помогу демонам убить тебя:D</td>\n",
       "      <td>1</td>\n",
       "    </tr>\n",
       "    <tr>\n",
       "      <th>98559</th>\n",
       "      <td>423012810474651648</td>\n",
       "      <td>@TomikMP не видела(  потом повтор посмотрю</td>\n",
       "      <td>-1</td>\n",
       "    </tr>\n",
       "    <tr>\n",
       "      <th>89961</th>\n",
       "      <td>421623679974641664</td>\n",
       "      <td>RT @Lina_malina96: @AlinaMironova4 @dudinskaya_17 что значит на 1 день? Вы хотите сказать, что сегодня вечером я не посижу вк? ((</td>\n",
       "      <td>-1</td>\n",
       "    </tr>\n",
       "    <tr>\n",
       "      <th>109142</th>\n",
       "      <td>424528531096223744</td>\n",
       "      <td>так не люблю ,когда у Ксюхи какие-то проблемы со здоровьем (((( плак</td>\n",
       "      <td>-1</td>\n",
       "    </tr>\n",
       "    <tr>\n",
       "      <th>22092</th>\n",
       "      <td>409430702375968768</td>\n",
       "      <td>наржались в скайпе :DDDDD утиииииии:3 я видео снимала даже, Лиза.ю хдддд</td>\n",
       "      <td>1</td>\n",
       "    </tr>\n",
       "    <tr>\n",
       "      <th>43198</th>\n",
       "      <td>409949595985510400</td>\n",
       "      <td>RT @Loved_Dagestan: Оригинальные окна в одном из домов  #ПозитивныйДагестан. :-)  #Дагестан #дагестан52 #Дагтви  #Любимый_Дагестан http://t…</td>\n",
       "      <td>1</td>\n",
       "    </tr>\n",
       "    <tr>\n",
       "      <th>99516</th>\n",
       "      <td>423069448250327040</td>\n",
       "      <td>Хочу посмотреть фильм, который снят по книге, которую я сейчас читаю.\\nНу рука не поднимается ((((((</td>\n",
       "      <td>-1</td>\n",
       "    </tr>\n",
       "  </tbody>\n",
       "</table>\n",
       "</div>"
      ],
      "text/plain": [
       "                        id  \\\n",
       "103514  411112372883832832   \n",
       "6574    409086961849491456   \n",
       "26223   409573573414899712   \n",
       "23356   409493737015103488   \n",
       "98559   423012810474651648   \n",
       "89961   421623679974641664   \n",
       "109142  424528531096223744   \n",
       "22092   409430702375968768   \n",
       "43198   409949595985510400   \n",
       "99516   423069448250327040   \n",
       "\n",
       "                                                                                                                                               ttext  \\\n",
       "103514                                              @PolinkaBabarina @alina_mikii @leonardovaa @zhenechka250699 @SpaceFrolov @MLovkusha Приятности:D   \n",
       "6574                                                        Я наверное старею, если ложусь рано спать в пятницу) Вообщем всем сладких, я выключаюсь    \n",
       "26223                         @plotnikova_l @deniskorneevsky такой вот отвратительный театральный язык)) прогоны, репы, крайние спектакли и манты...   \n",
       "23356                                                                                       @vasily1000 я сейчас приду и помогу демонам убить тебя:D   \n",
       "98559                                                                                                     @TomikMP не видела(  потом повтор посмотрю   \n",
       "89961              RT @Lina_malina96: @AlinaMironova4 @dudinskaya_17 что значит на 1 день? Вы хотите сказать, что сегодня вечером я не посижу вк? ((   \n",
       "109142                                                                          так не люблю ,когда у Ксюхи какие-то проблемы со здоровьем (((( плак   \n",
       "22092                                                                       наржались в скайпе :DDDDD утиииииии:3 я видео снимала даже, Лиза.ю хдддд   \n",
       "43198   RT @Loved_Dagestan: Оригинальные окна в одном из домов  #ПозитивныйДагестан. :-)  #Дагестан #дагестан52 #Дагтви  #Любимый_Дагестан http://t…   \n",
       "99516                                           Хочу посмотреть фильм, который снят по книге, которую я сейчас читаю.\\nНу рука не поднимается ((((((   \n",
       "\n",
       "        ttype  \n",
       "103514      1  \n",
       "6574        1  \n",
       "26223       1  \n",
       "23356       1  \n",
       "98559      -1  \n",
       "89961      -1  \n",
       "109142     -1  \n",
       "22092       1  \n",
       "43198       1  \n",
       "99516      -1  "
      ]
     },
     "execution_count": 2,
     "metadata": {},
     "output_type": "execute_result"
    }
   ],
   "source": [
    "ff = ['id', 'tdate', 'tmane', 'ttext', 'ttype', 'trep', 'tfav', 'tstcount', 'tfol', 'tfrien', 'listcount','unk']\n",
    "\n",
    "data = pd.concat([\n",
    "    pd.read_csv('data/positive.csv.gz',sep=';',header=None),\n",
    "    pd.read_csv('data/negative.csv.gz',sep=';',header=None),\n",
    "])\n",
    "\n",
    "data.columns = ff\n",
    "\n",
    "data = data[['id','ttext', 'ttype']]\n",
    "\n",
    "print( 'negative:', len(data.query('ttype==-1')), '\\npositive:',len(data.query('ttype==1')) )\n",
    "\n",
    "data.sample(10)"
   ]
  },
  {
   "cell_type": "markdown",
   "metadata": {},
   "source": [
    "### очистка данных"
   ]
  },
  {
   "cell_type": "code",
   "execution_count": 3,
   "metadata": {},
   "outputs": [],
   "source": [
    "import re"
   ]
  },
  {
   "cell_type": "code",
   "execution_count": 4,
   "metadata": {},
   "outputs": [],
   "source": [
    "# применяет список замен pat к строке s\n",
    "def replace_patterns(s,pat):\n",
    "    if len(pat)<1: return s\n",
    "    return  replace_patterns( re.sub(pat[0][0],pat[0][1],s), pat[1:] )\n",
    "\n",
    "# нормализация текста\n",
    "def string_normalizer(s):\n",
    "    pat = [\n",
    "      [r'[ёЁ]','е'] # замена ё для унификации\n",
    "      #,[r'</?[a-z]+>',' '] # удаляем xml\n",
    "      ,[r'[:;]-*[)D]',' радость ']\n",
    "      ,[r'\\)\\)\\)*',' радость ']\n",
    "      ,[r'[:;]\\*',' поцелуй ']\n",
    "      ,[r':\\(',' печаль ']\n",
    "      ,[r'\\(\\(\\(*',' печаль ']\n",
    "      #,[r'\\d+',' digit ']\n",
    "    ]\n",
    "    return replace_patterns(s,pat).strip()"
   ]
  },
  {
   "cell_type": "code",
   "execution_count": 17,
   "metadata": {},
   "outputs": [
    {
     "data": {
      "application/vnd.jupyter.widget-view+json": {
       "model_id": "33185dc83e5e4974ab475a431cc386ba",
       "version_major": 2,
       "version_minor": 0
      },
      "text/plain": [
       "  0%|          | 0/226827 [00:00<?, ?it/s]"
      ]
     },
     "metadata": {},
     "output_type": "display_data"
    }
   ],
   "source": [
    "data['ttext_'] = data['ttext'].progress_apply(string_normalizer)"
   ]
  },
  {
   "cell_type": "code",
   "execution_count": 18,
   "metadata": {},
   "outputs": [],
   "source": [
    "import re\n",
    "from nltk.tokenize import word_tokenize as nltk_tokenize_word"
   ]
  },
  {
   "cell_type": "code",
   "execution_count": 19,
   "metadata": {},
   "outputs": [],
   "source": [
    "def tokenize(line): # разбиваем предложения на слова\n",
    "    return    [ \n",
    "        t.lower() \n",
    "        for t in nltk_tokenize_word(line) \n",
    "        if re.match(r'[a-zа-я]+',t.lower()) # выкинуть слова не содержащие букв\n",
    "        # if re.match(r'[а-я -]+',t.lower()) and len(t)>1 \n",
    "        # if not( (t.lower() in stopwords) or (len(t)<3) ) \n",
    "    ] "
   ]
  },
  {
   "cell_type": "code",
   "execution_count": 20,
   "metadata": {},
   "outputs": [
    {
     "data": {
      "application/vnd.jupyter.widget-view+json": {
       "model_id": "1817e639869b4037bcecc16188763de9",
       "version_major": 2,
       "version_minor": 0
      },
      "text/plain": [
       "  0%|          | 0/226827 [00:00<?, ?it/s]"
      ]
     },
     "metadata": {},
     "output_type": "display_data"
    }
   ],
   "source": [
    "data['ttext_'] = data['ttext_'].progress_apply(tokenize)"
   ]
  },
  {
   "cell_type": "code",
   "execution_count": 21,
   "metadata": {},
   "outputs": [
    {
     "data": {
      "text/html": [
       "<div>\n",
       "<style scoped>\n",
       "    .dataframe tbody tr th:only-of-type {\n",
       "        vertical-align: middle;\n",
       "    }\n",
       "\n",
       "    .dataframe tbody tr th {\n",
       "        vertical-align: top;\n",
       "    }\n",
       "\n",
       "    .dataframe thead th {\n",
       "        text-align: right;\n",
       "    }\n",
       "</style>\n",
       "<table border=\"1\" class=\"dataframe\">\n",
       "  <thead>\n",
       "    <tr style=\"text-align: right;\">\n",
       "      <th></th>\n",
       "      <th>id</th>\n",
       "      <th>ttext</th>\n",
       "      <th>ttype</th>\n",
       "      <th>ttext_</th>\n",
       "    </tr>\n",
       "  </thead>\n",
       "  <tbody>\n",
       "    <tr>\n",
       "      <th>176127</th>\n",
       "      <td>416652655155363840</td>\n",
       "      <td>бессонная ночь работы с фотошопом, зато деньги на подарки теперь есть\\nстипендию-то не выдали, гады(</td>\n",
       "      <td>-1</td>\n",
       "      <td>[бессонная, ночь, работы, с, фотошопом, зато, деньги, на, подарки, теперь, есть, стипендию-то, не, выдали, гады]</td>\n",
       "    </tr>\n",
       "    <tr>\n",
       "      <th>160319</th>\n",
       "      <td>414619647015530497</td>\n",
       "      <td>Не брился и даже не умывался......пох......так и весь день пройдет((((</td>\n",
       "      <td>-1</td>\n",
       "      <td>[не, брился, и, даже, не, умывался, пох, так, и, весь, день, пройдет, печаль]</td>\n",
       "    </tr>\n",
       "    <tr>\n",
       "      <th>35102</th>\n",
       "      <td>409772459538137088</td>\n",
       "      <td>ну что же,ваш толстый пирожок идет спать.всем сладких)</td>\n",
       "      <td>1</td>\n",
       "      <td>[ну, что, же, ваш, толстый, пирожок, идет, спать.всем, сладких]</td>\n",
       "    </tr>\n",
       "    <tr>\n",
       "      <th>131958</th>\n",
       "      <td>411198467046789121</td>\n",
       "      <td>аааа...как же тяжело постоянно скучать по кому-то!а через полгода в список тех,по кому я скучаю, добавится еще человек 6!!!:(</td>\n",
       "      <td>-1</td>\n",
       "      <td>[аааа, как, же, тяжело, постоянно, скучать, по, кому-то, а, через, полгода, в, список, тех, по, кому, я, скучаю, добавится, еще, человек, печаль]</td>\n",
       "    </tr>\n",
       "    <tr>\n",
       "      <th>82865</th>\n",
       "      <td>410770338092310529</td>\n",
       "      <td>чуть-чуть побаловалась) хочется на лыжиии http://t.co/QSqOGjKgwD</td>\n",
       "      <td>1</td>\n",
       "      <td>[чуть-чуть, побаловалась, хочется, на, лыжиии, http]</td>\n",
       "    </tr>\n",
       "    <tr>\n",
       "      <th>164192</th>\n",
       "      <td>415082527695851520</td>\n",
       "      <td>виииилсан, привет. я твой твиткам пропустила, потому что интернета нормального не было :-(</td>\n",
       "      <td>-1</td>\n",
       "      <td>[виииилсан, привет, я, твой, твиткам, пропустила, потому, что, интернета, нормального, не, было]</td>\n",
       "    </tr>\n",
       "    <tr>\n",
       "      <th>147055</th>\n",
       "      <td>412986188115746817</td>\n",
       "      <td>@Len_o_k хорошо , что я около дома была и открыла дверь только вот Герда домой не хотела заходить , а на нас собаки лают , короче весело (</td>\n",
       "      <td>-1</td>\n",
       "      <td>[len_o_k, хорошо, что, я, около, дома, была, и, открыла, дверь, только, вот, герда, домой, не, хотела, заходить, а, на, нас, собаки, лают, короче, весело]</td>\n",
       "    </tr>\n",
       "    <tr>\n",
       "      <th>214671</th>\n",
       "      <td>423084392777809920</td>\n",
       "      <td>RT @yaninochka2013: новая группа, просто ужас(</td>\n",
       "      <td>-1</td>\n",
       "      <td>[rt, yaninochka2013, новая, группа, просто, ужас]</td>\n",
       "    </tr>\n",
       "    <tr>\n",
       "      <th>195345</th>\n",
       "      <td>419558729676103680</td>\n",
       "      <td>Ты, наверное, сидишь сейчас где-то забившись в уголке  и мерзнешь.\\n\\nИ все из-за меня :(</td>\n",
       "      <td>-1</td>\n",
       "      <td>[ты, наверное, сидишь, сейчас, где-то, забившись, в, уголке, и, мерзнешь, и, все, из-за, меня, печаль]</td>\n",
       "    </tr>\n",
       "    <tr>\n",
       "      <th>132370</th>\n",
       "      <td>411219295343878144</td>\n",
       "      <td>Еду с любимым...на московском пробка стоим(</td>\n",
       "      <td>-1</td>\n",
       "      <td>[еду, с, любимым, на, московском, пробка, стоим]</td>\n",
       "    </tr>\n",
       "  </tbody>\n",
       "</table>\n",
       "</div>"
      ],
      "text/plain": [
       "                        id  \\\n",
       "176127  416652655155363840   \n",
       "160319  414619647015530497   \n",
       "35102   409772459538137088   \n",
       "131958  411198467046789121   \n",
       "82865   410770338092310529   \n",
       "164192  415082527695851520   \n",
       "147055  412986188115746817   \n",
       "214671  423084392777809920   \n",
       "195345  419558729676103680   \n",
       "132370  411219295343878144   \n",
       "\n",
       "                                                                                                                                             ttext  \\\n",
       "176127                                        бессонная ночь работы с фотошопом, зато деньги на подарки теперь есть\\nстипендию-то не выдали, гады(   \n",
       "160319                                                                      Не брился и даже не умывался......пох......так и весь день пройдет((((   \n",
       "35102                                                                                       ну что же,ваш толстый пирожок идет спать.всем сладких)   \n",
       "131958               аааа...как же тяжело постоянно скучать по кому-то!а через полгода в список тех,по кому я скучаю, добавится еще человек 6!!!:(   \n",
       "82865                                                                             чуть-чуть побаловалась) хочется на лыжиии http://t.co/QSqOGjKgwD   \n",
       "164192                                                  виииилсан, привет. я твой твиткам пропустила, потому что интернета нормального не было :-(   \n",
       "147055  @Len_o_k хорошо , что я около дома была и открыла дверь только вот Герда домой не хотела заходить , а на нас собаки лают , короче весело (   \n",
       "214671                                                                                              RT @yaninochka2013: новая группа, просто ужас(   \n",
       "195345                                                   Ты, наверное, сидишь сейчас где-то забившись в уголке  и мерзнешь.\\n\\nИ все из-за меня :(   \n",
       "132370                                                                                                 Еду с любимым...на московском пробка стоим(   \n",
       "\n",
       "        ttype  \\\n",
       "176127     -1   \n",
       "160319     -1   \n",
       "35102       1   \n",
       "131958     -1   \n",
       "82865       1   \n",
       "164192     -1   \n",
       "147055     -1   \n",
       "214671     -1   \n",
       "195345     -1   \n",
       "132370     -1   \n",
       "\n",
       "                                                                                                                                                            ttext_  \n",
       "176127                                            [бессонная, ночь, работы, с, фотошопом, зато, деньги, на, подарки, теперь, есть, стипендию-то, не, выдали, гады]  \n",
       "160319                                                                               [не, брился, и, даже, не, умывался, пох, так, и, весь, день, пройдет, печаль]  \n",
       "35102                                                                                              [ну, что, же, ваш, толстый, пирожок, идет, спать.всем, сладких]  \n",
       "131958           [аааа, как, же, тяжело, постоянно, скучать, по, кому-то, а, через, полгода, в, список, тех, по, кому, я, скучаю, добавится, еще, человек, печаль]  \n",
       "82865                                                                                                         [чуть-чуть, побаловалась, хочется, на, лыжиии, http]  \n",
       "164192                                                            [виииилсан, привет, я, твой, твиткам, пропустила, потому, что, интернета, нормального, не, было]  \n",
       "147055  [len_o_k, хорошо, что, я, около, дома, была, и, открыла, дверь, только, вот, герда, домой, не, хотела, заходить, а, на, нас, собаки, лают, короче, весело]  \n",
       "214671                                                                                                           [rt, yaninochka2013, новая, группа, просто, ужас]  \n",
       "195345                                                      [ты, наверное, сидишь, сейчас, где-то, забившись, в, уголке, и, мерзнешь, и, все, из-за, меня, печаль]  \n",
       "132370                                                                                                            [еду, с, любимым, на, московском, пробка, стоим]  "
      ]
     },
     "execution_count": 21,
     "metadata": {},
     "output_type": "execute_result"
    }
   ],
   "source": [
    "data.sample(10)"
   ]
  },
  {
   "cell_type": "code",
   "execution_count": 22,
   "metadata": {},
   "outputs": [
    {
     "data": {
      "text/plain": [
       "36"
      ]
     },
     "execution_count": 22,
     "metadata": {},
     "output_type": "execute_result"
    }
   ],
   "source": [
    "# data[ data['ttext_'].str.len()<1 ]\n",
    "max_len = data['ttext_'].str.len().max() # максимальная длинна последовательности\n",
    "max_len"
   ]
  },
  {
   "cell_type": "code",
   "execution_count": 23,
   "metadata": {},
   "outputs": [
    {
     "data": {
      "text/html": [
       "<div>\n",
       "<style scoped>\n",
       "    .dataframe tbody tr th:only-of-type {\n",
       "        vertical-align: middle;\n",
       "    }\n",
       "\n",
       "    .dataframe tbody tr th {\n",
       "        vertical-align: top;\n",
       "    }\n",
       "\n",
       "    .dataframe thead th {\n",
       "        text-align: right;\n",
       "    }\n",
       "</style>\n",
       "<table border=\"1\" class=\"dataframe\">\n",
       "  <thead>\n",
       "    <tr style=\"text-align: right;\">\n",
       "      <th></th>\n",
       "      <th>id</th>\n",
       "      <th>ttext</th>\n",
       "      <th>ttype</th>\n",
       "      <th>ttext_</th>\n",
       "    </tr>\n",
       "  </thead>\n",
       "  <tbody>\n",
       "  </tbody>\n",
       "</table>\n",
       "</div>"
      ],
      "text/plain": [
       "Empty DataFrame\n",
       "Columns: [id, ttext, ttype, ttext_]\n",
       "Index: []"
      ]
     },
     "execution_count": 23,
     "metadata": {},
     "output_type": "execute_result"
    }
   ],
   "source": [
    "data[ data['ttext_'].str.len()<1 ] # пустые последовательности"
   ]
  },
  {
   "cell_type": "code",
   "execution_count": 24,
   "metadata": {},
   "outputs": [
    {
     "name": "stdout",
     "output_type": "stream",
     "text": [
      "negative: 111918 \n",
      "positive: 114909\n"
     ]
    }
   ],
   "source": [
    "print( 'negative:', len(data.query('ttype==-1')), '\\npositive:',len(data.query('ttype==1')) )"
   ]
  },
  {
   "cell_type": "code",
   "execution_count": 25,
   "metadata": {},
   "outputs": [
    {
     "name": "stdout",
     "output_type": "stream",
     "text": [
      "negative: 111918 \n",
      "positive: 114909\n"
     ]
    }
   ],
   "source": [
    "data = data[ data['ttext_'].str.len()>0 ].reset_index(drop=True)\n",
    "print( 'negative:', len(data.query('ttype==-1')), '\\npositive:',len(data.query('ttype==1')) )"
   ]
  },
  {
   "cell_type": "markdown",
   "metadata": {},
   "source": [
    "### кодируем слова"
   ]
  },
  {
   "cell_type": "code",
   "execution_count": 26,
   "metadata": {},
   "outputs": [
    {
     "name": "stdout",
     "output_type": "stream",
     "text": [
      "272410\n"
     ]
    }
   ],
   "source": [
    "words = set([ w for s in data['ttext_'].apply(set) for w in s ])\n",
    "vocab = { w:n for n,w in enumerate(sorted(words)) }\n",
    "print(len(vocab))"
   ]
  },
  {
   "cell_type": "code",
   "execution_count": 109,
   "metadata": {},
   "outputs": [],
   "source": [
    "# vocab"
   ]
  },
  {
   "cell_type": "code",
   "execution_count": 75,
   "metadata": {},
   "outputs": [
    {
     "data": {
      "application/vnd.jupyter.widget-view+json": {
       "model_id": "10d5f5a9ed8b4a2e81ec9a80b216bbf0",
       "version_major": 2,
       "version_minor": 0
      },
      "text/plain": [
       "  0%|          | 0/226827 [00:00<?, ?it/s]"
      ]
     },
     "metadata": {},
     "output_type": "display_data"
    }
   ],
   "source": [
    "X  = data['ttext_'].progress_apply(lambda s: [vocab[w] for w in s])\n",
    "target = (data['ttype']+1)//2\n",
    "y = np.eye(max(target)+1,dtype=np.float32)[target] # строим выход нейросети (из 2 нейронов)"
   ]
  },
  {
   "cell_type": "code",
   "execution_count": 76,
   "metadata": {},
   "outputs": [
    {
     "data": {
      "text/plain": [
       "((226827, 36), (226827, 2))"
      ]
     },
     "execution_count": 76,
     "metadata": {},
     "output_type": "execute_result"
    }
   ],
   "source": [
    "# дополняем последовательности нулями до единого формата,\n",
    "# выкидываем те, что не нашли соответствия в словаре W2V\n",
    "y = np.array([ y[i] for i,xi in enumerate(X) if len(xi)>0 ])\n",
    "X = np.array([ [0]*(max_len-len(xi)) + xi for xi in X if len(xi)>0  ],dtype=np.int32)\n",
    "X.shape, y.shape"
   ]
  },
  {
   "cell_type": "code",
   "execution_count": 77,
   "metadata": {},
   "outputs": [
    {
     "data": {
      "text/plain": [
       "((136096, 36), (136096, 2), (90731, 36), (90731, 2))"
      ]
     },
     "execution_count": 77,
     "metadata": {},
     "output_type": "execute_result"
    }
   ],
   "source": [
    "from sklearn.model_selection import train_test_split\n",
    "\n",
    "# делим данные для оценки\n",
    "x_train, x_test, y_train, y_test = train_test_split( X, y, test_size=.4 )\n",
    "x_train.shape, y_train.shape, x_test.shape, y_test.shape"
   ]
  },
  {
   "cell_type": "code",
   "execution_count": 78,
   "metadata": {},
   "outputs": [],
   "source": [
    "del X\n",
    "del y\n",
    "del target"
   ]
  },
  {
   "cell_type": "markdown",
   "metadata": {},
   "source": [
    "## модель"
   ]
  },
  {
   "cell_type": "code",
   "execution_count": 79,
   "metadata": {},
   "outputs": [],
   "source": [
    "import torch\n",
    "import torch.nn as nn\n",
    "import torch.nn.functional as F"
   ]
  },
  {
   "cell_type": "code",
   "execution_count": 80,
   "metadata": {},
   "outputs": [
    {
     "data": {
      "text/plain": [
       "'1.10.2+cu102'"
      ]
     },
     "execution_count": 80,
     "metadata": {},
     "output_type": "execute_result"
    }
   ],
   "source": [
    "torch.__version__"
   ]
  },
  {
   "cell_type": "code",
   "execution_count": 96,
   "metadata": {},
   "outputs": [],
   "source": [
    "num_embeddings=len(vocab)\n",
    "embedding_dim = 128\n",
    "hidden_dim = 128\n",
    "n_classes = 2\n",
    "\n",
    "class Model(nn.Module):\n",
    "    def __init__(self, \n",
    "                 num_embeddings=num_embeddings,\n",
    "                 embedding_dim=embedding_dim,\n",
    "                 hid_dim=hidden_dim,   # размер рекуррентного слоя\n",
    "                 output_dim=n_classes, # размер выхода\n",
    "                ):\n",
    "        super().__init__()\n",
    "        self._emb = nn.Embedding(num_embeddings, embedding_dim) \n",
    "        self._rnn = nn.LSTM( embedding_dim, hid_dim, batch_first=True) # рекуррентный слой\n",
    "        self._linear = nn.Linear(hid_dim, output_dim) # выходной (линейный) слой\n",
    "\n",
    "    def forward(self,x):\n",
    "        o = self._emb(x) # обрабатываем входную последовательность\n",
    "        _, (hidden, _) = self._rnn(o) # обрабатываем входную последовательность\n",
    "        o = hidden.squeeze(0) # прекомпоновка тензора, сокращаем размерность\n",
    "        o = self._linear(o) # считаем выход сети\n",
    "        o = F.softmax(o,dim=1)\n",
    "        return o "
   ]
  },
  {
   "cell_type": "code",
   "execution_count": 97,
   "metadata": {},
   "outputs": [
    {
     "data": {
      "text/plain": [
       "Model(\n",
       "  (_emb): Embedding(272410, 128)\n",
       "  (_rnn): LSTM(128, 128, batch_first=True)\n",
       "  (_linear): Linear(in_features=128, out_features=2, bias=True)\n",
       ")"
      ]
     },
     "execution_count": 97,
     "metadata": {},
     "output_type": "execute_result"
    }
   ],
   "source": [
    "model = Model()\n",
    "model"
   ]
  },
  {
   "cell_type": "code",
   "execution_count": 99,
   "metadata": {},
   "outputs": [],
   "source": [
    "# o =  model.forward( torch.tensor(x_train[:256],dtype=torch.int32) ) # .to(device) )\n",
    "# o.shape"
   ]
  },
  {
   "cell_type": "markdown",
   "metadata": {},
   "source": [
    "### обучаем модель"
   ]
  },
  {
   "cell_type": "code",
   "execution_count": 100,
   "metadata": {},
   "outputs": [
    {
     "data": {
      "text/plain": [
       "device(type='cuda', index=0)"
      ]
     },
     "execution_count": 100,
     "metadata": {},
     "output_type": "execute_result"
    }
   ],
   "source": [
    "# проверяем GPU\n",
    "device = torch.device('cuda:0' if torch.cuda.is_available() else 'cpu')\n",
    "device"
   ]
  },
  {
   "cell_type": "code",
   "execution_count": 101,
   "metadata": {},
   "outputs": [],
   "source": [
    "model = model.to(device)"
   ]
  },
  {
   "cell_type": "code",
   "execution_count": 102,
   "metadata": {},
   "outputs": [],
   "source": [
    "criterion =  nn.CrossEntropyLoss() # ф-ция потери\n",
    "optimizer = torch.optim.Adam(model.parameters(), lr=.005) # метод оптимизации"
   ]
  },
  {
   "cell_type": "code",
   "execution_count": 103,
   "metadata": {},
   "outputs": [],
   "source": [
    "from torch.utils.data import TensorDataset\n",
    "from torch.utils.data import DataLoader # генератор батчей\n",
    "\n",
    "# пакуем данные в формат Torch\n",
    "dataset_train = TensorDataset(torch.tensor(x_train,dtype=torch.int32), torch.tensor(y_train,dtype=torch.float32) )"
   ]
  },
  {
   "cell_type": "code",
   "execution_count": 104,
   "metadata": {},
   "outputs": [],
   "source": [
    "from sklearn.metrics import accuracy_score\n",
    "\n",
    "def accuracy(dataset):\n",
    "    with torch.set_grad_enabled(False):\n",
    "        return np.mean([\n",
    "            accuracy_score(\n",
    "                y[:,1],\n",
    "                np.argmax( model(x.to(device)).cpu().numpy(),axis=1 )\n",
    "            )\n",
    "            for x,y in DataLoader(dataset, batch_size=len(dataset)//100, shuffle=False)\n",
    "        ])\n",
    "        \n",
    "acc_history = [ accuracy(dataset_train) ] # начальное значение погрешности"
   ]
  },
  {
   "cell_type": "code",
   "execution_count": 105,
   "metadata": {},
   "outputs": [
    {
     "data": {
      "application/vnd.jupyter.widget-view+json": {
       "model_id": "40b6fa7370a6485b8637e3485a738549",
       "version_major": 2,
       "version_minor": 0
      },
      "text/plain": [
       "  0%|          | 0/7 [00:00<?, ?it/s]"
      ]
     },
     "metadata": {},
     "output_type": "display_data"
    },
    {
     "name": "stdout",
     "output_type": "stream",
     "text": [
      "CPU times: user 41.6 s, sys: 28.7 ms, total: 41.6 s\n",
      "Wall time: 41.7 s\n"
     ]
    }
   ],
   "source": [
    "%%time\n",
    "\n",
    "from torch.utils.data import DataLoader # генератор батчей\n",
    "\n",
    "loss_history = [ ] # значения ф-ции потери\n",
    "n_epoch = 7 # количество эпох обучения\n",
    "\n",
    "for i in tqdm(range(n_epoch)): \n",
    "    \n",
    "    # получаем батч учебных примеров\n",
    "    for x,y in DataLoader(dataset_train, batch_size=len(y_train)//100, shuffle=True): \n",
    "        out = model.forward(x.to(device)) # считаем выход модели\n",
    "        loss = criterion( y.to(device),out ) # вычисляем значение ф-ции потери\n",
    "        loss_history.append(loss.item()) # дополняем историю изменения значений ф-ции потери\n",
    "        optimizer.zero_grad() # очищаем предыдущее значение градиента\n",
    "        loss.backward()  # вычисляем текущее значение градиента ф-ции потери\n",
    "        optimizer.step() # корректируем параметры модели\n",
    "        \n",
    "    acc_history.append( accuracy(dataset_train) ) #значение погрешности"
   ]
  },
  {
   "cell_type": "code",
   "execution_count": 106,
   "metadata": {},
   "outputs": [
    {
     "data": {
      "text/plain": [
       "<matplotlib.legend.Legend at 0x7f0cf9d161c0>"
      ]
     },
     "execution_count": 106,
     "metadata": {},
     "output_type": "execute_result"
    },
    {
     "data": {
      "image/png": "[encoded data removed]",
      "text/plain": [
       "<Figure size 432x288 with 1 Axes>"
      ]
     },
     "metadata": {
      "needs_background": "light"
     },
     "output_type": "display_data"
    }
   ],
   "source": [
    "from matplotlib import pyplot as plt\n",
    "# история изменения значений ф-ции потери\n",
    "plt.plot(loss_history,label='min loss=%.3f'%(min(loss_history)))\n",
    "plt.grid()\n",
    "plt.legend()"
   ]
  },
  {
   "cell_type": "code",
   "execution_count": 107,
   "metadata": {},
   "outputs": [
    {
     "data": {
      "text/plain": [
       "<matplotlib.legend.Legend at 0x7f0cf9bbba00>"
      ]
     },
     "execution_count": 107,
     "metadata": {},
     "output_type": "execute_result"
    },
    {
     "data": {
      "image/png": "[encoded data removed]",
      "text/plain": [
       "<Figure size 432x288 with 1 Axes>"
      ]
     },
     "metadata": {
      "needs_background": "light"
     },
     "output_type": "display_data"
    }
   ],
   "source": [
    "# история изменения значений погрешности модели\n",
    "plt.plot(acc_history,label='max acc=%.3f'%(max(acc_history)),c='r')\n",
    "plt.grid()\n",
    "plt.legend()"
   ]
  },
  {
   "cell_type": "markdown",
   "metadata": {},
   "source": [
    "## проверяем результат"
   ]
  },
  {
   "cell_type": "code",
   "execution_count": 108,
   "metadata": {},
   "outputs": [
    {
     "name": "stdout",
     "output_type": "stream",
     "text": [
      "              precision    recall  f1-score   support\n",
      "\n",
      "           0       0.89      0.90      0.90     44857\n",
      "           1       0.90      0.89      0.90     45874\n",
      "\n",
      "    accuracy                           0.90     90731\n",
      "   macro avg       0.90      0.90      0.90     90731\n",
      "weighted avg       0.90      0.90      0.90     90731\n",
      "\n"
     ]
    }
   ],
   "source": [
    "dataset_test = TensorDataset(torch.tensor(x_test,dtype=torch.int32), torch.tensor(y_test,dtype=torch.float32) )\n",
    "with torch.set_grad_enabled(False):\n",
    "    o_test = np.hstack([\n",
    "            np.argmax( model(x.to(device)).cpu().numpy(),axis=1 )\n",
    "            for x,_ in DataLoader(dataset_test, batch_size=len(dataset_test)//100, shuffle=False)\n",
    "        ])\n",
    "    \n",
    "from sklearn.metrics import classification_report\n",
    "print(classification_report( np.argmax(y_test,axis=1),o_test))"
   ]
  },
  {
   "cell_type": "code",
   "execution_count": null,
   "metadata": {},
   "outputs": [],
   "source": []
  }
 ],
 "metadata": {
  "kernelspec": {
   "display_name": "Python 3 (ipykernel)",
   "language": "python",
   "name": "python3"
  },
  "language_info": {
   "codemirror_mode": {
    "name": "ipython",
    "version": 3
   },
   "file_extension": ".py",
   "mimetype": "text/x-python",
   "name": "python",
   "nbconvert_exporter": "python",
   "pygments_lexer": "ipython3",
   "version": "3.8.9"
  },
  "toc": {
   "base_numbering": 1,
   "nav_menu": {},
   "number_sections": true,
   "sideBar": true,
   "skip_h1_title": false,
   "title_cell": "Table of Contents",
   "title_sidebar": "Contents",
   "toc_cell": false,
   "toc_position": {},
   "toc_section_display": "block",
   "toc_window_display": false
  }
 },
 "nbformat": 4,
 "nbformat_minor": 4
}
