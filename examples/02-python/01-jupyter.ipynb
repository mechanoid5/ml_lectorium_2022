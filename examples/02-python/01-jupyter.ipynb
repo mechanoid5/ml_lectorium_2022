{
 "cells": [
  {
   "cell_type": "markdown",
   "metadata": {},
   "source": [
    "**jupyter demo**\n",
    "\n",
    "_Евгений Борисов <esborisov@sevsu.ru>_"
   ]
  },
  {
   "cell_type": "markdown",
   "metadata": {},
   "source": [
    "---"
   ]
  },
  {
   "cell_type": "code",
   "execution_count": 1,
   "metadata": {},
   "outputs": [
    {
     "name": "stdout",
     "output_type": "stream",
     "text": [
      "code cell\n"
     ]
    }
   ],
   "source": [
    "print('code cell')"
   ]
  },
  {
   "cell_type": "raw",
   "metadata": {},
   "source": [
    "raw text cell"
   ]
  },
  {
   "cell_type": "markdown",
   "metadata": {},
   "source": [
    "_markdown_ __cell__\n",
    "\n",
    "https://www.mathjax.org\n",
    "\n",
    "\n",
    "$$\n",
    "P(A|B) = \\frac{P(B|A)P(A)}{P(B)}\n",
    "$$\n",
    "\n",
    "$$\n",
    "y = \\sum_i^n x_i^2\n",
    "$$\n",
    "\n",
    "\n"
   ]
  },
  {
   "cell_type": "markdown",
   "metadata": {},
   "source": [
    "----"
   ]
  },
  {
   "cell_type": "code",
   "execution_count": 2,
   "metadata": {},
   "outputs": [],
   "source": [
    "from numpy.random import randint\n",
    "\n",
    "randint?"
   ]
  },
  {
   "cell_type": "code",
   "execution_count": 3,
   "metadata": {},
   "outputs": [
    {
     "data": {
      "application/json": {
       "cell": {
        "!": "OSMagics",
        "HTML": "Other",
        "SVG": "Other",
        "bash": "Other",
        "capture": "ExecutionMagics",
        "debug": "ExecutionMagics",
        "file": "Other",
        "html": "DisplayMagics",
        "javascript": "DisplayMagics",
        "js": "DisplayMagics",
        "latex": "DisplayMagics",
        "markdown": "DisplayMagics",
        "perl": "Other",
        "prun": "ExecutionMagics",
        "pypy": "Other",
        "python": "Other",
        "python2": "Other",
        "python3": "Other",
        "ruby": "Other",
        "script": "ScriptMagics",
        "sh": "Other",
        "svg": "DisplayMagics",
        "sx": "OSMagics",
        "system": "OSMagics",
        "time": "ExecutionMagics",
        "timeit": "ExecutionMagics",
        "writefile": "OSMagics"
       },
       "line": {
        "alias": "OSMagics",
        "alias_magic": "BasicMagics",
        "autoawait": "AsyncMagics",
        "autocall": "AutoMagics",
        "automagic": "AutoMagics",
        "autosave": "KernelMagics",
        "bookmark": "OSMagics",
        "cat": "Other",
        "cd": "OSMagics",
        "clear": "KernelMagics",
        "colors": "BasicMagics",
        "conda": "PackagingMagics",
        "config": "ConfigMagics",
        "connect_info": "KernelMagics",
        "cp": "Other",
        "debug": "ExecutionMagics",
        "dhist": "OSMagics",
        "dirs": "OSMagics",
        "doctest_mode": "BasicMagics",
        "ed": "Other",
        "edit": "KernelMagics",
        "env": "OSMagics",
        "gui": "BasicMagics",
        "hist": "Other",
        "history": "HistoryMagics",
        "killbgscripts": "ScriptMagics",
        "ldir": "Other",
        "less": "KernelMagics",
        "lf": "Other",
        "lk": "Other",
        "ll": "Other",
        "load": "CodeMagics",
        "load_ext": "ExtensionMagics",
        "loadpy": "CodeMagics",
        "logoff": "LoggingMagics",
        "logon": "LoggingMagics",
        "logstart": "LoggingMagics",
        "logstate": "LoggingMagics",
        "logstop": "LoggingMagics",
        "ls": "Other",
        "lsmagic": "BasicMagics",
        "lx": "Other",
        "macro": "ExecutionMagics",
        "magic": "BasicMagics",
        "man": "KernelMagics",
        "matplotlib": "PylabMagics",
        "mkdir": "Other",
        "more": "KernelMagics",
        "mv": "Other",
        "notebook": "BasicMagics",
        "page": "BasicMagics",
        "pastebin": "CodeMagics",
        "pdb": "ExecutionMagics",
        "pdef": "NamespaceMagics",
        "pdoc": "NamespaceMagics",
        "pfile": "NamespaceMagics",
        "pinfo": "NamespaceMagics",
        "pinfo2": "NamespaceMagics",
        "pip": "PackagingMagics",
        "popd": "OSMagics",
        "pprint": "BasicMagics",
        "precision": "BasicMagics",
        "prun": "ExecutionMagics",
        "psearch": "NamespaceMagics",
        "psource": "NamespaceMagics",
        "pushd": "OSMagics",
        "pwd": "OSMagics",
        "pycat": "OSMagics",
        "pylab": "PylabMagics",
        "qtconsole": "KernelMagics",
        "quickref": "BasicMagics",
        "recall": "HistoryMagics",
        "rehashx": "OSMagics",
        "reload_ext": "ExtensionMagics",
        "rep": "Other",
        "rerun": "HistoryMagics",
        "reset": "NamespaceMagics",
        "reset_selective": "NamespaceMagics",
        "rm": "Other",
        "rmdir": "Other",
        "run": "ExecutionMagics",
        "save": "CodeMagics",
        "sc": "OSMagics",
        "set_env": "OSMagics",
        "store": "StoreMagics",
        "sx": "OSMagics",
        "system": "OSMagics",
        "tb": "ExecutionMagics",
        "time": "ExecutionMagics",
        "timeit": "ExecutionMagics",
        "unalias": "OSMagics",
        "unload_ext": "ExtensionMagics",
        "who": "NamespaceMagics",
        "who_ls": "NamespaceMagics",
        "whos": "NamespaceMagics",
        "xdel": "NamespaceMagics",
        "xmode": "BasicMagics"
       }
      },
      "text/plain": [
       "Available line magics:\n",
       "%alias  %alias_magic  %autoawait  %autocall  %automagic  %autosave  %bookmark  %cat  %cd  %clear  %colors  %conda  %config  %connect_info  %cp  %debug  %dhist  %dirs  %doctest_mode  %ed  %edit  %env  %gui  %hist  %history  %killbgscripts  %ldir  %less  %lf  %lk  %ll  %load  %load_ext  %loadpy  %logoff  %logon  %logstart  %logstate  %logstop  %ls  %lsmagic  %lx  %macro  %magic  %man  %matplotlib  %mkdir  %more  %mv  %notebook  %page  %pastebin  %pdb  %pdef  %pdoc  %pfile  %pinfo  %pinfo2  %pip  %popd  %pprint  %precision  %prun  %psearch  %psource  %pushd  %pwd  %pycat  %pylab  %qtconsole  %quickref  %recall  %rehashx  %reload_ext  %rep  %rerun  %reset  %reset_selective  %rm  %rmdir  %run  %save  %sc  %set_env  %store  %sx  %system  %tb  %time  %timeit  %unalias  %unload_ext  %who  %who_ls  %whos  %xdel  %xmode\n",
       "\n",
       "Available cell magics:\n",
       "%%!  %%HTML  %%SVG  %%bash  %%capture  %%debug  %%file  %%html  %%javascript  %%js  %%latex  %%markdown  %%perl  %%prun  %%pypy  %%python  %%python2  %%python3  %%ruby  %%script  %%sh  %%svg  %%sx  %%system  %%time  %%timeit  %%writefile\n",
       "\n",
       "Automagic is ON, % prefix IS NOT needed for line magics."
      ]
     },
     "execution_count": 3,
     "metadata": {},
     "output_type": "execute_result"
    }
   ],
   "source": [
    "%lsmagic"
   ]
  },
  {
   "cell_type": "code",
   "execution_count": 4,
   "metadata": {},
   "outputs": [],
   "source": [
    "%time?"
   ]
  },
  {
   "cell_type": "code",
   "execution_count": 5,
   "metadata": {},
   "outputs": [
    {
     "name": "stdout",
     "output_type": "stream",
     "text": [
      "CPU times: user 28 µs, sys: 5 µs, total: 33 µs\n",
      "Wall time: 39.8 µs\n"
     ]
    }
   ],
   "source": [
    "%time x = [ (i*2)/3 for i in range(100) ]"
   ]
  },
  {
   "cell_type": "code",
   "execution_count": 6,
   "metadata": {},
   "outputs": [
    {
     "name": "stdout",
     "output_type": "stream",
     "text": [
      "CPU times: user 2.95 ms, sys: 0 ns, total: 2.95 ms\n",
      "Wall time: 3.02 ms\n"
     ]
    }
   ],
   "source": [
    "%%time\n",
    "\n",
    "x = [ (i*2)/3 for i in range(10000) ]\n",
    "x = sum(x)/23"
   ]
  },
  {
   "cell_type": "markdown",
   "metadata": {},
   "source": [
    "---"
   ]
  },
  {
   "cell_type": "code",
   "execution_count": 7,
   "metadata": {},
   "outputs": [],
   "source": [
    "# https://habr.com/ru/post/457302/"
   ]
  },
  {
   "cell_type": "code",
   "execution_count": 8,
   "metadata": {},
   "outputs": [
    {
     "data": {
      "text/plain": [
       "19"
      ]
     },
     "execution_count": 8,
     "metadata": {},
     "output_type": "execute_result"
    }
   ],
   "source": [
    "10+5          \n",
    "11+6\n",
    "12+7"
   ]
  },
  {
   "cell_type": "code",
   "execution_count": 9,
   "metadata": {},
   "outputs": [],
   "source": [
    "from IPython.core.interactiveshell import InteractiveShell\n",
    "InteractiveShell.ast_node_interactivity = \"all\""
   ]
  },
  {
   "cell_type": "code",
   "execution_count": 10,
   "metadata": {},
   "outputs": [
    {
     "data": {
      "text/plain": [
       "15"
      ]
     },
     "execution_count": 10,
     "metadata": {},
     "output_type": "execute_result"
    },
    {
     "data": {
      "text/plain": [
       "17"
      ]
     },
     "execution_count": 10,
     "metadata": {},
     "output_type": "execute_result"
    },
    {
     "data": {
      "text/plain": [
       "19"
      ]
     },
     "execution_count": 10,
     "metadata": {},
     "output_type": "execute_result"
    }
   ],
   "source": [
    "10+5          \n",
    "11+6\n",
    "12+7"
   ]
  },
  {
   "cell_type": "code",
   "execution_count": 11,
   "metadata": {},
   "outputs": [],
   "source": [
    "InteractiveShell.ast_node_interactivity = \"last_expr\""
   ]
  },
  {
   "cell_type": "code",
   "execution_count": 12,
   "metadata": {},
   "outputs": [
    {
     "data": {
      "text/plain": [
       "19"
      ]
     },
     "execution_count": 12,
     "metadata": {},
     "output_type": "execute_result"
    }
   ],
   "source": [
    "10+5          \n",
    "11+6\n",
    "12+7"
   ]
  },
  {
   "cell_type": "markdown",
   "metadata": {},
   "source": [
    "----"
   ]
  },
  {
   "cell_type": "markdown",
   "metadata": {},
   "source": [
    "<div class=\"alert alert-block alert-info\">\n",
    "<b>Tip:</b> Use blue boxes (alert-info) for tips and notes. \n",
    "If it’s a note, you don’t have to include the word “Note”.\n",
    "</div>"
   ]
  },
  {
   "cell_type": "markdown",
   "metadata": {},
   "source": [
    "<div class=\"alert alert-block alert-warning\">\n",
    "<b>Example:</b> Yellow Boxes are generally used to include additional examples or mathematical formulas.\n",
    "</div>"
   ]
  },
  {
   "cell_type": "markdown",
   "metadata": {},
   "source": [
    "<div class=\"alert alert-block alert-success\">\n",
    "Use green box only when necessary like to display links to related content.\n",
    "</div>"
   ]
  },
  {
   "cell_type": "markdown",
   "metadata": {},
   "source": [
    "<div class=\"alert alert-block alert-danger\">\n",
    "It is good to avoid red boxes but can be used to alert users to not delete some important part of code etc. \n",
    "</div>"
   ]
  },
  {
   "cell_type": "markdown",
   "metadata": {},
   "source": [
    "----"
   ]
  },
  {
   "cell_type": "code",
   "execution_count": 13,
   "metadata": {},
   "outputs": [
    {
     "name": "stdout",
     "output_type": "stream",
     "text": [
      "01-jupyter.ipynb  03-numpy.ipynb   jupyter_decor.ipynb\r\n",
      "02-python.ipynb   04-pandas.ipynb\r\n"
     ]
    }
   ],
   "source": [
    "!ls"
   ]
  },
  {
   "cell_type": "code",
   "execution_count": 14,
   "metadata": {},
   "outputs": [],
   "source": [
    "# pip install autopep8 "
   ]
  },
  {
   "cell_type": "code",
   "execution_count": 15,
   "metadata": {},
   "outputs": [],
   "source": [
    "# pip uninstall autopep8"
   ]
  },
  {
   "cell_type": "code",
   "execution_count": 16,
   "metadata": {},
   "outputs": [
    {
     "name": "stdout",
     "output_type": "stream",
     "text": [
      "Package                           Version\n",
      "--------------------------------- -------------------\n",
      "absl-py                           1.0.0\n",
      "argon2-cffi                       21.3.0\n",
      "argon2-cffi-bindings              21.2.0\n",
      "asttokens                         2.0.5\n",
      "astunparse                        1.6.3\n",
      "attrs                             21.4.0\n",
      "backcall                          0.2.0\n",
      "black                             22.1.0\n",
      "bleach                            4.1.0\n",
      "cachetools                        5.0.0\n",
      "certifi                           2021.10.8\n",
      "cffi                              1.15.0\n",
      "charset-normalizer                2.0.11\n",
      "click                             8.0.3\n",
      "cycler                            0.11.0\n",
      "DAWG-Python                       0.7.2\n",
      "debugpy                           1.5.1\n",
      "decorator                         5.1.1\n",
      "defusedxml                        0.7.1\n",
      "docopt                            0.6.2\n",
      "entrypoints                       0.4\n",
      "executing                         0.8.2\n",
      "flatbuffers                       2.0\n",
      "fonttools                         4.29.1\n",
      "gast                              0.5.3\n",
      "google-auth                       2.6.0\n",
      "google-auth-oauthlib              0.4.6\n",
      "google-pasta                      0.2.0\n",
      "graphviz                          0.19.1\n",
      "grpcio                            1.43.0\n",
      "h5py                              3.6.0\n",
      "idna                              3.3\n",
      "idx2numpy                         1.2.3\n",
      "importlib-metadata                4.10.1\n",
      "importlib-resources               5.4.0\n",
      "ipykernel                         6.8.0\n",
      "ipython                           8.0.1\n",
      "ipython-genutils                  0.2.0\n",
      "ipywidgets                        7.6.5\n",
      "jedi                              0.18.1\n",
      "Jinja2                            3.0.3\n",
      "joblib                            1.1.0\n",
      "jsonschema                        4.4.0\n",
      "jupyter                           1.0.0\n",
      "jupyter-client                    7.1.2\n",
      "jupyter-console                   6.4.0\n",
      "jupyter-contrib-core              0.3.3\n",
      "jupyter-contrib-nbextensions      0.5.1\n",
      "jupyter-core                      4.9.1\n",
      "jupyter-highlight-selected-word   0.2.0\n",
      "jupyter-latex-envs                1.4.6\n",
      "jupyter-nbextensions-configurator 0.4.1\n",
      "jupyter-tensorboard               0.2.0\n",
      "jupyterlab-pygments               0.1.2\n",
      "jupyterlab-widgets                1.0.2\n",
      "keras                             2.8.0\n",
      "Keras-Preprocessing               1.1.2\n",
      "kiwisolver                        1.3.2\n",
      "libclang                          13.0.0\n",
      "lxml                              4.7.1\n",
      "Markdown                          3.3.6\n",
      "MarkupSafe                        2.0.1\n",
      "matplotlib                        3.5.1\n",
      "matplotlib-inline                 0.1.3\n",
      "mistune                           0.8.4\n",
      "mypy-extensions                   0.4.3\n",
      "nbclient                          0.5.10\n",
      "nbconvert                         6.4.1\n",
      "nbformat                          5.1.3\n",
      "nest-asyncio                      1.5.4\n",
      "nltk                              3.6.7\n",
      "notebook                          6.4.8\n",
      "numpy                             1.22.1\n",
      "oauthlib                          3.2.0\n",
      "opt-einsum                        3.3.0\n",
      "packaging                         21.3\n",
      "pandas                            1.4.0\n",
      "pandocfilters                     1.5.0\n",
      "parso                             0.8.3\n",
      "pathspec                          0.9.0\n",
      "pexpect                           4.8.0\n",
      "pickleshare                       0.7.5\n",
      "Pillow                            9.0.1\n",
      "pip                               22.0.3\n",
      "platformdirs                      2.4.1\n",
      "prometheus-client                 0.13.1\n",
      "prompt-toolkit                    3.0.26\n",
      "protobuf                          3.19.4\n",
      "ptyprocess                        0.7.0\n",
      "pure-eval                         0.2.2\n",
      "pyasn1                            0.4.8\n",
      "pyasn1-modules                    0.2.8\n",
      "pycparser                         2.21\n",
      "pydot                             1.4.2\n",
      "Pygments                          2.11.2\n",
      "pymorphy2                         0.9.1\n",
      "pymorphy2-dicts-ru                2.4.417127.4579844\n",
      "pyparsing                         3.0.7\n",
      "pyrsistent                        0.18.1\n",
      "python-dateutil                   2.8.2\n",
      "pytz                              2021.3\n",
      "PyYAML                            6.0\n",
      "pyzmq                             22.3.0\n",
      "qtconsole                         5.2.2\n",
      "QtPy                              2.0.1\n",
      "regex                             2022.1.18\n",
      "requests                          2.27.1\n",
      "requests-oauthlib                 1.3.1\n",
      "rsa                               4.8\n",
      "scikit-learn                      1.0.2\n",
      "scipy                             1.7.3\n",
      "Send2Trash                        1.8.0\n",
      "setuptools                        60.1.0\n",
      "six                               1.16.0\n",
      "stack-data                        0.1.4\n",
      "tabulate                          0.8.9\n",
      "tensorboard                       2.8.0\n",
      "tensorboard-data-server           0.6.1\n",
      "tensorboard-plugin-wit            1.8.1\n",
      "tensorflow                        2.8.0\n",
      "tensorflow-io-gcs-filesystem      0.23.1\n",
      "termcolor                         1.1.0\n",
      "terminado                         0.13.1\n",
      "testpath                          0.5.0\n",
      "tf-estimator-nightly              2.8.0.dev2021122109\n",
      "threadpoolctl                     3.1.0\n",
      "tomli                             2.0.0\n",
      "torch                             1.10.2\n",
      "tornado                           6.1\n",
      "tqdm                              4.62.3\n",
      "traitlets                         5.1.1\n",
      "typing_extensions                 4.0.1\n",
      "urllib3                           1.26.8\n",
      "wcwidth                           0.2.5\n",
      "webencodings                      0.5.1\n",
      "Werkzeug                          2.0.2\n",
      "wheel                             0.37.1\n",
      "widgetsnbextension                3.5.2\n",
      "wrapt                             1.13.3\n",
      "zipp                              3.7.0\n"
     ]
    }
   ],
   "source": [
    "!pip list"
   ]
  },
  {
   "cell_type": "markdown",
   "metadata": {},
   "source": [
    "----"
   ]
  },
  {
   "cell_type": "code",
   "execution_count": 17,
   "metadata": {},
   "outputs": [],
   "source": [
    "# # показывает места нарушения стиля\n",
    "# pep8 --first main.py\n",
    " \n",
    "# # определяет и исправляет нарушения стиля\n",
    "# autopep8 ./ --recursive --in-place -a\n",
    "\n",
    "# # форматирует комментарии \n",
    "# docformatter --in-place example.py\n",
    "\n",
    "# # универсальная утилита приведения кода к PEP\n",
    "# pyformat"
   ]
  },
  {
   "cell_type": "code",
   "execution_count": null,
   "metadata": {},
   "outputs": [],
   "source": []
  },
  {
   "cell_type": "code",
   "execution_count": null,
   "metadata": {},
   "outputs": [],
   "source": []
  }
 ],
 "metadata": {
  "kernelspec": {
   "display_name": "Python 3 (ipykernel)",
   "language": "python",
   "name": "python3"
  },
  "language_info": {
   "codemirror_mode": {
    "name": "ipython",
    "version": 3
   },
   "file_extension": ".py",
   "mimetype": "text/x-python",
   "name": "python",
   "nbconvert_exporter": "python",
   "pygments_lexer": "ipython3",
   "version": "3.8.9"
  },
  "toc": {
   "base_numbering": 1,
   "nav_menu": {},
   "number_sections": true,
   "sideBar": true,
   "skip_h1_title": false,
   "title_cell": "Table of Contents",
   "title_sidebar": "Contents",
   "toc_cell": false,
   "toc_position": {},
   "toc_section_display": "block",
   "toc_window_display": false
  }
 },
 "nbformat": 4,
 "nbformat_minor": 2
}
