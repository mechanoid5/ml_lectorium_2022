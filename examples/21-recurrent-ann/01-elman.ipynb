{
 "cells": [
  {
   "cell_type": "markdown",
   "metadata": {},
   "source": [
    "**рекуррентная нейронная сеть Элмана**\n",
    "\n",
    "Евгений Борисов <esborisov@sevsu.ru>"
   ]
  },
  {
   "cell_type": "markdown",
   "metadata": {},
   "source": [
    "---"
   ]
  },
  {
   "cell_type": "code",
   "execution_count": 1,
   "metadata": {},
   "outputs": [],
   "source": [
    "import numpy as np\n",
    "from numpy import random as rng\n",
    "import matplotlib.pyplot as plt"
   ]
  },
  {
   "cell_type": "markdown",
   "metadata": {},
   "source": [
    "## генерируем данные"
   ]
  },
  {
   "cell_type": "code",
   "execution_count": 2,
   "metadata": {},
   "outputs": [],
   "source": [
    "# rng.randint?"
   ]
  },
  {
   "cell_type": "code",
   "execution_count": 3,
   "metadata": {},
   "outputs": [
    {
     "data": {
      "text/plain": [
       "((100, 4, 10), (100, 10))"
      ]
     },
     "execution_count": 3,
     "metadata": {},
     "output_type": "execute_result"
    }
   ],
   "source": [
    "# будем предсказывать следующий элемент последовательности\n",
    "n_samples = 100 #  количество примеров\n",
    "seq_len = 5 #  длинна последовательности\n",
    "\n",
    "S = rng.randint(low=0,high=10, size=(n_samples,seq_len))\n",
    "\n",
    "Sbin = np.eye(S.max()+1)[S] # [ номер примера, номер элемента последовательности, код элемента ]\n",
    "\n",
    "X = Sbin[:,:-1,:] # входная последовательность\n",
    "y = Sbin[:,-1,:] # последний элемент для предсказания\n",
    "\n",
    "X.shape,y.shape"
   ]
  },
  {
   "cell_type": "markdown",
   "metadata": {},
   "source": [
    "## строим модель"
   ]
  },
  {
   "attachments": {
    "image.png": {
     "image/png": "[encoded data removed]"
    }
   },
   "cell_type": "markdown",
   "metadata": {},
   "source": [
    "рекуррентная сеть Элмана \n",
    "\n",
    "![image.png](attachment:image.png)"
   ]
  },
  {
   "cell_type": "code",
   "execution_count": 4,
   "metadata": {},
   "outputs": [],
   "source": [
    "def state(x,w,b=0.): # состояние нейронов\n",
    "    return x.dot(w) + b"
   ]
  },
  {
   "cell_type": "code",
   "execution_count": 5,
   "metadata": {},
   "outputs": [],
   "source": [
    "def bp_sigmoid(u): # функция активации\n",
    "    return np.tanh(u)\n",
    "\n",
    "def d_bp_sigmoid(u): # производная активации\n",
    "    return 1./(np.cosh(u)**2)"
   ]
  },
  {
   "cell_type": "code",
   "execution_count": 6,
   "metadata": {},
   "outputs": [
    {
     "data": {
      "text/plain": [
       "<matplotlib.legend.Legend at 0x7f4bd755bac0>"
      ]
     },
     "execution_count": 6,
     "metadata": {},
     "output_type": "execute_result"
    },
    {
     "data": {
      "image/png": "[encoded data removed]",
      "text/plain": [
       "<Figure size 432x288 with 1 Axes>"
      ]
     },
     "metadata": {
      "needs_background": "light"
     },
     "output_type": "display_data"
    }
   ],
   "source": [
    "u=np.linspace(-10,10,500)\n",
    "plt.plot( u,bp_sigmoid(u),'-r', label='bp sigmoid' )\n",
    "plt.plot( u,d_bp_sigmoid(u),'-g', label='d bp sigmoid' )\n",
    "plt.grid()\n",
    "plt.legend()"
   ]
  },
  {
   "cell_type": "code",
   "execution_count": 7,
   "metadata": {},
   "outputs": [],
   "source": [
    "def layer_rc(x,w,w1,b): # выход рекурентного слоя\n",
    "    seq_len = x.shape[1] # длина последовательности \n",
    "    n_samples = x.shape[0] # количество примеров\n",
    "    o = np.zeros( shape=(n_samples,w1.shape[0]) ) # начальные значения памяти сети\n",
    "    for i in range(seq_len): # прогоняем через сеть последовательность примеров\n",
    "        o = bp_sigmoid( state(x[:,i,:],w) + state(o,w1) + b )\n",
    "    return o\n",
    "\n",
    "def layer_ff(x,w,b): # выход слоя прямого распространения\n",
    "    return bp_sigmoid( state( x,w,b) )"
   ]
  },
  {
   "cell_type": "code",
   "execution_count": 8,
   "metadata": {},
   "outputs": [],
   "source": [
    "def score(x,weight): # выход сети по схеме many-to-one\n",
    "    w,w1,b = weight[0] # веса первого обрабатывающего слоя и веса обратной связи\n",
    "    o = layer_rc(x,w,w1,b)\n",
    "    \n",
    "    w,b = weight[1]\n",
    "    o = layer_ff(o,w,b)\n",
    "        \n",
    "    return o"
   ]
  },
  {
   "cell_type": "code",
   "execution_count": 9,
   "metadata": {},
   "outputs": [],
   "source": [
    "# инициализация параметров сети\n",
    "def weight_init(input_size,hidden_size,output_size):\n",
    "    return [ \n",
    "        [ \n",
    "            rng.normal( size=(input_size,hidden_size),scale=.1), \n",
    "            rng.normal( size=(hidden_size,hidden_size),scale=.1), \n",
    "            rng.normal( size=(1,hidden_size),scale=.1), \n",
    "        ],\n",
    "        [ \n",
    "            rng.normal( size=(hidden_size,output_size),scale=.1), \n",
    "            rng.normal( size=(1,output_size),scale=.1), \n",
    "        ],\n",
    "    ]"
   ]
  },
  {
   "cell_type": "markdown",
   "metadata": {},
   "source": [
    "## обучаем модель"
   ]
  },
  {
   "cell_type": "markdown",
   "metadata": {},
   "source": [
    "функция потери средняя квадратичная ошибка\n",
    "$$L=MSQE(y,o)=\\frac{1}{m}\\sum\\limits_{i=0}^m(o_i-y_i)^2$$"
   ]
  },
  {
   "cell_type": "code",
   "execution_count": 10,
   "metadata": {},
   "outputs": [],
   "source": [
    "def msqe(y,o): # функция потери - средняя квадратичная ошибка\n",
    "    return np.square(o-y).sum()/(len(y)*y.shape[1])\n",
    "\n",
    "loss = msqe"
   ]
  },
  {
   "cell_type": "markdown",
   "metadata": {},
   "source": [
    "модификация back propagation для рекуррентных сетей - BPTT"
   ]
  },
  {
   "cell_type": "code",
   "execution_count": 11,
   "metadata": {},
   "outputs": [],
   "source": [
    "def forward(x,weight): # прямой проход\n",
    "    layers_state = []\n",
    "    layers_output = []\n",
    "    \n",
    "    seq_len = x.shape[1] # длина последовательности \n",
    "    n_samples = x.shape[0] # количество примеров\n",
    "\n",
    "    w,w1,b = weight[0]\n",
    "    o = np.zeros( shape=(n_samples,w1.shape[0]) ) # начальные значения памяти сети\n",
    "     \n",
    "    for i in range(seq_len): # прогоняем через сеть последовательность примеров\n",
    "        s = state(x[:,i,:],w) + state(o,w1) + b # состояние скрытого слоя\n",
    "        layers_state.append(s)\n",
    "        o = bp_sigmoid(s) # выход скрытого слоя\n",
    "        layers_output.append(o)\n",
    "        \n",
    "    w,b = weight[1]\n",
    "    s = state(o,w,b) \n",
    "    layers_state.append(s)\n",
    "    o = bp_sigmoid(s)\n",
    "    layers_output.append(o)    \n",
    "    \n",
    "    return (\n",
    "        layers_state, # состояние слоёв сети для каждого элемента последовательности\n",
    "        layers_output # выходы слоёв сети для каждого элемента последовательности\n",
    "    )"
   ]
  },
  {
   "cell_type": "code",
   "execution_count": 12,
   "metadata": {},
   "outputs": [],
   "source": [
    "def backward(d_output,layers_state,weight): # обратный проход\n",
    "    delta = [ d_output ]\n",
    "    \n",
    "    # ошибка скрытого слоя на последнем элементе входной последовательности\n",
    "    w,_ = weight[1]\n",
    "    s = layers_state[-2]\n",
    "    d = d_output.dot(w.T) * d_bp_sigmoid(s)\n",
    "    delta.append(d)\n",
    "    \n",
    "    w,w1,_ = weight[0]\n",
    "    for s in layers_state[:-2][::-1]: # выкинуть последние два, список в обратном порядке\n",
    "        d = d_bp_sigmoid(s)*d.dot(w1.T)\n",
    "        delta.append(d)\n",
    "\n",
    "    return delta[::-1] # значение ошибки для всех нейронов скрытых слоёв"
   ]
  },
  {
   "cell_type": "code",
   "execution_count": 13,
   "metadata": {},
   "outputs": [],
   "source": [
    "def weight_norm(weight): # нормируем значения градиента\n",
    "    w_max = max([ np.abs(w).max() for l in weight for w in l ])\n",
    "    if w_max>0.: return [ [ w/w_max for w in l ] for l in weight ]\n",
    "    return weight"
   ]
  },
  {
   "cell_type": "code",
   "execution_count": 14,
   "metadata": {},
   "outputs": [],
   "source": [
    "def msqe_partial(x,weight,y): # градиент функции потери\n",
    "    seq_len = x.shape[1] # длинна последовательностей\n",
    "\n",
    "    layers_state, layers_output = forward(x,weight) # состояния и выходы всех нейронов сети\n",
    "    d_output = (layers_output[-1]-y)* d_bp_sigmoid(layers_state[-1]) # ошибка выходного слоя\n",
    "    delta = backward(d_output,layers_state,weight) # значение ошибки для всех нейронов скрытых слоёв\n",
    "\n",
    "    dw0,dw0r,db0 = 0.,0.,0.\n",
    "    for i in range(0,seq_len-1):\n",
    "        dw0 += x[:,i,:].T.dot( delta[i] )\n",
    "        dw0r += layers_output[i].T.dot( delta[i] )\n",
    "        db0 += delta[i].sum(axis=0,keepdims=True) \n",
    "    \n",
    "    dw1 = layers_state[-2].T.dot(delta[-1])\n",
    "    db1 = delta[-1].sum(axis=0,keepdims=True)\n",
    "    \n",
    "    return weight_norm([[dw0,dw0r,db0],[dw1,db1]]) # нормируем значения градиента\n",
    "\n",
    "gradient = msqe_partial"
   ]
  },
  {
   "cell_type": "code",
   "execution_count": 15,
   "metadata": {},
   "outputs": [],
   "source": [
    "# корректируем параметры\n",
    "def weight_adjust(weight,d_weight,lr):\n",
    "    return [ \n",
    "        [ w-lr*dw for w,dw in zip(*l) ]  \n",
    "        for l in zip(weight,d_weight) \n",
    "    ]"
   ]
  },
  {
   "cell_type": "code",
   "execution_count": 16,
   "metadata": {},
   "outputs": [],
   "source": [
    "def fit_epoch(x,weight,y,lr): # шаг обучения модели\n",
    "    d_weight = gradient(x,weight,y) # градиент функции потери, изменение весов\n",
    "    return weight_adjust(weight,d_weight,lr) # корректируем параметры"
   ]
  },
  {
   "cell_type": "code",
   "execution_count": 17,
   "metadata": {},
   "outputs": [],
   "source": [
    "from sklearn.metrics import accuracy_score"
   ]
  },
  {
   "cell_type": "code",
   "execution_count": 18,
   "metadata": {},
   "outputs": [],
   "source": [
    "X_train = X\n",
    "y_train = y"
   ]
  },
  {
   "cell_type": "code",
   "execution_count": 19,
   "metadata": {},
   "outputs": [],
   "source": [
    "weight = weight_init(input_size=X.shape[-1],hidden_size=25,output_size=y.shape[-1])"
   ]
  },
  {
   "cell_type": "code",
   "execution_count": 20,
   "metadata": {},
   "outputs": [
    {
     "name": "stdout",
     "output_type": "stream",
     "text": [
      "CPU times: user 12.1 s, sys: 2.41 ms, total: 12.1 s\n",
      "Wall time: 12.3 s\n"
     ]
    }
   ],
   "source": [
    "%%time\n",
    "\n",
    "# метод градиентного спуска\n",
    "\n",
    "lr = 5e-2 # скорость обучени\n",
    "n_samples = len(y_train) # количество примеров\n",
    "n_epoch = 2000 # максимальное число циклов обучения\n",
    "acc_min = .91 # порог минимально допустимой погрешности модели\n",
    "\n",
    "target = np.argmax(y, axis=1 )\n",
    "\n",
    "# начальное значение ф-ции потери\n",
    "loss_history = [ loss(y_train,score(X_train,weight)) ]\n",
    "acc_history = [ accuracy_score( target, np.argmax(score(X,weight),axis=1) ) ]\n",
    "                               \n",
    "\n",
    "for i in range(n_epoch): # цикл обучения\n",
    "    weight = fit_epoch(X_train,weight,y_train,lr) # корректируем веса модели\n",
    "    loss_history.append( loss(y_train,score(X_train,weight)) ) # считаем значение ф-ции потери\n",
    "    acc_history.append( accuracy_score( target, np.argmax(score(X,weight),axis=1) ) )\n",
    "    \n",
    "    if acc_history[-1] > acc_min: # проверяем достижение минимального порога погрешности модели\n",
    "        print('step %i/%i: loss %.03f, acc threshold %.03f reached\\n'%(i+1,n_epoch,loss_history[-1],acc_min))\n",
    "        break"
   ]
  },
  {
   "cell_type": "code",
   "execution_count": 21,
   "metadata": {},
   "outputs": [
    {
     "data": {
      "text/plain": [
       "<matplotlib.legend.Legend at 0x7f4bbee732b0>"
      ]
     },
     "execution_count": 21,
     "metadata": {},
     "output_type": "execute_result"
    },
    {
     "data": {
      "image/png": "[encoded data removed]",
      "text/plain": [
       "<Figure size 432x288 with 1 Axes>"
      ]
     },
     "metadata": {
      "needs_background": "light"
     },
     "output_type": "display_data"
    }
   ],
   "source": [
    "# история изменения значений погрешности модели\n",
    "plt.plot(acc_history,label='max acc=%.3f'%(max(acc_history)),color='r')\n",
    "plt.grid()\n",
    "plt.legend()"
   ]
  },
  {
   "cell_type": "code",
   "execution_count": 22,
   "metadata": {},
   "outputs": [
    {
     "data": {
      "text/plain": [
       "<matplotlib.legend.Legend at 0x7f4bbedf3430>"
      ]
     },
     "execution_count": 22,
     "metadata": {},
     "output_type": "execute_result"
    },
    {
     "data": {
      "image/png": "[encoded data removed]",
      "text/plain": [
       "<Figure size 432x288 with 1 Axes>"
      ]
     },
     "metadata": {
      "needs_background": "light"
     },
     "output_type": "display_data"
    }
   ],
   "source": [
    "# история изменения значений ф-ции потери\n",
    "plt.plot(loss_history,label='min loss=%.3f'%(min(loss_history)))\n",
    "plt.grid()\n",
    "plt.legend()"
   ]
  },
  {
   "cell_type": "markdown",
   "metadata": {},
   "source": [
    "## тестируем модель"
   ]
  },
  {
   "cell_type": "code",
   "execution_count": 23,
   "metadata": {},
   "outputs": [],
   "source": [
    "p = np.argmax(score(X,weight), axis=1 )"
   ]
  },
  {
   "cell_type": "code",
   "execution_count": 24,
   "metadata": {},
   "outputs": [],
   "source": [
    "target = np.argmax(y, axis=1 )"
   ]
  },
  {
   "cell_type": "code",
   "execution_count": 25,
   "metadata": {},
   "outputs": [],
   "source": [
    "# list(S)"
   ]
  },
  {
   "cell_type": "code",
   "execution_count": 26,
   "metadata": {},
   "outputs": [
    {
     "data": {
      "text/html": [
       "<div>\n",
       "<style scoped>\n",
       "    .dataframe tbody tr th:only-of-type {\n",
       "        vertical-align: middle;\n",
       "    }\n",
       "\n",
       "    .dataframe tbody tr th {\n",
       "        vertical-align: top;\n",
       "    }\n",
       "\n",
       "    .dataframe thead th {\n",
       "        text-align: right;\n",
       "    }\n",
       "</style>\n",
       "<table border=\"1\" class=\"dataframe\">\n",
       "  <thead>\n",
       "    <tr style=\"text-align: right;\">\n",
       "      <th></th>\n",
       "      <th>sequence</th>\n",
       "      <th>target</th>\n",
       "      <th>predicted</th>\n",
       "    </tr>\n",
       "  </thead>\n",
       "  <tbody>\n",
       "    <tr>\n",
       "      <th>0</th>\n",
       "      <td>[8, 4, 2, 6, 7]</td>\n",
       "      <td>7</td>\n",
       "      <td>7</td>\n",
       "    </tr>\n",
       "    <tr>\n",
       "      <th>1</th>\n",
       "      <td>[5, 0, 2, 4, 2]</td>\n",
       "      <td>2</td>\n",
       "      <td>0</td>\n",
       "    </tr>\n",
       "    <tr>\n",
       "      <th>2</th>\n",
       "      <td>[1, 4, 4, 0, 4]</td>\n",
       "      <td>4</td>\n",
       "      <td>4</td>\n",
       "    </tr>\n",
       "    <tr>\n",
       "      <th>3</th>\n",
       "      <td>[4, 8, 8, 0, 6]</td>\n",
       "      <td>6</td>\n",
       "      <td>6</td>\n",
       "    </tr>\n",
       "    <tr>\n",
       "      <th>4</th>\n",
       "      <td>[4, 7, 0, 1, 6]</td>\n",
       "      <td>6</td>\n",
       "      <td>6</td>\n",
       "    </tr>\n",
       "    <tr>\n",
       "      <th>...</th>\n",
       "      <td>...</td>\n",
       "      <td>...</td>\n",
       "      <td>...</td>\n",
       "    </tr>\n",
       "    <tr>\n",
       "      <th>95</th>\n",
       "      <td>[5, 8, 3, 2, 9]</td>\n",
       "      <td>9</td>\n",
       "      <td>9</td>\n",
       "    </tr>\n",
       "    <tr>\n",
       "      <th>96</th>\n",
       "      <td>[0, 1, 5, 2, 2]</td>\n",
       "      <td>2</td>\n",
       "      <td>6</td>\n",
       "    </tr>\n",
       "    <tr>\n",
       "      <th>97</th>\n",
       "      <td>[5, 2, 9, 1, 3]</td>\n",
       "      <td>3</td>\n",
       "      <td>7</td>\n",
       "    </tr>\n",
       "    <tr>\n",
       "      <th>98</th>\n",
       "      <td>[2, 8, 4, 0, 4]</td>\n",
       "      <td>4</td>\n",
       "      <td>4</td>\n",
       "    </tr>\n",
       "    <tr>\n",
       "      <th>99</th>\n",
       "      <td>[7, 6, 7, 9, 0]</td>\n",
       "      <td>0</td>\n",
       "      <td>0</td>\n",
       "    </tr>\n",
       "  </tbody>\n",
       "</table>\n",
       "<p>100 rows × 3 columns</p>\n",
       "</div>"
      ],
      "text/plain": [
       "           sequence  target  predicted\n",
       "0   [8, 4, 2, 6, 7]       7          7\n",
       "1   [5, 0, 2, 4, 2]       2          0\n",
       "2   [1, 4, 4, 0, 4]       4          4\n",
       "3   [4, 8, 8, 0, 6]       6          6\n",
       "4   [4, 7, 0, 1, 6]       6          6\n",
       "..              ...     ...        ...\n",
       "95  [5, 8, 3, 2, 9]       9          9\n",
       "96  [0, 1, 5, 2, 2]       2          6\n",
       "97  [5, 2, 9, 1, 3]       3          7\n",
       "98  [2, 8, 4, 0, 4]       4          4\n",
       "99  [7, 6, 7, 9, 0]       0          0\n",
       "\n",
       "[100 rows x 3 columns]"
      ]
     },
     "execution_count": 26,
     "metadata": {},
     "output_type": "execute_result"
    }
   ],
   "source": [
    "import pandas as pd\n",
    "pd.DataFrame({'sequence':list(S),'target':target,'predicted':p})"
   ]
  },
  {
   "cell_type": "code",
   "execution_count": 27,
   "metadata": {},
   "outputs": [
    {
     "data": {
      "text/plain": [
       "0.71"
      ]
     },
     "execution_count": 27,
     "metadata": {},
     "output_type": "execute_result"
    }
   ],
   "source": [
    "accuracy_score(target,p)"
   ]
  },
  {
   "cell_type": "code",
   "execution_count": 28,
   "metadata": {},
   "outputs": [
    {
     "name": "stdout",
     "output_type": "stream",
     "text": [
      "              precision    recall  f1-score   support\n",
      "\n",
      "           0       0.53      0.90      0.67        10\n",
      "           1       1.00      0.44      0.62         9\n",
      "           2       1.00      0.67      0.80        12\n",
      "           3       0.71      0.77      0.74        13\n",
      "           4       0.78      0.88      0.82         8\n",
      "           5       1.00      0.20      0.33        10\n",
      "           6       0.53      0.90      0.67        10\n",
      "           7       0.91      0.91      0.91        11\n",
      "           8       0.50      0.67      0.57         9\n",
      "           9       1.00      0.75      0.86         8\n",
      "\n",
      "    accuracy                           0.71       100\n",
      "   macro avg       0.80      0.71      0.70       100\n",
      "weighted avg       0.80      0.71      0.70       100\n",
      "\n"
     ]
    }
   ],
   "source": [
    "from sklearn.metrics import classification_report\n",
    "print(classification_report(target,p))"
   ]
  },
  {
   "cell_type": "code",
   "execution_count": 29,
   "metadata": {},
   "outputs": [
    {
     "data": {
      "image/png": "[encoded data removed]",
      "text/plain": [
       "<Figure size 432x288 with 1 Axes>"
      ]
     },
     "metadata": {
      "needs_background": "light"
     },
     "output_type": "display_data"
    }
   ],
   "source": [
    "# матрица ошибок\n",
    "\n",
    "import itertools\n",
    "from sklearn.metrics import confusion_matrix\n",
    "\n",
    "cm = confusion_matrix(target,p)\n",
    "\n",
    "plt.imshow(cm, interpolation='nearest', cmap=plt.cm.Blues)\n",
    "plt.title('Confusion matrix')\n",
    "tick_marks = sorted(set(target))\n",
    "plt.xticks(tick_marks)\n",
    "plt.yticks(tick_marks)\n",
    "\n",
    "thresh = cm.max() / 2.\n",
    "for i, j in itertools.product(range(cm.shape[0]), range(cm.shape[1])):\n",
    "    plt.text(j,i, '%i'%(cm[i, j]),\n",
    "             horizontalalignment='center',\n",
    "             verticalalignment='center',\n",
    "             color=('white' if cm[i, j] > thresh else 'black'))\n",
    "\n",
    "plt.tight_layout()\n",
    "plt.ylabel('True label')\n",
    "plt.xlabel('Predicted label')\n",
    "plt.show()"
   ]
  },
  {
   "cell_type": "code",
   "execution_count": null,
   "metadata": {},
   "outputs": [],
   "source": []
  }
 ],
 "metadata": {
  "kernelspec": {
   "display_name": "Python 3",
   "language": "python",
   "name": "python3"
  },
  "language_info": {
   "codemirror_mode": {
    "name": "ipython",
    "version": 3
   },
   "file_extension": ".py",
   "mimetype": "text/x-python",
   "name": "python",
   "nbconvert_exporter": "python",
   "pygments_lexer": "ipython3",
   "version": "3.8.9"
  },
  "toc": {
   "base_numbering": 1,
   "nav_menu": {},
   "number_sections": true,
   "sideBar": true,
   "skip_h1_title": false,
   "title_cell": "Table of Contents",
   "title_sidebar": "Contents",
   "toc_cell": false,
   "toc_position": {},
   "toc_section_display": true,
   "toc_window_display": false
  }
 },
 "nbformat": 4,
 "nbformat_minor": 4
}
