{
 "cells": [
  {
   "cell_type": "markdown",
   "id": "0990b7cd",
   "metadata": {},
   "source": [
    "https://pythonru.com/biblioteki/sympy-v-python"
   ]
  },
  {
   "cell_type": "code",
   "execution_count": 20,
   "id": "a695870a",
   "metadata": {},
   "outputs": [],
   "source": [
    "import numpy as np\n",
    "\n",
    "from matplotlib import pyplot as plt\n",
    "\n",
    "from sympy.abc import x,y,w,o,u\n",
    "from sympy import *"
   ]
  },
  {
   "cell_type": "markdown",
   "id": "e5ad605e",
   "metadata": {},
   "source": [
    "---"
   ]
  },
  {
   "cell_type": "code",
   "execution_count": 21,
   "id": "b2aade81",
   "metadata": {},
   "outputs": [
    {
     "data": {
      "text/latex": [
       "$\\displaystyle \\log{\\left(1 + e^{- x} \\right)}$"
      ],
      "text/plain": [
       "log(1 + exp(-x))"
      ]
     },
     "execution_count": 21,
     "metadata": {},
     "output_type": "execute_result"
    }
   ],
   "source": [
    "expr = log(1+exp(-x))\n",
    "expr"
   ]
  },
  {
   "cell_type": "code",
   "execution_count": 22,
   "id": "b7129c81",
   "metadata": {},
   "outputs": [
    {
     "data": {
      "text/latex": [
       "$\\displaystyle - \\frac{1}{e^{x} + 1}$"
      ],
      "text/plain": [
       "-1/(exp(x) + 1)"
      ]
     },
     "execution_count": 22,
     "metadata": {},
     "output_type": "execute_result"
    }
   ],
   "source": [
    "expr.diff(x).simplify()"
   ]
  },
  {
   "cell_type": "code",
   "execution_count": 23,
   "id": "e4ddb93f",
   "metadata": {},
   "outputs": [],
   "source": [
    "arg = np.linspace(-10,10,100)\n",
    "values = lambdify(x, expr)(arg)\n",
    "dvalues = lambdify(x,expr.diff(x).simplify())(arg)"
   ]
  },
  {
   "cell_type": "code",
   "execution_count": 24,
   "id": "e5d65af2",
   "metadata": {},
   "outputs": [
    {
     "data": {
      "image/png": "[encoded data removed]",
      "text/plain": [
       "<Figure size 864x360 with 2 Axes>"
      ]
     },
     "metadata": {
      "needs_background": "light"
     },
     "output_type": "display_data"
    }
   ],
   "source": [
    "arg = np.linspace(-10,10,100)\n",
    "fig,ax = plt.subplots(1,2,figsize=(12,5))\n",
    "ax[0].plot(arg,values)\n",
    "ax[0].grid()\n",
    "ax[1].plot(arg,dvalues)\n",
    "ax[1].grid()\n",
    "plt.show()"
   ]
  },
  {
   "cell_type": "markdown",
   "id": "6aa2e815",
   "metadata": {},
   "source": [
    "---"
   ]
  },
  {
   "cell_type": "markdown",
   "id": "a861f556",
   "metadata": {},
   "source": [
    "функция потери\n",
    "\n",
    "$$CCE(y,o) = \\frac{1}{m}\\sum\\limits_{i=1}^m -y_i \\cdot log(o_i) $$"
   ]
  },
  {
   "cell_type": "code",
   "execution_count": 25,
   "id": "533d1a40",
   "metadata": {},
   "outputs": [
    {
     "data": {
      "text/latex": [
       "$\\displaystyle - y \\log{\\left(\\frac{1}{1 + e^{- w x}} \\right)}$"
      ],
      "text/plain": [
       "-y*log(1/(1 + exp(-w*x)))"
      ]
     },
     "execution_count": 25,
     "metadata": {},
     "output_type": "execute_result"
    }
   ],
   "source": [
    "cce = -y*log( 1/(1+ exp(-x*w))  )\n",
    "cce"
   ]
  },
  {
   "cell_type": "code",
   "execution_count": 26,
   "id": "b541843e",
   "metadata": {},
   "outputs": [
    {
     "data": {
      "text/latex": [
       "$\\displaystyle - \\frac{x y e^{- w x}}{1 + e^{- w x}}$"
      ],
      "text/plain": [
       "-x*y*exp(-w*x)/(1 + exp(-w*x))"
      ]
     },
     "execution_count": 26,
     "metadata": {},
     "output_type": "execute_result"
    }
   ],
   "source": [
    "cce.diff(w)#.simplify()"
   ]
  },
  {
   "cell_type": "code",
   "execution_count": 27,
   "id": "974b624a",
   "metadata": {},
   "outputs": [
    {
     "data": {
      "text/latex": [
       "$\\displaystyle - \\frac{x y}{e^{w x} + 1}$"
      ],
      "text/plain": [
       "-x*y/(exp(w*x) + 1)"
      ]
     },
     "execution_count": 27,
     "metadata": {},
     "output_type": "execute_result"
    }
   ],
   "source": [
    "cce.diff(w).simplify()"
   ]
  },
  {
   "cell_type": "markdown",
   "id": "36d1b044",
   "metadata": {},
   "source": [
    "---"
   ]
  },
  {
   "cell_type": "code",
   "execution_count": 28,
   "id": "b021efc4",
   "metadata": {},
   "outputs": [
    {
     "data": {
      "text/latex": [
       "$\\displaystyle - y \\log{\\left(o \\right)}$"
      ],
      "text/plain": [
       "-y*log(o)"
      ]
     },
     "execution_count": 28,
     "metadata": {},
     "output_type": "execute_result"
    }
   ],
   "source": [
    "cce = -y*log( o  )\n",
    "cce"
   ]
  },
  {
   "cell_type": "code",
   "execution_count": 29,
   "id": "e611a3c7",
   "metadata": {},
   "outputs": [
    {
     "data": {
      "text/latex": [
       "$\\displaystyle - \\frac{y}{o}$"
      ],
      "text/plain": [
       "-y/o"
      ]
     },
     "execution_count": 29,
     "metadata": {},
     "output_type": "execute_result"
    }
   ],
   "source": [
    "cce.diff(o)#.simplify()"
   ]
  },
  {
   "cell_type": "code",
   "execution_count": 30,
   "id": "f63d2a48",
   "metadata": {},
   "outputs": [
    {
     "data": {
      "text/latex": [
       "$\\displaystyle \\frac{1}{1 + e^{- w x}}$"
      ],
      "text/plain": [
       "1/(1 + exp(-w*x))"
      ]
     },
     "execution_count": 30,
     "metadata": {},
     "output_type": "execute_result"
    }
   ],
   "source": [
    "sig = 1/(1+ exp(-x*w)) \n",
    "sig"
   ]
  },
  {
   "cell_type": "code",
   "execution_count": 31,
   "id": "64318892",
   "metadata": {},
   "outputs": [
    {
     "data": {
      "text/latex": [
       "$\\displaystyle \\frac{w e^{- w x}}{\\left(1 + e^{- w x}\\right)^{2}}$"
      ],
      "text/plain": [
       "w*exp(-w*x)/(1 + exp(-w*x))**2"
      ]
     },
     "execution_count": 31,
     "metadata": {},
     "output_type": "execute_result"
    }
   ],
   "source": [
    "sig.diff(x)#.simplify()"
   ]
  },
  {
   "cell_type": "markdown",
   "id": "f0e2aed0",
   "metadata": {},
   "source": [
    "---"
   ]
  },
  {
   "cell_type": "code",
   "execution_count": 32,
   "id": "e42365b6",
   "metadata": {},
   "outputs": [
    {
     "data": {
      "text/latex": [
       "$\\displaystyle \\frac{1}{1 + e^{- u}}$"
      ],
      "text/plain": [
       "1/(1 + exp(-u))"
      ]
     },
     "execution_count": 32,
     "metadata": {},
     "output_type": "execute_result"
    }
   ],
   "source": [
    "sig = 1/(1+ exp(-u)) \n",
    "sig"
   ]
  },
  {
   "cell_type": "code",
   "execution_count": 33,
   "id": "75f7ea09",
   "metadata": {},
   "outputs": [
    {
     "data": {
      "text/latex": [
       "$\\displaystyle \\frac{e^{- u}}{\\left(1 + e^{- u}\\right)^{2}}$"
      ],
      "text/plain": [
       "exp(-u)/(1 + exp(-u))**2"
      ]
     },
     "execution_count": 33,
     "metadata": {},
     "output_type": "execute_result"
    }
   ],
   "source": [
    "sig.diff(u)"
   ]
  },
  {
   "cell_type": "markdown",
   "id": "10db295b",
   "metadata": {},
   "source": [
    "---"
   ]
  },
  {
   "attachments": {
    "image.png": {
     "image/png": "[encoded data removed]"
    }
   },
   "cell_type": "markdown",
   "id": "a49e533b",
   "metadata": {},
   "source": [
    "![image.png](attachment:image.png)"
   ]
  },
  {
   "cell_type": "code",
   "execution_count": 44,
   "id": "2da9cfa1",
   "metadata": {},
   "outputs": [
    {
     "data": {
      "text/latex": [
       "$\\displaystyle - y \\log{\\left(o \\right)} - \\left(1 - y\\right) \\log{\\left(1 - o \\right)}$"
      ],
      "text/plain": [
       "-y*log(o) - (1 - y)*log(1 - o)"
      ]
     },
     "execution_count": 44,
     "metadata": {},
     "output_type": "execute_result"
    }
   ],
   "source": [
    "bce = -(y*log(o)+(1-y)*log(1-o))\n",
    "bce"
   ]
  },
  {
   "cell_type": "code",
   "execution_count": 45,
   "id": "6555ca91",
   "metadata": {},
   "outputs": [
    {
     "data": {
      "text/latex": [
       "$\\displaystyle \\frac{- o + y}{o \\left(o - 1\\right)}$"
      ],
      "text/plain": [
       "(-o + y)/(o*(o - 1))"
      ]
     },
     "execution_count": 45,
     "metadata": {},
     "output_type": "execute_result"
    }
   ],
   "source": [
    "bce.diff(o).simplify()"
   ]
  },
  {
   "cell_type": "markdown",
   "id": "0710134a",
   "metadata": {},
   "source": [
    "---"
   ]
  },
  {
   "cell_type": "markdown",
   "id": "83b1ff39",
   "metadata": {},
   "source": [
    "---"
   ]
  },
  {
   "cell_type": "code",
   "execution_count": 6,
   "id": "f154c2ff",
   "metadata": {},
   "outputs": [
    {
     "data": {
      "text/latex": [
       "$\\displaystyle \\left(x + y\\right)^{2}$"
      ],
      "text/plain": [
       "(x + y)**2"
      ]
     },
     "execution_count": 6,
     "metadata": {},
     "output_type": "execute_result"
    }
   ],
   "source": [
    "expr = (x+y)**2\n",
    "expr"
   ]
  },
  {
   "cell_type": "code",
   "execution_count": 7,
   "id": "2cb35fd6",
   "metadata": {},
   "outputs": [
    {
     "data": {
      "text/latex": [
       "$\\displaystyle x^{2} + 2 x y + y^{2}$"
      ],
      "text/plain": [
       "x**2 + 2*x*y + y**2"
      ]
     },
     "execution_count": 7,
     "metadata": {},
     "output_type": "execute_result"
    }
   ],
   "source": [
    "expr.expand()"
   ]
  },
  {
   "cell_type": "markdown",
   "id": "0f4d8e93",
   "metadata": {},
   "source": [
    "---"
   ]
  },
  {
   "cell_type": "code",
   "execution_count": 8,
   "id": "6d482b91",
   "metadata": {},
   "outputs": [
    {
     "data": {
      "text/latex": [
       "$\\displaystyle \\sin^{2}{\\left(x \\right)} + \\cos^{2}{\\left(x \\right)}$"
      ],
      "text/plain": [
       "sin(x)**2 + cos(x)**2"
      ]
     },
     "execution_count": 8,
     "metadata": {},
     "output_type": "execute_result"
    }
   ],
   "source": [
    "expr = sin(x)**2 + cos(x)**2 \n",
    "expr"
   ]
  },
  {
   "cell_type": "code",
   "execution_count": 9,
   "id": "e0c55ad9",
   "metadata": {},
   "outputs": [
    {
     "data": {
      "text/latex": [
       "$\\displaystyle 1$"
      ],
      "text/plain": [
       "1"
      ]
     },
     "execution_count": 9,
     "metadata": {},
     "output_type": "execute_result"
    }
   ],
   "source": [
    "expr.simplify()"
   ]
  },
  {
   "cell_type": "markdown",
   "id": "86f5a187",
   "metadata": {},
   "source": [
    "---"
   ]
  },
  {
   "cell_type": "code",
   "execution_count": 10,
   "id": "196dd1a9",
   "metadata": {},
   "outputs": [
    {
     "data": {
      "text/latex": [
       "$\\displaystyle x^{2} + 3 x + 2$"
      ],
      "text/plain": [
       "x**2 + 3*x + 2"
      ]
     },
     "execution_count": 10,
     "metadata": {},
     "output_type": "execute_result"
    }
   ],
   "source": [
    "expr = sympify('x**2 + 3*x + 2')\n",
    "expr"
   ]
  },
  {
   "cell_type": "code",
   "execution_count": 11,
   "id": "b0232802",
   "metadata": {},
   "outputs": [
    {
     "data": {
      "text/latex": [
       "$\\displaystyle 12$"
      ],
      "text/plain": [
       "12"
      ]
     },
     "execution_count": 11,
     "metadata": {},
     "output_type": "execute_result"
    }
   ],
   "source": [
    "expr.subs(x,2)"
   ]
  },
  {
   "cell_type": "markdown",
   "id": "307be889",
   "metadata": {},
   "source": [
    "---"
   ]
  },
  {
   "cell_type": "code",
   "execution_count": 12,
   "id": "840f548d",
   "metadata": {},
   "outputs": [
    {
     "data": {
      "text/latex": [
       "$\\displaystyle \\frac{x^{2} + 2 x + 1}{x + 1}$"
      ],
      "text/plain": [
       "(x**2 + 2*x + 1)/(x + 1)"
      ]
     },
     "execution_count": 12,
     "metadata": {},
     "output_type": "execute_result"
    }
   ],
   "source": [
    "expr=( x**2+2*x+1 )/(x+1)\n",
    "expr"
   ]
  },
  {
   "cell_type": "code",
   "execution_count": 13,
   "id": "0776c562",
   "metadata": {},
   "outputs": [
    {
     "data": {
      "text/latex": [
       "$\\displaystyle x + 1$"
      ],
      "text/plain": [
       "x + 1"
      ]
     },
     "execution_count": 13,
     "metadata": {},
     "output_type": "execute_result"
    }
   ],
   "source": [
    "expr.simplify()"
   ]
  }
 ],
 "metadata": {
  "kernelspec": {
   "display_name": "Python 3",
   "language": "python",
   "name": "python3"
  },
  "language_info": {
   "codemirror_mode": {
    "name": "ipython",
    "version": 3
   },
   "file_extension": ".py",
   "mimetype": "text/x-python",
   "name": "python",
   "nbconvert_exporter": "python",
   "pygments_lexer": "ipython3",
   "version": "3.8.9"
  },
  "toc": {
   "base_numbering": 1,
   "nav_menu": {},
   "number_sections": true,
   "sideBar": true,
   "skip_h1_title": false,
   "title_cell": "Table of Contents",
   "title_sidebar": "Contents",
   "toc_cell": false,
   "toc_position": {},
   "toc_section_display": true,
   "toc_window_display": false
  }
 },
 "nbformat": 4,
 "nbformat_minor": 5
}
