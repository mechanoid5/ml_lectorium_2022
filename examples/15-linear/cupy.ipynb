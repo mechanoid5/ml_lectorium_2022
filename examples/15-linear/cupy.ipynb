{
 "cells": [
  {
   "cell_type": "markdown",
   "id": "0990b7cd",
   "metadata": {},
   "source": [
    "https://cupy.dev"
   ]
  },
  {
   "cell_type": "code",
   "execution_count": 1,
   "id": "a695870a",
   "metadata": {},
   "outputs": [],
   "source": [
    "import numpy as np\n",
    "from matplotlib import pyplot as plt\n",
    "import cupy as cp\n",
    "import time "
   ]
  },
  {
   "cell_type": "code",
   "execution_count": 2,
   "id": "7e2359ce",
   "metadata": {},
   "outputs": [
    {
     "data": {
      "text/plain": [
       "'9.5.0'"
      ]
     },
     "execution_count": 2,
     "metadata": {},
     "output_type": "execute_result"
    }
   ],
   "source": [
    "cp.__version__"
   ]
  },
  {
   "cell_type": "code",
   "execution_count": 3,
   "id": "3606c32b",
   "metadata": {},
   "outputs": [
    {
     "data": {
      "text/plain": [
       "(11040, 11040)"
      ]
     },
     "execution_count": 3,
     "metadata": {},
     "output_type": "execute_result"
    }
   ],
   "source": [
    "cp.cuda.runtime.driverGetVersion(), cp.cuda.runtime.runtimeGetVersion()"
   ]
  },
  {
   "cell_type": "code",
   "execution_count": 4,
   "id": "24c59d96",
   "metadata": {},
   "outputs": [
    {
     "data": {
      "text/plain": [
       "0"
      ]
     },
     "execution_count": 4,
     "metadata": {},
     "output_type": "execute_result"
    }
   ],
   "source": [
    "cp.cuda.runtime.getDevice()"
   ]
  },
  {
   "cell_type": "code",
   "execution_count": 5,
   "id": "b90255aa",
   "metadata": {},
   "outputs": [
    {
     "data": {
      "text/plain": [
       "{'name': b'NVIDIA GeForce GTX 1060 6GB',\n",
       " 'totalGlobalMem': 6370295808,\n",
       " 'sharedMemPerBlock': 49152,\n",
       " 'regsPerBlock': 65536,\n",
       " 'warpSize': 32,\n",
       " 'maxThreadsPerBlock': 1024,\n",
       " 'maxThreadsDim': (1024, 1024, 64),\n",
       " 'maxGridSize': (2147483647, 65535, 65535),\n",
       " 'clockRate': 1847500,\n",
       " 'totalConstMem': 65536,\n",
       " 'major': 6,\n",
       " 'minor': 1,\n",
       " 'textureAlignment': 512,\n",
       " 'texturePitchAlignment': 32,\n",
       " 'multiProcessorCount': 10,\n",
       " 'kernelExecTimeoutEnabled': 1,\n",
       " 'integrated': 0,\n",
       " 'canMapHostMemory': 1,\n",
       " 'computeMode': 0,\n",
       " 'maxTexture1D': 131072,\n",
       " 'maxTexture2D': (131072, 65536),\n",
       " 'maxTexture3D': (16384, 16384, 16384),\n",
       " 'concurrentKernels': 1,\n",
       " 'ECCEnabled': 0,\n",
       " 'pciBusID': 1,\n",
       " 'pciDeviceID': 0,\n",
       " 'pciDomainID': 0,\n",
       " 'tccDriver': 0,\n",
       " 'memoryClockRate': 4004000,\n",
       " 'memoryBusWidth': 192,\n",
       " 'l2CacheSize': 1572864,\n",
       " 'maxThreadsPerMultiProcessor': 2048,\n",
       " 'isMultiGpuBoard': 0,\n",
       " 'cooperativeLaunch': 1,\n",
       " 'cooperativeMultiDeviceLaunch': 1,\n",
       " 'deviceOverlap': 1,\n",
       " 'maxTexture1DMipmap': 16384,\n",
       " 'maxTexture1DLinear': 268435456,\n",
       " 'maxTexture1DLayered': (32768, 2048),\n",
       " 'maxTexture2DMipmap': (32768, 32768),\n",
       " 'maxTexture2DLinear': (131072, 65000, 2097120),\n",
       " 'maxTexture2DLayered': (32768, 32768, 2048),\n",
       " 'maxTexture2DGather': (32768, 32768),\n",
       " 'maxTexture3DAlt': (8192, 8192, 32768),\n",
       " 'maxTextureCubemap': 32768,\n",
       " 'maxTextureCubemapLayered': (32768, 2046),\n",
       " 'maxSurface1D': 32768,\n",
       " 'maxSurface1DLayered': (32768, 2048),\n",
       " 'maxSurface2D': (131072, 65536),\n",
       " 'maxSurface2DLayered': (32768, 32768, 2048),\n",
       " 'maxSurface3D': (16384, 16384, 16384),\n",
       " 'maxSurfaceCubemap': 32768,\n",
       " 'maxSurfaceCubemapLayered': (32768, 2046),\n",
       " 'surfaceAlignment': 512,\n",
       " 'asyncEngineCount': 2,\n",
       " 'unifiedAddressing': 1,\n",
       " 'streamPrioritiesSupported': 1,\n",
       " 'globalL1CacheSupported': 1,\n",
       " 'localL1CacheSupported': 1,\n",
       " 'sharedMemPerMultiprocessor': 98304,\n",
       " 'regsPerMultiprocessor': 65536,\n",
       " 'managedMemory': 1,\n",
       " 'multiGpuBoardGroupID': 0,\n",
       " 'hostNativeAtomicSupported': 0,\n",
       " 'singleToDoublePrecisionPerfRatio': 32,\n",
       " 'pageableMemoryAccess': 0,\n",
       " 'concurrentManagedAccess': 1,\n",
       " 'computePreemptionSupported': 1,\n",
       " 'canUseHostPointerForRegisteredMem': 1,\n",
       " 'sharedMemPerBlockOptin': 49152,\n",
       " 'pageableMemoryAccessUsesHostPageTables': 0,\n",
       " 'directManagedMemAccessFromHost': 0,\n",
       " 'uuid': b'\\xb7\\xc9\\xd4\\x98\\x90\\xbf\\xdf\\xcb]\\xcaMI\\xe9\\xb8}r',\n",
       " 'luid': b'',\n",
       " 'luidDeviceNodeMask': 0,\n",
       " 'persistingL2CacheMaxSize': 0,\n",
       " 'maxBlocksPerMultiProcessor': 32,\n",
       " 'accessPolicyMaxWindowSize': 0,\n",
       " 'reservedSharedMemPerBlock': 0}"
      ]
     },
     "execution_count": 5,
     "metadata": {},
     "output_type": "execute_result"
    }
   ],
   "source": [
    "cp.cuda.runtime.getDeviceProperties(0)"
   ]
  },
  {
   "cell_type": "markdown",
   "id": "3d44bfc8",
   "metadata": {},
   "source": [
    "---"
   ]
  },
  {
   "cell_type": "code",
   "execution_count": 6,
   "id": "b003ff5c",
   "metadata": {},
   "outputs": [
    {
     "name": "stdout",
     "output_type": "stream",
     "text": [
      "0.4086003303527832\n"
     ]
    }
   ],
   "source": [
    "### Numpy and CPU\n",
    "s = time.time()\n",
    "x_cpu = np.ones((500,1000,1000))\n",
    "e = time.time()\n",
    "print(e - s)"
   ]
  },
  {
   "cell_type": "code",
   "execution_count": 7,
   "id": "7201fc26",
   "metadata": {},
   "outputs": [
    {
     "name": "stdout",
     "output_type": "stream",
     "text": [
      "0.2104206085205078\n"
     ]
    }
   ],
   "source": [
    "### CuPy and GPU\n",
    "s = time.time()\n",
    "x_gpu = cp.ones((500,1000,1000))\n",
    "cp.cuda.Stream.null.synchronize()\n",
    "e = time.time()\n",
    "print(e - s)"
   ]
  },
  {
   "cell_type": "code",
   "execution_count": 8,
   "id": "a9accf3b",
   "metadata": {},
   "outputs": [],
   "source": [
    "del x_gpu"
   ]
  },
  {
   "cell_type": "markdown",
   "id": "c950ab6e",
   "metadata": {},
   "source": [
    "----"
   ]
  },
  {
   "cell_type": "code",
   "execution_count": 9,
   "id": "21de5b1f",
   "metadata": {},
   "outputs": [],
   "source": [
    "from numpy import random as rng"
   ]
  },
  {
   "cell_type": "code",
   "execution_count": 10,
   "id": "8054815c",
   "metadata": {},
   "outputs": [
    {
     "name": "stdout",
     "output_type": "stream",
     "text": [
      "CPU times: user 1.64 s, sys: 53 ms, total: 1.69 s\n",
      "Wall time: 1.69 s\n"
     ]
    }
   ],
   "source": [
    "%%time\n",
    "\n",
    "x_cpu = rng.normal(size=(10_000,5_000))\n",
    "y_cpu = rng.uniform(size=(20_000,5_000))"
   ]
  },
  {
   "cell_type": "code",
   "execution_count": 11,
   "id": "959ec971",
   "metadata": {},
   "outputs": [
    {
     "name": "stdout",
     "output_type": "stream",
     "text": [
      "CPU times: user 40.9 s, sys: 646 ms, total: 41.5 s\n",
      "Wall time: 10.8 s\n"
     ]
    }
   ],
   "source": [
    "%%time\n",
    "\n",
    "### Numpy and CPU\n",
    "r = x_cpu.dot(y_cpu.T)"
   ]
  },
  {
   "cell_type": "markdown",
   "id": "c296bab9",
   "metadata": {},
   "source": [
    "---"
   ]
  },
  {
   "cell_type": "code",
   "execution_count": 12,
   "id": "9a74578c",
   "metadata": {},
   "outputs": [
    {
     "name": "stdout",
     "output_type": "stream",
     "text": [
      "CPU times: user 155 ms, sys: 467 ms, total: 623 ms\n",
      "Wall time: 450 ms\n"
     ]
    }
   ],
   "source": [
    "%%time\n",
    "\n",
    "x_gpu = cp.array(x_cpu)\n",
    "y_gpu = cp.array(y_cpu)"
   ]
  },
  {
   "cell_type": "code",
   "execution_count": 13,
   "id": "5264d533",
   "metadata": {},
   "outputs": [
    {
     "name": "stdout",
     "output_type": "stream",
     "text": [
      "CPU times: user 245 ms, sys: 60.1 ms, total: 305 ms\n",
      "Wall time: 306 ms\n"
     ]
    }
   ],
   "source": [
    "%%time\n",
    "\n",
    "### CuPy and GPU\n",
    "r = x_gpu.dot(y_gpu.T)\n",
    "# cp.cuda.Stream.null.synchronize()"
   ]
  },
  {
   "cell_type": "code",
   "execution_count": 14,
   "id": "69f5a34f",
   "metadata": {},
   "outputs": [],
   "source": [
    "del x_gpu\n",
    "del y_gpu\n",
    "del r"
   ]
  }
 ],
 "metadata": {
  "kernelspec": {
   "display_name": "Python 3",
   "language": "python",
   "name": "python3"
  },
  "language_info": {
   "codemirror_mode": {
    "name": "ipython",
    "version": 3
   },
   "file_extension": ".py",
   "mimetype": "text/x-python",
   "name": "python",
   "nbconvert_exporter": "python",
   "pygments_lexer": "ipython3",
   "version": "3.8.9"
  },
  "toc": {
   "base_numbering": 1,
   "nav_menu": {},
   "number_sections": true,
   "sideBar": true,
   "skip_h1_title": false,
   "title_cell": "Table of Contents",
   "title_sidebar": "Contents",
   "toc_cell": false,
   "toc_position": {},
   "toc_section_display": true,
   "toc_window_display": false
  }
 },
 "nbformat": 4,
 "nbformat_minor": 5
}
