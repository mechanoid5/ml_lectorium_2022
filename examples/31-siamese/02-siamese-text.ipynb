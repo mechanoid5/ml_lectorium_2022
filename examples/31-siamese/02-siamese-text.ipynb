{
 "cells": [
  {
   "cell_type": "markdown",
   "metadata": {},
   "source": [
    "**сиамская сеть, оцениваем схожесть текстов**\n",
    "\n",
    "Евгений Борисов <esborisov@sevsu.ru>"
   ]
  },
  {
   "cell_type": "code",
   "execution_count": 1,
   "metadata": {},
   "outputs": [],
   "source": [
    "import re\n",
    "import numpy as np\n",
    "from numpy import random as rng\n",
    "import pandas as pd\n",
    "from tqdm.notebook import tqdm\n",
    "# import gzip\n",
    "from matplotlib import pyplot as plt"
   ]
  },
  {
   "cell_type": "code",
   "execution_count": 2,
   "metadata": {},
   "outputs": [],
   "source": [
    "pd.options.display.max_colwidth = 200  \n",
    "tqdm.pandas()\n",
    "\n",
    "def pp(d): return \"{:,.0f}\".format(d).replace(\",\", \" \")\n",
    "def ppr(d): print('записей:', pp(len(d)) )  "
   ]
  },
  {
   "cell_type": "markdown",
   "metadata": {},
   "source": [
    "## Данные"
   ]
  },
  {
   "cell_type": "code",
   "execution_count": 3,
   "metadata": {},
   "outputs": [
    {
     "name": "stdout",
     "output_type": "stream",
     "text": [
      "записей: 19 464\n"
     ]
    },
    {
     "data": {
      "text/html": [
       "<div>\n",
       "<style scoped>\n",
       "    .dataframe tbody tr th:only-of-type {\n",
       "        vertical-align: middle;\n",
       "    }\n",
       "\n",
       "    .dataframe tbody tr th {\n",
       "        vertical-align: top;\n",
       "    }\n",
       "\n",
       "    .dataframe thead th {\n",
       "        text-align: right;\n",
       "    }\n",
       "</style>\n",
       "<table border=\"1\" class=\"dataframe\">\n",
       "  <thead>\n",
       "    <tr style=\"text-align: right;\">\n",
       "      <th></th>\n",
       "      <th>Код</th>\n",
       "      <th>Наименование</th>\n",
       "      <th>Комментарий</th>\n",
       "    </tr>\n",
       "  </thead>\n",
       "  <tbody>\n",
       "    <tr>\n",
       "      <th>8749</th>\n",
       "      <td>10.83.13.120</td>\n",
       "      <td>Чай черный (ферментированный) в упаковках массой не более 3 кг</td>\n",
       "      <td>NaN</td>\n",
       "    </tr>\n",
       "    <tr>\n",
       "      <th>7684</th>\n",
       "      <td>08.93.10.110</td>\n",
       "      <td>Соль</td>\n",
       "      <td>NaN</td>\n",
       "    </tr>\n",
       "    <tr>\n",
       "      <th>1065</th>\n",
       "      <td>45.11</td>\n",
       "      <td>Услуги по торговле легковыми автомобилями и грузовыми автомобилями малой грузоподъемности</td>\n",
       "      <td>NaN</td>\n",
       "    </tr>\n",
       "  </tbody>\n",
       "</table>\n",
       "</div>"
      ],
      "text/plain": [
       "               Код  \\\n",
       "8749  10.83.13.120   \n",
       "7684  08.93.10.110   \n",
       "1065         45.11   \n",
       "\n",
       "                                                                                   Наименование  \\\n",
       "8749                             Чай черный (ферментированный) в упаковках массой не более 3 кг   \n",
       "7684                                                                                       Соль   \n",
       "1065  Услуги по торговле легковыми автомобилями и грузовыми автомобилями малой грузоподъемности   \n",
       "\n",
       "     Комментарий  \n",
       "8749         NaN  \n",
       "7684         NaN  \n",
       "1065         NaN  "
      ]
     },
     "execution_count": 3,
     "metadata": {},
     "output_type": "execute_result"
    }
   ],
   "source": [
    "# каталог товаров\n",
    "data = pd.read_excel('../data/text/okpd2.xlsx')\n",
    "ppr(data)\n",
    "data.sample(3)"
   ]
  },
  {
   "cell_type": "code",
   "execution_count": 4,
   "metadata": {},
   "outputs": [],
   "source": [
    "# нумеруем позиции каталога\n",
    "data['id'] = range(len(data))\n",
    "# будем использовать второй уровень каталога (две первые цифры)\n",
    "data['group'] = data['Код'].str[:5]"
   ]
  },
  {
   "cell_type": "code",
   "execution_count": 5,
   "metadata": {},
   "outputs": [
    {
     "data": {
      "text/plain": [
       "count    19464\n",
       "mean        58\n",
       "std         39\n",
       "min          3\n",
       "50%         50\n",
       "95%        130\n",
       "max        540\n",
       "Name: Наименование, dtype: int64"
      ]
     },
     "execution_count": 5,
     "metadata": {},
     "output_type": "execute_result"
    }
   ],
   "source": [
    "# длина описаний в символах\n",
    "data['Наименование'].str.len().describe([.95]).astype(int)"
   ]
  },
  {
   "cell_type": "code",
   "execution_count": 6,
   "metadata": {},
   "outputs": [
    {
     "name": "stdout",
     "output_type": "stream",
     "text": [
      "записей: 9 632\n"
     ]
    },
    {
     "data": {
      "text/html": [
       "<div>\n",
       "<style scoped>\n",
       "    .dataframe tbody tr th:only-of-type {\n",
       "        vertical-align: middle;\n",
       "    }\n",
       "\n",
       "    .dataframe tbody tr th {\n",
       "        vertical-align: top;\n",
       "    }\n",
       "\n",
       "    .dataframe thead th {\n",
       "        text-align: right;\n",
       "    }\n",
       "</style>\n",
       "<table border=\"1\" class=\"dataframe\">\n",
       "  <thead>\n",
       "    <tr style=\"text-align: right;\">\n",
       "      <th></th>\n",
       "      <th>id</th>\n",
       "      <th>group</th>\n",
       "      <th>Наименование</th>\n",
       "    </tr>\n",
       "  </thead>\n",
       "  <tbody>\n",
       "    <tr>\n",
       "      <th>4461</th>\n",
       "      <td>9117</td>\n",
       "      <td>13.10</td>\n",
       "      <td>Пряжа хлопчатобумажная суровая крученая для ткацкого производства прочая</td>\n",
       "    </tr>\n",
       "    <tr>\n",
       "      <th>8458</th>\n",
       "      <td>17262</td>\n",
       "      <td>66.19</td>\n",
       "      <td>Услуги платежных субагентов по приему платежей физических лиц</td>\n",
       "    </tr>\n",
       "    <tr>\n",
       "      <th>2749</th>\n",
       "      <td>5819</td>\n",
       "      <td>79.12</td>\n",
       "      <td>Услуги туроператоров по организации и составлению туров</td>\n",
       "    </tr>\n",
       "  </tbody>\n",
       "</table>\n",
       "</div>"
      ],
      "text/plain": [
       "         id  group  \\\n",
       "4461   9117  13.10   \n",
       "8458  17262  66.19   \n",
       "2749   5819  79.12   \n",
       "\n",
       "                                                                  Наименование  \n",
       "4461  Пряжа хлопчатобумажная суровая крученая для ткацкого производства прочая  \n",
       "8458             Услуги платежных субагентов по приему платежей физических лиц  \n",
       "2749                   Услуги туроператоров по организации и составлению туров  "
      ]
     },
     "execution_count": 6,
     "metadata": {},
     "output_type": "execute_result"
    }
   ],
   "source": [
    "# выкидываем короткие описания и дубликаты\n",
    "data = data[ (data['group'].str.len()==5) & data['Наименование'].str.len().between(30,100) ]\\\n",
    "  .drop_duplicates(['Наименование'])[['id','group','Наименование']]\\\n",
    "  .reset_index(drop=True)\n",
    "\n",
    "ppr(data)\n",
    "data.sample(3)"
   ]
  },
  {
   "cell_type": "code",
   "execution_count": 7,
   "metadata": {},
   "outputs": [
    {
     "name": "stdout",
     "output_type": "stream",
     "text": [
      "записей: 596\n"
     ]
    }
   ],
   "source": [
    "# формируем списки описаний по группам\n",
    "groups =  data[['id','group']].groupby('group')['id'].apply(list).reset_index()\n",
    "ppr(groups)"
   ]
  },
  {
   "cell_type": "code",
   "execution_count": 8,
   "metadata": {},
   "outputs": [
    {
     "data": {
      "text/plain": [
       "count    596\n",
       "mean      16\n",
       "std       24\n",
       "min        1\n",
       "50%        7\n",
       "95%       62\n",
       "max      185\n",
       "Name: id, dtype: int64"
      ]
     },
     "execution_count": 8,
     "metadata": {},
     "output_type": "execute_result"
    }
   ],
   "source": [
    "# количество описаний в группах\n",
    "groups['id'].str.len().describe([.95]).astype(int)"
   ]
  },
  {
   "cell_type": "code",
   "execution_count": 9,
   "metadata": {},
   "outputs": [
    {
     "name": "stdout",
     "output_type": "stream",
     "text": [
      "записей: 596\n",
      "записей: 227\n"
     ]
    }
   ],
   "source": [
    "# выкидываем группы с малым количеством описаний, обрезаем большие списки\n",
    "n_samples = 10\n",
    "\n",
    "ppr(groups)\n",
    "groups = groups[ groups['id'].str.len()> n_samples ].reset_index(drop=True)\n",
    "ppr(groups)\n",
    "groups['id'] = groups['id'].apply(rng.permutation).str[:n_samples]"
   ]
  },
  {
   "cell_type": "code",
   "execution_count": 10,
   "metadata": {},
   "outputs": [],
   "source": [
    "# похожие примеры\n",
    "groups['id_eq'] = groups['id'].apply(rng.permutation)"
   ]
  },
  {
   "cell_type": "code",
   "execution_count": 11,
   "metadata": {},
   "outputs": [
    {
     "data": {
      "text/html": [
       "<div>\n",
       "<style scoped>\n",
       "    .dataframe tbody tr th:only-of-type {\n",
       "        vertical-align: middle;\n",
       "    }\n",
       "\n",
       "    .dataframe tbody tr th {\n",
       "        vertical-align: top;\n",
       "    }\n",
       "\n",
       "    .dataframe thead th {\n",
       "        text-align: right;\n",
       "    }\n",
       "</style>\n",
       "<table border=\"1\" class=\"dataframe\">\n",
       "  <thead>\n",
       "    <tr style=\"text-align: right;\">\n",
       "      <th></th>\n",
       "      <th>group</th>\n",
       "      <th>id</th>\n",
       "      <th>id_eq</th>\n",
       "    </tr>\n",
       "  </thead>\n",
       "  <tbody>\n",
       "    <tr>\n",
       "      <th>0</th>\n",
       "      <td>01.11</td>\n",
       "      <td>[6143, 6145, 6083, 2827, 6119, 2847, 6069, 6060, 742, 1364]</td>\n",
       "      <td>[6069, 6083, 6119, 6060, 6145, 2827, 6143, 742, 2847, 1364]</td>\n",
       "    </tr>\n",
       "    <tr>\n",
       "      <th>1</th>\n",
       "      <td>01.13</td>\n",
       "      <td>[1373, 1375, 2863, 1376, 6225, 6207, 6227, 2874, 6228, 6237]</td>\n",
       "      <td>[2874, 1375, 1373, 6228, 2863, 1376, 6207, 6225, 6227, 6237]</td>\n",
       "    </tr>\n",
       "    <tr>\n",
       "      <th>2</th>\n",
       "      <td>01.15</td>\n",
       "      <td>[18165, 18168, 18178, 18169, 6245, 6248, 18164, 18166, 18171, 6246]</td>\n",
       "      <td>[6246, 6245, 18168, 18169, 6248, 18164, 18166, 18165, 18171, 18178]</td>\n",
       "    </tr>\n",
       "    <tr>\n",
       "      <th>3</th>\n",
       "      <td>01.16</td>\n",
       "      <td>[6258, 6253, 6270, 6249, 6259, 6264, 6272, 6271, 6269, 747]</td>\n",
       "      <td>[6269, 6270, 6253, 6264, 6259, 6258, 747, 6272, 6271, 6249]</td>\n",
       "    </tr>\n",
       "    <tr>\n",
       "      <th>4</th>\n",
       "      <td>01.19</td>\n",
       "      <td>[6297, 6289, 2891, 2893, 6276, 1384, 6288, 6283, 6287, 6273]</td>\n",
       "      <td>[1384, 6287, 6276, 6283, 6288, 6297, 6289, 2893, 6273, 2891]</td>\n",
       "    </tr>\n",
       "    <tr>\n",
       "      <th>...</th>\n",
       "      <td>...</td>\n",
       "      <td>...</td>\n",
       "      <td>...</td>\n",
       "    </tr>\n",
       "    <tr>\n",
       "      <th>222</th>\n",
       "      <td>95.29</td>\n",
       "      <td>[19278, 19300, 2815, 19285, 19272, 19318, 19266, 19287, 19262, 19321]</td>\n",
       "      <td>[19266, 19300, 19278, 19318, 19272, 19321, 19262, 19287, 19285, 2815]</td>\n",
       "    </tr>\n",
       "    <tr>\n",
       "      <th>223</th>\n",
       "      <td>96.01</td>\n",
       "      <td>[19341, 19351, 19343, 19372, 19376, 19398, 19371, 19324, 19381, 19357]</td>\n",
       "      <td>[19372, 19343, 19398, 19351, 19376, 19357, 19371, 19381, 19341, 19324]</td>\n",
       "    </tr>\n",
       "    <tr>\n",
       "      <th>224</th>\n",
       "      <td>96.02</td>\n",
       "      <td>[6025, 6027, 1353, 2817, 2818, 19415, 19410, 6026, 19414, 19412]</td>\n",
       "      <td>[6026, 2817, 19410, 1353, 2818, 19412, 6027, 19415, 6025, 19414]</td>\n",
       "    </tr>\n",
       "    <tr>\n",
       "      <th>225</th>\n",
       "      <td>96.03</td>\n",
       "      <td>[19435, 19439, 19441, 19434, 19432, 19425, 19430, 1354, 19440, 19424]</td>\n",
       "      <td>[19430, 19424, 19439, 19435, 19432, 1354, 19434, 19440, 19425, 19441]</td>\n",
       "    </tr>\n",
       "    <tr>\n",
       "      <th>226</th>\n",
       "      <td>96.09</td>\n",
       "      <td>[19453, 19460, 19456, 19455, 19449, 6036, 19462, 19450, 19452, 19458]</td>\n",
       "      <td>[19460, 19453, 19458, 19449, 19462, 19455, 19456, 19452, 6036, 19450]</td>\n",
       "    </tr>\n",
       "  </tbody>\n",
       "</table>\n",
       "<p>227 rows × 3 columns</p>\n",
       "</div>"
      ],
      "text/plain": [
       "     group  \\\n",
       "0    01.11   \n",
       "1    01.13   \n",
       "2    01.15   \n",
       "3    01.16   \n",
       "4    01.19   \n",
       "..     ...   \n",
       "222  95.29   \n",
       "223  96.01   \n",
       "224  96.02   \n",
       "225  96.03   \n",
       "226  96.09   \n",
       "\n",
       "                                                                         id  \\\n",
       "0               [6143, 6145, 6083, 2827, 6119, 2847, 6069, 6060, 742, 1364]   \n",
       "1              [1373, 1375, 2863, 1376, 6225, 6207, 6227, 2874, 6228, 6237]   \n",
       "2       [18165, 18168, 18178, 18169, 6245, 6248, 18164, 18166, 18171, 6246]   \n",
       "3               [6258, 6253, 6270, 6249, 6259, 6264, 6272, 6271, 6269, 747]   \n",
       "4              [6297, 6289, 2891, 2893, 6276, 1384, 6288, 6283, 6287, 6273]   \n",
       "..                                                                      ...   \n",
       "222   [19278, 19300, 2815, 19285, 19272, 19318, 19266, 19287, 19262, 19321]   \n",
       "223  [19341, 19351, 19343, 19372, 19376, 19398, 19371, 19324, 19381, 19357]   \n",
       "224        [6025, 6027, 1353, 2817, 2818, 19415, 19410, 6026, 19414, 19412]   \n",
       "225   [19435, 19439, 19441, 19434, 19432, 19425, 19430, 1354, 19440, 19424]   \n",
       "226   [19453, 19460, 19456, 19455, 19449, 6036, 19462, 19450, 19452, 19458]   \n",
       "\n",
       "                                                                      id_eq  \n",
       "0               [6069, 6083, 6119, 6060, 6145, 2827, 6143, 742, 2847, 1364]  \n",
       "1              [2874, 1375, 1373, 6228, 2863, 1376, 6207, 6225, 6227, 6237]  \n",
       "2       [6246, 6245, 18168, 18169, 6248, 18164, 18166, 18165, 18171, 18178]  \n",
       "3               [6269, 6270, 6253, 6264, 6259, 6258, 747, 6272, 6271, 6249]  \n",
       "4              [1384, 6287, 6276, 6283, 6288, 6297, 6289, 2893, 6273, 2891]  \n",
       "..                                                                      ...  \n",
       "222   [19266, 19300, 19278, 19318, 19272, 19321, 19262, 19287, 19285, 2815]  \n",
       "223  [19372, 19343, 19398, 19351, 19376, 19357, 19371, 19381, 19341, 19324]  \n",
       "224        [6026, 2817, 19410, 1353, 2818, 19412, 6027, 19415, 6025, 19414]  \n",
       "225   [19430, 19424, 19439, 19435, 19432, 1354, 19434, 19440, 19425, 19441]  \n",
       "226   [19460, 19453, 19458, 19449, 19462, 19455, 19456, 19452, 6036, 19450]  \n",
       "\n",
       "[227 rows x 3 columns]"
      ]
     },
     "execution_count": 11,
     "metadata": {},
     "output_type": "execute_result"
    }
   ],
   "source": [
    "groups"
   ]
  },
  {
   "cell_type": "code",
   "execution_count": 12,
   "metadata": {},
   "outputs": [
    {
     "data": {
      "text/html": [
       "<div>\n",
       "<style scoped>\n",
       "    .dataframe tbody tr th:only-of-type {\n",
       "        vertical-align: middle;\n",
       "    }\n",
       "\n",
       "    .dataframe tbody tr th {\n",
       "        vertical-align: top;\n",
       "    }\n",
       "\n",
       "    .dataframe thead th {\n",
       "        text-align: right;\n",
       "    }\n",
       "</style>\n",
       "<table border=\"1\" class=\"dataframe\">\n",
       "  <thead>\n",
       "    <tr style=\"text-align: right;\">\n",
       "      <th></th>\n",
       "      <th>group</th>\n",
       "      <th>group_neq</th>\n",
       "      <th>id_neq</th>\n",
       "    </tr>\n",
       "  </thead>\n",
       "  <tbody>\n",
       "    <tr>\n",
       "      <th>0</th>\n",
       "      <td>01.11</td>\n",
       "      <td>42.22</td>\n",
       "      <td>[109, 110, 18857, 111, 108, 18858, 2297, 18854, 4936, 4931]</td>\n",
       "    </tr>\n",
       "    <tr>\n",
       "      <th>1</th>\n",
       "      <td>01.13</td>\n",
       "      <td>25.30</td>\n",
       "      <td>[18598, 18584, 18592, 18580, 18585, 12951, 18591, 12933, 12961, 18594]</td>\n",
       "    </tr>\n",
       "    <tr>\n",
       "      <th>2</th>\n",
       "      <td>01.15</td>\n",
       "      <td>17.23</td>\n",
       "      <td>[10589, 10595, 10599, 10600, 10598, 10594, 10588, 10601, 10606, 10603]</td>\n",
       "    </tr>\n",
       "    <tr>\n",
       "      <th>3</th>\n",
       "      <td>01.16</td>\n",
       "      <td>26.51</td>\n",
       "      <td>[13437, 13473, 13431, 13495, 13508, 13499, 18660, 13440, 13543, 18658]</td>\n",
       "    </tr>\n",
       "    <tr>\n",
       "      <th>4</th>\n",
       "      <td>01.19</td>\n",
       "      <td>02.10</td>\n",
       "      <td>[6765, 6788, 6784, 2994, 6778, 6756, 6767, 6749, 6785, 6746]</td>\n",
       "    </tr>\n",
       "    <tr>\n",
       "      <th>...</th>\n",
       "      <td>...</td>\n",
       "      <td>...</td>\n",
       "      <td>...</td>\n",
       "    </tr>\n",
       "    <tr>\n",
       "      <th>222</th>\n",
       "      <td>95.29</td>\n",
       "      <td>14.11</td>\n",
       "      <td>[9604, 9597, 9610, 1616, 9605, 9607, 9606, 9611, 9599, 9598]</td>\n",
       "    </tr>\n",
       "    <tr>\n",
       "      <th>223</th>\n",
       "      <td>96.01</td>\n",
       "      <td>30.30</td>\n",
       "      <td>[15188, 4660, 15192, 4658, 15185, 4659, 15202, 999, 4668, 4663]</td>\n",
       "    </tr>\n",
       "    <tr>\n",
       "      <th>224</th>\n",
       "      <td>96.02</td>\n",
       "      <td>25.71</td>\n",
       "      <td>[13031, 13025, 1940, 943, 13033, 4102, 4101, 13022, 4103, 13032]</td>\n",
       "    </tr>\n",
       "    <tr>\n",
       "      <th>225</th>\n",
       "      <td>96.03</td>\n",
       "      <td>59.20</td>\n",
       "      <td>[5477, 2585, 17042, 17058, 17035, 17059, 17056, 17034, 17047, 2587]</td>\n",
       "    </tr>\n",
       "    <tr>\n",
       "      <th>226</th>\n",
       "      <td>96.09</td>\n",
       "      <td>38.32</td>\n",
       "      <td>[16034, 16069, 4892, 16042, 16054, 16062, 16027, 16032, 16041, 16047]</td>\n",
       "    </tr>\n",
       "  </tbody>\n",
       "</table>\n",
       "<p>227 rows × 3 columns</p>\n",
       "</div>"
      ],
      "text/plain": [
       "     group group_neq  \\\n",
       "0    01.11     42.22   \n",
       "1    01.13     25.30   \n",
       "2    01.15     17.23   \n",
       "3    01.16     26.51   \n",
       "4    01.19     02.10   \n",
       "..     ...       ...   \n",
       "222  95.29     14.11   \n",
       "223  96.01     30.30   \n",
       "224  96.02     25.71   \n",
       "225  96.03     59.20   \n",
       "226  96.09     38.32   \n",
       "\n",
       "                                                                     id_neq  \n",
       "0               [109, 110, 18857, 111, 108, 18858, 2297, 18854, 4936, 4931]  \n",
       "1    [18598, 18584, 18592, 18580, 18585, 12951, 18591, 12933, 12961, 18594]  \n",
       "2    [10589, 10595, 10599, 10600, 10598, 10594, 10588, 10601, 10606, 10603]  \n",
       "3    [13437, 13473, 13431, 13495, 13508, 13499, 18660, 13440, 13543, 18658]  \n",
       "4              [6765, 6788, 6784, 2994, 6778, 6756, 6767, 6749, 6785, 6746]  \n",
       "..                                                                      ...  \n",
       "222            [9604, 9597, 9610, 1616, 9605, 9607, 9606, 9611, 9599, 9598]  \n",
       "223         [15188, 4660, 15192, 4658, 15185, 4659, 15202, 999, 4668, 4663]  \n",
       "224        [13031, 13025, 1940, 943, 13033, 4102, 4101, 13022, 4103, 13032]  \n",
       "225     [5477, 2585, 17042, 17058, 17035, 17059, 17056, 17034, 17047, 2587]  \n",
       "226   [16034, 16069, 4892, 16042, 16054, 16062, 16027, 16032, 16041, 16047]  \n",
       "\n",
       "[227 rows x 3 columns]"
      ]
     },
     "execution_count": 12,
     "metadata": {},
     "output_type": "execute_result"
    }
   ],
   "source": [
    "# непохожие примеры\n",
    "\n",
    "# пары из разных групп\n",
    "groups_ = groups[['group']].reset_index(drop=True)\n",
    "groups_['group_neq'] = rng.permutation(groups['group'])\n",
    "groups_ = groups_.query('group!=group_neq')\n",
    "\n",
    "groups_ = groups_.merge( groups[['group','id']]\\\n",
    "                          .rename(columns={'group':'group_neq','id':'id_neq'}), \n",
    "                        on=['group_neq'])\n",
    "\n",
    "groups_['id_neq'] = groups_['id_neq'].apply(rng.permutation)\n",
    "\n",
    "# groups[['group','id']].rename(columns={'group':'group_neq','id':'id_neq'})\n",
    "\n",
    "groups_"
   ]
  },
  {
   "cell_type": "code",
   "execution_count": 13,
   "metadata": {},
   "outputs": [
    {
     "data": {
      "text/html": [
       "<div>\n",
       "<style scoped>\n",
       "    .dataframe tbody tr th:only-of-type {\n",
       "        vertical-align: middle;\n",
       "    }\n",
       "\n",
       "    .dataframe tbody tr th {\n",
       "        vertical-align: top;\n",
       "    }\n",
       "\n",
       "    .dataframe thead th {\n",
       "        text-align: right;\n",
       "    }\n",
       "</style>\n",
       "<table border=\"1\" class=\"dataframe\">\n",
       "  <thead>\n",
       "    <tr style=\"text-align: right;\">\n",
       "      <th></th>\n",
       "      <th>group</th>\n",
       "      <th>id</th>\n",
       "      <th>id_eq</th>\n",
       "      <th>id_neq</th>\n",
       "    </tr>\n",
       "  </thead>\n",
       "  <tbody>\n",
       "    <tr>\n",
       "      <th>0</th>\n",
       "      <td>01.11</td>\n",
       "      <td>[6143, 6145, 6083, 2827, 6119, 2847, 6069, 6060, 742, 1364]</td>\n",
       "      <td>[6069, 6083, 6119, 6060, 6145, 2827, 6143, 742, 2847, 1364]</td>\n",
       "      <td>[109, 110, 18857, 111, 108, 18858, 2297, 18854, 4936, 4931]</td>\n",
       "    </tr>\n",
       "    <tr>\n",
       "      <th>1</th>\n",
       "      <td>01.13</td>\n",
       "      <td>[1373, 1375, 2863, 1376, 6225, 6207, 6227, 2874, 6228, 6237]</td>\n",
       "      <td>[2874, 1375, 1373, 6228, 2863, 1376, 6207, 6225, 6227, 6237]</td>\n",
       "      <td>[18598, 18584, 18592, 18580, 18585, 12951, 18591, 12933, 12961, 18594]</td>\n",
       "    </tr>\n",
       "    <tr>\n",
       "      <th>2</th>\n",
       "      <td>01.15</td>\n",
       "      <td>[18165, 18168, 18178, 18169, 6245, 6248, 18164, 18166, 18171, 6246]</td>\n",
       "      <td>[6246, 6245, 18168, 18169, 6248, 18164, 18166, 18165, 18171, 18178]</td>\n",
       "      <td>[10589, 10595, 10599, 10600, 10598, 10594, 10588, 10601, 10606, 10603]</td>\n",
       "    </tr>\n",
       "    <tr>\n",
       "      <th>3</th>\n",
       "      <td>01.16</td>\n",
       "      <td>[6258, 6253, 6270, 6249, 6259, 6264, 6272, 6271, 6269, 747]</td>\n",
       "      <td>[6269, 6270, 6253, 6264, 6259, 6258, 747, 6272, 6271, 6249]</td>\n",
       "      <td>[13437, 13473, 13431, 13495, 13508, 13499, 18660, 13440, 13543, 18658]</td>\n",
       "    </tr>\n",
       "    <tr>\n",
       "      <th>4</th>\n",
       "      <td>01.19</td>\n",
       "      <td>[6297, 6289, 2891, 2893, 6276, 1384, 6288, 6283, 6287, 6273]</td>\n",
       "      <td>[1384, 6287, 6276, 6283, 6288, 6297, 6289, 2893, 6273, 2891]</td>\n",
       "      <td>[6765, 6788, 6784, 2994, 6778, 6756, 6767, 6749, 6785, 6746]</td>\n",
       "    </tr>\n",
       "    <tr>\n",
       "      <th>...</th>\n",
       "      <td>...</td>\n",
       "      <td>...</td>\n",
       "      <td>...</td>\n",
       "      <td>...</td>\n",
       "    </tr>\n",
       "    <tr>\n",
       "      <th>222</th>\n",
       "      <td>95.29</td>\n",
       "      <td>[19278, 19300, 2815, 19285, 19272, 19318, 19266, 19287, 19262, 19321]</td>\n",
       "      <td>[19266, 19300, 19278, 19318, 19272, 19321, 19262, 19287, 19285, 2815]</td>\n",
       "      <td>[9604, 9597, 9610, 1616, 9605, 9607, 9606, 9611, 9599, 9598]</td>\n",
       "    </tr>\n",
       "    <tr>\n",
       "      <th>223</th>\n",
       "      <td>96.01</td>\n",
       "      <td>[19341, 19351, 19343, 19372, 19376, 19398, 19371, 19324, 19381, 19357]</td>\n",
       "      <td>[19372, 19343, 19398, 19351, 19376, 19357, 19371, 19381, 19341, 19324]</td>\n",
       "      <td>[15188, 4660, 15192, 4658, 15185, 4659, 15202, 999, 4668, 4663]</td>\n",
       "    </tr>\n",
       "    <tr>\n",
       "      <th>224</th>\n",
       "      <td>96.02</td>\n",
       "      <td>[6025, 6027, 1353, 2817, 2818, 19415, 19410, 6026, 19414, 19412]</td>\n",
       "      <td>[6026, 2817, 19410, 1353, 2818, 19412, 6027, 19415, 6025, 19414]</td>\n",
       "      <td>[13031, 13025, 1940, 943, 13033, 4102, 4101, 13022, 4103, 13032]</td>\n",
       "    </tr>\n",
       "    <tr>\n",
       "      <th>225</th>\n",
       "      <td>96.03</td>\n",
       "      <td>[19435, 19439, 19441, 19434, 19432, 19425, 19430, 1354, 19440, 19424]</td>\n",
       "      <td>[19430, 19424, 19439, 19435, 19432, 1354, 19434, 19440, 19425, 19441]</td>\n",
       "      <td>[5477, 2585, 17042, 17058, 17035, 17059, 17056, 17034, 17047, 2587]</td>\n",
       "    </tr>\n",
       "    <tr>\n",
       "      <th>226</th>\n",
       "      <td>96.09</td>\n",
       "      <td>[19453, 19460, 19456, 19455, 19449, 6036, 19462, 19450, 19452, 19458]</td>\n",
       "      <td>[19460, 19453, 19458, 19449, 19462, 19455, 19456, 19452, 6036, 19450]</td>\n",
       "      <td>[16034, 16069, 4892, 16042, 16054, 16062, 16027, 16032, 16041, 16047]</td>\n",
       "    </tr>\n",
       "  </tbody>\n",
       "</table>\n",
       "<p>227 rows × 4 columns</p>\n",
       "</div>"
      ],
      "text/plain": [
       "     group  \\\n",
       "0    01.11   \n",
       "1    01.13   \n",
       "2    01.15   \n",
       "3    01.16   \n",
       "4    01.19   \n",
       "..     ...   \n",
       "222  95.29   \n",
       "223  96.01   \n",
       "224  96.02   \n",
       "225  96.03   \n",
       "226  96.09   \n",
       "\n",
       "                                                                         id  \\\n",
       "0               [6143, 6145, 6083, 2827, 6119, 2847, 6069, 6060, 742, 1364]   \n",
       "1              [1373, 1375, 2863, 1376, 6225, 6207, 6227, 2874, 6228, 6237]   \n",
       "2       [18165, 18168, 18178, 18169, 6245, 6248, 18164, 18166, 18171, 6246]   \n",
       "3               [6258, 6253, 6270, 6249, 6259, 6264, 6272, 6271, 6269, 747]   \n",
       "4              [6297, 6289, 2891, 2893, 6276, 1384, 6288, 6283, 6287, 6273]   \n",
       "..                                                                      ...   \n",
       "222   [19278, 19300, 2815, 19285, 19272, 19318, 19266, 19287, 19262, 19321]   \n",
       "223  [19341, 19351, 19343, 19372, 19376, 19398, 19371, 19324, 19381, 19357]   \n",
       "224        [6025, 6027, 1353, 2817, 2818, 19415, 19410, 6026, 19414, 19412]   \n",
       "225   [19435, 19439, 19441, 19434, 19432, 19425, 19430, 1354, 19440, 19424]   \n",
       "226   [19453, 19460, 19456, 19455, 19449, 6036, 19462, 19450, 19452, 19458]   \n",
       "\n",
       "                                                                      id_eq  \\\n",
       "0               [6069, 6083, 6119, 6060, 6145, 2827, 6143, 742, 2847, 1364]   \n",
       "1              [2874, 1375, 1373, 6228, 2863, 1376, 6207, 6225, 6227, 6237]   \n",
       "2       [6246, 6245, 18168, 18169, 6248, 18164, 18166, 18165, 18171, 18178]   \n",
       "3               [6269, 6270, 6253, 6264, 6259, 6258, 747, 6272, 6271, 6249]   \n",
       "4              [1384, 6287, 6276, 6283, 6288, 6297, 6289, 2893, 6273, 2891]   \n",
       "..                                                                      ...   \n",
       "222   [19266, 19300, 19278, 19318, 19272, 19321, 19262, 19287, 19285, 2815]   \n",
       "223  [19372, 19343, 19398, 19351, 19376, 19357, 19371, 19381, 19341, 19324]   \n",
       "224        [6026, 2817, 19410, 1353, 2818, 19412, 6027, 19415, 6025, 19414]   \n",
       "225   [19430, 19424, 19439, 19435, 19432, 1354, 19434, 19440, 19425, 19441]   \n",
       "226   [19460, 19453, 19458, 19449, 19462, 19455, 19456, 19452, 6036, 19450]   \n",
       "\n",
       "                                                                     id_neq  \n",
       "0               [109, 110, 18857, 111, 108, 18858, 2297, 18854, 4936, 4931]  \n",
       "1    [18598, 18584, 18592, 18580, 18585, 12951, 18591, 12933, 12961, 18594]  \n",
       "2    [10589, 10595, 10599, 10600, 10598, 10594, 10588, 10601, 10606, 10603]  \n",
       "3    [13437, 13473, 13431, 13495, 13508, 13499, 18660, 13440, 13543, 18658]  \n",
       "4              [6765, 6788, 6784, 2994, 6778, 6756, 6767, 6749, 6785, 6746]  \n",
       "..                                                                      ...  \n",
       "222            [9604, 9597, 9610, 1616, 9605, 9607, 9606, 9611, 9599, 9598]  \n",
       "223         [15188, 4660, 15192, 4658, 15185, 4659, 15202, 999, 4668, 4663]  \n",
       "224        [13031, 13025, 1940, 943, 13033, 4102, 4101, 13022, 4103, 13032]  \n",
       "225     [5477, 2585, 17042, 17058, 17035, 17059, 17056, 17034, 17047, 2587]  \n",
       "226   [16034, 16069, 4892, 16042, 16054, 16062, 16027, 16032, 16041, 16047]  \n",
       "\n",
       "[227 rows x 4 columns]"
      ]
     },
     "execution_count": 13,
     "metadata": {},
     "output_type": "execute_result"
    }
   ],
   "source": [
    "# группа, описания, похожие описания, непохожие описания\n",
    "groups = groups.merge( groups_[['group','id_neq']], on=['group'] )\n",
    "groups"
   ]
  },
  {
   "cell_type": "code",
   "execution_count": 14,
   "metadata": {},
   "outputs": [
    {
     "name": "stdout",
     "output_type": "stream",
     "text": [
      "записей: 2 270\n"
     ]
    },
    {
     "data": {
      "text/html": [
       "<div>\n",
       "<style scoped>\n",
       "    .dataframe tbody tr th:only-of-type {\n",
       "        vertical-align: middle;\n",
       "    }\n",
       "\n",
       "    .dataframe tbody tr th {\n",
       "        vertical-align: top;\n",
       "    }\n",
       "\n",
       "    .dataframe thead th {\n",
       "        text-align: right;\n",
       "    }\n",
       "</style>\n",
       "<table border=\"1\" class=\"dataframe\">\n",
       "  <thead>\n",
       "    <tr style=\"text-align: right;\">\n",
       "      <th></th>\n",
       "      <th>id</th>\n",
       "      <th>id_eq</th>\n",
       "      <th>id_neq</th>\n",
       "    </tr>\n",
       "  </thead>\n",
       "  <tbody>\n",
       "    <tr>\n",
       "      <th>208</th>\n",
       "      <td>5746</td>\n",
       "      <td>5751</td>\n",
       "      <td>14897</td>\n",
       "    </tr>\n",
       "    <tr>\n",
       "      <th>95</th>\n",
       "      <td>12342</td>\n",
       "      <td>12338</td>\n",
       "      <td>17700</td>\n",
       "    </tr>\n",
       "    <tr>\n",
       "      <th>186</th>\n",
       "      <td>16748</td>\n",
       "      <td>16751</td>\n",
       "      <td>18616</td>\n",
       "    </tr>\n",
       "  </tbody>\n",
       "</table>\n",
       "</div>"
      ],
      "text/plain": [
       "        id  id_eq id_neq\n",
       "208   5746   5751  14897\n",
       "95   12342  12338  17700\n",
       "186  16748  16751  18616"
      ]
     },
     "execution_count": 14,
     "metadata": {},
     "output_type": "execute_result"
    }
   ],
   "source": [
    "# разворачиваем в список пар\n",
    "groups = pd.DataFrame({'id':groups['id'].explode(), \n",
    "              'id_eq':groups['id_eq'].explode(),\n",
    "              'id_neq':groups['id_neq'].explode()})\n",
    "ppr(groups)\n",
    "groups.sample(3)"
   ]
  },
  {
   "cell_type": "code",
   "execution_count": 15,
   "metadata": {},
   "outputs": [
    {
     "data": {
      "text/html": [
       "<div>\n",
       "<style scoped>\n",
       "    .dataframe tbody tr th:only-of-type {\n",
       "        vertical-align: middle;\n",
       "    }\n",
       "\n",
       "    .dataframe tbody tr th {\n",
       "        vertical-align: top;\n",
       "    }\n",
       "\n",
       "    .dataframe thead th {\n",
       "        text-align: right;\n",
       "    }\n",
       "</style>\n",
       "<table border=\"1\" class=\"dataframe\">\n",
       "  <thead>\n",
       "    <tr style=\"text-align: right;\">\n",
       "      <th></th>\n",
       "      <th>id_L</th>\n",
       "      <th>id_R</th>\n",
       "      <th>target</th>\n",
       "    </tr>\n",
       "  </thead>\n",
       "  <tbody>\n",
       "    <tr>\n",
       "      <th>137</th>\n",
       "      <td>2074</td>\n",
       "      <td>2075</td>\n",
       "      <td>1</td>\n",
       "    </tr>\n",
       "    <tr>\n",
       "      <th>9</th>\n",
       "      <td>6746</td>\n",
       "      <td>5094</td>\n",
       "      <td>0</td>\n",
       "    </tr>\n",
       "    <tr>\n",
       "      <th>41</th>\n",
       "      <td>18384</td>\n",
       "      <td>12503</td>\n",
       "      <td>0</td>\n",
       "    </tr>\n",
       "  </tbody>\n",
       "</table>\n",
       "</div>"
      ],
      "text/plain": [
       "      id_L   id_R  target\n",
       "137   2074   2075       1\n",
       "9     6746   5094       0\n",
       "41   18384  12503       0"
      ]
     },
     "execution_count": 15,
     "metadata": {},
     "output_type": "execute_result"
    }
   ],
   "source": [
    "# формируем датасет\n",
    "pair = groups[['id','id_eq']].rename(columns={'id':'id_L','id_eq':'id_R'})\n",
    "pair['target'] = 1\n",
    "pair = pd.concat([ pair, groups[['id','id_neq']]\\\n",
    "           .rename(columns={'id':'id_L','id_neq':'id_R'}) ])\\\n",
    "           .fillna(0).astype(int)\n",
    "\n",
    "pair.sample(3)"
   ]
  },
  {
   "cell_type": "code",
   "execution_count": 16,
   "metadata": {},
   "outputs": [],
   "source": [
    "%xdel groups\n",
    "%xdel groups_"
   ]
  },
  {
   "cell_type": "markdown",
   "metadata": {},
   "source": [
    "## очистка данных"
   ]
  },
  {
   "cell_type": "code",
   "execution_count": 17,
   "metadata": {},
   "outputs": [],
   "source": [
    "# data['ttext_clean'] = data['ttext']\\\n",
    "#     .progress_apply(lambda t:[ w.strip() for w in t.split() if w.strip() ] )\\\n",
    "#     .progress_apply(lambda t:[ re.sub(r'^http.*',' url ', w.strip() ) for w in t ] )\\\n",
    "#     .progress_apply(lambda t:[ re.sub(r'[:;]-*[)D]',' happysmile ', w.strip() )for w in t ])\\\n",
    "#     .progress_apply(lambda t:[ re.sub(r'\\)\\)\\)*',' happysmile ', w.strip() ) for w in t ])\\\n",
    "#     .progress_apply(lambda t:[ re.sub(r'[:;]\\*',' kisssmile ', w.strip() ) for w in t ])\\\n",
    "#     .progress_apply(lambda t:[ re.sub(r':\\(',' sadsmile ', w.strip() ) for w in t ])\\\n",
    "#     .progress_apply(lambda t:[ re.sub(r'\\(\\(\\(*',' sadsmile ', w.strip() ) for w in t ])"
   ]
  },
  {
   "cell_type": "code",
   "execution_count": 18,
   "metadata": {},
   "outputs": [],
   "source": [
    "# data['ttext_clean'] = [ ' '.join(s) for s in data['ttext_clean'] ]"
   ]
  },
  {
   "cell_type": "code",
   "execution_count": 19,
   "metadata": {},
   "outputs": [
    {
     "data": {
      "application/vnd.jupyter.widget-view+json": {
       "model_id": "866e1e620ac843bf82af00304b0e59b4",
       "version_major": 2,
       "version_minor": 0
      },
      "text/plain": [
       "  0%|          | 0/9632 [00:00<?, ?it/s]"
      ]
     },
     "metadata": {},
     "output_type": "display_data"
    },
    {
     "data": {
      "application/vnd.jupyter.widget-view+json": {
       "model_id": "a7f56d28fbb24cec86b4279713b38c23",
       "version_major": 2,
       "version_minor": 0
      },
      "text/plain": [
       "  0%|          | 0/9632 [00:00<?, ?it/s]"
      ]
     },
     "metadata": {},
     "output_type": "display_data"
    },
    {
     "data": {
      "application/vnd.jupyter.widget-view+json": {
       "model_id": "9c9381dfeb204a13b9aab819e56ec030",
       "version_major": 2,
       "version_minor": 0
      },
      "text/plain": [
       "  0%|          | 0/9632 [00:00<?, ?it/s]"
      ]
     },
     "metadata": {},
     "output_type": "display_data"
    },
    {
     "data": {
      "application/vnd.jupyter.widget-view+json": {
       "model_id": "c9141d31c0644caa8d7600919141ac01",
       "version_major": 2,
       "version_minor": 0
      },
      "text/plain": [
       "  0%|          | 0/9632 [00:00<?, ?it/s]"
      ]
     },
     "metadata": {},
     "output_type": "display_data"
    },
    {
     "data": {
      "application/vnd.jupyter.widget-view+json": {
       "model_id": "b0a41d2593764109bd0a96efcb644f95",
       "version_major": 2,
       "version_minor": 0
      },
      "text/plain": [
       "  0%|          | 0/9632 [00:00<?, ?it/s]"
      ]
     },
     "metadata": {},
     "output_type": "display_data"
    }
   ],
   "source": [
    "data['ttext_clean'] = data['Наименование'].str.lower()\\\n",
    "    .progress_apply(lambda s: re.sub( r'\\W', ' ', s))\\\n",
    "    .progress_apply(lambda s: re.sub( r'_', ' ', s))\\\n",
    "    .progress_apply(lambda s: re.sub( r'\\b\\d+\\b', ' digit ', s))\\\n",
    "    .progress_apply(lambda t:[ w.strip() for w in t.split() if w.strip() ] )\\\n",
    "    .progress_apply(lambda t: [w for w in t if not re.match( r'\\b.*\\d+.*\\b', w) ])"
   ]
  },
  {
   "cell_type": "code",
   "execution_count": 20,
   "metadata": {},
   "outputs": [
    {
     "data": {
      "text/html": [
       "<div>\n",
       "<style scoped>\n",
       "    .dataframe tbody tr th:only-of-type {\n",
       "        vertical-align: middle;\n",
       "    }\n",
       "\n",
       "    .dataframe tbody tr th {\n",
       "        vertical-align: top;\n",
       "    }\n",
       "\n",
       "    .dataframe thead th {\n",
       "        text-align: right;\n",
       "    }\n",
       "</style>\n",
       "<table border=\"1\" class=\"dataframe\">\n",
       "  <thead>\n",
       "    <tr style=\"text-align: right;\">\n",
       "      <th></th>\n",
       "      <th>id</th>\n",
       "      <th>group</th>\n",
       "      <th>Наименование</th>\n",
       "      <th>ttext_clean</th>\n",
       "    </tr>\n",
       "  </thead>\n",
       "  <tbody>\n",
       "    <tr>\n",
       "      <th>145</th>\n",
       "      <td>231</td>\n",
       "      <td>11.02</td>\n",
       "      <td>Сусло виноградное консервированное</td>\n",
       "      <td>[сусло, виноградное, консервированное]</td>\n",
       "    </tr>\n",
       "    <tr>\n",
       "      <th>5195</th>\n",
       "      <td>10156</td>\n",
       "      <td>15.11</td>\n",
       "      <td>Шкурки хоря пушно-меховые выделанные целые и их части или обрезки, собранные</td>\n",
       "      <td>[шкурки, хоря, пушно, меховые, выделанные, целые, и, их, части, или, обрезки, собранные]</td>\n",
       "    </tr>\n",
       "    <tr>\n",
       "      <th>8018</th>\n",
       "      <td>16080</td>\n",
       "      <td>38.32</td>\n",
       "      <td>Лом и отходы тантала и его сплавов</td>\n",
       "      <td>[лом, и, отходы, тантала, и, его, сплавов]</td>\n",
       "    </tr>\n",
       "  </tbody>\n",
       "</table>\n",
       "</div>"
      ],
      "text/plain": [
       "         id  group  \\\n",
       "145     231  11.02   \n",
       "5195  10156  15.11   \n",
       "8018  16080  38.32   \n",
       "\n",
       "                                                                      Наименование  \\\n",
       "145                                             Сусло виноградное консервированное   \n",
       "5195  Шкурки хоря пушно-меховые выделанные целые и их части или обрезки, собранные   \n",
       "8018                                            Лом и отходы тантала и его сплавов   \n",
       "\n",
       "                                                                                   ttext_clean  \n",
       "145                                                     [сусло, виноградное, консервированное]  \n",
       "5195  [шкурки, хоря, пушно, меховые, выделанные, целые, и, их, части, или, обрезки, собранные]  \n",
       "8018                                                [лом, и, отходы, тантала, и, его, сплавов]  "
      ]
     },
     "execution_count": 20,
     "metadata": {},
     "output_type": "execute_result"
    }
   ],
   "source": [
    "data.sample(3)"
   ]
  },
  {
   "cell_type": "code",
   "execution_count": 21,
   "metadata": {},
   "outputs": [
    {
     "name": "stdout",
     "output_type": "stream",
     "text": [
      "записей: 9 632\n",
      "записей: 9 632\n"
     ]
    }
   ],
   "source": [
    "ppr(data)\n",
    "data = data[ data['ttext_clean'].str.len()>0 ].reset_index(drop=True) \n",
    "ppr(data)"
   ]
  },
  {
   "cell_type": "code",
   "execution_count": 22,
   "metadata": {},
   "outputs": [
    {
     "data": {
      "text/html": [
       "<div>\n",
       "<style scoped>\n",
       "    .dataframe tbody tr th:only-of-type {\n",
       "        vertical-align: middle;\n",
       "    }\n",
       "\n",
       "    .dataframe tbody tr th {\n",
       "        vertical-align: top;\n",
       "    }\n",
       "\n",
       "    .dataframe thead th {\n",
       "        text-align: right;\n",
       "    }\n",
       "</style>\n",
       "<table border=\"1\" class=\"dataframe\">\n",
       "  <thead>\n",
       "    <tr style=\"text-align: right;\">\n",
       "      <th></th>\n",
       "      <th>id</th>\n",
       "      <th>group</th>\n",
       "      <th>Наименование</th>\n",
       "      <th>ttext_clean</th>\n",
       "    </tr>\n",
       "  </thead>\n",
       "  <tbody>\n",
       "    <tr>\n",
       "      <th>5376</th>\n",
       "      <td>10523</td>\n",
       "      <td>17.12</td>\n",
       "      <td>Картон для фильтрующих элементов масляных и воздушных фильтров</td>\n",
       "      <td>[картон, для, фильтрующих, элементов, масляных, и, воздушных, фильтров]</td>\n",
       "    </tr>\n",
       "    <tr>\n",
       "      <th>5072</th>\n",
       "      <td>9986</td>\n",
       "      <td>14.20</td>\n",
       "      <td>Рукавицы женские из хлопчатобумажных тканей, подкладка меховая</td>\n",
       "      <td>[рукавицы, женские, из, хлопчатобумажных, тканей, подкладка, меховая]</td>\n",
       "    </tr>\n",
       "    <tr>\n",
       "      <th>4993</th>\n",
       "      <td>9885</td>\n",
       "      <td>14.20</td>\n",
       "      <td>Жакеты женские с верхом из хлопчатобумажных тканей, подкладка меховая</td>\n",
       "      <td>[жакеты, женские, с, верхом, из, хлопчатобумажных, тканей, подкладка, меховая]</td>\n",
       "    </tr>\n",
       "  </tbody>\n",
       "</table>\n",
       "</div>"
      ],
      "text/plain": [
       "         id  group  \\\n",
       "5376  10523  17.12   \n",
       "5072   9986  14.20   \n",
       "4993   9885  14.20   \n",
       "\n",
       "                                                               Наименование  \\\n",
       "5376         Картон для фильтрующих элементов масляных и воздушных фильтров   \n",
       "5072         Рукавицы женские из хлопчатобумажных тканей, подкладка меховая   \n",
       "4993  Жакеты женские с верхом из хлопчатобумажных тканей, подкладка меховая   \n",
       "\n",
       "                                                                         ttext_clean  \n",
       "5376         [картон, для, фильтрующих, элементов, масляных, и, воздушных, фильтров]  \n",
       "5072           [рукавицы, женские, из, хлопчатобумажных, тканей, подкладка, меховая]  \n",
       "4993  [жакеты, женские, с, верхом, из, хлопчатобумажных, тканей, подкладка, меховая]  "
      ]
     },
     "execution_count": 22,
     "metadata": {},
     "output_type": "execute_result"
    }
   ],
   "source": [
    "data.sample(3)"
   ]
  },
  {
   "cell_type": "code",
   "execution_count": 23,
   "metadata": {},
   "outputs": [
    {
     "name": "stdout",
     "output_type": "stream",
     "text": [
      "записей: 9 976\n"
     ]
    }
   ],
   "source": [
    "words = sorted(set.union( *data['ttext_clean'].apply(set) ))\n",
    "voc = { w:i+1 for i,w in enumerate(words) }\n",
    "voc['<pad>']= 0\n",
    "ppr(voc)"
   ]
  },
  {
   "cell_type": "markdown",
   "metadata": {},
   "source": [
    "## кодируем слова"
   ]
  },
  {
   "cell_type": "code",
   "execution_count": 24,
   "metadata": {},
   "outputs": [
    {
     "data": {
      "application/vnd.jupyter.widget-view+json": {
       "model_id": "02d68dda2e404e539ba476513f451f5b",
       "version_major": 2,
       "version_minor": 0
      },
      "text/plain": [
       "  0%|          | 0/9632 [00:00<?, ?it/s]"
      ]
     },
     "metadata": {},
     "output_type": "display_data"
    }
   ],
   "source": [
    "data['code'] = data['ttext_clean'].progress_apply(lambda t: [ voc[w] for w in t] )"
   ]
  },
  {
   "cell_type": "code",
   "execution_count": 25,
   "metadata": {},
   "outputs": [
    {
     "data": {
      "text/html": [
       "<div>\n",
       "<style scoped>\n",
       "    .dataframe tbody tr th:only-of-type {\n",
       "        vertical-align: middle;\n",
       "    }\n",
       "\n",
       "    .dataframe tbody tr th {\n",
       "        vertical-align: top;\n",
       "    }\n",
       "\n",
       "    .dataframe thead th {\n",
       "        text-align: right;\n",
       "    }\n",
       "</style>\n",
       "<table border=\"1\" class=\"dataframe\">\n",
       "  <thead>\n",
       "    <tr style=\"text-align: right;\">\n",
       "      <th></th>\n",
       "      <th>ttext_clean</th>\n",
       "      <th>code</th>\n",
       "    </tr>\n",
       "  </thead>\n",
       "  <tbody>\n",
       "    <tr>\n",
       "      <th>730</th>\n",
       "      <td>[пряжа, хлопчатобумажная, нитки, швейные, хлопчатобумажные]</td>\n",
       "      <td>[6725, 9278, 4808, 9582, 9281]</td>\n",
       "    </tr>\n",
       "    <tr>\n",
       "      <th>943</th>\n",
       "      <td>[радиоприемники, широковещательные]</td>\n",
       "      <td>[6859, 9619]</td>\n",
       "    </tr>\n",
       "    <tr>\n",
       "      <th>3393</th>\n",
       "      <td>[услуги, по, рыбохозяйственной, мелиорации, морских, и, минерализированных, водных, объектов]</td>\n",
       "      <td>[8968, 5911, 7298, 4048, 4324, 2416, 4191, 968, 5004]</td>\n",
       "    </tr>\n",
       "  </tbody>\n",
       "</table>\n",
       "</div>"
      ],
      "text/plain": [
       "                                                                                        ttext_clean  \\\n",
       "730                                     [пряжа, хлопчатобумажная, нитки, швейные, хлопчатобумажные]   \n",
       "943                                                             [радиоприемники, широковещательные]   \n",
       "3393  [услуги, по, рыбохозяйственной, мелиорации, морских, и, минерализированных, водных, объектов]   \n",
       "\n",
       "                                                       code  \n",
       "730                          [6725, 9278, 4808, 9582, 9281]  \n",
       "943                                            [6859, 9619]  \n",
       "3393  [8968, 5911, 7298, 4048, 4324, 2416, 4191, 968, 5004]  "
      ]
     },
     "execution_count": 25,
     "metadata": {},
     "output_type": "execute_result"
    }
   ],
   "source": [
    "data[['ttext_clean','code']].sample(3)"
   ]
  },
  {
   "cell_type": "code",
   "execution_count": 26,
   "metadata": {},
   "outputs": [
    {
     "data": {
      "text/plain": [
       "count    9632\n",
       "mean        7\n",
       "std         2\n",
       "min         2\n",
       "25%         5\n",
       "50%         7\n",
       "75%         9\n",
       "max        16\n",
       "Name: code, dtype: int64"
      ]
     },
     "execution_count": 26,
     "metadata": {},
     "output_type": "execute_result"
    }
   ],
   "source": [
    "# оценка размеров последовательнистей\n",
    "data['code'].str.len().describe().astype(int)"
   ]
  },
  {
   "cell_type": "code",
   "execution_count": 27,
   "metadata": {},
   "outputs": [
    {
     "data": {
      "text/plain": [
       "<AxesSubplot:ylabel='Frequency'>"
      ]
     },
     "execution_count": 27,
     "metadata": {},
     "output_type": "execute_result"
    },
    {
     "data": {
      "image/png": "[encoded data removed]",
      "text/plain": [
       "<Figure size 432x288 with 1 Axes>"
      ]
     },
     "metadata": {
      "needs_background": "light"
     },
     "output_type": "display_data"
    }
   ],
   "source": [
    "data['code'].str.len().plot.hist()"
   ]
  },
  {
   "cell_type": "code",
   "execution_count": 28,
   "metadata": {},
   "outputs": [
    {
     "data": {
      "text/plain": [
       "16"
      ]
     },
     "execution_count": 28,
     "metadata": {},
     "output_type": "execute_result"
    }
   ],
   "source": [
    "# максимальная длина\n",
    "code_max_len = data['code'].str.len().max()\n",
    "code_max_len"
   ]
  },
  {
   "cell_type": "code",
   "execution_count": 29,
   "metadata": {},
   "outputs": [
    {
     "data": {
      "application/vnd.jupyter.widget-view+json": {
       "model_id": "6c62b38298ab4cebbf864beae75fe436",
       "version_major": 2,
       "version_minor": 0
      },
      "text/plain": [
       "  0%|          | 0/9632 [00:00<?, ?it/s]"
      ]
     },
     "metadata": {},
     "output_type": "display_data"
    }
   ],
   "source": [
    "# дополняем короткие до максимальной длины\n",
    "z = [0]*code_max_len\n",
    "data['code'] = data['code'].progress_apply(lambda c: c+z[:(code_max_len-len(c))]  )"
   ]
  },
  {
   "cell_type": "code",
   "execution_count": 30,
   "metadata": {},
   "outputs": [
    {
     "data": {
      "text/plain": [
       "count    9632\n",
       "mean       16\n",
       "std         0\n",
       "min        16\n",
       "25%        16\n",
       "50%        16\n",
       "75%        16\n",
       "max        16\n",
       "Name: code, dtype: int64"
      ]
     },
     "execution_count": 30,
     "metadata": {},
     "output_type": "execute_result"
    }
   ],
   "source": [
    "data['code'].str.len().describe().astype(int)"
   ]
  },
  {
   "cell_type": "code",
   "execution_count": 31,
   "metadata": {},
   "outputs": [],
   "source": [
    "# data"
   ]
  },
  {
   "cell_type": "markdown",
   "metadata": {},
   "source": [
    "## строим датасет"
   ]
  },
  {
   "cell_type": "code",
   "execution_count": 32,
   "metadata": {},
   "outputs": [
    {
     "data": {
      "text/html": [
       "<div>\n",
       "<style scoped>\n",
       "    .dataframe tbody tr th:only-of-type {\n",
       "        vertical-align: middle;\n",
       "    }\n",
       "\n",
       "    .dataframe tbody tr th {\n",
       "        vertical-align: top;\n",
       "    }\n",
       "\n",
       "    .dataframe thead th {\n",
       "        text-align: right;\n",
       "    }\n",
       "</style>\n",
       "<table border=\"1\" class=\"dataframe\">\n",
       "  <thead>\n",
       "    <tr style=\"text-align: right;\">\n",
       "      <th></th>\n",
       "      <th>id_L</th>\n",
       "      <th>id_R</th>\n",
       "      <th>target</th>\n",
       "    </tr>\n",
       "  </thead>\n",
       "  <tbody>\n",
       "    <tr>\n",
       "      <th>0</th>\n",
       "      <td>6143</td>\n",
       "      <td>6069</td>\n",
       "      <td>1</td>\n",
       "    </tr>\n",
       "    <tr>\n",
       "      <th>0</th>\n",
       "      <td>6145</td>\n",
       "      <td>6083</td>\n",
       "      <td>1</td>\n",
       "    </tr>\n",
       "    <tr>\n",
       "      <th>0</th>\n",
       "      <td>6083</td>\n",
       "      <td>6119</td>\n",
       "      <td>1</td>\n",
       "    </tr>\n",
       "    <tr>\n",
       "      <th>0</th>\n",
       "      <td>2827</td>\n",
       "      <td>6060</td>\n",
       "      <td>1</td>\n",
       "    </tr>\n",
       "    <tr>\n",
       "      <th>0</th>\n",
       "      <td>6119</td>\n",
       "      <td>6145</td>\n",
       "      <td>1</td>\n",
       "    </tr>\n",
       "    <tr>\n",
       "      <th>...</th>\n",
       "      <td>...</td>\n",
       "      <td>...</td>\n",
       "      <td>...</td>\n",
       "    </tr>\n",
       "    <tr>\n",
       "      <th>226</th>\n",
       "      <td>6036</td>\n",
       "      <td>16062</td>\n",
       "      <td>0</td>\n",
       "    </tr>\n",
       "    <tr>\n",
       "      <th>226</th>\n",
       "      <td>19462</td>\n",
       "      <td>16027</td>\n",
       "      <td>0</td>\n",
       "    </tr>\n",
       "    <tr>\n",
       "      <th>226</th>\n",
       "      <td>19450</td>\n",
       "      <td>16032</td>\n",
       "      <td>0</td>\n",
       "    </tr>\n",
       "    <tr>\n",
       "      <th>226</th>\n",
       "      <td>19452</td>\n",
       "      <td>16041</td>\n",
       "      <td>0</td>\n",
       "    </tr>\n",
       "    <tr>\n",
       "      <th>226</th>\n",
       "      <td>19458</td>\n",
       "      <td>16047</td>\n",
       "      <td>0</td>\n",
       "    </tr>\n",
       "  </tbody>\n",
       "</table>\n",
       "<p>4540 rows × 3 columns</p>\n",
       "</div>"
      ],
      "text/plain": [
       "      id_L   id_R  target\n",
       "0     6143   6069       1\n",
       "0     6145   6083       1\n",
       "0     6083   6119       1\n",
       "0     2827   6060       1\n",
       "0     6119   6145       1\n",
       "..     ...    ...     ...\n",
       "226   6036  16062       0\n",
       "226  19462  16027       0\n",
       "226  19450  16032       0\n",
       "226  19452  16041       0\n",
       "226  19458  16047       0\n",
       "\n",
       "[4540 rows x 3 columns]"
      ]
     },
     "execution_count": 32,
     "metadata": {},
     "output_type": "execute_result"
    }
   ],
   "source": [
    "pair"
   ]
  },
  {
   "cell_type": "code",
   "execution_count": 33,
   "metadata": {},
   "outputs": [
    {
     "name": "stdout",
     "output_type": "stream",
     "text": [
      "записей: 4 540\n"
     ]
    },
    {
     "data": {
      "text/html": [
       "<div>\n",
       "<style scoped>\n",
       "    .dataframe tbody tr th:only-of-type {\n",
       "        vertical-align: middle;\n",
       "    }\n",
       "\n",
       "    .dataframe tbody tr th {\n",
       "        vertical-align: top;\n",
       "    }\n",
       "\n",
       "    .dataframe thead th {\n",
       "        text-align: right;\n",
       "    }\n",
       "</style>\n",
       "<table border=\"1\" class=\"dataframe\">\n",
       "  <thead>\n",
       "    <tr style=\"text-align: right;\">\n",
       "      <th></th>\n",
       "      <th>id_L</th>\n",
       "      <th>id_R</th>\n",
       "      <th>target</th>\n",
       "      <th>code_L</th>\n",
       "      <th>code_R</th>\n",
       "    </tr>\n",
       "  </thead>\n",
       "  <tbody>\n",
       "    <tr>\n",
       "      <th>2054</th>\n",
       "      <td>9800</td>\n",
       "      <td>3842</td>\n",
       "      <td>0</td>\n",
       "      <td>[8815, 1445, 2081, 6707, 2436, 9074, 0, 0, 0, 0, 0, 0, 0, 0, 0, 0]</td>\n",
       "      <td>[7083, 9439, 363, 2416, 206, 2029, 5832, 935, 7456, 4, 3580, 0, 0, 0, 0, 0]</td>\n",
       "    </tr>\n",
       "    <tr>\n",
       "      <th>636</th>\n",
       "      <td>7317</td>\n",
       "      <td>7320</td>\n",
       "      <td>1</td>\n",
       "      <td>[8835, 3054, 3920, 2038, 2141, 0, 0, 0, 0, 0, 0, 0, 0, 0, 0, 0]</td>\n",
       "      <td>[8835, 3054, 3920, 3006, 3051, 5353, 0, 0, 0, 0, 0, 0, 0, 0, 0, 0]</td>\n",
       "    </tr>\n",
       "    <tr>\n",
       "      <th>2654</th>\n",
       "      <td>11693</td>\n",
       "      <td>11705</td>\n",
       "      <td>1</td>\n",
       "      <td>[7806, 9246, 3628, 2646, 700, 9808, 0, 0, 0, 0, 0, 0, 0, 0, 0, 0]</td>\n",
       "      <td>[158, 7743, 4595, 917, 700, 1986, 1600, 0, 0, 0, 0, 0, 0, 0, 0, 0]</td>\n",
       "    </tr>\n",
       "  </tbody>\n",
       "</table>\n",
       "</div>"
      ],
      "text/plain": [
       "       id_L   id_R  target  \\\n",
       "2054   9800   3842       0   \n",
       "636    7317   7320       1   \n",
       "2654  11693  11705       1   \n",
       "\n",
       "                                                                  code_L  \\\n",
       "2054  [8815, 1445, 2081, 6707, 2436, 9074, 0, 0, 0, 0, 0, 0, 0, 0, 0, 0]   \n",
       "636      [8835, 3054, 3920, 2038, 2141, 0, 0, 0, 0, 0, 0, 0, 0, 0, 0, 0]   \n",
       "2654   [7806, 9246, 3628, 2646, 700, 9808, 0, 0, 0, 0, 0, 0, 0, 0, 0, 0]   \n",
       "\n",
       "                                                                           code_R  \n",
       "2054  [7083, 9439, 363, 2416, 206, 2029, 5832, 935, 7456, 4, 3580, 0, 0, 0, 0, 0]  \n",
       "636            [8835, 3054, 3920, 3006, 3051, 5353, 0, 0, 0, 0, 0, 0, 0, 0, 0, 0]  \n",
       "2654           [158, 7743, 4595, 917, 700, 1986, 1600, 0, 0, 0, 0, 0, 0, 0, 0, 0]  "
      ]
     },
     "execution_count": 33,
     "metadata": {},
     "output_type": "execute_result"
    }
   ],
   "source": [
    "dataset = pair\\\n",
    "  .merge(data[['id','code']].rename(columns={'id':'id_L','code':'code_L'}), on=['id_L'] )\\\n",
    "  .merge(data[['id','code']].rename(columns={'id':'id_R','code':'code_R'}), on=['id_R'] )\n",
    "ppr(dataset)\n",
    "dataset.sample(3)"
   ]
  },
  {
   "cell_type": "code",
   "execution_count": 34,
   "metadata": {},
   "outputs": [
    {
     "data": {
      "text/plain": [
       "((4540, 16), (4540, 16), (4540, 1))"
      ]
     },
     "execution_count": 34,
     "metadata": {},
     "output_type": "execute_result"
    }
   ],
   "source": [
    "x_left  = np.vstack(dataset['code_L'].values)\n",
    "x_right = np.vstack(dataset['code_R'].values)\n",
    "target  = np.vstack(dataset['target'].values)\n",
    "\n",
    "x_left.shape,x_right.shape,target.shape"
   ]
  },
  {
   "cell_type": "code",
   "execution_count": 35,
   "metadata": {},
   "outputs": [],
   "source": [
    "# размер вектора OHE для embeding слоя\n",
    "embed_input_dim = max([x_left.max(),x_right.max()]) + 1"
   ]
  },
  {
   "cell_type": "code",
   "execution_count": 36,
   "metadata": {},
   "outputs": [
    {
     "data": {
      "text/plain": [
       "((4540, 16), (4540, 16), (4540, 1), 9974)"
      ]
     },
     "execution_count": 36,
     "metadata": {},
     "output_type": "execute_result"
    }
   ],
   "source": [
    "x_left.shape, x_right.shape, target.shape, embed_input_dim"
   ]
  },
  {
   "cell_type": "code",
   "execution_count": 37,
   "metadata": {},
   "outputs": [],
   "source": [
    "# переворачиваем последовательности (нули дополнения вначале, первое слово в конце)\n",
    "x_left  = np.flip( x_left,  axis=1 )\n",
    "x_right = np.flip( x_right, axis=1 )"
   ]
  },
  {
   "cell_type": "code",
   "execution_count": 38,
   "metadata": {},
   "outputs": [
    {
     "data": {
      "text/plain": [
       "16"
      ]
     },
     "execution_count": 38,
     "metadata": {},
     "output_type": "execute_result"
    }
   ],
   "source": [
    "# длина последовательности слов \n",
    "seq_len = x_left.shape[1]\n",
    "seq_len"
   ]
  },
  {
   "cell_type": "markdown",
   "metadata": {},
   "source": [
    "## модель"
   ]
  },
  {
   "cell_type": "code",
   "execution_count": 39,
   "metadata": {},
   "outputs": [
    {
     "data": {
      "text/plain": [
       "(9974, 128, 16)"
      ]
     },
     "execution_count": 39,
     "metadata": {},
     "output_type": "execute_result"
    }
   ],
   "source": [
    "embed_len = 128\n",
    "embed_input_dim, embed_len, seq_len"
   ]
  },
  {
   "cell_type": "code",
   "execution_count": 40,
   "metadata": {},
   "outputs": [
    {
     "data": {
      "text/plain": [
       "('2.8.0', '2.8.0')"
      ]
     },
     "execution_count": 40,
     "metadata": {},
     "output_type": "execute_result"
    }
   ],
   "source": [
    "from tensorflow import __version__ as tf_version\n",
    "from tensorflow.keras import __version__ as keras_version\n",
    "tf_version,keras_version"
   ]
  },
  {
   "cell_type": "code",
   "execution_count": 41,
   "metadata": {},
   "outputs": [],
   "source": [
    "from tensorflow.keras.models import Model\n",
    "from tensorflow.keras.layers import Input\n",
    "from tensorflow.keras.layers import Embedding\n",
    "from tensorflow.keras.layers import LSTM\n",
    "from tensorflow.keras.layers import Dense\n",
    "from tensorflow.keras.layers import Lambda\n",
    "from tensorflow.keras.optimizers import Adam\n",
    "from tensorflow.keras import backend as K\n",
    "from tensorflow.keras.utils import plot_model\n",
    "# from tensorflow_addons.losses import contrastive_loss\n",
    "from tensorflow import cast"
   ]
  },
  {
   "cell_type": "markdown",
   "metadata": {},
   "source": [
    "$$\n",
    "contrastive\\_loss(y,p) = y \\cdot p^2 + (1 - y) \\cdot \\max(0, m - p ) ^2\n",
    "$$"
   ]
  },
  {
   "cell_type": "code",
   "execution_count": 42,
   "metadata": {},
   "outputs": [],
   "source": [
    "def contrastive_loss(y, preds, margin=1):\n",
    "    y = cast(y, preds.dtype)\n",
    "    squaredMargin = K.square(K.maximum(margin - preds, 0))\n",
    "    return K.mean( y * K.square(preds) + (1-y)*squaredMargin)"
   ]
  },
  {
   "cell_type": "code",
   "execution_count": 43,
   "metadata": {},
   "outputs": [
    {
     "data": {
      "text/plain": [
       "(9974, 16, 128)"
      ]
     },
     "execution_count": 43,
     "metadata": {},
     "output_type": "execute_result"
    }
   ],
   "source": [
    "embed_input_dim,seq_len,embed_len"
   ]
  },
  {
   "cell_type": "code",
   "execution_count": 44,
   "metadata": {},
   "outputs": [
    {
     "name": "stdout",
     "output_type": "stream",
     "text": [
      "WARNING:tensorflow:Layer lstm will not use cuDNN kernels since it doesn't meet the criteria. It will use a generic GPU kernel as fallback when running on GPU.\n"
     ]
    },
    {
     "name": "stderr",
     "output_type": "stream",
     "text": [
      "2022-05-18 16:24:00.143073: I tensorflow/stream_executor/cuda/cuda_gpu_executor.cc:936] successful NUMA node read from SysFS had negative value (-1), but there must be at least one NUMA node, so returning NUMA node zero\n",
      "2022-05-18 16:24:00.170624: I tensorflow/stream_executor/cuda/cuda_gpu_executor.cc:936] successful NUMA node read from SysFS had negative value (-1), but there must be at least one NUMA node, so returning NUMA node zero\n",
      "2022-05-18 16:24:00.170781: I tensorflow/stream_executor/cuda/cuda_gpu_executor.cc:936] successful NUMA node read from SysFS had negative value (-1), but there must be at least one NUMA node, so returning NUMA node zero\n",
      "2022-05-18 16:24:00.171312: I tensorflow/core/platform/cpu_feature_guard.cc:151] This TensorFlow binary is optimized with oneAPI Deep Neural Network Library (oneDNN) to use the following CPU instructions in performance-critical operations:  AVX2 FMA\n",
      "To enable them in other operations, rebuild TensorFlow with the appropriate compiler flags.\n",
      "2022-05-18 16:24:00.171664: I tensorflow/stream_executor/cuda/cuda_gpu_executor.cc:936] successful NUMA node read from SysFS had negative value (-1), but there must be at least one NUMA node, so returning NUMA node zero\n",
      "2022-05-18 16:24:00.171830: I tensorflow/stream_executor/cuda/cuda_gpu_executor.cc:936] successful NUMA node read from SysFS had negative value (-1), but there must be at least one NUMA node, so returning NUMA node zero\n",
      "2022-05-18 16:24:00.171944: I tensorflow/stream_executor/cuda/cuda_gpu_executor.cc:936] successful NUMA node read from SysFS had negative value (-1), but there must be at least one NUMA node, so returning NUMA node zero\n",
      "2022-05-18 16:24:00.540858: I tensorflow/stream_executor/cuda/cuda_gpu_executor.cc:936] successful NUMA node read from SysFS had negative value (-1), but there must be at least one NUMA node, so returning NUMA node zero\n",
      "2022-05-18 16:24:00.541060: I tensorflow/stream_executor/cuda/cuda_gpu_executor.cc:936] successful NUMA node read from SysFS had negative value (-1), but there must be at least one NUMA node, so returning NUMA node zero\n",
      "2022-05-18 16:24:00.541188: I tensorflow/stream_executor/cuda/cuda_gpu_executor.cc:936] successful NUMA node read from SysFS had negative value (-1), but there must be at least one NUMA node, so returning NUMA node zero\n",
      "2022-05-18 16:24:00.541297: I tensorflow/core/common_runtime/gpu/gpu_device.cc:1525] Created device /job:localhost/replica:0/task:0/device:GPU:0 with 5002 MB memory:  -> device: 0, name: NVIDIA GeForce GTX 1060 6GB, pci bus id: 0000:01:00.0, compute capability: 6.1\n"
     ]
    }
   ],
   "source": [
    "embedding = Embedding(input_dim=embed_input_dim, input_length=seq_len, output_dim=embed_len, )\n",
    "lstm = LSTM(embed_len,activation='relu') "
   ]
  },
  {
   "cell_type": "code",
   "execution_count": 45,
   "metadata": {},
   "outputs": [],
   "source": [
    "# Конструирование левой ветви модели: \n",
    "input_l = Input( shape=(seq_len,), dtype='int32')\n",
    "embedding_l = embedding(input_l)\n",
    "lstm_l = lstm(embedding_l)\n",
    "\n",
    "# Конструирование правой ветви модели: \n",
    "input_r = Input(shape=(seq_len,), dtype='int32')\n",
    "embedding_r = embedding(input_r)\n",
    "lstm_r = lstm(embedding_r)\n",
    "\n",
    "# # Getting the L1 Distance between the 2 encodings\n",
    "merged = Lambda(lambda t:K.abs(t[0]-t[1]),name='L1_distance')([lstm_l,lstm_r])\n",
    "\n",
    "# классификатор\n",
    "predictions = Dense(1, activation='relu')(merged)\n",
    "\n",
    "# создаём модель\n",
    "model = Model([input_l,input_r], predictions )"
   ]
  },
  {
   "cell_type": "code",
   "execution_count": 46,
   "metadata": {
    "scrolled": true
   },
   "outputs": [
    {
     "data": {
      "image/png": "[encoded data removed]",
      "text/plain": [
       "<IPython.core.display.Image object>"
      ]
     },
     "execution_count": 46,
     "metadata": {},
     "output_type": "execute_result"
    }
   ],
   "source": [
    "plot_model(model, show_layer_names=True, show_shapes=True )"
   ]
  },
  {
   "cell_type": "code",
   "execution_count": 47,
   "metadata": {},
   "outputs": [],
   "source": [
    "learning_rate = 9e-3\n",
    "model.compile(loss=contrastive_loss, metrics=['acc',], optimizer=Adam(learning_rate))"
   ]
  },
  {
   "cell_type": "code",
   "execution_count": 48,
   "metadata": {},
   "outputs": [
    {
     "data": {
      "text/plain": [
       "((4540, 16), (4540, 1))"
      ]
     },
     "execution_count": 48,
     "metadata": {},
     "output_type": "execute_result"
    }
   ],
   "source": [
    "x_left.shape,target.shape"
   ]
  },
  {
   "cell_type": "code",
   "execution_count": 49,
   "metadata": {},
   "outputs": [
    {
     "name": "stdout",
     "output_type": "stream",
     "text": [
      "Epoch 1/15\n",
      "5/5 [==============================] - 2s 38ms/step - loss: 0.3945 - acc: 0.4923\n",
      "Epoch 2/15\n",
      "5/5 [==============================] - 0s 37ms/step - loss: 0.2183 - acc: 0.3537\n",
      "Epoch 3/15\n",
      "5/5 [==============================] - 0s 36ms/step - loss: 0.1411 - acc: 0.1648\n",
      "Epoch 4/15\n",
      "5/5 [==============================] - 0s 36ms/step - loss: 0.0987 - acc: 0.1009\n",
      "Epoch 5/15\n",
      "5/5 [==============================] - 0s 35ms/step - loss: 0.0797 - acc: 0.0720\n",
      "Epoch 6/15\n",
      "5/5 [==============================] - 0s 36ms/step - loss: 0.0625 - acc: 0.0465\n",
      "Epoch 7/15\n",
      "5/5 [==============================] - 0s 38ms/step - loss: 0.0471 - acc: 0.0253\n",
      "Epoch 8/15\n",
      "5/5 [==============================] - 0s 38ms/step - loss: 0.0333 - acc: 0.0159\n",
      "Epoch 9/15\n",
      "5/5 [==============================] - 0s 37ms/step - loss: 0.0196 - acc: 0.0108\n",
      "Epoch 10/15\n",
      "5/5 [==============================] - 0s 35ms/step - loss: 0.0095 - acc: 0.0059\n",
      "Epoch 11/15\n",
      "5/5 [==============================] - 0s 37ms/step - loss: 0.0042 - acc: 0.0022\n",
      "Epoch 12/15\n",
      "5/5 [==============================] - 0s 38ms/step - loss: 0.0018 - acc: 6.6079e-04\n",
      "Epoch 13/15\n",
      "5/5 [==============================] - 0s 36ms/step - loss: 8.4028e-04 - acc: 4.4053e-04\n",
      "Epoch 14/15\n",
      "5/5 [==============================] - 0s 37ms/step - loss: 2.7965e-04 - acc: 2.2026e-04\n",
      "Epoch 15/15\n",
      "5/5 [==============================] - 0s 36ms/step - loss: 8.0867e-05 - acc: 0.0000e+00\n",
      "CPU times: user 6.21 s, sys: 471 ms, total: 6.68 s\n",
      "Wall time: 7.09 s\n"
     ]
    }
   ],
   "source": [
    "%%time\n",
    "\n",
    "n_epochs = 15\n",
    "\n",
    "history = model.fit( [x_left, x_right], target,epochs = n_epochs, batch_size = 1024, )"
   ]
  },
  {
   "cell_type": "code",
   "execution_count": 50,
   "metadata": {},
   "outputs": [
    {
     "data": {
      "image/png": "[encoded data removed]",
      "text/plain": [
       "<Figure size 432x288 with 1 Axes>"
      ]
     },
     "metadata": {
      "needs_background": "light"
     },
     "output_type": "display_data"
    }
   ],
   "source": [
    "plt.plot(history.history['loss'],label='train loss')\n",
    "# plt.plot(history.history['val_loss'],label='val loss')\n",
    "plt.legend()\n",
    "plt.grid()"
   ]
  },
  {
   "cell_type": "code",
   "execution_count": 51,
   "metadata": {},
   "outputs": [
    {
     "data": {
      "image/png": "[encoded data removed]",
      "text/plain": [
       "<Figure size 432x288 with 1 Axes>"
      ]
     },
     "metadata": {
      "needs_background": "light"
     },
     "output_type": "display_data"
    }
   ],
   "source": [
    "plt.plot( 1. - np.array(history.history['acc']), label='train acc')\n",
    "# plt.plot( np.array(history.history['val_acc']), label='val acc')\n",
    "plt.legend()\n",
    "plt.grid()"
   ]
  },
  {
   "cell_type": "code",
   "execution_count": 52,
   "metadata": {},
   "outputs": [],
   "source": [
    "# gc.collect()"
   ]
  },
  {
   "cell_type": "markdown",
   "metadata": {},
   "source": [
    "## тест"
   ]
  },
  {
   "cell_type": "code",
   "execution_count": 53,
   "metadata": {},
   "outputs": [],
   "source": [
    "dataset['dist'] = model.predict([x_left,x_right,])"
   ]
  },
  {
   "cell_type": "code",
   "execution_count": 54,
   "metadata": {},
   "outputs": [],
   "source": [
    "data_dist = dataset[['id_L','id_R','target','dist']]\\\n",
    "    .merge(data[['id','Наименование']].rename(columns={'id':'id_R','Наименование':'ttext_R'}),on='id_R')\\\n",
    "    .merge(data[['id','Наименование']].rename(columns={'id':'id_L','Наименование':'ttext_L'}),on='id_L')\\\n",
    "    [['ttext_L','ttext_R','dist']]\n",
    "\n",
    "# data_dist.sample(3)"
   ]
  },
  {
   "cell_type": "code",
   "execution_count": 55,
   "metadata": {},
   "outputs": [
    {
     "data": {
      "text/html": [
       "<div>\n",
       "<style scoped>\n",
       "    .dataframe tbody tr th:only-of-type {\n",
       "        vertical-align: middle;\n",
       "    }\n",
       "\n",
       "    .dataframe tbody tr th {\n",
       "        vertical-align: top;\n",
       "    }\n",
       "\n",
       "    .dataframe thead th {\n",
       "        text-align: right;\n",
       "    }\n",
       "</style>\n",
       "<table border=\"1\" class=\"dataframe\">\n",
       "  <thead>\n",
       "    <tr style=\"text-align: right;\">\n",
       "      <th></th>\n",
       "      <th>count</th>\n",
       "      <th>mean</th>\n",
       "      <th>std</th>\n",
       "      <th>min</th>\n",
       "      <th>25%</th>\n",
       "      <th>50%</th>\n",
       "      <th>75%</th>\n",
       "      <th>max</th>\n",
       "    </tr>\n",
       "  </thead>\n",
       "  <tbody>\n",
       "    <tr>\n",
       "      <th>dist</th>\n",
       "      <td>4540.0</td>\n",
       "      <td>1.120048</td>\n",
       "      <td>1.243246</td>\n",
       "      <td>0.0</td>\n",
       "      <td>0.0</td>\n",
       "      <td>0.50191</td>\n",
       "      <td>2.121595</td>\n",
       "      <td>5.744201</td>\n",
       "    </tr>\n",
       "  </tbody>\n",
       "</table>\n",
       "</div>"
      ],
      "text/plain": [
       "       count      mean       std  min  25%      50%       75%       max\n",
       "dist  4540.0  1.120048  1.243246  0.0  0.0  0.50191  2.121595  5.744201"
      ]
     },
     "execution_count": 55,
     "metadata": {},
     "output_type": "execute_result"
    }
   ],
   "source": [
    "data_dist[['dist']].describe().T"
   ]
  },
  {
   "cell_type": "code",
   "execution_count": 56,
   "metadata": {},
   "outputs": [
    {
     "data": {
      "text/html": [
       "<div>\n",
       "<style scoped>\n",
       "    .dataframe tbody tr th:only-of-type {\n",
       "        vertical-align: middle;\n",
       "    }\n",
       "\n",
       "    .dataframe tbody tr th {\n",
       "        vertical-align: top;\n",
       "    }\n",
       "\n",
       "    .dataframe thead th {\n",
       "        text-align: right;\n",
       "    }\n",
       "</style>\n",
       "<table border=\"1\" class=\"dataframe\">\n",
       "  <thead>\n",
       "    <tr style=\"text-align: right;\">\n",
       "      <th></th>\n",
       "      <th>ttext_L</th>\n",
       "      <th>ttext_R</th>\n",
       "      <th>dist</th>\n",
       "    </tr>\n",
       "  </thead>\n",
       "  <tbody>\n",
       "    <tr>\n",
       "      <th>2672</th>\n",
       "      <td>Блоки дверные пластмассовые и пороги для них</td>\n",
       "      <td>Изделия санитарно-технические аналогичные пластмассовые</td>\n",
       "      <td>0.0</td>\n",
       "    </tr>\n",
       "    <tr>\n",
       "      <th>1375</th>\n",
       "      <td>Ткани из металлической нити и ткани из металлизированной пряжи, не включенные в другие группировки</td>\n",
       "      <td>Ткани, пропитанные другими полимерными композициями, или с покрытием, прочие</td>\n",
       "      <td>0.0</td>\n",
       "    </tr>\n",
       "    <tr>\n",
       "      <th>3904</th>\n",
       "      <td>Светодиоды инфракрасного диапазона</td>\n",
       "      <td>Приборы полупроводниковые прочие</td>\n",
       "      <td>0.0</td>\n",
       "    </tr>\n",
       "    <tr>\n",
       "      <th>2034</th>\n",
       "      <td>Орех мускатный, мацис и кардамон обработанные</td>\n",
       "      <td>Услуги по производству приправ и пряностей отдельные, выполняемые субподрядчиком</td>\n",
       "      <td>0.0</td>\n",
       "    </tr>\n",
       "    <tr>\n",
       "      <th>637</th>\n",
       "      <td>Услуги по розничной торговле прочими пищевыми продуктами в специализированных магазинах</td>\n",
       "      <td>Услуги по розничной торговле пищевыми маслами и жирами в специализированных магазинах</td>\n",
       "      <td>0.0</td>\n",
       "    </tr>\n",
       "    <tr>\n",
       "      <th>3109</th>\n",
       "      <td>Емкости из прочих металлов для сжатых или сжиженных газов прочие, не включенные в другие группировки</td>\n",
       "      <td>Резервуары и газгольдеры, возводимые комбинированным способом</td>\n",
       "      <td>0.0</td>\n",
       "    </tr>\n",
       "    <tr>\n",
       "      <th>4508</th>\n",
       "      <td>Услуги по сбору неопасных отходов городского хозяйства, пригодных для повторного использования</td>\n",
       "      <td>Суда и средства плавучие прочие, предназначенные на слом</td>\n",
       "      <td>0.0</td>\n",
       "    </tr>\n",
       "    <tr>\n",
       "      <th>274</th>\n",
       "      <td>Сеянцы деревьев твердолиственных пород</td>\n",
       "      <td>Сеянцы кустарников с открытой корневой системой</td>\n",
       "      <td>0.0</td>\n",
       "    </tr>\n",
       "    <tr>\n",
       "      <th>237</th>\n",
       "      <td>Устройства контрольно-измерительные</td>\n",
       "      <td>Краны, вентили, клапаны для раковин, моек, биде, унитазов, ванн и аналогичная арматура</td>\n",
       "      <td>0.0</td>\n",
       "    </tr>\n",
       "    <tr>\n",
       "      <th>2500</th>\n",
       "      <td>Оборудование специального назначения прочее, не включенное в другие группировки</td>\n",
       "      <td>Машины наборные шрифтолитейные</td>\n",
       "      <td>0.0</td>\n",
       "    </tr>\n",
       "  </tbody>\n",
       "</table>\n",
       "</div>"
      ],
      "text/plain": [
       "                                                                                                   ttext_L  \\\n",
       "2672                                                          Блоки дверные пластмассовые и пороги для них   \n",
       "1375    Ткани из металлической нити и ткани из металлизированной пряжи, не включенные в другие группировки   \n",
       "3904                                                                    Светодиоды инфракрасного диапазона   \n",
       "2034                                                         Орех мускатный, мацис и кардамон обработанные   \n",
       "637                Услуги по розничной торговле прочими пищевыми продуктами в специализированных магазинах   \n",
       "3109  Емкости из прочих металлов для сжатых или сжиженных газов прочие, не включенные в другие группировки   \n",
       "4508        Услуги по сбору неопасных отходов городского хозяйства, пригодных для повторного использования   \n",
       "274                                                                 Сеянцы деревьев твердолиственных пород   \n",
       "237                                                                    Устройства контрольно-измерительные   \n",
       "2500                       Оборудование специального назначения прочее, не включенное в другие группировки   \n",
       "\n",
       "                                                                                     ttext_R  \\\n",
       "2672                                 Изделия санитарно-технические аналогичные пластмассовые   \n",
       "1375            Ткани, пропитанные другими полимерными композициями, или с покрытием, прочие   \n",
       "3904                                                        Приборы полупроводниковые прочие   \n",
       "2034        Услуги по производству приправ и пряностей отдельные, выполняемые субподрядчиком   \n",
       "637    Услуги по розничной торговле пищевыми маслами и жирами в специализированных магазинах   \n",
       "3109                           Резервуары и газгольдеры, возводимые комбинированным способом   \n",
       "4508                                Суда и средства плавучие прочие, предназначенные на слом   \n",
       "274                                          Сеянцы кустарников с открытой корневой системой   \n",
       "237   Краны, вентили, клапаны для раковин, моек, биде, унитазов, ванн и аналогичная арматура   \n",
       "2500                                                          Машины наборные шрифтолитейные   \n",
       "\n",
       "      dist  \n",
       "2672   0.0  \n",
       "1375   0.0  \n",
       "3904   0.0  \n",
       "2034   0.0  \n",
       "637    0.0  \n",
       "3109   0.0  \n",
       "4508   0.0  \n",
       "274    0.0  \n",
       "237    0.0  \n",
       "2500   0.0  "
      ]
     },
     "execution_count": 56,
     "metadata": {},
     "output_type": "execute_result"
    }
   ],
   "source": [
    "# похожие тексты\n",
    "data_dist[ (data_dist['dist']<0.5) & (data_dist['ttext_L']!=data_dist['ttext_R']) ].sample(10)"
   ]
  },
  {
   "cell_type": "code",
   "execution_count": 57,
   "metadata": {},
   "outputs": [
    {
     "data": {
      "text/html": [
       "<div>\n",
       "<style scoped>\n",
       "    .dataframe tbody tr th:only-of-type {\n",
       "        vertical-align: middle;\n",
       "    }\n",
       "\n",
       "    .dataframe tbody tr th {\n",
       "        vertical-align: top;\n",
       "    }\n",
       "\n",
       "    .dataframe thead th {\n",
       "        text-align: right;\n",
       "    }\n",
       "</style>\n",
       "<table border=\"1\" class=\"dataframe\">\n",
       "  <thead>\n",
       "    <tr style=\"text-align: right;\">\n",
       "      <th></th>\n",
       "      <th>ttext_L</th>\n",
       "      <th>ttext_R</th>\n",
       "      <th>dist</th>\n",
       "    </tr>\n",
       "  </thead>\n",
       "  <tbody>\n",
       "    <tr>\n",
       "      <th>4503</th>\n",
       "      <td>Услуги по сбору прочих неопасных отходов, непригодных для повторного использования</td>\n",
       "      <td>Услуги по подготовке схемы планировочной организации земельного участка</td>\n",
       "      <td>1.849284</td>\n",
       "    </tr>\n",
       "    <tr>\n",
       "      <th>1905</th>\n",
       "      <td>Карамель с марципановыми, ореховыми и шоколадными начинками</td>\n",
       "      <td>Услуги по ремонту и замене подошв</td>\n",
       "      <td>4.398679</td>\n",
       "    </tr>\n",
       "    <tr>\n",
       "      <th>3029</th>\n",
       "      <td>Дефектоскопы, вагоны дефектоскопные, тележки</td>\n",
       "      <td>Устройства сцепные (тягово-сцепные, седельно-сцепные и буксирные)</td>\n",
       "      <td>1.913654</td>\n",
       "    </tr>\n",
       "    <tr>\n",
       "      <th>2799</th>\n",
       "      <td>Подшипники качения шариковые закрытого типа</td>\n",
       "      <td>Инструменты ручные прочие с механизированным приводом</td>\n",
       "      <td>1.764742</td>\n",
       "    </tr>\n",
       "    <tr>\n",
       "      <th>3084</th>\n",
       "      <td>Анатоксины, применяемые в ветеринарии</td>\n",
       "      <td>Красители основные и составы на их основе</td>\n",
       "      <td>1.590832</td>\n",
       "    </tr>\n",
       "    <tr>\n",
       "      <th>3730</th>\n",
       "      <td>Средства измерений массы, силы, энергии, линейных и угловых величин, температуры</td>\n",
       "      <td>Баллоны стальные бесшовные большого объема</td>\n",
       "      <td>1.637767</td>\n",
       "    </tr>\n",
       "    <tr>\n",
       "      <th>3053</th>\n",
       "      <td>Оксиды, пероксиды и гидроксиды прочих металлов</td>\n",
       "      <td>Станки гайконарезные и резьбонарезные металлорежущие, не включенные в другие группировки</td>\n",
       "      <td>2.288135</td>\n",
       "    </tr>\n",
       "    <tr>\n",
       "      <th>1665</th>\n",
       "      <td>Мороженое молочное без наполнителей и добавок</td>\n",
       "      <td>Полосы и ленты из меди толщиной более 0,15 мм</td>\n",
       "      <td>1.580871</td>\n",
       "    </tr>\n",
       "    <tr>\n",
       "      <th>2527</th>\n",
       "      <td>Халаты, фартуки, жилеты и сорочки мужские производственные и профессиональные</td>\n",
       "      <td>Услуги государственного управления в бюджетно-финансовой и налоговой сфере</td>\n",
       "      <td>1.781216</td>\n",
       "    </tr>\n",
       "    <tr>\n",
       "      <th>749</th>\n",
       "      <td>Толстолобик свежий или охлажденный</td>\n",
       "      <td>Породы горные магматические и метаморфические</td>\n",
       "      <td>2.009488</td>\n",
       "    </tr>\n",
       "  </tbody>\n",
       "</table>\n",
       "</div>"
      ],
      "text/plain": [
       "                                                                                 ttext_L  \\\n",
       "4503  Услуги по сбору прочих неопасных отходов, непригодных для повторного использования   \n",
       "1905                         Карамель с марципановыми, ореховыми и шоколадными начинками   \n",
       "3029                                        Дефектоскопы, вагоны дефектоскопные, тележки   \n",
       "2799                                         Подшипники качения шариковые закрытого типа   \n",
       "3084                                               Анатоксины, применяемые в ветеринарии   \n",
       "3730    Средства измерений массы, силы, энергии, линейных и угловых величин, температуры   \n",
       "3053                                      Оксиды, пероксиды и гидроксиды прочих металлов   \n",
       "1665                                       Мороженое молочное без наполнителей и добавок   \n",
       "2527       Халаты, фартуки, жилеты и сорочки мужские производственные и профессиональные   \n",
       "749                                                   Толстолобик свежий или охлажденный   \n",
       "\n",
       "                                                                                       ttext_R  \\\n",
       "4503                   Услуги по подготовке схемы планировочной организации земельного участка   \n",
       "1905                                                         Услуги по ремонту и замене подошв   \n",
       "3029                         Устройства сцепные (тягово-сцепные, седельно-сцепные и буксирные)   \n",
       "2799                                     Инструменты ручные прочие с механизированным приводом   \n",
       "3084                                                 Красители основные и составы на их основе   \n",
       "3730                                                Баллоны стальные бесшовные большого объема   \n",
       "3053  Станки гайконарезные и резьбонарезные металлорежущие, не включенные в другие группировки   \n",
       "1665                                             Полосы и ленты из меди толщиной более 0,15 мм   \n",
       "2527                Услуги государственного управления в бюджетно-финансовой и налоговой сфере   \n",
       "749                                              Породы горные магматические и метаморфические   \n",
       "\n",
       "          dist  \n",
       "4503  1.849284  \n",
       "1905  4.398679  \n",
       "3029  1.913654  \n",
       "2799  1.764742  \n",
       "3084  1.590832  \n",
       "3730  1.637767  \n",
       "3053  2.288135  \n",
       "1665  1.580871  \n",
       "2527  1.781216  \n",
       "749   2.009488  "
      ]
     },
     "execution_count": 57,
     "metadata": {},
     "output_type": "execute_result"
    }
   ],
   "source": [
    "# НЕпохожие тексты\n",
    "data_dist[ (data_dist['dist']>0.5) ].sample(10)"
   ]
  },
  {
   "cell_type": "code",
   "execution_count": null,
   "metadata": {},
   "outputs": [],
   "source": []
  }
 ],
 "metadata": {
  "kernelspec": {
   "display_name": "Python 3 (ipykernel)",
   "language": "python",
   "name": "python3"
  },
  "language_info": {
   "codemirror_mode": {
    "name": "ipython",
    "version": 3
   },
   "file_extension": ".py",
   "mimetype": "text/x-python",
   "name": "python",
   "nbconvert_exporter": "python",
   "pygments_lexer": "ipython3",
   "version": "3.8.9"
  },
  "toc": {
   "base_numbering": 1,
   "nav_menu": {},
   "number_sections": true,
   "sideBar": true,
   "skip_h1_title": false,
   "title_cell": "Table of Contents",
   "title_sidebar": "Contents",
   "toc_cell": false,
   "toc_position": {},
   "toc_section_display": "block",
   "toc_window_display": false
  }
 },
 "nbformat": 4,
 "nbformat_minor": 4
}
