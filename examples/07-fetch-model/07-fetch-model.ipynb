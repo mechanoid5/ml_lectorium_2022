{
 "cells": [
  {
   "cell_type": "markdown",
   "metadata": {},
   "source": [
    "**выбор модели**\n",
    "\n",
    "\n",
    "Евгений Борисов esborisov@sevsu.ru"
   ]
  },
  {
   "cell_type": "markdown",
   "metadata": {},
   "source": [
    "---"
   ]
  },
  {
   "cell_type": "markdown",
   "metadata": {},
   "source": [
    "https://scikit-learn.org/stable/modules/generated/sklearn.model_selection.GridSearchCV.html#sklearn.model_selection.GridSearchCV"
   ]
  },
  {
   "cell_type": "code",
   "execution_count": null,
   "metadata": {},
   "outputs": [],
   "source": [
    "# {\n",
    "# 'param_kernel': masked_array(data = ['poly', 'poly', 'rbf', 'rbf'],\n",
    "#                              mask = [False False False False]...)\n",
    "# 'param_gamma': masked_array(data = [-- -- 0.1 0.2],\n",
    "#                             mask = [ True  True False False]...),\n",
    "# 'param_degree': masked_array(data = [2.0 3.0 -- --],\n",
    "#                              mask = [False False  True  True]...),\n",
    "# 'split0_test_score'  : [0.80, 0.70, 0.80, 0.93],\n",
    "# 'split1_test_score'  : [0.82, 0.50, 0.70, 0.78],\n",
    "# 'mean_test_score'    : [0.81, 0.60, 0.75, 0.85],\n",
    "# 'std_test_score'     : [0.01, 0.10, 0.05, 0.08],\n",
    "# 'rank_test_score'    : [2, 4, 3, 1],\n",
    "# 'split0_train_score' : [0.80, 0.92, 0.70, 0.93],\n",
    "# 'split1_train_score' : [0.82, 0.55, 0.70, 0.87],\n",
    "# 'mean_train_score'   : [0.81, 0.74, 0.70, 0.90],\n",
    "# 'std_train_score'    : [0.01, 0.19, 0.00, 0.03],\n",
    "# 'mean_fit_time'      : [0.73, 0.63, 0.43, 0.49],\n",
    "# 'std_fit_time'       : [0.01, 0.02, 0.01, 0.01],\n",
    "# 'mean_score_time'    : [0.01, 0.06, 0.04, 0.04],\n",
    "# 'std_score_time'     : [0.00, 0.00, 0.00, 0.01],\n",
    "# 'params'             : [{'kernel': 'poly', 'degree': 2}, ...],\n",
    "# }"
   ]
  },
  {
   "cell_type": "code",
   "execution_count": 2,
   "metadata": {},
   "outputs": [],
   "source": [
    "from sklearn import svm, datasets\n",
    "from sklearn.model_selection import GridSearchCV"
   ]
  },
  {
   "cell_type": "code",
   "execution_count": 3,
   "metadata": {},
   "outputs": [
    {
     "data": {
      "text/plain": [
       "['mean_fit_time',\n",
       " 'mean_score_time',\n",
       " 'mean_test_score',\n",
       " 'param_C',\n",
       " 'param_kernel',\n",
       " 'params',\n",
       " 'rank_test_score',\n",
       " 'split0_test_score',\n",
       " 'split1_test_score',\n",
       " 'split2_test_score',\n",
       " 'split3_test_score',\n",
       " 'split4_test_score',\n",
       " 'std_fit_time',\n",
       " 'std_score_time',\n",
       " 'std_test_score']"
      ]
     },
     "execution_count": 3,
     "metadata": {},
     "output_type": "execute_result"
    }
   ],
   "source": [
    "iris = datasets.load_iris()\n",
    "parameters = {'kernel':('linear', 'rbf'), 'C':[1, 10]}\n",
    "svc = svm.SVC()\n",
    "clf = GridSearchCV(svc, parameters)\n",
    "clf.fit(iris.data, iris.target)\n",
    "# GridSearchCV(estimator=SVC(), param_grid={'C': [1, 10], 'kernel': ('linear', 'rbf')})\n",
    "sorted(clf.cv_results_.keys())\n",
    "\n",
    "# ['mean_fit_time', 'mean_score_time', 'mean_test_score',...\n",
    "#  'param_C', 'param_kernel', 'params',...\n",
    "#  'rank_test_score', 'split0_test_score',...\n",
    "#  'split2_test_score', ...\n",
    "#  'std_fit_time', 'std_score_time', 'std_test_score']"
   ]
  },
  {
   "cell_type": "code",
   "execution_count": 8,
   "metadata": {},
   "outputs": [
    {
     "name": "stdout",
     "output_type": "stream",
     "text": [
      "{'mean_fit_time': array([0.00235982, 0.00142617, 0.00079298, 0.00063157]),\n",
      " 'mean_score_time': array([0.00109005, 0.00061336, 0.00033998, 0.00029559]),\n",
      " 'mean_test_score': array([0.98      , 0.96666667, 0.97333333, 0.98      ]),\n",
      " 'param_C': masked_array(data=[1, 1, 10, 10],\n",
      "             mask=[False, False, False, False],\n",
      "       fill_value='?',\n",
      "            dtype=object),\n",
      " 'param_kernel': masked_array(data=['linear', 'rbf', 'linear', 'rbf'],\n",
      "             mask=[False, False, False, False],\n",
      "       fill_value='?',\n",
      "            dtype=object),\n",
      " 'params': [{'C': 1, 'kernel': 'linear'},\n",
      "            {'C': 1, 'kernel': 'rbf'},\n",
      "            {'C': 10, 'kernel': 'linear'},\n",
      "            {'C': 10, 'kernel': 'rbf'}],\n",
      " 'rank_test_score': array([1, 4, 3, 1], dtype=int32),\n",
      " 'split0_test_score': array([0.96666667, 0.96666667, 1.        , 0.96666667]),\n",
      " 'split1_test_score': array([1.        , 0.96666667, 1.        , 1.        ]),\n",
      " 'split2_test_score': array([0.96666667, 0.96666667, 0.9       , 0.96666667]),\n",
      " 'split3_test_score': array([0.96666667, 0.93333333, 0.96666667, 0.96666667]),\n",
      " 'split4_test_score': array([1., 1., 1., 1.]),\n",
      " 'std_fit_time': array([2.59250991e-04, 4.56276539e-04, 1.63281813e-04, 4.62888305e-05]),\n",
      " 'std_score_time': array([1.56584930e-04, 7.39081598e-05, 3.13253343e-05, 2.03974863e-05]),\n",
      " 'std_test_score': array([0.01632993, 0.02108185, 0.03887301, 0.01632993])}\n"
     ]
    }
   ],
   "source": [
    "from pprint import pprint\n",
    "pprint({ k:clf.cv_results_[k] for k in clf.cv_results_.keys() })"
   ]
  },
  {
   "cell_type": "code",
   "execution_count": null,
   "metadata": {},
   "outputs": [],
   "source": []
  }
 ],
 "metadata": {
  "kernelspec": {
   "display_name": "Python 3",
   "language": "python",
   "name": "python3"
  },
  "language_info": {
   "codemirror_mode": {
    "name": "ipython",
    "version": 3
   },
   "file_extension": ".py",
   "mimetype": "text/x-python",
   "name": "python",
   "nbconvert_exporter": "python",
   "pygments_lexer": "ipython3",
   "version": "3.8.9"
  },
  "toc": {
   "base_numbering": 1,
   "nav_menu": {},
   "number_sections": true,
   "sideBar": true,
   "skip_h1_title": false,
   "title_cell": "Table of Contents",
   "title_sidebar": "Contents",
   "toc_cell": false,
   "toc_position": {},
   "toc_section_display": "block",
   "toc_window_display": false
  }
 },
 "nbformat": 4,
 "nbformat_minor": 2
}
