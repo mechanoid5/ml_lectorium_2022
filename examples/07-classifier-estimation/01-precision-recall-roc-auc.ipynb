{
 "cells": [
  {
   "cell_type": "markdown",
   "id": "3a80ea26",
   "metadata": {},
   "source": [
    "**оценка классификатора**\n",
    "\n",
    "\n",
    "Евгений Борисов esborisov@sevsu.ru"
   ]
  },
  {
   "cell_type": "code",
   "execution_count": 1,
   "id": "d27b552e",
   "metadata": {},
   "outputs": [],
   "source": [
    "import numpy as np\n",
    "import numpy.random as rng\n",
    "import matplotlib.pyplot as plt"
   ]
  },
  {
   "cell_type": "code",
   "execution_count": 2,
   "id": "377bd220",
   "metadata": {},
   "outputs": [],
   "source": [
    "# генерируем результаты некоторого условного классификатора\n",
    "\n",
    "s0 = rng.normal(loc=-1.5,size=(75,1)) # скор негативных примеров\n",
    "s1 = rng.normal(loc=1.5,size=(34,1)) # скор позитивных примеров\n",
    "s = np.vstack([s0,s1]) # оценка классификатора\n",
    "y = [0]*len(s0)+[1]*len(s1) # разметка датасета"
   ]
  },
  {
   "cell_type": "code",
   "execution_count": 3,
   "id": "aa6fad17",
   "metadata": {},
   "outputs": [
    {
     "data": {
      "text/html": [
       "<div>\n",
       "<style scoped>\n",
       "    .dataframe tbody tr th:only-of-type {\n",
       "        vertical-align: middle;\n",
       "    }\n",
       "\n",
       "    .dataframe tbody tr th {\n",
       "        vertical-align: top;\n",
       "    }\n",
       "\n",
       "    .dataframe thead th {\n",
       "        text-align: right;\n",
       "    }\n",
       "</style>\n",
       "<table border=\"1\" class=\"dataframe\">\n",
       "  <thead>\n",
       "    <tr style=\"text-align: right;\">\n",
       "      <th></th>\n",
       "      <th>36</th>\n",
       "      <th>25</th>\n",
       "      <th>53</th>\n",
       "      <th>26</th>\n",
       "      <th>61</th>\n",
       "      <th>79</th>\n",
       "      <th>82</th>\n",
       "      <th>23</th>\n",
       "      <th>70</th>\n",
       "      <th>14</th>\n",
       "      <th>10</th>\n",
       "      <th>29</th>\n",
       "      <th>65</th>\n",
       "      <th>90</th>\n",
       "    </tr>\n",
       "  </thead>\n",
       "  <tbody>\n",
       "    <tr>\n",
       "      <th>class</th>\n",
       "      <td>0</td>\n",
       "      <td>0</td>\n",
       "      <td>0</td>\n",
       "      <td>0</td>\n",
       "      <td>0</td>\n",
       "      <td>1</td>\n",
       "      <td>1</td>\n",
       "      <td>0</td>\n",
       "      <td>0</td>\n",
       "      <td>0</td>\n",
       "      <td>0</td>\n",
       "      <td>0</td>\n",
       "      <td>0</td>\n",
       "      <td>1</td>\n",
       "    </tr>\n",
       "    <tr>\n",
       "      <th>score</th>\n",
       "      <td>-2.83</td>\n",
       "      <td>0.43</td>\n",
       "      <td>-1.92</td>\n",
       "      <td>-0.31</td>\n",
       "      <td>-2.41</td>\n",
       "      <td>0.65</td>\n",
       "      <td>0.97</td>\n",
       "      <td>-2.05</td>\n",
       "      <td>-1.86</td>\n",
       "      <td>-2.08</td>\n",
       "      <td>-1.65</td>\n",
       "      <td>-2.23</td>\n",
       "      <td>0.4</td>\n",
       "      <td>0.65</td>\n",
       "    </tr>\n",
       "  </tbody>\n",
       "</table>\n",
       "</div>"
      ],
      "text/plain": [
       "         36    25    53    26    61    79    82    23    70    14    10    29  \\\n",
       "class     0     0     0     0     0     1     1     0     0     0     0     0   \n",
       "score -2.83  0.43 -1.92 -0.31 -2.41  0.65  0.97 -2.05 -1.86 -2.08 -1.65 -2.23   \n",
       "\n",
       "        65    90  \n",
       "class    0     1  \n",
       "score  0.4  0.65  "
      ]
     },
     "execution_count": 3,
     "metadata": {},
     "output_type": "execute_result"
    }
   ],
   "source": [
    "import pandas as pd\n",
    "pd.set_option(\"display.precision\", 2)\n",
    "pd.DataFrame({'class':y,'score':s.flatten(),}).sample(14).convert_dtypes().T"
   ]
  },
  {
   "cell_type": "code",
   "execution_count": 4,
   "id": "9a0cfd7e",
   "metadata": {},
   "outputs": [
    {
     "data": {
      "image/png": "[encoded data removed]",
      "text/plain": [
       "<Figure size 432x288 with 1 Axes>"
      ]
     },
     "metadata": {
      "needs_background": "light"
     },
     "output_type": "display_data"
    }
   ],
   "source": [
    "# рисуем ROC\n",
    "from sklearn.metrics import roc_curve\n",
    "from sklearn.metrics import auc\n",
    "\n",
    "fpr, tpr, thresholds = roc_curve( y, s )\n",
    "roc_auc = auc(fpr,tpr)\n",
    "\n",
    "plt.figure()\n",
    "plt.plot(fpr, tpr, color='darkorange', lw=2, label='AUC = %0.2f' % roc_auc)\n",
    "plt.plot([0,1],[0,1], color='navy', lw=1, linestyle='--')\n",
    "plt.xlabel('False Positive Rate')\n",
    "plt.ylabel('True Positive Rate')\n",
    "plt.title('Receiver Operating Characteristic')\n",
    "plt.grid()\n",
    "plt.legend(loc='lower right')\n",
    "plt.show()"
   ]
  },
  {
   "cell_type": "code",
   "execution_count": 5,
   "id": "032fe273",
   "metadata": {},
   "outputs": [
    {
     "data": {
      "text/plain": [
       "0.6072529633645929"
      ]
     },
     "execution_count": 5,
     "metadata": {},
     "output_type": "execute_result"
    }
   ],
   "source": [
    "# оптимальный порого скора \n",
    "#  максимальное количество True Positive при минимальном количестве False Positive\n",
    "optimal_threshold = thresholds[ np.argmax( np.abs(tpr-fpr) )  ]\n",
    "optimal_threshold"
   ]
  },
  {
   "cell_type": "code",
   "execution_count": 6,
   "id": "3ebdb05d",
   "metadata": {},
   "outputs": [
    {
     "data": {
      "image/png": "[encoded data removed]",
      "text/plain": [
       "<Figure size 576x504 with 3 Axes>"
      ]
     },
     "metadata": {
      "needs_background": "light"
     },
     "output_type": "display_data"
    }
   ],
   "source": [
    "# иллюстрация распределения скоров позитивных и негативных примеров \n",
    "# и порогов для определения класса\n",
    "\n",
    "def plot(ax,s0,s1,b,t):\n",
    "    n0 = len(s0)\n",
    "    n1 = len(s1)\n",
    "    ax.set_ylim(.0,.3)\n",
    "    ax.set_yticks([])\n",
    "    ax.scatter(s0,[.1]*n0,marker='.',label='negative score')\n",
    "    ax.scatter(s1,[.2]*n1,marker='.',label='positive score')\n",
    "    ax.plot([b,b],[.0,.3],c='r',linestyle='dashed',linewidth=1,label=t+' threshold')\n",
    "    ax.legend(loc='upper left')\n",
    "\n",
    "fig,(ax0,ax1,ax2) = plt.subplots(3,1,figsize=(8,7),sharex=True)\n",
    "plot(ax0,s0,s1,s1.min(),'max RECALL')\n",
    "plot(ax1,s0,s1,s0.max(),'max PRECISION')\n",
    "plot(ax2,s0,s1,optimal_threshold,'OPTIMAL')\n",
    "\n",
    "ax2.set_xlabel('classificator score')\n",
    "fig.tight_layout()\n",
    "plt.show()"
   ]
  },
  {
   "cell_type": "code",
   "execution_count": 7,
   "id": "840f66f2",
   "metadata": {},
   "outputs": [],
   "source": [
    "r = (s>optimal_threshold).astype(int) # результат классификатора"
   ]
  },
  {
   "cell_type": "code",
   "execution_count": 8,
   "id": "ad889547",
   "metadata": {},
   "outputs": [
    {
     "data": {
      "image/png": "[encoded data removed]",
      "text/plain": [
       "<Figure size 432x288 with 1 Axes>"
      ]
     },
     "metadata": {
      "needs_background": "light"
     },
     "output_type": "display_data"
    }
   ],
   "source": [
    "# матрица ошибок\n",
    "\n",
    "import itertools\n",
    "from sklearn.metrics import confusion_matrix\n",
    "\n",
    "cm = confusion_matrix(y,r)\n",
    "\n",
    "plt.imshow(cm, interpolation='nearest', cmap=plt.cm.Blues)\n",
    "plt.title('Confusion matrix')\n",
    "classes=['neg','pos']\n",
    "tick_marks = np.arange(len(classes))\n",
    "plt.xticks(tick_marks, classes, rotation=45)\n",
    "plt.yticks(tick_marks, classes)\n",
    "\n",
    "thresh = cm.max() / 2.\n",
    "for i, j in itertools.product(range(cm.shape[0]), range(cm.shape[1])):\n",
    "    plt.text(j, i, format(cm[i, j], 'd'),\n",
    "             horizontalalignment=\"center\",\n",
    "             color=\"white\" if cm[i, j] > thresh else \"black\")\n",
    "\n",
    "plt.tight_layout()\n",
    "plt.ylabel('True label')\n",
    "plt.xlabel('Predicted label')\n",
    "plt.show()"
   ]
  },
  {
   "cell_type": "code",
   "execution_count": 9,
   "id": "1a6080c6",
   "metadata": {},
   "outputs": [
    {
     "name": "stdout",
     "output_type": "stream",
     "text": [
      "              precision    recall  f1-score   support\n",
      "\n",
      "           0       0.96      1.00      0.98        75\n",
      "           1       1.00      0.91      0.95        34\n",
      "\n",
      "    accuracy                           0.97       109\n",
      "   macro avg       0.98      0.96      0.97       109\n",
      "weighted avg       0.97      0.97      0.97       109\n",
      "\n"
     ]
    }
   ],
   "source": [
    "from sklearn.metrics import classification_report\n",
    "\n",
    "# таблица метрик качества классификации на тестовом наборе\n",
    "print( classification_report(y,r) )"
   ]
  },
  {
   "cell_type": "code",
   "execution_count": null,
   "id": "c102089f",
   "metadata": {},
   "outputs": [],
   "source": []
  }
 ],
 "metadata": {
  "kernelspec": {
   "display_name": "Python 3",
   "language": "python",
   "name": "python3"
  },
  "language_info": {
   "codemirror_mode": {
    "name": "ipython",
    "version": 3
   },
   "file_extension": ".py",
   "mimetype": "text/x-python",
   "name": "python",
   "nbconvert_exporter": "python",
   "pygments_lexer": "ipython3",
   "version": "3.8.9"
  },
  "toc": {
   "base_numbering": 1,
   "nav_menu": {},
   "number_sections": true,
   "sideBar": true,
   "skip_h1_title": false,
   "title_cell": "Table of Contents",
   "title_sidebar": "Contents",
   "toc_cell": false,
   "toc_position": {
    "height": "calc(100% - 180px)",
    "left": "10px",
    "top": "150px",
    "width": "288.547px"
   },
   "toc_section_display": true,
   "toc_window_display": false
  }
 },
 "nbformat": 4,
 "nbformat_minor": 5
}
