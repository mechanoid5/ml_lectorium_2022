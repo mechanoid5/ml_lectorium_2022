{
 "cells": [
  {
   "cell_type": "code",
   "execution_count": 1,
   "id": "d3cbda8a",
   "metadata": {},
   "outputs": [],
   "source": [
    "# # показывать выдачу всех строк ячейки\n",
    "# from IPython.core.interactiveshell import InteractiveShell\n",
    "# InteractiveShell.ast_node_interactivity = 'all'"
   ]
  },
  {
   "cell_type": "code",
   "execution_count": 2,
   "id": "d27b552e",
   "metadata": {},
   "outputs": [],
   "source": [
    "import numpy as np\n",
    "import numpy.random as rng\n",
    "# import pandas as pd\n",
    "# from tqdm import tqdm\n",
    "\n",
    "# from sklearn.preprocessing import PolynomialFeatures\n",
    "\n",
    "import matplotlib.pyplot as plt"
   ]
  },
  {
   "cell_type": "code",
   "execution_count": 3,
   "id": "82d93322",
   "metadata": {},
   "outputs": [],
   "source": [
    "# tqdm.pandas ()\n",
    "# pd.options.display.float_format = '{:,.2f}'.format"
   ]
  },
  {
   "cell_type": "code",
   "execution_count": 21,
   "id": "3222c59a",
   "metadata": {},
   "outputs": [
    {
     "data": {
      "image/png": "[encoded data removed]",
      "text/plain": [
       "<Figure size 576x144 with 1 Axes>"
      ]
     },
     "metadata": {
      "needs_background": "light"
     },
     "output_type": "display_data"
    }
   ],
   "source": [
    "n=100\n",
    "s0 = rng.normal(loc=-1.5,size=(n,1))\n",
    "s1 = rng.normal(loc=1.5,size=(n,1))\n",
    "b = -.9\n",
    "\n",
    "plt.figure(figsize=(8,2))\n",
    "plt.ylim(.0,.3)\n",
    "plt.scatter(s0,[.1]*n,marker='.',label='negative score')\n",
    "plt.scatter(s1,[.2]*n,marker='.',label='positive score')\n",
    "plt.plot([b,b],[.0,.3],c='r',linestyle='dashed',linewidth=1,label='threshold')\n",
    "plt.yticks([])\n",
    "plt.legend()\n",
    "plt.xlabel('classificator score')\n",
    "# plt.grid()\n",
    "plt.show()"
   ]
  },
  {
   "cell_type": "code",
   "execution_count": null,
   "id": "f4f23b90",
   "metadata": {},
   "outputs": [],
   "source": []
  }
 ],
 "metadata": {
  "kernelspec": {
   "display_name": "Python 3",
   "language": "python",
   "name": "python3"
  },
  "language_info": {
   "codemirror_mode": {
    "name": "ipython",
    "version": 3
   },
   "file_extension": ".py",
   "mimetype": "text/x-python",
   "name": "python",
   "nbconvert_exporter": "python",
   "pygments_lexer": "ipython3",
   "version": "3.8.9"
  },
  "toc": {
   "base_numbering": 1,
   "nav_menu": {},
   "number_sections": true,
   "sideBar": true,
   "skip_h1_title": false,
   "title_cell": "Table of Contents",
   "title_sidebar": "Contents",
   "toc_cell": false,
   "toc_position": {
    "height": "calc(100% - 180px)",
    "left": "10px",
    "top": "150px",
    "width": "288.547px"
   },
   "toc_section_display": true,
   "toc_window_display": false
  }
 },
 "nbformat": 4,
 "nbformat_minor": 5
}
